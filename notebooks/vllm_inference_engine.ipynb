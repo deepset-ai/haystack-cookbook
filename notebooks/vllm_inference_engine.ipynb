{
  "cells": [
    {
      "cell_type": "markdown",
      "metadata": {
        "id": "suC2fpXw7POy"
      },
      "source": [
        "# Use the ⚡ vLLM inference engine with Haystack\n",
        "\n",
        "<img src=\"https://haystack.deepset.ai/images/haystack-ogimage.png\" width=\"430\" style=\"display:inline;\">&nbsp;&nbsp;&nbsp;&nbsp;&nbsp;&nbsp;<img src=\"https://docs.vllm.ai/en/latest/_images/vllm-logo-text-light.png\" width=\"350\" style=\"display:inline;\">\n",
        "\n",
        "*Notebook by [Stefano Fiorucci](https://github.com/anakin87)*\n",
        "\n",
        "This notebook shows how to use the [vLLM inference engine](https://docs.vllm.ai/en/latest/) with Haystack."
      ]
    },
    {
      "cell_type": "markdown",
      "metadata": {
        "id": "t9GskGf6wGgE"
      },
      "source": [
        "## Install vLLM + Haystack\n",
        "\n",
        "- we install vLLM using pip ([docs](https://docs.vllm.ai/en/latest/getting_started/installation.html))\n",
        "- for production use cases, there are many other options, including Docker ([docs](https://docs.vllm.ai/en/latest/serving/deploying_with_docker.html))"
      ]
    },
    {
      "cell_type": "code",
      "execution_count": 12,
      "metadata": {
        "colab": {
          "base_uri": "https://localhost:8080/"
        },
        "id": "46yIpiO_b16C",
        "outputId": "5b451759-19e6-4381-a588-e40face7563c"
      },
      "outputs": [
        {
          "name": "stdout",
          "output_type": "stream",
          "text": [
            "nvcc: NVIDIA (R) Cuda compiler driver\n",
            "Copyright (c) 2005-2023 NVIDIA Corporation\n",
            "Built on Tue_Aug_15_22:02:13_PDT_2023\n",
            "Cuda compilation tools, release 12.2, V12.2.140\n",
            "Build cuda_12.2.r12.2/compiler.33191640_0\n"
          ]
        }
      ],
      "source": [
        "# we check that CUDA is >=12.1 (https://docs.vllm.ai/en/latest/getting_started/installation.html#install-with-pip)\n",
        "! nvcc --version"
      ]
    },
    {
      "cell_type": "code",
      "execution_count": null,
      "metadata": {
        "colab": {
          "base_uri": "https://localhost:8080/"
        },
        "id": "RXZsGS9YbUr-",
        "outputId": "eedf455a-cbe1-477c-b62d-51b832d9e8cc"
      },
      "outputs": [],
      "source": [
        "! pip install vllm haystack-ai"
      ]
    },
    {
      "cell_type": "markdown",
      "metadata": {
        "id": "qt__RIekwTX1"
      },
      "source": [
        "## Run a vLLM OpenAI-compatible server in Colab\n",
        "\n",
        "vLLM can be deployed as a server that implements the OpenAI API protocol. This allows vLLM to be used as a drop-in replacement for applications using OpenAI API. Read more [in the docs](https://docs.vllm.ai/en/latest/getting_started/quickstart.html#openai-compatible-server).\n",
        "\n",
        "In Colab, we start the OpenAI-compatible server using Python.\n",
        "For environments that support Docker, we can run the server using Docker ([docs](https://docs.vllm.ai/en/latest/serving/deploying_with_docker.html)).\n",
        "\n",
        "*Significant parameters:*\n",
        "- **model**: [TheBloke/notus-7B-v1-AWQ](https://huggingface.co/TheBloke/notus-7B-v1-AWQ) is the AWQ quantized version of a good LLM by Argilla. Several model architectures are supported; models are automatically downloaded from Hugging Face as needed. For a comprehensive list of the supported models, see the [docs](https://docs.vllm.ai/en/latest/models/supported_models.html).\n",
        "\n",
        "- **quantization**: awq. AWQ is a quantization method that allows LLMs to run (fast) when GPU resources are limited. [Simple blogpost on quantization techniques](https://www.maartengrootendorst.com/blog/quantization/#awq-activation-aware-weight-quantization)\n",
        "- **max_model_len**: we specify a [maximum context length](https://docs.vllm.ai/en/latest/models/engine_args.html), which consists of the maximum number of tokens (prompt + response). Otherwise, the model does not fit in Colab and we get an OOM error.\n"
      ]
    },
    {
      "cell_type": "code",
      "execution_count": 1,
      "metadata": {
        "colab": {
          "base_uri": "https://localhost:8080/"
        },
        "id": "wqceUZ4yj2IT",
        "outputId": "f94b1e26-42d7-4362-d5f1-d9c6ce0a5968"
      },
      "outputs": [
        {
          "name": "stdout",
          "output_type": "stream",
          "text": [
            "nohup: redirecting stderr to stdout\n"
          ]
        }
      ],
      "source": [
        "# we prepend \"nohup\" and postpend \"&\" to make the Colab cell run in background\n",
        "! nohup python -m vllm.entrypoints.openai.api_server \\\n",
        "                  --model TheBloke/notus-7B-v1-AWQ \\\n",
        "                  --quantization awq \\\n",
        "                  --max-model-len 2048 \\\n",
        "                  > vllm.log &"
      ]
    },
    {
      "cell_type": "code",
      "execution_count": 2,
      "metadata": {
        "colab": {
          "base_uri": "https://localhost:8080/"
        },
        "id": "obZ83mNDp2M3",
        "outputId": "247812a7-ea57-475c-d3b0-817f2d9f0589"
      },
      "outputs": [
        {
          "name": "stdout",
          "output_type": "stream",
          "text": [
            "INFO 02-16 10:57:39 llm_engine.py:72] Initializing an LLM engine with config: model='TheBloke/notus-7B-v1-AWQ', tokenizer='TheBloke/notus-7B-v1-AWQ', tokenizer_mode=auto, revision=None, tokenizer_revision=None, trust_remote_code=False, dtype=torch.float16, max_seq_len=2048, download_dir=None, load_format=auto, tensor_parallel_size=1, disable_custom_all_reduce=False, quantization=awq, enforce_eager=False, kv_cache_dtype=auto, seed=0)\n",
            "INFO 02-16 10:57:43 weight_utils.py:164] Using model weights format ['*.safetensors']\n",
            "INFO 02-16 10:57:43 weight_utils.py:164] Using model weights format ['*.safetensors']\n",
            "INFO 02-16 10:57:55 llm_engine.py:322] # GPU blocks: 4108, # CPU blocks: 2048\n",
            "INFO 02-16 10:57:58 model_runner.py:636] CUDA graphs can take additional 1~3 GiB memory per GPU. If you are running out of memory, consider decreasing `gpu_memory_utilization` or enforcing eager mode. You can also reduce the `max_num_seqs` as needed to decrease memory usage.\n",
            "INFO 02-16 10:57:58 model_runner.py:636] CUDA graphs can take additional 1~3 GiB memory per GPU. If you are running out of memory, consider decreasing `gpu_memory_utilization` or enforcing eager mode. You can also reduce the `max_num_seqs` as needed to decrease memory usage.\n",
            "INFO 02-16 10:57:58 model_runner.py:636] CUDA graphs can take additional 1~3 GiB memory per GPU. If you are running out of memory, consider decreasing `gpu_memory_utilization` or enforcing eager mode. You can also reduce the `max_num_seqs` as needed to decrease memory usage.\n"
          ]
        }
      ],
      "source": [
        "# we check the logs until the server has been started correctly\n",
        "!while ! grep -q \"Application startup complete\" vllm.log; do tail -n 1 vllm.log; sleep 5; done"
      ]
    },
    {
      "cell_type": "markdown",
      "metadata": {
        "id": "MgQbgCcA1jQ6"
      },
      "source": [
        "## Chat with the model using OpenAIChatGenerator\n",
        "\n",
        "Once we have launched the vLLM-compatible OpenAI server,\n",
        "we can simply initialize an `OpenAIChatGenerator` pointing to the vLLM server URL and start chatting!"
      ]
    },
    {
      "cell_type": "code",
      "execution_count": 3,
      "metadata": {
        "id": "ypVbte5DrkWO"
      },
      "outputs": [],
      "source": [
        "from haystack.components.generators.chat import OpenAIChatGenerator\n",
        "from haystack.dataclasses import ChatMessage\n",
        "from haystack.utils import Secret\n",
        "\n",
        "generator = OpenAIChatGenerator(\n",
        "    api_key=Secret.from_token(\"VLLM-PLACEHOLDER-API-KEY\"),  # for compatibility with the OpenAI API, a placeholder api_key is needed\n",
        "    model=\"TheBloke/notus-7B-v1-AWQ\",\n",
        "    api_base_url=\"http://localhost:8000/v1\",\n",
        "    generation_kwargs = {\"max_tokens\": 512}\n",
        ")"
      ]
    },
    {
      "cell_type": "code",
      "execution_count": 17,
      "metadata": {
        "colab": {
          "base_uri": "https://localhost:8080/"
        },
        "id": "45xJjlEoCB7v",
        "outputId": "7f939707-5b25-4d3f-fefc-0368d15f236a"
      },
      "outputs": [
        {
          "name": "stdout",
          "output_type": "stream",
          "text": [
            "Enter your message or Q to exit\n",
            "🧑 hello. can you help planning my next travel to Italy?\n",
            "🤖 Certainly! I'd be happy to help you plan your next trip to Italy. Here are some steps to help you plan your trip:\n",
            "\n",
            "1. Determine your travel dates: Decide when you want to travel to Italy. Keep in mind that peak season is from June to August, so prices may be higher, and crowds may be larger.\n",
            "\n",
            "2. Decide on your destination: Italy is a large country with many beautiful destinations. Consider which cities and regions you would like to visit. Some popular destinations include Rome, Florence, Venice, Amalfi Coast, Tuscany, and the Italian Lakes.\n",
            "\n",
            "3. Research flights and transportation: Look for flights that fit your budget and travel dates. If you're planning on traveling between cities, research trains and buses. Familiarize yourself with the transportation options in your destination cities.\n",
            "\n",
            "4. Consider accommodation: Research different types of accommodations, such as hotels, vacation rentals, or hostels. Look for a place that fits your budget and travel style.\n",
            "\n",
            "5. Plan your itinerary: Make a list of the things you want to see and do in each destination. Consider how much time you want to spend in each location.\n",
            "\n",
            "6. Research tours and activities: Look for tours and activities that interest you. This could include food tours, wine tastings, museum visits, or tours of historic sites.\n",
            "\n",
            "7. Learn some Italian: It's always a good idea to learn some Italian before your trip, even if it's just basic phrases. This will help you communicate with locals and make your trip more enjoyable.\n",
            "\n",
            "8. Pack appropriately: Make sure to pack appropriately for the season and destination. Check the weather forecast before you pack.\n",
            "\n",
            "9. Exchange currency: Research the best place to exchange currency in your destination. Also, check if your bank or credit card offers no-fee withdrawals.\n",
            "\n",
            "10. Purchase travel insurance: Consider purchasing travel insurance to protect yourself in case of unforeseen circumstances, like a cancelled flight or lost luggage.\n",
            "\n",
            "I hope these steps help you plan your next trip to Italy! Let me know if you have any questions or if you need further assistance.\n",
            "Enter your message or Q to exit\n",
            "🧑 Please list 5 places I should absolutely visit\n",
            "🤖 Certainly! Here are 5 places in Italy that I think should be on your must-visit list:\n",
            "\n",
            "1. Rome - The Eternal City is home to ancient ruins like the Colosseum and the Roman Forum, as well as iconic landmarks like the Vatican City, the Pantheon, and the Trevi Fountain. Rome is also known for its delicious food and vibrant nightlife.\n",
            "\n",
            "2. Florence - Known as the birthplace of the Renaissance, Florence is home to incredible art and architecture, including the Uffizi Gallery, the Duomo, and the Palazzo Vecchio. Be sure to try some of Florence's famous gelato while you're there!\n",
            "\n",
            "3. Venice - A city built on water, Venice is known for its canals, palaces, and bridges. Don't miss a gondola ride through the city's canals or a visit to St. Mark's Basilica and the Doge's Palace.\n",
            "\n",
            "4. Amalfi Coast - This scenic coastline is home to charming towns like Positano, Ravello, and Amalfi, as well as stunning cliffs, beaches, and seaside restaurants.\n",
            "\n",
            "5. Cinque Terre - This UNESCO World Heritage Site is a series of five colorful villages on the Italian Riviera. Hike between the villages or take a boat ride to see the beautiful coastline.\n",
            "\n",
            "These are just a few of the many incredible places to visit in Italy, but I hope this helps you start planning your itinerary!\n",
            "Enter your message or Q to exit\n",
            "🧑 Nice! Can you expand the fith point?\n",
            "🤖 Absolutely! The Cinque Terre, which translates to \"Five Lands,\" is a series of five picturesque villages located along the Italian Riviera. The villages are Monterosso al Mare, Vernazza, Corniglia, Manarola, and Riomaggiore. Here are some must-see highlights of each village:\n",
            "\n",
            "1. Monterosso al Mare - This village is the largest of the five, and is known for its long sandy beach, medieval castle ruins, and the Church of San Francesco, which offers stunning views from its bell tower.\n",
            "\n",
            "2. Vernazza - This village is often considered the jewel of the Cinque Terre. Don't miss the stunning views from the top of the castle ruins, and be sure to try some of Vernazza's famous seafood dishes.\n",
            "\n",
            "3. Corniglia - This village is perched on a cliff and can only be reached by foot or by a narrow stairway. Once you reach the top, you can visit the Church of San Lorenzo, which offers stunning views of the sea.\n",
            "\n",
            "4. Manarola - This village is known for its colorful houses that cascade down the cliffs, as well as its ancient church, San Carlo, and the Church of St. Lawrence.\n",
            "\n",
            "5. Riomaggiore - This village is the southernmost of the five and is known for its narrow streets, colorful houses, and seaside restaurants. Don't miss the Church of San Giovanni Battista, which sits at the edge of the village and offers stunning views of the sea.\n",
            "\n",
            "The best way to experience the Cinque Terre is by hiking between the villages along the Sentiero Azzurro (Blue Trail). This hike offers incredible views of the coastline and the villages below. Be sure to check the weather forecast before you go, as the trail can be challenging in rainy or windy conditions.\n",
            "\n",
            "I hope this helps you plan your visit to the stunning Cinque Terre!\n",
            "Enter your message or Q to exit\n",
            "🧑 Q\n"
          ]
        }
      ],
      "source": [
        "messages = []\n",
        "\n",
        "while True:\n",
        "  msg = input(\"Enter your message or Q to exit\\n🧑 \")\n",
        "  if msg==\"Q\":\n",
        "    break\n",
        "  messages.append(ChatMessage.from_user(msg))\n",
        "  response = generator.run(messages=messages)\n",
        "  assistant_resp = response['replies'][0]\n",
        "  print(\"🤖 \"+assistant_resp.text)\n",
        "  messages.append(assistant_resp)"
      ]
    }
  ],
  "metadata": {
    "accelerator": "GPU",
    "colab": {
      "collapsed_sections": [
        "t9GskGf6wGgE"
      ],
      "gpuType": "T4",
      "provenance": []
    },
    "kernelspec": {
      "display_name": "Python 3",
      "name": "python3"
    },
    "language_info": {
      "name": "python"
    }
  },
  "nbformat": 4,
  "nbformat_minor": 0
}
