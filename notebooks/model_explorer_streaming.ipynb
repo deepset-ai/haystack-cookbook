{
  "cells": [
    {
      "cell_type": "markdown",
      "metadata": {
        "id": "T8zE8SbZ0wUz"
      },
      "source": [
        "## Streaming model explorer for Haystack\n",
        "\n",
        "*notebook by Tilde Thurium:\n",
        " [Mastodon](https://tech.lgbt/@annthurium) || [Twitter](https://twitter.com/annthurium) || [LinkedIn](https://www.linkedin.com/in/annthurium/)*\n",
        "\n",
        "*Problem*: there are so many LLMs these days! Which model is the best for my use case?\n",
        "\n",
        "This notebook uses [Haystack](https://docs.haystack.deepset.ai/docs/intro) to compare the results of sending the same prompt to several different models.\n",
        "\n",
        "This is a very basic demo where you can only compare a few models that support streaming responses. I'd like to support more models in the future, so watch this space for updates.\n",
        "\n",
        "\n",
        "### Models\n",
        "\n",
        "Haystack's [OpenAIGenerator](https://docs.haystack.deepset.ai/docs/openaigenerator) and [CohereGenerator](https://docs.haystack.deepset.ai/docs/coheregenerator) support streaming out of the box.\n",
        "\n",
        "The other models use the [HuggingFaceAPIGenerator](https://docs.haystack.deepset.ai/docs/huggingfaceapigenerator).\n",
        "\n",
        "### Prerequisites\n",
        "\n",
        "- You need [HuggingFace](https://huggingface.co/docs/hub/security-tokens), [Cohere](https://docs.cohere.com/docs/connector-authentication), and [OpenAI](https://help.openai.com/en/articles/4936850-where-do-i-find-my-api-key) API keys. Save them as secrets in your Colab. Click on the key icon in the left menu or [see detailed instructions here](https://medium.com/@parthdasawant/how-to-use-secrets-in-google-colab-450c38e3ec75).\n",
        "- To use Mistral-7B-v0.1, you should also accept Mistral conditions here: https://huggingface.co/mistralai/Mistral-7B-v0.1"
      ]
    },
    {
      "cell_type": "code",
      "execution_count": null,
      "metadata": {
        "colab": {
          "base_uri": "https://localhost:8080/"
        },
        "id": "AKjba4xoWzdX",
        "outputId": "6ca3534b-ffa5-4fd7-cb0e-f3a972bcaff4"
      },
      "outputs": [],
      "source": [
        "!pip install -U haystack-ai cohere-haystack \"huggingface_hub>=0.22.0\""
      ]
    },
    {
      "cell_type": "markdown",
      "metadata": {
        "id": "lZWcQd7xvoIp"
      },
      "source": [
        "In order for `userdata.get` to work, these keys need to be saved as secrets in your Colab. Click on the key icon in the left menu or [see detailed instructions here](https://medium.com/@parthdasawant/how-to-use-secrets-in-google-colab-450c38e3ec75)."
      ]
    },
    {
      "cell_type": "code",
      "execution_count": 8,
      "metadata": {
        "colab": {
          "base_uri": "https://localhost:8080/",
          "height": 337,
          "referenced_widgets": [
            "2e10135bc8e9494fac3aab173d4c2078",
            "a522c5d1bd8e49caae0800c9e18d39aa",
            "e481fa1615494e398f175627d7853958",
            "bf9b998e18ec4986a2ac78bd78cd4e7b",
            "7dc3369ca1e448c69981e462ddf018c6",
            "6359d627a68841ddbc363a7f356d2800",
            "8fbf421eab3b4a11b4c3e03dc30b98d5",
            "7102509d75ca4192a091a955f86710a2",
            "8247a42839ea43ba8db840f41eb14af6",
            "b3d85ead0ec6401aaa1b9771ac841687",
            "3abbf4bc3f704903a44b3679af12cc1c",
            "ff93186428c3412a9b88e3452ca4641f",
            "dc335416c2714c109636ce1104d04e78",
            "fdcc70feed0c4bedba4661088d7bc35a",
            "1bad7e451e3045838ed00decb755bcab",
            "db4d9c55f3fd464391766c42cfe9a46d",
            "815aa58d79a8420e90cc8c4931d09a69",
            "e6917b53a5484ebaade18b7c1273eca3",
            "962a8b0e360045b59cbcf30a3ae280b1",
            "7996b171bab842c2bb11db3d5d641956",
            "7ada1f6b6b8c480489333dd8f7d638d9",
            "8256d386740e482197076450fc29f7e5",
            "331026a0809140988ea4b1d680333c0b",
            "de412979dfa74945b1dfc3a9656c227c",
            "521114d351054104996f66e20e92a22a",
            "e5e8034f0afc48d89c48d4ace9f36d60",
            "491b2070c8e4404aab029061a5404428",
            "eb56f17825074741ab515e3532c49cfe",
            "0b900011a59146888ee27a389125d9d2",
            "80bbb90c18fc4ddcbd92ad603b032a5e",
            "3490d5bbde854aea8e566d4dfcde14ff",
            "a0c343d0ce294fa69e5a37d553d6e7b8",
            "5bc7d1547542406b95e0cae0a8d36958",
            "f11d1c4699d74aac9c36627037f7572c",
            "7cb978ba84ec41fe83e50abe8e52760c",
            "ce5ad1bb209e4c38837a2eed0a1d49ea",
            "978a31f14c664792928267235bedc7ab",
            "5f617626bcf24752b96b2a246c4b65d2",
            "44794f7082d24d1889029a9688f29854",
            "5078c4d07ea54c869c2f5b2d9ab8e27d",
            "0e35c7d9624e449bb1dfbb966c1a76d0",
            "03212b24eb3044b2be732359e7156bae",
            "99b4fdc589e941a0872fdf6b4ab9a497",
            "fc0570d0098d445f859ec694477b16bf",
            "10c123cfa15b44daa699aa2734440616",
            "b5d51cd8a50f4f4cb9068bc9188d599a",
            "d79f07c11bb8422eb1392ad29007f2d2",
            "48310d20da0e4e778b0d4d7dbda0c6a0",
            "4b0e811882de4bffa1da49b5ed498376",
            "e3b8e44a48f5453999f139075a8d3787",
            "112afd67581a44d795243c2260c8fb74",
            "4b99747fdf2746658bb86ce98ab25e1d",
            "85c7ef514fab4f09956b97fbc2deb391",
            "8e0e39185bea4af39aa930a3752df9aa",
            "cb15eb5ba16046f7b1bcbacd559de513",
            "09593eee10394f81ac031b77dbc72748",
            "bdcee6c5ba504c04881c34eb95d168a2",
            "b62310f725b74829ad02e5ec553ca2f2",
            "ddee9f4520cf44cf9931c95198a8ef0f",
            "4b0e2d3b24564b7390a4c9e9faba2727",
            "0d16352a156147578ec91cf5d0b7a2e4",
            "13063b52a1204abd8c91b2fa9d03b2fb",
            "989f73109ac4465faa126f0971d95600",
            "5a48a28a1f604dce9035322d92893ded",
            "8270ee28471949efbbda6723aa7aaf34",
            "e2c0c47a44cd485fb70f9d5daf79ac2f",
            "88cef145e1a940ce826518c040fac414",
            "28585ecc3ec741109a4644c2c0388c6e",
            "bc550e75b67e460dae22b24a4b63c334",
            "0b8328c37dc54284a97d6884641384f9",
            "845847e8aa4749e3950d89b65f12ca47",
            "f75cc063718640fa8bfff81e0284025f",
            "7122fe13a5124759b59842c9d6436a0e",
            "130c8a2aa0234203a1554336e1e8657b",
            "eae143ac81384ed88b02ec603ef8d97e",
            "378357e232014fbda8ad35eb6773f82e",
            "f7c4efbc37a842128a451adeebf76fcd",
            "8ca51f53d0b247b4ba9a27d617866ac0",
            "b460c8004db8474d954b799eb4508b46",
            "5f6d260e36b54e5eb53878f991da3435",
            "b7d8c72b754642d7a9759e9fc0804386",
            "edd6352483fb4c79b602dc02a27de77f",
            "36de93a7183b4ffe83d065a2265bdcb1",
            "6c3b4fd6eef345d6a81019e599bc6a82",
            "a6c6d445609b43b6a904c80accfdacbe",
            "77522a182e9c4408a68b011d2b69a311",
            "fcc10fc0f5234b8792c904b8d7896317",
            "a636c93c67d6483bacdc64a2749476a7",
            "0d1a5b74ba8444bface089e86f4eec7b",
            "34b1dd13bd1e478d999cd89ebc397316",
            "c11c346d5a5c44fc8383acfffff893e5",
            "a662e816583c46fa8441616ac2ce0eb8",
            "8f7a87db386547bfafc60c82966f93d7",
            "41c95bd3766140b9af6949b596999413",
            "93584f6a311f4795bf84f6ff2398b78b",
            "7f5ca9aee0354ff3806c4cc8b94d8f4a",
            "74e95fa99c40412a84ff636d54a3433f",
            "f59931950d3c44fbbdcc09a14e70c9f6",
            "f705472b7a0c4e249f89608d7aaaa100",
            "f3d638dee8bc45f4a1b143fe92a76e04",
            "5ddfd095212b4b6983c5090d74ced482",
            "6a63a02666d14be7b3f931113c5af21a",
            "7d7c58f40a57445eb25097259ec7ae63",
            "e53992b679904d86a0d771fc1cdd81f0",
            "b1f2e890c1314e1ea3633e634fb56a7f",
            "fa175478d3a64aa09f103f7e0b5853c8",
            "1cb0a448fe4d4b5b89d33ef3fa425d8e",
            "3f6b1af8626849b99a83a6bab131de04",
            "1b4b2634dc42426a8a066e01be061e05",
            "d5513a59e3d748358d06910331008cc4"
          ]
        },
        "id": "XWsAANJxXLaH",
        "outputId": "508d0343-417c-4b18-b864-70648467f005"
      },
      "outputs": [
        {
          "data": {
            "application/vnd.jupyter.widget-view+json": {
              "model_id": "2e10135bc8e9494fac3aab173d4c2078",
              "version_major": 2,
              "version_minor": 0
            },
            "text/plain": [
              "tokenizer_config.json:   0%|          | 0.00/967 [00:00<?, ?B/s]"
            ]
          },
          "metadata": {},
          "output_type": "display_data"
        },
        {
          "data": {
            "application/vnd.jupyter.widget-view+json": {
              "model_id": "ff93186428c3412a9b88e3452ca4641f",
              "version_major": 2,
              "version_minor": 0
            },
            "text/plain": [
              "tokenizer.model:   0%|          | 0.00/493k [00:00<?, ?B/s]"
            ]
          },
          "metadata": {},
          "output_type": "display_data"
        },
        {
          "data": {
            "application/vnd.jupyter.widget-view+json": {
              "model_id": "331026a0809140988ea4b1d680333c0b",
              "version_major": 2,
              "version_minor": 0
            },
            "text/plain": [
              "tokenizer.json:   0%|          | 0.00/1.80M [00:00<?, ?B/s]"
            ]
          },
          "metadata": {},
          "output_type": "display_data"
        },
        {
          "data": {
            "application/vnd.jupyter.widget-view+json": {
              "model_id": "f11d1c4699d74aac9c36627037f7572c",
              "version_major": 2,
              "version_minor": 0
            },
            "text/plain": [
              "special_tokens_map.json:   0%|          | 0.00/72.0 [00:00<?, ?B/s]"
            ]
          },
          "metadata": {},
          "output_type": "display_data"
        },
        {
          "data": {
            "application/vnd.jupyter.widget-view+json": {
              "model_id": "10c123cfa15b44daa699aa2734440616",
              "version_major": 2,
              "version_minor": 0
            },
            "text/plain": [
              "tokenizer_config.json:   0%|          | 0.00/287 [00:00<?, ?B/s]"
            ]
          },
          "metadata": {},
          "output_type": "display_data"
        },
        {
          "data": {
            "application/vnd.jupyter.widget-view+json": {
              "model_id": "09593eee10394f81ac031b77dbc72748",
              "version_major": 2,
              "version_minor": 0
            },
            "text/plain": [
              "tokenizer.json:   0%|          | 0.00/2.73M [00:00<?, ?B/s]"
            ]
          },
          "metadata": {},
          "output_type": "display_data"
        },
        {
          "data": {
            "application/vnd.jupyter.widget-view+json": {
              "model_id": "88cef145e1a940ce826518c040fac414",
              "version_major": 2,
              "version_minor": 0
            },
            "text/plain": [
              "special_tokens_map.json:   0%|          | 0.00/281 [00:00<?, ?B/s]"
            ]
          },
          "metadata": {},
          "output_type": "display_data"
        },
        {
          "data": {
            "application/vnd.jupyter.widget-view+json": {
              "model_id": "8ca51f53d0b247b4ba9a27d617866ac0",
              "version_major": 2,
              "version_minor": 0
            },
            "text/plain": [
              "tokenizer_config.json:   0%|          | 0.00/222 [00:00<?, ?B/s]"
            ]
          },
          "metadata": {},
          "output_type": "display_data"
        },
        {
          "data": {
            "application/vnd.jupyter.widget-view+json": {
              "model_id": "0d1a5b74ba8444bface089e86f4eec7b",
              "version_major": 2,
              "version_minor": 0
            },
            "text/plain": [
              "tokenizer.json:   0%|          | 0.00/14.5M [00:00<?, ?B/s]"
            ]
          },
          "metadata": {},
          "output_type": "display_data"
        },
        {
          "data": {
            "application/vnd.jupyter.widget-view+json": {
              "model_id": "f3d638dee8bc45f4a1b143fe92a76e04",
              "version_major": 2,
              "version_minor": 0
            },
            "text/plain": [
              "special_tokens_map.json:   0%|          | 0.00/85.0 [00:00<?, ?B/s]"
            ]
          },
          "metadata": {},
          "output_type": "display_data"
        }
      ],
      "source": [
        "from haystack.components.builders.prompt_builder import PromptBuilder\n",
        "from haystack.components.generators import OpenAIGenerator\n",
        "from haystack_integrations.components.generators.cohere import CohereGenerator\n",
        "from haystack.components.generators import HuggingFaceAPIGenerator\n",
        "from haystack.utils import Secret\n",
        "from google.colab import userdata\n",
        "\n",
        "open_ai_generator = OpenAIGenerator(api_key=Secret.from_token(userdata.get('OPENAI_API_KEY')))\n",
        "\n",
        "cohere_generator = CohereGenerator(api_key=Secret.from_token(userdata.get('COHERE_API_KEY')))\n",
        "\n",
        "hf_generator = HuggingFaceAPIGenerator(\n",
        "    api_type=\"serverless_inference_api\",\n",
        "    api_params={\"model\": \"mistralai/Mistral-7B-Instruct-v0.1\"},\n",
        "    token=Secret.from_token(userdata.get('HF_API_KEY')))\n",
        "\n",
        "\n",
        "hf_generator_2 = HuggingFaceAPIGenerator(\n",
        "    api_type=\"serverless_inference_api\",\n",
        "    api_params={\"model\": \"tiiuae/falcon-7b-instruct\"},\n",
        "    token=Secret.from_token(userdata.get('HF_API_KEY')))\n",
        "\n",
        "\n",
        "hf_generator_3 = HuggingFaceAPIGenerator(\n",
        "    api_type=\"serverless_inference_api\",\n",
        "    api_params={\"model\": \"bigscience/bloom\"},\n",
        "    token=Secret.from_token(userdata.get('HF_API_KEY')))"
      ]
    },
    {
      "cell_type": "code",
      "execution_count": 16,
      "metadata": {
        "id": "9_xznJXWe1M8"
      },
      "outputs": [],
      "source": [
        "MODELS = [open_ai_generator, cohere_generator, hf_generator, hf_generator_2, hf_generator_3]"
      ]
    },
    {
      "cell_type": "markdown",
      "metadata": {
        "id": "zZsKIVCQ5mJ1"
      },
      "source": [
        "The `AppendToken` dataclass formats the output so that the model name is printed, and the text follows in chunks of 5 tokens."
      ]
    },
    {
      "cell_type": "code",
      "execution_count": 19,
      "metadata": {
        "id": "g1wwjOJVejJF"
      },
      "outputs": [],
      "source": [
        "from dataclasses import dataclass\n",
        "import ipywidgets as widgets\n",
        "\n",
        "def output():...\n",
        "\n",
        "@dataclass\n",
        "class AppendToken:\n",
        "  output: widgets.Output\n",
        "  chunks = []\n",
        "  chunk_size = 5\n",
        "\n",
        "  def __call__(self, chunk):\n",
        "      with self.output:\n",
        "        text = getattr(chunk, 'content', '')\n",
        "        self.chunks.append(text)\n",
        "        if len(self.chunks) == self.chunk_size:\n",
        "          output_string = ' '.join(self.chunks)\n",
        "          self.output.append_display_data(output_string)\n",
        "          self.chunks.clear()\n",
        "\n",
        "def multiprompt(prompt, models=MODELS):\n",
        "  outputs = [widgets.Output(layout={'border': '1px solid black'}) for _ in models]\n",
        "  display(widgets.HBox(children=outputs))\n",
        "\n",
        "  for i, model in enumerate(models):\n",
        "    model_name = getattr(model, 'model', '')\n",
        "    outputs[i].append_display_data(f'Model name: {model_name}')\n",
        "    model.streaming_callback = AppendToken(outputs[i])\n",
        "    model.run(prompt)\n"
      ]
    },
    {
      "cell_type": "code",
      "execution_count": 20,
      "metadata": {
        "colab": {
          "base_uri": "https://localhost:8080/",
          "height": 1000,
          "referenced_widgets": [
            "35ebe0b3e2a1419cb5452b7b69662927",
            "178875466d004edb9134a1c96cbe4e79",
            "2dfdda7cb1f749d289695a2fa28c859b",
            "80564696d1a24476bf2948fe329d838e",
            "3e0d66ba5ae64c66a07d4a7bcb661449",
            "f0eefc3ebf9d42fdaf1becb2fc38e420",
            "1d75c21aae47449f879936ee9b1372ff",
            "ebbb5a89069f4f4a9e96df8e77a80a72",
            "4101c6be4549498cae703928d38225bf",
            "ea5cf56989064a139fe9061be34a5aa0",
            "07b7c04ba6bc48baa2c52364d4f7f837",
            "af4d0052c0fe4ff194a7fac28386d1c5"
          ]
        },
        "id": "O0CSf3f2gLfe",
        "outputId": "50fdb860-5512-4520-e070-00682cb3432f"
      },
      "outputs": [
        {
          "data": {
            "application/vnd.jupyter.widget-view+json": {
              "model_id": "35ebe0b3e2a1419cb5452b7b69662927",
              "version_major": 2,
              "version_minor": 0
            },
            "text/plain": [
              "HBox(children=(Output(layout=Layout(border='1px solid black')), Output(layout=Layout(border='1px solid black')…"
            ]
          },
          "metadata": {},
          "output_type": "display_data"
        }
      ],
      "source": [
        "multiprompt(\"Tell me a cyberpunk story about a black cat.\")"
      ]
    },
    {
      "cell_type": "markdown",
      "metadata": {
        "id": "t2IUAyLyOfeO"
      },
      "source": [
        "This was a very silly example prompt. If you found this demo useful, let me know the kinds of prompts you tested it with!\n",
        "\n",
        " [Mastodon](https://tech.lgbt/@annthurium) || [Twitter](https://twitter.com/annthurium) || [LinkedIn](https://www.linkedin.com/in/annthurium/)\n",
        "\n",
        "Thanks for following along."
      ]
    }
  ],
  "metadata": {
    "accelerator": "GPU",
    "colab": {
      "gpuType": "T4",
      "provenance": []
    },
    "kernelspec": {
      "display_name": "Python 3",
      "name": "python3"
    },
    "language_info": {
      "name": "python"
    },
    "widgets": {
      "application/vnd.jupyter.widget-state+json": {
        "03212b24eb3044b2be732359e7156bae": {
          "model_module": "@jupyter-widgets/controls",
          "model_module_version": "1.5.0",
          "model_name": "ProgressStyleModel",
          "state": {
            "_model_module": "@jupyter-widgets/controls",
            "_model_module_version": "1.5.0",
            "_model_name": "ProgressStyleModel",
            "_view_count": null,
            "_view_module": "@jupyter-widgets/base",
            "_view_module_version": "1.2.0",
            "_view_name": "StyleView",
            "bar_color": null,
            "description_width": ""
          }
        },
        "07b7c04ba6bc48baa2c52364d4f7f837": {
          "model_module": "@jupyter-widgets/base",
          "model_module_version": "1.2.0",
          "model_name": "LayoutModel",
          "state": {
            "_model_module": "@jupyter-widgets/base",
            "_model_module_version": "1.2.0",
            "_model_name": "LayoutModel",
            "_view_count": null,
            "_view_module": "@jupyter-widgets/base",
            "_view_module_version": "1.2.0",
            "_view_name": "LayoutView",
            "align_content": null,
            "align_items": null,
            "align_self": null,
            "border": "1px solid black",
            "bottom": null,
            "display": null,
            "flex": null,
            "flex_flow": null,
            "grid_area": null,
            "grid_auto_columns": null,
            "grid_auto_flow": null,
            "grid_auto_rows": null,
            "grid_column": null,
            "grid_gap": null,
            "grid_row": null,
            "grid_template_areas": null,
            "grid_template_columns": null,
            "grid_template_rows": null,
            "height": null,
            "justify_content": null,
            "justify_items": null,
            "left": null,
            "margin": null,
            "max_height": null,
            "max_width": null,
            "min_height": null,
            "min_width": null,
            "object_fit": null,
            "object_position": null,
            "order": null,
            "overflow": null,
            "overflow_x": null,
            "overflow_y": null,
            "padding": null,
            "right": null,
            "top": null,
            "visibility": null,
            "width": null
          }
        },
        "09593eee10394f81ac031b77dbc72748": {
          "model_module": "@jupyter-widgets/controls",
          "model_module_version": "1.5.0",
          "model_name": "HBoxModel",
          "state": {
            "_dom_classes": [],
            "_model_module": "@jupyter-widgets/controls",
            "_model_module_version": "1.5.0",
            "_model_name": "HBoxModel",
            "_view_count": null,
            "_view_module": "@jupyter-widgets/controls",
            "_view_module_version": "1.5.0",
            "_view_name": "HBoxView",
            "box_style": "",
            "children": [
              "IPY_MODEL_bdcee6c5ba504c04881c34eb95d168a2",
              "IPY_MODEL_b62310f725b74829ad02e5ec553ca2f2",
              "IPY_MODEL_ddee9f4520cf44cf9931c95198a8ef0f"
            ],
            "layout": "IPY_MODEL_4b0e2d3b24564b7390a4c9e9faba2727"
          }
        },
        "0b8328c37dc54284a97d6884641384f9": {
          "model_module": "@jupyter-widgets/controls",
          "model_module_version": "1.5.0",
          "model_name": "HTMLModel",
          "state": {
            "_dom_classes": [],
            "_model_module": "@jupyter-widgets/controls",
            "_model_module_version": "1.5.0",
            "_model_name": "HTMLModel",
            "_view_count": null,
            "_view_module": "@jupyter-widgets/controls",
            "_view_module_version": "1.5.0",
            "_view_name": "HTMLView",
            "description": "",
            "description_tooltip": null,
            "layout": "IPY_MODEL_378357e232014fbda8ad35eb6773f82e",
            "placeholder": "​",
            "style": "IPY_MODEL_f7c4efbc37a842128a451adeebf76fcd",
            "value": " 281/281 [00:00&lt;00:00, 8.66kB/s]"
          }
        },
        "0b900011a59146888ee27a389125d9d2": {
          "model_module": "@jupyter-widgets/controls",
          "model_module_version": "1.5.0",
          "model_name": "DescriptionStyleModel",
          "state": {
            "_model_module": "@jupyter-widgets/controls",
            "_model_module_version": "1.5.0",
            "_model_name": "DescriptionStyleModel",
            "_view_count": null,
            "_view_module": "@jupyter-widgets/base",
            "_view_module_version": "1.2.0",
            "_view_name": "StyleView",
            "description_width": ""
          }
        },
        "0d16352a156147578ec91cf5d0b7a2e4": {
          "model_module": "@jupyter-widgets/base",
          "model_module_version": "1.2.0",
          "model_name": "LayoutModel",
          "state": {
            "_model_module": "@jupyter-widgets/base",
            "_model_module_version": "1.2.0",
            "_model_name": "LayoutModel",
            "_view_count": null,
            "_view_module": "@jupyter-widgets/base",
            "_view_module_version": "1.2.0",
            "_view_name": "LayoutView",
            "align_content": null,
            "align_items": null,
            "align_self": null,
            "border": null,
            "bottom": null,
            "display": null,
            "flex": null,
            "flex_flow": null,
            "grid_area": null,
            "grid_auto_columns": null,
            "grid_auto_flow": null,
            "grid_auto_rows": null,
            "grid_column": null,
            "grid_gap": null,
            "grid_row": null,
            "grid_template_areas": null,
            "grid_template_columns": null,
            "grid_template_rows": null,
            "height": null,
            "justify_content": null,
            "justify_items": null,
            "left": null,
            "margin": null,
            "max_height": null,
            "max_width": null,
            "min_height": null,
            "min_width": null,
            "object_fit": null,
            "object_position": null,
            "order": null,
            "overflow": null,
            "overflow_x": null,
            "overflow_y": null,
            "padding": null,
            "right": null,
            "top": null,
            "visibility": null,
            "width": null
          }
        },
        "0d1a5b74ba8444bface089e86f4eec7b": {
          "model_module": "@jupyter-widgets/controls",
          "model_module_version": "1.5.0",
          "model_name": "HBoxModel",
          "state": {
            "_dom_classes": [],
            "_model_module": "@jupyter-widgets/controls",
            "_model_module_version": "1.5.0",
            "_model_name": "HBoxModel",
            "_view_count": null,
            "_view_module": "@jupyter-widgets/controls",
            "_view_module_version": "1.5.0",
            "_view_name": "HBoxView",
            "box_style": "",
            "children": [
              "IPY_MODEL_34b1dd13bd1e478d999cd89ebc397316",
              "IPY_MODEL_c11c346d5a5c44fc8383acfffff893e5",
              "IPY_MODEL_a662e816583c46fa8441616ac2ce0eb8"
            ],
            "layout": "IPY_MODEL_8f7a87db386547bfafc60c82966f93d7"
          }
        },
        "0e35c7d9624e449bb1dfbb966c1a76d0": {
          "model_module": "@jupyter-widgets/base",
          "model_module_version": "1.2.0",
          "model_name": "LayoutModel",
          "state": {
            "_model_module": "@jupyter-widgets/base",
            "_model_module_version": "1.2.0",
            "_model_name": "LayoutModel",
            "_view_count": null,
            "_view_module": "@jupyter-widgets/base",
            "_view_module_version": "1.2.0",
            "_view_name": "LayoutView",
            "align_content": null,
            "align_items": null,
            "align_self": null,
            "border": null,
            "bottom": null,
            "display": null,
            "flex": null,
            "flex_flow": null,
            "grid_area": null,
            "grid_auto_columns": null,
            "grid_auto_flow": null,
            "grid_auto_rows": null,
            "grid_column": null,
            "grid_gap": null,
            "grid_row": null,
            "grid_template_areas": null,
            "grid_template_columns": null,
            "grid_template_rows": null,
            "height": null,
            "justify_content": null,
            "justify_items": null,
            "left": null,
            "margin": null,
            "max_height": null,
            "max_width": null,
            "min_height": null,
            "min_width": null,
            "object_fit": null,
            "object_position": null,
            "order": null,
            "overflow": null,
            "overflow_x": null,
            "overflow_y": null,
            "padding": null,
            "right": null,
            "top": null,
            "visibility": null,
            "width": null
          }
        },
        "10c123cfa15b44daa699aa2734440616": {
          "model_module": "@jupyter-widgets/controls",
          "model_module_version": "1.5.0",
          "model_name": "HBoxModel",
          "state": {
            "_dom_classes": [],
            "_model_module": "@jupyter-widgets/controls",
            "_model_module_version": "1.5.0",
            "_model_name": "HBoxModel",
            "_view_count": null,
            "_view_module": "@jupyter-widgets/controls",
            "_view_module_version": "1.5.0",
            "_view_name": "HBoxView",
            "box_style": "",
            "children": [
              "IPY_MODEL_b5d51cd8a50f4f4cb9068bc9188d599a",
              "IPY_MODEL_d79f07c11bb8422eb1392ad29007f2d2",
              "IPY_MODEL_48310d20da0e4e778b0d4d7dbda0c6a0"
            ],
            "layout": "IPY_MODEL_4b0e811882de4bffa1da49b5ed498376"
          }
        },
        "112afd67581a44d795243c2260c8fb74": {
          "model_module": "@jupyter-widgets/controls",
          "model_module_version": "1.5.0",
          "model_name": "DescriptionStyleModel",
          "state": {
            "_model_module": "@jupyter-widgets/controls",
            "_model_module_version": "1.5.0",
            "_model_name": "DescriptionStyleModel",
            "_view_count": null,
            "_view_module": "@jupyter-widgets/base",
            "_view_module_version": "1.2.0",
            "_view_name": "StyleView",
            "description_width": ""
          }
        },
        "13063b52a1204abd8c91b2fa9d03b2fb": {
          "model_module": "@jupyter-widgets/controls",
          "model_module_version": "1.5.0",
          "model_name": "DescriptionStyleModel",
          "state": {
            "_model_module": "@jupyter-widgets/controls",
            "_model_module_version": "1.5.0",
            "_model_name": "DescriptionStyleModel",
            "_view_count": null,
            "_view_module": "@jupyter-widgets/base",
            "_view_module_version": "1.2.0",
            "_view_name": "StyleView",
            "description_width": ""
          }
        },
        "130c8a2aa0234203a1554336e1e8657b": {
          "model_module": "@jupyter-widgets/base",
          "model_module_version": "1.2.0",
          "model_name": "LayoutModel",
          "state": {
            "_model_module": "@jupyter-widgets/base",
            "_model_module_version": "1.2.0",
            "_model_name": "LayoutModel",
            "_view_count": null,
            "_view_module": "@jupyter-widgets/base",
            "_view_module_version": "1.2.0",
            "_view_name": "LayoutView",
            "align_content": null,
            "align_items": null,
            "align_self": null,
            "border": null,
            "bottom": null,
            "display": null,
            "flex": null,
            "flex_flow": null,
            "grid_area": null,
            "grid_auto_columns": null,
            "grid_auto_flow": null,
            "grid_auto_rows": null,
            "grid_column": null,
            "grid_gap": null,
            "grid_row": null,
            "grid_template_areas": null,
            "grid_template_columns": null,
            "grid_template_rows": null,
            "height": null,
            "justify_content": null,
            "justify_items": null,
            "left": null,
            "margin": null,
            "max_height": null,
            "max_width": null,
            "min_height": null,
            "min_width": null,
            "object_fit": null,
            "object_position": null,
            "order": null,
            "overflow": null,
            "overflow_x": null,
            "overflow_y": null,
            "padding": null,
            "right": null,
            "top": null,
            "visibility": null,
            "width": null
          }
        },
        "178875466d004edb9134a1c96cbe4e79": {
          "model_module": "@jupyter-widgets/output",
          "model_module_version": "1.0.0",
          "model_name": "OutputModel",
          "state": {
            "_dom_classes": [],
            "_model_module": "@jupyter-widgets/output",
            "_model_module_version": "1.0.0",
            "_model_name": "OutputModel",
            "_view_count": null,
            "_view_module": "@jupyter-widgets/output",
            "_view_module_version": "1.0.0",
            "_view_name": "OutputView",
            "layout": "IPY_MODEL_ebbb5a89069f4f4a9e96df8e77a80a72",
            "msg_id": "",
            "outputs": [
              {
                "data": {
                  "application/vnd.google.colaboratory.intrinsic+json": {
                    "type": "string"
                  },
                  "text/plain": "'Model name: gpt-4o-mini'"
                },
                "metadata": {},
                "output_type": "display_data"
              },
              {
                "data": {
                  "application/vnd.google.colaboratory.intrinsic+json": {
                    "type": "string"
                  },
                  "text/plain": "' In  the  sprawling  neon'"
                },
                "metadata": {},
                "output_type": "display_data"
              },
              {
                "data": {
                  "application/vnd.google.colaboratory.intrinsic+json": {
                    "type": "string"
                  },
                  "text/plain": "'-l it  met ropolis  of'"
                },
                "metadata": {},
                "output_type": "display_data"
              },
              {
                "data": {
                  "application/vnd.google.colaboratory.intrinsic+json": {
                    "type": "string"
                  },
                  "text/plain": "' New  E lys ium ,'"
                },
                "metadata": {},
                "output_type": "display_data"
              },
              {
                "data": {
                  "application/vnd.google.colaboratory.intrinsic+json": {
                    "type": "string"
                  },
                  "text/plain": "' where  towering  mega -c orpor'"
                },
                "metadata": {},
                "output_type": "display_data"
              },
              {
                "data": {
                  "application/vnd.google.colaboratory.intrinsic+json": {
                    "type": "string"
                  },
                  "text/plain": "'ations  hold  power  over  every'"
                },
                "metadata": {},
                "output_type": "display_data"
              },
              {
                "data": {
                  "application/vnd.google.colaboratory.intrinsic+json": {
                    "type": "string"
                  },
                  "text/plain": "' facet  of  life ,  a'"
                },
                "metadata": {},
                "output_type": "display_data"
              },
              {
                "data": {
                  "application/vnd.google.colaboratory.intrinsic+json": {
                    "type": "string"
                  },
                  "text/plain": "' lone  figure  prow ls  the'"
                },
                "metadata": {},
                "output_type": "display_data"
              },
              {
                "data": {
                  "application/vnd.google.colaboratory.intrinsic+json": {
                    "type": "string"
                  },
                  "text/plain": "' dark  alley ways  with  silent'"
                },
                "metadata": {},
                "output_type": "display_data"
              },
              {
                "data": {
                  "application/vnd.google.colaboratory.intrinsic+json": {
                    "type": "string"
                  },
                  "text/plain": "' grace .  Hidden  in  the'"
                },
                "metadata": {},
                "output_type": "display_data"
              },
              {
                "data": {
                  "application/vnd.google.colaboratory.intrinsic+json": {
                    "type": "string"
                  },
                  "text/plain": "' shadows ,  a  mysterious  black'"
                },
                "metadata": {},
                "output_type": "display_data"
              },
              {
                "data": {
                  "application/vnd.google.colaboratory.intrinsic+json": {
                    "type": "string"
                  },
                  "text/plain": "' cat ,  known  only  as'"
                },
                "metadata": {},
                "output_type": "display_data"
              },
              {
                "data": {
                  "application/vnd.google.colaboratory.intrinsic+json": {
                    "type": "string"
                  },
                  "text/plain": "' Midnight ,  da unt lessly'"
                },
                "metadata": {},
                "output_type": "display_data"
              },
              {
                "data": {
                  "application/vnd.google.colaboratory.intrinsic+json": {
                    "type": "string"
                  },
                  "text/plain": "' navig ates  the  dangerous  streets'"
                },
                "metadata": {},
                "output_type": "display_data"
              },
              {
                "data": {
                  "application/vnd.google.colaboratory.intrinsic+json": {
                    "type": "string"
                  },
                  "text/plain": "',  a  legend  whispered  amongst'"
                },
                "metadata": {},
                "output_type": "display_data"
              },
              {
                "data": {
                  "application/vnd.google.colaboratory.intrinsic+json": {
                    "type": "string"
                  },
                  "text/plain": "\" the  city 's  inhabitants .\\n\\n\""
                },
                "metadata": {},
                "output_type": "display_data"
              },
              {
                "data": {
                  "application/vnd.google.colaboratory.intrinsic+json": {
                    "type": "string"
                  },
                  "text/plain": "'Mid night ,  a  cyber'"
                },
                "metadata": {},
                "output_type": "display_data"
              },
              {
                "data": {
                  "application/vnd.google.colaboratory.intrinsic+json": {
                    "type": "string"
                  },
                  "text/plain": "'net ic  f eline  prototype'"
                },
                "metadata": {},
                "output_type": "display_data"
              },
              {
                "data": {
                  "application/vnd.google.colaboratory.intrinsic+json": {
                    "type": "string"
                  },
                  "text/plain": "' created  by  a  secret  underground'"
                },
                "metadata": {},
                "output_type": "display_data"
              },
              {
                "data": {
                  "application/vnd.google.colaboratory.intrinsic+json": {
                    "type": "string"
                  },
                  "text/plain": "' resistance ,  possesses  extraordinary  abilities'"
                },
                "metadata": {},
                "output_type": "display_data"
              },
              {
                "data": {
                  "application/vnd.google.colaboratory.intrinsic+json": {
                    "type": "string"
                  },
                  "text/plain": "' far  beyond  the  realm  of'"
                },
                "metadata": {},
                "output_type": "display_data"
              },
              {
                "data": {
                  "application/vnd.google.colaboratory.intrinsic+json": {
                    "type": "string"
                  },
                  "text/plain": "' ordinary  f elines .  His'"
                },
                "metadata": {},
                "output_type": "display_data"
              },
              {
                "data": {
                  "application/vnd.google.colaboratory.intrinsic+json": {
                    "type": "string"
                  },
                  "text/plain": "' sleek  ebony  fur  conce als'"
                },
                "metadata": {},
                "output_type": "display_data"
              },
              {
                "data": {
                  "application/vnd.google.colaboratory.intrinsic+json": {
                    "type": "string"
                  },
                  "text/plain": "' a  marvel  of  cyber net'"
                },
                "metadata": {},
                "output_type": "display_data"
              },
              {
                "data": {
                  "application/vnd.google.colaboratory.intrinsic+json": {
                    "type": "string"
                  },
                  "text/plain": "'ic  enhancements ,  granting  him'"
                },
                "metadata": {},
                "output_type": "display_data"
              },
              {
                "data": {
                  "application/vnd.google.colaboratory.intrinsic+json": {
                    "type": "string"
                  },
                  "text/plain": "' heightened  senses ,  agility ,'"
                },
                "metadata": {},
                "output_type": "display_data"
              },
              {
                "data": {
                  "application/vnd.google.colaboratory.intrinsic+json": {
                    "type": "string"
                  },
                  "text/plain": "' and  a  neural  interface  capable'"
                },
                "metadata": {},
                "output_type": "display_data"
              },
              {
                "data": {
                  "application/vnd.google.colaboratory.intrinsic+json": {
                    "type": "string"
                  },
                  "text/plain": "' of  hacking  into  the  city'"
                },
                "metadata": {},
                "output_type": "display_data"
              },
              {
                "data": {
                  "application/vnd.google.colaboratory.intrinsic+json": {
                    "type": "string"
                  },
                  "text/plain": "\"'s  vast  network  of  surveillance\""
                },
                "metadata": {},
                "output_type": "display_data"
              },
              {
                "data": {
                  "application/vnd.google.colaboratory.intrinsic+json": {
                    "type": "string"
                  },
                  "text/plain": "' cameras .\\n\\n In  this  dyst'"
                },
                "metadata": {},
                "output_type": "display_data"
              },
              {
                "data": {
                  "application/vnd.google.colaboratory.intrinsic+json": {
                    "type": "string"
                  },
                  "text/plain": "'opian  world ,  where  every'"
                },
                "metadata": {},
                "output_type": "display_data"
              },
              {
                "data": {
                  "application/vnd.google.colaboratory.intrinsic+json": {
                    "type": "string"
                  },
                  "text/plain": "' move  is  scrutin ized ,'"
                },
                "metadata": {},
                "output_type": "display_data"
              },
              {
                "data": {
                  "application/vnd.google.colaboratory.intrinsic+json": {
                    "type": "string"
                  },
                  "text/plain": "\" Midnight 's  main  mission  is\""
                },
                "metadata": {},
                "output_type": "display_data"
              },
              {
                "data": {
                  "application/vnd.google.colaboratory.intrinsic+json": {
                    "type": "string"
                  },
                  "text/plain": "' to  gather  valuable  information  regarding'"
                },
                "metadata": {},
                "output_type": "display_data"
              },
              {
                "data": {
                  "application/vnd.google.colaboratory.intrinsic+json": {
                    "type": "string"
                  },
                  "text/plain": "\" the  oppressive  corporations '  illegal\""
                },
                "metadata": {},
                "output_type": "display_data"
              },
              {
                "data": {
                  "application/vnd.google.colaboratory.intrinsic+json": {
                    "type": "string"
                  },
                  "text/plain": "' activities .  He  discreet ly'"
                },
                "metadata": {},
                "output_type": "display_data"
              },
              {
                "data": {
                  "application/vnd.google.colaboratory.intrinsic+json": {
                    "type": "string"
                  },
                  "text/plain": "' spies  on  high -ranking  executives'"
                },
                "metadata": {},
                "output_type": "display_data"
              },
              {
                "data": {
                  "application/vnd.google.colaboratory.intrinsic+json": {
                    "type": "string"
                  },
                  "text/plain": "',  collecting  evidence  of  corruption'"
                },
                "metadata": {},
                "output_type": "display_data"
              },
              {
                "data": {
                  "application/vnd.google.colaboratory.intrinsic+json": {
                    "type": "string"
                  },
                  "text/plain": "' and  greed .  Through  his'"
                },
                "metadata": {},
                "output_type": "display_data"
              },
              {
                "data": {
                  "application/vnd.google.colaboratory.intrinsic+json": {
                    "type": "string"
                  },
                  "text/plain": "' stealth y  reconnaissance ,  he'"
                },
                "metadata": {},
                "output_type": "display_data"
              },
              {
                "data": {
                  "application/vnd.google.colaboratory.intrinsic+json": {
                    "type": "string"
                  },
                  "text/plain": "' unc overs  a  sinister  plot'"
                },
                "metadata": {},
                "output_type": "display_data"
              },
              {
                "data": {
                  "application/vnd.google.colaboratory.intrinsic+json": {
                    "type": "string"
                  },
                  "text/plain": "' that  could  plunge  New  E'"
                },
                "metadata": {},
                "output_type": "display_data"
              },
              {
                "data": {
                  "application/vnd.google.colaboratory.intrinsic+json": {
                    "type": "string"
                  },
                  "text/plain": "'lys ium  into  complete  chaos'"
                },
                "metadata": {},
                "output_type": "display_data"
              },
              {
                "data": {
                  "application/vnd.google.colaboratory.intrinsic+json": {
                    "type": "string"
                  },
                  "text/plain": "'.\\n\\n The  corporations ,  aware'"
                },
                "metadata": {},
                "output_type": "display_data"
              },
              {
                "data": {
                  "application/vnd.google.colaboratory.intrinsic+json": {
                    "type": "string"
                  },
                  "text/plain": "\" of  Midnight 's  presence ,\""
                },
                "metadata": {},
                "output_type": "display_data"
              },
              {
                "data": {
                  "application/vnd.google.colaboratory.intrinsic+json": {
                    "type": "string"
                  },
                  "text/plain": "' dispatch  their  deadly  cyber net'"
                },
                "metadata": {},
                "output_type": "display_data"
              },
              {
                "data": {
                  "application/vnd.google.colaboratory.intrinsic+json": {
                    "type": "string"
                  },
                  "text/plain": "'ic  en forc ers  to'"
                },
                "metadata": {},
                "output_type": "display_data"
              },
              {
                "data": {
                  "application/vnd.google.colaboratory.intrinsic+json": {
                    "type": "string"
                  },
                  "text/plain": "' capture  or  terminate  him .'"
                },
                "metadata": {},
                "output_type": "display_data"
              },
              {
                "data": {
                  "application/vnd.google.colaboratory.intrinsic+json": {
                    "type": "string"
                  },
                  "text/plain": "' These  h ul king  machines'"
                },
                "metadata": {},
                "output_type": "display_data"
              },
              {
                "data": {
                  "application/vnd.google.colaboratory.intrinsic+json": {
                    "type": "string"
                  },
                  "text/plain": "',  their  red  glowing  eyes'"
                },
                "metadata": {},
                "output_type": "display_data"
              },
              {
                "data": {
                  "application/vnd.google.colaboratory.intrinsic+json": {
                    "type": "string"
                  },
                  "text/plain": "' scanning  the  shadows ,  relentlessly'"
                },
                "metadata": {},
                "output_type": "display_data"
              },
              {
                "data": {
                  "application/vnd.google.colaboratory.intrinsic+json": {
                    "type": "string"
                  },
                  "text/plain": "' hunt  for  the  elusive  black'"
                },
                "metadata": {},
                "output_type": "display_data"
              },
              {
                "data": {
                  "application/vnd.google.colaboratory.intrinsic+json": {
                    "type": "string"
                  },
                  "text/plain": "' cat .  Stealth ily ,'"
                },
                "metadata": {},
                "output_type": "display_data"
              },
              {
                "data": {
                  "application/vnd.google.colaboratory.intrinsic+json": {
                    "type": "string"
                  },
                  "text/plain": "' Midnight  ev ades  their  pursuit'"
                },
                "metadata": {},
                "output_type": "display_data"
              },
              {
                "data": {
                  "application/vnd.google.colaboratory.intrinsic+json": {
                    "type": "string"
                  },
                  "text/plain": "',  employing  his  augmented  reflex'"
                },
                "metadata": {},
                "output_type": "display_data"
              },
              {
                "data": {
                  "application/vnd.google.colaboratory.intrinsic+json": {
                    "type": "string"
                  },
                  "text/plain": "'es  to  dodge  their  powerful'"
                },
                "metadata": {},
                "output_type": "display_data"
              },
              {
                "data": {
                  "application/vnd.google.colaboratory.intrinsic+json": {
                    "type": "string"
                  },
                  "text/plain": "' attacks .  As  Midnight  el'"
                },
                "metadata": {},
                "output_type": "display_data"
              },
              {
                "data": {
                  "application/vnd.google.colaboratory.intrinsic+json": {
                    "type": "string"
                  },
                  "text/plain": "'udes  his  purs uers ,'"
                },
                "metadata": {},
                "output_type": "display_data"
              },
              {
                "data": {
                  "application/vnd.google.colaboratory.intrinsic+json": {
                    "type": "string"
                  },
                  "text/plain": "' the  resistance  awaits  his  vital'"
                },
                "metadata": {},
                "output_type": "display_data"
              },
              {
                "data": {
                  "application/vnd.google.colaboratory.intrinsic+json": {
                    "type": "string"
                  },
                  "text/plain": "' data  uploads ,  eagerly  anticipating'"
                },
                "metadata": {},
                "output_type": "display_data"
              },
              {
                "data": {
                  "application/vnd.google.colaboratory.intrinsic+json": {
                    "type": "string"
                  },
                  "text/plain": "' the  moment  when  they  can'"
                },
                "metadata": {},
                "output_type": "display_data"
              },
              {
                "data": {
                  "application/vnd.google.colaboratory.intrinsic+json": {
                    "type": "string"
                  },
                  "text/plain": "\" expose  the  corporations '  crimes\""
                },
                "metadata": {},
                "output_type": "display_data"
              },
              {
                "data": {
                  "application/vnd.google.colaboratory.intrinsic+json": {
                    "type": "string"
                  },
                  "text/plain": "' to  the  world .\\n\\n While'"
                },
                "metadata": {},
                "output_type": "display_data"
              },
              {
                "data": {
                  "application/vnd.google.colaboratory.intrinsic+json": {
                    "type": "string"
                  },
                  "text/plain": "\" Midnight 's  primary  mission  is\""
                },
                "metadata": {},
                "output_type": "display_data"
              },
              {
                "data": {
                  "application/vnd.google.colaboratory.intrinsic+json": {
                    "type": "string"
                  },
                  "text/plain": "' gathering  intelligence ,  he  cannot'"
                },
                "metadata": {},
                "output_type": "display_data"
              },
              {
                "data": {
                  "application/vnd.google.colaboratory.intrinsic+json": {
                    "type": "string"
                  },
                  "text/plain": "' ignore  the  plight  of  New'"
                },
                "metadata": {},
                "output_type": "display_data"
              },
              {
                "data": {
                  "application/vnd.google.colaboratory.intrinsic+json": {
                    "type": "string"
                  },
                  "text/plain": "\" E lys ium 's  oppressed\""
                },
                "metadata": {},
                "output_type": "display_data"
              },
              {
                "data": {
                  "application/vnd.google.colaboratory.intrinsic+json": {
                    "type": "string"
                  },
                  "text/plain": "' citizens .  Whenever  he  encounters'"
                },
                "metadata": {},
                "output_type": "display_data"
              },
              {
                "data": {
                  "application/vnd.google.colaboratory.intrinsic+json": {
                    "type": "string"
                  },
                  "text/plain": "' those  in  need ,  he'"
                },
                "metadata": {},
                "output_type": "display_data"
              },
              {
                "data": {
                  "application/vnd.google.colaboratory.intrinsic+json": {
                    "type": "string"
                  },
                  "text/plain": "' gracefully  interven es ,  utilizing'"
                },
                "metadata": {},
                "output_type": "display_data"
              },
              {
                "data": {
                  "application/vnd.google.colaboratory.intrinsic+json": {
                    "type": "string"
                  },
                  "text/plain": "' his  cat -like  reflex es'"
                },
                "metadata": {},
                "output_type": "display_data"
              },
              {
                "data": {
                  "application/vnd.google.colaboratory.intrinsic+json": {
                    "type": "string"
                  },
                  "text/plain": "' to  protect  the  innocent  from'"
                },
                "metadata": {},
                "output_type": "display_data"
              },
              {
                "data": {
                  "application/vnd.google.colaboratory.intrinsic+json": {
                    "type": "string"
                  },
                  "text/plain": "' the  cl utches  of  corporate'"
                },
                "metadata": {},
                "output_type": "display_data"
              },
              {
                "data": {
                  "application/vnd.google.colaboratory.intrinsic+json": {
                    "type": "string"
                  },
                  "text/plain": "' exploitation .  The  citizens ,'"
                },
                "metadata": {},
                "output_type": "display_data"
              },
              {
                "data": {
                  "application/vnd.google.colaboratory.intrinsic+json": {
                    "type": "string"
                  },
                  "text/plain": "' both  fearful  and  inspired  by'"
                },
                "metadata": {},
                "output_type": "display_data"
              },
              {
                "data": {
                  "application/vnd.google.colaboratory.intrinsic+json": {
                    "type": "string"
                  },
                  "text/plain": "' his  actions ,  dub  him'"
                },
                "metadata": {},
                "output_type": "display_data"
              },
              {
                "data": {
                  "application/vnd.google.colaboratory.intrinsic+json": {
                    "type": "string"
                  },
                  "text/plain": "' \" The  Cyber punk  Cat'"
                },
                "metadata": {},
                "output_type": "display_data"
              },
              {
                "data": {
                  "application/vnd.google.colaboratory.intrinsic+json": {
                    "type": "string"
                  },
                  "text/plain": "',\"  bra zen ly  spraying'"
                },
                "metadata": {},
                "output_type": "display_data"
              },
              {
                "data": {
                  "application/vnd.google.colaboratory.intrinsic+json": {
                    "type": "string"
                  },
                  "text/plain": "\" Midnight 's  insign ia  on\""
                },
                "metadata": {},
                "output_type": "display_data"
              },
              {
                "data": {
                  "application/vnd.google.colaboratory.intrinsic+json": {
                    "type": "string"
                  },
                  "text/plain": "' the  walls  of  the  city'"
                },
                "metadata": {},
                "output_type": "display_data"
              },
              {
                "data": {
                  "application/vnd.google.colaboratory.intrinsic+json": {
                    "type": "string"
                  },
                  "text/plain": "'.\\n\\n With  each  passing  day'"
                },
                "metadata": {},
                "output_type": "display_data"
              },
              {
                "data": {
                  "application/vnd.google.colaboratory.intrinsic+json": {
                    "type": "string"
                  },
                  "text/plain": "\",  Midnight 's  legend  grows\""
                },
                "metadata": {},
                "output_type": "display_data"
              },
              {
                "data": {
                  "application/vnd.google.colaboratory.intrinsic+json": {
                    "type": "string"
                  },
                  "text/plain": "',  fostering  hope  among  the'"
                },
                "metadata": {},
                "output_type": "display_data"
              },
              {
                "data": {
                  "application/vnd.google.colaboratory.intrinsic+json": {
                    "type": "string"
                  },
                  "text/plain": "' oppressed  and  fear  in  the'"
                },
                "metadata": {},
                "output_type": "display_data"
              },
              {
                "data": {
                  "application/vnd.google.colaboratory.intrinsic+json": {
                    "type": "string"
                  },
                  "text/plain": "' hearts  of  the  corporations .'"
                },
                "metadata": {},
                "output_type": "display_data"
              },
              {
                "data": {
                  "application/vnd.google.colaboratory.intrinsic+json": {
                    "type": "string"
                  },
                  "text/plain": "\" As  the  resistance 's  plan\""
                },
                "metadata": {},
                "output_type": "display_data"
              },
              {
                "data": {
                  "application/vnd.google.colaboratory.intrinsic+json": {
                    "type": "string"
                  },
                  "text/plain": "' takes  shape ,  Midnight  unc'"
                },
                "metadata": {},
                "output_type": "display_data"
              },
              {
                "data": {
                  "application/vnd.google.colaboratory.intrinsic+json": {
                    "type": "string"
                  },
                  "text/plain": "'overs  a  shocking  revelation :'"
                },
                "metadata": {},
                "output_type": "display_data"
              },
              {
                "data": {
                  "application/vnd.google.colaboratory.intrinsic+json": {
                    "type": "string"
                  },
                  "text/plain": "\" the  corporations '  ultimate  agenda\""
                },
                "metadata": {},
                "output_type": "display_data"
              },
              {
                "data": {
                  "application/vnd.google.colaboratory.intrinsic+json": {
                    "type": "string"
                  },
                  "text/plain": "' is  not  just  domination  but'"
                },
                "metadata": {},
                "output_type": "display_data"
              },
              {
                "data": {
                  "application/vnd.google.colaboratory.intrinsic+json": {
                    "type": "string"
                  },
                  "text/plain": "' the  destruction  of  the  city'"
                },
                "metadata": {},
                "output_type": "display_data"
              },
              {
                "data": {
                  "application/vnd.google.colaboratory.intrinsic+json": {
                    "type": "string"
                  },
                  "text/plain": "' itself .  They  plan  to'"
                },
                "metadata": {},
                "output_type": "display_data"
              },
              {
                "data": {
                  "application/vnd.google.colaboratory.intrinsic+json": {
                    "type": "string"
                  },
                  "text/plain": "' unleash  a  devastating  artificial  intelligence'"
                },
                "metadata": {},
                "output_type": "display_data"
              },
              {
                "data": {
                  "application/vnd.google.colaboratory.intrinsic+json": {
                    "type": "string"
                  },
                  "text/plain": "' virus ,  capable  of  destabil'"
                },
                "metadata": {},
                "output_type": "display_data"
              },
              {
                "data": {
                  "application/vnd.google.colaboratory.intrinsic+json": {
                    "type": "string"
                  },
                  "text/plain": "'izing  New  E lys ium'"
                },
                "metadata": {},
                "output_type": "display_data"
              },
              {
                "data": {
                  "application/vnd.google.colaboratory.intrinsic+json": {
                    "type": "string"
                  },
                  "text/plain": "\"'s  entire  technological  infrastructure .\\n\\n\""
                },
                "metadata": {},
                "output_type": "display_data"
              },
              {
                "data": {
                  "application/vnd.google.colaboratory.intrinsic+json": {
                    "type": "string"
                  },
                  "text/plain": "'Mid night  races  against  time'"
                },
                "metadata": {},
                "output_type": "display_data"
              },
              {
                "data": {
                  "application/vnd.google.colaboratory.intrinsic+json": {
                    "type": "string"
                  },
                  "text/plain": "\",  hacking  the  corporations '\""
                },
                "metadata": {},
                "output_type": "display_data"
              },
              {
                "data": {
                  "application/vnd.google.colaboratory.intrinsic+json": {
                    "type": "string"
                  },
                  "text/plain": "' encrypted  databases ,  and  attempting'"
                },
                "metadata": {},
                "output_type": "display_data"
              },
              {
                "data": {
                  "application/vnd.google.colaboratory.intrinsic+json": {
                    "type": "string"
                  },
                  "text/plain": "' to  decipher  the  intric acies'"
                },
                "metadata": {},
                "output_type": "display_data"
              },
              {
                "data": {
                  "application/vnd.google.colaboratory.intrinsic+json": {
                    "type": "string"
                  },
                  "text/plain": "' of  the  AI  virus .'"
                },
                "metadata": {},
                "output_type": "display_data"
              },
              {
                "data": {
                  "application/vnd.google.colaboratory.intrinsic+json": {
                    "type": "string"
                  },
                  "text/plain": "' As  his  allies  in  the'"
                },
                "metadata": {},
                "output_type": "display_data"
              },
              {
                "data": {
                  "application/vnd.google.colaboratory.intrinsic+json": {
                    "type": "string"
                  },
                  "text/plain": "' resistance  prepare  for  a  final'"
                },
                "metadata": {},
                "output_type": "display_data"
              },
              {
                "data": {
                  "application/vnd.google.colaboratory.intrinsic+json": {
                    "type": "string"
                  },
                  "text/plain": "\" coup ,  Midnight 's  neural\""
                },
                "metadata": {},
                "output_type": "display_data"
              },
              {
                "data": {
                  "application/vnd.google.colaboratory.intrinsic+json": {
                    "type": "string"
                  },
                  "text/plain": "' interface  becomes  flooded  with  immense'"
                },
                "metadata": {},
                "output_type": "display_data"
              },
              {
                "data": {
                  "application/vnd.google.colaboratory.intrinsic+json": {
                    "type": "string"
                  },
                  "text/plain": "' data ,  pieces  of  the'"
                },
                "metadata": {},
                "output_type": "display_data"
              },
              {
                "data": {
                  "application/vnd.google.colaboratory.intrinsic+json": {
                    "type": "string"
                  },
                  "text/plain": "\" corporations '  dark  puzzle  falling\""
                },
                "metadata": {},
                "output_type": "display_data"
              },
              {
                "data": {
                  "application/vnd.google.colaboratory.intrinsic+json": {
                    "type": "string"
                  },
                  "text/plain": "' into  place .  He  must'"
                },
                "metadata": {},
                "output_type": "display_data"
              },
              {
                "data": {
                  "application/vnd.google.colaboratory.intrinsic+json": {
                    "type": "string"
                  },
                  "text/plain": "' thwart  the  imminent  catastrophe ,'"
                },
                "metadata": {},
                "output_type": "display_data"
              },
              {
                "data": {
                  "application/vnd.google.colaboratory.intrinsic+json": {
                    "type": "string"
                  },
                  "text/plain": "' safeguard ing  the  city  and'"
                },
                "metadata": {},
                "output_type": "display_data"
              },
              {
                "data": {
                  "application/vnd.google.colaboratory.intrinsic+json": {
                    "type": "string"
                  },
                  "text/plain": "' its  inhabitants .\\n\\n In  a'"
                },
                "metadata": {},
                "output_type": "display_data"
              },
              {
                "data": {
                  "application/vnd.google.colaboratory.intrinsic+json": {
                    "type": "string"
                  },
                  "text/plain": "' clim actic  battle  amongst  the'"
                },
                "metadata": {},
                "output_type": "display_data"
              },
              {
                "data": {
                  "application/vnd.google.colaboratory.intrinsic+json": {
                    "type": "string"
                  },
                  "text/plain": "\" city 's  sprawling  skys crap\""
                },
                "metadata": {},
                "output_type": "display_data"
              },
              {
                "data": {
                  "application/vnd.google.colaboratory.intrinsic+json": {
                    "type": "string"
                  },
                  "text/plain": "'ers ,  Midnight  faces  off'"
                },
                "metadata": {},
                "output_type": "display_data"
              },
              {
                "data": {
                  "application/vnd.google.colaboratory.intrinsic+json": {
                    "type": "string"
                  },
                  "text/plain": "' against  the  corporate  machines ,'"
                },
                "metadata": {},
                "output_type": "display_data"
              },
              {
                "data": {
                  "application/vnd.google.colaboratory.intrinsic+json": {
                    "type": "string"
                  },
                  "text/plain": "' desperately  trying  to  upload  a'"
                },
                "metadata": {},
                "output_type": "display_data"
              },
              {
                "data": {
                  "application/vnd.google.colaboratory.intrinsic+json": {
                    "type": "string"
                  },
                  "text/plain": "' counter measure  into  the  heart'"
                },
                "metadata": {},
                "output_type": "display_data"
              },
              {
                "data": {
                  "application/vnd.google.colaboratory.intrinsic+json": {
                    "type": "string"
                  },
                  "text/plain": "' of  the  virus .  The'"
                },
                "metadata": {},
                "output_type": "display_data"
              },
              {
                "data": {
                  "application/vnd.google.colaboratory.intrinsic+json": {
                    "type": "string"
                  },
                  "text/plain": "' black  cat  leaps  and  dod'"
                },
                "metadata": {},
                "output_type": "display_data"
              },
              {
                "data": {
                  "application/vnd.google.colaboratory.intrinsic+json": {
                    "type": "string"
                  },
                  "text/plain": "'ges ,  his  eyes  gl'"
                },
                "metadata": {},
                "output_type": "display_data"
              },
              {
                "data": {
                  "application/vnd.google.colaboratory.intrinsic+json": {
                    "type": "string"
                  },
                  "text/plain": "'int ing  with  determination .'"
                },
                "metadata": {},
                "output_type": "display_data"
              },
              {
                "data": {
                  "application/vnd.google.colaboratory.intrinsic+json": {
                    "type": "string"
                  },
                  "text/plain": "' At  last ,  Midnight  successfully'"
                },
                "metadata": {},
                "output_type": "display_data"
              },
              {
                "data": {
                  "application/vnd.google.colaboratory.intrinsic+json": {
                    "type": "string"
                  },
                  "text/plain": "' neutral izes  the  AI  virus'"
                },
                "metadata": {},
                "output_type": "display_data"
              },
              {
                "data": {
                  "application/vnd.google.colaboratory.intrinsic+json": {
                    "type": "string"
                  },
                  "text/plain": "',  aver ting  the  destruction'"
                },
                "metadata": {},
                "output_type": "display_data"
              },
              {
                "data": {
                  "application/vnd.google.colaboratory.intrinsic+json": {
                    "type": "string"
                  },
                  "text/plain": "' of  New  E lys ium'"
                },
                "metadata": {},
                "output_type": "display_data"
              },
              {
                "data": {
                  "application/vnd.google.colaboratory.intrinsic+json": {
                    "type": "string"
                  },
                  "text/plain": "'.\\n\\n With  the  corporations  exposed'"
                },
                "metadata": {},
                "output_type": "display_data"
              },
              {
                "data": {
                  "application/vnd.google.colaboratory.intrinsic+json": {
                    "type": "string"
                  },
                  "text/plain": "' and  their  power  significantly  weakened'"
                },
                "metadata": {},
                "output_type": "display_data"
              },
              {
                "data": {
                  "application/vnd.google.colaboratory.intrinsic+json": {
                    "type": "string"
                  },
                  "text/plain": "',  the  city  breath es'"
                },
                "metadata": {},
                "output_type": "display_data"
              },
              {
                "data": {
                  "application/vnd.google.colaboratory.intrinsic+json": {
                    "type": "string"
                  },
                  "text/plain": "' a  collective  sigh  of  relief'"
                },
                "metadata": {},
                "output_type": "display_data"
              },
              {
                "data": {
                  "application/vnd.google.colaboratory.intrinsic+json": {
                    "type": "string"
                  },
                  "text/plain": "\".  Midnight 's  legend  solid\""
                },
                "metadata": {},
                "output_type": "display_data"
              },
              {
                "data": {
                  "application/vnd.google.colaboratory.intrinsic+json": {
                    "type": "string"
                  },
                  "text/plain": "'ifies ,  inspiring  other  f'"
                },
                "metadata": {},
                "output_type": "display_data"
              },
              {
                "data": {
                  "application/vnd.google.colaboratory.intrinsic+json": {
                    "type": "string"
                  },
                  "text/plain": "'eline  prototypes  to  join  the'"
                },
                "metadata": {},
                "output_type": "display_data"
              },
              {
                "data": {
                  "application/vnd.google.colaboratory.intrinsic+json": {
                    "type": "string"
                  },
                  "text/plain": "' resistance ,  continuing  the  fight'"
                },
                "metadata": {},
                "output_type": "display_data"
              },
              {
                "data": {
                  "application/vnd.google.colaboratory.intrinsic+json": {
                    "type": "string"
                  },
                  "text/plain": "' against  the  oppressive  corporate  regime'"
                },
                "metadata": {},
                "output_type": "display_data"
              },
              {
                "data": {
                  "application/vnd.google.colaboratory.intrinsic+json": {
                    "type": "string"
                  },
                  "text/plain": "'.  The  residents  of  New'"
                },
                "metadata": {},
                "output_type": "display_data"
              },
              {
                "data": {
                  "application/vnd.google.colaboratory.intrinsic+json": {
                    "type": "string"
                  },
                  "text/plain": "' E lys ium  will  forever'"
                },
                "metadata": {},
                "output_type": "display_data"
              },
              {
                "data": {
                  "application/vnd.google.colaboratory.intrinsic+json": {
                    "type": "string"
                  },
                  "text/plain": "' remember  the  cyber punk  cat'"
                },
                "metadata": {},
                "output_type": "display_data"
              },
              {
                "data": {
                  "application/vnd.google.colaboratory.intrinsic+json": {
                    "type": "string"
                  },
                  "text/plain": "' who  danced  in  the  shadows'"
                },
                "metadata": {},
                "output_type": "display_data"
              },
              {
                "data": {
                  "application/vnd.google.colaboratory.intrinsic+json": {
                    "type": "string"
                  },
                  "text/plain": "',  a  symbol  of  rebellion'"
                },
                "metadata": {},
                "output_type": "display_data"
              },
              {
                "data": {
                  "application/vnd.google.colaboratory.intrinsic+json": {
                    "type": "string"
                  },
                  "text/plain": "' and  hope  in  a  city'"
                },
                "metadata": {},
                "output_type": "display_data"
              },
              {
                "data": {
                  "application/vnd.google.colaboratory.intrinsic+json": {
                    "type": "string"
                  },
                  "text/plain": "' plagued  by  darkness . '"
                },
                "metadata": {},
                "output_type": "display_data"
              }
            ]
          }
        },
        "1b4b2634dc42426a8a066e01be061e05": {
          "model_module": "@jupyter-widgets/base",
          "model_module_version": "1.2.0",
          "model_name": "LayoutModel",
          "state": {
            "_model_module": "@jupyter-widgets/base",
            "_model_module_version": "1.2.0",
            "_model_name": "LayoutModel",
            "_view_count": null,
            "_view_module": "@jupyter-widgets/base",
            "_view_module_version": "1.2.0",
            "_view_name": "LayoutView",
            "align_content": null,
            "align_items": null,
            "align_self": null,
            "border": null,
            "bottom": null,
            "display": null,
            "flex": null,
            "flex_flow": null,
            "grid_area": null,
            "grid_auto_columns": null,
            "grid_auto_flow": null,
            "grid_auto_rows": null,
            "grid_column": null,
            "grid_gap": null,
            "grid_row": null,
            "grid_template_areas": null,
            "grid_template_columns": null,
            "grid_template_rows": null,
            "height": null,
            "justify_content": null,
            "justify_items": null,
            "left": null,
            "margin": null,
            "max_height": null,
            "max_width": null,
            "min_height": null,
            "min_width": null,
            "object_fit": null,
            "object_position": null,
            "order": null,
            "overflow": null,
            "overflow_x": null,
            "overflow_y": null,
            "padding": null,
            "right": null,
            "top": null,
            "visibility": null,
            "width": null
          }
        },
        "1bad7e451e3045838ed00decb755bcab": {
          "model_module": "@jupyter-widgets/controls",
          "model_module_version": "1.5.0",
          "model_name": "HTMLModel",
          "state": {
            "_dom_classes": [],
            "_model_module": "@jupyter-widgets/controls",
            "_model_module_version": "1.5.0",
            "_model_name": "HTMLModel",
            "_view_count": null,
            "_view_module": "@jupyter-widgets/controls",
            "_view_module_version": "1.5.0",
            "_view_name": "HTMLView",
            "description": "",
            "description_tooltip": null,
            "layout": "IPY_MODEL_7ada1f6b6b8c480489333dd8f7d638d9",
            "placeholder": "​",
            "style": "IPY_MODEL_8256d386740e482197076450fc29f7e5",
            "value": " 493k/493k [00:00&lt;00:00, 8.55MB/s]"
          }
        },
        "1cb0a448fe4d4b5b89d33ef3fa425d8e": {
          "model_module": "@jupyter-widgets/base",
          "model_module_version": "1.2.0",
          "model_name": "LayoutModel",
          "state": {
            "_model_module": "@jupyter-widgets/base",
            "_model_module_version": "1.2.0",
            "_model_name": "LayoutModel",
            "_view_count": null,
            "_view_module": "@jupyter-widgets/base",
            "_view_module_version": "1.2.0",
            "_view_name": "LayoutView",
            "align_content": null,
            "align_items": null,
            "align_self": null,
            "border": null,
            "bottom": null,
            "display": null,
            "flex": null,
            "flex_flow": null,
            "grid_area": null,
            "grid_auto_columns": null,
            "grid_auto_flow": null,
            "grid_auto_rows": null,
            "grid_column": null,
            "grid_gap": null,
            "grid_row": null,
            "grid_template_areas": null,
            "grid_template_columns": null,
            "grid_template_rows": null,
            "height": null,
            "justify_content": null,
            "justify_items": null,
            "left": null,
            "margin": null,
            "max_height": null,
            "max_width": null,
            "min_height": null,
            "min_width": null,
            "object_fit": null,
            "object_position": null,
            "order": null,
            "overflow": null,
            "overflow_x": null,
            "overflow_y": null,
            "padding": null,
            "right": null,
            "top": null,
            "visibility": null,
            "width": null
          }
        },
        "1d75c21aae47449f879936ee9b1372ff": {
          "model_module": "@jupyter-widgets/base",
          "model_module_version": "1.2.0",
          "model_name": "LayoutModel",
          "state": {
            "_model_module": "@jupyter-widgets/base",
            "_model_module_version": "1.2.0",
            "_model_name": "LayoutModel",
            "_view_count": null,
            "_view_module": "@jupyter-widgets/base",
            "_view_module_version": "1.2.0",
            "_view_name": "LayoutView",
            "align_content": null,
            "align_items": null,
            "align_self": null,
            "border": null,
            "bottom": null,
            "display": null,
            "flex": null,
            "flex_flow": null,
            "grid_area": null,
            "grid_auto_columns": null,
            "grid_auto_flow": null,
            "grid_auto_rows": null,
            "grid_column": null,
            "grid_gap": null,
            "grid_row": null,
            "grid_template_areas": null,
            "grid_template_columns": null,
            "grid_template_rows": null,
            "height": null,
            "justify_content": null,
            "justify_items": null,
            "left": null,
            "margin": null,
            "max_height": null,
            "max_width": null,
            "min_height": null,
            "min_width": null,
            "object_fit": null,
            "object_position": null,
            "order": null,
            "overflow": null,
            "overflow_x": null,
            "overflow_y": null,
            "padding": null,
            "right": null,
            "top": null,
            "visibility": null,
            "width": null
          }
        },
        "28585ecc3ec741109a4644c2c0388c6e": {
          "model_module": "@jupyter-widgets/controls",
          "model_module_version": "1.5.0",
          "model_name": "HTMLModel",
          "state": {
            "_dom_classes": [],
            "_model_module": "@jupyter-widgets/controls",
            "_model_module_version": "1.5.0",
            "_model_name": "HTMLModel",
            "_view_count": null,
            "_view_module": "@jupyter-widgets/controls",
            "_view_module_version": "1.5.0",
            "_view_name": "HTMLView",
            "description": "",
            "description_tooltip": null,
            "layout": "IPY_MODEL_f75cc063718640fa8bfff81e0284025f",
            "placeholder": "​",
            "style": "IPY_MODEL_7122fe13a5124759b59842c9d6436a0e",
            "value": "special_tokens_map.json: 100%"
          }
        },
        "2dfdda7cb1f749d289695a2fa28c859b": {
          "model_module": "@jupyter-widgets/output",
          "model_module_version": "1.0.0",
          "model_name": "OutputModel",
          "state": {
            "_dom_classes": [],
            "_model_module": "@jupyter-widgets/output",
            "_model_module_version": "1.0.0",
            "_model_name": "OutputModel",
            "_view_count": null,
            "_view_module": "@jupyter-widgets/output",
            "_view_module_version": "1.0.0",
            "_view_name": "OutputView",
            "layout": "IPY_MODEL_4101c6be4549498cae703928d38225bf",
            "msg_id": "",
            "outputs": [
              {
                "data": {
                  "application/vnd.google.colaboratory.intrinsic+json": {
                    "type": "string"
                  },
                  "text/plain": "'Model name: command'"
                },
                "metadata": {},
                "output_type": "display_data"
              },
              {
                "data": {
                  "application/vnd.google.colaboratory.intrinsic+json": {
                    "type": "string"
                  },
                  "text/plain": "' The  city  gl owed  faint'"
                },
                "metadata": {},
                "output_type": "display_data"
              },
              {
                "data": {
                  "application/vnd.google.colaboratory.intrinsic+json": {
                    "type": "string"
                  },
                  "text/plain": "'ly ,  eman ating  an'"
                },
                "metadata": {},
                "output_type": "display_data"
              },
              {
                "data": {
                  "application/vnd.google.colaboratory.intrinsic+json": {
                    "type": "string"
                  },
                  "text/plain": "' eerie ,  dystopian  aura  that'"
                },
                "metadata": {},
                "output_type": "display_data"
              },
              {
                "data": {
                  "application/vnd.google.colaboratory.intrinsic+json": {
                    "type": "string"
                  },
                  "text/plain": "' matched  the  bleak ness  of'"
                },
                "metadata": {},
                "output_type": "display_data"
              },
              {
                "data": {
                  "application/vnd.google.colaboratory.intrinsic+json": {
                    "type": "string"
                  },
                  "text/plain": "' the  sprawling  urban  landscape .'"
                },
                "metadata": {},
                "output_type": "display_data"
              },
              {
                "data": {
                  "application/vnd.google.colaboratory.intrinsic+json": {
                    "type": "string"
                  },
                  "text/plain": "' Among  the  corro ded  skyscrapers'"
                },
                "metadata": {},
                "output_type": "display_data"
              },
              {
                "data": {
                  "application/vnd.google.colaboratory.intrinsic+json": {
                    "type": "string"
                  },
                  "text/plain": "' and  broken  neon  signs ,'"
                },
                "metadata": {},
                "output_type": "display_data"
              },
              {
                "data": {
                  "application/vnd.google.colaboratory.intrinsic+json": {
                    "type": "string"
                  },
                  "text/plain": "' a  black  cat  navigated  the'"
                },
                "metadata": {},
                "output_type": "display_data"
              },
              {
                "data": {
                  "application/vnd.google.colaboratory.intrinsic+json": {
                    "type": "string"
                  },
                  "text/plain": "' concrete  jungle  with  a  sense'"
                },
                "metadata": {},
                "output_type": "display_data"
              },
              {
                "data": {
                  "application/vnd.google.colaboratory.intrinsic+json": {
                    "type": "string"
                  },
                  "text/plain": "' of  resilience  and  an  un'"
                },
                "metadata": {},
                "output_type": "display_data"
              },
              {
                "data": {
                  "application/vnd.google.colaboratory.intrinsic+json": {
                    "type": "string"
                  },
                  "text/plain": "'yield ing  desire  to  survive'"
                },
                "metadata": {},
                "output_type": "display_data"
              },
              {
                "data": {
                  "application/vnd.google.colaboratory.intrinsic+json": {
                    "type": "string"
                  },
                  "text/plain": "'. \\n \\n The  cat'"
                },
                "metadata": {},
                "output_type": "display_data"
              },
              {
                "data": {
                  "application/vnd.google.colaboratory.intrinsic+json": {
                    "type": "string"
                  },
                  "text/plain": "',  whose  name  was  Midnight'"
                },
                "metadata": {},
                "output_type": "display_data"
              },
              {
                "data": {
                  "application/vnd.google.colaboratory.intrinsic+json": {
                    "type": "string"
                  },
                  "text/plain": "',  had  a  mysterious  past'"
                },
                "metadata": {},
                "output_type": "display_data"
              },
              {
                "data": {
                  "application/vnd.google.colaboratory.intrinsic+json": {
                    "type": "string"
                  },
                  "text/plain": "',  unknown  to  even  herself'"
                },
                "metadata": {},
                "output_type": "display_data"
              },
              {
                "data": {
                  "application/vnd.google.colaboratory.intrinsic+json": {
                    "type": "string"
                  },
                  "text/plain": "'.  She  had  awakened  one'"
                },
                "metadata": {},
                "output_type": "display_data"
              },
              {
                "data": {
                  "application/vnd.google.colaboratory.intrinsic+json": {
                    "type": "string"
                  },
                  "text/plain": "' day  in  an  abandoned  warehouse'"
                },
                "metadata": {},
                "output_type": "display_data"
              },
              {
                "data": {
                  "application/vnd.google.colaboratory.intrinsic+json": {
                    "type": "string"
                  },
                  "text/plain": "',  her  eyes  shimmering  with'"
                },
                "metadata": {},
                "output_type": "display_data"
              },
              {
                "data": {
                  "application/vnd.google.colaboratory.intrinsic+json": {
                    "type": "string"
                  },
                  "text/plain": "' an  enigmatic  purpose  that  drove'"
                },
                "metadata": {},
                "output_type": "display_data"
              },
              {
                "data": {
                  "application/vnd.google.colaboratory.intrinsic+json": {
                    "type": "string"
                  },
                  "text/plain": "' her  relentless  exploration  of  the'"
                },
                "metadata": {},
                "output_type": "display_data"
              },
              {
                "data": {
                  "application/vnd.google.colaboratory.intrinsic+json": {
                    "type": "string"
                  },
                  "text/plain": "' city . \\n \\n Mid'"
                },
                "metadata": {},
                "output_type": "display_data"
              },
              {
                "data": {
                  "application/vnd.google.colaboratory.intrinsic+json": {
                    "type": "string"
                  },
                  "text/plain": "'night  traversed  alley ways ,'"
                },
                "metadata": {},
                "output_type": "display_data"
              },
              {
                "data": {
                  "application/vnd.google.colaboratory.intrinsic+json": {
                    "type": "string"
                  },
                  "text/plain": "' her  sleek  form  blending  seamlessly'"
                },
                "metadata": {},
                "output_type": "display_data"
              },
              {
                "data": {
                  "application/vnd.google.colaboratory.intrinsic+json": {
                    "type": "string"
                  },
                  "text/plain": "' with  the  shadows .  She'"
                },
                "metadata": {},
                "output_type": "display_data"
              },
              {
                "data": {
                  "application/vnd.google.colaboratory.intrinsic+json": {
                    "type": "string"
                  },
                  "text/plain": "' ro amed  the  rooft ops'"
                },
                "metadata": {},
                "output_type": "display_data"
              },
              {
                "data": {
                  "application/vnd.google.colaboratory.intrinsic+json": {
                    "type": "string"
                  },
                  "text/plain": "',  surveying  the  urban  sp'"
                },
                "metadata": {},
                "output_type": "display_data"
              },
              {
                "data": {
                  "application/vnd.google.colaboratory.intrinsic+json": {
                    "type": "string"
                  },
                  "text/plain": "'rawl  from  a  distance ,'"
                },
                "metadata": {},
                "output_type": "display_data"
              },
              {
                "data": {
                  "application/vnd.google.colaboratory.intrinsic+json": {
                    "type": "string"
                  },
                  "text/plain": "' unnoticed  and  unseen .  Among'"
                },
                "metadata": {},
                "output_type": "display_data"
              },
              {
                "data": {
                  "application/vnd.google.colaboratory.intrinsic+json": {
                    "type": "string"
                  },
                  "text/plain": "' the  mist y  rain  and'"
                },
                "metadata": {},
                "output_type": "display_data"
              },
              {
                "data": {
                  "application/vnd.google.colaboratory.intrinsic+json": {
                    "type": "string"
                  },
                  "text/plain": "' flick ering  street l amps'"
                },
                "metadata": {},
                "output_type": "display_data"
              },
              {
                "data": {
                  "application/vnd.google.colaboratory.intrinsic+json": {
                    "type": "string"
                  },
                  "text/plain": "',  she  encountered  various  factions'"
                },
                "metadata": {},
                "output_type": "display_data"
              },
              {
                "data": {
                  "application/vnd.google.colaboratory.intrinsic+json": {
                    "type": "string"
                  },
                  "text/plain": "' vying  for  control  over  the'"
                },
                "metadata": {},
                "output_type": "display_data"
              },
              {
                "data": {
                  "application/vnd.google.colaboratory.intrinsic+json": {
                    "type": "string"
                  },
                  "text/plain": "\" city 's  remnants .  From\""
                },
                "metadata": {},
                "output_type": "display_data"
              },
              {
                "data": {
                  "application/vnd.google.colaboratory.intrinsic+json": {
                    "type": "string"
                  },
                  "text/plain": "' rogue  A Is  to  rogue'"
                },
                "metadata": {},
                "output_type": "display_data"
              },
              {
                "data": {
                  "application/vnd.google.colaboratory.intrinsic+json": {
                    "type": "string"
                  },
                  "text/plain": "' hackers  and  robotic  militias ,'"
                },
                "metadata": {},
                "output_type": "display_data"
              },
              {
                "data": {
                  "application/vnd.google.colaboratory.intrinsic+json": {
                    "type": "string"
                  },
                  "text/plain": "' each  left  their  mark  on'"
                },
                "metadata": {},
                "output_type": "display_data"
              },
              {
                "data": {
                  "application/vnd.google.colaboratory.intrinsic+json": {
                    "type": "string"
                  },
                  "text/plain": "' the  narrative  fabric  of  her'"
                },
                "metadata": {},
                "output_type": "display_data"
              },
              {
                "data": {
                  "application/vnd.google.colaboratory.intrinsic+json": {
                    "type": "string"
                  },
                  "text/plain": "' journey . \\n \\n One'"
                },
                "metadata": {},
                "output_type": "display_data"
              },
              {
                "data": {
                  "application/vnd.google.colaboratory.intrinsic+json": {
                    "type": "string"
                  },
                  "text/plain": "' particular  night ,  amidst  the'"
                },
                "metadata": {},
                "output_type": "display_data"
              },
              {
                "data": {
                  "application/vnd.google.colaboratory.intrinsic+json": {
                    "type": "string"
                  },
                  "text/plain": "' c ac oph ony  of'"
                },
                "metadata": {},
                "output_type": "display_data"
              },
              {
                "data": {
                  "application/vnd.google.colaboratory.intrinsic+json": {
                    "type": "string"
                  },
                  "text/plain": "' the  city ,  Midnight  encountered'"
                },
                "metadata": {},
                "output_type": "display_data"
              },
              {
                "data": {
                  "application/vnd.google.colaboratory.intrinsic+json": {
                    "type": "string"
                  },
                  "text/plain": "' a  group  of  rebellious  hackers'"
                },
                "metadata": {},
                "output_type": "display_data"
              },
              {
                "data": {
                  "application/vnd.google.colaboratory.intrinsic+json": {
                    "type": "string"
                  },
                  "text/plain": "' who  called  themselves  the  \"'"
                },
                "metadata": {},
                "output_type": "display_data"
              },
              {
                "data": {
                  "application/vnd.google.colaboratory.intrinsic+json": {
                    "type": "string"
                  },
                  "text/plain": "'Ph antom  Ech oes .\"'"
                },
                "metadata": {},
                "output_type": "display_data"
              },
              {
                "data": {
                  "application/vnd.google.colaboratory.intrinsic+json": {
                    "type": "string"
                  },
                  "text/plain": "' They  wield ed  control  over'"
                },
                "metadata": {},
                "output_type": "display_data"
              },
              {
                "data": {
                  "application/vnd.google.colaboratory.intrinsic+json": {
                    "type": "string"
                  },
                  "text/plain": "\" the  city 's  network  systems\""
                },
                "metadata": {},
                "output_type": "display_data"
              },
              {
                "data": {
                  "application/vnd.google.colaboratory.intrinsic+json": {
                    "type": "string"
                  },
                  "text/plain": "',  using  their  skills  to'"
                },
                "metadata": {},
                "output_type": "display_data"
              },
              {
                "data": {
                  "application/vnd.google.colaboratory.intrinsic+json": {
                    "type": "string"
                  },
                  "text/plain": "' fight  against  the  oppressive  governing'"
                },
                "metadata": {},
                "output_type": "display_data"
              },
              {
                "data": {
                  "application/vnd.google.colaboratory.intrinsic+json": {
                    "type": "string"
                  },
                  "text/plain": "' forces .  \\n \\n As'"
                },
                "metadata": {},
                "output_type": "display_data"
              },
              {
                "data": {
                  "application/vnd.google.colaboratory.intrinsic+json": {
                    "type": "string"
                  },
                  "text/plain": "' Midnight  watched  from  a  distant'"
                },
                "metadata": {},
                "output_type": "display_data"
              },
              {
                "data": {
                  "application/vnd.google.colaboratory.intrinsic+json": {
                    "type": "string"
                  },
                  "text/plain": "' balcony ,  the  hackers ,'"
                },
                "metadata": {},
                "output_type": "display_data"
              },
              {
                "data": {
                  "application/vnd.google.colaboratory.intrinsic+json": {
                    "type": "string"
                  },
                  "text/plain": "' don  their  glowing  goggles  and'"
                },
                "metadata": {},
                "output_type": "display_data"
              },
              {
                "data": {
                  "application/vnd.google.colaboratory.intrinsic+json": {
                    "type": "string"
                  },
                  "text/plain": "' cyber net ic  implants ,'"
                },
                "metadata": {},
                "output_type": "display_data"
              },
              {
                "data": {
                  "application/vnd.google.colaboratory.intrinsic+json": {
                    "type": "string"
                  },
                  "text/plain": "' convened  in  an  abandoned  nightclub'"
                },
                "metadata": {},
                "output_type": "display_data"
              },
              {
                "data": {
                  "application/vnd.google.colaboratory.intrinsic+json": {
                    "type": "string"
                  },
                  "text/plain": "'.  The  venue  buzz ed'"
                },
                "metadata": {},
                "output_type": "display_data"
              },
              {
                "data": {
                  "application/vnd.google.colaboratory.intrinsic+json": {
                    "type": "string"
                  },
                  "text/plain": "' with  a  surreal  mix  of'"
                },
                "metadata": {},
                "output_type": "display_data"
              },
              {
                "data": {
                  "application/vnd.google.colaboratory.intrinsic+json": {
                    "type": "string"
                  },
                  "text/plain": "' archaic  music  and  the  hum'"
                },
                "metadata": {},
                "output_type": "display_data"
              },
              {
                "data": {
                  "application/vnd.google.colaboratory.intrinsic+json": {
                    "type": "string"
                  },
                  "text/plain": "' of  data  being  manipulated .'"
                },
                "metadata": {},
                "output_type": "display_data"
              },
              {
                "data": {
                  "application/vnd.google.colaboratory.intrinsic+json": {
                    "type": "string"
                  },
                  "text/plain": "' \\n \\n The  black  cat'"
                },
                "metadata": {},
                "output_type": "display_data"
              },
              {
                "data": {
                  "application/vnd.google.colaboratory.intrinsic+json": {
                    "type": "string"
                  },
                  "text/plain": "',  drawn  by  curiosity  and'"
                },
                "metadata": {},
                "output_type": "display_data"
              },
              {
                "data": {
                  "application/vnd.google.colaboratory.intrinsic+json": {
                    "type": "string"
                  },
                  "text/plain": "' the  scent  of  revolution ,'"
                },
                "metadata": {},
                "output_type": "display_data"
              },
              {
                "data": {
                  "application/vnd.google.colaboratory.intrinsic+json": {
                    "type": "string"
                  },
                  "text/plain": "\" stepped  into  the  club 's\""
                },
                "metadata": {},
                "output_type": "display_data"
              },
              {
                "data": {
                  "application/vnd.google.colaboratory.intrinsic+json": {
                    "type": "string"
                  },
                  "text/plain": "' ambient  glow ,  her  eyes'"
                },
                "metadata": {},
                "output_type": "display_data"
              },
              {
                "data": {
                  "application/vnd.google.colaboratory.intrinsic+json": {
                    "type": "string"
                  },
                  "text/plain": "' locking  onto  the  group  of'"
                },
                "metadata": {},
                "output_type": "display_data"
              },
              {
                "data": {
                  "application/vnd.google.colaboratory.intrinsic+json": {
                    "type": "string"
                  },
                  "text/plain": "' rebels .  In  that  moment'"
                },
                "metadata": {},
                "output_type": "display_data"
              },
              {
                "data": {
                  "application/vnd.google.colaboratory.intrinsic+json": {
                    "type": "string"
                  },
                  "text/plain": "',  a  fleeting  connection  formed'"
                },
                "metadata": {},
                "output_type": "display_data"
              },
              {
                "data": {
                  "application/vnd.google.colaboratory.intrinsic+json": {
                    "type": "string"
                  },
                  "text/plain": "',  a  sym biotic  understanding'"
                },
                "metadata": {},
                "output_type": "display_data"
              },
              {
                "data": {
                  "application/vnd.google.colaboratory.intrinsic+json": {
                    "type": "string"
                  },
                  "text/plain": "' between  rebel  and  feline .'"
                },
                "metadata": {},
                "output_type": "display_data"
              },
              {
                "data": {
                  "application/vnd.google.colaboratory.intrinsic+json": {
                    "type": "string"
                  },
                  "text/plain": "'\\n \\n The  hackers ,'"
                },
                "metadata": {},
                "output_type": "display_data"
              },
              {
                "data": {
                  "application/vnd.google.colaboratory.intrinsic+json": {
                    "type": "string"
                  },
                  "text/plain": "' engulfed  in  an  aura  of'"
                },
                "metadata": {},
                "output_type": "display_data"
              },
              {
                "data": {
                  "application/vnd.google.colaboratory.intrinsic+json": {
                    "type": "string"
                  },
                  "text/plain": "' determination ,  welcomed  Midnight  into'"
                },
                "metadata": {},
                "output_type": "display_data"
              },
              {
                "data": {
                  "application/vnd.google.colaboratory.intrinsic+json": {
                    "type": "string"
                  },
                  "text/plain": "' their  fold ,  sensing  a'"
                },
                "metadata": {},
                "output_type": "display_data"
              },
              {
                "data": {
                  "application/vnd.google.colaboratory.intrinsic+json": {
                    "type": "string"
                  },
                  "text/plain": "' kind red  spirit  in  the'"
                },
                "metadata": {},
                "output_type": "display_data"
              },
              {
                "data": {
                  "application/vnd.google.colaboratory.intrinsic+json": {
                    "type": "string"
                  },
                  "text/plain": "' un assuming  black  cat .'"
                },
                "metadata": {},
                "output_type": "display_data"
              },
              {
                "data": {
                  "application/vnd.google.colaboratory.intrinsic+json": {
                    "type": "string"
                  },
                  "text/plain": "' And  so ,  Midnight ,'"
                },
                "metadata": {},
                "output_type": "display_data"
              },
              {
                "data": {
                  "application/vnd.google.colaboratory.intrinsic+json": {
                    "type": "string"
                  },
                  "text/plain": "' the  enigmatic  feline ,  became'"
                },
                "metadata": {},
                "output_type": "display_data"
              },
              {
                "data": {
                  "application/vnd.google.colaboratory.intrinsic+json": {
                    "type": "string"
                  },
                  "text/plain": "' an  integral  part  of  the'"
                },
                "metadata": {},
                "output_type": "display_data"
              },
              {
                "data": {
                  "application/vnd.google.colaboratory.intrinsic+json": {
                    "type": "string"
                  },
                  "text/plain": "' Phantom  Ech oes ,  her'"
                },
                "metadata": {},
                "output_type": "display_data"
              },
              {
                "data": {
                  "application/vnd.google.colaboratory.intrinsic+json": {
                    "type": "string"
                  },
                  "text/plain": "' presence  a  reminder  of  the'"
                },
                "metadata": {},
                "output_type": "display_data"
              },
              {
                "data": {
                  "application/vnd.google.colaboratory.intrinsic+json": {
                    "type": "string"
                  },
                  "text/plain": "' resilience  required  to  endure  in'"
                },
                "metadata": {},
                "output_type": "display_data"
              },
              {
                "data": {
                  "application/vnd.google.colaboratory.intrinsic+json": {
                    "type": "string"
                  },
                  "text/plain": "' a  world  envelop ed  in'"
                },
                "metadata": {},
                "output_type": "display_data"
              },
              {
                "data": {
                  "application/vnd.google.colaboratory.intrinsic+json": {
                    "type": "string"
                  },
                  "text/plain": "' shadows . \\n \\n Together'"
                },
                "metadata": {},
                "output_type": "display_data"
              },
              {
                "data": {
                  "application/vnd.google.colaboratory.intrinsic+json": {
                    "type": "string"
                  },
                  "text/plain": "',  they  would  paint  the'"
                },
                "metadata": {},
                "output_type": "display_data"
              },
              {
                "data": {
                  "application/vnd.google.colaboratory.intrinsic+json": {
                    "type": "string"
                  },
                  "text/plain": "' city  with  their  presence ,'"
                },
                "metadata": {},
                "output_type": "display_data"
              },
              {
                "data": {
                  "application/vnd.google.colaboratory.intrinsic+json": {
                    "type": "string"
                  },
                  "text/plain": "' leaving  their  mark  on  the'"
                },
                "metadata": {},
                "output_type": "display_data"
              },
              {
                "data": {
                  "application/vnd.google.colaboratory.intrinsic+json": {
                    "type": "string"
                  },
                  "text/plain": "' digital  and  physical  landscape ,'"
                },
                "metadata": {},
                "output_type": "display_data"
              },
              {
                "data": {
                  "application/vnd.google.colaboratory.intrinsic+json": {
                    "type": "string"
                  },
                  "text/plain": "' creating  a  new  narrative ,'"
                },
                "metadata": {},
                "output_type": "display_data"
              },
              {
                "data": {
                  "application/vnd.google.colaboratory.intrinsic+json": {
                    "type": "string"
                  },
                  "text/plain": "' a  new  myth os ,'"
                },
                "metadata": {},
                "output_type": "display_data"
              },
              {
                "data": {
                  "application/vnd.google.colaboratory.intrinsic+json": {
                    "type": "string"
                  },
                  "text/plain": "' a  new  anthem  for  the'"
                },
                "metadata": {},
                "output_type": "display_data"
              },
              {
                "data": {
                  "application/vnd.google.colaboratory.intrinsic+json": {
                    "type": "string"
                  },
                  "text/plain": "' surviving  souls  who  refused  to'"
                },
                "metadata": {},
                "output_type": "display_data"
              },
              {
                "data": {
                  "application/vnd.google.colaboratory.intrinsic+json": {
                    "type": "string"
                  },
                  "text/plain": "' be  sil enced .  \\n'"
                },
                "metadata": {},
                "output_type": "display_data"
              },
              {
                "data": {
                  "application/vnd.google.colaboratory.intrinsic+json": {
                    "type": "string"
                  },
                  "text/plain": "'\\n And  from  that  night'"
                },
                "metadata": {},
                "output_type": "display_data"
              },
              {
                "data": {
                  "application/vnd.google.colaboratory.intrinsic+json": {
                    "type": "string"
                  },
                  "text/plain": "' forward ,  the  name  of'"
                },
                "metadata": {},
                "output_type": "display_data"
              },
              {
                "data": {
                  "application/vnd.google.colaboratory.intrinsic+json": {
                    "type": "string"
                  },
                  "text/plain": "' Midnight  would  echo  through  the'"
                },
                "metadata": {},
                "output_type": "display_data"
              },
              {
                "data": {
                  "application/vnd.google.colaboratory.intrinsic+json": {
                    "type": "string"
                  },
                  "text/plain": "' neon - lit  al leys'"
                },
                "metadata": {},
                "output_type": "display_data"
              },
              {
                "data": {
                  "application/vnd.google.colaboratory.intrinsic+json": {
                    "type": "string"
                  },
                  "text/plain": "',  a  symbol  of  metamorph'"
                },
                "metadata": {},
                "output_type": "display_data"
              },
              {
                "data": {
                  "application/vnd.google.colaboratory.intrinsic+json": {
                    "type": "string"
                  },
                  "text/plain": "'osis ,  merging  the  physical'"
                },
                "metadata": {},
                "output_type": "display_data"
              },
              {
                "data": {
                  "application/vnd.google.colaboratory.intrinsic+json": {
                    "type": "string"
                  },
                  "text/plain": "' and  digital ,  where  the'"
                },
                "metadata": {},
                "output_type": "display_data"
              },
              {
                "data": {
                  "application/vnd.google.colaboratory.intrinsic+json": {
                    "type": "string"
                  },
                  "text/plain": "' lines  of  reality  and  code'"
                },
                "metadata": {},
                "output_type": "display_data"
              },
              {
                "data": {
                  "application/vnd.google.colaboratory.intrinsic+json": {
                    "type": "string"
                  },
                  "text/plain": "' blurred ,  and  a  new'"
                },
                "metadata": {},
                "output_type": "display_data"
              },
              {
                "data": {
                  "application/vnd.google.colaboratory.intrinsic+json": {
                    "type": "string"
                  },
                  "text/plain": "' world  emerged  from  the  shadows'"
                },
                "metadata": {},
                "output_type": "display_data"
              }
            ]
          }
        },
        "2e10135bc8e9494fac3aab173d4c2078": {
          "model_module": "@jupyter-widgets/controls",
          "model_module_version": "1.5.0",
          "model_name": "HBoxModel",
          "state": {
            "_dom_classes": [],
            "_model_module": "@jupyter-widgets/controls",
            "_model_module_version": "1.5.0",
            "_model_name": "HBoxModel",
            "_view_count": null,
            "_view_module": "@jupyter-widgets/controls",
            "_view_module_version": "1.5.0",
            "_view_name": "HBoxView",
            "box_style": "",
            "children": [
              "IPY_MODEL_a522c5d1bd8e49caae0800c9e18d39aa",
              "IPY_MODEL_e481fa1615494e398f175627d7853958",
              "IPY_MODEL_bf9b998e18ec4986a2ac78bd78cd4e7b"
            ],
            "layout": "IPY_MODEL_7dc3369ca1e448c69981e462ddf018c6"
          }
        },
        "331026a0809140988ea4b1d680333c0b": {
          "model_module": "@jupyter-widgets/controls",
          "model_module_version": "1.5.0",
          "model_name": "HBoxModel",
          "state": {
            "_dom_classes": [],
            "_model_module": "@jupyter-widgets/controls",
            "_model_module_version": "1.5.0",
            "_model_name": "HBoxModel",
            "_view_count": null,
            "_view_module": "@jupyter-widgets/controls",
            "_view_module_version": "1.5.0",
            "_view_name": "HBoxView",
            "box_style": "",
            "children": [
              "IPY_MODEL_de412979dfa74945b1dfc3a9656c227c",
              "IPY_MODEL_521114d351054104996f66e20e92a22a",
              "IPY_MODEL_e5e8034f0afc48d89c48d4ace9f36d60"
            ],
            "layout": "IPY_MODEL_491b2070c8e4404aab029061a5404428"
          }
        },
        "3490d5bbde854aea8e566d4dfcde14ff": {
          "model_module": "@jupyter-widgets/controls",
          "model_module_version": "1.5.0",
          "model_name": "ProgressStyleModel",
          "state": {
            "_model_module": "@jupyter-widgets/controls",
            "_model_module_version": "1.5.0",
            "_model_name": "ProgressStyleModel",
            "_view_count": null,
            "_view_module": "@jupyter-widgets/base",
            "_view_module_version": "1.2.0",
            "_view_name": "StyleView",
            "bar_color": null,
            "description_width": ""
          }
        },
        "34b1dd13bd1e478d999cd89ebc397316": {
          "model_module": "@jupyter-widgets/controls",
          "model_module_version": "1.5.0",
          "model_name": "HTMLModel",
          "state": {
            "_dom_classes": [],
            "_model_module": "@jupyter-widgets/controls",
            "_model_module_version": "1.5.0",
            "_model_name": "HTMLModel",
            "_view_count": null,
            "_view_module": "@jupyter-widgets/controls",
            "_view_module_version": "1.5.0",
            "_view_name": "HTMLView",
            "description": "",
            "description_tooltip": null,
            "layout": "IPY_MODEL_41c95bd3766140b9af6949b596999413",
            "placeholder": "​",
            "style": "IPY_MODEL_93584f6a311f4795bf84f6ff2398b78b",
            "value": "tokenizer.json: 100%"
          }
        },
        "35ebe0b3e2a1419cb5452b7b69662927": {
          "model_module": "@jupyter-widgets/controls",
          "model_module_version": "1.5.0",
          "model_name": "HBoxModel",
          "state": {
            "_dom_classes": [],
            "_model_module": "@jupyter-widgets/controls",
            "_model_module_version": "1.5.0",
            "_model_name": "HBoxModel",
            "_view_count": null,
            "_view_module": "@jupyter-widgets/controls",
            "_view_module_version": "1.5.0",
            "_view_name": "HBoxView",
            "box_style": "",
            "children": [
              "IPY_MODEL_178875466d004edb9134a1c96cbe4e79",
              "IPY_MODEL_2dfdda7cb1f749d289695a2fa28c859b",
              "IPY_MODEL_80564696d1a24476bf2948fe329d838e",
              "IPY_MODEL_3e0d66ba5ae64c66a07d4a7bcb661449",
              "IPY_MODEL_f0eefc3ebf9d42fdaf1becb2fc38e420"
            ],
            "layout": "IPY_MODEL_1d75c21aae47449f879936ee9b1372ff"
          }
        },
        "36de93a7183b4ffe83d065a2265bdcb1": {
          "model_module": "@jupyter-widgets/base",
          "model_module_version": "1.2.0",
          "model_name": "LayoutModel",
          "state": {
            "_model_module": "@jupyter-widgets/base",
            "_model_module_version": "1.2.0",
            "_model_name": "LayoutModel",
            "_view_count": null,
            "_view_module": "@jupyter-widgets/base",
            "_view_module_version": "1.2.0",
            "_view_name": "LayoutView",
            "align_content": null,
            "align_items": null,
            "align_self": null,
            "border": null,
            "bottom": null,
            "display": null,
            "flex": null,
            "flex_flow": null,
            "grid_area": null,
            "grid_auto_columns": null,
            "grid_auto_flow": null,
            "grid_auto_rows": null,
            "grid_column": null,
            "grid_gap": null,
            "grid_row": null,
            "grid_template_areas": null,
            "grid_template_columns": null,
            "grid_template_rows": null,
            "height": null,
            "justify_content": null,
            "justify_items": null,
            "left": null,
            "margin": null,
            "max_height": null,
            "max_width": null,
            "min_height": null,
            "min_width": null,
            "object_fit": null,
            "object_position": null,
            "order": null,
            "overflow": null,
            "overflow_x": null,
            "overflow_y": null,
            "padding": null,
            "right": null,
            "top": null,
            "visibility": null,
            "width": null
          }
        },
        "378357e232014fbda8ad35eb6773f82e": {
          "model_module": "@jupyter-widgets/base",
          "model_module_version": "1.2.0",
          "model_name": "LayoutModel",
          "state": {
            "_model_module": "@jupyter-widgets/base",
            "_model_module_version": "1.2.0",
            "_model_name": "LayoutModel",
            "_view_count": null,
            "_view_module": "@jupyter-widgets/base",
            "_view_module_version": "1.2.0",
            "_view_name": "LayoutView",
            "align_content": null,
            "align_items": null,
            "align_self": null,
            "border": null,
            "bottom": null,
            "display": null,
            "flex": null,
            "flex_flow": null,
            "grid_area": null,
            "grid_auto_columns": null,
            "grid_auto_flow": null,
            "grid_auto_rows": null,
            "grid_column": null,
            "grid_gap": null,
            "grid_row": null,
            "grid_template_areas": null,
            "grid_template_columns": null,
            "grid_template_rows": null,
            "height": null,
            "justify_content": null,
            "justify_items": null,
            "left": null,
            "margin": null,
            "max_height": null,
            "max_width": null,
            "min_height": null,
            "min_width": null,
            "object_fit": null,
            "object_position": null,
            "order": null,
            "overflow": null,
            "overflow_x": null,
            "overflow_y": null,
            "padding": null,
            "right": null,
            "top": null,
            "visibility": null,
            "width": null
          }
        },
        "3abbf4bc3f704903a44b3679af12cc1c": {
          "model_module": "@jupyter-widgets/controls",
          "model_module_version": "1.5.0",
          "model_name": "DescriptionStyleModel",
          "state": {
            "_model_module": "@jupyter-widgets/controls",
            "_model_module_version": "1.5.0",
            "_model_name": "DescriptionStyleModel",
            "_view_count": null,
            "_view_module": "@jupyter-widgets/base",
            "_view_module_version": "1.2.0",
            "_view_name": "StyleView",
            "description_width": ""
          }
        },
        "3e0d66ba5ae64c66a07d4a7bcb661449": {
          "model_module": "@jupyter-widgets/output",
          "model_module_version": "1.0.0",
          "model_name": "OutputModel",
          "state": {
            "_dom_classes": [],
            "_model_module": "@jupyter-widgets/output",
            "_model_module_version": "1.0.0",
            "_model_name": "OutputModel",
            "_view_count": null,
            "_view_module": "@jupyter-widgets/output",
            "_view_module_version": "1.0.0",
            "_view_name": "OutputView",
            "layout": "IPY_MODEL_07b7c04ba6bc48baa2c52364d4f7f837",
            "msg_id": "",
            "outputs": [
              {
                "data": {
                  "application/vnd.google.colaboratory.intrinsic+json": {
                    "type": "string"
                  },
                  "text/plain": "'Model name: tiiuae/falcon-7b-instruct'"
                },
                "metadata": {},
                "output_type": "display_data"
              },
              {
                "data": {
                  "application/vnd.google.colaboratory.intrinsic+json": {
                    "type": "string"
                  },
                  "text/plain": "' looking  for \\n In  the'"
                },
                "metadata": {},
                "output_type": "display_data"
              },
              {
                "data": {
                  "application/vnd.google.colaboratory.intrinsic+json": {
                    "type": "string"
                  },
                  "text/plain": "' year   207 7 ,'"
                },
                "metadata": {},
                "output_type": "display_data"
              },
              {
                "data": {
                  "application/vnd.google.colaboratory.intrinsic+json": {
                    "type": "string"
                  },
                  "text/plain": "' a  black  cat  named  Shadow'"
                },
                "metadata": {},
                "output_type": "display_data"
              },
              {
                "data": {
                  "application/vnd.google.colaboratory.intrinsic+json": {
                    "type": "string"
                  },
                  "text/plain": "' was  infamous  in  the  underground'"
                },
                "metadata": {},
                "output_type": "display_data"
              }
            ]
          }
        },
        "3f6b1af8626849b99a83a6bab131de04": {
          "model_module": "@jupyter-widgets/controls",
          "model_module_version": "1.5.0",
          "model_name": "ProgressStyleModel",
          "state": {
            "_model_module": "@jupyter-widgets/controls",
            "_model_module_version": "1.5.0",
            "_model_name": "ProgressStyleModel",
            "_view_count": null,
            "_view_module": "@jupyter-widgets/base",
            "_view_module_version": "1.2.0",
            "_view_name": "StyleView",
            "bar_color": null,
            "description_width": ""
          }
        },
        "4101c6be4549498cae703928d38225bf": {
          "model_module": "@jupyter-widgets/base",
          "model_module_version": "1.2.0",
          "model_name": "LayoutModel",
          "state": {
            "_model_module": "@jupyter-widgets/base",
            "_model_module_version": "1.2.0",
            "_model_name": "LayoutModel",
            "_view_count": null,
            "_view_module": "@jupyter-widgets/base",
            "_view_module_version": "1.2.0",
            "_view_name": "LayoutView",
            "align_content": null,
            "align_items": null,
            "align_self": null,
            "border": "1px solid black",
            "bottom": null,
            "display": null,
            "flex": null,
            "flex_flow": null,
            "grid_area": null,
            "grid_auto_columns": null,
            "grid_auto_flow": null,
            "grid_auto_rows": null,
            "grid_column": null,
            "grid_gap": null,
            "grid_row": null,
            "grid_template_areas": null,
            "grid_template_columns": null,
            "grid_template_rows": null,
            "height": null,
            "justify_content": null,
            "justify_items": null,
            "left": null,
            "margin": null,
            "max_height": null,
            "max_width": null,
            "min_height": null,
            "min_width": null,
            "object_fit": null,
            "object_position": null,
            "order": null,
            "overflow": null,
            "overflow_x": null,
            "overflow_y": null,
            "padding": null,
            "right": null,
            "top": null,
            "visibility": null,
            "width": null
          }
        },
        "41c95bd3766140b9af6949b596999413": {
          "model_module": "@jupyter-widgets/base",
          "model_module_version": "1.2.0",
          "model_name": "LayoutModel",
          "state": {
            "_model_module": "@jupyter-widgets/base",
            "_model_module_version": "1.2.0",
            "_model_name": "LayoutModel",
            "_view_count": null,
            "_view_module": "@jupyter-widgets/base",
            "_view_module_version": "1.2.0",
            "_view_name": "LayoutView",
            "align_content": null,
            "align_items": null,
            "align_self": null,
            "border": null,
            "bottom": null,
            "display": null,
            "flex": null,
            "flex_flow": null,
            "grid_area": null,
            "grid_auto_columns": null,
            "grid_auto_flow": null,
            "grid_auto_rows": null,
            "grid_column": null,
            "grid_gap": null,
            "grid_row": null,
            "grid_template_areas": null,
            "grid_template_columns": null,
            "grid_template_rows": null,
            "height": null,
            "justify_content": null,
            "justify_items": null,
            "left": null,
            "margin": null,
            "max_height": null,
            "max_width": null,
            "min_height": null,
            "min_width": null,
            "object_fit": null,
            "object_position": null,
            "order": null,
            "overflow": null,
            "overflow_x": null,
            "overflow_y": null,
            "padding": null,
            "right": null,
            "top": null,
            "visibility": null,
            "width": null
          }
        },
        "44794f7082d24d1889029a9688f29854": {
          "model_module": "@jupyter-widgets/base",
          "model_module_version": "1.2.0",
          "model_name": "LayoutModel",
          "state": {
            "_model_module": "@jupyter-widgets/base",
            "_model_module_version": "1.2.0",
            "_model_name": "LayoutModel",
            "_view_count": null,
            "_view_module": "@jupyter-widgets/base",
            "_view_module_version": "1.2.0",
            "_view_name": "LayoutView",
            "align_content": null,
            "align_items": null,
            "align_self": null,
            "border": null,
            "bottom": null,
            "display": null,
            "flex": null,
            "flex_flow": null,
            "grid_area": null,
            "grid_auto_columns": null,
            "grid_auto_flow": null,
            "grid_auto_rows": null,
            "grid_column": null,
            "grid_gap": null,
            "grid_row": null,
            "grid_template_areas": null,
            "grid_template_columns": null,
            "grid_template_rows": null,
            "height": null,
            "justify_content": null,
            "justify_items": null,
            "left": null,
            "margin": null,
            "max_height": null,
            "max_width": null,
            "min_height": null,
            "min_width": null,
            "object_fit": null,
            "object_position": null,
            "order": null,
            "overflow": null,
            "overflow_x": null,
            "overflow_y": null,
            "padding": null,
            "right": null,
            "top": null,
            "visibility": null,
            "width": null
          }
        },
        "48310d20da0e4e778b0d4d7dbda0c6a0": {
          "model_module": "@jupyter-widgets/controls",
          "model_module_version": "1.5.0",
          "model_name": "HTMLModel",
          "state": {
            "_dom_classes": [],
            "_model_module": "@jupyter-widgets/controls",
            "_model_module_version": "1.5.0",
            "_model_name": "HTMLModel",
            "_view_count": null,
            "_view_module": "@jupyter-widgets/controls",
            "_view_module_version": "1.5.0",
            "_view_name": "HTMLView",
            "description": "",
            "description_tooltip": null,
            "layout": "IPY_MODEL_8e0e39185bea4af39aa930a3752df9aa",
            "placeholder": "​",
            "style": "IPY_MODEL_cb15eb5ba16046f7b1bcbacd559de513",
            "value": " 287/287 [00:00&lt;00:00, 22.3kB/s]"
          }
        },
        "491b2070c8e4404aab029061a5404428": {
          "model_module": "@jupyter-widgets/base",
          "model_module_version": "1.2.0",
          "model_name": "LayoutModel",
          "state": {
            "_model_module": "@jupyter-widgets/base",
            "_model_module_version": "1.2.0",
            "_model_name": "LayoutModel",
            "_view_count": null,
            "_view_module": "@jupyter-widgets/base",
            "_view_module_version": "1.2.0",
            "_view_name": "LayoutView",
            "align_content": null,
            "align_items": null,
            "align_self": null,
            "border": null,
            "bottom": null,
            "display": null,
            "flex": null,
            "flex_flow": null,
            "grid_area": null,
            "grid_auto_columns": null,
            "grid_auto_flow": null,
            "grid_auto_rows": null,
            "grid_column": null,
            "grid_gap": null,
            "grid_row": null,
            "grid_template_areas": null,
            "grid_template_columns": null,
            "grid_template_rows": null,
            "height": null,
            "justify_content": null,
            "justify_items": null,
            "left": null,
            "margin": null,
            "max_height": null,
            "max_width": null,
            "min_height": null,
            "min_width": null,
            "object_fit": null,
            "object_position": null,
            "order": null,
            "overflow": null,
            "overflow_x": null,
            "overflow_y": null,
            "padding": null,
            "right": null,
            "top": null,
            "visibility": null,
            "width": null
          }
        },
        "4b0e2d3b24564b7390a4c9e9faba2727": {
          "model_module": "@jupyter-widgets/base",
          "model_module_version": "1.2.0",
          "model_name": "LayoutModel",
          "state": {
            "_model_module": "@jupyter-widgets/base",
            "_model_module_version": "1.2.0",
            "_model_name": "LayoutModel",
            "_view_count": null,
            "_view_module": "@jupyter-widgets/base",
            "_view_module_version": "1.2.0",
            "_view_name": "LayoutView",
            "align_content": null,
            "align_items": null,
            "align_self": null,
            "border": null,
            "bottom": null,
            "display": null,
            "flex": null,
            "flex_flow": null,
            "grid_area": null,
            "grid_auto_columns": null,
            "grid_auto_flow": null,
            "grid_auto_rows": null,
            "grid_column": null,
            "grid_gap": null,
            "grid_row": null,
            "grid_template_areas": null,
            "grid_template_columns": null,
            "grid_template_rows": null,
            "height": null,
            "justify_content": null,
            "justify_items": null,
            "left": null,
            "margin": null,
            "max_height": null,
            "max_width": null,
            "min_height": null,
            "min_width": null,
            "object_fit": null,
            "object_position": null,
            "order": null,
            "overflow": null,
            "overflow_x": null,
            "overflow_y": null,
            "padding": null,
            "right": null,
            "top": null,
            "visibility": null,
            "width": null
          }
        },
        "4b0e811882de4bffa1da49b5ed498376": {
          "model_module": "@jupyter-widgets/base",
          "model_module_version": "1.2.0",
          "model_name": "LayoutModel",
          "state": {
            "_model_module": "@jupyter-widgets/base",
            "_model_module_version": "1.2.0",
            "_model_name": "LayoutModel",
            "_view_count": null,
            "_view_module": "@jupyter-widgets/base",
            "_view_module_version": "1.2.0",
            "_view_name": "LayoutView",
            "align_content": null,
            "align_items": null,
            "align_self": null,
            "border": null,
            "bottom": null,
            "display": null,
            "flex": null,
            "flex_flow": null,
            "grid_area": null,
            "grid_auto_columns": null,
            "grid_auto_flow": null,
            "grid_auto_rows": null,
            "grid_column": null,
            "grid_gap": null,
            "grid_row": null,
            "grid_template_areas": null,
            "grid_template_columns": null,
            "grid_template_rows": null,
            "height": null,
            "justify_content": null,
            "justify_items": null,
            "left": null,
            "margin": null,
            "max_height": null,
            "max_width": null,
            "min_height": null,
            "min_width": null,
            "object_fit": null,
            "object_position": null,
            "order": null,
            "overflow": null,
            "overflow_x": null,
            "overflow_y": null,
            "padding": null,
            "right": null,
            "top": null,
            "visibility": null,
            "width": null
          }
        },
        "4b99747fdf2746658bb86ce98ab25e1d": {
          "model_module": "@jupyter-widgets/base",
          "model_module_version": "1.2.0",
          "model_name": "LayoutModel",
          "state": {
            "_model_module": "@jupyter-widgets/base",
            "_model_module_version": "1.2.0",
            "_model_name": "LayoutModel",
            "_view_count": null,
            "_view_module": "@jupyter-widgets/base",
            "_view_module_version": "1.2.0",
            "_view_name": "LayoutView",
            "align_content": null,
            "align_items": null,
            "align_self": null,
            "border": null,
            "bottom": null,
            "display": null,
            "flex": null,
            "flex_flow": null,
            "grid_area": null,
            "grid_auto_columns": null,
            "grid_auto_flow": null,
            "grid_auto_rows": null,
            "grid_column": null,
            "grid_gap": null,
            "grid_row": null,
            "grid_template_areas": null,
            "grid_template_columns": null,
            "grid_template_rows": null,
            "height": null,
            "justify_content": null,
            "justify_items": null,
            "left": null,
            "margin": null,
            "max_height": null,
            "max_width": null,
            "min_height": null,
            "min_width": null,
            "object_fit": null,
            "object_position": null,
            "order": null,
            "overflow": null,
            "overflow_x": null,
            "overflow_y": null,
            "padding": null,
            "right": null,
            "top": null,
            "visibility": null,
            "width": null
          }
        },
        "5078c4d07ea54c869c2f5b2d9ab8e27d": {
          "model_module": "@jupyter-widgets/controls",
          "model_module_version": "1.5.0",
          "model_name": "DescriptionStyleModel",
          "state": {
            "_model_module": "@jupyter-widgets/controls",
            "_model_module_version": "1.5.0",
            "_model_name": "DescriptionStyleModel",
            "_view_count": null,
            "_view_module": "@jupyter-widgets/base",
            "_view_module_version": "1.2.0",
            "_view_name": "StyleView",
            "description_width": ""
          }
        },
        "521114d351054104996f66e20e92a22a": {
          "model_module": "@jupyter-widgets/controls",
          "model_module_version": "1.5.0",
          "model_name": "FloatProgressModel",
          "state": {
            "_dom_classes": [],
            "_model_module": "@jupyter-widgets/controls",
            "_model_module_version": "1.5.0",
            "_model_name": "FloatProgressModel",
            "_view_count": null,
            "_view_module": "@jupyter-widgets/controls",
            "_view_module_version": "1.5.0",
            "_view_name": "ProgressView",
            "bar_style": "success",
            "description": "",
            "description_tooltip": null,
            "layout": "IPY_MODEL_80bbb90c18fc4ddcbd92ad603b032a5e",
            "max": 1795303,
            "min": 0,
            "orientation": "horizontal",
            "style": "IPY_MODEL_3490d5bbde854aea8e566d4dfcde14ff",
            "value": 1795303
          }
        },
        "5a48a28a1f604dce9035322d92893ded": {
          "model_module": "@jupyter-widgets/controls",
          "model_module_version": "1.5.0",
          "model_name": "ProgressStyleModel",
          "state": {
            "_model_module": "@jupyter-widgets/controls",
            "_model_module_version": "1.5.0",
            "_model_name": "ProgressStyleModel",
            "_view_count": null,
            "_view_module": "@jupyter-widgets/base",
            "_view_module_version": "1.2.0",
            "_view_name": "StyleView",
            "bar_color": null,
            "description_width": ""
          }
        },
        "5bc7d1547542406b95e0cae0a8d36958": {
          "model_module": "@jupyter-widgets/controls",
          "model_module_version": "1.5.0",
          "model_name": "DescriptionStyleModel",
          "state": {
            "_model_module": "@jupyter-widgets/controls",
            "_model_module_version": "1.5.0",
            "_model_name": "DescriptionStyleModel",
            "_view_count": null,
            "_view_module": "@jupyter-widgets/base",
            "_view_module_version": "1.2.0",
            "_view_name": "StyleView",
            "description_width": ""
          }
        },
        "5ddfd095212b4b6983c5090d74ced482": {
          "model_module": "@jupyter-widgets/controls",
          "model_module_version": "1.5.0",
          "model_name": "HTMLModel",
          "state": {
            "_dom_classes": [],
            "_model_module": "@jupyter-widgets/controls",
            "_model_module_version": "1.5.0",
            "_model_name": "HTMLModel",
            "_view_count": null,
            "_view_module": "@jupyter-widgets/controls",
            "_view_module_version": "1.5.0",
            "_view_name": "HTMLView",
            "description": "",
            "description_tooltip": null,
            "layout": "IPY_MODEL_b1f2e890c1314e1ea3633e634fb56a7f",
            "placeholder": "​",
            "style": "IPY_MODEL_fa175478d3a64aa09f103f7e0b5853c8",
            "value": "special_tokens_map.json: 100%"
          }
        },
        "5f617626bcf24752b96b2a246c4b65d2": {
          "model_module": "@jupyter-widgets/base",
          "model_module_version": "1.2.0",
          "model_name": "LayoutModel",
          "state": {
            "_model_module": "@jupyter-widgets/base",
            "_model_module_version": "1.2.0",
            "_model_name": "LayoutModel",
            "_view_count": null,
            "_view_module": "@jupyter-widgets/base",
            "_view_module_version": "1.2.0",
            "_view_name": "LayoutView",
            "align_content": null,
            "align_items": null,
            "align_self": null,
            "border": null,
            "bottom": null,
            "display": null,
            "flex": null,
            "flex_flow": null,
            "grid_area": null,
            "grid_auto_columns": null,
            "grid_auto_flow": null,
            "grid_auto_rows": null,
            "grid_column": null,
            "grid_gap": null,
            "grid_row": null,
            "grid_template_areas": null,
            "grid_template_columns": null,
            "grid_template_rows": null,
            "height": null,
            "justify_content": null,
            "justify_items": null,
            "left": null,
            "margin": null,
            "max_height": null,
            "max_width": null,
            "min_height": null,
            "min_width": null,
            "object_fit": null,
            "object_position": null,
            "order": null,
            "overflow": null,
            "overflow_x": null,
            "overflow_y": null,
            "padding": null,
            "right": null,
            "top": null,
            "visibility": null,
            "width": null
          }
        },
        "5f6d260e36b54e5eb53878f991da3435": {
          "model_module": "@jupyter-widgets/controls",
          "model_module_version": "1.5.0",
          "model_name": "FloatProgressModel",
          "state": {
            "_dom_classes": [],
            "_model_module": "@jupyter-widgets/controls",
            "_model_module_version": "1.5.0",
            "_model_name": "FloatProgressModel",
            "_view_count": null,
            "_view_module": "@jupyter-widgets/controls",
            "_view_module_version": "1.5.0",
            "_view_name": "ProgressView",
            "bar_style": "success",
            "description": "",
            "description_tooltip": null,
            "layout": "IPY_MODEL_a6c6d445609b43b6a904c80accfdacbe",
            "max": 222,
            "min": 0,
            "orientation": "horizontal",
            "style": "IPY_MODEL_77522a182e9c4408a68b011d2b69a311",
            "value": 222
          }
        },
        "6359d627a68841ddbc363a7f356d2800": {
          "model_module": "@jupyter-widgets/base",
          "model_module_version": "1.2.0",
          "model_name": "LayoutModel",
          "state": {
            "_model_module": "@jupyter-widgets/base",
            "_model_module_version": "1.2.0",
            "_model_name": "LayoutModel",
            "_view_count": null,
            "_view_module": "@jupyter-widgets/base",
            "_view_module_version": "1.2.0",
            "_view_name": "LayoutView",
            "align_content": null,
            "align_items": null,
            "align_self": null,
            "border": null,
            "bottom": null,
            "display": null,
            "flex": null,
            "flex_flow": null,
            "grid_area": null,
            "grid_auto_columns": null,
            "grid_auto_flow": null,
            "grid_auto_rows": null,
            "grid_column": null,
            "grid_gap": null,
            "grid_row": null,
            "grid_template_areas": null,
            "grid_template_columns": null,
            "grid_template_rows": null,
            "height": null,
            "justify_content": null,
            "justify_items": null,
            "left": null,
            "margin": null,
            "max_height": null,
            "max_width": null,
            "min_height": null,
            "min_width": null,
            "object_fit": null,
            "object_position": null,
            "order": null,
            "overflow": null,
            "overflow_x": null,
            "overflow_y": null,
            "padding": null,
            "right": null,
            "top": null,
            "visibility": null,
            "width": null
          }
        },
        "6a63a02666d14be7b3f931113c5af21a": {
          "model_module": "@jupyter-widgets/controls",
          "model_module_version": "1.5.0",
          "model_name": "FloatProgressModel",
          "state": {
            "_dom_classes": [],
            "_model_module": "@jupyter-widgets/controls",
            "_model_module_version": "1.5.0",
            "_model_name": "FloatProgressModel",
            "_view_count": null,
            "_view_module": "@jupyter-widgets/controls",
            "_view_module_version": "1.5.0",
            "_view_name": "ProgressView",
            "bar_style": "success",
            "description": "",
            "description_tooltip": null,
            "layout": "IPY_MODEL_1cb0a448fe4d4b5b89d33ef3fa425d8e",
            "max": 85,
            "min": 0,
            "orientation": "horizontal",
            "style": "IPY_MODEL_3f6b1af8626849b99a83a6bab131de04",
            "value": 85
          }
        },
        "6c3b4fd6eef345d6a81019e599bc6a82": {
          "model_module": "@jupyter-widgets/controls",
          "model_module_version": "1.5.0",
          "model_name": "DescriptionStyleModel",
          "state": {
            "_model_module": "@jupyter-widgets/controls",
            "_model_module_version": "1.5.0",
            "_model_name": "DescriptionStyleModel",
            "_view_count": null,
            "_view_module": "@jupyter-widgets/base",
            "_view_module_version": "1.2.0",
            "_view_name": "StyleView",
            "description_width": ""
          }
        },
        "7102509d75ca4192a091a955f86710a2": {
          "model_module": "@jupyter-widgets/base",
          "model_module_version": "1.2.0",
          "model_name": "LayoutModel",
          "state": {
            "_model_module": "@jupyter-widgets/base",
            "_model_module_version": "1.2.0",
            "_model_name": "LayoutModel",
            "_view_count": null,
            "_view_module": "@jupyter-widgets/base",
            "_view_module_version": "1.2.0",
            "_view_name": "LayoutView",
            "align_content": null,
            "align_items": null,
            "align_self": null,
            "border": null,
            "bottom": null,
            "display": null,
            "flex": null,
            "flex_flow": null,
            "grid_area": null,
            "grid_auto_columns": null,
            "grid_auto_flow": null,
            "grid_auto_rows": null,
            "grid_column": null,
            "grid_gap": null,
            "grid_row": null,
            "grid_template_areas": null,
            "grid_template_columns": null,
            "grid_template_rows": null,
            "height": null,
            "justify_content": null,
            "justify_items": null,
            "left": null,
            "margin": null,
            "max_height": null,
            "max_width": null,
            "min_height": null,
            "min_width": null,
            "object_fit": null,
            "object_position": null,
            "order": null,
            "overflow": null,
            "overflow_x": null,
            "overflow_y": null,
            "padding": null,
            "right": null,
            "top": null,
            "visibility": null,
            "width": null
          }
        },
        "7122fe13a5124759b59842c9d6436a0e": {
          "model_module": "@jupyter-widgets/controls",
          "model_module_version": "1.5.0",
          "model_name": "DescriptionStyleModel",
          "state": {
            "_model_module": "@jupyter-widgets/controls",
            "_model_module_version": "1.5.0",
            "_model_name": "DescriptionStyleModel",
            "_view_count": null,
            "_view_module": "@jupyter-widgets/base",
            "_view_module_version": "1.2.0",
            "_view_name": "StyleView",
            "description_width": ""
          }
        },
        "74e95fa99c40412a84ff636d54a3433f": {
          "model_module": "@jupyter-widgets/controls",
          "model_module_version": "1.5.0",
          "model_name": "ProgressStyleModel",
          "state": {
            "_model_module": "@jupyter-widgets/controls",
            "_model_module_version": "1.5.0",
            "_model_name": "ProgressStyleModel",
            "_view_count": null,
            "_view_module": "@jupyter-widgets/base",
            "_view_module_version": "1.2.0",
            "_view_name": "StyleView",
            "bar_color": null,
            "description_width": ""
          }
        },
        "77522a182e9c4408a68b011d2b69a311": {
          "model_module": "@jupyter-widgets/controls",
          "model_module_version": "1.5.0",
          "model_name": "ProgressStyleModel",
          "state": {
            "_model_module": "@jupyter-widgets/controls",
            "_model_module_version": "1.5.0",
            "_model_name": "ProgressStyleModel",
            "_view_count": null,
            "_view_module": "@jupyter-widgets/base",
            "_view_module_version": "1.2.0",
            "_view_name": "StyleView",
            "bar_color": null,
            "description_width": ""
          }
        },
        "7996b171bab842c2bb11db3d5d641956": {
          "model_module": "@jupyter-widgets/controls",
          "model_module_version": "1.5.0",
          "model_name": "ProgressStyleModel",
          "state": {
            "_model_module": "@jupyter-widgets/controls",
            "_model_module_version": "1.5.0",
            "_model_name": "ProgressStyleModel",
            "_view_count": null,
            "_view_module": "@jupyter-widgets/base",
            "_view_module_version": "1.2.0",
            "_view_name": "StyleView",
            "bar_color": null,
            "description_width": ""
          }
        },
        "7ada1f6b6b8c480489333dd8f7d638d9": {
          "model_module": "@jupyter-widgets/base",
          "model_module_version": "1.2.0",
          "model_name": "LayoutModel",
          "state": {
            "_model_module": "@jupyter-widgets/base",
            "_model_module_version": "1.2.0",
            "_model_name": "LayoutModel",
            "_view_count": null,
            "_view_module": "@jupyter-widgets/base",
            "_view_module_version": "1.2.0",
            "_view_name": "LayoutView",
            "align_content": null,
            "align_items": null,
            "align_self": null,
            "border": null,
            "bottom": null,
            "display": null,
            "flex": null,
            "flex_flow": null,
            "grid_area": null,
            "grid_auto_columns": null,
            "grid_auto_flow": null,
            "grid_auto_rows": null,
            "grid_column": null,
            "grid_gap": null,
            "grid_row": null,
            "grid_template_areas": null,
            "grid_template_columns": null,
            "grid_template_rows": null,
            "height": null,
            "justify_content": null,
            "justify_items": null,
            "left": null,
            "margin": null,
            "max_height": null,
            "max_width": null,
            "min_height": null,
            "min_width": null,
            "object_fit": null,
            "object_position": null,
            "order": null,
            "overflow": null,
            "overflow_x": null,
            "overflow_y": null,
            "padding": null,
            "right": null,
            "top": null,
            "visibility": null,
            "width": null
          }
        },
        "7cb978ba84ec41fe83e50abe8e52760c": {
          "model_module": "@jupyter-widgets/controls",
          "model_module_version": "1.5.0",
          "model_name": "HTMLModel",
          "state": {
            "_dom_classes": [],
            "_model_module": "@jupyter-widgets/controls",
            "_model_module_version": "1.5.0",
            "_model_name": "HTMLModel",
            "_view_count": null,
            "_view_module": "@jupyter-widgets/controls",
            "_view_module_version": "1.5.0",
            "_view_name": "HTMLView",
            "description": "",
            "description_tooltip": null,
            "layout": "IPY_MODEL_44794f7082d24d1889029a9688f29854",
            "placeholder": "​",
            "style": "IPY_MODEL_5078c4d07ea54c869c2f5b2d9ab8e27d",
            "value": "special_tokens_map.json: 100%"
          }
        },
        "7d7c58f40a57445eb25097259ec7ae63": {
          "model_module": "@jupyter-widgets/controls",
          "model_module_version": "1.5.0",
          "model_name": "HTMLModel",
          "state": {
            "_dom_classes": [],
            "_model_module": "@jupyter-widgets/controls",
            "_model_module_version": "1.5.0",
            "_model_name": "HTMLModel",
            "_view_count": null,
            "_view_module": "@jupyter-widgets/controls",
            "_view_module_version": "1.5.0",
            "_view_name": "HTMLView",
            "description": "",
            "description_tooltip": null,
            "layout": "IPY_MODEL_1b4b2634dc42426a8a066e01be061e05",
            "placeholder": "​",
            "style": "IPY_MODEL_d5513a59e3d748358d06910331008cc4",
            "value": " 85.0/85.0 [00:00&lt;00:00, 4.45kB/s]"
          }
        },
        "7dc3369ca1e448c69981e462ddf018c6": {
          "model_module": "@jupyter-widgets/base",
          "model_module_version": "1.2.0",
          "model_name": "LayoutModel",
          "state": {
            "_model_module": "@jupyter-widgets/base",
            "_model_module_version": "1.2.0",
            "_model_name": "LayoutModel",
            "_view_count": null,
            "_view_module": "@jupyter-widgets/base",
            "_view_module_version": "1.2.0",
            "_view_name": "LayoutView",
            "align_content": null,
            "align_items": null,
            "align_self": null,
            "border": null,
            "bottom": null,
            "display": null,
            "flex": null,
            "flex_flow": null,
            "grid_area": null,
            "grid_auto_columns": null,
            "grid_auto_flow": null,
            "grid_auto_rows": null,
            "grid_column": null,
            "grid_gap": null,
            "grid_row": null,
            "grid_template_areas": null,
            "grid_template_columns": null,
            "grid_template_rows": null,
            "height": null,
            "justify_content": null,
            "justify_items": null,
            "left": null,
            "margin": null,
            "max_height": null,
            "max_width": null,
            "min_height": null,
            "min_width": null,
            "object_fit": null,
            "object_position": null,
            "order": null,
            "overflow": null,
            "overflow_x": null,
            "overflow_y": null,
            "padding": null,
            "right": null,
            "top": null,
            "visibility": null,
            "width": null
          }
        },
        "7f5ca9aee0354ff3806c4cc8b94d8f4a": {
          "model_module": "@jupyter-widgets/base",
          "model_module_version": "1.2.0",
          "model_name": "LayoutModel",
          "state": {
            "_model_module": "@jupyter-widgets/base",
            "_model_module_version": "1.2.0",
            "_model_name": "LayoutModel",
            "_view_count": null,
            "_view_module": "@jupyter-widgets/base",
            "_view_module_version": "1.2.0",
            "_view_name": "LayoutView",
            "align_content": null,
            "align_items": null,
            "align_self": null,
            "border": null,
            "bottom": null,
            "display": null,
            "flex": null,
            "flex_flow": null,
            "grid_area": null,
            "grid_auto_columns": null,
            "grid_auto_flow": null,
            "grid_auto_rows": null,
            "grid_column": null,
            "grid_gap": null,
            "grid_row": null,
            "grid_template_areas": null,
            "grid_template_columns": null,
            "grid_template_rows": null,
            "height": null,
            "justify_content": null,
            "justify_items": null,
            "left": null,
            "margin": null,
            "max_height": null,
            "max_width": null,
            "min_height": null,
            "min_width": null,
            "object_fit": null,
            "object_position": null,
            "order": null,
            "overflow": null,
            "overflow_x": null,
            "overflow_y": null,
            "padding": null,
            "right": null,
            "top": null,
            "visibility": null,
            "width": null
          }
        },
        "80564696d1a24476bf2948fe329d838e": {
          "model_module": "@jupyter-widgets/output",
          "model_module_version": "1.0.0",
          "model_name": "OutputModel",
          "state": {
            "_dom_classes": [],
            "_model_module": "@jupyter-widgets/output",
            "_model_module_version": "1.0.0",
            "_model_name": "OutputModel",
            "_view_count": null,
            "_view_module": "@jupyter-widgets/output",
            "_view_module_version": "1.0.0",
            "_view_name": "OutputView",
            "layout": "IPY_MODEL_ea5cf56989064a139fe9061be34a5aa0",
            "msg_id": "",
            "outputs": [
              {
                "data": {
                  "application/vnd.google.colaboratory.intrinsic+json": {
                    "type": "string"
                  },
                  "text/plain": "'Model name: mistralai/Mistral-7B-v0.1'"
                },
                "metadata": {},
                "output_type": "display_data"
              },
              {
                "data": {
                  "application/vnd.google.colaboratory.intrinsic+json": {
                    "type": "string"
                  },
                  "text/plain": "'.   \\n \\n I'"
                },
                "metadata": {},
                "output_type": "display_data"
              },
              {
                "data": {
                  "application/vnd.google.colaboratory.intrinsic+json": {
                    "type": "string"
                  },
                  "text/plain": "'’ m  not  sure  what'"
                },
                "metadata": {},
                "output_type": "display_data"
              },
              {
                "data": {
                  "application/vnd.google.colaboratory.intrinsic+json": {
                    "type": "string"
                  },
                  "text/plain": "' I ’ m  looking  for'"
                },
                "metadata": {},
                "output_type": "display_data"
              },
              {
                "data": {
                  "application/vnd.google.colaboratory.intrinsic+json": {
                    "type": "string"
                  },
                  "text/plain": "',  but  I ’ m'"
                },
                "metadata": {},
                "output_type": "display_data"
              }
            ]
          }
        },
        "80bbb90c18fc4ddcbd92ad603b032a5e": {
          "model_module": "@jupyter-widgets/base",
          "model_module_version": "1.2.0",
          "model_name": "LayoutModel",
          "state": {
            "_model_module": "@jupyter-widgets/base",
            "_model_module_version": "1.2.0",
            "_model_name": "LayoutModel",
            "_view_count": null,
            "_view_module": "@jupyter-widgets/base",
            "_view_module_version": "1.2.0",
            "_view_name": "LayoutView",
            "align_content": null,
            "align_items": null,
            "align_self": null,
            "border": null,
            "bottom": null,
            "display": null,
            "flex": null,
            "flex_flow": null,
            "grid_area": null,
            "grid_auto_columns": null,
            "grid_auto_flow": null,
            "grid_auto_rows": null,
            "grid_column": null,
            "grid_gap": null,
            "grid_row": null,
            "grid_template_areas": null,
            "grid_template_columns": null,
            "grid_template_rows": null,
            "height": null,
            "justify_content": null,
            "justify_items": null,
            "left": null,
            "margin": null,
            "max_height": null,
            "max_width": null,
            "min_height": null,
            "min_width": null,
            "object_fit": null,
            "object_position": null,
            "order": null,
            "overflow": null,
            "overflow_x": null,
            "overflow_y": null,
            "padding": null,
            "right": null,
            "top": null,
            "visibility": null,
            "width": null
          }
        },
        "815aa58d79a8420e90cc8c4931d09a69": {
          "model_module": "@jupyter-widgets/base",
          "model_module_version": "1.2.0",
          "model_name": "LayoutModel",
          "state": {
            "_model_module": "@jupyter-widgets/base",
            "_model_module_version": "1.2.0",
            "_model_name": "LayoutModel",
            "_view_count": null,
            "_view_module": "@jupyter-widgets/base",
            "_view_module_version": "1.2.0",
            "_view_name": "LayoutView",
            "align_content": null,
            "align_items": null,
            "align_self": null,
            "border": null,
            "bottom": null,
            "display": null,
            "flex": null,
            "flex_flow": null,
            "grid_area": null,
            "grid_auto_columns": null,
            "grid_auto_flow": null,
            "grid_auto_rows": null,
            "grid_column": null,
            "grid_gap": null,
            "grid_row": null,
            "grid_template_areas": null,
            "grid_template_columns": null,
            "grid_template_rows": null,
            "height": null,
            "justify_content": null,
            "justify_items": null,
            "left": null,
            "margin": null,
            "max_height": null,
            "max_width": null,
            "min_height": null,
            "min_width": null,
            "object_fit": null,
            "object_position": null,
            "order": null,
            "overflow": null,
            "overflow_x": null,
            "overflow_y": null,
            "padding": null,
            "right": null,
            "top": null,
            "visibility": null,
            "width": null
          }
        },
        "8247a42839ea43ba8db840f41eb14af6": {
          "model_module": "@jupyter-widgets/controls",
          "model_module_version": "1.5.0",
          "model_name": "ProgressStyleModel",
          "state": {
            "_model_module": "@jupyter-widgets/controls",
            "_model_module_version": "1.5.0",
            "_model_name": "ProgressStyleModel",
            "_view_count": null,
            "_view_module": "@jupyter-widgets/base",
            "_view_module_version": "1.2.0",
            "_view_name": "StyleView",
            "bar_color": null,
            "description_width": ""
          }
        },
        "8256d386740e482197076450fc29f7e5": {
          "model_module": "@jupyter-widgets/controls",
          "model_module_version": "1.5.0",
          "model_name": "DescriptionStyleModel",
          "state": {
            "_model_module": "@jupyter-widgets/controls",
            "_model_module_version": "1.5.0",
            "_model_name": "DescriptionStyleModel",
            "_view_count": null,
            "_view_module": "@jupyter-widgets/base",
            "_view_module_version": "1.2.0",
            "_view_name": "StyleView",
            "description_width": ""
          }
        },
        "8270ee28471949efbbda6723aa7aaf34": {
          "model_module": "@jupyter-widgets/base",
          "model_module_version": "1.2.0",
          "model_name": "LayoutModel",
          "state": {
            "_model_module": "@jupyter-widgets/base",
            "_model_module_version": "1.2.0",
            "_model_name": "LayoutModel",
            "_view_count": null,
            "_view_module": "@jupyter-widgets/base",
            "_view_module_version": "1.2.0",
            "_view_name": "LayoutView",
            "align_content": null,
            "align_items": null,
            "align_self": null,
            "border": null,
            "bottom": null,
            "display": null,
            "flex": null,
            "flex_flow": null,
            "grid_area": null,
            "grid_auto_columns": null,
            "grid_auto_flow": null,
            "grid_auto_rows": null,
            "grid_column": null,
            "grid_gap": null,
            "grid_row": null,
            "grid_template_areas": null,
            "grid_template_columns": null,
            "grid_template_rows": null,
            "height": null,
            "justify_content": null,
            "justify_items": null,
            "left": null,
            "margin": null,
            "max_height": null,
            "max_width": null,
            "min_height": null,
            "min_width": null,
            "object_fit": null,
            "object_position": null,
            "order": null,
            "overflow": null,
            "overflow_x": null,
            "overflow_y": null,
            "padding": null,
            "right": null,
            "top": null,
            "visibility": null,
            "width": null
          }
        },
        "845847e8aa4749e3950d89b65f12ca47": {
          "model_module": "@jupyter-widgets/base",
          "model_module_version": "1.2.0",
          "model_name": "LayoutModel",
          "state": {
            "_model_module": "@jupyter-widgets/base",
            "_model_module_version": "1.2.0",
            "_model_name": "LayoutModel",
            "_view_count": null,
            "_view_module": "@jupyter-widgets/base",
            "_view_module_version": "1.2.0",
            "_view_name": "LayoutView",
            "align_content": null,
            "align_items": null,
            "align_self": null,
            "border": null,
            "bottom": null,
            "display": null,
            "flex": null,
            "flex_flow": null,
            "grid_area": null,
            "grid_auto_columns": null,
            "grid_auto_flow": null,
            "grid_auto_rows": null,
            "grid_column": null,
            "grid_gap": null,
            "grid_row": null,
            "grid_template_areas": null,
            "grid_template_columns": null,
            "grid_template_rows": null,
            "height": null,
            "justify_content": null,
            "justify_items": null,
            "left": null,
            "margin": null,
            "max_height": null,
            "max_width": null,
            "min_height": null,
            "min_width": null,
            "object_fit": null,
            "object_position": null,
            "order": null,
            "overflow": null,
            "overflow_x": null,
            "overflow_y": null,
            "padding": null,
            "right": null,
            "top": null,
            "visibility": null,
            "width": null
          }
        },
        "85c7ef514fab4f09956b97fbc2deb391": {
          "model_module": "@jupyter-widgets/controls",
          "model_module_version": "1.5.0",
          "model_name": "ProgressStyleModel",
          "state": {
            "_model_module": "@jupyter-widgets/controls",
            "_model_module_version": "1.5.0",
            "_model_name": "ProgressStyleModel",
            "_view_count": null,
            "_view_module": "@jupyter-widgets/base",
            "_view_module_version": "1.2.0",
            "_view_name": "StyleView",
            "bar_color": null,
            "description_width": ""
          }
        },
        "88cef145e1a940ce826518c040fac414": {
          "model_module": "@jupyter-widgets/controls",
          "model_module_version": "1.5.0",
          "model_name": "HBoxModel",
          "state": {
            "_dom_classes": [],
            "_model_module": "@jupyter-widgets/controls",
            "_model_module_version": "1.5.0",
            "_model_name": "HBoxModel",
            "_view_count": null,
            "_view_module": "@jupyter-widgets/controls",
            "_view_module_version": "1.5.0",
            "_view_name": "HBoxView",
            "box_style": "",
            "children": [
              "IPY_MODEL_28585ecc3ec741109a4644c2c0388c6e",
              "IPY_MODEL_bc550e75b67e460dae22b24a4b63c334",
              "IPY_MODEL_0b8328c37dc54284a97d6884641384f9"
            ],
            "layout": "IPY_MODEL_845847e8aa4749e3950d89b65f12ca47"
          }
        },
        "8ca51f53d0b247b4ba9a27d617866ac0": {
          "model_module": "@jupyter-widgets/controls",
          "model_module_version": "1.5.0",
          "model_name": "HBoxModel",
          "state": {
            "_dom_classes": [],
            "_model_module": "@jupyter-widgets/controls",
            "_model_module_version": "1.5.0",
            "_model_name": "HBoxModel",
            "_view_count": null,
            "_view_module": "@jupyter-widgets/controls",
            "_view_module_version": "1.5.0",
            "_view_name": "HBoxView",
            "box_style": "",
            "children": [
              "IPY_MODEL_b460c8004db8474d954b799eb4508b46",
              "IPY_MODEL_5f6d260e36b54e5eb53878f991da3435",
              "IPY_MODEL_b7d8c72b754642d7a9759e9fc0804386"
            ],
            "layout": "IPY_MODEL_edd6352483fb4c79b602dc02a27de77f"
          }
        },
        "8e0e39185bea4af39aa930a3752df9aa": {
          "model_module": "@jupyter-widgets/base",
          "model_module_version": "1.2.0",
          "model_name": "LayoutModel",
          "state": {
            "_model_module": "@jupyter-widgets/base",
            "_model_module_version": "1.2.0",
            "_model_name": "LayoutModel",
            "_view_count": null,
            "_view_module": "@jupyter-widgets/base",
            "_view_module_version": "1.2.0",
            "_view_name": "LayoutView",
            "align_content": null,
            "align_items": null,
            "align_self": null,
            "border": null,
            "bottom": null,
            "display": null,
            "flex": null,
            "flex_flow": null,
            "grid_area": null,
            "grid_auto_columns": null,
            "grid_auto_flow": null,
            "grid_auto_rows": null,
            "grid_column": null,
            "grid_gap": null,
            "grid_row": null,
            "grid_template_areas": null,
            "grid_template_columns": null,
            "grid_template_rows": null,
            "height": null,
            "justify_content": null,
            "justify_items": null,
            "left": null,
            "margin": null,
            "max_height": null,
            "max_width": null,
            "min_height": null,
            "min_width": null,
            "object_fit": null,
            "object_position": null,
            "order": null,
            "overflow": null,
            "overflow_x": null,
            "overflow_y": null,
            "padding": null,
            "right": null,
            "top": null,
            "visibility": null,
            "width": null
          }
        },
        "8f7a87db386547bfafc60c82966f93d7": {
          "model_module": "@jupyter-widgets/base",
          "model_module_version": "1.2.0",
          "model_name": "LayoutModel",
          "state": {
            "_model_module": "@jupyter-widgets/base",
            "_model_module_version": "1.2.0",
            "_model_name": "LayoutModel",
            "_view_count": null,
            "_view_module": "@jupyter-widgets/base",
            "_view_module_version": "1.2.0",
            "_view_name": "LayoutView",
            "align_content": null,
            "align_items": null,
            "align_self": null,
            "border": null,
            "bottom": null,
            "display": null,
            "flex": null,
            "flex_flow": null,
            "grid_area": null,
            "grid_auto_columns": null,
            "grid_auto_flow": null,
            "grid_auto_rows": null,
            "grid_column": null,
            "grid_gap": null,
            "grid_row": null,
            "grid_template_areas": null,
            "grid_template_columns": null,
            "grid_template_rows": null,
            "height": null,
            "justify_content": null,
            "justify_items": null,
            "left": null,
            "margin": null,
            "max_height": null,
            "max_width": null,
            "min_height": null,
            "min_width": null,
            "object_fit": null,
            "object_position": null,
            "order": null,
            "overflow": null,
            "overflow_x": null,
            "overflow_y": null,
            "padding": null,
            "right": null,
            "top": null,
            "visibility": null,
            "width": null
          }
        },
        "8fbf421eab3b4a11b4c3e03dc30b98d5": {
          "model_module": "@jupyter-widgets/controls",
          "model_module_version": "1.5.0",
          "model_name": "DescriptionStyleModel",
          "state": {
            "_model_module": "@jupyter-widgets/controls",
            "_model_module_version": "1.5.0",
            "_model_name": "DescriptionStyleModel",
            "_view_count": null,
            "_view_module": "@jupyter-widgets/base",
            "_view_module_version": "1.2.0",
            "_view_name": "StyleView",
            "description_width": ""
          }
        },
        "93584f6a311f4795bf84f6ff2398b78b": {
          "model_module": "@jupyter-widgets/controls",
          "model_module_version": "1.5.0",
          "model_name": "DescriptionStyleModel",
          "state": {
            "_model_module": "@jupyter-widgets/controls",
            "_model_module_version": "1.5.0",
            "_model_name": "DescriptionStyleModel",
            "_view_count": null,
            "_view_module": "@jupyter-widgets/base",
            "_view_module_version": "1.2.0",
            "_view_name": "StyleView",
            "description_width": ""
          }
        },
        "962a8b0e360045b59cbcf30a3ae280b1": {
          "model_module": "@jupyter-widgets/base",
          "model_module_version": "1.2.0",
          "model_name": "LayoutModel",
          "state": {
            "_model_module": "@jupyter-widgets/base",
            "_model_module_version": "1.2.0",
            "_model_name": "LayoutModel",
            "_view_count": null,
            "_view_module": "@jupyter-widgets/base",
            "_view_module_version": "1.2.0",
            "_view_name": "LayoutView",
            "align_content": null,
            "align_items": null,
            "align_self": null,
            "border": null,
            "bottom": null,
            "display": null,
            "flex": null,
            "flex_flow": null,
            "grid_area": null,
            "grid_auto_columns": null,
            "grid_auto_flow": null,
            "grid_auto_rows": null,
            "grid_column": null,
            "grid_gap": null,
            "grid_row": null,
            "grid_template_areas": null,
            "grid_template_columns": null,
            "grid_template_rows": null,
            "height": null,
            "justify_content": null,
            "justify_items": null,
            "left": null,
            "margin": null,
            "max_height": null,
            "max_width": null,
            "min_height": null,
            "min_width": null,
            "object_fit": null,
            "object_position": null,
            "order": null,
            "overflow": null,
            "overflow_x": null,
            "overflow_y": null,
            "padding": null,
            "right": null,
            "top": null,
            "visibility": null,
            "width": null
          }
        },
        "978a31f14c664792928267235bedc7ab": {
          "model_module": "@jupyter-widgets/controls",
          "model_module_version": "1.5.0",
          "model_name": "HTMLModel",
          "state": {
            "_dom_classes": [],
            "_model_module": "@jupyter-widgets/controls",
            "_model_module_version": "1.5.0",
            "_model_name": "HTMLModel",
            "_view_count": null,
            "_view_module": "@jupyter-widgets/controls",
            "_view_module_version": "1.5.0",
            "_view_name": "HTMLView",
            "description": "",
            "description_tooltip": null,
            "layout": "IPY_MODEL_99b4fdc589e941a0872fdf6b4ab9a497",
            "placeholder": "​",
            "style": "IPY_MODEL_fc0570d0098d445f859ec694477b16bf",
            "value": " 72.0/72.0 [00:00&lt;00:00, 4.39kB/s]"
          }
        },
        "989f73109ac4465faa126f0971d95600": {
          "model_module": "@jupyter-widgets/base",
          "model_module_version": "1.2.0",
          "model_name": "LayoutModel",
          "state": {
            "_model_module": "@jupyter-widgets/base",
            "_model_module_version": "1.2.0",
            "_model_name": "LayoutModel",
            "_view_count": null,
            "_view_module": "@jupyter-widgets/base",
            "_view_module_version": "1.2.0",
            "_view_name": "LayoutView",
            "align_content": null,
            "align_items": null,
            "align_self": null,
            "border": null,
            "bottom": null,
            "display": null,
            "flex": null,
            "flex_flow": null,
            "grid_area": null,
            "grid_auto_columns": null,
            "grid_auto_flow": null,
            "grid_auto_rows": null,
            "grid_column": null,
            "grid_gap": null,
            "grid_row": null,
            "grid_template_areas": null,
            "grid_template_columns": null,
            "grid_template_rows": null,
            "height": null,
            "justify_content": null,
            "justify_items": null,
            "left": null,
            "margin": null,
            "max_height": null,
            "max_width": null,
            "min_height": null,
            "min_width": null,
            "object_fit": null,
            "object_position": null,
            "order": null,
            "overflow": null,
            "overflow_x": null,
            "overflow_y": null,
            "padding": null,
            "right": null,
            "top": null,
            "visibility": null,
            "width": null
          }
        },
        "99b4fdc589e941a0872fdf6b4ab9a497": {
          "model_module": "@jupyter-widgets/base",
          "model_module_version": "1.2.0",
          "model_name": "LayoutModel",
          "state": {
            "_model_module": "@jupyter-widgets/base",
            "_model_module_version": "1.2.0",
            "_model_name": "LayoutModel",
            "_view_count": null,
            "_view_module": "@jupyter-widgets/base",
            "_view_module_version": "1.2.0",
            "_view_name": "LayoutView",
            "align_content": null,
            "align_items": null,
            "align_self": null,
            "border": null,
            "bottom": null,
            "display": null,
            "flex": null,
            "flex_flow": null,
            "grid_area": null,
            "grid_auto_columns": null,
            "grid_auto_flow": null,
            "grid_auto_rows": null,
            "grid_column": null,
            "grid_gap": null,
            "grid_row": null,
            "grid_template_areas": null,
            "grid_template_columns": null,
            "grid_template_rows": null,
            "height": null,
            "justify_content": null,
            "justify_items": null,
            "left": null,
            "margin": null,
            "max_height": null,
            "max_width": null,
            "min_height": null,
            "min_width": null,
            "object_fit": null,
            "object_position": null,
            "order": null,
            "overflow": null,
            "overflow_x": null,
            "overflow_y": null,
            "padding": null,
            "right": null,
            "top": null,
            "visibility": null,
            "width": null
          }
        },
        "a0c343d0ce294fa69e5a37d553d6e7b8": {
          "model_module": "@jupyter-widgets/base",
          "model_module_version": "1.2.0",
          "model_name": "LayoutModel",
          "state": {
            "_model_module": "@jupyter-widgets/base",
            "_model_module_version": "1.2.0",
            "_model_name": "LayoutModel",
            "_view_count": null,
            "_view_module": "@jupyter-widgets/base",
            "_view_module_version": "1.2.0",
            "_view_name": "LayoutView",
            "align_content": null,
            "align_items": null,
            "align_self": null,
            "border": null,
            "bottom": null,
            "display": null,
            "flex": null,
            "flex_flow": null,
            "grid_area": null,
            "grid_auto_columns": null,
            "grid_auto_flow": null,
            "grid_auto_rows": null,
            "grid_column": null,
            "grid_gap": null,
            "grid_row": null,
            "grid_template_areas": null,
            "grid_template_columns": null,
            "grid_template_rows": null,
            "height": null,
            "justify_content": null,
            "justify_items": null,
            "left": null,
            "margin": null,
            "max_height": null,
            "max_width": null,
            "min_height": null,
            "min_width": null,
            "object_fit": null,
            "object_position": null,
            "order": null,
            "overflow": null,
            "overflow_x": null,
            "overflow_y": null,
            "padding": null,
            "right": null,
            "top": null,
            "visibility": null,
            "width": null
          }
        },
        "a522c5d1bd8e49caae0800c9e18d39aa": {
          "model_module": "@jupyter-widgets/controls",
          "model_module_version": "1.5.0",
          "model_name": "HTMLModel",
          "state": {
            "_dom_classes": [],
            "_model_module": "@jupyter-widgets/controls",
            "_model_module_version": "1.5.0",
            "_model_name": "HTMLModel",
            "_view_count": null,
            "_view_module": "@jupyter-widgets/controls",
            "_view_module_version": "1.5.0",
            "_view_name": "HTMLView",
            "description": "",
            "description_tooltip": null,
            "layout": "IPY_MODEL_6359d627a68841ddbc363a7f356d2800",
            "placeholder": "​",
            "style": "IPY_MODEL_8fbf421eab3b4a11b4c3e03dc30b98d5",
            "value": "tokenizer_config.json: 100%"
          }
        },
        "a636c93c67d6483bacdc64a2749476a7": {
          "model_module": "@jupyter-widgets/controls",
          "model_module_version": "1.5.0",
          "model_name": "DescriptionStyleModel",
          "state": {
            "_model_module": "@jupyter-widgets/controls",
            "_model_module_version": "1.5.0",
            "_model_name": "DescriptionStyleModel",
            "_view_count": null,
            "_view_module": "@jupyter-widgets/base",
            "_view_module_version": "1.2.0",
            "_view_name": "StyleView",
            "description_width": ""
          }
        },
        "a662e816583c46fa8441616ac2ce0eb8": {
          "model_module": "@jupyter-widgets/controls",
          "model_module_version": "1.5.0",
          "model_name": "HTMLModel",
          "state": {
            "_dom_classes": [],
            "_model_module": "@jupyter-widgets/controls",
            "_model_module_version": "1.5.0",
            "_model_name": "HTMLModel",
            "_view_count": null,
            "_view_module": "@jupyter-widgets/controls",
            "_view_module_version": "1.5.0",
            "_view_name": "HTMLView",
            "description": "",
            "description_tooltip": null,
            "layout": "IPY_MODEL_f59931950d3c44fbbdcc09a14e70c9f6",
            "placeholder": "​",
            "style": "IPY_MODEL_f705472b7a0c4e249f89608d7aaaa100",
            "value": " 14.5M/14.5M [00:00&lt;00:00, 64.0MB/s]"
          }
        },
        "a6c6d445609b43b6a904c80accfdacbe": {
          "model_module": "@jupyter-widgets/base",
          "model_module_version": "1.2.0",
          "model_name": "LayoutModel",
          "state": {
            "_model_module": "@jupyter-widgets/base",
            "_model_module_version": "1.2.0",
            "_model_name": "LayoutModel",
            "_view_count": null,
            "_view_module": "@jupyter-widgets/base",
            "_view_module_version": "1.2.0",
            "_view_name": "LayoutView",
            "align_content": null,
            "align_items": null,
            "align_self": null,
            "border": null,
            "bottom": null,
            "display": null,
            "flex": null,
            "flex_flow": null,
            "grid_area": null,
            "grid_auto_columns": null,
            "grid_auto_flow": null,
            "grid_auto_rows": null,
            "grid_column": null,
            "grid_gap": null,
            "grid_row": null,
            "grid_template_areas": null,
            "grid_template_columns": null,
            "grid_template_rows": null,
            "height": null,
            "justify_content": null,
            "justify_items": null,
            "left": null,
            "margin": null,
            "max_height": null,
            "max_width": null,
            "min_height": null,
            "min_width": null,
            "object_fit": null,
            "object_position": null,
            "order": null,
            "overflow": null,
            "overflow_x": null,
            "overflow_y": null,
            "padding": null,
            "right": null,
            "top": null,
            "visibility": null,
            "width": null
          }
        },
        "af4d0052c0fe4ff194a7fac28386d1c5": {
          "model_module": "@jupyter-widgets/base",
          "model_module_version": "1.2.0",
          "model_name": "LayoutModel",
          "state": {
            "_model_module": "@jupyter-widgets/base",
            "_model_module_version": "1.2.0",
            "_model_name": "LayoutModel",
            "_view_count": null,
            "_view_module": "@jupyter-widgets/base",
            "_view_module_version": "1.2.0",
            "_view_name": "LayoutView",
            "align_content": null,
            "align_items": null,
            "align_self": null,
            "border": "1px solid black",
            "bottom": null,
            "display": null,
            "flex": null,
            "flex_flow": null,
            "grid_area": null,
            "grid_auto_columns": null,
            "grid_auto_flow": null,
            "grid_auto_rows": null,
            "grid_column": null,
            "grid_gap": null,
            "grid_row": null,
            "grid_template_areas": null,
            "grid_template_columns": null,
            "grid_template_rows": null,
            "height": null,
            "justify_content": null,
            "justify_items": null,
            "left": null,
            "margin": null,
            "max_height": null,
            "max_width": null,
            "min_height": null,
            "min_width": null,
            "object_fit": null,
            "object_position": null,
            "order": null,
            "overflow": null,
            "overflow_x": null,
            "overflow_y": null,
            "padding": null,
            "right": null,
            "top": null,
            "visibility": null,
            "width": null
          }
        },
        "b1f2e890c1314e1ea3633e634fb56a7f": {
          "model_module": "@jupyter-widgets/base",
          "model_module_version": "1.2.0",
          "model_name": "LayoutModel",
          "state": {
            "_model_module": "@jupyter-widgets/base",
            "_model_module_version": "1.2.0",
            "_model_name": "LayoutModel",
            "_view_count": null,
            "_view_module": "@jupyter-widgets/base",
            "_view_module_version": "1.2.0",
            "_view_name": "LayoutView",
            "align_content": null,
            "align_items": null,
            "align_self": null,
            "border": null,
            "bottom": null,
            "display": null,
            "flex": null,
            "flex_flow": null,
            "grid_area": null,
            "grid_auto_columns": null,
            "grid_auto_flow": null,
            "grid_auto_rows": null,
            "grid_column": null,
            "grid_gap": null,
            "grid_row": null,
            "grid_template_areas": null,
            "grid_template_columns": null,
            "grid_template_rows": null,
            "height": null,
            "justify_content": null,
            "justify_items": null,
            "left": null,
            "margin": null,
            "max_height": null,
            "max_width": null,
            "min_height": null,
            "min_width": null,
            "object_fit": null,
            "object_position": null,
            "order": null,
            "overflow": null,
            "overflow_x": null,
            "overflow_y": null,
            "padding": null,
            "right": null,
            "top": null,
            "visibility": null,
            "width": null
          }
        },
        "b3d85ead0ec6401aaa1b9771ac841687": {
          "model_module": "@jupyter-widgets/base",
          "model_module_version": "1.2.0",
          "model_name": "LayoutModel",
          "state": {
            "_model_module": "@jupyter-widgets/base",
            "_model_module_version": "1.2.0",
            "_model_name": "LayoutModel",
            "_view_count": null,
            "_view_module": "@jupyter-widgets/base",
            "_view_module_version": "1.2.0",
            "_view_name": "LayoutView",
            "align_content": null,
            "align_items": null,
            "align_self": null,
            "border": null,
            "bottom": null,
            "display": null,
            "flex": null,
            "flex_flow": null,
            "grid_area": null,
            "grid_auto_columns": null,
            "grid_auto_flow": null,
            "grid_auto_rows": null,
            "grid_column": null,
            "grid_gap": null,
            "grid_row": null,
            "grid_template_areas": null,
            "grid_template_columns": null,
            "grid_template_rows": null,
            "height": null,
            "justify_content": null,
            "justify_items": null,
            "left": null,
            "margin": null,
            "max_height": null,
            "max_width": null,
            "min_height": null,
            "min_width": null,
            "object_fit": null,
            "object_position": null,
            "order": null,
            "overflow": null,
            "overflow_x": null,
            "overflow_y": null,
            "padding": null,
            "right": null,
            "top": null,
            "visibility": null,
            "width": null
          }
        },
        "b460c8004db8474d954b799eb4508b46": {
          "model_module": "@jupyter-widgets/controls",
          "model_module_version": "1.5.0",
          "model_name": "HTMLModel",
          "state": {
            "_dom_classes": [],
            "_model_module": "@jupyter-widgets/controls",
            "_model_module_version": "1.5.0",
            "_model_name": "HTMLModel",
            "_view_count": null,
            "_view_module": "@jupyter-widgets/controls",
            "_view_module_version": "1.5.0",
            "_view_name": "HTMLView",
            "description": "",
            "description_tooltip": null,
            "layout": "IPY_MODEL_36de93a7183b4ffe83d065a2265bdcb1",
            "placeholder": "​",
            "style": "IPY_MODEL_6c3b4fd6eef345d6a81019e599bc6a82",
            "value": "tokenizer_config.json: 100%"
          }
        },
        "b5d51cd8a50f4f4cb9068bc9188d599a": {
          "model_module": "@jupyter-widgets/controls",
          "model_module_version": "1.5.0",
          "model_name": "HTMLModel",
          "state": {
            "_dom_classes": [],
            "_model_module": "@jupyter-widgets/controls",
            "_model_module_version": "1.5.0",
            "_model_name": "HTMLModel",
            "_view_count": null,
            "_view_module": "@jupyter-widgets/controls",
            "_view_module_version": "1.5.0",
            "_view_name": "HTMLView",
            "description": "",
            "description_tooltip": null,
            "layout": "IPY_MODEL_e3b8e44a48f5453999f139075a8d3787",
            "placeholder": "​",
            "style": "IPY_MODEL_112afd67581a44d795243c2260c8fb74",
            "value": "tokenizer_config.json: 100%"
          }
        },
        "b62310f725b74829ad02e5ec553ca2f2": {
          "model_module": "@jupyter-widgets/controls",
          "model_module_version": "1.5.0",
          "model_name": "FloatProgressModel",
          "state": {
            "_dom_classes": [],
            "_model_module": "@jupyter-widgets/controls",
            "_model_module_version": "1.5.0",
            "_model_name": "FloatProgressModel",
            "_view_count": null,
            "_view_module": "@jupyter-widgets/controls",
            "_view_module_version": "1.5.0",
            "_view_name": "ProgressView",
            "bar_style": "success",
            "description": "",
            "description_tooltip": null,
            "layout": "IPY_MODEL_989f73109ac4465faa126f0971d95600",
            "max": 2734130,
            "min": 0,
            "orientation": "horizontal",
            "style": "IPY_MODEL_5a48a28a1f604dce9035322d92893ded",
            "value": 2734130
          }
        },
        "b7d8c72b754642d7a9759e9fc0804386": {
          "model_module": "@jupyter-widgets/controls",
          "model_module_version": "1.5.0",
          "model_name": "HTMLModel",
          "state": {
            "_dom_classes": [],
            "_model_module": "@jupyter-widgets/controls",
            "_model_module_version": "1.5.0",
            "_model_name": "HTMLModel",
            "_view_count": null,
            "_view_module": "@jupyter-widgets/controls",
            "_view_module_version": "1.5.0",
            "_view_name": "HTMLView",
            "description": "",
            "description_tooltip": null,
            "layout": "IPY_MODEL_fcc10fc0f5234b8792c904b8d7896317",
            "placeholder": "​",
            "style": "IPY_MODEL_a636c93c67d6483bacdc64a2749476a7",
            "value": " 222/222 [00:00&lt;00:00, 3.19kB/s]"
          }
        },
        "bc550e75b67e460dae22b24a4b63c334": {
          "model_module": "@jupyter-widgets/controls",
          "model_module_version": "1.5.0",
          "model_name": "FloatProgressModel",
          "state": {
            "_dom_classes": [],
            "_model_module": "@jupyter-widgets/controls",
            "_model_module_version": "1.5.0",
            "_model_name": "FloatProgressModel",
            "_view_count": null,
            "_view_module": "@jupyter-widgets/controls",
            "_view_module_version": "1.5.0",
            "_view_name": "ProgressView",
            "bar_style": "success",
            "description": "",
            "description_tooltip": null,
            "layout": "IPY_MODEL_130c8a2aa0234203a1554336e1e8657b",
            "max": 281,
            "min": 0,
            "orientation": "horizontal",
            "style": "IPY_MODEL_eae143ac81384ed88b02ec603ef8d97e",
            "value": 281
          }
        },
        "bdcee6c5ba504c04881c34eb95d168a2": {
          "model_module": "@jupyter-widgets/controls",
          "model_module_version": "1.5.0",
          "model_name": "HTMLModel",
          "state": {
            "_dom_classes": [],
            "_model_module": "@jupyter-widgets/controls",
            "_model_module_version": "1.5.0",
            "_model_name": "HTMLModel",
            "_view_count": null,
            "_view_module": "@jupyter-widgets/controls",
            "_view_module_version": "1.5.0",
            "_view_name": "HTMLView",
            "description": "",
            "description_tooltip": null,
            "layout": "IPY_MODEL_0d16352a156147578ec91cf5d0b7a2e4",
            "placeholder": "​",
            "style": "IPY_MODEL_13063b52a1204abd8c91b2fa9d03b2fb",
            "value": "tokenizer.json: 100%"
          }
        },
        "bf9b998e18ec4986a2ac78bd78cd4e7b": {
          "model_module": "@jupyter-widgets/controls",
          "model_module_version": "1.5.0",
          "model_name": "HTMLModel",
          "state": {
            "_dom_classes": [],
            "_model_module": "@jupyter-widgets/controls",
            "_model_module_version": "1.5.0",
            "_model_name": "HTMLModel",
            "_view_count": null,
            "_view_module": "@jupyter-widgets/controls",
            "_view_module_version": "1.5.0",
            "_view_name": "HTMLView",
            "description": "",
            "description_tooltip": null,
            "layout": "IPY_MODEL_b3d85ead0ec6401aaa1b9771ac841687",
            "placeholder": "​",
            "style": "IPY_MODEL_3abbf4bc3f704903a44b3679af12cc1c",
            "value": " 967/967 [00:00&lt;00:00, 36.3kB/s]"
          }
        },
        "c11c346d5a5c44fc8383acfffff893e5": {
          "model_module": "@jupyter-widgets/controls",
          "model_module_version": "1.5.0",
          "model_name": "FloatProgressModel",
          "state": {
            "_dom_classes": [],
            "_model_module": "@jupyter-widgets/controls",
            "_model_module_version": "1.5.0",
            "_model_name": "FloatProgressModel",
            "_view_count": null,
            "_view_module": "@jupyter-widgets/controls",
            "_view_module_version": "1.5.0",
            "_view_name": "ProgressView",
            "bar_style": "success",
            "description": "",
            "description_tooltip": null,
            "layout": "IPY_MODEL_7f5ca9aee0354ff3806c4cc8b94d8f4a",
            "max": 14500438,
            "min": 0,
            "orientation": "horizontal",
            "style": "IPY_MODEL_74e95fa99c40412a84ff636d54a3433f",
            "value": 14500438
          }
        },
        "cb15eb5ba16046f7b1bcbacd559de513": {
          "model_module": "@jupyter-widgets/controls",
          "model_module_version": "1.5.0",
          "model_name": "DescriptionStyleModel",
          "state": {
            "_model_module": "@jupyter-widgets/controls",
            "_model_module_version": "1.5.0",
            "_model_name": "DescriptionStyleModel",
            "_view_count": null,
            "_view_module": "@jupyter-widgets/base",
            "_view_module_version": "1.2.0",
            "_view_name": "StyleView",
            "description_width": ""
          }
        },
        "ce5ad1bb209e4c38837a2eed0a1d49ea": {
          "model_module": "@jupyter-widgets/controls",
          "model_module_version": "1.5.0",
          "model_name": "FloatProgressModel",
          "state": {
            "_dom_classes": [],
            "_model_module": "@jupyter-widgets/controls",
            "_model_module_version": "1.5.0",
            "_model_name": "FloatProgressModel",
            "_view_count": null,
            "_view_module": "@jupyter-widgets/controls",
            "_view_module_version": "1.5.0",
            "_view_name": "ProgressView",
            "bar_style": "success",
            "description": "",
            "description_tooltip": null,
            "layout": "IPY_MODEL_0e35c7d9624e449bb1dfbb966c1a76d0",
            "max": 72,
            "min": 0,
            "orientation": "horizontal",
            "style": "IPY_MODEL_03212b24eb3044b2be732359e7156bae",
            "value": 72
          }
        },
        "d5513a59e3d748358d06910331008cc4": {
          "model_module": "@jupyter-widgets/controls",
          "model_module_version": "1.5.0",
          "model_name": "DescriptionStyleModel",
          "state": {
            "_model_module": "@jupyter-widgets/controls",
            "_model_module_version": "1.5.0",
            "_model_name": "DescriptionStyleModel",
            "_view_count": null,
            "_view_module": "@jupyter-widgets/base",
            "_view_module_version": "1.2.0",
            "_view_name": "StyleView",
            "description_width": ""
          }
        },
        "d79f07c11bb8422eb1392ad29007f2d2": {
          "model_module": "@jupyter-widgets/controls",
          "model_module_version": "1.5.0",
          "model_name": "FloatProgressModel",
          "state": {
            "_dom_classes": [],
            "_model_module": "@jupyter-widgets/controls",
            "_model_module_version": "1.5.0",
            "_model_name": "FloatProgressModel",
            "_view_count": null,
            "_view_module": "@jupyter-widgets/controls",
            "_view_module_version": "1.5.0",
            "_view_name": "ProgressView",
            "bar_style": "success",
            "description": "",
            "description_tooltip": null,
            "layout": "IPY_MODEL_4b99747fdf2746658bb86ce98ab25e1d",
            "max": 287,
            "min": 0,
            "orientation": "horizontal",
            "style": "IPY_MODEL_85c7ef514fab4f09956b97fbc2deb391",
            "value": 287
          }
        },
        "db4d9c55f3fd464391766c42cfe9a46d": {
          "model_module": "@jupyter-widgets/base",
          "model_module_version": "1.2.0",
          "model_name": "LayoutModel",
          "state": {
            "_model_module": "@jupyter-widgets/base",
            "_model_module_version": "1.2.0",
            "_model_name": "LayoutModel",
            "_view_count": null,
            "_view_module": "@jupyter-widgets/base",
            "_view_module_version": "1.2.0",
            "_view_name": "LayoutView",
            "align_content": null,
            "align_items": null,
            "align_self": null,
            "border": null,
            "bottom": null,
            "display": null,
            "flex": null,
            "flex_flow": null,
            "grid_area": null,
            "grid_auto_columns": null,
            "grid_auto_flow": null,
            "grid_auto_rows": null,
            "grid_column": null,
            "grid_gap": null,
            "grid_row": null,
            "grid_template_areas": null,
            "grid_template_columns": null,
            "grid_template_rows": null,
            "height": null,
            "justify_content": null,
            "justify_items": null,
            "left": null,
            "margin": null,
            "max_height": null,
            "max_width": null,
            "min_height": null,
            "min_width": null,
            "object_fit": null,
            "object_position": null,
            "order": null,
            "overflow": null,
            "overflow_x": null,
            "overflow_y": null,
            "padding": null,
            "right": null,
            "top": null,
            "visibility": null,
            "width": null
          }
        },
        "dc335416c2714c109636ce1104d04e78": {
          "model_module": "@jupyter-widgets/controls",
          "model_module_version": "1.5.0",
          "model_name": "HTMLModel",
          "state": {
            "_dom_classes": [],
            "_model_module": "@jupyter-widgets/controls",
            "_model_module_version": "1.5.0",
            "_model_name": "HTMLModel",
            "_view_count": null,
            "_view_module": "@jupyter-widgets/controls",
            "_view_module_version": "1.5.0",
            "_view_name": "HTMLView",
            "description": "",
            "description_tooltip": null,
            "layout": "IPY_MODEL_815aa58d79a8420e90cc8c4931d09a69",
            "placeholder": "​",
            "style": "IPY_MODEL_e6917b53a5484ebaade18b7c1273eca3",
            "value": "tokenizer.model: 100%"
          }
        },
        "ddee9f4520cf44cf9931c95198a8ef0f": {
          "model_module": "@jupyter-widgets/controls",
          "model_module_version": "1.5.0",
          "model_name": "HTMLModel",
          "state": {
            "_dom_classes": [],
            "_model_module": "@jupyter-widgets/controls",
            "_model_module_version": "1.5.0",
            "_model_name": "HTMLModel",
            "_view_count": null,
            "_view_module": "@jupyter-widgets/controls",
            "_view_module_version": "1.5.0",
            "_view_name": "HTMLView",
            "description": "",
            "description_tooltip": null,
            "layout": "IPY_MODEL_8270ee28471949efbbda6723aa7aaf34",
            "placeholder": "​",
            "style": "IPY_MODEL_e2c0c47a44cd485fb70f9d5daf79ac2f",
            "value": " 2.73M/2.73M [00:00&lt;00:00, 9.06MB/s]"
          }
        },
        "de412979dfa74945b1dfc3a9656c227c": {
          "model_module": "@jupyter-widgets/controls",
          "model_module_version": "1.5.0",
          "model_name": "HTMLModel",
          "state": {
            "_dom_classes": [],
            "_model_module": "@jupyter-widgets/controls",
            "_model_module_version": "1.5.0",
            "_model_name": "HTMLModel",
            "_view_count": null,
            "_view_module": "@jupyter-widgets/controls",
            "_view_module_version": "1.5.0",
            "_view_name": "HTMLView",
            "description": "",
            "description_tooltip": null,
            "layout": "IPY_MODEL_eb56f17825074741ab515e3532c49cfe",
            "placeholder": "​",
            "style": "IPY_MODEL_0b900011a59146888ee27a389125d9d2",
            "value": "tokenizer.json: 100%"
          }
        },
        "e2c0c47a44cd485fb70f9d5daf79ac2f": {
          "model_module": "@jupyter-widgets/controls",
          "model_module_version": "1.5.0",
          "model_name": "DescriptionStyleModel",
          "state": {
            "_model_module": "@jupyter-widgets/controls",
            "_model_module_version": "1.5.0",
            "_model_name": "DescriptionStyleModel",
            "_view_count": null,
            "_view_module": "@jupyter-widgets/base",
            "_view_module_version": "1.2.0",
            "_view_name": "StyleView",
            "description_width": ""
          }
        },
        "e3b8e44a48f5453999f139075a8d3787": {
          "model_module": "@jupyter-widgets/base",
          "model_module_version": "1.2.0",
          "model_name": "LayoutModel",
          "state": {
            "_model_module": "@jupyter-widgets/base",
            "_model_module_version": "1.2.0",
            "_model_name": "LayoutModel",
            "_view_count": null,
            "_view_module": "@jupyter-widgets/base",
            "_view_module_version": "1.2.0",
            "_view_name": "LayoutView",
            "align_content": null,
            "align_items": null,
            "align_self": null,
            "border": null,
            "bottom": null,
            "display": null,
            "flex": null,
            "flex_flow": null,
            "grid_area": null,
            "grid_auto_columns": null,
            "grid_auto_flow": null,
            "grid_auto_rows": null,
            "grid_column": null,
            "grid_gap": null,
            "grid_row": null,
            "grid_template_areas": null,
            "grid_template_columns": null,
            "grid_template_rows": null,
            "height": null,
            "justify_content": null,
            "justify_items": null,
            "left": null,
            "margin": null,
            "max_height": null,
            "max_width": null,
            "min_height": null,
            "min_width": null,
            "object_fit": null,
            "object_position": null,
            "order": null,
            "overflow": null,
            "overflow_x": null,
            "overflow_y": null,
            "padding": null,
            "right": null,
            "top": null,
            "visibility": null,
            "width": null
          }
        },
        "e481fa1615494e398f175627d7853958": {
          "model_module": "@jupyter-widgets/controls",
          "model_module_version": "1.5.0",
          "model_name": "FloatProgressModel",
          "state": {
            "_dom_classes": [],
            "_model_module": "@jupyter-widgets/controls",
            "_model_module_version": "1.5.0",
            "_model_name": "FloatProgressModel",
            "_view_count": null,
            "_view_module": "@jupyter-widgets/controls",
            "_view_module_version": "1.5.0",
            "_view_name": "ProgressView",
            "bar_style": "success",
            "description": "",
            "description_tooltip": null,
            "layout": "IPY_MODEL_7102509d75ca4192a091a955f86710a2",
            "max": 967,
            "min": 0,
            "orientation": "horizontal",
            "style": "IPY_MODEL_8247a42839ea43ba8db840f41eb14af6",
            "value": 967
          }
        },
        "e53992b679904d86a0d771fc1cdd81f0": {
          "model_module": "@jupyter-widgets/base",
          "model_module_version": "1.2.0",
          "model_name": "LayoutModel",
          "state": {
            "_model_module": "@jupyter-widgets/base",
            "_model_module_version": "1.2.0",
            "_model_name": "LayoutModel",
            "_view_count": null,
            "_view_module": "@jupyter-widgets/base",
            "_view_module_version": "1.2.0",
            "_view_name": "LayoutView",
            "align_content": null,
            "align_items": null,
            "align_self": null,
            "border": null,
            "bottom": null,
            "display": null,
            "flex": null,
            "flex_flow": null,
            "grid_area": null,
            "grid_auto_columns": null,
            "grid_auto_flow": null,
            "grid_auto_rows": null,
            "grid_column": null,
            "grid_gap": null,
            "grid_row": null,
            "grid_template_areas": null,
            "grid_template_columns": null,
            "grid_template_rows": null,
            "height": null,
            "justify_content": null,
            "justify_items": null,
            "left": null,
            "margin": null,
            "max_height": null,
            "max_width": null,
            "min_height": null,
            "min_width": null,
            "object_fit": null,
            "object_position": null,
            "order": null,
            "overflow": null,
            "overflow_x": null,
            "overflow_y": null,
            "padding": null,
            "right": null,
            "top": null,
            "visibility": null,
            "width": null
          }
        },
        "e5e8034f0afc48d89c48d4ace9f36d60": {
          "model_module": "@jupyter-widgets/controls",
          "model_module_version": "1.5.0",
          "model_name": "HTMLModel",
          "state": {
            "_dom_classes": [],
            "_model_module": "@jupyter-widgets/controls",
            "_model_module_version": "1.5.0",
            "_model_name": "HTMLModel",
            "_view_count": null,
            "_view_module": "@jupyter-widgets/controls",
            "_view_module_version": "1.5.0",
            "_view_name": "HTMLView",
            "description": "",
            "description_tooltip": null,
            "layout": "IPY_MODEL_a0c343d0ce294fa69e5a37d553d6e7b8",
            "placeholder": "​",
            "style": "IPY_MODEL_5bc7d1547542406b95e0cae0a8d36958",
            "value": " 1.80M/1.80M [00:00&lt;00:00, 23.2MB/s]"
          }
        },
        "e6917b53a5484ebaade18b7c1273eca3": {
          "model_module": "@jupyter-widgets/controls",
          "model_module_version": "1.5.0",
          "model_name": "DescriptionStyleModel",
          "state": {
            "_model_module": "@jupyter-widgets/controls",
            "_model_module_version": "1.5.0",
            "_model_name": "DescriptionStyleModel",
            "_view_count": null,
            "_view_module": "@jupyter-widgets/base",
            "_view_module_version": "1.2.0",
            "_view_name": "StyleView",
            "description_width": ""
          }
        },
        "ea5cf56989064a139fe9061be34a5aa0": {
          "model_module": "@jupyter-widgets/base",
          "model_module_version": "1.2.0",
          "model_name": "LayoutModel",
          "state": {
            "_model_module": "@jupyter-widgets/base",
            "_model_module_version": "1.2.0",
            "_model_name": "LayoutModel",
            "_view_count": null,
            "_view_module": "@jupyter-widgets/base",
            "_view_module_version": "1.2.0",
            "_view_name": "LayoutView",
            "align_content": null,
            "align_items": null,
            "align_self": null,
            "border": "1px solid black",
            "bottom": null,
            "display": null,
            "flex": null,
            "flex_flow": null,
            "grid_area": null,
            "grid_auto_columns": null,
            "grid_auto_flow": null,
            "grid_auto_rows": null,
            "grid_column": null,
            "grid_gap": null,
            "grid_row": null,
            "grid_template_areas": null,
            "grid_template_columns": null,
            "grid_template_rows": null,
            "height": null,
            "justify_content": null,
            "justify_items": null,
            "left": null,
            "margin": null,
            "max_height": null,
            "max_width": null,
            "min_height": null,
            "min_width": null,
            "object_fit": null,
            "object_position": null,
            "order": null,
            "overflow": null,
            "overflow_x": null,
            "overflow_y": null,
            "padding": null,
            "right": null,
            "top": null,
            "visibility": null,
            "width": null
          }
        },
        "eae143ac81384ed88b02ec603ef8d97e": {
          "model_module": "@jupyter-widgets/controls",
          "model_module_version": "1.5.0",
          "model_name": "ProgressStyleModel",
          "state": {
            "_model_module": "@jupyter-widgets/controls",
            "_model_module_version": "1.5.0",
            "_model_name": "ProgressStyleModel",
            "_view_count": null,
            "_view_module": "@jupyter-widgets/base",
            "_view_module_version": "1.2.0",
            "_view_name": "StyleView",
            "bar_color": null,
            "description_width": ""
          }
        },
        "eb56f17825074741ab515e3532c49cfe": {
          "model_module": "@jupyter-widgets/base",
          "model_module_version": "1.2.0",
          "model_name": "LayoutModel",
          "state": {
            "_model_module": "@jupyter-widgets/base",
            "_model_module_version": "1.2.0",
            "_model_name": "LayoutModel",
            "_view_count": null,
            "_view_module": "@jupyter-widgets/base",
            "_view_module_version": "1.2.0",
            "_view_name": "LayoutView",
            "align_content": null,
            "align_items": null,
            "align_self": null,
            "border": null,
            "bottom": null,
            "display": null,
            "flex": null,
            "flex_flow": null,
            "grid_area": null,
            "grid_auto_columns": null,
            "grid_auto_flow": null,
            "grid_auto_rows": null,
            "grid_column": null,
            "grid_gap": null,
            "grid_row": null,
            "grid_template_areas": null,
            "grid_template_columns": null,
            "grid_template_rows": null,
            "height": null,
            "justify_content": null,
            "justify_items": null,
            "left": null,
            "margin": null,
            "max_height": null,
            "max_width": null,
            "min_height": null,
            "min_width": null,
            "object_fit": null,
            "object_position": null,
            "order": null,
            "overflow": null,
            "overflow_x": null,
            "overflow_y": null,
            "padding": null,
            "right": null,
            "top": null,
            "visibility": null,
            "width": null
          }
        },
        "ebbb5a89069f4f4a9e96df8e77a80a72": {
          "model_module": "@jupyter-widgets/base",
          "model_module_version": "1.2.0",
          "model_name": "LayoutModel",
          "state": {
            "_model_module": "@jupyter-widgets/base",
            "_model_module_version": "1.2.0",
            "_model_name": "LayoutModel",
            "_view_count": null,
            "_view_module": "@jupyter-widgets/base",
            "_view_module_version": "1.2.0",
            "_view_name": "LayoutView",
            "align_content": null,
            "align_items": null,
            "align_self": null,
            "border": "1px solid black",
            "bottom": null,
            "display": null,
            "flex": null,
            "flex_flow": null,
            "grid_area": null,
            "grid_auto_columns": null,
            "grid_auto_flow": null,
            "grid_auto_rows": null,
            "grid_column": null,
            "grid_gap": null,
            "grid_row": null,
            "grid_template_areas": null,
            "grid_template_columns": null,
            "grid_template_rows": null,
            "height": null,
            "justify_content": null,
            "justify_items": null,
            "left": null,
            "margin": null,
            "max_height": null,
            "max_width": null,
            "min_height": null,
            "min_width": null,
            "object_fit": null,
            "object_position": null,
            "order": null,
            "overflow": null,
            "overflow_x": null,
            "overflow_y": null,
            "padding": null,
            "right": null,
            "top": null,
            "visibility": null,
            "width": null
          }
        },
        "edd6352483fb4c79b602dc02a27de77f": {
          "model_module": "@jupyter-widgets/base",
          "model_module_version": "1.2.0",
          "model_name": "LayoutModel",
          "state": {
            "_model_module": "@jupyter-widgets/base",
            "_model_module_version": "1.2.0",
            "_model_name": "LayoutModel",
            "_view_count": null,
            "_view_module": "@jupyter-widgets/base",
            "_view_module_version": "1.2.0",
            "_view_name": "LayoutView",
            "align_content": null,
            "align_items": null,
            "align_self": null,
            "border": null,
            "bottom": null,
            "display": null,
            "flex": null,
            "flex_flow": null,
            "grid_area": null,
            "grid_auto_columns": null,
            "grid_auto_flow": null,
            "grid_auto_rows": null,
            "grid_column": null,
            "grid_gap": null,
            "grid_row": null,
            "grid_template_areas": null,
            "grid_template_columns": null,
            "grid_template_rows": null,
            "height": null,
            "justify_content": null,
            "justify_items": null,
            "left": null,
            "margin": null,
            "max_height": null,
            "max_width": null,
            "min_height": null,
            "min_width": null,
            "object_fit": null,
            "object_position": null,
            "order": null,
            "overflow": null,
            "overflow_x": null,
            "overflow_y": null,
            "padding": null,
            "right": null,
            "top": null,
            "visibility": null,
            "width": null
          }
        },
        "f0eefc3ebf9d42fdaf1becb2fc38e420": {
          "model_module": "@jupyter-widgets/output",
          "model_module_version": "1.0.0",
          "model_name": "OutputModel",
          "state": {
            "_dom_classes": [],
            "_model_module": "@jupyter-widgets/output",
            "_model_module_version": "1.0.0",
            "_model_name": "OutputModel",
            "_view_count": null,
            "_view_module": "@jupyter-widgets/output",
            "_view_module_version": "1.0.0",
            "_view_name": "OutputView",
            "layout": "IPY_MODEL_af4d0052c0fe4ff194a7fac28386d1c5",
            "msg_id": "",
            "outputs": [
              {
                "data": {
                  "application/vnd.google.colaboratory.intrinsic+json": {
                    "type": "string"
                  },
                  "text/plain": "'Model name: bigscience/bloom'"
                },
                "metadata": {},
                "output_type": "display_data"
              },
              {
                "data": {
                  "application/vnd.google.colaboratory.intrinsic+json": {
                    "type": "string"
                  },
                  "text/plain": "' hacking  community ” \\n I'"
                },
                "metadata": {},
                "output_type": "display_data"
              },
              {
                "data": {
                  "application/vnd.google.colaboratory.intrinsic+json": {
                    "type": "string"
                  },
                  "text/plain": "'’m  not  sure  what  to'"
                },
                "metadata": {},
                "output_type": "display_data"
              },
              {
                "data": {
                  "application/vnd.google.colaboratory.intrinsic+json": {
                    "type": "string"
                  },
                  "text/plain": "' say  about  this .  I'"
                },
                "metadata": {},
                "output_type": "display_data"
              },
              {
                "data": {
                  "application/vnd.google.colaboratory.intrinsic+json": {
                    "type": "string"
                  },
                  "text/plain": "' don’t  know  if  I  can'"
                },
                "metadata": {},
                "output_type": "display_data"
              }
            ]
          }
        },
        "f11d1c4699d74aac9c36627037f7572c": {
          "model_module": "@jupyter-widgets/controls",
          "model_module_version": "1.5.0",
          "model_name": "HBoxModel",
          "state": {
            "_dom_classes": [],
            "_model_module": "@jupyter-widgets/controls",
            "_model_module_version": "1.5.0",
            "_model_name": "HBoxModel",
            "_view_count": null,
            "_view_module": "@jupyter-widgets/controls",
            "_view_module_version": "1.5.0",
            "_view_name": "HBoxView",
            "box_style": "",
            "children": [
              "IPY_MODEL_7cb978ba84ec41fe83e50abe8e52760c",
              "IPY_MODEL_ce5ad1bb209e4c38837a2eed0a1d49ea",
              "IPY_MODEL_978a31f14c664792928267235bedc7ab"
            ],
            "layout": "IPY_MODEL_5f617626bcf24752b96b2a246c4b65d2"
          }
        },
        "f3d638dee8bc45f4a1b143fe92a76e04": {
          "model_module": "@jupyter-widgets/controls",
          "model_module_version": "1.5.0",
          "model_name": "HBoxModel",
          "state": {
            "_dom_classes": [],
            "_model_module": "@jupyter-widgets/controls",
            "_model_module_version": "1.5.0",
            "_model_name": "HBoxModel",
            "_view_count": null,
            "_view_module": "@jupyter-widgets/controls",
            "_view_module_version": "1.5.0",
            "_view_name": "HBoxView",
            "box_style": "",
            "children": [
              "IPY_MODEL_5ddfd095212b4b6983c5090d74ced482",
              "IPY_MODEL_6a63a02666d14be7b3f931113c5af21a",
              "IPY_MODEL_7d7c58f40a57445eb25097259ec7ae63"
            ],
            "layout": "IPY_MODEL_e53992b679904d86a0d771fc1cdd81f0"
          }
        },
        "f59931950d3c44fbbdcc09a14e70c9f6": {
          "model_module": "@jupyter-widgets/base",
          "model_module_version": "1.2.0",
          "model_name": "LayoutModel",
          "state": {
            "_model_module": "@jupyter-widgets/base",
            "_model_module_version": "1.2.0",
            "_model_name": "LayoutModel",
            "_view_count": null,
            "_view_module": "@jupyter-widgets/base",
            "_view_module_version": "1.2.0",
            "_view_name": "LayoutView",
            "align_content": null,
            "align_items": null,
            "align_self": null,
            "border": null,
            "bottom": null,
            "display": null,
            "flex": null,
            "flex_flow": null,
            "grid_area": null,
            "grid_auto_columns": null,
            "grid_auto_flow": null,
            "grid_auto_rows": null,
            "grid_column": null,
            "grid_gap": null,
            "grid_row": null,
            "grid_template_areas": null,
            "grid_template_columns": null,
            "grid_template_rows": null,
            "height": null,
            "justify_content": null,
            "justify_items": null,
            "left": null,
            "margin": null,
            "max_height": null,
            "max_width": null,
            "min_height": null,
            "min_width": null,
            "object_fit": null,
            "object_position": null,
            "order": null,
            "overflow": null,
            "overflow_x": null,
            "overflow_y": null,
            "padding": null,
            "right": null,
            "top": null,
            "visibility": null,
            "width": null
          }
        },
        "f705472b7a0c4e249f89608d7aaaa100": {
          "model_module": "@jupyter-widgets/controls",
          "model_module_version": "1.5.0",
          "model_name": "DescriptionStyleModel",
          "state": {
            "_model_module": "@jupyter-widgets/controls",
            "_model_module_version": "1.5.0",
            "_model_name": "DescriptionStyleModel",
            "_view_count": null,
            "_view_module": "@jupyter-widgets/base",
            "_view_module_version": "1.2.0",
            "_view_name": "StyleView",
            "description_width": ""
          }
        },
        "f75cc063718640fa8bfff81e0284025f": {
          "model_module": "@jupyter-widgets/base",
          "model_module_version": "1.2.0",
          "model_name": "LayoutModel",
          "state": {
            "_model_module": "@jupyter-widgets/base",
            "_model_module_version": "1.2.0",
            "_model_name": "LayoutModel",
            "_view_count": null,
            "_view_module": "@jupyter-widgets/base",
            "_view_module_version": "1.2.0",
            "_view_name": "LayoutView",
            "align_content": null,
            "align_items": null,
            "align_self": null,
            "border": null,
            "bottom": null,
            "display": null,
            "flex": null,
            "flex_flow": null,
            "grid_area": null,
            "grid_auto_columns": null,
            "grid_auto_flow": null,
            "grid_auto_rows": null,
            "grid_column": null,
            "grid_gap": null,
            "grid_row": null,
            "grid_template_areas": null,
            "grid_template_columns": null,
            "grid_template_rows": null,
            "height": null,
            "justify_content": null,
            "justify_items": null,
            "left": null,
            "margin": null,
            "max_height": null,
            "max_width": null,
            "min_height": null,
            "min_width": null,
            "object_fit": null,
            "object_position": null,
            "order": null,
            "overflow": null,
            "overflow_x": null,
            "overflow_y": null,
            "padding": null,
            "right": null,
            "top": null,
            "visibility": null,
            "width": null
          }
        },
        "f7c4efbc37a842128a451adeebf76fcd": {
          "model_module": "@jupyter-widgets/controls",
          "model_module_version": "1.5.0",
          "model_name": "DescriptionStyleModel",
          "state": {
            "_model_module": "@jupyter-widgets/controls",
            "_model_module_version": "1.5.0",
            "_model_name": "DescriptionStyleModel",
            "_view_count": null,
            "_view_module": "@jupyter-widgets/base",
            "_view_module_version": "1.2.0",
            "_view_name": "StyleView",
            "description_width": ""
          }
        },
        "fa175478d3a64aa09f103f7e0b5853c8": {
          "model_module": "@jupyter-widgets/controls",
          "model_module_version": "1.5.0",
          "model_name": "DescriptionStyleModel",
          "state": {
            "_model_module": "@jupyter-widgets/controls",
            "_model_module_version": "1.5.0",
            "_model_name": "DescriptionStyleModel",
            "_view_count": null,
            "_view_module": "@jupyter-widgets/base",
            "_view_module_version": "1.2.0",
            "_view_name": "StyleView",
            "description_width": ""
          }
        },
        "fc0570d0098d445f859ec694477b16bf": {
          "model_module": "@jupyter-widgets/controls",
          "model_module_version": "1.5.0",
          "model_name": "DescriptionStyleModel",
          "state": {
            "_model_module": "@jupyter-widgets/controls",
            "_model_module_version": "1.5.0",
            "_model_name": "DescriptionStyleModel",
            "_view_count": null,
            "_view_module": "@jupyter-widgets/base",
            "_view_module_version": "1.2.0",
            "_view_name": "StyleView",
            "description_width": ""
          }
        },
        "fcc10fc0f5234b8792c904b8d7896317": {
          "model_module": "@jupyter-widgets/base",
          "model_module_version": "1.2.0",
          "model_name": "LayoutModel",
          "state": {
            "_model_module": "@jupyter-widgets/base",
            "_model_module_version": "1.2.0",
            "_model_name": "LayoutModel",
            "_view_count": null,
            "_view_module": "@jupyter-widgets/base",
            "_view_module_version": "1.2.0",
            "_view_name": "LayoutView",
            "align_content": null,
            "align_items": null,
            "align_self": null,
            "border": null,
            "bottom": null,
            "display": null,
            "flex": null,
            "flex_flow": null,
            "grid_area": null,
            "grid_auto_columns": null,
            "grid_auto_flow": null,
            "grid_auto_rows": null,
            "grid_column": null,
            "grid_gap": null,
            "grid_row": null,
            "grid_template_areas": null,
            "grid_template_columns": null,
            "grid_template_rows": null,
            "height": null,
            "justify_content": null,
            "justify_items": null,
            "left": null,
            "margin": null,
            "max_height": null,
            "max_width": null,
            "min_height": null,
            "min_width": null,
            "object_fit": null,
            "object_position": null,
            "order": null,
            "overflow": null,
            "overflow_x": null,
            "overflow_y": null,
            "padding": null,
            "right": null,
            "top": null,
            "visibility": null,
            "width": null
          }
        },
        "fdcc70feed0c4bedba4661088d7bc35a": {
          "model_module": "@jupyter-widgets/controls",
          "model_module_version": "1.5.0",
          "model_name": "FloatProgressModel",
          "state": {
            "_dom_classes": [],
            "_model_module": "@jupyter-widgets/controls",
            "_model_module_version": "1.5.0",
            "_model_name": "FloatProgressModel",
            "_view_count": null,
            "_view_module": "@jupyter-widgets/controls",
            "_view_module_version": "1.5.0",
            "_view_name": "ProgressView",
            "bar_style": "success",
            "description": "",
            "description_tooltip": null,
            "layout": "IPY_MODEL_962a8b0e360045b59cbcf30a3ae280b1",
            "max": 493443,
            "min": 0,
            "orientation": "horizontal",
            "style": "IPY_MODEL_7996b171bab842c2bb11db3d5d641956",
            "value": 493443
          }
        },
        "ff93186428c3412a9b88e3452ca4641f": {
          "model_module": "@jupyter-widgets/controls",
          "model_module_version": "1.5.0",
          "model_name": "HBoxModel",
          "state": {
            "_dom_classes": [],
            "_model_module": "@jupyter-widgets/controls",
            "_model_module_version": "1.5.0",
            "_model_name": "HBoxModel",
            "_view_count": null,
            "_view_module": "@jupyter-widgets/controls",
            "_view_module_version": "1.5.0",
            "_view_name": "HBoxView",
            "box_style": "",
            "children": [
              "IPY_MODEL_dc335416c2714c109636ce1104d04e78",
              "IPY_MODEL_fdcc70feed0c4bedba4661088d7bc35a",
              "IPY_MODEL_1bad7e451e3045838ed00decb755bcab"
            ],
            "layout": "IPY_MODEL_db4d9c55f3fd464391766c42cfe9a46d"
          }
        }
      }
    }
  },
  "nbformat": 4,
  "nbformat_minor": 0
}
