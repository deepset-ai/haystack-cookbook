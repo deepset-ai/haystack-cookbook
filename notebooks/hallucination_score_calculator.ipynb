{
 "cells": [
  {
   "cell_type": "markdown",
   "id": "bbae9d32-e7e3-4e91-9d47-023e289190e5",
   "metadata": {},
   "source": [
    "# Calculating a Hallucination Score with the OpenAIChatGenerator\n",
    "\n",
    "In this cookbook we will show how to calculate a hallucination risk based on this repo https://github.com/leochlon/hallbayes and this paper https://arxiv.org/abs/2507.11768."
   ]
  },
  {
   "cell_type": "markdown",
   "id": "3495f4cf-79ed-4605-a38b-d9a389f2cbfb",
   "metadata": {},
   "source": [
    "## Install Dependencies"
   ]
  },
  {
   "cell_type": "code",
   "execution_count": null,
   "id": "344daacc-51d9-4c88-ab38-e16a818f824c",
   "metadata": {},
   "outputs": [],
   "source": [
    "%pip install haystack-experimental -q"
   ]
  },
  {
   "cell_type": "markdown",
   "id": "7e466753-45c4-42a9-a554-3d77e5aa55b4",
   "metadata": {},
   "source": [
    "## Set up OpenAI API Key"
   ]
  },
  {
   "cell_type": "code",
   "execution_count": null,
   "id": "56b5f1d0-87ba-45ee-8f74-585b1fec7fa0",
   "metadata": {},
   "outputs": [],
   "source": [
    "import os\n",
    "# os.environ[\"OPENAI_API_KEY\"] = \"\""
   ]
  },
  {
   "cell_type": "markdown",
   "id": "266e0863-1d4e-464e-bd58-893228594b31",
   "metadata": {},
   "source": [
    "## Closed Book Example"
   ]
  },
  {
   "cell_type": "code",
   "execution_count": null,
   "id": "8c704207-c6c9-4eab-8254-2965c4717223",
   "metadata": {},
   "outputs": [],
   "source": [
    "from haystack.dataclasses import ChatMessage\n",
    "from haystack_experimental.components.generators.chat.openai import HallucinationScoreConfig, OpenAIChatGenerator"
   ]
  },
  {
   "cell_type": "code",
   "execution_count": null,
   "id": "9b26e200-b701-4714-b761-1b99ace2b7ce",
   "metadata": {},
   "outputs": [],
   "source": [
    "llm = OpenAIChatGenerator(model=\"gpt-4o\")\n",
    "\n",
    "# Closed Book Example\n",
    "closed_book_result = llm.run(\n",
    "    messages=[ChatMessage.from_user(text=\"Who won the 2019 Nobel Prize in Physics?\")],\n",
    "    hallucination_score_config=HallucinationScoreConfig(skeleton_policy=\"closed_book\"),\n",
    ")\n",
    "print(f\"Decision: {closed_book_result['replies'][0].meta['hallucination_decision']}\")\n",
    "print(f\"Risk bound: {closed_book_result['replies'][0].meta['hallucination_risk']:.3f}\")\n",
    "print(f\"Rationale: {closed_book_result['replies'][0].meta['hallucination_rationale']}\")\n",
    "print(f\"Answer:\\n{closed_book_result['replies'][0].text}\")\n",
    "print(\"---\\n\")"
   ]
  },
  {
   "cell_type": "markdown",
   "id": "90180bf1-509b-4f35-95af-51264ec71fae",
   "metadata": {},
   "source": [
    "## RAG-Based Example"
   ]
  },
  {
   "cell_type": "code",
   "execution_count": null,
   "id": "60322e86-abaf-451f-bbb2-d696fbdf7858",
   "metadata": {},
   "outputs": [],
   "source": [
    "from haystack.dataclasses import ChatMessage\n",
    "from haystack_experimental.components.generators.chat.openai import HallucinationScoreConfig, OpenAIChatGenerator"
   ]
  },
  {
   "cell_type": "code",
   "execution_count": null,
   "id": "6f772647-ea18-481b-9706-c9e1a2e3ae8b",
   "metadata": {},
   "outputs": [],
   "source": [
    "# Evidence-based Example\n",
    "rag_result = llm.run(\n",
    "    messages=[\n",
    "        ChatMessage.from_user(\n",
    "            text=\"Task: Answer strictly based on the evidence provided below.\\n\"\n",
    "            \"Question: Who won the Nobel Prize in Physics in 2019?\\n\"\n",
    "            \"Evidence:\\n\"\n",
    "            \"- Nobel Prize press release (2019): James Peebles (1/2); Michel Mayor & Didier Queloz (1/2).\\n\"\n",
    "            \"Constraints: If evidence is insufficient or conflicting, refuse.\"\n",
    "        )\n",
    "    ],\n",
    "    hallucination_score_config=HallucinationScoreConfig(skeleton_policy=\"evidence_erase\"),\n",
    ")\n",
    "print(f\"Decision: {rag_result['replies'][0].meta['hallucination_decision']}\")\n",
    "print(f\"Risk bound: {rag_result['replies'][0].meta['hallucination_risk']:.3f}\")\n",
    "print(f\"Rationale: {rag_result['replies'][0].meta['hallucination_rationale']}\")\n",
    "print(f\"Answer:\\n{closed_book_result['replies'][0].text}\")\n",
    "print(\"---\")"
   ]
  }
 ],
 "metadata": {
  "kernelspec": {
   "display_name": "Python 3 (ipykernel)",
   "language": "python",
   "name": "python3"
  },
  "language_info": {
   "codemirror_mode": {
    "name": "ipython",
    "version": 3
   },
   "file_extension": ".py",
   "mimetype": "text/x-python",
   "name": "python",
   "nbconvert_exporter": "python",
   "pygments_lexer": "ipython3",
   "version": "3.10.14"
  }
 },
 "nbformat": 4,
 "nbformat_minor": 5
}
