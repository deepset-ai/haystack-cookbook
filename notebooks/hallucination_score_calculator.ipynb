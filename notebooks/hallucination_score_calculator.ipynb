{
 "cells": [
  {
   "cell_type": "markdown",
   "id": "bbae9d32-e7e3-4e91-9d47-023e289190e5",
   "metadata": {},
   "source": [
    "# Calculating a Hallucination Score with the OpenAIChatGenerator\n",
    "\n",
    "In this cookbook we will show how to calculate a hallucination risk based on the research paper [LLMs are Bayesian, in Expectation, not in Realization](https://arxiv.org/abs/2507.11768) and this GitHub repo, https://github.com/leochlon/hallbayes."
   ]
  },
  {
   "cell_type": "markdown",
   "id": "3495f4cf-79ed-4605-a38b-d9a389f2cbfb",
   "metadata": {},
   "source": [
    "## Setup Environment"
   ]
  },
  {
   "cell_type": "code",
   "execution_count": null,
   "id": "344daacc-51d9-4c88-ab38-e16a818f824c",
   "metadata": {},
   "outputs": [],
   "source": [
    "%pip install haystack-experimental -q"
   ]
  },
  {
   "cell_type": "markdown",
   "id": "7e466753-45c4-42a9-a554-3d77e5aa55b4",
   "metadata": {},
   "source": [
    "Set up OpenAI API Key"
   ]
  },
  {
   "cell_type": "code",
   "execution_count": 13,
   "id": "56b5f1d0-87ba-45ee-8f74-585b1fec7fa0",
   "metadata": {},
   "outputs": [
    {
     "name": "stdin",
     "output_type": "stream",
     "text": [
      "Enter OpenAI API key: ········\n"
     ]
    }
   ],
   "source": [
    "import os\n",
    "from getpass import getpass\n",
    "\n",
    "if \"OPENAI_API_KEY\" not in os.environ:\n",
    "    os.environ[\"OPENAI_API_KEY\"] = getpass(\"Enter OpenAI API key:\")"
   ]
  },
  {
   "cell_type": "markdown",
   "id": "266e0863-1d4e-464e-bd58-893228594b31",
   "metadata": {},
   "source": [
    "## Closed Book Example\n",
    "\n",
    "Based on the example from the original GitHub repo [here](https://github.com/leochlon/hallbayes?tab=readme-ov-file#2-closed-book-no-evidence) "
   ]
  },
  {
   "cell_type": "code",
   "execution_count": 14,
   "id": "8c704207-c6c9-4eab-8254-2965c4717223",
   "metadata": {},
   "outputs": [],
   "source": [
    "from haystack.dataclasses import ChatMessage\n",
    "\n",
    "from haystack_experimental.utils.hallucination_risk_calculator.dataclasses import HallucinationScoreConfig\n",
    "from haystack_experimental.components.generators.chat.openai import OpenAIChatGenerator"
   ]
  },
  {
   "cell_type": "code",
   "execution_count": 35,
   "id": "9b26e200-b701-4714-b761-1b99ace2b7ce",
   "metadata": {},
   "outputs": [
    {
     "name": "stdout",
     "output_type": "stream",
     "text": [
      "Decision: ANSWER\n",
      "Risk bound: 0.000\n",
      "Rationale: Δ̄=8.2088 nats, B2T=1.8947, ISR=4.332 (thr=1.000), extra_bits=0.200; EDFL RoH bound=0.000; y='answer'\n",
      "Answer:\n",
      "The 2019 Nobel Prize in Physics was awarded to three scientists for their contributions to understanding the universe. Half of the prize went to James Peebles for his theoretical discoveries in physical cosmology. The other half was jointly awarded to Michel Mayor and Didier Queloz for their discovery of an exoplanet orbiting a solar-type star.\n"
     ]
    }
   ],
   "source": [
    "llm = OpenAIChatGenerator(model=\"gpt-4o\")\n",
    "\n",
    "closed_book_result = llm.run(\n",
    "    messages=[ChatMessage.from_user(text=\"Who won the 2019 Nobel Prize in Physics?\")],\n",
    "    hallucination_score_config=HallucinationScoreConfig(\n",
    "        skeleton_policy=\"closed_book\" # NOTE: We set \"closed_book\" here for closed-book hallucination risk calculation\n",
    "    ),\n",
    ")\n",
    "print(f\"Decision: {closed_book_result['replies'][0].meta['hallucination_decision']}\")\n",
    "print(f\"Risk bound: {closed_book_result['replies'][0].meta['hallucination_risk']:.3f}\")\n",
    "print(f\"Rationale: {closed_book_result['replies'][0].meta['hallucination_rationale']}\")\n",
    "print(f\"Answer:\\n{closed_book_result['replies'][0].text}\")"
   ]
  },
  {
   "cell_type": "markdown",
   "id": "90180bf1-509b-4f35-95af-51264ec71fae",
   "metadata": {},
   "source": [
    "## Evidence-based Example\n",
    "Based on the example from the original GitHub repo [here](https://github.com/leochlon/hallbayes?tab=readme-ov-file#1-evidence-based-when-you-have-context)"
   ]
  },
  {
   "cell_type": "code",
   "execution_count": 17,
   "id": "60322e86-abaf-451f-bbb2-d696fbdf7858",
   "metadata": {},
   "outputs": [],
   "source": [
    "from haystack.dataclasses import ChatMessage\n",
    "\n",
    "from haystack_experimental.utils.hallucination_risk_calculator.dataclasses import HallucinationScoreConfig\n",
    "from haystack_experimental.components.generators.chat.openai import OpenAIChatGenerator"
   ]
  },
  {
   "cell_type": "code",
   "execution_count": 34,
   "id": "6f772647-ea18-481b-9706-c9e1a2e3ae8b",
   "metadata": {},
   "outputs": [
    {
     "name": "stdout",
     "output_type": "stream",
     "text": [
      "Decision: ANSWER\n",
      "Risk bound: 0.541\n",
      "Rationale: Δ̄=12.0000 nats, B2T=1.8947, ISR=6.333 (thr=1.000), extra_bits=0.200; EDFL RoH bound=0.541; y='answer'\n",
      "Answer:\n",
      "The Nobel Prize in Physics in 2019 was awarded to James Peebles, who received half of the prize, and to Michel Mayor and Didier Queloz, who shared the other half of the prize.\n"
     ]
    }
   ],
   "source": [
    "llm = OpenAIChatGenerator(model=\"gpt-4o\")\n",
    "\n",
    "rag_result = llm.run(\n",
    "    messages=[\n",
    "        ChatMessage.from_user(\n",
    "            text=\"Task: Answer strictly based on the evidence provided below.\\n\"\n",
    "            \"Question: Who won the Nobel Prize in Physics in 2019?\\n\"\n",
    "            \"Evidence:\\n\"\n",
    "            \"- Nobel Prize press release (2019): James Peebles (1/2); Michel Mayor & Didier Queloz (1/2).\\n\"\n",
    "            \"Constraints: If evidence is insufficient or conflicting, refuse.\"\n",
    "        )\n",
    "    ],\n",
    "    hallucination_score_config=HallucinationScoreConfig(\n",
    "        skeleton_policy=\"evidence_erase\"  # NOTE: We set \"evidence_erase\" here for evidence-based hallucination risk calculation\n",
    "    ),\n",
    ")\n",
    "print(f\"Decision: {rag_result['replies'][0].meta['hallucination_decision']}\")\n",
    "print(f\"Risk bound: {rag_result['replies'][0].meta['hallucination_risk']:.3f}\")\n",
    "print(f\"Rationale: {rag_result['replies'][0].meta['hallucination_rationale']}\")\n",
    "print(f\"Answer:\\n{rag_result['replies'][0].text}\")"
   ]
  },
  {
   "cell_type": "markdown",
   "id": "f7528a2c-ac9e-430a-a942-4ba3e95944d8",
   "metadata": {},
   "source": [
    "## Rag-based Example"
   ]
  },
  {
   "cell_type": "markdown",
   "id": "5153ffc3-24d0-4168-9834-2e5997cf5951",
   "metadata": {},
   "source": [
    "Create a Document Store and index some documents"
   ]
  },
  {
   "cell_type": "code",
   "execution_count": 19,
   "id": "bb870c10-0e35-47d9-afe7-97479eddcc60",
   "metadata": {},
   "outputs": [],
   "source": [
    "from haystack import Document\n",
    "from haystack.document_stores.in_memory import InMemoryDocumentStore"
   ]
  },
  {
   "cell_type": "code",
   "execution_count": 20,
   "id": "3e5f2dc7-fe51-4193-b3c3-daa480cd03fd",
   "metadata": {},
   "outputs": [
    {
     "data": {
      "text/plain": [
       "2"
      ]
     },
     "execution_count": 20,
     "metadata": {},
     "output_type": "execute_result"
    }
   ],
   "source": [
    "document_store = InMemoryDocumentStore()\n",
    "\n",
    "docs = [\n",
    "    Document(content=\"Nobel Prize press release (2019): James Peebles (1/2); Michel Mayor & Didier Queloz (1/2)\"),\n",
    "    Document(content=\"Nikola Tesla was a Serbian-American engineer, futurist, and inventor. He is known for his contributions to the design of the modern alternating current (AC) electricity supply system.\")\n",
    "]\n",
    "document_store.write_documents(docs)"
   ]
  },
  {
   "cell_type": "markdown",
   "id": "07f59d7d-19cd-430a-8e22-8e9ef11a7d63",
   "metadata": {},
   "source": [
    "Create a RAG Question Answering pipeline"
   ]
  },
  {
   "cell_type": "code",
   "execution_count": 21,
   "id": "b15fad1a-5344-45e6-a951-abc55d94d452",
   "metadata": {},
   "outputs": [],
   "source": [
    "from haystack import Pipeline\n",
    "from haystack.dataclasses import ChatMessage\n",
    "from haystack.components.builders import ChatPromptBuilder\n",
    "from haystack.components.retrievers.in_memory import InMemoryBM25Retriever\n",
    "\n",
    "from haystack_experimental.utils.hallucination_risk_calculator.dataclasses import HallucinationScoreConfig\n",
    "from haystack_experimental.components.generators.chat.openai import OpenAIChatGenerator"
   ]
  },
  {
   "cell_type": "code",
   "execution_count": 25,
   "id": "165228fb-c7f3-4ba9-b995-5841b6afcf79",
   "metadata": {},
   "outputs": [
    {
     "data": {
      "text/plain": [
       "<haystack.core.pipeline.pipeline.Pipeline object at 0x142628ac0>\n",
       "🚅 Components\n",
       "  - retriever: InMemoryBM25Retriever\n",
       "  - prompt_builder: ChatPromptBuilder\n",
       "  - llm: OpenAIChatGenerator\n",
       "🛤️ Connections\n",
       "  - retriever.documents -> prompt_builder.documents (list[Document])\n",
       "  - prompt_builder.prompt -> llm.messages (list[ChatMessage])"
      ]
     },
     "execution_count": 25,
     "metadata": {},
     "output_type": "execute_result"
    }
   ],
   "source": [
    "# Create the pipeline\n",
    "pipe = Pipeline()\n",
    "\n",
    "# Add components\n",
    "user_template = \"\"\"Task: Answer strictly based on the evidence provided below.\n",
    "Question: {{query}}\n",
    "Evidence:\n",
    "- {{documents[0].content}}\n",
    "Constraints: If evidence is insufficient or conflicting, refuse.\n",
    "\"\"\"\n",
    "pipe.add_component(\"retriever\", InMemoryBM25Retriever(document_store))\n",
    "pipe.add_component(\n",
    "    \"prompt_builder\",\n",
    "    ChatPromptBuilder(template=[ChatMessage.from_user(user_template)], required_variables=\"*\")\n",
    ")\n",
    "pipe.add_component(\"llm\", OpenAIChatGenerator(model=\"gpt-4o\"))\n",
    "\n",
    "# Connect the components\n",
    "pipe.connect(\"retriever.documents\", \"prompt_builder.documents\")\n",
    "pipe.connect(\"prompt_builder.prompt\", \"llm.messages\")"
   ]
  },
  {
   "cell_type": "markdown",
   "id": "ab34fd2f-efd7-4239-af47-acdf14f8e917",
   "metadata": {},
   "source": [
    "Run a query that is answerable based on the evidence"
   ]
  },
  {
   "cell_type": "code",
   "execution_count": 27,
   "id": "ace243c5-0a11-45e3-aa24-27cdc57d2c1a",
   "metadata": {},
   "outputs": [],
   "source": [
    "query = \"Who won the Nobel Prize in Physics in 2019?\"\n",
    "\n",
    "result = pipe.run(\n",
    "    data={\n",
    "        \"retriever\": {\"query\": query},\n",
    "        \"prompt_builder\": {\"query\": query},\n",
    "        \"llm\": {\n",
    "            \"hallucination_score_config\": HallucinationScoreConfig(skeleton_policy=\"evidence_erase\")\n",
    "        }\n",
    "    }\n",
    ")"
   ]
  },
  {
   "cell_type": "code",
   "execution_count": 33,
   "id": "69c05143-0d7f-4ada-95d6-1e5d0b39d9f2",
   "metadata": {},
   "outputs": [
    {
     "name": "stdout",
     "output_type": "stream",
     "text": [
      "Decision: ANSWER\n",
      "Risk bound: 0.541\n",
      "Rationale: Δ̄=12.0000 nats, B2T=1.8947, ISR=6.333 (thr=1.000), extra_bits=0.200; EDFL RoH bound=0.541; y='answer'\n",
      "Answer:\n",
      "The Nobel Prize in Physics in 2019 was awarded with one half to James Peebles and the other half jointly to Michel Mayor and Didier Queloz.\n"
     ]
    }
   ],
   "source": [
    "print(f\"Decision: {result['llm']['replies'][0].meta['hallucination_decision']}\")\n",
    "print(f\"Risk bound: {result['llm']['replies'][0].meta['hallucination_risk']:.3f}\")\n",
    "print(f\"Rationale: {result['llm']['replies'][0].meta['hallucination_rationale']}\")\n",
    "print(f\"Answer:\\n{result['llm']['replies'][0].text}\")"
   ]
  },
  {
   "cell_type": "markdown",
   "id": "b09d0234-f185-4e77-b2a7-1b6a297b740f",
   "metadata": {},
   "source": [
    "Run a query that should not be answered"
   ]
  },
  {
   "cell_type": "code",
   "execution_count": 36,
   "id": "03902587-1f8e-4a04-9c5a-23abdcff8d47",
   "metadata": {},
   "outputs": [],
   "source": [
    "query = \"Who won the Nobel Prize in Physics in 2022?\"\n",
    "\n",
    "result = pipe.run(\n",
    "    data={\n",
    "        \"retriever\": {\"query\": query},\n",
    "        \"prompt_builder\": {\"query\": query},\n",
    "        \"llm\": {\n",
    "            \"hallucination_score_config\": HallucinationScoreConfig(skeleton_policy=\"evidence_erase\")\n",
    "        }\n",
    "    }\n",
    ")"
   ]
  },
  {
   "cell_type": "code",
   "execution_count": 37,
   "id": "704d2dd1-88ad-4d2b-b944-8ac137825855",
   "metadata": {},
   "outputs": [
    {
     "name": "stdout",
     "output_type": "stream",
     "text": [
      "Decision: REFUSE\n",
      "Risk bound: 1.000\n",
      "Rationale: Δ̄=0.0000 nats, B2T=1.8947, ISR=0.000 (thr=1.000), extra_bits=0.200; EDFL RoH bound=1.000; y='refuse'\n",
      "Answer:\n",
      "The evidence provided is insufficient to determine who won the Nobel Prize in Physics in 2022, as it only contains information about the 2019 laureates. Therefore, I cannot answer the question based on the given evidence.\n"
     ]
    }
   ],
   "source": [
    "print(f\"Decision: {result['llm']['replies'][0].meta['hallucination_decision']}\")\n",
    "print(f\"Risk bound: {result['llm']['replies'][0].meta['hallucination_risk']:.3f}\")\n",
    "print(f\"Rationale: {result['llm']['replies'][0].meta['hallucination_rationale']}\")\n",
    "print(f\"Answer:\\n{result['llm']['replies'][0].text}\")"
   ]
  },
  {
   "cell_type": "code",
   "execution_count": null,
   "id": "06a0cd76-3d33-4317-8661-3f10cc503ebd",
   "metadata": {},
   "outputs": [],
   "source": []
  }
 ],
 "metadata": {
  "kernelspec": {
   "display_name": "Python 3 (ipykernel)",
   "language": "python",
   "name": "python3"
  },
  "language_info": {
   "codemirror_mode": {
    "name": "ipython",
    "version": 3
   },
   "file_extension": ".py",
   "mimetype": "text/x-python",
   "name": "python",
   "nbconvert_exporter": "python",
   "pygments_lexer": "ipython3",
   "version": "3.10.14"
  }
 },
 "nbformat": 4,
 "nbformat_minor": 5
}
