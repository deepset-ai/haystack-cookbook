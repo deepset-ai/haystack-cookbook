{
 "cells": [
  {
   "cell_type": "markdown",
   "metadata": {},
   "source": [
    "# Feedback Analysis Agent with Azure AI Search and Haystack\n",
    "*by Amna Mubashar (Haystack), and Khye Wei (Azure AI Search)*\n",
    "\n",
    "This notebook demonstrates how you can build indexing and querying pipelines using Azure AI Search-Haystack integration. Additionally, you'll develop an interactive feedback review agent leveraging Haystack Tools."
   ]
  },
  {
   "cell_type": "markdown",
   "metadata": {},
   "source": [
    "## Install the required dependencies"
   ]
  },
  {
   "cell_type": "code",
   "execution_count": null,
   "metadata": {},
   "outputs": [],
   "source": [
    "# Install the required dependencies\n",
    "\n",
    "!pip install haystack-ai==2.10.3\n",
    "!pip install azure-ai-search-haystack\n",
    "!pip install jq\n",
    "!pip install nltk==\"3.9.1\"\n",
    "!pip install jsonschema\n",
    "!pip install kagglehub"
   ]
  },
  {
   "cell_type": "markdown",
   "metadata": {},
   "source": [
    "## Loading and Preparing the Dataset\n",
    "We will use an open dataset consisting of approx. 28000 customer reviews for a clothing store. The dataset is available at [Shopper Sentiments](https://www.kaggle.com/datasets/nelgiriyewithana/shoppersentiments).\n",
    "\n",
    "We will load the dataset and convert it into a JSON format that can be used by Haystack.\n"
   ]
  },
  {
   "cell_type": "code",
   "execution_count": null,
   "metadata": {},
   "outputs": [],
   "source": [
    "\n",
    "import kagglehub\n",
    "path = kagglehub.dataset_download(\"nelgiriyewithana/shoppersentiments\")"
   ]
  },
  {
   "cell_type": "code",
   "execution_count": 13,
   "metadata": {},
   "outputs": [],
   "source": [
    "import pandas as pd\n",
    "from json import loads, dumps\n",
    "\n",
    "path = \"<Path to the CSV file>\"\n",
    "\n",
    "df = pd.read_csv(path, encoding='latin1', nrows=200) # We are using 200 rows for testing purposes\n",
    "\n",
    "df.rename(columns={'review-label': 'rating'}, inplace=True)\n",
    "df['year'] = pd.to_datetime(df['year'], format='%Y %H:%M:%S').dt.year\n",
    "\n",
    "# Convert DataFrame to JSON\n",
    "json_data = {\"reviews\": loads(df.to_json(orient=\"records\"))}\n"
   ]
  },
  {
   "cell_type": "markdown",
   "metadata": {},
   "source": [
    "Once we have the JSON data, we can convert it into a Haystack Document format using the `JSONConverter` component. Its important to remove any documents with no content as they will not be indexed."
   ]
  },
  {
   "cell_type": "code",
   "execution_count": 18,
   "metadata": {},
   "outputs": [],
   "source": [
    "from haystack.components.converters import JSONConverter\n",
    "from haystack.dataclasses import ByteStream\n",
    "converter = JSONConverter(\n",
    "  jq_schema=\".reviews[]\", content_key=\"review\", extra_meta_fields={\"store_location\", \"date\", \"month\", \"year\", \"rating\"}\n",
    ")\n",
    "source = ByteStream.from_string(dumps(json_data))\n",
    "\n",
    "documents = converter.run(sources=[source])['documents']\n",
    "documents = [doc for doc in documents if doc.content is not None] # remove documents with no content\n"
   ]
  },
  {
   "cell_type": "markdown",
   "metadata": {},
   "source": [
    "Remove any non-ASCII characters and any regex patterns that are not alphanumeric using the `DocumentCleaner` component."
   ]
  },
  {
   "cell_type": "code",
   "execution_count": 19,
   "metadata": {},
   "outputs": [],
   "source": [
    "from haystack.components.preprocessors import DocumentCleaner\n",
    "cleaner = DocumentCleaner(ascii_only=True, remove_regex=\"i12i12i12\")\n",
    "cleaned_documents=cleaner.run(documents=documents)"
   ]
  },
  {
   "cell_type": "markdown",
   "metadata": {},
   "source": [
    "## Setting up Azure AI Search and Indexing Pipeline\n",
    "\n",
    "We set up an indexing pipeline with `AzureAISearchDocumentStore` by following these steps:\n",
    "1. Configure semantic search for the index\n",
    "2. Initialize the document store with custom metadata fields and semantic search configuration\n",
    "3. Create an indexing pipeline that:\n",
    "   - Generates embeddings for the documents using `AzureOpenAIDocumentEmbedder`\n",
    "   - Writes the documents and their embeddings to the search index\n",
    "\n",
    "The semantic configuration allows for more intelligent searching beyond simple keyword matching. Note, the metadata fields need to be declared while creating the index as the API does not allow modifying them after index creation."
   ]
  },
  {
   "cell_type": "code",
   "execution_count": 22,
   "metadata": {},
   "outputs": [
    {
     "name": "stderr",
     "output_type": "stream",
     "text": [
      "Embedding Texts: 100%|██████████| 6/6 [00:29<00:00,  4.91s/it]\n"
     ]
    },
    {
     "data": {
      "text/plain": [
       "{'document_embedder': {'meta': {'model': 'text-embedding-ada-002',\n",
       "   'usage': {'prompt_tokens': 4283, 'total_tokens': 4283}}},\n",
       " 'doc_writer': {'documents_written': 175}}"
      ]
     },
     "execution_count": 22,
     "metadata": {},
     "output_type": "execute_result"
    }
   ],
   "source": [
    "from haystack import Pipeline\n",
    "from haystack.components.embedders import AzureOpenAIDocumentEmbedder\n",
    "from haystack.components.writers import DocumentWriter\n",
    "from azure.search.documents.indexes.models import (\n",
    "    SemanticConfiguration,\n",
    "    SemanticField,\n",
    "    SemanticPrioritizedFields,\n",
    "    SemanticSearch\n",
    ")\n",
    "\n",
    "from haystack_integrations.document_stores.azure_ai_search import AzureAISearchDocumentStore\n",
    "\n",
    "\n",
    "semantic_config = SemanticConfiguration(\n",
    "    name=\"my-semantic-config\",\n",
    "    prioritized_fields=SemanticPrioritizedFields(\n",
    "        content_fields=[SemanticField(field_name=\"content\")]\n",
    "    )\n",
    ")\n",
    "\n",
    "# Create the semantic settings with the configuration\n",
    "semantic_search = SemanticSearch(configurations=[semantic_config])\n",
    "\n",
    "document_store = AzureAISearchDocumentStore(index_name=\"customer-reviews-analysis\", api_key=\"your_api_key\",\n",
    "                                            endpoint=\"your_endpoint\",\n",
    "    embedding_dimension=1536, metadata_fields = {\"month\": int, \"year\": int, \"rating\": int, \"store_location\": str}, semantic_search=semantic_search)\n",
    "\n",
    "# Indexing Pipeline\n",
    "indexing_pipeline = Pipeline()\n",
    "indexing_pipeline.add_component(AzureOpenAIDocumentEmbedder(), name=\"document_embedder\")\n",
    "indexing_pipeline.add_component(instance=DocumentWriter(document_store=document_store), name=\"doc_writer\")\n",
    "indexing_pipeline.connect(\"document_embedder\", \"doc_writer\")\n",
    "\n",
    "indexing_pipeline.run({\"document_embedder\": {\"documents\": cleaned_documents[\"documents\"]}})\n"
   ]
  },
  {
   "cell_type": "markdown",
   "metadata": {},
   "source": [
    "## Creating the Query Pipeline\n",
    "\n",
    "Here we set up the query pipeline that will retrieve relevant reviews based on user queries. The pipeline consists of:\n",
    "\n",
    "1. A text embedder (`AzureOpenAITextEmbedder`) that converts user queries into embeddings.\n",
    "2. A hybrid retriever (`AzureAISearchHybridRetriever`) that uses vector and semantic search to retrieve the most relevant reviews.\n"
   ]
  },
  {
   "cell_type": "code",
   "execution_count": 23,
   "metadata": {},
   "outputs": [
    {
     "data": {
      "text/plain": [
       "<haystack.core.pipeline.pipeline.Pipeline object at 0x10fe27610>\n",
       "🚅 Components\n",
       "  - text_embedder: AzureOpenAITextEmbedder\n",
       "  - retriever: AzureAISearchHybridRetriever\n",
       "🛤️ Connections\n",
       "  - text_embedder.embedding -> retriever.query_embedding (List[float])"
      ]
     },
     "execution_count": 23,
     "metadata": {},
     "output_type": "execute_result"
    }
   ],
   "source": [
    "from haystack_integrations.components.retrievers.azure_ai_search import AzureAISearchHybridRetriever\n",
    "from haystack.components.embedders import AzureOpenAITextEmbedder\n",
    "\n",
    "\n",
    "# Query Pipeline\n",
    "query_pipeline = Pipeline()\n",
    "query_pipeline.add_component(\"text_embedder\", AzureOpenAITextEmbedder())\n",
    "query_pipeline.add_component(\"retriever\", AzureAISearchHybridRetriever(document_store=document_store, query_type=\"semantic\", semantic_configuration_name=\"my-semantic-config\", top_k=10))\n",
    "query_pipeline.connect(\"text_embedder.embedding\", \"retriever.query_embedding\")\n",
    "\n"
   ]
  },
  {
   "cell_type": "code",
   "execution_count": 26,
   "metadata": {},
   "outputs": [
    {
     "name": "stdout",
     "output_type": "stream",
     "text": [
      "<iterator object azure.core.paging.ItemPaged at 0x17f829880>\n",
      "[Document(id=e9f8a141855701896441cbf9fd29ad326ec5250e9263f4ea1f74a5b389d1c90c, content: 'You did everything right! Shipping was quick and reasonable, and the shirts are awesome! Colorful an...', meta: {'store_location': 'US', 'year': 2018, 'rating': 5, 'month': 6}, embedding: vector of size 1536), Document(id=a841f950a433d05857933fb7cd46d54a6a04066f1373875359c90f096ce0bf9a, content: 'I love the shirts that I bought.Prices were great and shipping didnt take any lon', meta: {'store_location': 'US', 'year': 2024, 'rating': 5, 'month': 6}, embedding: vector of size 1536), Document(id=0ee4d9627e9085936973126762a0aa746b5e235cf253a9f759af84fbfdd9cdae, content: 'Product was great. Love the options. anything I could imagine was available. my only issue was I pai...', meta: {'store_location': 'US', 'year': 2023, 'rating': 4, 'month': 6}, embedding: vector of size 1536), Document(id=31bb2754ad0ebf5084c90260dd45f7c9ea8f5bf5759d3caaf7e97420f8c9610b, content: 'Great shipping time. The shirts look amazing.', meta: {'store_location': 'US', 'year': 2024, 'rating': 5, 'month': 6}, embedding: vector of size 1536), Document(id=eb580826a63a596f312f5e2757b25f53d4622fc700cb158b8f6a6b307644d61d, content: 'I love the design, quality of the shirt was great. the print was high quality, shipping was on time ...', meta: {'store_location': 'US', 'year': 2019, 'rating': 4, 'month': 6}, embedding: vector of size 1536), Document(id=351df76a4a52548725cb61803ccb0602379e465a2c0a79e05061f7d7c729054b, content: 'Great designs and quality. Items shipped quickly and correctly.', meta: {'store_location': 'US', 'year': 2024, 'rating': 5, 'month': 6}, embedding: vector of size 1536), Document(id=b18855210319bc9b6bf3066a644114425900e95979ad77c1c1dd85e20cbac8b2, content: 'Awesome shirts ,great quality material, fantastic designs,good shipping speed and carefully packed a...', meta: {'store_location': 'US', 'year': 2024, 'rating': 5, 'month': 6}, embedding: vector of size 1536), Document(id=6d2ad6c2991516f5c1f7793414996e763a2702ffeceb01b18a61c3225a61bc46, content: 'Once I figured out the sizing, everything was great. FYI, I am a size 10 in womens tops but prefer a...', meta: {'store_location': 'US', 'year': 2018, 'rating': 5, 'month': 6}, embedding: vector of size 1536), Document(id=8798ccd5cde690479c764e8118f1d5423352d13b9d2b8849bc8aed801ae9a9be, content: 'A bit pricey for a tee shirt. Childs size cost $18.00 and outrageous shipping $9.99. No way this cos...', meta: {'store_location': 'US', 'year': 2024, 'rating': 3, 'month': 6}, embedding: vector of size 1536), Document(id=d58901f69050e781ca6f5c78bff61474294e9f0a4b65549bab7b9764f8eed81e, content: 'Delivered ON TIME and shirt is EXTREMELY COMFORTABLE!! You guys are THE BEST!', meta: {'store_location': 'US', 'year': 2018, 'rating': 5, 'month': 6}, embedding: vector of size 1536)]\n"
     ]
    }
   ],
   "source": [
    "query = \"Which reviews are about shipping?\"\n",
    "\n",
    "# Retrieve reviews based on the query\n",
    "result = query_pipeline.run({\"text_embedder\": {\"text\": query}, \"retriever\": {\"query\": query}})\n",
    "retrieved_reviews = result[\"retriever\"][\"documents\"]\n",
    "print(retrieved_reviews)\n"
   ]
  },
  {
   "cell_type": "markdown",
   "metadata": {},
   "source": [
    "## Create Tools for Sentiment Analysis and Summarization\n",
    "Install the required dependencies.\n"
   ]
  },
  {
   "cell_type": "code",
   "execution_count": null,
   "metadata": {},
   "outputs": [],
   "source": [
    "!pip install vaderSentiment\n",
    "!pip install matplotlib\n",
    "!pip install sumy"
   ]
  },
  {
   "cell_type": "markdown",
   "metadata": {},
   "source": [
    "\n",
    "Create a function that will be used by `review_analysis` tool to visualize the sentiment distribution across customer review aspects (e.g., product quality, shipping). It compares VADER-based sentiment scores with customer ratings using color-coded bars (positive, neutral, negative). "
   ]
  },
  {
   "cell_type": "code",
   "execution_count": 28,
   "metadata": {},
   "outputs": [],
   "source": [
    "# Function to visualize the sentiment distribution\n",
    "\n",
    "import matplotlib.pyplot as plt\n",
    "import pandas as pd\n",
    "import numpy as np\n",
    "\n",
    "\n",
    "def plot_sentiment_distribution(aspects):\n",
    "    # Create DataFrame from aspects data\n",
    "    data = [(topic, review['sentiment']['analyzer_rating'], \n",
    "             review['review']['rating'], review['sentiment']['label'])\n",
    "            for topic, reviews in aspects.items()\n",
    "            for review in reviews]\n",
    "    \n",
    "    df = pd.DataFrame(data, columns=['Topic', 'Normalized Score', 'Original Rating', 'Sentiment'])\n",
    "    \n",
    "    # Calculate means\n",
    "    df_means = df.groupby('Topic').agg({\n",
    "        'Normalized Score': 'mean',\n",
    "        'Original Rating': 'mean'\n",
    "    }).reset_index()\n",
    "    \n",
    "    fig, ax = plt.subplots(figsize=(8, 4))  \n",
    "    x = np.arange(len(df_means))\n",
    "    bar_width = 0.3  \n",
    "    \n",
    "    # Colors for sentiment\n",
    "    colors = {\n",
    "        'positive': '#2ecc71',\n",
    "        'neutral': '#f1c40f',\n",
    "        'negative': '#e74c3c'\n",
    "    }\n",
    "    \n",
    "    # Create bars\n",
    "    sentiment_colors = [colors[df.groupby('Topic')['Sentiment'].agg(lambda x: x.mode()[0])[topic]] \n",
    "                       for topic in df_means['Topic']]\n",
    "    \n",
    "    bars1 = ax.bar(x - bar_width/2, df_means['Normalized Score'], \n",
    "                   bar_width, label='Normalized Score', color=sentiment_colors)\n",
    "    bars2 = ax.bar(x + bar_width/2, df_means['Original Rating'], \n",
    "                   bar_width, label='Original Rating', color='gray', alpha=0.7)\n",
    "    \n",
    "    # Customize plot with smaller font sizes\n",
    "    ax.set_ylabel('Score', fontsize=9)\n",
    "    ax.set_title('Average Sentiment Scores by Topic', fontsize=10)\n",
    "    ax.set_xticks(x)\n",
    "    ax.set_xticklabels(df_means['Topic'], rotation=45, ha='right', fontsize=8)\n",
    "    ax.tick_params(axis='y', labelsize=8)\n",
    "    \n",
    "    # Add value labels with smaller font size\n",
    "    for bars in [bars1, bars2]:\n",
    "        ax.bar_label(bars, fmt='%.2f', padding=3, fontsize=8)\n",
    "    \n",
    "    # Smaller legend\n",
    "    ax.legend(handles=[plt.Rectangle((0,0),1,1, color=c) for c in colors.values()] + \n",
    "             [plt.Rectangle((0,0),1,1, color='gray', alpha=0.7)],\n",
    "             labels=list(colors.keys()) + ['Original Rating'],\n",
    "             loc='upper right',\n",
    "             fontsize=8)\n",
    "    \n",
    "    plt.tight_layout()\n",
    "    plt.show()"
   ]
  },
  {
   "cell_type": "markdown",
   "metadata": {},
   "source": [
    "\n",
    "Create a tool to perform aspect-based sentiment analysis on customer reviews using the VADER sentiment analyzer. It involves:\n",
    "\n",
    "- Identifying specific aspects within reviews (e.g., product quality, shipping, customer service, pricing) using predefined keywords\n",
    "- Calculating sentiment scores for each review mentioning these aspects\n",
    "- Categorizing sentiment as 'positive', 'negative', or 'neutral' \n",
    "- Normalizing sentiment scores to a scale of 1 to 5 for comparison with customer ratings\n"
   ]
  },
  {
   "cell_type": "code",
   "execution_count": 47,
   "metadata": {},
   "outputs": [],
   "source": [
    "from haystack.tools import Tool\n",
    "from haystack.components.tools import ToolInvoker\n",
    "\n",
    "from typing import Dict, List\n",
    "from vaderSentiment.vaderSentiment import SentimentIntensityAnalyzer\n",
    "\n",
    "\n",
    "def analyze_sentiment(reviews: List[Dict]) -> Dict:\n",
    "    \"\"\"\n",
    "    Perform aspect-based sentiment analysis.\n",
    "    \n",
    "    For each review that mentions keywords related to a specific topic, the function computes \n",
    "    sentiment scores using VADER and categorizes the sentiment as 'positive', 'negative', or 'neutral'.\n",
    "    \n",
    "    \"\"\"\n",
    "    aspects = {\n",
    "        \"product_quality\": [],\n",
    "        \"shipping\": [],\n",
    "        \"customer_service\": [],\n",
    "        \"pricing\": []\n",
    "    }\n",
    "    \n",
    "    # Define keywords for each topic\n",
    "    keywords = {\n",
    "        \"product_quality\": [\"quality\", \"material\", \"design\", \"fit\", \"size\", \"color\", \"style\"],\n",
    "        \"shipping\": [\"shipping\", \"delivery\", \"arrived\"],\n",
    "        \"customer_service\": [\"service\", \"support\", \"help\"],\n",
    "        \"pricing\": [\"price\", \"cost\", \"expensive\", \"cheap\"]\n",
    "    }\n",
    "\n",
    "    \n",
    "    # Initialize the VADER sentiment analyzer\n",
    "    analyzer = SentimentIntensityAnalyzer()\n",
    "    \n",
    "    for review in reviews:\n",
    "        text = review.get(\"review\", \"\").lower()\n",
    "        for topic, words in keywords.items():\n",
    "            if any(word in text for word in words):\n",
    "                # Compute sentiment scores using VADER\n",
    "                sentiment_scores = analyzer.polarity_scores(text)\n",
    "               \n",
    "                compound = sentiment_scores['compound']\n",
    "                # Normalize compound score from [-1, 1] to [1, 5]\n",
    "                normalized_score = (compound + 1) * 2 + 1\n",
    "                \n",
    "                if compound >= 0.03:\n",
    "                    sentiment_label = 'positive'\n",
    "                elif compound <= -0.03:\n",
    "                    sentiment_label = 'negative'\n",
    "                else:\n",
    "                    sentiment_label = 'neutral'\n",
    "                \n",
    "                # Append the review along with its sentiment analysis result\n",
    "                aspects[topic].append({\n",
    "                    \"review\": review,\n",
    "                    \"sentiment\": {\n",
    "                        \"analyzer_rating\": normalized_score,\n",
    "                        \"label\": sentiment_label\n",
    "                    }\n",
    "                })\n",
    "    plot_sentiment_distribution(aspects)\n",
    "\n",
    "    return {\n",
    "        \"total_reviews\": len(reviews),\n",
    "        \"sentiment_analysis\": aspects,\n",
    "        \"average_rating\": sum(r.get(\"rating\", 3) for r in reviews) / len(reviews)\n",
    "    }\n",
    "\n",
    "# Use the `analyze_sentiment` function to create a tool for sentiment analysis\n",
    "sentiment_tool = Tool(\n",
    "    name=\"review_analysis\",\n",
    "    description=\"Aspect based sentiment analysis tool that compares the sentiment of reviews by analyzer and rating\",\n",
    "    function=analyze_sentiment,\n",
    "    parameters={\n",
    "        \"type\": \"object\",\n",
    "        \"properties\": {\n",
    "            \"reviews\": {\n",
    "                \"type\": \"array\",\n",
    "                \"items\": {\n",
    "                    \"type\": \"object\",\n",
    "                    \"properties\": {\n",
    "                        \"review\": {\"type\": \"string\"},\n",
    "                        \"rating\": {\"type\": \"integer\"},\n",
    "                        \"date\": {\"type\": \"string\"}\n",
    "                    }\n",
    "                }\n",
    "            },\n",
    "        },\n",
    "        \"required\": [\"reviews\"]\n",
    "    }\n",
    ")\n",
    "\n"
   ]
  },
  {
   "cell_type": "markdown",
   "metadata": {},
   "source": [
    "\n",
    "Create a tool for summarizing customer reviews. The process involves:\n",
    "\n",
    "- Using the LSA (Latent Semantic Analysis) summarizer to identify and extract the most important sentences from each review\n",
    "- Creating concise summaries that capture the essence of the reviews\n"
   ]
  },
  {
   "cell_type": "code",
   "execution_count": 54,
   "metadata": {},
   "outputs": [],
   "source": [
    "from sumy.parsers.plaintext import PlaintextParser\n",
    "from sumy.nlp.tokenizers import Tokenizer\n",
    "from sumy.summarizers.lsa import LsaSummarizer\n",
    "\n",
    "\n",
    "def summarize_reviews(reviews: List[Dict]) -> Dict:\n",
    "    \"\"\"\n",
    "    Summarize the reviews by extracting key sentences.\n",
    "    \"\"\"\n",
    "    summaries = []\n",
    "    summarizer = LsaSummarizer()\n",
    "    for review in reviews:\n",
    "        text = review.get(\"review\", \"\")\n",
    "        parser = PlaintextParser.from_string(text, Tokenizer(\"english\"))\n",
    "        summary = summarizer(parser.document, 2)  # Adjust the number of sentences as needed\n",
    "        summary_text = \" \".join(str(sentence) for sentence in summary)\n",
    "        summaries.append({\"review\": text, \"summary\": summary_text})\n",
    "\n",
    "    return {\"summaries\": summaries}\n",
    "\n",
    "# Create the tool from the `summarize_reviews` function\n",
    "summarization_tool = Tool(\n",
    "    name=\"review_summarization\",\n",
    "    description=\"Tool to summarize customer reviews by extracting key sentences.\",\n",
    "    function=summarize_reviews,\n",
    "    parameters={\n",
    "        \"type\": \"object\",\n",
    "        \"properties\": {\n",
    "            \"reviews\": {\n",
    "                \"type\": \"array\",\n",
    "                \"items\": {\n",
    "                    \"type\": \"object\",\n",
    "                    \"properties\": {\n",
    "                        \"review\": {\"type\": \"string\"},\n",
    "                        \"rating\": {\"type\": \"integer\"},\n",
    "                        \"date\": {\"type\": \"string\"}\n",
    "                    }\n",
    "                }\n",
    "            },\n",
    "        },\n",
    "        \"required\": [\"reviews\"]\n",
    "    }\n",
    ")\n"
   ]
  },
  {
   "cell_type": "markdown",
   "metadata": {},
   "source": [
    "## Creating an Interactive Feedback Review Agent\n",
    "\n",
    "We now have the tools to build an interactive agent for customer feedback analysis. The agent dynamically selects the appropriate tool based on user queries, gathers insights based on tool response. The agent then uses the `AzureOpenAIChatGenerator` to combine the query, retrieved reviews, and tool responses into a comprehensive review analysis.\n"
   ]
  },
  {
   "cell_type": "code",
   "execution_count": 55,
   "metadata": {},
   "outputs": [],
   "source": [
    "from haystack.dataclasses import ChatMessage\n",
    "from haystack.components.generators.chat import AzureOpenAIChatGenerator\n",
    "\n",
    "def create_review_agent():\n",
    "    \"\"\"Creates an interactive review analysis agent\"\"\"\n",
    "    \n",
    "    chat_generator = AzureOpenAIChatGenerator(\n",
    "        tools=[sentiment_tool, summarization_tool]\n",
    "    )\n",
    "    \n",
    "    system_message = ChatMessage.from_system(\n",
    "        \"\"\"\n",
    "        You are a customer review analysis expert. Your task is to perform aspect based sentiment analysis on customer reviews.\n",
    "        You can use two tools to get insights:\n",
    "        - review_analysis: to get the sentiment of reviews by analyzer and rating\n",
    "        - review_summarization: to get the summary of reviews.\n",
    "\n",
    "        Depending on the user's question, use the appropriate tool to get insights and explain them in a helpful way. \n",
    "        \n",
    "        \"\"\"\n",
    "    )\n",
    "    \n",
    "    return chat_generator, system_message\n",
    "\n",
    "tool_invoker = ToolInvoker(tools=[sentiment_tool, summarization_tool])\n"
   ]
  },
  {
   "cell_type": "markdown",
   "metadata": {},
   "source": [
    "Let's put our agent to the test with a sample query and see it in action! 🚀\n"
   ]
  },
  {
   "cell_type": "code",
   "execution_count": 56,
   "metadata": {},
   "outputs": [
    {
     "name": "stdout",
     "output_type": "stream",
     "text": [
      "\n",
      "🧑: Whats the overall sentiment distribution?\n",
      "⌛ iterating...\n",
      "\n",
      " TOOL CALL:\n",
      "\treview_analysis\n"
     ]
    },
    {
     "data": {
      "image/png": "[encoded data removed]",
      "text/plain": [
       "<Figure size 800x400 with 1 Axes>"
      ]
     },
     "metadata": {},
     "output_type": "display_data"
    },
    {
     "name": "stdout",
     "output_type": "stream",
     "text": [
      "⌛ iterating...\n",
      "🤖: The overall sentiment analysis of the customer reviews reveals a predominantly positive sentiment, as evidenced by the following key insights:\n",
      "\n",
      "### Sentiment Distribution:\n",
      "1. **Total Reviews Analyzed**: 10\n",
      "2. **Average Rating**: 4.6 out of 5\n",
      "\n",
      "### Breakdown by Aspects:\n",
      "- **Product Quality**: All reviews regarding product quality are rated positively, with an average sentiment analyzer rating of approximately 4.37. Customers expressed satisfaction with shirt designs, quality, and options.\n",
      "  \n",
      "- **Shipping**: Shipping also received positive feedback, with reviews indicating quick and efficient shipping times. The sentiment analyzer rating for shipping-related comments is around 4.65, with a majority of users finding the shipping service excellent.\n",
      "\n",
      "- **Pricing**: Pricing feedback is mixed, with some customers finding the prices reasonable, while others viewed them as somewhat high. The sentiment analyzer rating for pricing stands at approximately 1.73 for the negative feedback (related to concern over the price of children's shirts and shipping costs), indicating that while some customers are satisfied, there is room for improvement.\n",
      "\n",
      "### Positive Feedback Highlights:\n",
      "- Many reviews celebrated the quality of the shirts, the variety of options available, and the speed of shipping, with expressions like “awesome,” “fantastic designs,” and “great quality material.”\n",
      "\n",
      "### Negative Feedback Highlights:\n",
      "- The only notable negative sentiment arises around pricing complaints, particularly regarding perceived high costs for t-shirts and shipping fees.\n",
      "\n",
      "In summary, the sentiment distribution indicates a strong overall positive reception among customers, especially regarding product quality and shipping, with a slight negative sentiment regarding pricing.\n",
      "\n",
      "🧑: Give the summary of reviews as a paragraph.\n",
      "⌛ iterating...\n",
      "\n",
      " TOOL CALL:\n",
      "\treview_summarization\n",
      "⌛ iterating...\n",
      "🤖: The customer reviews highlight an overwhelmingly positive experience with the shirts purchased, praising aspects such as quick and reasonable shipping, amazing designs, and high product quality. Customers express their love for the shirts, noting great material and design options, while emphasizing that the delivery is timely. Most reviews reflect satisfaction, with one shopper mentioning that everything was great once they figured out the sizing. However, there are some concerns regarding pricing, as one reviewer found the cost of a child's shirt and shipping to be excessive. Overall, the feedback reflects excellent service and product quality, marking a strong recommendation for others.\n"
     ]
    }
   ],
   "source": [
    "# Create the review assistant\n",
    "chat_generator, system_message = create_review_agent()\n",
    "\n",
    "# Initialize messages with the system message\n",
    "messages = [system_message]\n",
    "\n",
    "# Interactive loop for user input\n",
    "while True:\n",
    "    user_input = input(\"\\n\\nwaiting for input (type 'exit' or 'quit' to stop)\\n: \")\n",
    "    if user_input.lower() == \"exit\" or user_input.lower() == \"quit\":\n",
    "        break\n",
    "    messages.append(ChatMessage.from_user(user_input))\n",
    "\n",
    "    print (f\"\\n🧑: {user_input}\")\n",
    "    # Build the prompt with user input and reviews\n",
    "    user_prompt = ChatMessage.from_user(f\"\"\"\n",
    "    {user_input}\n",
    "    Here are the reviews with analysis:\n",
    "    {retrieved_reviews}\n",
    "    \"\"\")\n",
    "    messages.append(user_prompt)\n",
    "\n",
    "    while True:\n",
    "        print(\"⌛ iterating...\")\n",
    "\n",
    "        replies = chat_generator.run(messages=messages)[\"replies\"]\n",
    "        messages.extend(replies)\n",
    "\n",
    "        # Check for tool calls and handle them\n",
    "        if not replies[0].tool_calls:\n",
    "            break\n",
    "        tool_calls = replies[0].tool_calls\n",
    "\n",
    "        # Print tool calls for debugging\n",
    "        for tc in tool_calls:\n",
    "            print(\"\\n TOOL CALL:\")\n",
    "            print(f\"\\t{tc.tool_name}\")\n",
    "\n",
    "        tool_messages = tool_invoker.run(messages=replies)[\"tool_messages\"]\n",
    "        messages.extend(tool_messages)\n",
    "\n",
    "    # Print the final AI response after all tool calls are resolved\n",
    "    print(f\"🤖: {messages[-1].text}\")\n",
    "\n"
   ]
  }
 ],
 "metadata": {
  "kernelspec": {
   "display_name": "Python 3",
   "language": "python",
   "name": "python3"
  },
  "language_info": {
   "codemirror_mode": {
    "name": "ipython",
    "version": 3
   },
   "file_extension": ".py",
   "mimetype": "text/x-python",
   "name": "python",
   "nbconvert_exporter": "python",
   "pygments_lexer": "ipython3",
   "version": "3.9.6"
  }
 },
 "nbformat": 4,
 "nbformat_minor": 2
}
