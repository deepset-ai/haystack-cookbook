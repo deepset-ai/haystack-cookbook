{
  "cells": [
    {
      "cell_type": "markdown",
      "metadata": {
        "id": "QJBg1TcQksMo"
      },
      "source": [
        "# RAG pipeline evaluation using DeepEval\n",
        "\n",
        "[DeepEval](https://www.confident-ai.com/) is a framework to evaluate [Retrieval Augmented Generation](https://www.deepset.ai/blog/llms-retrieval-augmentation) (RAG) pipelines.\n",
        "It supports metrics like context relevance, answer correctness, faithfulness, and more.\n",
        "\n",
        "For more information about evaluators, supported metrics and usage, check out:\n",
        "\n",
        "* [DeepEvalEvaluator](https://docs.haystack.deepset.ai/docs/deepevalevaluator)\n",
        "* [Model based evaluation](https://docs.haystack.deepset.ai/docs/model-based-evaluation)\n",
        "\n",
        "This notebook shows how to use [DeepEval-Haystack](https://haystack.deepset.ai/integrations/deepeval) integration to evaluate a RAG pipeline against various metrics."
      ]
    },
    {
      "cell_type": "markdown",
      "metadata": {
        "id": "RsTU-Z2QjtwZ"
      },
      "source": [
        "## Prerequisites:\n",
        "\n",
        "- [OpenAI](https://openai.com/) key\n",
        "    - **DeepEval** uses  for computing some metrics, so we need an OpenAI key."
      ]
    },
    {
      "cell_type": "code",
      "execution_count": 9,
      "metadata": {
        "colab": {
          "base_uri": "https://localhost:8080/"
        },
        "id": "18vjNnVwGwjH",
        "outputId": "6cee5f5d-66f6-4807-8a18-d66e994d8ac5"
      },
      "outputs": [
        {
          "name": "stdout",
          "output_type": "stream",
          "text": [
            "Enter OpenAI API key:··········\n"
          ]
        }
      ],
      "source": [
        "import os\n",
        "from getpass import getpass\n",
        "\n",
        "os.environ[\"OPENAI_API_KEY\"] = getpass(\"Enter OpenAI API key:\")"
      ]
    },
    {
      "cell_type": "markdown",
      "metadata": {
        "id": "cxMjhSB-10Ws"
      },
      "source": [
        "## Install dependencies"
      ]
    },
    {
      "cell_type": "code",
      "execution_count": null,
      "metadata": {
        "id": "a7u0pxUg3JHn"
      },
      "outputs": [],
      "source": [
        "!pip install \"pydantic<1.10.10\"\n",
        "!pip install haystack-ai\n",
        "!pip install \"datasets>=2.6.1\"\n",
        "!pip install deepeval-haystack"
      ]
    },
    {
      "cell_type": "markdown",
      "metadata": {
        "id": "EJ8IG4Hc12H3"
      },
      "source": [
        "## Create a RAG pipeline\n",
        "\n",
        "We'll first need to create a RAG pipeline. Refer to this [link](https://haystack.deepset.ai/tutorials/27_first_rag_pipeline) for a detailed tutorial on how to create RAG pipelines.\n",
        "\n",
        "In this notebook, we're using the [SQUAD V2](https://huggingface.co/datasets/rajpurkar/squad_v2) dataset for getting the context, questions and ground truth answers.\n",
        "\n",
        "\n",
        "\n"
      ]
    },
    {
      "cell_type": "markdown",
      "metadata": {
        "id": "Do4z1oOdF-cM"
      },
      "source": [
        "**Initialize the document store**\n",
        "\n"
      ]
    },
    {
      "cell_type": "code",
      "execution_count": 3,
      "metadata": {
        "colab": {
          "base_uri": "https://localhost:8080/",
          "height": 194,
          "referenced_widgets": [
            "ecdd3039fab546b98285080b0154fd0b",
            "aa3bbecfe5944da284019aff8baf44ea",
            "2809adab6c6a432fae163c8e8590021c",
            "b8ca49ea0ee3418581c3e0d56e630c85",
            "b49dd1d055e246e8ab0bef9264a43e60",
            "942b6e576097465bac964355006473b1",
            "2e9a94bf99174fd08dc86a5e620b557a",
            "77c714ea90d94d668f76f6d6458af173",
            "556fb0c73f6342c6b40d532ad02d6002",
            "be7d0bc998854467897804c94410c087",
            "975275dbb3d2479e8d317ae14cac0054",
            "6e0b90efbdbe4f06bb4e4606374e24a0",
            "0562644fed5f48e8ad9732ef1147ddd9",
            "a90a1ef04530404fb837328d17a4842f",
            "4b56ff9a99e84d3980c6b941a7015dcb",
            "44caede104434cd5a75a3189d134cd01",
            "b80967d207704c66ac86d4b7bfb8a8c6",
            "32578965fe954d3e906a4e169a4ab018",
            "90df55f944a34dd19c5ef581dd10e8c7",
            "8b9384106cf34271ade70d362baad763",
            "4d89770dfd6440359c5503a7c67b948e",
            "ef55f8e3f86545dd85ffff9f0ec0eec8",
            "0e4232d17e96462e8e1a5ee08392438b",
            "f483cfc37e3943bd9a0437226f62894a",
            "d1ad1d5697214c1e83b11ec195896f0c",
            "1b63a3c82db44c77a17403b1decc2f99",
            "b65f056df8354207b251ab5ef6a707a2",
            "621e6dac0fa6454887265fdf7f8c14d3",
            "365eae22a84f465c9e2640ddd1ddbf31",
            "1244bf8ea208476cb2a1af7e9583cb51",
            "6d812678e25b4ec8abfde1a16d5cad4e",
            "a34410f9ce2a4050bb428c34e5312026",
            "555f0847214548739a4e17dba3ec7c06",
            "a8470fba6ab4420fb592c820906a7579",
            "07902c894aec4233887a1a903b0f112b",
            "27cb89f01c0546a2a06c96af28535448",
            "6dea007209214945b93b6bb9754a3185",
            "54d27ef845b840c7bd632e7616077777",
            "2599b9dffac047f3b8e4763ceb531f3a",
            "15333af214134573a64906c3dc6c650f",
            "b1109dbbca474bd399c2c37b3bbed5d3",
            "085f6a362bea4615a3018120e31e1056",
            "9cd5c8b2e8674dfb8cd82363bbab30fc",
            "476b58f1c20c4f3fa75f7db2d8959f22",
            "355fee969f7e4db5a5a4740321ec4b7f",
            "d8163e5759904ea68c8c2a341b2a7347",
            "3263d38faab14e13914c92e757882d6a",
            "db32838cce5741fabb9ad431fae28953",
            "79c748fea30c46349a7b584a28a12385",
            "df29c5b8cd18449d9f04a6e0ae7bccc1",
            "5e5bdc4043184b08a949a573bb20c0ec",
            "3ed06598cd5e46dc8252a3b066a348c4",
            "4f098711cab84ed9affd29e0ae89d020",
            "5a4659cf76c1464bac21f7b47b4234d6",
            "fc8f2d9d5e544036bcb41e9bf3ad4327"
          ]
        },
        "id": "Uj9layE_156i",
        "outputId": "c4df980e-7d34-40b0-a488-c9a00103f601"
      },
      "outputs": [
        {
          "data": {
            "application/vnd.jupyter.widget-view+json": {
              "model_id": "ecdd3039fab546b98285080b0154fd0b",
              "version_major": 2,
              "version_minor": 0
            },
            "text/plain": [
              "Downloading readme:   0%|          | 0.00/8.92k [00:00<?, ?B/s]"
            ]
          },
          "metadata": {},
          "output_type": "display_data"
        },
        {
          "data": {
            "application/vnd.jupyter.widget-view+json": {
              "model_id": "6e0b90efbdbe4f06bb4e4606374e24a0",
              "version_major": 2,
              "version_minor": 0
            },
            "text/plain": [
              "Downloading data:   0%|          | 0.00/16.4M [00:00<?, ?B/s]"
            ]
          },
          "metadata": {},
          "output_type": "display_data"
        },
        {
          "data": {
            "application/vnd.jupyter.widget-view+json": {
              "model_id": "0e4232d17e96462e8e1a5ee08392438b",
              "version_major": 2,
              "version_minor": 0
            },
            "text/plain": [
              "Downloading data:   0%|          | 0.00/1.35M [00:00<?, ?B/s]"
            ]
          },
          "metadata": {},
          "output_type": "display_data"
        },
        {
          "data": {
            "application/vnd.jupyter.widget-view+json": {
              "model_id": "a8470fba6ab4420fb592c820906a7579",
              "version_major": 2,
              "version_minor": 0
            },
            "text/plain": [
              "Generating train split:   0%|          | 0/130319 [00:00<?, ? examples/s]"
            ]
          },
          "metadata": {},
          "output_type": "display_data"
        },
        {
          "data": {
            "application/vnd.jupyter.widget-view+json": {
              "model_id": "355fee969f7e4db5a5a4740321ec4b7f",
              "version_major": 2,
              "version_minor": 0
            },
            "text/plain": [
              "Generating validation split:   0%|          | 0/11873 [00:00<?, ? examples/s]"
            ]
          },
          "metadata": {},
          "output_type": "display_data"
        },
        {
          "data": {
            "text/plain": [
              "1204"
            ]
          },
          "execution_count": 3,
          "metadata": {},
          "output_type": "execute_result"
        }
      ],
      "source": [
        "from datasets import load_dataset\n",
        "from haystack import Document\n",
        "from haystack.document_stores.in_memory import InMemoryDocumentStore\n",
        "\n",
        "document_store = InMemoryDocumentStore()\n",
        "\n",
        "dataset = load_dataset(\"rajpurkar/squad_v2\", split=\"validation\")\n",
        "documents = list(set(dataset[\"context\"]))\n",
        "docs = [Document(content=doc) for doc in documents]\n",
        "document_store.write_documents(docs)"
      ]
    },
    {
      "cell_type": "code",
      "execution_count": 10,
      "metadata": {
        "id": "6gKe995C3i7w"
      },
      "outputs": [],
      "source": [
        "import os\n",
        "from getpass import getpass\n",
        "from haystack.components.builders import PromptBuilder\n",
        "from haystack.components.generators import OpenAIGenerator\n",
        "from haystack.components.retrievers.in_memory import InMemoryBM25Retriever\n",
        "\n",
        "retriever = InMemoryBM25Retriever(document_store, top_k=3)\n",
        "\n",
        "template = \"\"\"\n",
        "Given the following information, answer the question.\n",
        "\n",
        "Context:\n",
        "{% for document in documents %}\n",
        "    {{ document.content }}\n",
        "{% endfor %}\n",
        "\n",
        "Question: {{question}}\n",
        "Answer:\n",
        "\"\"\"\n",
        "\n",
        "prompt_builder = PromptBuilder(template=template)\n",
        "generator = OpenAIGenerator(model=\"gpt-4o-mini-2024-07-18\")"
      ]
    },
    {
      "cell_type": "markdown",
      "metadata": {
        "id": "P6y3zWPoANjF"
      },
      "source": [
        "**Build the RAG pipeline**"
      ]
    },
    {
      "cell_type": "code",
      "execution_count": 11,
      "metadata": {
        "colab": {
          "base_uri": "https://localhost:8080/"
        },
        "id": "kS4LMd_34-nF",
        "outputId": "45aac034-c86f-4607-9d31-96f6c5055b82"
      },
      "outputs": [
        {
          "data": {
            "text/plain": [
              "<haystack.core.pipeline.pipeline.Pipeline object at 0x7d2b1da93b20>\n",
              "🚅 Components\n",
              "  - retriever: InMemoryBM25Retriever\n",
              "  - prompt_builder: PromptBuilder\n",
              "  - llm: OpenAIGenerator\n",
              "  - answer_builder: AnswerBuilder\n",
              "🛤️ Connections\n",
              "  - retriever.documents -> prompt_builder.documents (List[Document])\n",
              "  - retriever.documents -> answer_builder.documents (List[Document])\n",
              "  - prompt_builder.prompt -> llm.prompt (str)\n",
              "  - llm.replies -> answer_builder.replies (List[str])\n",
              "  - llm.meta -> answer_builder.meta (List[Dict[str, Any]])"
            ]
          },
          "execution_count": 11,
          "metadata": {},
          "output_type": "execute_result"
        }
      ],
      "source": [
        "from haystack import Pipeline\n",
        "from haystack.components.builders.answer_builder import AnswerBuilder\n",
        "\n",
        "rag_pipeline = Pipeline()\n",
        "# Add components to your pipeline\n",
        "rag_pipeline.add_component(\"retriever\", retriever)\n",
        "rag_pipeline.add_component(\"prompt_builder\", prompt_builder)\n",
        "rag_pipeline.add_component(\"llm\", generator)\n",
        "rag_pipeline.add_component(instance=AnswerBuilder(), name=\"answer_builder\")\n",
        "\n",
        "# Now, connect the components to each other\n",
        "rag_pipeline.connect(\"retriever\", \"prompt_builder.documents\")\n",
        "rag_pipeline.connect(\"prompt_builder\", \"llm\")\n",
        "rag_pipeline.connect(\"llm.replies\", \"answer_builder.replies\")\n",
        "rag_pipeline.connect(\"llm.meta\", \"answer_builder.meta\")\n",
        "rag_pipeline.connect(\"retriever\", \"answer_builder.documents\")\n"
      ]
    },
    {
      "cell_type": "markdown",
      "metadata": {
        "id": "xwr-T40DGF8G"
      },
      "source": [
        "**Running the pipeline**"
      ]
    },
    {
      "cell_type": "code",
      "execution_count": 12,
      "metadata": {
        "colab": {
          "base_uri": "https://localhost:8080/",
          "height": 49,
          "referenced_widgets": [
            "162d29297c5f4dad98baca0794bb93fc",
            "acaa9927fcde4bcdb606107ac0265c6b",
            "d99d1dd68071439a966f63bd4e998db9",
            "efd288e1422142bc9bfe87c5528342ad",
            "c0764d64aa2f4e2484d8b2e2d228213c",
            "a2fff18ac8104547afd5d8d5369db7b7",
            "55b84b06a9fc417a90ee08ad622e3e92",
            "98d6d1ff6fe94c2889503aa6f03d2019",
            "3080f12af2814a1985146de24da50d99",
            "6cbfaa160fef4aeeb4f273d14ea896dd",
            "4a4ab3a911e747209b7520d72bbf9bfa"
          ]
        },
        "id": "7oo0rUas5Dvy",
        "outputId": "e033ddf0-5ed9-4c8c-ecbd-072240b46df0"
      },
      "outputs": [
        {
          "data": {
            "application/vnd.jupyter.widget-view+json": {
              "model_id": "162d29297c5f4dad98baca0794bb93fc",
              "version_major": 2,
              "version_minor": 0
            },
            "text/plain": [
              "Ranking by BM25...:   0%|          | 0/1204 [00:00<?, ? docs/s]"
            ]
          },
          "metadata": {},
          "output_type": "display_data"
        }
      ],
      "source": [
        "question = \"In what country is Normandy located?\"\n",
        "\n",
        "response = rag_pipeline.run(\n",
        "    {\"retriever\": {\"query\": question}, \"prompt_builder\": {\"question\": question}, \"answer_builder\": {\"query\": question}}\n",
        ")\n"
      ]
    },
    {
      "cell_type": "code",
      "execution_count": 13,
      "metadata": {
        "colab": {
          "base_uri": "https://localhost:8080/"
        },
        "id": "B4RPE8zM_1G_",
        "outputId": "c5ca7276-39b8-4e16-dc86-1d107c5eb698"
      },
      "outputs": [
        {
          "name": "stdout",
          "output_type": "stream",
          "text": [
            "France\n"
          ]
        }
      ],
      "source": [
        "print(response[\"answer_builder\"][\"answers\"][0].data)"
      ]
    },
    {
      "cell_type": "markdown",
      "metadata": {
        "id": "GDciGcXVGNJD"
      },
      "source": [
        "We're done building our RAG pipeline. Let's evaluate it now!"
      ]
    },
    {
      "cell_type": "markdown",
      "metadata": {
        "id": "efVio5Dvlbto"
      },
      "source": [
        "## Get questions, contexts, responses and ground truths for evaluation\n",
        "\n",
        "For computing most metrics, we will need to provide the following to the evaluator:\n",
        "1. Questions\n",
        "2. Generated responses\n",
        "3. Retrieved contexts\n",
        "4. Ground truth (Specifically, this is needed for `context precision`, `context recall` and `answer correctness` metrics)\n",
        "\n",
        "We'll start with random three questions from the dataset (see below) and now we'll get the matching `contexts` and `responses` for those questions."
      ]
    },
    {
      "cell_type": "markdown",
      "metadata": {
        "id": "2RC36ICOAXoI"
      },
      "source": [
        "### Helper function to get context and responses for our questions\n"
      ]
    },
    {
      "cell_type": "code",
      "execution_count": 14,
      "metadata": {
        "id": "pXdJ6ZiGARyW"
      },
      "outputs": [],
      "source": [
        "def get_contexts_and_responses(questions, pipeline):\n",
        "    contexts = []\n",
        "    responses = []\n",
        "    for question in questions:\n",
        "        response = pipeline.run(\n",
        "            {\n",
        "                \"retriever\": {\"query\": question},\n",
        "                \"prompt_builder\": {\"question\": question},\n",
        "                \"answer_builder\": {\"query\": question},\n",
        "            }\n",
        "        )\n",
        "\n",
        "        contexts.append([d.content for d in response[\"answer_builder\"][\"answers\"][0].documents])\n",
        "        responses.append(response[\"answer_builder\"][\"answers\"][0].data)\n",
        "    return contexts, responses\n"
      ]
    },
    {
      "cell_type": "code",
      "execution_count": 15,
      "metadata": {
        "colab": {
          "base_uri": "https://localhost:8080/",
          "height": 113,
          "referenced_widgets": [
            "82350be333ab4ec49f0f3f26162e02be",
            "b210ca088d55443389cc03fcda3cc166",
            "3da15c7e57fa461bad6ee4a41a7ee6be",
            "4fc7fe98ed9e43fa96c3e862f24518a5",
            "420fb1c93d2b4b5daffb4bd40261172e",
            "d56fd76a836c4f8f82b5a7c808db0a53",
            "27f25685cd504798b38ad8147b0bd6e0",
            "fe57e53818254848bd2dbb062fed1eca",
            "8770ef290a2b4174845a8307197e0701",
            "21a6ebf4d82645b5b4182ac62f6bb8a3",
            "675904b673ca4c578ef16a777995b8d4",
            "f0c3a912ceaa4c1b8a7c52bea3828164",
            "fa3931c092f34303af88c945b8140e04",
            "59b9c475c5cd44aa845a7dda92969997",
            "d9dd9e05c1b94bf280a0b3bf1b6e526c",
            "5426fbb2f2fd457c98e943b59d214d2c",
            "74f15702bb124e90b8881bc416c5d2e2",
            "9037f3bdb47947f18ac3a324148a25ba",
            "fa08ed9dbc194258941821dd61025870",
            "1e21a8520b1a49d1a53e63404381711a",
            "27f6523d465644fcaf5304299a8c163e",
            "0dd84bad8d224269828a0c1ec0a582fc",
            "25e0e8b60e394420b8cf05f16e4a6ca6",
            "b09fb1900d114728ad51fe27f93ae23b",
            "9c536b1ace0e44ef8c16b0578fd6b3af",
            "f0fa88ba58084418a8cfa3e8cd39ef5b",
            "9525696cd0b848f7a0213d774d221081",
            "9b235a93badf4901ad3f5b8c9c5d1cb4",
            "8949db0390d942a0a13269e6aba5bc9d",
            "e40d267e3ef44557a4b0eab36e0ce339",
            "5a6df8e408d143ff86952d6b3150632f",
            "bba0ef9673ed46b79c051b0befa1139b",
            "7ac2fa06b6af43ce8c93d45bd09410cc"
          ]
        },
        "id": "EiZjPznwAU5p",
        "outputId": "d8b0f4aa-a49a-4e04-cfbf-f7dce18f2173"
      },
      "outputs": [
        {
          "data": {
            "application/vnd.jupyter.widget-view+json": {
              "model_id": "82350be333ab4ec49f0f3f26162e02be",
              "version_major": 2,
              "version_minor": 0
            },
            "text/plain": [
              "Ranking by BM25...:   0%|          | 0/1204 [00:00<?, ? docs/s]"
            ]
          },
          "metadata": {},
          "output_type": "display_data"
        },
        {
          "data": {
            "application/vnd.jupyter.widget-view+json": {
              "model_id": "f0c3a912ceaa4c1b8a7c52bea3828164",
              "version_major": 2,
              "version_minor": 0
            },
            "text/plain": [
              "Ranking by BM25...:   0%|          | 0/1204 [00:00<?, ? docs/s]"
            ]
          },
          "metadata": {},
          "output_type": "display_data"
        },
        {
          "data": {
            "application/vnd.jupyter.widget-view+json": {
              "model_id": "25e0e8b60e394420b8cf05f16e4a6ca6",
              "version_major": 2,
              "version_minor": 0
            },
            "text/plain": [
              "Ranking by BM25...:   0%|          | 0/1204 [00:00<?, ? docs/s]"
            ]
          },
          "metadata": {},
          "output_type": "display_data"
        }
      ],
      "source": [
        "question_map = {\n",
        "    \"Which mountain range influenced the split of the regions?\": 0,\n",
        "    \"What is the prize offered for finding a solution to P=NP?\": 1,\n",
        "    \"Which Californio is located in the upper part?\": 2\n",
        "}\n",
        "questions = list(question_map.keys())\n",
        "contexts, responses = get_contexts_and_responses(questions, rag_pipeline)"
      ]
    },
    {
      "cell_type": "markdown",
      "metadata": {
        "id": "w5Ju5G8KlxMr"
      },
      "source": [
        "### Ground truths, review all fields\n",
        "\n",
        "Now that we have questions, contexts, and responses we'll also get the matching ground truth answers."
      ]
    },
    {
      "cell_type": "code",
      "execution_count": 22,
      "metadata": {
        "id": "C5N0SxnCbwQj"
      },
      "outputs": [],
      "source": [
        "ground_truths = [\"\"] * len(question_map)\n",
        "\n",
        "for question, index in question_map.items():\n",
        "    idx = dataset[\"question\"].index(question)\n",
        "    ground_truths[index] = dataset[\"answers\"][idx][\"text\"][0]"
      ]
    },
    {
      "cell_type": "code",
      "execution_count": 18,
      "metadata": {
        "colab": {
          "base_uri": "https://localhost:8080/"
        },
        "id": "GaTQo7tpbxyw",
        "outputId": "7de7c544-c6ce-4d7e-96ea-4e63310b25a2"
      },
      "outputs": [
        {
          "name": "stdout",
          "output_type": "stream",
          "text": [
            "Questions:\n",
            "\n",
            "Which mountain range influenced the split of the regions?\n",
            "What is the prize offered for finding a solution to P=NP?\n",
            "Which Californio is located in the upper part?\n"
          ]
        }
      ],
      "source": [
        "print(\"Questions:\\n\")\n",
        "print(\"\\n\".join(questions))"
      ]
    },
    {
      "cell_type": "code",
      "execution_count": 51,
      "metadata": {
        "colab": {
          "base_uri": "https://localhost:8080/"
        },
        "id": "8DkbMXXkdzEC",
        "outputId": "83ea0f55-5f9d-430e-a219-c6fdae6c9ad9"
      },
      "outputs": [
        {
          "name": "stdout",
          "output_type": "stream",
          "text": [
            "Contexts:\n",
            "\n",
            "The state is most commonly divided and promoted by its regional tourism groups as consisting of northern, central, and southern California regions. The two AAA Auto Clubs of the state, the California State Automobile Association and the Automobile Club of Southern California, choose to simplify matters by dividing the state along the lines where their jurisdictions for membership apply, as either northern or southern California, in contrast to the three-region point of view. Another influence is the geographical phrase South of the Tehachapis, which would split the southern region off at the crest of that transverse range, but in that definition, the desert portions of north Los Angeles County and eastern Kern and San Bernardino Counties would be included in the southern California region due to their remoteness from the central valley and interior desert landscape.\n",
            "If a problem X is in C and hard for C, then X is said to be complete for C. This means that X is the hardest problem in C. (Since many problems could be equally hard, one might say that X is one of the hardest problems in C.) Thus the class of NP-complete problems contains the most difficult problems in NP, in the sense that they are the ones most likely not to be in P. Because the problem P = NP is not solved, being able to reduce a known NP-complete problem, Π2, to another problem, Π1, would indicate that there is no known polynomial-time solution for Π1. This is because a polynomial-time solution to Π1 would yield a polynomial-time solution to Π2. Similarly, because all NP problems can be reduced to the set, finding an NP-complete problem that can be solved in polynomial time would mean that P = NP.\n",
            "In the centre of Basel, the first major city in the course of the stream, is located the \"Rhine knee\"; this is a major bend, where the overall direction of the Rhine changes from West to North. Here the High Rhine ends. Legally, the Central Bridge is the boundary between High and Upper Rhine. The river now flows North as Upper Rhine through the Upper Rhine Plain, which is about 300 km long and up to 40 km wide. The most important tributaries in this area are the Ill below of Strasbourg, the Neckar in Mannheim and the Main across from Mainz. In Mainz, the Rhine leaves the Upper Rhine Valley and flows through the Mainz Basin.\n"
          ]
        }
      ],
      "source": [
        "print(\"Contexts:\\n\")\n",
        "for c in contexts:\n",
        "  print(c[0])"
      ]
    },
    {
      "cell_type": "code",
      "execution_count": 52,
      "metadata": {
        "colab": {
          "base_uri": "https://localhost:8080/"
        },
        "id": "l_ssY9IAfc9U",
        "outputId": "d69a561a-e98e-40e0-9a89-e4db4af61086"
      },
      "outputs": [
        {
          "name": "stdout",
          "output_type": "stream",
          "text": [
            "Responses:\n",
            "\n",
            "The Tehachapi mountain range influenced the split of the regions in California.\n",
            "The prize offered for finding a solution to P=NP is US$1,000,000.\n",
            "The Californio located in the upper part is the Ill below of Strasbourg.\n"
          ]
        }
      ],
      "source": [
        "print(\"Responses:\\n\")\n",
        "print(\"\\n\".join(responses))"
      ]
    },
    {
      "cell_type": "code",
      "execution_count": 53,
      "metadata": {
        "colab": {
          "base_uri": "https://localhost:8080/"
        },
        "id": "2qT8fBFwYNUX",
        "outputId": "454ee979-0ae4-439a-8482-7245b5dec72a"
      },
      "outputs": [
        {
          "name": "stdout",
          "output_type": "stream",
          "text": [
            "Ground truths:\n",
            "\n",
            "Tehachapis\n",
            "$1,000,000\n",
            "Monterey\n"
          ]
        }
      ],
      "source": [
        "print(\"Ground truths:\\n\")\n",
        "print(\"\\n\".join(ground_truths))"
      ]
    },
    {
      "cell_type": "markdown",
      "metadata": {
        "id": "geGTaUYtAf05"
      },
      "source": [
        "## Evaluate the RAG pipeline\n",
        "\n",
        "\n",
        "\n"
      ]
    },
    {
      "cell_type": "markdown",
      "metadata": {
        "id": "MixUQOMJGprR"
      },
      "source": [
        "Now that we have the `questions`, `contexts`,`responses` and the `ground truths`, we can begin our pipeline evaluation and compute all the supported metrics."
      ]
    },
    {
      "cell_type": "markdown",
      "metadata": {
        "id": "8Ge_aouohGBo"
      },
      "source": [
        "## Metrics computation\n",
        "\n",
        "In addition to evaluating the final responses of the LLM, it is important that we also evaluate the individual components of the RAG pipeline as they can significantly impact the overall performance. Therefore, there are different metrics to evaluate the retriever, the generator and the overall pipeline. For a full list of available metrics and their expected inputs, check out the [DeepEvalEvaluator Docs](https://docs.haystack.deepset.ai/docs/deepevalevaluator)\n",
        "\n",
        "The [DeepEval documentation](https://docs.confident-ai.com/docs/metrics-introduction) provides explanation of the individual metrics with simple examples for each of them."
      ]
    },
    {
      "cell_type": "markdown",
      "metadata": {
        "id": "PllEAyisEG2l"
      },
      "source": [
        "### Contextul Precision\n",
        "\n",
        "The contextual precision metric measures our RAG pipeline's retriever by evaluating whether items in our contexts that are relevant to the given input are ranked higher than irrelevant ones."
      ]
    },
    {
      "cell_type": "code",
      "execution_count": 28,
      "metadata": {
        "id": "6qmXfqmnFaSH"
      },
      "outputs": [],
      "source": [
        "from haystack import Pipeline\n",
        "from haystack_integrations.components.evaluators.deepeval import DeepEvalEvaluator, DeepEvalMetric\n",
        "\n",
        "context_precision_pipeline = Pipeline()\n",
        "evaluator = DeepEvalEvaluator(metric=DeepEvalMetric.CONTEXTUAL_PRECISION, metric_params={\"model\":\"gpt-4\"})\n",
        "context_precision_pipeline.add_component(\"evaluator\", evaluator)\n"
      ]
    },
    {
      "cell_type": "code",
      "execution_count": 31,
      "metadata": {
        "colab": {
          "base_uri": "https://localhost:8080/",
          "height": 1000,
          "referenced_widgets": [
            "0e7eafde72c34a58a822af793b4bfeb9",
            "60d1e49ed7564aa0a3ae5fb87287a118",
            "6dccecdd0a82418a987914dddc64dc92",
            "0e0ee9fb22d648b2b1c2acb4b6a09732",
            "f353551fe7894653b2c1a7d9c6a449a7",
            "67dc3c5b24fc433e9c34ab8faa5e58e0",
            "6dcc415dd1e5430dbfdba67a94f81aac",
            "e2c57c3decf744afa591e6021ec9b1c0"
          ]
        },
        "id": "KAanj3XTFeIz",
        "outputId": "c7ea13fd-a7e8-46e2-8c50-fc2251b8b1c4"
      },
      "outputs": [
        {
          "data": {
            "application/vnd.jupyter.widget-view+json": {
              "model_id": "0e7eafde72c34a58a822af793b4bfeb9",
              "version_major": 2,
              "version_minor": 0
            },
            "text/plain": [
              "Output()"
            ]
          },
          "metadata": {},
          "output_type": "display_data"
        },
        {
          "data": {
            "application/vnd.jupyter.widget-view+json": {
              "model_id": "6dccecdd0a82418a987914dddc64dc92",
              "version_major": 2,
              "version_minor": 0
            },
            "text/plain": [
              "Output()"
            ]
          },
          "metadata": {},
          "output_type": "display_data"
        },
        {
          "data": {
            "text/html": [
              "<pre style=\"white-space:pre;overflow-x:auto;line-height:normal;font-family:Menlo,'DejaVu Sans Mono',consolas,'Courier New',monospace\"></pre>\n"
            ],
            "text/plain": []
          },
          "metadata": {},
          "output_type": "display_data"
        },
        {
          "data": {
            "text/html": [
              "<pre style=\"white-space:pre;overflow-x:auto;line-height:normal;font-family:Menlo,'DejaVu Sans Mono',consolas,'Courier New',monospace\">\n",
              "</pre>\n"
            ],
            "text/plain": [
              "\n"
            ]
          },
          "metadata": {},
          "output_type": "display_data"
        },
        {
          "data": {
            "application/vnd.jupyter.widget-view+json": {
              "model_id": "f353551fe7894653b2c1a7d9c6a449a7",
              "version_major": 2,
              "version_minor": 0
            },
            "text/plain": [
              "Output()"
            ]
          },
          "metadata": {},
          "output_type": "display_data"
        },
        {
          "data": {
            "text/html": [
              "<pre style=\"white-space:pre;overflow-x:auto;line-height:normal;font-family:Menlo,'DejaVu Sans Mono',consolas,'Courier New',monospace\"></pre>\n"
            ],
            "text/plain": []
          },
          "metadata": {},
          "output_type": "display_data"
        },
        {
          "data": {
            "text/html": [
              "<pre style=\"white-space:pre;overflow-x:auto;line-height:normal;font-family:Menlo,'DejaVu Sans Mono',consolas,'Courier New',monospace\">\n",
              "</pre>\n"
            ],
            "text/plain": [
              "\n"
            ]
          },
          "metadata": {},
          "output_type": "display_data"
        },
        {
          "data": {
            "application/vnd.jupyter.widget-view+json": {
              "model_id": "6dcc415dd1e5430dbfdba67a94f81aac",
              "version_major": 2,
              "version_minor": 0
            },
            "text/plain": [
              "Output()"
            ]
          },
          "metadata": {},
          "output_type": "display_data"
        },
        {
          "data": {
            "text/html": [
              "<pre style=\"white-space:pre;overflow-x:auto;line-height:normal;font-family:Menlo,'DejaVu Sans Mono',consolas,'Courier New',monospace\"></pre>\n"
            ],
            "text/plain": []
          },
          "metadata": {},
          "output_type": "display_data"
        },
        {
          "data": {
            "text/html": [
              "<pre style=\"white-space:pre;overflow-x:auto;line-height:normal;font-family:Menlo,'DejaVu Sans Mono',consolas,'Courier New',monospace\">\n",
              "</pre>\n"
            ],
            "text/plain": [
              "\n"
            ]
          },
          "metadata": {},
          "output_type": "display_data"
        },
        {
          "data": {
            "text/html": [
              "<pre style=\"white-space:pre;overflow-x:auto;line-height:normal;font-family:Menlo,'DejaVu Sans Mono',consolas,'Courier New',monospace\">\n",
              "</pre>\n"
            ],
            "text/plain": [
              "\n"
            ]
          },
          "metadata": {},
          "output_type": "display_data"
        },
        {
          "data": {
            "text/html": [
              "<pre style=\"white-space:pre;overflow-x:auto;line-height:normal;font-family:Menlo,'DejaVu Sans Mono',consolas,'Courier New',monospace\">======================================================================\n",
              "</pre>\n"
            ],
            "text/plain": [
              "======================================================================\n"
            ]
          },
          "metadata": {},
          "output_type": "display_data"
        },
        {
          "data": {
            "text/html": [
              "<pre style=\"white-space:pre;overflow-x:auto;line-height:normal;font-family:Menlo,'DejaVu Sans Mono',consolas,'Courier New',monospace\">\n",
              "</pre>\n"
            ],
            "text/plain": [
              "\n"
            ]
          },
          "metadata": {},
          "output_type": "display_data"
        },
        {
          "data": {
            "text/html": [
              "<pre style=\"white-space:pre;overflow-x:auto;line-height:normal;font-family:Menlo,'DejaVu Sans Mono',consolas,'Courier New',monospace\">Metrics Summary\n",
              "</pre>\n"
            ],
            "text/plain": [
              "Metrics Summary\n"
            ]
          },
          "metadata": {},
          "output_type": "display_data"
        },
        {
          "data": {
            "text/html": [
              "<pre style=\"white-space:pre;overflow-x:auto;line-height:normal;font-family:Menlo,'DejaVu Sans Mono',consolas,'Courier New',monospace\">\n",
              "</pre>\n"
            ],
            "text/plain": [
              "\n"
            ]
          },
          "metadata": {},
          "output_type": "display_data"
        },
        {
          "data": {
            "text/html": [
              "<pre style=\"white-space:pre;overflow-x:auto;line-height:normal;font-family:Menlo,'DejaVu Sans Mono',consolas,'Courier New',monospace\">  - ✅ Contextual Precision (score: 1.0, threshold: 0.0, evaluation model: gpt-4, reason: The score is 1.00 because\n",
              "all the relevant information is perfectly ranked. The first node in the retrieval context accurately mentions the \n",
              "'Tehachapis' influencing the split of regions, while the second and third nodes, discussing structural geology \n",
              "experiments and Victoria's warmest regions respectively, do not contain any specific influence on the regional \n",
              "split. Well done!)\n",
              "</pre>\n"
            ],
            "text/plain": [
              "  - ✅ Contextual Precision (score: 1.0, threshold: 0.0, evaluation model: gpt-4, reason: The score is 1.00 because\n",
              "all the relevant information is perfectly ranked. The first node in the retrieval context accurately mentions the \n",
              "'Tehachapis' influencing the split of regions, while the second and third nodes, discussing structural geology \n",
              "experiments and Victoria's warmest regions respectively, do not contain any specific influence on the regional \n",
              "split. Well done!)\n"
            ]
          },
          "metadata": {},
          "output_type": "display_data"
        },
        {
          "data": {
            "text/html": [
              "<pre style=\"white-space:pre;overflow-x:auto;line-height:normal;font-family:Menlo,'DejaVu Sans Mono',consolas,'Courier New',monospace\">\n",
              "</pre>\n"
            ],
            "text/plain": [
              "\n"
            ]
          },
          "metadata": {},
          "output_type": "display_data"
        },
        {
          "data": {
            "text/html": [
              "<pre style=\"white-space:pre;overflow-x:auto;line-height:normal;font-family:Menlo,'DejaVu Sans Mono',consolas,'Courier New',monospace\">For test case:\n",
              "</pre>\n"
            ],
            "text/plain": [
              "For test case:\n"
            ]
          },
          "metadata": {},
          "output_type": "display_data"
        },
        {
          "data": {
            "text/html": [
              "<pre style=\"white-space:pre;overflow-x:auto;line-height:normal;font-family:Menlo,'DejaVu Sans Mono',consolas,'Courier New',monospace\">\n",
              "</pre>\n"
            ],
            "text/plain": [
              "\n"
            ]
          },
          "metadata": {},
          "output_type": "display_data"
        },
        {
          "data": {
            "text/html": [
              "<pre style=\"white-space:pre;overflow-x:auto;line-height:normal;font-family:Menlo,'DejaVu Sans Mono',consolas,'Courier New',monospace\">  - input: Which mountain range influenced the split of the regions?\n",
              "</pre>\n"
            ],
            "text/plain": [
              "  - input: Which mountain range influenced the split of the regions?\n"
            ]
          },
          "metadata": {},
          "output_type": "display_data"
        },
        {
          "data": {
            "text/html": [
              "<pre style=\"white-space:pre;overflow-x:auto;line-height:normal;font-family:Menlo,'DejaVu Sans Mono',consolas,'Courier New',monospace\">  - actual output: The Tehachapi mountain range influenced the split of the regions in California.\n",
              "</pre>\n"
            ],
            "text/plain": [
              "  - actual output: The Tehachapi mountain range influenced the split of the regions in California.\n"
            ]
          },
          "metadata": {},
          "output_type": "display_data"
        },
        {
          "data": {
            "text/html": [
              "<pre style=\"white-space:pre;overflow-x:auto;line-height:normal;font-family:Menlo,'DejaVu Sans Mono',consolas,'Courier New',monospace\">  - expected output: Tehachapis\n",
              "</pre>\n"
            ],
            "text/plain": [
              "  - expected output: Tehachapis\n"
            ]
          },
          "metadata": {},
          "output_type": "display_data"
        },
        {
          "data": {
            "text/html": [
              "<pre style=\"white-space:pre;overflow-x:auto;line-height:normal;font-family:Menlo,'DejaVu Sans Mono',consolas,'Courier New',monospace\">  - context: None\n",
              "</pre>\n"
            ],
            "text/plain": [
              "  - context: None\n"
            ]
          },
          "metadata": {},
          "output_type": "display_data"
        },
        {
          "data": {
            "text/html": [
              "<pre style=\"white-space:pre;overflow-x:auto;line-height:normal;font-family:Menlo,'DejaVu Sans Mono',consolas,'Courier New',monospace\">  - retrieval context: ['The state is most commonly divided and promoted by its regional tourism groups as \n",
              "consisting of northern, central, and southern California regions. The two AAA Auto Clubs of the state, the \n",
              "California State Automobile Association and the Automobile Club of Southern California, choose to simplify matters \n",
              "by dividing the state along the lines where their jurisdictions for membership apply, as either northern or \n",
              "southern California, in contrast to the three-region point of view. Another influence is the geographical phrase \n",
              "South of the Tehachapis, which would split the southern region off at the crest of that transverse range, but in \n",
              "that definition, the desert portions of north Los Angeles County and eastern Kern and San Bernardino Counties would\n",
              "be included in the southern California region due to their remoteness from the central valley and interior desert \n",
              "landscape.', 'Among the most well-known experiments in structural geology are those involving orogenic wedges, \n",
              "which are zones in which mountains are built along convergent tectonic plate boundaries. In the analog versions of \n",
              "these experiments, horizontal layers of sand are pulled along a lower surface into a back stop, which results in \n",
              "realistic-looking patterns of faulting and the growth of a critically tapered (all angles remain the same) orogenic\n",
              "wedge. Numerical models work in the same way as these analog models, though they are often more sophisticated and \n",
              "can include patterns of erosion and uplift in the mountain belt. This helps to show the relationship between \n",
              "erosion and the shape of the mountain range. These studies can also give useful information about pathways for \n",
              "metamorphism through pressure, temperature, space, and time.', \"The Mallee and upper Wimmera are Victoria's warmest\n",
              "regions with hot winds blowing from nearby semi-deserts. Average temperatures exceed 32 °C (90 °F) during summer \n",
              "and 15 °C (59 °F) in winter. Except at cool mountain elevations, the inland monthly temperatures are 2–7 °C (4–13 \n",
              "°F) warmer than around Melbourne (see chart). Victoria's highest maximum temperature since World War II, of 48.8 °C\n",
              "(119.8 °F) was recorded in Hopetoun on 7 February 2009, during the 2009 southeastern Australia heat wave.\"]\n",
              "</pre>\n"
            ],
            "text/plain": [
              "  - retrieval context: ['The state is most commonly divided and promoted by its regional tourism groups as \n",
              "consisting of northern, central, and southern California regions. The two AAA Auto Clubs of the state, the \n",
              "California State Automobile Association and the Automobile Club of Southern California, choose to simplify matters \n",
              "by dividing the state along the lines where their jurisdictions for membership apply, as either northern or \n",
              "southern California, in contrast to the three-region point of view. Another influence is the geographical phrase \n",
              "South of the Tehachapis, which would split the southern region off at the crest of that transverse range, but in \n",
              "that definition, the desert portions of north Los Angeles County and eastern Kern and San Bernardino Counties would\n",
              "be included in the southern California region due to their remoteness from the central valley and interior desert \n",
              "landscape.', 'Among the most well-known experiments in structural geology are those involving orogenic wedges, \n",
              "which are zones in which mountains are built along convergent tectonic plate boundaries. In the analog versions of \n",
              "these experiments, horizontal layers of sand are pulled along a lower surface into a back stop, which results in \n",
              "realistic-looking patterns of faulting and the growth of a critically tapered (all angles remain the same) orogenic\n",
              "wedge. Numerical models work in the same way as these analog models, though they are often more sophisticated and \n",
              "can include patterns of erosion and uplift in the mountain belt. This helps to show the relationship between \n",
              "erosion and the shape of the mountain range. These studies can also give useful information about pathways for \n",
              "metamorphism through pressure, temperature, space, and time.', \"The Mallee and upper Wimmera are Victoria's warmest\n",
              "regions with hot winds blowing from nearby semi-deserts. Average temperatures exceed 32 °C (90 °F) during summer \n",
              "and 15 °C (59 °F) in winter. Except at cool mountain elevations, the inland monthly temperatures are 2–7 °C (4–13 \n",
              "°F) warmer than around Melbourne (see chart). Victoria's highest maximum temperature since World War II, of 48.8 °C\n",
              "(119.8 °F) was recorded in Hopetoun on 7 February 2009, during the 2009 southeastern Australia heat wave.\"]\n"
            ]
          },
          "metadata": {},
          "output_type": "display_data"
        },
        {
          "data": {
            "text/html": [
              "<pre style=\"white-space:pre;overflow-x:auto;line-height:normal;font-family:Menlo,'DejaVu Sans Mono',consolas,'Courier New',monospace\">\n",
              "</pre>\n"
            ],
            "text/plain": [
              "\n"
            ]
          },
          "metadata": {},
          "output_type": "display_data"
        },
        {
          "data": {
            "text/html": [
              "<pre style=\"white-space:pre;overflow-x:auto;line-height:normal;font-family:Menlo,'DejaVu Sans Mono',consolas,'Courier New',monospace\">======================================================================\n",
              "</pre>\n"
            ],
            "text/plain": [
              "======================================================================\n"
            ]
          },
          "metadata": {},
          "output_type": "display_data"
        },
        {
          "data": {
            "text/html": [
              "<pre style=\"white-space:pre;overflow-x:auto;line-height:normal;font-family:Menlo,'DejaVu Sans Mono',consolas,'Courier New',monospace\">\n",
              "</pre>\n"
            ],
            "text/plain": [
              "\n"
            ]
          },
          "metadata": {},
          "output_type": "display_data"
        },
        {
          "data": {
            "text/html": [
              "<pre style=\"white-space:pre;overflow-x:auto;line-height:normal;font-family:Menlo,'DejaVu Sans Mono',consolas,'Courier New',monospace\">Metrics Summary\n",
              "</pre>\n"
            ],
            "text/plain": [
              "Metrics Summary\n"
            ]
          },
          "metadata": {},
          "output_type": "display_data"
        },
        {
          "data": {
            "text/html": [
              "<pre style=\"white-space:pre;overflow-x:auto;line-height:normal;font-family:Menlo,'DejaVu Sans Mono',consolas,'Courier New',monospace\">\n",
              "</pre>\n"
            ],
            "text/plain": [
              "\n"
            ]
          },
          "metadata": {},
          "output_type": "display_data"
        },
        {
          "data": {
            "text/html": [
              "<pre style=\"white-space:pre;overflow-x:auto;line-height:normal;font-family:Menlo,'DejaVu Sans Mono',consolas,'Courier New',monospace\">  - ✅ Contextual Precision (score: 0.5, threshold: 0.0, evaluation model: gpt-4, reason: The score is 0.50 because\n",
              "only the second node in the retrieval contexts directly answers the question about the prize for solving P=NP, \n",
              "stating 'The P versus NP problem is one of the Millennium Prize Problems proposed by the Clay Mathematics \n",
              "Institute. There is a US$1,000,000 prize for resolving the problem.' The first and third nodes, despite discussing \n",
              "aspects of the P=NP problem, do not mention the prize, making them less relevant to the input. Therefore, they \n",
              "should be ranked lower.)\n",
              "</pre>\n"
            ],
            "text/plain": [
              "  - ✅ Contextual Precision (score: 0.5, threshold: 0.0, evaluation model: gpt-4, reason: The score is 0.50 because\n",
              "only the second node in the retrieval contexts directly answers the question about the prize for solving P=NP, \n",
              "stating 'The P versus NP problem is one of the Millennium Prize Problems proposed by the Clay Mathematics \n",
              "Institute. There is a US$1,000,000 prize for resolving the problem.' The first and third nodes, despite discussing \n",
              "aspects of the P=NP problem, do not mention the prize, making them less relevant to the input. Therefore, they \n",
              "should be ranked lower.)\n"
            ]
          },
          "metadata": {},
          "output_type": "display_data"
        },
        {
          "data": {
            "text/html": [
              "<pre style=\"white-space:pre;overflow-x:auto;line-height:normal;font-family:Menlo,'DejaVu Sans Mono',consolas,'Courier New',monospace\">\n",
              "</pre>\n"
            ],
            "text/plain": [
              "\n"
            ]
          },
          "metadata": {},
          "output_type": "display_data"
        },
        {
          "data": {
            "text/html": [
              "<pre style=\"white-space:pre;overflow-x:auto;line-height:normal;font-family:Menlo,'DejaVu Sans Mono',consolas,'Courier New',monospace\">For test case:\n",
              "</pre>\n"
            ],
            "text/plain": [
              "For test case:\n"
            ]
          },
          "metadata": {},
          "output_type": "display_data"
        },
        {
          "data": {
            "text/html": [
              "<pre style=\"white-space:pre;overflow-x:auto;line-height:normal;font-family:Menlo,'DejaVu Sans Mono',consolas,'Courier New',monospace\">\n",
              "</pre>\n"
            ],
            "text/plain": [
              "\n"
            ]
          },
          "metadata": {},
          "output_type": "display_data"
        },
        {
          "data": {
            "text/html": [
              "<pre style=\"white-space:pre;overflow-x:auto;line-height:normal;font-family:Menlo,'DejaVu Sans Mono',consolas,'Courier New',monospace\">  - input: What is the prize offered for finding a solution to P=NP?\n",
              "</pre>\n"
            ],
            "text/plain": [
              "  - input: What is the prize offered for finding a solution to P=NP?\n"
            ]
          },
          "metadata": {},
          "output_type": "display_data"
        },
        {
          "data": {
            "text/html": [
              "<pre style=\"white-space:pre;overflow-x:auto;line-height:normal;font-family:Menlo,'DejaVu Sans Mono',consolas,'Courier New',monospace\">  - actual output: The prize offered for finding a solution to P=NP is US$1,000,000.\n",
              "</pre>\n"
            ],
            "text/plain": [
              "  - actual output: The prize offered for finding a solution to P=NP is US$1,000,000.\n"
            ]
          },
          "metadata": {},
          "output_type": "display_data"
        },
        {
          "data": {
            "text/html": [
              "<pre style=\"white-space:pre;overflow-x:auto;line-height:normal;font-family:Menlo,'DejaVu Sans Mono',consolas,'Courier New',monospace\">  - expected output: $1,000,000\n",
              "</pre>\n"
            ],
            "text/plain": [
              "  - expected output: $1,000,000\n"
            ]
          },
          "metadata": {},
          "output_type": "display_data"
        },
        {
          "data": {
            "text/html": [
              "<pre style=\"white-space:pre;overflow-x:auto;line-height:normal;font-family:Menlo,'DejaVu Sans Mono',consolas,'Courier New',monospace\">  - context: None\n",
              "</pre>\n"
            ],
            "text/plain": [
              "  - context: None\n"
            ]
          },
          "metadata": {},
          "output_type": "display_data"
        },
        {
          "data": {
            "text/html": [
              "<pre style=\"white-space:pre;overflow-x:auto;line-height:normal;font-family:Menlo,'DejaVu Sans Mono',consolas,'Courier New',monospace\">  - retrieval context: ['If a problem X is in C and hard for C, then X is said to be complete for C. This means \n",
              "that X is the hardest problem in C. (Since many problems could be equally hard, one might say that X is one of the \n",
              "hardest problems in C.) Thus the class of NP-complete problems contains the most difficult problems in NP, in the \n",
              "sense that they are the ones most likely not to be in P. Because the problem P = NP is not solved, being able to \n",
              "reduce a known NP-complete problem, Π2, to another problem, Π1, would indicate that there is no known \n",
              "polynomial-time solution for Π1. This is because a polynomial-time solution to Π1 would yield a polynomial-time \n",
              "solution to Π2. Similarly, because all NP problems can be reduced to the set, finding an NP-complete problem that \n",
              "can be solved in polynomial time would mean that P = NP.', 'The question of whether P equals NP is one of the most \n",
              "important open questions in theoretical computer science because of the wide implications of a solution. If the \n",
              "answer is yes, many important problems can be shown to have more efficient solutions. These include various types \n",
              "of integer programming problems in operations research, many problems in logistics, protein structure prediction in\n",
              "biology, and the ability to find formal proofs of pure mathematics theorems. The P versus NP problem is one of the \n",
              "Millennium Prize Problems proposed by the Clay Mathematics Institute. There is a US$1,000,000 prize for resolving \n",
              "the problem.', 'What intractability means in practice is open to debate. Saying that a problem is not in P does not\n",
              "imply that all large cases of the problem are hard or even that most of them are. For example, the decision problem\n",
              "in Presburger arithmetic has been shown not to be in P, yet algorithms have been written that solve the problem in \n",
              "reasonable times in most cases. Similarly, algorithms can solve the NP-complete knapsack problem over a wide range \n",
              "of sizes in less than quadratic time and SAT solvers routinely handle large instances of the NP-complete Boolean \n",
              "satisfiability problem.']\n",
              "</pre>\n"
            ],
            "text/plain": [
              "  - retrieval context: ['If a problem X is in C and hard for C, then X is said to be complete for C. This means \n",
              "that X is the hardest problem in C. (Since many problems could be equally hard, one might say that X is one of the \n",
              "hardest problems in C.) Thus the class of NP-complete problems contains the most difficult problems in NP, in the \n",
              "sense that they are the ones most likely not to be in P. Because the problem P = NP is not solved, being able to \n",
              "reduce a known NP-complete problem, Π2, to another problem, Π1, would indicate that there is no known \n",
              "polynomial-time solution for Π1. This is because a polynomial-time solution to Π1 would yield a polynomial-time \n",
              "solution to Π2. Similarly, because all NP problems can be reduced to the set, finding an NP-complete problem that \n",
              "can be solved in polynomial time would mean that P = NP.', 'The question of whether P equals NP is one of the most \n",
              "important open questions in theoretical computer science because of the wide implications of a solution. If the \n",
              "answer is yes, many important problems can be shown to have more efficient solutions. These include various types \n",
              "of integer programming problems in operations research, many problems in logistics, protein structure prediction in\n",
              "biology, and the ability to find formal proofs of pure mathematics theorems. The P versus NP problem is one of the \n",
              "Millennium Prize Problems proposed by the Clay Mathematics Institute. There is a US$1,000,000 prize for resolving \n",
              "the problem.', 'What intractability means in practice is open to debate. Saying that a problem is not in P does not\n",
              "imply that all large cases of the problem are hard or even that most of them are. For example, the decision problem\n",
              "in Presburger arithmetic has been shown not to be in P, yet algorithms have been written that solve the problem in \n",
              "reasonable times in most cases. Similarly, algorithms can solve the NP-complete knapsack problem over a wide range \n",
              "of sizes in less than quadratic time and SAT solvers routinely handle large instances of the NP-complete Boolean \n",
              "satisfiability problem.']\n"
            ]
          },
          "metadata": {},
          "output_type": "display_data"
        },
        {
          "data": {
            "text/html": [
              "<pre style=\"white-space:pre;overflow-x:auto;line-height:normal;font-family:Menlo,'DejaVu Sans Mono',consolas,'Courier New',monospace\">\n",
              "</pre>\n"
            ],
            "text/plain": [
              "\n"
            ]
          },
          "metadata": {},
          "output_type": "display_data"
        },
        {
          "data": {
            "text/html": [
              "<pre style=\"white-space:pre;overflow-x:auto;line-height:normal;font-family:Menlo,'DejaVu Sans Mono',consolas,'Courier New',monospace\">======================================================================\n",
              "</pre>\n"
            ],
            "text/plain": [
              "======================================================================\n"
            ]
          },
          "metadata": {},
          "output_type": "display_data"
        },
        {
          "data": {
            "text/html": [
              "<pre style=\"white-space:pre;overflow-x:auto;line-height:normal;font-family:Menlo,'DejaVu Sans Mono',consolas,'Courier New',monospace\">\n",
              "</pre>\n"
            ],
            "text/plain": [
              "\n"
            ]
          },
          "metadata": {},
          "output_type": "display_data"
        },
        {
          "data": {
            "text/html": [
              "<pre style=\"white-space:pre;overflow-x:auto;line-height:normal;font-family:Menlo,'DejaVu Sans Mono',consolas,'Courier New',monospace\">Metrics Summary\n",
              "</pre>\n"
            ],
            "text/plain": [
              "Metrics Summary\n"
            ]
          },
          "metadata": {},
          "output_type": "display_data"
        },
        {
          "data": {
            "text/html": [
              "<pre style=\"white-space:pre;overflow-x:auto;line-height:normal;font-family:Menlo,'DejaVu Sans Mono',consolas,'Courier New',monospace\">\n",
              "</pre>\n"
            ],
            "text/plain": [
              "\n"
            ]
          },
          "metadata": {},
          "output_type": "display_data"
        },
        {
          "data": {
            "text/html": [
              "<pre style=\"white-space:pre;overflow-x:auto;line-height:normal;font-family:Menlo,'DejaVu Sans Mono',consolas,'Courier New',monospace\">  - ✅ Contextual Precision (score: 0, threshold: 0.0, evaluation model: gpt-4, reason: The score is 0.00 because \n",
              "all the nodes in the retrieval context are irrelevant to the input query. The first node talks about the geography \n",
              "of the Rhine and its surrounding areas, the second node discusses the Germanic frontier and its relationship with \n",
              "Rome, and the third node explains the concept of tectonic plates and their movement, none of which provide \n",
              "information about the location of Californio.)\n",
              "</pre>\n"
            ],
            "text/plain": [
              "  - ✅ Contextual Precision (score: 0, threshold: 0.0, evaluation model: gpt-4, reason: The score is 0.00 because \n",
              "all the nodes in the retrieval context are irrelevant to the input query. The first node talks about the geography \n",
              "of the Rhine and its surrounding areas, the second node discusses the Germanic frontier and its relationship with \n",
              "Rome, and the third node explains the concept of tectonic plates and their movement, none of which provide \n",
              "information about the location of Californio.)\n"
            ]
          },
          "metadata": {},
          "output_type": "display_data"
        },
        {
          "data": {
            "text/html": [
              "<pre style=\"white-space:pre;overflow-x:auto;line-height:normal;font-family:Menlo,'DejaVu Sans Mono',consolas,'Courier New',monospace\">\n",
              "</pre>\n"
            ],
            "text/plain": [
              "\n"
            ]
          },
          "metadata": {},
          "output_type": "display_data"
        },
        {
          "data": {
            "text/html": [
              "<pre style=\"white-space:pre;overflow-x:auto;line-height:normal;font-family:Menlo,'DejaVu Sans Mono',consolas,'Courier New',monospace\">For test case:\n",
              "</pre>\n"
            ],
            "text/plain": [
              "For test case:\n"
            ]
          },
          "metadata": {},
          "output_type": "display_data"
        },
        {
          "data": {
            "text/html": [
              "<pre style=\"white-space:pre;overflow-x:auto;line-height:normal;font-family:Menlo,'DejaVu Sans Mono',consolas,'Courier New',monospace\">\n",
              "</pre>\n"
            ],
            "text/plain": [
              "\n"
            ]
          },
          "metadata": {},
          "output_type": "display_data"
        },
        {
          "data": {
            "text/html": [
              "<pre style=\"white-space:pre;overflow-x:auto;line-height:normal;font-family:Menlo,'DejaVu Sans Mono',consolas,'Courier New',monospace\">  - input: Which Californio is located in the upper part?\n",
              "</pre>\n"
            ],
            "text/plain": [
              "  - input: Which Californio is located in the upper part?\n"
            ]
          },
          "metadata": {},
          "output_type": "display_data"
        },
        {
          "data": {
            "text/html": [
              "<pre style=\"white-space:pre;overflow-x:auto;line-height:normal;font-family:Menlo,'DejaVu Sans Mono',consolas,'Courier New',monospace\">  - actual output: The Californio located in the upper part is the Ill below of Strasbourg.\n",
              "</pre>\n"
            ],
            "text/plain": [
              "  - actual output: The Californio located in the upper part is the Ill below of Strasbourg.\n"
            ]
          },
          "metadata": {},
          "output_type": "display_data"
        },
        {
          "data": {
            "text/html": [
              "<pre style=\"white-space:pre;overflow-x:auto;line-height:normal;font-family:Menlo,'DejaVu Sans Mono',consolas,'Courier New',monospace\">  - expected output: Monterey\n",
              "</pre>\n"
            ],
            "text/plain": [
              "  - expected output: Monterey\n"
            ]
          },
          "metadata": {},
          "output_type": "display_data"
        },
        {
          "data": {
            "text/html": [
              "<pre style=\"white-space:pre;overflow-x:auto;line-height:normal;font-family:Menlo,'DejaVu Sans Mono',consolas,'Courier New',monospace\">  - context: None\n",
              "</pre>\n"
            ],
            "text/plain": [
              "  - context: None\n"
            ]
          },
          "metadata": {},
          "output_type": "display_data"
        },
        {
          "data": {
            "text/html": [
              "<pre style=\"white-space:pre;overflow-x:auto;line-height:normal;font-family:Menlo,'DejaVu Sans Mono',consolas,'Courier New',monospace\">  - retrieval context: ['In the centre of Basel, the first major city in the course of the stream, is located the \n",
              "\"Rhine knee\"; this is a major bend, where the overall direction of the Rhine changes from West to North. Here the \n",
              "High Rhine ends. Legally, the Central Bridge is the boundary between High and Upper Rhine. The river now flows \n",
              "North as Upper Rhine through the Upper Rhine Plain, which is about 300 km long and up to 40 km wide. The most \n",
              "important tributaries in this area are the Ill below of Strasbourg, the Neckar in Mannheim and the Main across from\n",
              "Mainz. In Mainz, the Rhine leaves the Upper Rhine Valley and flows through the Mainz Basin.', 'From the death of \n",
              "Augustus in AD 14 until after AD 70, Rome accepted as her Germanic frontier the water-boundary of the Rhine and \n",
              "upper Danube. Beyond these rivers she held only the fertile plain of Frankfurt, opposite the Roman border fortress \n",
              "of Moguntiacum (Mainz), the southernmost slopes of the Black Forest and a few scattered bridge-heads. The northern \n",
              "section of this frontier, where the Rhine is deep and broad, remained the Roman boundary until the empire fell. The\n",
              "southern part was different. The upper Rhine and upper Danube are easily crossed. The frontier which they form is \n",
              "inconveniently long, enclosing an acute-angled wedge of foreign territory between the modern Baden and Württemberg.\n",
              "The Germanic populations of these lands seem in Roman times to have been scanty, and Roman subjects from the modern\n",
              "Alsace-Lorraine had drifted across the river eastwards.', \"In the 1960s, a series of discoveries, the most \n",
              "important of which was seafloor spreading, showed that the Earth's lithosphere, which includes the crust and rigid \n",
              "uppermost portion of the upper mantle, is separated into a number of tectonic plates that move across the \n",
              "plastically deforming, solid, upper mantle, which is called the asthenosphere. There is an intimate coupling \n",
              "between the movement of the plates on the surface and the convection of the mantle: oceanic plate motions and \n",
              "mantle convection currents always move in the same direction, because the oceanic lithosphere is the rigid upper \n",
              "thermal boundary layer of the convecting mantle. This coupling between rigid plates moving on the surface of the \n",
              "Earth and the convecting mantle is called plate tectonics.\"]\n",
              "</pre>\n"
            ],
            "text/plain": [
              "  - retrieval context: ['In the centre of Basel, the first major city in the course of the stream, is located the \n",
              "\"Rhine knee\"; this is a major bend, where the overall direction of the Rhine changes from West to North. Here the \n",
              "High Rhine ends. Legally, the Central Bridge is the boundary between High and Upper Rhine. The river now flows \n",
              "North as Upper Rhine through the Upper Rhine Plain, which is about 300 km long and up to 40 km wide. The most \n",
              "important tributaries in this area are the Ill below of Strasbourg, the Neckar in Mannheim and the Main across from\n",
              "Mainz. In Mainz, the Rhine leaves the Upper Rhine Valley and flows through the Mainz Basin.', 'From the death of \n",
              "Augustus in AD 14 until after AD 70, Rome accepted as her Germanic frontier the water-boundary of the Rhine and \n",
              "upper Danube. Beyond these rivers she held only the fertile plain of Frankfurt, opposite the Roman border fortress \n",
              "of Moguntiacum (Mainz), the southernmost slopes of the Black Forest and a few scattered bridge-heads. The northern \n",
              "section of this frontier, where the Rhine is deep and broad, remained the Roman boundary until the empire fell. The\n",
              "southern part was different. The upper Rhine and upper Danube are easily crossed. The frontier which they form is \n",
              "inconveniently long, enclosing an acute-angled wedge of foreign territory between the modern Baden and Württemberg.\n",
              "The Germanic populations of these lands seem in Roman times to have been scanty, and Roman subjects from the modern\n",
              "Alsace-Lorraine had drifted across the river eastwards.', \"In the 1960s, a series of discoveries, the most \n",
              "important of which was seafloor spreading, showed that the Earth's lithosphere, which includes the crust and rigid \n",
              "uppermost portion of the upper mantle, is separated into a number of tectonic plates that move across the \n",
              "plastically deforming, solid, upper mantle, which is called the asthenosphere. There is an intimate coupling \n",
              "between the movement of the plates on the surface and the convection of the mantle: oceanic plate motions and \n",
              "mantle convection currents always move in the same direction, because the oceanic lithosphere is the rigid upper \n",
              "thermal boundary layer of the convecting mantle. This coupling between rigid plates moving on the surface of the \n",
              "Earth and the convecting mantle is called plate tectonics.\"]\n"
            ]
          },
          "metadata": {},
          "output_type": "display_data"
        },
        {
          "data": {
            "text/html": [
              "<pre style=\"white-space:pre;overflow-x:auto;line-height:normal;font-family:Menlo,'DejaVu Sans Mono',consolas,'Courier New',monospace\">\n",
              "</pre>\n"
            ],
            "text/plain": [
              "\n"
            ]
          },
          "metadata": {},
          "output_type": "display_data"
        },
        {
          "data": {
            "text/html": [
              "<pre style=\"white-space:pre;overflow-x:auto;line-height:normal;font-family:Menlo,'DejaVu Sans Mono',consolas,'Courier New',monospace\">----------------------------------------------------------------------\n",
              "</pre>\n"
            ],
            "text/plain": [
              "----------------------------------------------------------------------\n"
            ]
          },
          "metadata": {},
          "output_type": "display_data"
        },
        {
          "data": {
            "text/html": [
              "<pre style=\"white-space:pre;overflow-x:auto;line-height:normal;font-family:Menlo,'DejaVu Sans Mono',consolas,'Courier New',monospace\">✅ Tests finished! Run <span style=\"color: #008000; text-decoration-color: #008000\">\"deepeval login\"</span> to view evaluation results on the web.\n",
              "</pre>\n"
            ],
            "text/plain": [
              "✅ Tests finished! Run \u001b[32m\"deepeval login\"\u001b[0m to view evaluation results on the web.\n"
            ]
          },
          "metadata": {},
          "output_type": "display_data"
        },
        {
          "data": {
            "text/html": [
              "<pre style=\"white-space:pre;overflow-x:auto;line-height:normal;font-family:Menlo,'DejaVu Sans Mono',consolas,'Courier New',monospace\"></pre>\n"
            ],
            "text/plain": []
          },
          "metadata": {},
          "output_type": "display_data"
        },
        {
          "data": {
            "text/html": [
              "<pre style=\"white-space:pre;overflow-x:auto;line-height:normal;font-family:Menlo,'DejaVu Sans Mono',consolas,'Courier New',monospace\">\n",
              "</pre>\n"
            ],
            "text/plain": [
              "\n"
            ]
          },
          "metadata": {},
          "output_type": "display_data"
        },
        {
          "name": "stdout",
          "output_type": "stream",
          "text": [
            "[[{'name': 'contextual_precision', 'score': 1.0, 'explanation': \"The score is 1.00 because all the relevant information is perfectly ranked. The first node in the retrieval context accurately mentions the 'Tehachapis' influencing the split of regions, while the second and third nodes, discussing structural geology experiments and Victoria's warmest regions respectively, do not contain any specific influence on the regional split. Well done!\"}], [{'name': 'contextual_precision', 'score': 0.5, 'explanation': \"The score is 0.50 because only the second node in the retrieval contexts directly answers the question about the prize for solving P=NP, stating 'The P versus NP problem is one of the Millennium Prize Problems proposed by the Clay Mathematics Institute. There is a US$1,000,000 prize for resolving the problem.' The first and third nodes, despite discussing aspects of the P=NP problem, do not mention the prize, making them less relevant to the input. Therefore, they should be ranked lower.\"}], [{'name': 'contextual_precision', 'score': 0, 'explanation': 'The score is 0.00 because all the nodes in the retrieval context are irrelevant to the input query. The first node talks about the geography of the Rhine and its surrounding areas, the second node discusses the Germanic frontier and its relationship with Rome, and the third node explains the concept of tectonic plates and their movement, none of which provide information about the location of Californio.'}]]\n"
          ]
        }
      ],
      "source": [
        "evaluation_results = context_precision_pipeline.run(\n",
        "    {\"evaluator\": {\"questions\": questions, \"contexts\": contexts, \"ground_truths\": ground_truths, \"responses\": responses}}\n",
        ")\n",
        "print(evaluation_results[\"evaluator\"][\"results\"])\n"
      ]
    },
    {
      "cell_type": "markdown",
      "metadata": {
        "id": "Z6T-x33AERO1"
      },
      "source": [
        "### Contextual Recall\n",
        "\n",
        "Contextual recall measures the extent to which the contexts aligns with the `ground truth`."
      ]
    },
    {
      "cell_type": "code",
      "execution_count": 34,
      "metadata": {
        "id": "UFB89BwJFs1O"
      },
      "outputs": [],
      "source": [
        "from haystack import Pipeline\n",
        "from haystack_integrations.components.evaluators.deepeval import DeepEvalEvaluator, DeepEvalMetric\n",
        "\n",
        "context_recall_pipeline = Pipeline()\n",
        "evaluator = DeepEvalEvaluator(metric=DeepEvalMetric.CONTEXTUAL_RECALL, metric_params={\"model\":\"gpt-4\"})\n",
        "context_recall_pipeline.add_component(\"evaluator\", evaluator)\n"
      ]
    },
    {
      "cell_type": "code",
      "execution_count": 36,
      "metadata": {
        "colab": {
          "base_uri": "https://localhost:8080/",
          "height": 1000,
          "referenced_widgets": [
            "36010e88333341d69c6bffb22658a99f",
            "391619c636794697ac60d3b7c9cc04a6",
            "bc0a96ed84f24f91ac9ec7877459c5ee",
            "62107ac42cd64349859a040cf54e960a",
            "d56c6ef249884e22a5bc580cc2f26576",
            "dc28afbdea4a4c94b24bbada0f693096",
            "99d9b2c90ca541249deca02e8878abac",
            "9a8c1fa4fda74964b3cd1a00f97df713"
          ]
        },
        "id": "L_0vM4ryFuOc",
        "outputId": "3e01d702-fe52-4349-dcab-88e2233e6857"
      },
      "outputs": [
        {
          "data": {
            "application/vnd.jupyter.widget-view+json": {
              "model_id": "36010e88333341d69c6bffb22658a99f",
              "version_major": 2,
              "version_minor": 0
            },
            "text/plain": [
              "Output()"
            ]
          },
          "metadata": {},
          "output_type": "display_data"
        },
        {
          "data": {
            "application/vnd.jupyter.widget-view+json": {
              "model_id": "bc0a96ed84f24f91ac9ec7877459c5ee",
              "version_major": 2,
              "version_minor": 0
            },
            "text/plain": [
              "Output()"
            ]
          },
          "metadata": {},
          "output_type": "display_data"
        },
        {
          "data": {
            "text/html": [
              "<pre style=\"white-space:pre;overflow-x:auto;line-height:normal;font-family:Menlo,'DejaVu Sans Mono',consolas,'Courier New',monospace\"></pre>\n"
            ],
            "text/plain": []
          },
          "metadata": {},
          "output_type": "display_data"
        },
        {
          "data": {
            "text/html": [
              "<pre style=\"white-space:pre;overflow-x:auto;line-height:normal;font-family:Menlo,'DejaVu Sans Mono',consolas,'Courier New',monospace\">\n",
              "</pre>\n"
            ],
            "text/plain": [
              "\n"
            ]
          },
          "metadata": {},
          "output_type": "display_data"
        },
        {
          "data": {
            "application/vnd.jupyter.widget-view+json": {
              "model_id": "d56c6ef249884e22a5bc580cc2f26576",
              "version_major": 2,
              "version_minor": 0
            },
            "text/plain": [
              "Output()"
            ]
          },
          "metadata": {},
          "output_type": "display_data"
        },
        {
          "data": {
            "text/html": [
              "<pre style=\"white-space:pre;overflow-x:auto;line-height:normal;font-family:Menlo,'DejaVu Sans Mono',consolas,'Courier New',monospace\"></pre>\n"
            ],
            "text/plain": []
          },
          "metadata": {},
          "output_type": "display_data"
        },
        {
          "data": {
            "text/html": [
              "<pre style=\"white-space:pre;overflow-x:auto;line-height:normal;font-family:Menlo,'DejaVu Sans Mono',consolas,'Courier New',monospace\">\n",
              "</pre>\n"
            ],
            "text/plain": [
              "\n"
            ]
          },
          "metadata": {},
          "output_type": "display_data"
        },
        {
          "data": {
            "application/vnd.jupyter.widget-view+json": {
              "model_id": "99d9b2c90ca541249deca02e8878abac",
              "version_major": 2,
              "version_minor": 0
            },
            "text/plain": [
              "Output()"
            ]
          },
          "metadata": {},
          "output_type": "display_data"
        },
        {
          "data": {
            "text/html": [
              "<pre style=\"white-space:pre;overflow-x:auto;line-height:normal;font-family:Menlo,'DejaVu Sans Mono',consolas,'Courier New',monospace\"></pre>\n"
            ],
            "text/plain": []
          },
          "metadata": {},
          "output_type": "display_data"
        },
        {
          "data": {
            "text/html": [
              "<pre style=\"white-space:pre;overflow-x:auto;line-height:normal;font-family:Menlo,'DejaVu Sans Mono',consolas,'Courier New',monospace\">\n",
              "</pre>\n"
            ],
            "text/plain": [
              "\n"
            ]
          },
          "metadata": {},
          "output_type": "display_data"
        },
        {
          "data": {
            "text/html": [
              "<pre style=\"white-space:pre;overflow-x:auto;line-height:normal;font-family:Menlo,'DejaVu Sans Mono',consolas,'Courier New',monospace\">\n",
              "</pre>\n"
            ],
            "text/plain": [
              "\n"
            ]
          },
          "metadata": {},
          "output_type": "display_data"
        },
        {
          "data": {
            "text/html": [
              "<pre style=\"white-space:pre;overflow-x:auto;line-height:normal;font-family:Menlo,'DejaVu Sans Mono',consolas,'Courier New',monospace\">======================================================================\n",
              "</pre>\n"
            ],
            "text/plain": [
              "======================================================================\n"
            ]
          },
          "metadata": {},
          "output_type": "display_data"
        },
        {
          "data": {
            "text/html": [
              "<pre style=\"white-space:pre;overflow-x:auto;line-height:normal;font-family:Menlo,'DejaVu Sans Mono',consolas,'Courier New',monospace\">\n",
              "</pre>\n"
            ],
            "text/plain": [
              "\n"
            ]
          },
          "metadata": {},
          "output_type": "display_data"
        },
        {
          "data": {
            "text/html": [
              "<pre style=\"white-space:pre;overflow-x:auto;line-height:normal;font-family:Menlo,'DejaVu Sans Mono',consolas,'Courier New',monospace\">Metrics Summary\n",
              "</pre>\n"
            ],
            "text/plain": [
              "Metrics Summary\n"
            ]
          },
          "metadata": {},
          "output_type": "display_data"
        },
        {
          "data": {
            "text/html": [
              "<pre style=\"white-space:pre;overflow-x:auto;line-height:normal;font-family:Menlo,'DejaVu Sans Mono',consolas,'Courier New',monospace\">\n",
              "</pre>\n"
            ],
            "text/plain": [
              "\n"
            ]
          },
          "metadata": {},
          "output_type": "display_data"
        },
        {
          "data": {
            "text/html": [
              "<pre style=\"white-space:pre;overflow-x:auto;line-height:normal;font-family:Menlo,'DejaVu Sans Mono',consolas,'Courier New',monospace\">  - ✅ Contextual Recall (score: 1.0, threshold: 0.0, evaluation model: gpt-4, reason: The score is 1.00 because \n",
              "every part of the expected output, 'Tehachapis', is successfully found and matches perfectly with the context \n",
              "provided by the 1st node in the retrieval context. Well done!)\n",
              "</pre>\n"
            ],
            "text/plain": [
              "  - ✅ Contextual Recall (score: 1.0, threshold: 0.0, evaluation model: gpt-4, reason: The score is 1.00 because \n",
              "every part of the expected output, 'Tehachapis', is successfully found and matches perfectly with the context \n",
              "provided by the 1st node in the retrieval context. Well done!)\n"
            ]
          },
          "metadata": {},
          "output_type": "display_data"
        },
        {
          "data": {
            "text/html": [
              "<pre style=\"white-space:pre;overflow-x:auto;line-height:normal;font-family:Menlo,'DejaVu Sans Mono',consolas,'Courier New',monospace\">\n",
              "</pre>\n"
            ],
            "text/plain": [
              "\n"
            ]
          },
          "metadata": {},
          "output_type": "display_data"
        },
        {
          "data": {
            "text/html": [
              "<pre style=\"white-space:pre;overflow-x:auto;line-height:normal;font-family:Menlo,'DejaVu Sans Mono',consolas,'Courier New',monospace\">For test case:\n",
              "</pre>\n"
            ],
            "text/plain": [
              "For test case:\n"
            ]
          },
          "metadata": {},
          "output_type": "display_data"
        },
        {
          "data": {
            "text/html": [
              "<pre style=\"white-space:pre;overflow-x:auto;line-height:normal;font-family:Menlo,'DejaVu Sans Mono',consolas,'Courier New',monospace\">\n",
              "</pre>\n"
            ],
            "text/plain": [
              "\n"
            ]
          },
          "metadata": {},
          "output_type": "display_data"
        },
        {
          "data": {
            "text/html": [
              "<pre style=\"white-space:pre;overflow-x:auto;line-height:normal;font-family:Menlo,'DejaVu Sans Mono',consolas,'Courier New',monospace\">  - input: Which mountain range influenced the split of the regions?\n",
              "</pre>\n"
            ],
            "text/plain": [
              "  - input: Which mountain range influenced the split of the regions?\n"
            ]
          },
          "metadata": {},
          "output_type": "display_data"
        },
        {
          "data": {
            "text/html": [
              "<pre style=\"white-space:pre;overflow-x:auto;line-height:normal;font-family:Menlo,'DejaVu Sans Mono',consolas,'Courier New',monospace\">  - actual output: The Tehachapi mountain range influenced the split of the regions in California.\n",
              "</pre>\n"
            ],
            "text/plain": [
              "  - actual output: The Tehachapi mountain range influenced the split of the regions in California.\n"
            ]
          },
          "metadata": {},
          "output_type": "display_data"
        },
        {
          "data": {
            "text/html": [
              "<pre style=\"white-space:pre;overflow-x:auto;line-height:normal;font-family:Menlo,'DejaVu Sans Mono',consolas,'Courier New',monospace\">  - expected output: Tehachapis\n",
              "</pre>\n"
            ],
            "text/plain": [
              "  - expected output: Tehachapis\n"
            ]
          },
          "metadata": {},
          "output_type": "display_data"
        },
        {
          "data": {
            "text/html": [
              "<pre style=\"white-space:pre;overflow-x:auto;line-height:normal;font-family:Menlo,'DejaVu Sans Mono',consolas,'Courier New',monospace\">  - context: None\n",
              "</pre>\n"
            ],
            "text/plain": [
              "  - context: None\n"
            ]
          },
          "metadata": {},
          "output_type": "display_data"
        },
        {
          "data": {
            "text/html": [
              "<pre style=\"white-space:pre;overflow-x:auto;line-height:normal;font-family:Menlo,'DejaVu Sans Mono',consolas,'Courier New',monospace\">  - retrieval context: ['The state is most commonly divided and promoted by its regional tourism groups as \n",
              "consisting of northern, central, and southern California regions. The two AAA Auto Clubs of the state, the \n",
              "California State Automobile Association and the Automobile Club of Southern California, choose to simplify matters \n",
              "by dividing the state along the lines where their jurisdictions for membership apply, as either northern or \n",
              "southern California, in contrast to the three-region point of view. Another influence is the geographical phrase \n",
              "South of the Tehachapis, which would split the southern region off at the crest of that transverse range, but in \n",
              "that definition, the desert portions of north Los Angeles County and eastern Kern and San Bernardino Counties would\n",
              "be included in the southern California region due to their remoteness from the central valley and interior desert \n",
              "landscape.', 'Among the most well-known experiments in structural geology are those involving orogenic wedges, \n",
              "which are zones in which mountains are built along convergent tectonic plate boundaries. In the analog versions of \n",
              "these experiments, horizontal layers of sand are pulled along a lower surface into a back stop, which results in \n",
              "realistic-looking patterns of faulting and the growth of a critically tapered (all angles remain the same) orogenic\n",
              "wedge. Numerical models work in the same way as these analog models, though they are often more sophisticated and \n",
              "can include patterns of erosion and uplift in the mountain belt. This helps to show the relationship between \n",
              "erosion and the shape of the mountain range. These studies can also give useful information about pathways for \n",
              "metamorphism through pressure, temperature, space, and time.', \"The Mallee and upper Wimmera are Victoria's warmest\n",
              "regions with hot winds blowing from nearby semi-deserts. Average temperatures exceed 32 °C (90 °F) during summer \n",
              "and 15 °C (59 °F) in winter. Except at cool mountain elevations, the inland monthly temperatures are 2–7 °C (4–13 \n",
              "°F) warmer than around Melbourne (see chart). Victoria's highest maximum temperature since World War II, of 48.8 °C\n",
              "(119.8 °F) was recorded in Hopetoun on 7 February 2009, during the 2009 southeastern Australia heat wave.\"]\n",
              "</pre>\n"
            ],
            "text/plain": [
              "  - retrieval context: ['The state is most commonly divided and promoted by its regional tourism groups as \n",
              "consisting of northern, central, and southern California regions. The two AAA Auto Clubs of the state, the \n",
              "California State Automobile Association and the Automobile Club of Southern California, choose to simplify matters \n",
              "by dividing the state along the lines where their jurisdictions for membership apply, as either northern or \n",
              "southern California, in contrast to the three-region point of view. Another influence is the geographical phrase \n",
              "South of the Tehachapis, which would split the southern region off at the crest of that transverse range, but in \n",
              "that definition, the desert portions of north Los Angeles County and eastern Kern and San Bernardino Counties would\n",
              "be included in the southern California region due to their remoteness from the central valley and interior desert \n",
              "landscape.', 'Among the most well-known experiments in structural geology are those involving orogenic wedges, \n",
              "which are zones in which mountains are built along convergent tectonic plate boundaries. In the analog versions of \n",
              "these experiments, horizontal layers of sand are pulled along a lower surface into a back stop, which results in \n",
              "realistic-looking patterns of faulting and the growth of a critically tapered (all angles remain the same) orogenic\n",
              "wedge. Numerical models work in the same way as these analog models, though they are often more sophisticated and \n",
              "can include patterns of erosion and uplift in the mountain belt. This helps to show the relationship between \n",
              "erosion and the shape of the mountain range. These studies can also give useful information about pathways for \n",
              "metamorphism through pressure, temperature, space, and time.', \"The Mallee and upper Wimmera are Victoria's warmest\n",
              "regions with hot winds blowing from nearby semi-deserts. Average temperatures exceed 32 °C (90 °F) during summer \n",
              "and 15 °C (59 °F) in winter. Except at cool mountain elevations, the inland monthly temperatures are 2–7 °C (4–13 \n",
              "°F) warmer than around Melbourne (see chart). Victoria's highest maximum temperature since World War II, of 48.8 °C\n",
              "(119.8 °F) was recorded in Hopetoun on 7 February 2009, during the 2009 southeastern Australia heat wave.\"]\n"
            ]
          },
          "metadata": {},
          "output_type": "display_data"
        },
        {
          "data": {
            "text/html": [
              "<pre style=\"white-space:pre;overflow-x:auto;line-height:normal;font-family:Menlo,'DejaVu Sans Mono',consolas,'Courier New',monospace\">\n",
              "</pre>\n"
            ],
            "text/plain": [
              "\n"
            ]
          },
          "metadata": {},
          "output_type": "display_data"
        },
        {
          "data": {
            "text/html": [
              "<pre style=\"white-space:pre;overflow-x:auto;line-height:normal;font-family:Menlo,'DejaVu Sans Mono',consolas,'Courier New',monospace\">======================================================================\n",
              "</pre>\n"
            ],
            "text/plain": [
              "======================================================================\n"
            ]
          },
          "metadata": {},
          "output_type": "display_data"
        },
        {
          "data": {
            "text/html": [
              "<pre style=\"white-space:pre;overflow-x:auto;line-height:normal;font-family:Menlo,'DejaVu Sans Mono',consolas,'Courier New',monospace\">\n",
              "</pre>\n"
            ],
            "text/plain": [
              "\n"
            ]
          },
          "metadata": {},
          "output_type": "display_data"
        },
        {
          "data": {
            "text/html": [
              "<pre style=\"white-space:pre;overflow-x:auto;line-height:normal;font-family:Menlo,'DejaVu Sans Mono',consolas,'Courier New',monospace\">Metrics Summary\n",
              "</pre>\n"
            ],
            "text/plain": [
              "Metrics Summary\n"
            ]
          },
          "metadata": {},
          "output_type": "display_data"
        },
        {
          "data": {
            "text/html": [
              "<pre style=\"white-space:pre;overflow-x:auto;line-height:normal;font-family:Menlo,'DejaVu Sans Mono',consolas,'Courier New',monospace\">\n",
              "</pre>\n"
            ],
            "text/plain": [
              "\n"
            ]
          },
          "metadata": {},
          "output_type": "display_data"
        },
        {
          "data": {
            "text/html": [
              "<pre style=\"white-space:pre;overflow-x:auto;line-height:normal;font-family:Menlo,'DejaVu Sans Mono',consolas,'Courier New',monospace\">  - ✅ Contextual Recall (score: 1.0, threshold: 0.0, evaluation model: gpt-4, reason: The score is 1.00 because \n",
              "the expected output \"$1,000,000\" perfectly matches with the information given in the 2nd node in the retrieval \n",
              "context. Well done!)\n",
              "</pre>\n"
            ],
            "text/plain": [
              "  - ✅ Contextual Recall (score: 1.0, threshold: 0.0, evaluation model: gpt-4, reason: The score is 1.00 because \n",
              "the expected output \"$1,000,000\" perfectly matches with the information given in the 2nd node in the retrieval \n",
              "context. Well done!)\n"
            ]
          },
          "metadata": {},
          "output_type": "display_data"
        },
        {
          "data": {
            "text/html": [
              "<pre style=\"white-space:pre;overflow-x:auto;line-height:normal;font-family:Menlo,'DejaVu Sans Mono',consolas,'Courier New',monospace\">\n",
              "</pre>\n"
            ],
            "text/plain": [
              "\n"
            ]
          },
          "metadata": {},
          "output_type": "display_data"
        },
        {
          "data": {
            "text/html": [
              "<pre style=\"white-space:pre;overflow-x:auto;line-height:normal;font-family:Menlo,'DejaVu Sans Mono',consolas,'Courier New',monospace\">For test case:\n",
              "</pre>\n"
            ],
            "text/plain": [
              "For test case:\n"
            ]
          },
          "metadata": {},
          "output_type": "display_data"
        },
        {
          "data": {
            "text/html": [
              "<pre style=\"white-space:pre;overflow-x:auto;line-height:normal;font-family:Menlo,'DejaVu Sans Mono',consolas,'Courier New',monospace\">\n",
              "</pre>\n"
            ],
            "text/plain": [
              "\n"
            ]
          },
          "metadata": {},
          "output_type": "display_data"
        },
        {
          "data": {
            "text/html": [
              "<pre style=\"white-space:pre;overflow-x:auto;line-height:normal;font-family:Menlo,'DejaVu Sans Mono',consolas,'Courier New',monospace\">  - input: What is the prize offered for finding a solution to P=NP?\n",
              "</pre>\n"
            ],
            "text/plain": [
              "  - input: What is the prize offered for finding a solution to P=NP?\n"
            ]
          },
          "metadata": {},
          "output_type": "display_data"
        },
        {
          "data": {
            "text/html": [
              "<pre style=\"white-space:pre;overflow-x:auto;line-height:normal;font-family:Menlo,'DejaVu Sans Mono',consolas,'Courier New',monospace\">  - actual output: The prize offered for finding a solution to P=NP is US$1,000,000.\n",
              "</pre>\n"
            ],
            "text/plain": [
              "  - actual output: The prize offered for finding a solution to P=NP is US$1,000,000.\n"
            ]
          },
          "metadata": {},
          "output_type": "display_data"
        },
        {
          "data": {
            "text/html": [
              "<pre style=\"white-space:pre;overflow-x:auto;line-height:normal;font-family:Menlo,'DejaVu Sans Mono',consolas,'Courier New',monospace\">  - expected output: $1,000,000\n",
              "</pre>\n"
            ],
            "text/plain": [
              "  - expected output: $1,000,000\n"
            ]
          },
          "metadata": {},
          "output_type": "display_data"
        },
        {
          "data": {
            "text/html": [
              "<pre style=\"white-space:pre;overflow-x:auto;line-height:normal;font-family:Menlo,'DejaVu Sans Mono',consolas,'Courier New',monospace\">  - context: None\n",
              "</pre>\n"
            ],
            "text/plain": [
              "  - context: None\n"
            ]
          },
          "metadata": {},
          "output_type": "display_data"
        },
        {
          "data": {
            "text/html": [
              "<pre style=\"white-space:pre;overflow-x:auto;line-height:normal;font-family:Menlo,'DejaVu Sans Mono',consolas,'Courier New',monospace\">  - retrieval context: ['If a problem X is in C and hard for C, then X is said to be complete for C. This means \n",
              "that X is the hardest problem in C. (Since many problems could be equally hard, one might say that X is one of the \n",
              "hardest problems in C.) Thus the class of NP-complete problems contains the most difficult problems in NP, in the \n",
              "sense that they are the ones most likely not to be in P. Because the problem P = NP is not solved, being able to \n",
              "reduce a known NP-complete problem, Π2, to another problem, Π1, would indicate that there is no known \n",
              "polynomial-time solution for Π1. This is because a polynomial-time solution to Π1 would yield a polynomial-time \n",
              "solution to Π2. Similarly, because all NP problems can be reduced to the set, finding an NP-complete problem that \n",
              "can be solved in polynomial time would mean that P = NP.', 'The question of whether P equals NP is one of the most \n",
              "important open questions in theoretical computer science because of the wide implications of a solution. If the \n",
              "answer is yes, many important problems can be shown to have more efficient solutions. These include various types \n",
              "of integer programming problems in operations research, many problems in logistics, protein structure prediction in\n",
              "biology, and the ability to find formal proofs of pure mathematics theorems. The P versus NP problem is one of the \n",
              "Millennium Prize Problems proposed by the Clay Mathematics Institute. There is a US$1,000,000 prize for resolving \n",
              "the problem.', 'What intractability means in practice is open to debate. Saying that a problem is not in P does not\n",
              "imply that all large cases of the problem are hard or even that most of them are. For example, the decision problem\n",
              "in Presburger arithmetic has been shown not to be in P, yet algorithms have been written that solve the problem in \n",
              "reasonable times in most cases. Similarly, algorithms can solve the NP-complete knapsack problem over a wide range \n",
              "of sizes in less than quadratic time and SAT solvers routinely handle large instances of the NP-complete Boolean \n",
              "satisfiability problem.']\n",
              "</pre>\n"
            ],
            "text/plain": [
              "  - retrieval context: ['If a problem X is in C and hard for C, then X is said to be complete for C. This means \n",
              "that X is the hardest problem in C. (Since many problems could be equally hard, one might say that X is one of the \n",
              "hardest problems in C.) Thus the class of NP-complete problems contains the most difficult problems in NP, in the \n",
              "sense that they are the ones most likely not to be in P. Because the problem P = NP is not solved, being able to \n",
              "reduce a known NP-complete problem, Π2, to another problem, Π1, would indicate that there is no known \n",
              "polynomial-time solution for Π1. This is because a polynomial-time solution to Π1 would yield a polynomial-time \n",
              "solution to Π2. Similarly, because all NP problems can be reduced to the set, finding an NP-complete problem that \n",
              "can be solved in polynomial time would mean that P = NP.', 'The question of whether P equals NP is one of the most \n",
              "important open questions in theoretical computer science because of the wide implications of a solution. If the \n",
              "answer is yes, many important problems can be shown to have more efficient solutions. These include various types \n",
              "of integer programming problems in operations research, many problems in logistics, protein structure prediction in\n",
              "biology, and the ability to find formal proofs of pure mathematics theorems. The P versus NP problem is one of the \n",
              "Millennium Prize Problems proposed by the Clay Mathematics Institute. There is a US$1,000,000 prize for resolving \n",
              "the problem.', 'What intractability means in practice is open to debate. Saying that a problem is not in P does not\n",
              "imply that all large cases of the problem are hard or even that most of them are. For example, the decision problem\n",
              "in Presburger arithmetic has been shown not to be in P, yet algorithms have been written that solve the problem in \n",
              "reasonable times in most cases. Similarly, algorithms can solve the NP-complete knapsack problem over a wide range \n",
              "of sizes in less than quadratic time and SAT solvers routinely handle large instances of the NP-complete Boolean \n",
              "satisfiability problem.']\n"
            ]
          },
          "metadata": {},
          "output_type": "display_data"
        },
        {
          "data": {
            "text/html": [
              "<pre style=\"white-space:pre;overflow-x:auto;line-height:normal;font-family:Menlo,'DejaVu Sans Mono',consolas,'Courier New',monospace\">\n",
              "</pre>\n"
            ],
            "text/plain": [
              "\n"
            ]
          },
          "metadata": {},
          "output_type": "display_data"
        },
        {
          "data": {
            "text/html": [
              "<pre style=\"white-space:pre;overflow-x:auto;line-height:normal;font-family:Menlo,'DejaVu Sans Mono',consolas,'Courier New',monospace\">======================================================================\n",
              "</pre>\n"
            ],
            "text/plain": [
              "======================================================================\n"
            ]
          },
          "metadata": {},
          "output_type": "display_data"
        },
        {
          "data": {
            "text/html": [
              "<pre style=\"white-space:pre;overflow-x:auto;line-height:normal;font-family:Menlo,'DejaVu Sans Mono',consolas,'Courier New',monospace\">\n",
              "</pre>\n"
            ],
            "text/plain": [
              "\n"
            ]
          },
          "metadata": {},
          "output_type": "display_data"
        },
        {
          "data": {
            "text/html": [
              "<pre style=\"white-space:pre;overflow-x:auto;line-height:normal;font-family:Menlo,'DejaVu Sans Mono',consolas,'Courier New',monospace\">Metrics Summary\n",
              "</pre>\n"
            ],
            "text/plain": [
              "Metrics Summary\n"
            ]
          },
          "metadata": {},
          "output_type": "display_data"
        },
        {
          "data": {
            "text/html": [
              "<pre style=\"white-space:pre;overflow-x:auto;line-height:normal;font-family:Menlo,'DejaVu Sans Mono',consolas,'Courier New',monospace\">\n",
              "</pre>\n"
            ],
            "text/plain": [
              "\n"
            ]
          },
          "metadata": {},
          "output_type": "display_data"
        },
        {
          "data": {
            "text/html": [
              "<pre style=\"white-space:pre;overflow-x:auto;line-height:normal;font-family:Menlo,'DejaVu Sans Mono',consolas,'Courier New',monospace\">  - ✅ Contextual Recall (score: 0.0, threshold: 0.0, evaluation model: gpt-4, reason: The score is 0.00 because \n",
              "none of the nodes in the retrieval context mention 'Monterey'.)\n",
              "</pre>\n"
            ],
            "text/plain": [
              "  - ✅ Contextual Recall (score: 0.0, threshold: 0.0, evaluation model: gpt-4, reason: The score is 0.00 because \n",
              "none of the nodes in the retrieval context mention 'Monterey'.)\n"
            ]
          },
          "metadata": {},
          "output_type": "display_data"
        },
        {
          "data": {
            "text/html": [
              "<pre style=\"white-space:pre;overflow-x:auto;line-height:normal;font-family:Menlo,'DejaVu Sans Mono',consolas,'Courier New',monospace\">\n",
              "</pre>\n"
            ],
            "text/plain": [
              "\n"
            ]
          },
          "metadata": {},
          "output_type": "display_data"
        },
        {
          "data": {
            "text/html": [
              "<pre style=\"white-space:pre;overflow-x:auto;line-height:normal;font-family:Menlo,'DejaVu Sans Mono',consolas,'Courier New',monospace\">For test case:\n",
              "</pre>\n"
            ],
            "text/plain": [
              "For test case:\n"
            ]
          },
          "metadata": {},
          "output_type": "display_data"
        },
        {
          "data": {
            "text/html": [
              "<pre style=\"white-space:pre;overflow-x:auto;line-height:normal;font-family:Menlo,'DejaVu Sans Mono',consolas,'Courier New',monospace\">\n",
              "</pre>\n"
            ],
            "text/plain": [
              "\n"
            ]
          },
          "metadata": {},
          "output_type": "display_data"
        },
        {
          "data": {
            "text/html": [
              "<pre style=\"white-space:pre;overflow-x:auto;line-height:normal;font-family:Menlo,'DejaVu Sans Mono',consolas,'Courier New',monospace\">  - input: Which Californio is located in the upper part?\n",
              "</pre>\n"
            ],
            "text/plain": [
              "  - input: Which Californio is located in the upper part?\n"
            ]
          },
          "metadata": {},
          "output_type": "display_data"
        },
        {
          "data": {
            "text/html": [
              "<pre style=\"white-space:pre;overflow-x:auto;line-height:normal;font-family:Menlo,'DejaVu Sans Mono',consolas,'Courier New',monospace\">  - actual output: The Californio located in the upper part is the Ill below of Strasbourg.\n",
              "</pre>\n"
            ],
            "text/plain": [
              "  - actual output: The Californio located in the upper part is the Ill below of Strasbourg.\n"
            ]
          },
          "metadata": {},
          "output_type": "display_data"
        },
        {
          "data": {
            "text/html": [
              "<pre style=\"white-space:pre;overflow-x:auto;line-height:normal;font-family:Menlo,'DejaVu Sans Mono',consolas,'Courier New',monospace\">  - expected output: Monterey\n",
              "</pre>\n"
            ],
            "text/plain": [
              "  - expected output: Monterey\n"
            ]
          },
          "metadata": {},
          "output_type": "display_data"
        },
        {
          "data": {
            "text/html": [
              "<pre style=\"white-space:pre;overflow-x:auto;line-height:normal;font-family:Menlo,'DejaVu Sans Mono',consolas,'Courier New',monospace\">  - context: None\n",
              "</pre>\n"
            ],
            "text/plain": [
              "  - context: None\n"
            ]
          },
          "metadata": {},
          "output_type": "display_data"
        },
        {
          "data": {
            "text/html": [
              "<pre style=\"white-space:pre;overflow-x:auto;line-height:normal;font-family:Menlo,'DejaVu Sans Mono',consolas,'Courier New',monospace\">  - retrieval context: ['In the centre of Basel, the first major city in the course of the stream, is located the \n",
              "\"Rhine knee\"; this is a major bend, where the overall direction of the Rhine changes from West to North. Here the \n",
              "High Rhine ends. Legally, the Central Bridge is the boundary between High and Upper Rhine. The river now flows \n",
              "North as Upper Rhine through the Upper Rhine Plain, which is about 300 km long and up to 40 km wide. The most \n",
              "important tributaries in this area are the Ill below of Strasbourg, the Neckar in Mannheim and the Main across from\n",
              "Mainz. In Mainz, the Rhine leaves the Upper Rhine Valley and flows through the Mainz Basin.', 'From the death of \n",
              "Augustus in AD 14 until after AD 70, Rome accepted as her Germanic frontier the water-boundary of the Rhine and \n",
              "upper Danube. Beyond these rivers she held only the fertile plain of Frankfurt, opposite the Roman border fortress \n",
              "of Moguntiacum (Mainz), the southernmost slopes of the Black Forest and a few scattered bridge-heads. The northern \n",
              "section of this frontier, where the Rhine is deep and broad, remained the Roman boundary until the empire fell. The\n",
              "southern part was different. The upper Rhine and upper Danube are easily crossed. The frontier which they form is \n",
              "inconveniently long, enclosing an acute-angled wedge of foreign territory between the modern Baden and Württemberg.\n",
              "The Germanic populations of these lands seem in Roman times to have been scanty, and Roman subjects from the modern\n",
              "Alsace-Lorraine had drifted across the river eastwards.', \"In the 1960s, a series of discoveries, the most \n",
              "important of which was seafloor spreading, showed that the Earth's lithosphere, which includes the crust and rigid \n",
              "uppermost portion of the upper mantle, is separated into a number of tectonic plates that move across the \n",
              "plastically deforming, solid, upper mantle, which is called the asthenosphere. There is an intimate coupling \n",
              "between the movement of the plates on the surface and the convection of the mantle: oceanic plate motions and \n",
              "mantle convection currents always move in the same direction, because the oceanic lithosphere is the rigid upper \n",
              "thermal boundary layer of the convecting mantle. This coupling between rigid plates moving on the surface of the \n",
              "Earth and the convecting mantle is called plate tectonics.\"]\n",
              "</pre>\n"
            ],
            "text/plain": [
              "  - retrieval context: ['In the centre of Basel, the first major city in the course of the stream, is located the \n",
              "\"Rhine knee\"; this is a major bend, where the overall direction of the Rhine changes from West to North. Here the \n",
              "High Rhine ends. Legally, the Central Bridge is the boundary between High and Upper Rhine. The river now flows \n",
              "North as Upper Rhine through the Upper Rhine Plain, which is about 300 km long and up to 40 km wide. The most \n",
              "important tributaries in this area are the Ill below of Strasbourg, the Neckar in Mannheim and the Main across from\n",
              "Mainz. In Mainz, the Rhine leaves the Upper Rhine Valley and flows through the Mainz Basin.', 'From the death of \n",
              "Augustus in AD 14 until after AD 70, Rome accepted as her Germanic frontier the water-boundary of the Rhine and \n",
              "upper Danube. Beyond these rivers she held only the fertile plain of Frankfurt, opposite the Roman border fortress \n",
              "of Moguntiacum (Mainz), the southernmost slopes of the Black Forest and a few scattered bridge-heads. The northern \n",
              "section of this frontier, where the Rhine is deep and broad, remained the Roman boundary until the empire fell. The\n",
              "southern part was different. The upper Rhine and upper Danube are easily crossed. The frontier which they form is \n",
              "inconveniently long, enclosing an acute-angled wedge of foreign territory between the modern Baden and Württemberg.\n",
              "The Germanic populations of these lands seem in Roman times to have been scanty, and Roman subjects from the modern\n",
              "Alsace-Lorraine had drifted across the river eastwards.', \"In the 1960s, a series of discoveries, the most \n",
              "important of which was seafloor spreading, showed that the Earth's lithosphere, which includes the crust and rigid \n",
              "uppermost portion of the upper mantle, is separated into a number of tectonic plates that move across the \n",
              "plastically deforming, solid, upper mantle, which is called the asthenosphere. There is an intimate coupling \n",
              "between the movement of the plates on the surface and the convection of the mantle: oceanic plate motions and \n",
              "mantle convection currents always move in the same direction, because the oceanic lithosphere is the rigid upper \n",
              "thermal boundary layer of the convecting mantle. This coupling between rigid plates moving on the surface of the \n",
              "Earth and the convecting mantle is called plate tectonics.\"]\n"
            ]
          },
          "metadata": {},
          "output_type": "display_data"
        },
        {
          "data": {
            "text/html": [
              "<pre style=\"white-space:pre;overflow-x:auto;line-height:normal;font-family:Menlo,'DejaVu Sans Mono',consolas,'Courier New',monospace\">\n",
              "</pre>\n"
            ],
            "text/plain": [
              "\n"
            ]
          },
          "metadata": {},
          "output_type": "display_data"
        },
        {
          "data": {
            "text/html": [
              "<pre style=\"white-space:pre;overflow-x:auto;line-height:normal;font-family:Menlo,'DejaVu Sans Mono',consolas,'Courier New',monospace\">----------------------------------------------------------------------\n",
              "</pre>\n"
            ],
            "text/plain": [
              "----------------------------------------------------------------------\n"
            ]
          },
          "metadata": {},
          "output_type": "display_data"
        },
        {
          "data": {
            "text/html": [
              "<pre style=\"white-space:pre;overflow-x:auto;line-height:normal;font-family:Menlo,'DejaVu Sans Mono',consolas,'Courier New',monospace\">✅ Tests finished! Run <span style=\"color: #008000; text-decoration-color: #008000\">\"deepeval login\"</span> to view evaluation results on the web.\n",
              "</pre>\n"
            ],
            "text/plain": [
              "✅ Tests finished! Run \u001b[32m\"deepeval login\"\u001b[0m to view evaluation results on the web.\n"
            ]
          },
          "metadata": {},
          "output_type": "display_data"
        },
        {
          "data": {
            "text/html": [
              "<pre style=\"white-space:pre;overflow-x:auto;line-height:normal;font-family:Menlo,'DejaVu Sans Mono',consolas,'Courier New',monospace\"></pre>\n"
            ],
            "text/plain": []
          },
          "metadata": {},
          "output_type": "display_data"
        },
        {
          "data": {
            "text/html": [
              "<pre style=\"white-space:pre;overflow-x:auto;line-height:normal;font-family:Menlo,'DejaVu Sans Mono',consolas,'Courier New',monospace\">\n",
              "</pre>\n"
            ],
            "text/plain": [
              "\n"
            ]
          },
          "metadata": {},
          "output_type": "display_data"
        },
        {
          "name": "stdout",
          "output_type": "stream",
          "text": [
            "[[{'name': 'contextual_recall', 'score': 1.0, 'explanation': \"The score is 1.00 because every part of the expected output, 'Tehachapis', is successfully found and matches perfectly with the context provided by the 1st node in the retrieval context. Well done!\"}], [{'name': 'contextual_recall', 'score': 1.0, 'explanation': 'The score is 1.00 because the expected output \"$1,000,000\" perfectly matches with the information given in the 2nd node in the retrieval context. Well done!'}], [{'name': 'contextual_recall', 'score': 0.0, 'explanation': \"The score is 0.00 because none of the nodes in the retrieval context mention 'Monterey'.\"}]]\n"
          ]
        }
      ],
      "source": [
        "evaluation_results = context_recall_pipeline.run(\n",
        "    {\"evaluator\": {\"questions\": questions, \"contexts\": contexts, \"ground_truths\": ground_truths, \"responses\": responses}}\n",
        ")\n",
        "print(evaluation_results[\"evaluator\"][\"results\"])\n"
      ]
    },
    {
      "cell_type": "markdown",
      "metadata": {
        "id": "C_91cVvZEfuk"
      },
      "source": [
        "### Contextual Relevancy\n",
        "\n",
        "The contextual relevancy metric measures the quality of our RAG pipeline's retriever by evaluating the overall relevance of the context for a given question."
      ]
    },
    {
      "cell_type": "code",
      "execution_count": 39,
      "metadata": {
        "id": "eIQqeX7cF_a6"
      },
      "outputs": [],
      "source": [
        "from haystack import Pipeline\n",
        "from haystack_integrations.components.evaluators.deepeval import DeepEvalEvaluator, DeepEvalMetric\n",
        "\n",
        "context_relevancy_pipeline = Pipeline()\n",
        "evaluator = DeepEvalEvaluator(metric=DeepEvalMetric.CONTEXTUAL_RELEVANCE, metric_params={\"model\":\"gpt-4\"})\n",
        "context_relevancy_pipeline.add_component(\"evaluator\", evaluator)\n"
      ]
    },
    {
      "cell_type": "code",
      "execution_count": 41,
      "metadata": {
        "colab": {
          "base_uri": "https://localhost:8080/",
          "height": 1000,
          "referenced_widgets": [
            "529e0a3f1bb94633b3a7ef3465025eb1",
            "f037a8d0089a4628991a70ed217095b0",
            "713f9175346140a6a8b5a60915ec3eb2",
            "35da6c45d95540c883b87df1985a530d",
            "72fa3d3d04f54f91be7dd6429721c6e5",
            "191ecf80edfd4653b01a69428d560032",
            "afed416a13094ef69b4cdebb0bb056bc",
            "9de852d380924ba4a8ffd526b18babf5"
          ]
        },
        "id": "XCfENS79GCsj",
        "outputId": "61ab013d-d7d5-4651-ddce-a02fca56ac63"
      },
      "outputs": [
        {
          "data": {
            "application/vnd.jupyter.widget-view+json": {
              "model_id": "529e0a3f1bb94633b3a7ef3465025eb1",
              "version_major": 2,
              "version_minor": 0
            },
            "text/plain": [
              "Output()"
            ]
          },
          "metadata": {},
          "output_type": "display_data"
        },
        {
          "data": {
            "application/vnd.jupyter.widget-view+json": {
              "model_id": "713f9175346140a6a8b5a60915ec3eb2",
              "version_major": 2,
              "version_minor": 0
            },
            "text/plain": [
              "Output()"
            ]
          },
          "metadata": {},
          "output_type": "display_data"
        },
        {
          "data": {
            "text/html": [
              "<pre style=\"white-space:pre;overflow-x:auto;line-height:normal;font-family:Menlo,'DejaVu Sans Mono',consolas,'Courier New',monospace\"></pre>\n"
            ],
            "text/plain": []
          },
          "metadata": {},
          "output_type": "display_data"
        },
        {
          "data": {
            "text/html": [
              "<pre style=\"white-space:pre;overflow-x:auto;line-height:normal;font-family:Menlo,'DejaVu Sans Mono',consolas,'Courier New',monospace\">\n",
              "</pre>\n"
            ],
            "text/plain": [
              "\n"
            ]
          },
          "metadata": {},
          "output_type": "display_data"
        },
        {
          "data": {
            "application/vnd.jupyter.widget-view+json": {
              "model_id": "72fa3d3d04f54f91be7dd6429721c6e5",
              "version_major": 2,
              "version_minor": 0
            },
            "text/plain": [
              "Output()"
            ]
          },
          "metadata": {},
          "output_type": "display_data"
        },
        {
          "data": {
            "text/html": [
              "<pre style=\"white-space:pre;overflow-x:auto;line-height:normal;font-family:Menlo,'DejaVu Sans Mono',consolas,'Courier New',monospace\"></pre>\n"
            ],
            "text/plain": []
          },
          "metadata": {},
          "output_type": "display_data"
        },
        {
          "data": {
            "text/html": [
              "<pre style=\"white-space:pre;overflow-x:auto;line-height:normal;font-family:Menlo,'DejaVu Sans Mono',consolas,'Courier New',monospace\">\n",
              "</pre>\n"
            ],
            "text/plain": [
              "\n"
            ]
          },
          "metadata": {},
          "output_type": "display_data"
        },
        {
          "data": {
            "application/vnd.jupyter.widget-view+json": {
              "model_id": "afed416a13094ef69b4cdebb0bb056bc",
              "version_major": 2,
              "version_minor": 0
            },
            "text/plain": [
              "Output()"
            ]
          },
          "metadata": {},
          "output_type": "display_data"
        },
        {
          "data": {
            "text/html": [
              "<pre style=\"white-space:pre;overflow-x:auto;line-height:normal;font-family:Menlo,'DejaVu Sans Mono',consolas,'Courier New',monospace\"></pre>\n"
            ],
            "text/plain": []
          },
          "metadata": {},
          "output_type": "display_data"
        },
        {
          "data": {
            "text/html": [
              "<pre style=\"white-space:pre;overflow-x:auto;line-height:normal;font-family:Menlo,'DejaVu Sans Mono',consolas,'Courier New',monospace\">\n",
              "</pre>\n"
            ],
            "text/plain": [
              "\n"
            ]
          },
          "metadata": {},
          "output_type": "display_data"
        },
        {
          "data": {
            "text/html": [
              "<pre style=\"white-space:pre;overflow-x:auto;line-height:normal;font-family:Menlo,'DejaVu Sans Mono',consolas,'Courier New',monospace\">\n",
              "</pre>\n"
            ],
            "text/plain": [
              "\n"
            ]
          },
          "metadata": {},
          "output_type": "display_data"
        },
        {
          "data": {
            "text/html": [
              "<pre style=\"white-space:pre;overflow-x:auto;line-height:normal;font-family:Menlo,'DejaVu Sans Mono',consolas,'Courier New',monospace\">======================================================================\n",
              "</pre>\n"
            ],
            "text/plain": [
              "======================================================================\n"
            ]
          },
          "metadata": {},
          "output_type": "display_data"
        },
        {
          "data": {
            "text/html": [
              "<pre style=\"white-space:pre;overflow-x:auto;line-height:normal;font-family:Menlo,'DejaVu Sans Mono',consolas,'Courier New',monospace\">\n",
              "</pre>\n"
            ],
            "text/plain": [
              "\n"
            ]
          },
          "metadata": {},
          "output_type": "display_data"
        },
        {
          "data": {
            "text/html": [
              "<pre style=\"white-space:pre;overflow-x:auto;line-height:normal;font-family:Menlo,'DejaVu Sans Mono',consolas,'Courier New',monospace\">Metrics Summary\n",
              "</pre>\n"
            ],
            "text/plain": [
              "Metrics Summary\n"
            ]
          },
          "metadata": {},
          "output_type": "display_data"
        },
        {
          "data": {
            "text/html": [
              "<pre style=\"white-space:pre;overflow-x:auto;line-height:normal;font-family:Menlo,'DejaVu Sans Mono',consolas,'Courier New',monospace\">\n",
              "</pre>\n"
            ],
            "text/plain": [
              "\n"
            ]
          },
          "metadata": {},
          "output_type": "display_data"
        },
        {
          "data": {
            "text/html": [
              "<pre style=\"white-space:pre;overflow-x:auto;line-height:normal;font-family:Menlo,'DejaVu Sans Mono',consolas,'Courier New',monospace\">  - ✅ Contextual Relevancy (score: 0.09090909090909091, threshold: 0.0, evaluation model: gpt-4, reason: The score\n",
              "is 0.09 because the sentences provided do not directly address the influence of a mountain range on the division of\n",
              "regions. They discuss the division of California, temperature data for Victoria, and experiments in structural \n",
              "geology, but do not provide information pertinent to the input question.)\n",
              "</pre>\n"
            ],
            "text/plain": [
              "  - ✅ Contextual Relevancy (score: 0.09090909090909091, threshold: 0.0, evaluation model: gpt-4, reason: The score\n",
              "is 0.09 because the sentences provided do not directly address the influence of a mountain range on the division of\n",
              "regions. They discuss the division of California, temperature data for Victoria, and experiments in structural \n",
              "geology, but do not provide information pertinent to the input question.)\n"
            ]
          },
          "metadata": {},
          "output_type": "display_data"
        },
        {
          "data": {
            "text/html": [
              "<pre style=\"white-space:pre;overflow-x:auto;line-height:normal;font-family:Menlo,'DejaVu Sans Mono',consolas,'Courier New',monospace\">\n",
              "</pre>\n"
            ],
            "text/plain": [
              "\n"
            ]
          },
          "metadata": {},
          "output_type": "display_data"
        },
        {
          "data": {
            "text/html": [
              "<pre style=\"white-space:pre;overflow-x:auto;line-height:normal;font-family:Menlo,'DejaVu Sans Mono',consolas,'Courier New',monospace\">For test case:\n",
              "</pre>\n"
            ],
            "text/plain": [
              "For test case:\n"
            ]
          },
          "metadata": {},
          "output_type": "display_data"
        },
        {
          "data": {
            "text/html": [
              "<pre style=\"white-space:pre;overflow-x:auto;line-height:normal;font-family:Menlo,'DejaVu Sans Mono',consolas,'Courier New',monospace\">\n",
              "</pre>\n"
            ],
            "text/plain": [
              "\n"
            ]
          },
          "metadata": {},
          "output_type": "display_data"
        },
        {
          "data": {
            "text/html": [
              "<pre style=\"white-space:pre;overflow-x:auto;line-height:normal;font-family:Menlo,'DejaVu Sans Mono',consolas,'Courier New',monospace\">  - input: Which mountain range influenced the split of the regions?\n",
              "</pre>\n"
            ],
            "text/plain": [
              "  - input: Which mountain range influenced the split of the regions?\n"
            ]
          },
          "metadata": {},
          "output_type": "display_data"
        },
        {
          "data": {
            "text/html": [
              "<pre style=\"white-space:pre;overflow-x:auto;line-height:normal;font-family:Menlo,'DejaVu Sans Mono',consolas,'Courier New',monospace\">  - actual output: The Tehachapi mountain range influenced the split of the regions in California.\n",
              "</pre>\n"
            ],
            "text/plain": [
              "  - actual output: The Tehachapi mountain range influenced the split of the regions in California.\n"
            ]
          },
          "metadata": {},
          "output_type": "display_data"
        },
        {
          "data": {
            "text/html": [
              "<pre style=\"white-space:pre;overflow-x:auto;line-height:normal;font-family:Menlo,'DejaVu Sans Mono',consolas,'Courier New',monospace\">  - expected output: None\n",
              "</pre>\n"
            ],
            "text/plain": [
              "  - expected output: None\n"
            ]
          },
          "metadata": {},
          "output_type": "display_data"
        },
        {
          "data": {
            "text/html": [
              "<pre style=\"white-space:pre;overflow-x:auto;line-height:normal;font-family:Menlo,'DejaVu Sans Mono',consolas,'Courier New',monospace\">  - context: None\n",
              "</pre>\n"
            ],
            "text/plain": [
              "  - context: None\n"
            ]
          },
          "metadata": {},
          "output_type": "display_data"
        },
        {
          "data": {
            "text/html": [
              "<pre style=\"white-space:pre;overflow-x:auto;line-height:normal;font-family:Menlo,'DejaVu Sans Mono',consolas,'Courier New',monospace\">  - retrieval context: ['The state is most commonly divided and promoted by its regional tourism groups as \n",
              "consisting of northern, central, and southern California regions. The two AAA Auto Clubs of the state, the \n",
              "California State Automobile Association and the Automobile Club of Southern California, choose to simplify matters \n",
              "by dividing the state along the lines where their jurisdictions for membership apply, as either northern or \n",
              "southern California, in contrast to the three-region point of view. Another influence is the geographical phrase \n",
              "South of the Tehachapis, which would split the southern region off at the crest of that transverse range, but in \n",
              "that definition, the desert portions of north Los Angeles County and eastern Kern and San Bernardino Counties would\n",
              "be included in the southern California region due to their remoteness from the central valley and interior desert \n",
              "landscape.', 'Among the most well-known experiments in structural geology are those involving orogenic wedges, \n",
              "which are zones in which mountains are built along convergent tectonic plate boundaries. In the analog versions of \n",
              "these experiments, horizontal layers of sand are pulled along a lower surface into a back stop, which results in \n",
              "realistic-looking patterns of faulting and the growth of a critically tapered (all angles remain the same) orogenic\n",
              "wedge. Numerical models work in the same way as these analog models, though they are often more sophisticated and \n",
              "can include patterns of erosion and uplift in the mountain belt. This helps to show the relationship between \n",
              "erosion and the shape of the mountain range. These studies can also give useful information about pathways for \n",
              "metamorphism through pressure, temperature, space, and time.', \"The Mallee and upper Wimmera are Victoria's warmest\n",
              "regions with hot winds blowing from nearby semi-deserts. Average temperatures exceed 32 °C (90 °F) during summer \n",
              "and 15 °C (59 °F) in winter. Except at cool mountain elevations, the inland monthly temperatures are 2–7 °C (4–13 \n",
              "°F) warmer than around Melbourne (see chart). Victoria's highest maximum temperature since World War II, of 48.8 °C\n",
              "(119.8 °F) was recorded in Hopetoun on 7 February 2009, during the 2009 southeastern Australia heat wave.\"]\n",
              "</pre>\n"
            ],
            "text/plain": [
              "  - retrieval context: ['The state is most commonly divided and promoted by its regional tourism groups as \n",
              "consisting of northern, central, and southern California regions. The two AAA Auto Clubs of the state, the \n",
              "California State Automobile Association and the Automobile Club of Southern California, choose to simplify matters \n",
              "by dividing the state along the lines where their jurisdictions for membership apply, as either northern or \n",
              "southern California, in contrast to the three-region point of view. Another influence is the geographical phrase \n",
              "South of the Tehachapis, which would split the southern region off at the crest of that transverse range, but in \n",
              "that definition, the desert portions of north Los Angeles County and eastern Kern and San Bernardino Counties would\n",
              "be included in the southern California region due to their remoteness from the central valley and interior desert \n",
              "landscape.', 'Among the most well-known experiments in structural geology are those involving orogenic wedges, \n",
              "which are zones in which mountains are built along convergent tectonic plate boundaries. In the analog versions of \n",
              "these experiments, horizontal layers of sand are pulled along a lower surface into a back stop, which results in \n",
              "realistic-looking patterns of faulting and the growth of a critically tapered (all angles remain the same) orogenic\n",
              "wedge. Numerical models work in the same way as these analog models, though they are often more sophisticated and \n",
              "can include patterns of erosion and uplift in the mountain belt. This helps to show the relationship between \n",
              "erosion and the shape of the mountain range. These studies can also give useful information about pathways for \n",
              "metamorphism through pressure, temperature, space, and time.', \"The Mallee and upper Wimmera are Victoria's warmest\n",
              "regions with hot winds blowing from nearby semi-deserts. Average temperatures exceed 32 °C (90 °F) during summer \n",
              "and 15 °C (59 °F) in winter. Except at cool mountain elevations, the inland monthly temperatures are 2–7 °C (4–13 \n",
              "°F) warmer than around Melbourne (see chart). Victoria's highest maximum temperature since World War II, of 48.8 °C\n",
              "(119.8 °F) was recorded in Hopetoun on 7 February 2009, during the 2009 southeastern Australia heat wave.\"]\n"
            ]
          },
          "metadata": {},
          "output_type": "display_data"
        },
        {
          "data": {
            "text/html": [
              "<pre style=\"white-space:pre;overflow-x:auto;line-height:normal;font-family:Menlo,'DejaVu Sans Mono',consolas,'Courier New',monospace\">\n",
              "</pre>\n"
            ],
            "text/plain": [
              "\n"
            ]
          },
          "metadata": {},
          "output_type": "display_data"
        },
        {
          "data": {
            "text/html": [
              "<pre style=\"white-space:pre;overflow-x:auto;line-height:normal;font-family:Menlo,'DejaVu Sans Mono',consolas,'Courier New',monospace\">======================================================================\n",
              "</pre>\n"
            ],
            "text/plain": [
              "======================================================================\n"
            ]
          },
          "metadata": {},
          "output_type": "display_data"
        },
        {
          "data": {
            "text/html": [
              "<pre style=\"white-space:pre;overflow-x:auto;line-height:normal;font-family:Menlo,'DejaVu Sans Mono',consolas,'Courier New',monospace\">\n",
              "</pre>\n"
            ],
            "text/plain": [
              "\n"
            ]
          },
          "metadata": {},
          "output_type": "display_data"
        },
        {
          "data": {
            "text/html": [
              "<pre style=\"white-space:pre;overflow-x:auto;line-height:normal;font-family:Menlo,'DejaVu Sans Mono',consolas,'Courier New',monospace\">Metrics Summary\n",
              "</pre>\n"
            ],
            "text/plain": [
              "Metrics Summary\n"
            ]
          },
          "metadata": {},
          "output_type": "display_data"
        },
        {
          "data": {
            "text/html": [
              "<pre style=\"white-space:pre;overflow-x:auto;line-height:normal;font-family:Menlo,'DejaVu Sans Mono',consolas,'Courier New',monospace\">\n",
              "</pre>\n"
            ],
            "text/plain": [
              "\n"
            ]
          },
          "metadata": {},
          "output_type": "display_data"
        },
        {
          "data": {
            "text/html": [
              "<pre style=\"white-space:pre;overflow-x:auto;line-height:normal;font-family:Menlo,'DejaVu Sans Mono',consolas,'Courier New',monospace\">  - ✅ Contextual Relevancy (score: 0.5384615384615384, threshold: 0.0, evaluation model: gpt-4, reason: The score \n",
              "is 0.54 because the majority of the sentences extracted from the retrieval context, particularly from nodes 2 and \n",
              "3, focus on explaining the complexities and characteristics of the P=NP problem, rather than directly addressing \n",
              "the specific question about the prize offered for finding a solution to this problem.)\n",
              "</pre>\n"
            ],
            "text/plain": [
              "  - ✅ Contextual Relevancy (score: 0.5384615384615384, threshold: 0.0, evaluation model: gpt-4, reason: The score \n",
              "is 0.54 because the majority of the sentences extracted from the retrieval context, particularly from nodes 2 and \n",
              "3, focus on explaining the complexities and characteristics of the P=NP problem, rather than directly addressing \n",
              "the specific question about the prize offered for finding a solution to this problem.)\n"
            ]
          },
          "metadata": {},
          "output_type": "display_data"
        },
        {
          "data": {
            "text/html": [
              "<pre style=\"white-space:pre;overflow-x:auto;line-height:normal;font-family:Menlo,'DejaVu Sans Mono',consolas,'Courier New',monospace\">\n",
              "</pre>\n"
            ],
            "text/plain": [
              "\n"
            ]
          },
          "metadata": {},
          "output_type": "display_data"
        },
        {
          "data": {
            "text/html": [
              "<pre style=\"white-space:pre;overflow-x:auto;line-height:normal;font-family:Menlo,'DejaVu Sans Mono',consolas,'Courier New',monospace\">For test case:\n",
              "</pre>\n"
            ],
            "text/plain": [
              "For test case:\n"
            ]
          },
          "metadata": {},
          "output_type": "display_data"
        },
        {
          "data": {
            "text/html": [
              "<pre style=\"white-space:pre;overflow-x:auto;line-height:normal;font-family:Menlo,'DejaVu Sans Mono',consolas,'Courier New',monospace\">\n",
              "</pre>\n"
            ],
            "text/plain": [
              "\n"
            ]
          },
          "metadata": {},
          "output_type": "display_data"
        },
        {
          "data": {
            "text/html": [
              "<pre style=\"white-space:pre;overflow-x:auto;line-height:normal;font-family:Menlo,'DejaVu Sans Mono',consolas,'Courier New',monospace\">  - input: What is the prize offered for finding a solution to P=NP?\n",
              "</pre>\n"
            ],
            "text/plain": [
              "  - input: What is the prize offered for finding a solution to P=NP?\n"
            ]
          },
          "metadata": {},
          "output_type": "display_data"
        },
        {
          "data": {
            "text/html": [
              "<pre style=\"white-space:pre;overflow-x:auto;line-height:normal;font-family:Menlo,'DejaVu Sans Mono',consolas,'Courier New',monospace\">  - actual output: The prize offered for finding a solution to P=NP is US$1,000,000.\n",
              "</pre>\n"
            ],
            "text/plain": [
              "  - actual output: The prize offered for finding a solution to P=NP is US$1,000,000.\n"
            ]
          },
          "metadata": {},
          "output_type": "display_data"
        },
        {
          "data": {
            "text/html": [
              "<pre style=\"white-space:pre;overflow-x:auto;line-height:normal;font-family:Menlo,'DejaVu Sans Mono',consolas,'Courier New',monospace\">  - expected output: None\n",
              "</pre>\n"
            ],
            "text/plain": [
              "  - expected output: None\n"
            ]
          },
          "metadata": {},
          "output_type": "display_data"
        },
        {
          "data": {
            "text/html": [
              "<pre style=\"white-space:pre;overflow-x:auto;line-height:normal;font-family:Menlo,'DejaVu Sans Mono',consolas,'Courier New',monospace\">  - context: None\n",
              "</pre>\n"
            ],
            "text/plain": [
              "  - context: None\n"
            ]
          },
          "metadata": {},
          "output_type": "display_data"
        },
        {
          "data": {
            "text/html": [
              "<pre style=\"white-space:pre;overflow-x:auto;line-height:normal;font-family:Menlo,'DejaVu Sans Mono',consolas,'Courier New',monospace\">  - retrieval context: ['If a problem X is in C and hard for C, then X is said to be complete for C. This means \n",
              "that X is the hardest problem in C. (Since many problems could be equally hard, one might say that X is one of the \n",
              "hardest problems in C.) Thus the class of NP-complete problems contains the most difficult problems in NP, in the \n",
              "sense that they are the ones most likely not to be in P. Because the problem P = NP is not solved, being able to \n",
              "reduce a known NP-complete problem, Π2, to another problem, Π1, would indicate that there is no known \n",
              "polynomial-time solution for Π1. This is because a polynomial-time solution to Π1 would yield a polynomial-time \n",
              "solution to Π2. Similarly, because all NP problems can be reduced to the set, finding an NP-complete problem that \n",
              "can be solved in polynomial time would mean that P = NP.', 'The question of whether P equals NP is one of the most \n",
              "important open questions in theoretical computer science because of the wide implications of a solution. If the \n",
              "answer is yes, many important problems can be shown to have more efficient solutions. These include various types \n",
              "of integer programming problems in operations research, many problems in logistics, protein structure prediction in\n",
              "biology, and the ability to find formal proofs of pure mathematics theorems. The P versus NP problem is one of the \n",
              "Millennium Prize Problems proposed by the Clay Mathematics Institute. There is a US$1,000,000 prize for resolving \n",
              "the problem.', 'What intractability means in practice is open to debate. Saying that a problem is not in P does not\n",
              "imply that all large cases of the problem are hard or even that most of them are. For example, the decision problem\n",
              "in Presburger arithmetic has been shown not to be in P, yet algorithms have been written that solve the problem in \n",
              "reasonable times in most cases. Similarly, algorithms can solve the NP-complete knapsack problem over a wide range \n",
              "of sizes in less than quadratic time and SAT solvers routinely handle large instances of the NP-complete Boolean \n",
              "satisfiability problem.']\n",
              "</pre>\n"
            ],
            "text/plain": [
              "  - retrieval context: ['If a problem X is in C and hard for C, then X is said to be complete for C. This means \n",
              "that X is the hardest problem in C. (Since many problems could be equally hard, one might say that X is one of the \n",
              "hardest problems in C.) Thus the class of NP-complete problems contains the most difficult problems in NP, in the \n",
              "sense that they are the ones most likely not to be in P. Because the problem P = NP is not solved, being able to \n",
              "reduce a known NP-complete problem, Π2, to another problem, Π1, would indicate that there is no known \n",
              "polynomial-time solution for Π1. This is because a polynomial-time solution to Π1 would yield a polynomial-time \n",
              "solution to Π2. Similarly, because all NP problems can be reduced to the set, finding an NP-complete problem that \n",
              "can be solved in polynomial time would mean that P = NP.', 'The question of whether P equals NP is one of the most \n",
              "important open questions in theoretical computer science because of the wide implications of a solution. If the \n",
              "answer is yes, many important problems can be shown to have more efficient solutions. These include various types \n",
              "of integer programming problems in operations research, many problems in logistics, protein structure prediction in\n",
              "biology, and the ability to find formal proofs of pure mathematics theorems. The P versus NP problem is one of the \n",
              "Millennium Prize Problems proposed by the Clay Mathematics Institute. There is a US$1,000,000 prize for resolving \n",
              "the problem.', 'What intractability means in practice is open to debate. Saying that a problem is not in P does not\n",
              "imply that all large cases of the problem are hard or even that most of them are. For example, the decision problem\n",
              "in Presburger arithmetic has been shown not to be in P, yet algorithms have been written that solve the problem in \n",
              "reasonable times in most cases. Similarly, algorithms can solve the NP-complete knapsack problem over a wide range \n",
              "of sizes in less than quadratic time and SAT solvers routinely handle large instances of the NP-complete Boolean \n",
              "satisfiability problem.']\n"
            ]
          },
          "metadata": {},
          "output_type": "display_data"
        },
        {
          "data": {
            "text/html": [
              "<pre style=\"white-space:pre;overflow-x:auto;line-height:normal;font-family:Menlo,'DejaVu Sans Mono',consolas,'Courier New',monospace\">\n",
              "</pre>\n"
            ],
            "text/plain": [
              "\n"
            ]
          },
          "metadata": {},
          "output_type": "display_data"
        },
        {
          "data": {
            "text/html": [
              "<pre style=\"white-space:pre;overflow-x:auto;line-height:normal;font-family:Menlo,'DejaVu Sans Mono',consolas,'Courier New',monospace\">======================================================================\n",
              "</pre>\n"
            ],
            "text/plain": [
              "======================================================================\n"
            ]
          },
          "metadata": {},
          "output_type": "display_data"
        },
        {
          "data": {
            "text/html": [
              "<pre style=\"white-space:pre;overflow-x:auto;line-height:normal;font-family:Menlo,'DejaVu Sans Mono',consolas,'Courier New',monospace\">\n",
              "</pre>\n"
            ],
            "text/plain": [
              "\n"
            ]
          },
          "metadata": {},
          "output_type": "display_data"
        },
        {
          "data": {
            "text/html": [
              "<pre style=\"white-space:pre;overflow-x:auto;line-height:normal;font-family:Menlo,'DejaVu Sans Mono',consolas,'Courier New',monospace\">Metrics Summary\n",
              "</pre>\n"
            ],
            "text/plain": [
              "Metrics Summary\n"
            ]
          },
          "metadata": {},
          "output_type": "display_data"
        },
        {
          "data": {
            "text/html": [
              "<pre style=\"white-space:pre;overflow-x:auto;line-height:normal;font-family:Menlo,'DejaVu Sans Mono',consolas,'Courier New',monospace\">\n",
              "</pre>\n"
            ],
            "text/plain": [
              "\n"
            ]
          },
          "metadata": {},
          "output_type": "display_data"
        },
        {
          "data": {
            "text/html": [
              "<pre style=\"white-space:pre;overflow-x:auto;line-height:normal;font-family:Menlo,'DejaVu Sans Mono',consolas,'Courier New',monospace\">  - ✅ Contextual Relevancy (score: 0.0, threshold: 0.0, evaluation model: gpt-4, reason: The score is 0.00 because\n",
              "none of the sentences in the retrieval context provide any information related to the queried Californio's \n",
              "location. They mostly discuss geological and geographical matters like tectonic plates and river courses, which are\n",
              "irrelevant to the original question.)\n",
              "</pre>\n"
            ],
            "text/plain": [
              "  - ✅ Contextual Relevancy (score: 0.0, threshold: 0.0, evaluation model: gpt-4, reason: The score is 0.00 because\n",
              "none of the sentences in the retrieval context provide any information related to the queried Californio's \n",
              "location. They mostly discuss geological and geographical matters like tectonic plates and river courses, which are\n",
              "irrelevant to the original question.)\n"
            ]
          },
          "metadata": {},
          "output_type": "display_data"
        },
        {
          "data": {
            "text/html": [
              "<pre style=\"white-space:pre;overflow-x:auto;line-height:normal;font-family:Menlo,'DejaVu Sans Mono',consolas,'Courier New',monospace\">\n",
              "</pre>\n"
            ],
            "text/plain": [
              "\n"
            ]
          },
          "metadata": {},
          "output_type": "display_data"
        },
        {
          "data": {
            "text/html": [
              "<pre style=\"white-space:pre;overflow-x:auto;line-height:normal;font-family:Menlo,'DejaVu Sans Mono',consolas,'Courier New',monospace\">For test case:\n",
              "</pre>\n"
            ],
            "text/plain": [
              "For test case:\n"
            ]
          },
          "metadata": {},
          "output_type": "display_data"
        },
        {
          "data": {
            "text/html": [
              "<pre style=\"white-space:pre;overflow-x:auto;line-height:normal;font-family:Menlo,'DejaVu Sans Mono',consolas,'Courier New',monospace\">\n",
              "</pre>\n"
            ],
            "text/plain": [
              "\n"
            ]
          },
          "metadata": {},
          "output_type": "display_data"
        },
        {
          "data": {
            "text/html": [
              "<pre style=\"white-space:pre;overflow-x:auto;line-height:normal;font-family:Menlo,'DejaVu Sans Mono',consolas,'Courier New',monospace\">  - input: Which Californio is located in the upper part?\n",
              "</pre>\n"
            ],
            "text/plain": [
              "  - input: Which Californio is located in the upper part?\n"
            ]
          },
          "metadata": {},
          "output_type": "display_data"
        },
        {
          "data": {
            "text/html": [
              "<pre style=\"white-space:pre;overflow-x:auto;line-height:normal;font-family:Menlo,'DejaVu Sans Mono',consolas,'Courier New',monospace\">  - actual output: The Californio located in the upper part is the Ill below of Strasbourg.\n",
              "</pre>\n"
            ],
            "text/plain": [
              "  - actual output: The Californio located in the upper part is the Ill below of Strasbourg.\n"
            ]
          },
          "metadata": {},
          "output_type": "display_data"
        },
        {
          "data": {
            "text/html": [
              "<pre style=\"white-space:pre;overflow-x:auto;line-height:normal;font-family:Menlo,'DejaVu Sans Mono',consolas,'Courier New',monospace\">  - expected output: None\n",
              "</pre>\n"
            ],
            "text/plain": [
              "  - expected output: None\n"
            ]
          },
          "metadata": {},
          "output_type": "display_data"
        },
        {
          "data": {
            "text/html": [
              "<pre style=\"white-space:pre;overflow-x:auto;line-height:normal;font-family:Menlo,'DejaVu Sans Mono',consolas,'Courier New',monospace\">  - context: None\n",
              "</pre>\n"
            ],
            "text/plain": [
              "  - context: None\n"
            ]
          },
          "metadata": {},
          "output_type": "display_data"
        },
        {
          "data": {
            "text/html": [
              "<pre style=\"white-space:pre;overflow-x:auto;line-height:normal;font-family:Menlo,'DejaVu Sans Mono',consolas,'Courier New',monospace\">  - retrieval context: ['In the centre of Basel, the first major city in the course of the stream, is located the \n",
              "\"Rhine knee\"; this is a major bend, where the overall direction of the Rhine changes from West to North. Here the \n",
              "High Rhine ends. Legally, the Central Bridge is the boundary between High and Upper Rhine. The river now flows \n",
              "North as Upper Rhine through the Upper Rhine Plain, which is about 300 km long and up to 40 km wide. The most \n",
              "important tributaries in this area are the Ill below of Strasbourg, the Neckar in Mannheim and the Main across from\n",
              "Mainz. In Mainz, the Rhine leaves the Upper Rhine Valley and flows through the Mainz Basin.', 'From the death of \n",
              "Augustus in AD 14 until after AD 70, Rome accepted as her Germanic frontier the water-boundary of the Rhine and \n",
              "upper Danube. Beyond these rivers she held only the fertile plain of Frankfurt, opposite the Roman border fortress \n",
              "of Moguntiacum (Mainz), the southernmost slopes of the Black Forest and a few scattered bridge-heads. The northern \n",
              "section of this frontier, where the Rhine is deep and broad, remained the Roman boundary until the empire fell. The\n",
              "southern part was different. The upper Rhine and upper Danube are easily crossed. The frontier which they form is \n",
              "inconveniently long, enclosing an acute-angled wedge of foreign territory between the modern Baden and Württemberg.\n",
              "The Germanic populations of these lands seem in Roman times to have been scanty, and Roman subjects from the modern\n",
              "Alsace-Lorraine had drifted across the river eastwards.', \"In the 1960s, a series of discoveries, the most \n",
              "important of which was seafloor spreading, showed that the Earth's lithosphere, which includes the crust and rigid \n",
              "uppermost portion of the upper mantle, is separated into a number of tectonic plates that move across the \n",
              "plastically deforming, solid, upper mantle, which is called the asthenosphere. There is an intimate coupling \n",
              "between the movement of the plates on the surface and the convection of the mantle: oceanic plate motions and \n",
              "mantle convection currents always move in the same direction, because the oceanic lithosphere is the rigid upper \n",
              "thermal boundary layer of the convecting mantle. This coupling between rigid plates moving on the surface of the \n",
              "Earth and the convecting mantle is called plate tectonics.\"]\n",
              "</pre>\n"
            ],
            "text/plain": [
              "  - retrieval context: ['In the centre of Basel, the first major city in the course of the stream, is located the \n",
              "\"Rhine knee\"; this is a major bend, where the overall direction of the Rhine changes from West to North. Here the \n",
              "High Rhine ends. Legally, the Central Bridge is the boundary between High and Upper Rhine. The river now flows \n",
              "North as Upper Rhine through the Upper Rhine Plain, which is about 300 km long and up to 40 km wide. The most \n",
              "important tributaries in this area are the Ill below of Strasbourg, the Neckar in Mannheim and the Main across from\n",
              "Mainz. In Mainz, the Rhine leaves the Upper Rhine Valley and flows through the Mainz Basin.', 'From the death of \n",
              "Augustus in AD 14 until after AD 70, Rome accepted as her Germanic frontier the water-boundary of the Rhine and \n",
              "upper Danube. Beyond these rivers she held only the fertile plain of Frankfurt, opposite the Roman border fortress \n",
              "of Moguntiacum (Mainz), the southernmost slopes of the Black Forest and a few scattered bridge-heads. The northern \n",
              "section of this frontier, where the Rhine is deep and broad, remained the Roman boundary until the empire fell. The\n",
              "southern part was different. The upper Rhine and upper Danube are easily crossed. The frontier which they form is \n",
              "inconveniently long, enclosing an acute-angled wedge of foreign territory between the modern Baden and Württemberg.\n",
              "The Germanic populations of these lands seem in Roman times to have been scanty, and Roman subjects from the modern\n",
              "Alsace-Lorraine had drifted across the river eastwards.', \"In the 1960s, a series of discoveries, the most \n",
              "important of which was seafloor spreading, showed that the Earth's lithosphere, which includes the crust and rigid \n",
              "uppermost portion of the upper mantle, is separated into a number of tectonic plates that move across the \n",
              "plastically deforming, solid, upper mantle, which is called the asthenosphere. There is an intimate coupling \n",
              "between the movement of the plates on the surface and the convection of the mantle: oceanic plate motions and \n",
              "mantle convection currents always move in the same direction, because the oceanic lithosphere is the rigid upper \n",
              "thermal boundary layer of the convecting mantle. This coupling between rigid plates moving on the surface of the \n",
              "Earth and the convecting mantle is called plate tectonics.\"]\n"
            ]
          },
          "metadata": {},
          "output_type": "display_data"
        },
        {
          "data": {
            "text/html": [
              "<pre style=\"white-space:pre;overflow-x:auto;line-height:normal;font-family:Menlo,'DejaVu Sans Mono',consolas,'Courier New',monospace\">\n",
              "</pre>\n"
            ],
            "text/plain": [
              "\n"
            ]
          },
          "metadata": {},
          "output_type": "display_data"
        },
        {
          "data": {
            "text/html": [
              "<pre style=\"white-space:pre;overflow-x:auto;line-height:normal;font-family:Menlo,'DejaVu Sans Mono',consolas,'Courier New',monospace\">----------------------------------------------------------------------\n",
              "</pre>\n"
            ],
            "text/plain": [
              "----------------------------------------------------------------------\n"
            ]
          },
          "metadata": {},
          "output_type": "display_data"
        },
        {
          "data": {
            "text/html": [
              "<pre style=\"white-space:pre;overflow-x:auto;line-height:normal;font-family:Menlo,'DejaVu Sans Mono',consolas,'Courier New',monospace\">✅ Tests finished! Run <span style=\"color: #008000; text-decoration-color: #008000\">\"deepeval login\"</span> to view evaluation results on the web.\n",
              "</pre>\n"
            ],
            "text/plain": [
              "✅ Tests finished! Run \u001b[32m\"deepeval login\"\u001b[0m to view evaluation results on the web.\n"
            ]
          },
          "metadata": {},
          "output_type": "display_data"
        },
        {
          "data": {
            "text/html": [
              "<pre style=\"white-space:pre;overflow-x:auto;line-height:normal;font-family:Menlo,'DejaVu Sans Mono',consolas,'Courier New',monospace\"></pre>\n"
            ],
            "text/plain": []
          },
          "metadata": {},
          "output_type": "display_data"
        },
        {
          "data": {
            "text/html": [
              "<pre style=\"white-space:pre;overflow-x:auto;line-height:normal;font-family:Menlo,'DejaVu Sans Mono',consolas,'Courier New',monospace\">\n",
              "</pre>\n"
            ],
            "text/plain": [
              "\n"
            ]
          },
          "metadata": {},
          "output_type": "display_data"
        },
        {
          "name": "stdout",
          "output_type": "stream",
          "text": [
            "[[{'name': 'contextual_relevance', 'score': 0.09090909090909091, 'explanation': 'The score is 0.09 because the sentences provided do not directly address the influence of a mountain range on the division of regions. They discuss the division of California, temperature data for Victoria, and experiments in structural geology, but do not provide information pertinent to the input question.'}], [{'name': 'contextual_relevance', 'score': 0.5384615384615384, 'explanation': 'The score is 0.54 because the majority of the sentences extracted from the retrieval context, particularly from nodes 2 and 3, focus on explaining the complexities and characteristics of the P=NP problem, rather than directly addressing the specific question about the prize offered for finding a solution to this problem.'}], [{'name': 'contextual_relevance', 'score': 0.0, 'explanation': \"The score is 0.00 because none of the sentences in the retrieval context provide any information related to the queried Californio's location. They mostly discuss geological and geographical matters like tectonic plates and river courses, which are irrelevant to the original question.\"}]]\n"
          ]
        }
      ],
      "source": [
        "evaluation_results = context_relevancy_pipeline.run(\n",
        "    {\"evaluator\": {\"questions\": questions, \"contexts\": contexts, \"responses\": responses}}\n",
        ")\n",
        "print(evaluation_results[\"evaluator\"][\"results\"])\n"
      ]
    },
    {
      "cell_type": "markdown",
      "metadata": {
        "id": "QKkYIq3OEivN"
      },
      "source": [
        "### Answer relevancy\n",
        "\n",
        "The answer relevancy metric measures the quality of our RAG pipeline's response by evaluating how relevant the response is compared to the provided question."
      ]
    },
    {
      "cell_type": "code",
      "execution_count": 43,
      "metadata": {
        "id": "WV67fOajMbkF"
      },
      "outputs": [],
      "source": [
        "from haystack import Pipeline\n",
        "from haystack_integrations.components.evaluators.deepeval import DeepEvalEvaluator, DeepEvalMetric\n",
        "\n",
        "answer_relevancy_pipeline = Pipeline()\n",
        "evaluator = DeepEvalEvaluator(metric=DeepEvalMetric.ANSWER_RELEVANCY, metric_params={\"model\":\"gpt-4\"})\n",
        "answer_relevancy_pipeline.add_component(\"evaluator\", evaluator)\n"
      ]
    },
    {
      "cell_type": "code",
      "execution_count": 57,
      "metadata": {
        "colab": {
          "base_uri": "https://localhost:8080/",
          "height": 1000,
          "referenced_widgets": [
            "f1639c9c99a846d7a17aee870ff80d98",
            "3bb9e44e17ec4f3986378ddb3c1255c4",
            "e36f222e6b3946e6a1ed1e4c71ea31be",
            "1559b47643e4481483256713396bf4da",
            "d87df86ef2804f83b0c11fca2a37fd49",
            "5ae473c91e084c339e339bba168d52cc",
            "da36b58414074e409c049c73f4e07d94",
            "ca67b112541f4c0ebc104572d3a2492b"
          ]
        },
        "id": "9h5OBTI7MhFj",
        "outputId": "6e41e11c-ae7e-40b7-b41d-b32c3dac9787"
      },
      "outputs": [
        {
          "data": {
            "application/vnd.jupyter.widget-view+json": {
              "model_id": "f1639c9c99a846d7a17aee870ff80d98",
              "version_major": 2,
              "version_minor": 0
            },
            "text/plain": [
              "Output()"
            ]
          },
          "metadata": {},
          "output_type": "display_data"
        },
        {
          "data": {
            "application/vnd.jupyter.widget-view+json": {
              "model_id": "e36f222e6b3946e6a1ed1e4c71ea31be",
              "version_major": 2,
              "version_minor": 0
            },
            "text/plain": [
              "Output()"
            ]
          },
          "metadata": {},
          "output_type": "display_data"
        },
        {
          "data": {
            "text/html": [
              "<pre style=\"white-space:pre;overflow-x:auto;line-height:normal;font-family:Menlo,'DejaVu Sans Mono',consolas,'Courier New',monospace\"></pre>\n"
            ],
            "text/plain": []
          },
          "metadata": {},
          "output_type": "display_data"
        },
        {
          "data": {
            "text/html": [
              "<pre style=\"white-space:pre;overflow-x:auto;line-height:normal;font-family:Menlo,'DejaVu Sans Mono',consolas,'Courier New',monospace\">\n",
              "</pre>\n"
            ],
            "text/plain": [
              "\n"
            ]
          },
          "metadata": {},
          "output_type": "display_data"
        },
        {
          "data": {
            "application/vnd.jupyter.widget-view+json": {
              "model_id": "d87df86ef2804f83b0c11fca2a37fd49",
              "version_major": 2,
              "version_minor": 0
            },
            "text/plain": [
              "Output()"
            ]
          },
          "metadata": {},
          "output_type": "display_data"
        },
        {
          "data": {
            "text/html": [
              "<pre style=\"white-space:pre;overflow-x:auto;line-height:normal;font-family:Menlo,'DejaVu Sans Mono',consolas,'Courier New',monospace\"></pre>\n"
            ],
            "text/plain": []
          },
          "metadata": {},
          "output_type": "display_data"
        },
        {
          "data": {
            "text/html": [
              "<pre style=\"white-space:pre;overflow-x:auto;line-height:normal;font-family:Menlo,'DejaVu Sans Mono',consolas,'Courier New',monospace\">\n",
              "</pre>\n"
            ],
            "text/plain": [
              "\n"
            ]
          },
          "metadata": {},
          "output_type": "display_data"
        },
        {
          "data": {
            "application/vnd.jupyter.widget-view+json": {
              "model_id": "da36b58414074e409c049c73f4e07d94",
              "version_major": 2,
              "version_minor": 0
            },
            "text/plain": [
              "Output()"
            ]
          },
          "metadata": {},
          "output_type": "display_data"
        },
        {
          "data": {
            "text/html": [
              "<pre style=\"white-space:pre;overflow-x:auto;line-height:normal;font-family:Menlo,'DejaVu Sans Mono',consolas,'Courier New',monospace\"></pre>\n"
            ],
            "text/plain": []
          },
          "metadata": {},
          "output_type": "display_data"
        },
        {
          "data": {
            "text/html": [
              "<pre style=\"white-space:pre;overflow-x:auto;line-height:normal;font-family:Menlo,'DejaVu Sans Mono',consolas,'Courier New',monospace\">\n",
              "</pre>\n"
            ],
            "text/plain": [
              "\n"
            ]
          },
          "metadata": {},
          "output_type": "display_data"
        },
        {
          "data": {
            "text/html": [
              "<pre style=\"white-space:pre;overflow-x:auto;line-height:normal;font-family:Menlo,'DejaVu Sans Mono',consolas,'Courier New',monospace\">\n",
              "</pre>\n"
            ],
            "text/plain": [
              "\n"
            ]
          },
          "metadata": {},
          "output_type": "display_data"
        },
        {
          "data": {
            "text/html": [
              "<pre style=\"white-space:pre;overflow-x:auto;line-height:normal;font-family:Menlo,'DejaVu Sans Mono',consolas,'Courier New',monospace\">======================================================================\n",
              "</pre>\n"
            ],
            "text/plain": [
              "======================================================================\n"
            ]
          },
          "metadata": {},
          "output_type": "display_data"
        },
        {
          "data": {
            "text/html": [
              "<pre style=\"white-space:pre;overflow-x:auto;line-height:normal;font-family:Menlo,'DejaVu Sans Mono',consolas,'Courier New',monospace\">\n",
              "</pre>\n"
            ],
            "text/plain": [
              "\n"
            ]
          },
          "metadata": {},
          "output_type": "display_data"
        },
        {
          "data": {
            "text/html": [
              "<pre style=\"white-space:pre;overflow-x:auto;line-height:normal;font-family:Menlo,'DejaVu Sans Mono',consolas,'Courier New',monospace\">Metrics Summary\n",
              "</pre>\n"
            ],
            "text/plain": [
              "Metrics Summary\n"
            ]
          },
          "metadata": {},
          "output_type": "display_data"
        },
        {
          "data": {
            "text/html": [
              "<pre style=\"white-space:pre;overflow-x:auto;line-height:normal;font-family:Menlo,'DejaVu Sans Mono',consolas,'Courier New',monospace\">\n",
              "</pre>\n"
            ],
            "text/plain": [
              "\n"
            ]
          },
          "metadata": {},
          "output_type": "display_data"
        },
        {
          "data": {
            "text/html": [
              "<pre style=\"white-space:pre;overflow-x:auto;line-height:normal;font-family:Menlo,'DejaVu Sans Mono',consolas,'Courier New',monospace\">  - ✅ Answer Relevancy (score: 0.3333333333333333, threshold: 0.0, evaluation model: gpt-4, reason: The score is \n",
              "0.33 because the answer correctly identifies the Tehachapi mountain range as the influence for the split of the \n",
              "regions in California. However, the score is not higher because the majority of the points presented in the answer,\n",
              "including details about AAA Auto Clubs, orogenic wedges, numerical models, and Victoria's temperature records, are \n",
              "irrelevant to the original question.)\n",
              "</pre>\n"
            ],
            "text/plain": [
              "  - ✅ Answer Relevancy (score: 0.3333333333333333, threshold: 0.0, evaluation model: gpt-4, reason: The score is \n",
              "0.33 because the answer correctly identifies the Tehachapi mountain range as the influence for the split of the \n",
              "regions in California. However, the score is not higher because the majority of the points presented in the answer,\n",
              "including details about AAA Auto Clubs, orogenic wedges, numerical models, and Victoria's temperature records, are \n",
              "irrelevant to the original question.)\n"
            ]
          },
          "metadata": {},
          "output_type": "display_data"
        },
        {
          "data": {
            "text/html": [
              "<pre style=\"white-space:pre;overflow-x:auto;line-height:normal;font-family:Menlo,'DejaVu Sans Mono',consolas,'Courier New',monospace\">\n",
              "</pre>\n"
            ],
            "text/plain": [
              "\n"
            ]
          },
          "metadata": {},
          "output_type": "display_data"
        },
        {
          "data": {
            "text/html": [
              "<pre style=\"white-space:pre;overflow-x:auto;line-height:normal;font-family:Menlo,'DejaVu Sans Mono',consolas,'Courier New',monospace\">For test case:\n",
              "</pre>\n"
            ],
            "text/plain": [
              "For test case:\n"
            ]
          },
          "metadata": {},
          "output_type": "display_data"
        },
        {
          "data": {
            "text/html": [
              "<pre style=\"white-space:pre;overflow-x:auto;line-height:normal;font-family:Menlo,'DejaVu Sans Mono',consolas,'Courier New',monospace\">\n",
              "</pre>\n"
            ],
            "text/plain": [
              "\n"
            ]
          },
          "metadata": {},
          "output_type": "display_data"
        },
        {
          "data": {
            "text/html": [
              "<pre style=\"white-space:pre;overflow-x:auto;line-height:normal;font-family:Menlo,'DejaVu Sans Mono',consolas,'Courier New',monospace\">  - input: Which mountain range influenced the split of the regions?\n",
              "</pre>\n"
            ],
            "text/plain": [
              "  - input: Which mountain range influenced the split of the regions?\n"
            ]
          },
          "metadata": {},
          "output_type": "display_data"
        },
        {
          "data": {
            "text/html": [
              "<pre style=\"white-space:pre;overflow-x:auto;line-height:normal;font-family:Menlo,'DejaVu Sans Mono',consolas,'Courier New',monospace\">  - actual output: The Tehachapi mountain range influenced the split of the regions in California.\n",
              "</pre>\n"
            ],
            "text/plain": [
              "  - actual output: The Tehachapi mountain range influenced the split of the regions in California.\n"
            ]
          },
          "metadata": {},
          "output_type": "display_data"
        },
        {
          "data": {
            "text/html": [
              "<pre style=\"white-space:pre;overflow-x:auto;line-height:normal;font-family:Menlo,'DejaVu Sans Mono',consolas,'Courier New',monospace\">  - expected output: None\n",
              "</pre>\n"
            ],
            "text/plain": [
              "  - expected output: None\n"
            ]
          },
          "metadata": {},
          "output_type": "display_data"
        },
        {
          "data": {
            "text/html": [
              "<pre style=\"white-space:pre;overflow-x:auto;line-height:normal;font-family:Menlo,'DejaVu Sans Mono',consolas,'Courier New',monospace\">  - context: None\n",
              "</pre>\n"
            ],
            "text/plain": [
              "  - context: None\n"
            ]
          },
          "metadata": {},
          "output_type": "display_data"
        },
        {
          "data": {
            "text/html": [
              "<pre style=\"white-space:pre;overflow-x:auto;line-height:normal;font-family:Menlo,'DejaVu Sans Mono',consolas,'Courier New',monospace\">  - retrieval context: ['The state is most commonly divided and promoted by its regional tourism groups as \n",
              "consisting of northern, central, and southern California regions. The two AAA Auto Clubs of the state, the \n",
              "California State Automobile Association and the Automobile Club of Southern California, choose to simplify matters \n",
              "by dividing the state along the lines where their jurisdictions for membership apply, as either northern or \n",
              "southern California, in contrast to the three-region point of view. Another influence is the geographical phrase \n",
              "South of the Tehachapis, which would split the southern region off at the crest of that transverse range, but in \n",
              "that definition, the desert portions of north Los Angeles County and eastern Kern and San Bernardino Counties would\n",
              "be included in the southern California region due to their remoteness from the central valley and interior desert \n",
              "landscape.', 'Among the most well-known experiments in structural geology are those involving orogenic wedges, \n",
              "which are zones in which mountains are built along convergent tectonic plate boundaries. In the analog versions of \n",
              "these experiments, horizontal layers of sand are pulled along a lower surface into a back stop, which results in \n",
              "realistic-looking patterns of faulting and the growth of a critically tapered (all angles remain the same) orogenic\n",
              "wedge. Numerical models work in the same way as these analog models, though they are often more sophisticated and \n",
              "can include patterns of erosion and uplift in the mountain belt. This helps to show the relationship between \n",
              "erosion and the shape of the mountain range. These studies can also give useful information about pathways for \n",
              "metamorphism through pressure, temperature, space, and time.', \"The Mallee and upper Wimmera are Victoria's warmest\n",
              "regions with hot winds blowing from nearby semi-deserts. Average temperatures exceed 32 °C (90 °F) during summer \n",
              "and 15 °C (59 °F) in winter. Except at cool mountain elevations, the inland monthly temperatures are 2–7 °C (4–13 \n",
              "°F) warmer than around Melbourne (see chart). Victoria's highest maximum temperature since World War II, of 48.8 °C\n",
              "(119.8 °F) was recorded in Hopetoun on 7 February 2009, during the 2009 southeastern Australia heat wave.\"]\n",
              "</pre>\n"
            ],
            "text/plain": [
              "  - retrieval context: ['The state is most commonly divided and promoted by its regional tourism groups as \n",
              "consisting of northern, central, and southern California regions. The two AAA Auto Clubs of the state, the \n",
              "California State Automobile Association and the Automobile Club of Southern California, choose to simplify matters \n",
              "by dividing the state along the lines where their jurisdictions for membership apply, as either northern or \n",
              "southern California, in contrast to the three-region point of view. Another influence is the geographical phrase \n",
              "South of the Tehachapis, which would split the southern region off at the crest of that transverse range, but in \n",
              "that definition, the desert portions of north Los Angeles County and eastern Kern and San Bernardino Counties would\n",
              "be included in the southern California region due to their remoteness from the central valley and interior desert \n",
              "landscape.', 'Among the most well-known experiments in structural geology are those involving orogenic wedges, \n",
              "which are zones in which mountains are built along convergent tectonic plate boundaries. In the analog versions of \n",
              "these experiments, horizontal layers of sand are pulled along a lower surface into a back stop, which results in \n",
              "realistic-looking patterns of faulting and the growth of a critically tapered (all angles remain the same) orogenic\n",
              "wedge. Numerical models work in the same way as these analog models, though they are often more sophisticated and \n",
              "can include patterns of erosion and uplift in the mountain belt. This helps to show the relationship between \n",
              "erosion and the shape of the mountain range. These studies can also give useful information about pathways for \n",
              "metamorphism through pressure, temperature, space, and time.', \"The Mallee and upper Wimmera are Victoria's warmest\n",
              "regions with hot winds blowing from nearby semi-deserts. Average temperatures exceed 32 °C (90 °F) during summer \n",
              "and 15 °C (59 °F) in winter. Except at cool mountain elevations, the inland monthly temperatures are 2–7 °C (4–13 \n",
              "°F) warmer than around Melbourne (see chart). Victoria's highest maximum temperature since World War II, of 48.8 °C\n",
              "(119.8 °F) was recorded in Hopetoun on 7 February 2009, during the 2009 southeastern Australia heat wave.\"]\n"
            ]
          },
          "metadata": {},
          "output_type": "display_data"
        },
        {
          "data": {
            "text/html": [
              "<pre style=\"white-space:pre;overflow-x:auto;line-height:normal;font-family:Menlo,'DejaVu Sans Mono',consolas,'Courier New',monospace\">\n",
              "</pre>\n"
            ],
            "text/plain": [
              "\n"
            ]
          },
          "metadata": {},
          "output_type": "display_data"
        },
        {
          "data": {
            "text/html": [
              "<pre style=\"white-space:pre;overflow-x:auto;line-height:normal;font-family:Menlo,'DejaVu Sans Mono',consolas,'Courier New',monospace\">======================================================================\n",
              "</pre>\n"
            ],
            "text/plain": [
              "======================================================================\n"
            ]
          },
          "metadata": {},
          "output_type": "display_data"
        },
        {
          "data": {
            "text/html": [
              "<pre style=\"white-space:pre;overflow-x:auto;line-height:normal;font-family:Menlo,'DejaVu Sans Mono',consolas,'Courier New',monospace\">\n",
              "</pre>\n"
            ],
            "text/plain": [
              "\n"
            ]
          },
          "metadata": {},
          "output_type": "display_data"
        },
        {
          "data": {
            "text/html": [
              "<pre style=\"white-space:pre;overflow-x:auto;line-height:normal;font-family:Menlo,'DejaVu Sans Mono',consolas,'Courier New',monospace\">Metrics Summary\n",
              "</pre>\n"
            ],
            "text/plain": [
              "Metrics Summary\n"
            ]
          },
          "metadata": {},
          "output_type": "display_data"
        },
        {
          "data": {
            "text/html": [
              "<pre style=\"white-space:pre;overflow-x:auto;line-height:normal;font-family:Menlo,'DejaVu Sans Mono',consolas,'Courier New',monospace\">\n",
              "</pre>\n"
            ],
            "text/plain": [
              "\n"
            ]
          },
          "metadata": {},
          "output_type": "display_data"
        },
        {
          "data": {
            "text/html": [
              "<pre style=\"white-space:pre;overflow-x:auto;line-height:normal;font-family:Menlo,'DejaVu Sans Mono',consolas,'Courier New',monospace\">  - ✅ Answer Relevancy (score: 0.5, threshold: 0.0, evaluation model: gpt-4, reason: The score is 0.50 because \n",
              "while the answer did provide the correct information about the prize amount for solving the P=NP problem, it also \n",
              "included unnecessary details about the significance of the P=NP problem itself, which was not asked for in the \n",
              "question.)\n",
              "</pre>\n"
            ],
            "text/plain": [
              "  - ✅ Answer Relevancy (score: 0.5, threshold: 0.0, evaluation model: gpt-4, reason: The score is 0.50 because \n",
              "while the answer did provide the correct information about the prize amount for solving the P=NP problem, it also \n",
              "included unnecessary details about the significance of the P=NP problem itself, which was not asked for in the \n",
              "question.)\n"
            ]
          },
          "metadata": {},
          "output_type": "display_data"
        },
        {
          "data": {
            "text/html": [
              "<pre style=\"white-space:pre;overflow-x:auto;line-height:normal;font-family:Menlo,'DejaVu Sans Mono',consolas,'Courier New',monospace\">\n",
              "</pre>\n"
            ],
            "text/plain": [
              "\n"
            ]
          },
          "metadata": {},
          "output_type": "display_data"
        },
        {
          "data": {
            "text/html": [
              "<pre style=\"white-space:pre;overflow-x:auto;line-height:normal;font-family:Menlo,'DejaVu Sans Mono',consolas,'Courier New',monospace\">For test case:\n",
              "</pre>\n"
            ],
            "text/plain": [
              "For test case:\n"
            ]
          },
          "metadata": {},
          "output_type": "display_data"
        },
        {
          "data": {
            "text/html": [
              "<pre style=\"white-space:pre;overflow-x:auto;line-height:normal;font-family:Menlo,'DejaVu Sans Mono',consolas,'Courier New',monospace\">\n",
              "</pre>\n"
            ],
            "text/plain": [
              "\n"
            ]
          },
          "metadata": {},
          "output_type": "display_data"
        },
        {
          "data": {
            "text/html": [
              "<pre style=\"white-space:pre;overflow-x:auto;line-height:normal;font-family:Menlo,'DejaVu Sans Mono',consolas,'Courier New',monospace\">  - input: What is the prize offered for finding a solution to P=NP?\n",
              "</pre>\n"
            ],
            "text/plain": [
              "  - input: What is the prize offered for finding a solution to P=NP?\n"
            ]
          },
          "metadata": {},
          "output_type": "display_data"
        },
        {
          "data": {
            "text/html": [
              "<pre style=\"white-space:pre;overflow-x:auto;line-height:normal;font-family:Menlo,'DejaVu Sans Mono',consolas,'Courier New',monospace\">  - actual output: The prize offered for finding a solution to P=NP is US$1,000,000.\n",
              "</pre>\n"
            ],
            "text/plain": [
              "  - actual output: The prize offered for finding a solution to P=NP is US$1,000,000.\n"
            ]
          },
          "metadata": {},
          "output_type": "display_data"
        },
        {
          "data": {
            "text/html": [
              "<pre style=\"white-space:pre;overflow-x:auto;line-height:normal;font-family:Menlo,'DejaVu Sans Mono',consolas,'Courier New',monospace\">  - expected output: None\n",
              "</pre>\n"
            ],
            "text/plain": [
              "  - expected output: None\n"
            ]
          },
          "metadata": {},
          "output_type": "display_data"
        },
        {
          "data": {
            "text/html": [
              "<pre style=\"white-space:pre;overflow-x:auto;line-height:normal;font-family:Menlo,'DejaVu Sans Mono',consolas,'Courier New',monospace\">  - context: None\n",
              "</pre>\n"
            ],
            "text/plain": [
              "  - context: None\n"
            ]
          },
          "metadata": {},
          "output_type": "display_data"
        },
        {
          "data": {
            "text/html": [
              "<pre style=\"white-space:pre;overflow-x:auto;line-height:normal;font-family:Menlo,'DejaVu Sans Mono',consolas,'Courier New',monospace\">  - retrieval context: ['If a problem X is in C and hard for C, then X is said to be complete for C. This means \n",
              "that X is the hardest problem in C. (Since many problems could be equally hard, one might say that X is one of the \n",
              "hardest problems in C.) Thus the class of NP-complete problems contains the most difficult problems in NP, in the \n",
              "sense that they are the ones most likely not to be in P. Because the problem P = NP is not solved, being able to \n",
              "reduce a known NP-complete problem, Π2, to another problem, Π1, would indicate that there is no known \n",
              "polynomial-time solution for Π1. This is because a polynomial-time solution to Π1 would yield a polynomial-time \n",
              "solution to Π2. Similarly, because all NP problems can be reduced to the set, finding an NP-complete problem that \n",
              "can be solved in polynomial time would mean that P = NP.', 'The question of whether P equals NP is one of the most \n",
              "important open questions in theoretical computer science because of the wide implications of a solution. If the \n",
              "answer is yes, many important problems can be shown to have more efficient solutions. These include various types \n",
              "of integer programming problems in operations research, many problems in logistics, protein structure prediction in\n",
              "biology, and the ability to find formal proofs of pure mathematics theorems. The P versus NP problem is one of the \n",
              "Millennium Prize Problems proposed by the Clay Mathematics Institute. There is a US$1,000,000 prize for resolving \n",
              "the problem.', 'What intractability means in practice is open to debate. Saying that a problem is not in P does not\n",
              "imply that all large cases of the problem are hard or even that most of them are. For example, the decision problem\n",
              "in Presburger arithmetic has been shown not to be in P, yet algorithms have been written that solve the problem in \n",
              "reasonable times in most cases. Similarly, algorithms can solve the NP-complete knapsack problem over a wide range \n",
              "of sizes in less than quadratic time and SAT solvers routinely handle large instances of the NP-complete Boolean \n",
              "satisfiability problem.']\n",
              "</pre>\n"
            ],
            "text/plain": [
              "  - retrieval context: ['If a problem X is in C and hard for C, then X is said to be complete for C. This means \n",
              "that X is the hardest problem in C. (Since many problems could be equally hard, one might say that X is one of the \n",
              "hardest problems in C.) Thus the class of NP-complete problems contains the most difficult problems in NP, in the \n",
              "sense that they are the ones most likely not to be in P. Because the problem P = NP is not solved, being able to \n",
              "reduce a known NP-complete problem, Π2, to another problem, Π1, would indicate that there is no known \n",
              "polynomial-time solution for Π1. This is because a polynomial-time solution to Π1 would yield a polynomial-time \n",
              "solution to Π2. Similarly, because all NP problems can be reduced to the set, finding an NP-complete problem that \n",
              "can be solved in polynomial time would mean that P = NP.', 'The question of whether P equals NP is one of the most \n",
              "important open questions in theoretical computer science because of the wide implications of a solution. If the \n",
              "answer is yes, many important problems can be shown to have more efficient solutions. These include various types \n",
              "of integer programming problems in operations research, many problems in logistics, protein structure prediction in\n",
              "biology, and the ability to find formal proofs of pure mathematics theorems. The P versus NP problem is one of the \n",
              "Millennium Prize Problems proposed by the Clay Mathematics Institute. There is a US$1,000,000 prize for resolving \n",
              "the problem.', 'What intractability means in practice is open to debate. Saying that a problem is not in P does not\n",
              "imply that all large cases of the problem are hard or even that most of them are. For example, the decision problem\n",
              "in Presburger arithmetic has been shown not to be in P, yet algorithms have been written that solve the problem in \n",
              "reasonable times in most cases. Similarly, algorithms can solve the NP-complete knapsack problem over a wide range \n",
              "of sizes in less than quadratic time and SAT solvers routinely handle large instances of the NP-complete Boolean \n",
              "satisfiability problem.']\n"
            ]
          },
          "metadata": {},
          "output_type": "display_data"
        },
        {
          "data": {
            "text/html": [
              "<pre style=\"white-space:pre;overflow-x:auto;line-height:normal;font-family:Menlo,'DejaVu Sans Mono',consolas,'Courier New',monospace\">\n",
              "</pre>\n"
            ],
            "text/plain": [
              "\n"
            ]
          },
          "metadata": {},
          "output_type": "display_data"
        },
        {
          "data": {
            "text/html": [
              "<pre style=\"white-space:pre;overflow-x:auto;line-height:normal;font-family:Menlo,'DejaVu Sans Mono',consolas,'Courier New',monospace\">======================================================================\n",
              "</pre>\n"
            ],
            "text/plain": [
              "======================================================================\n"
            ]
          },
          "metadata": {},
          "output_type": "display_data"
        },
        {
          "data": {
            "text/html": [
              "<pre style=\"white-space:pre;overflow-x:auto;line-height:normal;font-family:Menlo,'DejaVu Sans Mono',consolas,'Courier New',monospace\">\n",
              "</pre>\n"
            ],
            "text/plain": [
              "\n"
            ]
          },
          "metadata": {},
          "output_type": "display_data"
        },
        {
          "data": {
            "text/html": [
              "<pre style=\"white-space:pre;overflow-x:auto;line-height:normal;font-family:Menlo,'DejaVu Sans Mono',consolas,'Courier New',monospace\">Metrics Summary\n",
              "</pre>\n"
            ],
            "text/plain": [
              "Metrics Summary\n"
            ]
          },
          "metadata": {},
          "output_type": "display_data"
        },
        {
          "data": {
            "text/html": [
              "<pre style=\"white-space:pre;overflow-x:auto;line-height:normal;font-family:Menlo,'DejaVu Sans Mono',consolas,'Courier New',monospace\">\n",
              "</pre>\n"
            ],
            "text/plain": [
              "\n"
            ]
          },
          "metadata": {},
          "output_type": "display_data"
        },
        {
          "data": {
            "text/html": [
              "<pre style=\"white-space:pre;overflow-x:auto;line-height:normal;font-family:Menlo,'DejaVu Sans Mono',consolas,'Courier New',monospace\">  - ✅ Answer Relevancy (score: 0.2, threshold: 0.0, evaluation model: gpt-4, reason: The score is 0.20 because \n",
              "while the answer does mention a location in the upper part, it is not related to the original question about a \n",
              "Californio. The answer also includes irrelevant information about the Ill, the Upper Rhine Plain, and the Rhine, \n",
              "which are not related to the question. The score is not zero because the concept of a location in the upper part is\n",
              "addressed.)\n",
              "</pre>\n"
            ],
            "text/plain": [
              "  - ✅ Answer Relevancy (score: 0.2, threshold: 0.0, evaluation model: gpt-4, reason: The score is 0.20 because \n",
              "while the answer does mention a location in the upper part, it is not related to the original question about a \n",
              "Californio. The answer also includes irrelevant information about the Ill, the Upper Rhine Plain, and the Rhine, \n",
              "which are not related to the question. The score is not zero because the concept of a location in the upper part is\n",
              "addressed.)\n"
            ]
          },
          "metadata": {},
          "output_type": "display_data"
        },
        {
          "data": {
            "text/html": [
              "<pre style=\"white-space:pre;overflow-x:auto;line-height:normal;font-family:Menlo,'DejaVu Sans Mono',consolas,'Courier New',monospace\">\n",
              "</pre>\n"
            ],
            "text/plain": [
              "\n"
            ]
          },
          "metadata": {},
          "output_type": "display_data"
        },
        {
          "data": {
            "text/html": [
              "<pre style=\"white-space:pre;overflow-x:auto;line-height:normal;font-family:Menlo,'DejaVu Sans Mono',consolas,'Courier New',monospace\">For test case:\n",
              "</pre>\n"
            ],
            "text/plain": [
              "For test case:\n"
            ]
          },
          "metadata": {},
          "output_type": "display_data"
        },
        {
          "data": {
            "text/html": [
              "<pre style=\"white-space:pre;overflow-x:auto;line-height:normal;font-family:Menlo,'DejaVu Sans Mono',consolas,'Courier New',monospace\">\n",
              "</pre>\n"
            ],
            "text/plain": [
              "\n"
            ]
          },
          "metadata": {},
          "output_type": "display_data"
        },
        {
          "data": {
            "text/html": [
              "<pre style=\"white-space:pre;overflow-x:auto;line-height:normal;font-family:Menlo,'DejaVu Sans Mono',consolas,'Courier New',monospace\">  - input: Which Californio is located in the upper part?\n",
              "</pre>\n"
            ],
            "text/plain": [
              "  - input: Which Californio is located in the upper part?\n"
            ]
          },
          "metadata": {},
          "output_type": "display_data"
        },
        {
          "data": {
            "text/html": [
              "<pre style=\"white-space:pre;overflow-x:auto;line-height:normal;font-family:Menlo,'DejaVu Sans Mono',consolas,'Courier New',monospace\">  - actual output: The Californio located in the upper part is the Ill below of Strasbourg.\n",
              "</pre>\n"
            ],
            "text/plain": [
              "  - actual output: The Californio located in the upper part is the Ill below of Strasbourg.\n"
            ]
          },
          "metadata": {},
          "output_type": "display_data"
        },
        {
          "data": {
            "text/html": [
              "<pre style=\"white-space:pre;overflow-x:auto;line-height:normal;font-family:Menlo,'DejaVu Sans Mono',consolas,'Courier New',monospace\">  - expected output: None\n",
              "</pre>\n"
            ],
            "text/plain": [
              "  - expected output: None\n"
            ]
          },
          "metadata": {},
          "output_type": "display_data"
        },
        {
          "data": {
            "text/html": [
              "<pre style=\"white-space:pre;overflow-x:auto;line-height:normal;font-family:Menlo,'DejaVu Sans Mono',consolas,'Courier New',monospace\">  - context: None\n",
              "</pre>\n"
            ],
            "text/plain": [
              "  - context: None\n"
            ]
          },
          "metadata": {},
          "output_type": "display_data"
        },
        {
          "data": {
            "text/html": [
              "<pre style=\"white-space:pre;overflow-x:auto;line-height:normal;font-family:Menlo,'DejaVu Sans Mono',consolas,'Courier New',monospace\">  - retrieval context: ['In the centre of Basel, the first major city in the course of the stream, is located the \n",
              "\"Rhine knee\"; this is a major bend, where the overall direction of the Rhine changes from West to North. Here the \n",
              "High Rhine ends. Legally, the Central Bridge is the boundary between High and Upper Rhine. The river now flows \n",
              "North as Upper Rhine through the Upper Rhine Plain, which is about 300 km long and up to 40 km wide. The most \n",
              "important tributaries in this area are the Ill below of Strasbourg, the Neckar in Mannheim and the Main across from\n",
              "Mainz. In Mainz, the Rhine leaves the Upper Rhine Valley and flows through the Mainz Basin.', 'From the death of \n",
              "Augustus in AD 14 until after AD 70, Rome accepted as her Germanic frontier the water-boundary of the Rhine and \n",
              "upper Danube. Beyond these rivers she held only the fertile plain of Frankfurt, opposite the Roman border fortress \n",
              "of Moguntiacum (Mainz), the southernmost slopes of the Black Forest and a few scattered bridge-heads. The northern \n",
              "section of this frontier, where the Rhine is deep and broad, remained the Roman boundary until the empire fell. The\n",
              "southern part was different. The upper Rhine and upper Danube are easily crossed. The frontier which they form is \n",
              "inconveniently long, enclosing an acute-angled wedge of foreign territory between the modern Baden and Württemberg.\n",
              "The Germanic populations of these lands seem in Roman times to have been scanty, and Roman subjects from the modern\n",
              "Alsace-Lorraine had drifted across the river eastwards.', \"In the 1960s, a series of discoveries, the most \n",
              "important of which was seafloor spreading, showed that the Earth's lithosphere, which includes the crust and rigid \n",
              "uppermost portion of the upper mantle, is separated into a number of tectonic plates that move across the \n",
              "plastically deforming, solid, upper mantle, which is called the asthenosphere. There is an intimate coupling \n",
              "between the movement of the plates on the surface and the convection of the mantle: oceanic plate motions and \n",
              "mantle convection currents always move in the same direction, because the oceanic lithosphere is the rigid upper \n",
              "thermal boundary layer of the convecting mantle. This coupling between rigid plates moving on the surface of the \n",
              "Earth and the convecting mantle is called plate tectonics.\"]\n",
              "</pre>\n"
            ],
            "text/plain": [
              "  - retrieval context: ['In the centre of Basel, the first major city in the course of the stream, is located the \n",
              "\"Rhine knee\"; this is a major bend, where the overall direction of the Rhine changes from West to North. Here the \n",
              "High Rhine ends. Legally, the Central Bridge is the boundary between High and Upper Rhine. The river now flows \n",
              "North as Upper Rhine through the Upper Rhine Plain, which is about 300 km long and up to 40 km wide. The most \n",
              "important tributaries in this area are the Ill below of Strasbourg, the Neckar in Mannheim and the Main across from\n",
              "Mainz. In Mainz, the Rhine leaves the Upper Rhine Valley and flows through the Mainz Basin.', 'From the death of \n",
              "Augustus in AD 14 until after AD 70, Rome accepted as her Germanic frontier the water-boundary of the Rhine and \n",
              "upper Danube. Beyond these rivers she held only the fertile plain of Frankfurt, opposite the Roman border fortress \n",
              "of Moguntiacum (Mainz), the southernmost slopes of the Black Forest and a few scattered bridge-heads. The northern \n",
              "section of this frontier, where the Rhine is deep and broad, remained the Roman boundary until the empire fell. The\n",
              "southern part was different. The upper Rhine and upper Danube are easily crossed. The frontier which they form is \n",
              "inconveniently long, enclosing an acute-angled wedge of foreign territory between the modern Baden and Württemberg.\n",
              "The Germanic populations of these lands seem in Roman times to have been scanty, and Roman subjects from the modern\n",
              "Alsace-Lorraine had drifted across the river eastwards.', \"In the 1960s, a series of discoveries, the most \n",
              "important of which was seafloor spreading, showed that the Earth's lithosphere, which includes the crust and rigid \n",
              "uppermost portion of the upper mantle, is separated into a number of tectonic plates that move across the \n",
              "plastically deforming, solid, upper mantle, which is called the asthenosphere. There is an intimate coupling \n",
              "between the movement of the plates on the surface and the convection of the mantle: oceanic plate motions and \n",
              "mantle convection currents always move in the same direction, because the oceanic lithosphere is the rigid upper \n",
              "thermal boundary layer of the convecting mantle. This coupling between rigid plates moving on the surface of the \n",
              "Earth and the convecting mantle is called plate tectonics.\"]\n"
            ]
          },
          "metadata": {},
          "output_type": "display_data"
        },
        {
          "data": {
            "text/html": [
              "<pre style=\"white-space:pre;overflow-x:auto;line-height:normal;font-family:Menlo,'DejaVu Sans Mono',consolas,'Courier New',monospace\">✅ Tests finished! Run <span style=\"color: #008000; text-decoration-color: #008000\">\"deepeval login\"</span> to view evaluation results on the web.\n",
              "</pre>\n"
            ],
            "text/plain": [
              "✅ Tests finished! Run \u001b[32m\"deepeval login\"\u001b[0m to view evaluation results on the web.\n"
            ]
          },
          "metadata": {},
          "output_type": "display_data"
        },
        {
          "data": {
            "text/html": [
              "<pre style=\"white-space:pre;overflow-x:auto;line-height:normal;font-family:Menlo,'DejaVu Sans Mono',consolas,'Courier New',monospace\"></pre>\n"
            ],
            "text/plain": []
          },
          "metadata": {},
          "output_type": "display_data"
        },
        {
          "data": {
            "text/html": [
              "<pre style=\"white-space:pre;overflow-x:auto;line-height:normal;font-family:Menlo,'DejaVu Sans Mono',consolas,'Courier New',monospace\">\n",
              "</pre>\n"
            ],
            "text/plain": [
              "\n"
            ]
          },
          "metadata": {},
          "output_type": "display_data"
        },
        {
          "name": "stdout",
          "output_type": "stream",
          "text": [
            "[[{'name': 'answer_relevancy', 'score': 0.3333333333333333, 'explanation': \"The score is 0.33 because the answer correctly identifies the Tehachapi mountain range as the influence for the split of the regions in California. However, the score is not higher because the majority of the points presented in the answer, including details about AAA Auto Clubs, orogenic wedges, numerical models, and Victoria's temperature records, are irrelevant to the original question.\"}], [{'name': 'answer_relevancy', 'score': 0.5, 'explanation': 'The score is 0.50 because while the answer did provide the correct information about the prize amount for solving the P=NP problem, it also included unnecessary details about the significance of the P=NP problem itself, which was not asked for in the question.'}], [{'name': 'answer_relevancy', 'score': 0.2, 'explanation': 'The score is 0.20 because while the answer does mention a location in the upper part, it is not related to the original question about a Californio. The answer also includes irrelevant information about the Ill, the Upper Rhine Plain, and the Rhine, which are not related to the question. The score is not zero because the concept of a location in the upper part is addressed.'}]]\n"
          ]
        }
      ],
      "source": [
        "evaluation_results = answer_relevancy_pipeline.run(\n",
        "    {\"evaluator\": {\"questions\": questions, \"responses\": responses, \"contexts\": contexts}}\n",
        ")\n",
        "print(evaluation_results[\"evaluator\"][\"results\"])"
      ]
    },
    {
      "cell_type": "markdown",
      "metadata": {
        "id": "j6vX1z8iyswB"
      },
      "source": [
        "#### Note\n",
        "\n",
        "When this notebook was created, the version 0.20.57 of [deepeval](https://github.com/confident-ai/deepeval/tree/v0.20.57) required the use of contexts for calculating Answer Relevancy. Please note that future versions will no longer require the context field. Specifically, the upcoming release of deepeval-haystack will eliminate the context field as a mandatory requirement."
      ]
    },
    {
      "cell_type": "markdown",
      "metadata": {
        "id": "yJFAehqJD6fB"
      },
      "source": [
        "### Faithfulness\n",
        "\n",
        "The faithfulness metric measures the quality of our RAG pipeline's responses by evaluating whether the response factually aligns with the contents of context we provided."
      ]
    },
    {
      "cell_type": "code",
      "execution_count": 45,
      "metadata": {
        "id": "HYtc-Y-_NpbG"
      },
      "outputs": [],
      "source": [
        "from haystack import Pipeline\n",
        "from haystack_integrations.components.evaluators.deepeval import DeepEvalEvaluator, DeepEvalMetric\n",
        "\n",
        "faithfulness_pipeline = Pipeline()\n",
        "evaluator = DeepEvalEvaluator(metric=DeepEvalMetric.FAITHFULNESS, metric_params={\"model\":\"gpt-4\"} )\n",
        "faithfulness_pipeline.add_component(\"evaluator\", evaluator)\n"
      ]
    },
    {
      "cell_type": "code",
      "execution_count": 46,
      "metadata": {
        "colab": {
          "base_uri": "https://localhost:8080/",
          "height": 1000,
          "referenced_widgets": [
            "c0358b409098420da7bfe302f9f48c5c",
            "ebf2e2e45d53410e9126677c1cf61267",
            "bb98efd743c84bdab5cb275e3ac8e6b9",
            "167d5d9446f04530babc624ca48befb1",
            "5ae8eaa505ca48ad8eee06b8175c5a98",
            "cc764ae9496f45b39a3a5b40029b9196",
            "a3b496d277f74df69464a5e9dda63c23",
            "98c3859bfe82482e87d5798eddd51f61"
          ]
        },
        "id": "o7obq_DSNsKo",
        "outputId": "fa62e280-e110-446c-e900-9c936ae5aeaa"
      },
      "outputs": [
        {
          "data": {
            "application/vnd.jupyter.widget-view+json": {
              "model_id": "c0358b409098420da7bfe302f9f48c5c",
              "version_major": 2,
              "version_minor": 0
            },
            "text/plain": [
              "Output()"
            ]
          },
          "metadata": {},
          "output_type": "display_data"
        },
        {
          "data": {
            "application/vnd.jupyter.widget-view+json": {
              "model_id": "bb98efd743c84bdab5cb275e3ac8e6b9",
              "version_major": 2,
              "version_minor": 0
            },
            "text/plain": [
              "Output()"
            ]
          },
          "metadata": {},
          "output_type": "display_data"
        },
        {
          "data": {
            "text/html": [
              "<pre style=\"white-space:pre;overflow-x:auto;line-height:normal;font-family:Menlo,'DejaVu Sans Mono',consolas,'Courier New',monospace\"></pre>\n"
            ],
            "text/plain": []
          },
          "metadata": {},
          "output_type": "display_data"
        },
        {
          "data": {
            "text/html": [
              "<pre style=\"white-space:pre;overflow-x:auto;line-height:normal;font-family:Menlo,'DejaVu Sans Mono',consolas,'Courier New',monospace\">\n",
              "</pre>\n"
            ],
            "text/plain": [
              "\n"
            ]
          },
          "metadata": {},
          "output_type": "display_data"
        },
        {
          "data": {
            "application/vnd.jupyter.widget-view+json": {
              "model_id": "5ae8eaa505ca48ad8eee06b8175c5a98",
              "version_major": 2,
              "version_minor": 0
            },
            "text/plain": [
              "Output()"
            ]
          },
          "metadata": {},
          "output_type": "display_data"
        },
        {
          "data": {
            "text/html": [
              "<pre style=\"white-space:pre;overflow-x:auto;line-height:normal;font-family:Menlo,'DejaVu Sans Mono',consolas,'Courier New',monospace\"></pre>\n"
            ],
            "text/plain": []
          },
          "metadata": {},
          "output_type": "display_data"
        },
        {
          "data": {
            "text/html": [
              "<pre style=\"white-space:pre;overflow-x:auto;line-height:normal;font-family:Menlo,'DejaVu Sans Mono',consolas,'Courier New',monospace\">\n",
              "</pre>\n"
            ],
            "text/plain": [
              "\n"
            ]
          },
          "metadata": {},
          "output_type": "display_data"
        },
        {
          "data": {
            "application/vnd.jupyter.widget-view+json": {
              "model_id": "a3b496d277f74df69464a5e9dda63c23",
              "version_major": 2,
              "version_minor": 0
            },
            "text/plain": [
              "Output()"
            ]
          },
          "metadata": {},
          "output_type": "display_data"
        },
        {
          "data": {
            "text/html": [
              "<pre style=\"white-space:pre;overflow-x:auto;line-height:normal;font-family:Menlo,'DejaVu Sans Mono',consolas,'Courier New',monospace\"></pre>\n"
            ],
            "text/plain": []
          },
          "metadata": {},
          "output_type": "display_data"
        },
        {
          "data": {
            "text/html": [
              "<pre style=\"white-space:pre;overflow-x:auto;line-height:normal;font-family:Menlo,'DejaVu Sans Mono',consolas,'Courier New',monospace\">\n",
              "</pre>\n"
            ],
            "text/plain": [
              "\n"
            ]
          },
          "metadata": {},
          "output_type": "display_data"
        },
        {
          "data": {
            "text/html": [
              "<pre style=\"white-space:pre;overflow-x:auto;line-height:normal;font-family:Menlo,'DejaVu Sans Mono',consolas,'Courier New',monospace\">\n",
              "</pre>\n"
            ],
            "text/plain": [
              "\n"
            ]
          },
          "metadata": {},
          "output_type": "display_data"
        },
        {
          "data": {
            "text/html": [
              "<pre style=\"white-space:pre;overflow-x:auto;line-height:normal;font-family:Menlo,'DejaVu Sans Mono',consolas,'Courier New',monospace\">======================================================================\n",
              "</pre>\n"
            ],
            "text/plain": [
              "======================================================================\n"
            ]
          },
          "metadata": {},
          "output_type": "display_data"
        },
        {
          "data": {
            "text/html": [
              "<pre style=\"white-space:pre;overflow-x:auto;line-height:normal;font-family:Menlo,'DejaVu Sans Mono',consolas,'Courier New',monospace\">\n",
              "</pre>\n"
            ],
            "text/plain": [
              "\n"
            ]
          },
          "metadata": {},
          "output_type": "display_data"
        },
        {
          "data": {
            "text/html": [
              "<pre style=\"white-space:pre;overflow-x:auto;line-height:normal;font-family:Menlo,'DejaVu Sans Mono',consolas,'Courier New',monospace\">Metrics Summary\n",
              "</pre>\n"
            ],
            "text/plain": [
              "Metrics Summary\n"
            ]
          },
          "metadata": {},
          "output_type": "display_data"
        },
        {
          "data": {
            "text/html": [
              "<pre style=\"white-space:pre;overflow-x:auto;line-height:normal;font-family:Menlo,'DejaVu Sans Mono',consolas,'Courier New',monospace\">\n",
              "</pre>\n"
            ],
            "text/plain": [
              "\n"
            ]
          },
          "metadata": {},
          "output_type": "display_data"
        },
        {
          "data": {
            "text/html": [
              "<pre style=\"white-space:pre;overflow-x:auto;line-height:normal;font-family:Menlo,'DejaVu Sans Mono',consolas,'Courier New',monospace\">  - ✅ Faithfulness (score: 0.2631578947368421, threshold: 0.0, evaluation model: gpt-4, reason: The score is 0.26 \n",
              "because the actual output persistently mentions the Tehachapi mountain range influencing the split of regions in \n",
              "California, which is not addressed in the context of the discussions on orogenic wedges, numerical models, and \n",
              "their role in mountain building in the second node of the retrieval context. Additionally, the output is also \n",
              "unrelated to the third node of the retrieval context, which discusses about Victoria's warmest regions, the Mallee,\n",
              "and upper Wimmera, and their weather patterns.)\n",
              "</pre>\n"
            ],
            "text/plain": [
              "  - ✅ Faithfulness (score: 0.2631578947368421, threshold: 0.0, evaluation model: gpt-4, reason: The score is 0.26 \n",
              "because the actual output persistently mentions the Tehachapi mountain range influencing the split of regions in \n",
              "California, which is not addressed in the context of the discussions on orogenic wedges, numerical models, and \n",
              "their role in mountain building in the second node of the retrieval context. Additionally, the output is also \n",
              "unrelated to the third node of the retrieval context, which discusses about Victoria's warmest regions, the Mallee,\n",
              "and upper Wimmera, and their weather patterns.)\n"
            ]
          },
          "metadata": {},
          "output_type": "display_data"
        },
        {
          "data": {
            "text/html": [
              "<pre style=\"white-space:pre;overflow-x:auto;line-height:normal;font-family:Menlo,'DejaVu Sans Mono',consolas,'Courier New',monospace\">\n",
              "</pre>\n"
            ],
            "text/plain": [
              "\n"
            ]
          },
          "metadata": {},
          "output_type": "display_data"
        },
        {
          "data": {
            "text/html": [
              "<pre style=\"white-space:pre;overflow-x:auto;line-height:normal;font-family:Menlo,'DejaVu Sans Mono',consolas,'Courier New',monospace\">For test case:\n",
              "</pre>\n"
            ],
            "text/plain": [
              "For test case:\n"
            ]
          },
          "metadata": {},
          "output_type": "display_data"
        },
        {
          "data": {
            "text/html": [
              "<pre style=\"white-space:pre;overflow-x:auto;line-height:normal;font-family:Menlo,'DejaVu Sans Mono',consolas,'Courier New',monospace\">\n",
              "</pre>\n"
            ],
            "text/plain": [
              "\n"
            ]
          },
          "metadata": {},
          "output_type": "display_data"
        },
        {
          "data": {
            "text/html": [
              "<pre style=\"white-space:pre;overflow-x:auto;line-height:normal;font-family:Menlo,'DejaVu Sans Mono',consolas,'Courier New',monospace\">  - input: Which mountain range influenced the split of the regions?\n",
              "</pre>\n"
            ],
            "text/plain": [
              "  - input: Which mountain range influenced the split of the regions?\n"
            ]
          },
          "metadata": {},
          "output_type": "display_data"
        },
        {
          "data": {
            "text/html": [
              "<pre style=\"white-space:pre;overflow-x:auto;line-height:normal;font-family:Menlo,'DejaVu Sans Mono',consolas,'Courier New',monospace\">  - actual output: The Tehachapi mountain range influenced the split of the regions in California.\n",
              "</pre>\n"
            ],
            "text/plain": [
              "  - actual output: The Tehachapi mountain range influenced the split of the regions in California.\n"
            ]
          },
          "metadata": {},
          "output_type": "display_data"
        },
        {
          "data": {
            "text/html": [
              "<pre style=\"white-space:pre;overflow-x:auto;line-height:normal;font-family:Menlo,'DejaVu Sans Mono',consolas,'Courier New',monospace\">  - expected output: None\n",
              "</pre>\n"
            ],
            "text/plain": [
              "  - expected output: None\n"
            ]
          },
          "metadata": {},
          "output_type": "display_data"
        },
        {
          "data": {
            "text/html": [
              "<pre style=\"white-space:pre;overflow-x:auto;line-height:normal;font-family:Menlo,'DejaVu Sans Mono',consolas,'Courier New',monospace\">  - context: None\n",
              "</pre>\n"
            ],
            "text/plain": [
              "  - context: None\n"
            ]
          },
          "metadata": {},
          "output_type": "display_data"
        },
        {
          "data": {
            "text/html": [
              "<pre style=\"white-space:pre;overflow-x:auto;line-height:normal;font-family:Menlo,'DejaVu Sans Mono',consolas,'Courier New',monospace\">  - retrieval context: ['The state is most commonly divided and promoted by its regional tourism groups as \n",
              "consisting of northern, central, and southern California regions. The two AAA Auto Clubs of the state, the \n",
              "California State Automobile Association and the Automobile Club of Southern California, choose to simplify matters \n",
              "by dividing the state along the lines where their jurisdictions for membership apply, as either northern or \n",
              "southern California, in contrast to the three-region point of view. Another influence is the geographical phrase \n",
              "South of the Tehachapis, which would split the southern region off at the crest of that transverse range, but in \n",
              "that definition, the desert portions of north Los Angeles County and eastern Kern and San Bernardino Counties would\n",
              "be included in the southern California region due to their remoteness from the central valley and interior desert \n",
              "landscape.', 'Among the most well-known experiments in structural geology are those involving orogenic wedges, \n",
              "which are zones in which mountains are built along convergent tectonic plate boundaries. In the analog versions of \n",
              "these experiments, horizontal layers of sand are pulled along a lower surface into a back stop, which results in \n",
              "realistic-looking patterns of faulting and the growth of a critically tapered (all angles remain the same) orogenic\n",
              "wedge. Numerical models work in the same way as these analog models, though they are often more sophisticated and \n",
              "can include patterns of erosion and uplift in the mountain belt. This helps to show the relationship between \n",
              "erosion and the shape of the mountain range. These studies can also give useful information about pathways for \n",
              "metamorphism through pressure, temperature, space, and time.', \"The Mallee and upper Wimmera are Victoria's warmest\n",
              "regions with hot winds blowing from nearby semi-deserts. Average temperatures exceed 32 °C (90 °F) during summer \n",
              "and 15 °C (59 °F) in winter. Except at cool mountain elevations, the inland monthly temperatures are 2–7 °C (4–13 \n",
              "°F) warmer than around Melbourne (see chart). Victoria's highest maximum temperature since World War II, of 48.8 °C\n",
              "(119.8 °F) was recorded in Hopetoun on 7 February 2009, during the 2009 southeastern Australia heat wave.\"]\n",
              "</pre>\n"
            ],
            "text/plain": [
              "  - retrieval context: ['The state is most commonly divided and promoted by its regional tourism groups as \n",
              "consisting of northern, central, and southern California regions. The two AAA Auto Clubs of the state, the \n",
              "California State Automobile Association and the Automobile Club of Southern California, choose to simplify matters \n",
              "by dividing the state along the lines where their jurisdictions for membership apply, as either northern or \n",
              "southern California, in contrast to the three-region point of view. Another influence is the geographical phrase \n",
              "South of the Tehachapis, which would split the southern region off at the crest of that transverse range, but in \n",
              "that definition, the desert portions of north Los Angeles County and eastern Kern and San Bernardino Counties would\n",
              "be included in the southern California region due to their remoteness from the central valley and interior desert \n",
              "landscape.', 'Among the most well-known experiments in structural geology are those involving orogenic wedges, \n",
              "which are zones in which mountains are built along convergent tectonic plate boundaries. In the analog versions of \n",
              "these experiments, horizontal layers of sand are pulled along a lower surface into a back stop, which results in \n",
              "realistic-looking patterns of faulting and the growth of a critically tapered (all angles remain the same) orogenic\n",
              "wedge. Numerical models work in the same way as these analog models, though they are often more sophisticated and \n",
              "can include patterns of erosion and uplift in the mountain belt. This helps to show the relationship between \n",
              "erosion and the shape of the mountain range. These studies can also give useful information about pathways for \n",
              "metamorphism through pressure, temperature, space, and time.', \"The Mallee and upper Wimmera are Victoria's warmest\n",
              "regions with hot winds blowing from nearby semi-deserts. Average temperatures exceed 32 °C (90 °F) during summer \n",
              "and 15 °C (59 °F) in winter. Except at cool mountain elevations, the inland monthly temperatures are 2–7 °C (4–13 \n",
              "°F) warmer than around Melbourne (see chart). Victoria's highest maximum temperature since World War II, of 48.8 °C\n",
              "(119.8 °F) was recorded in Hopetoun on 7 February 2009, during the 2009 southeastern Australia heat wave.\"]\n"
            ]
          },
          "metadata": {},
          "output_type": "display_data"
        },
        {
          "data": {
            "text/html": [
              "<pre style=\"white-space:pre;overflow-x:auto;line-height:normal;font-family:Menlo,'DejaVu Sans Mono',consolas,'Courier New',monospace\">\n",
              "</pre>\n"
            ],
            "text/plain": [
              "\n"
            ]
          },
          "metadata": {},
          "output_type": "display_data"
        },
        {
          "data": {
            "text/html": [
              "<pre style=\"white-space:pre;overflow-x:auto;line-height:normal;font-family:Menlo,'DejaVu Sans Mono',consolas,'Courier New',monospace\">======================================================================\n",
              "</pre>\n"
            ],
            "text/plain": [
              "======================================================================\n"
            ]
          },
          "metadata": {},
          "output_type": "display_data"
        },
        {
          "data": {
            "text/html": [
              "<pre style=\"white-space:pre;overflow-x:auto;line-height:normal;font-family:Menlo,'DejaVu Sans Mono',consolas,'Courier New',monospace\">\n",
              "</pre>\n"
            ],
            "text/plain": [
              "\n"
            ]
          },
          "metadata": {},
          "output_type": "display_data"
        },
        {
          "data": {
            "text/html": [
              "<pre style=\"white-space:pre;overflow-x:auto;line-height:normal;font-family:Menlo,'DejaVu Sans Mono',consolas,'Courier New',monospace\">Metrics Summary\n",
              "</pre>\n"
            ],
            "text/plain": [
              "Metrics Summary\n"
            ]
          },
          "metadata": {},
          "output_type": "display_data"
        },
        {
          "data": {
            "text/html": [
              "<pre style=\"white-space:pre;overflow-x:auto;line-height:normal;font-family:Menlo,'DejaVu Sans Mono',consolas,'Courier New',monospace\">\n",
              "</pre>\n"
            ],
            "text/plain": [
              "\n"
            ]
          },
          "metadata": {},
          "output_type": "display_data"
        },
        {
          "data": {
            "text/html": [
              "<pre style=\"white-space:pre;overflow-x:auto;line-height:normal;font-family:Menlo,'DejaVu Sans Mono',consolas,'Courier New',monospace\">  - retrieval context: ['If a problem X is in C and hard for C, then X is said to be complete for C. This means \n",
              "that X is the hardest problem in C. (Since many problems could be equally hard, one might say that X is one of the \n",
              "hardest problems in C.) Thus the class of NP-complete problems contains the most difficult problems in NP, in the \n",
              "sense that they are the ones most likely not to be in P. Because the problem P = NP is not solved, being able to \n",
              "reduce a known NP-complete problem, Π2, to another problem, Π1, would indicate that there is no known \n",
              "polynomial-time solution for Π1. This is because a polynomial-time solution to Π1 would yield a polynomial-time \n",
              "solution to Π2. Similarly, because all NP problems can be reduced to the set, finding an NP-complete problem that \n",
              "can be solved in polynomial time would mean that P = NP.', 'The question of whether P equals NP is one of the most \n",
              "important open questions in theoretical computer science because of the wide implications of a solution. If the \n",
              "answer is yes, many important problems can be shown to have more efficient solutions. These include various types \n",
              "of integer programming problems in operations research, many problems in logistics, protein structure prediction in\n",
              "biology, and the ability to find formal proofs of pure mathematics theorems. The P versus NP problem is one of the \n",
              "Millennium Prize Problems proposed by the Clay Mathematics Institute. There is a US$1,000,000 prize for resolving \n",
              "the problem.', 'What intractability means in practice is open to debate. Saying that a problem is not in P does not\n",
              "imply that all large cases of the problem are hard or even that most of them are. For example, the decision problem\n",
              "in Presburger arithmetic has been shown not to be in P, yet algorithms have been written that solve the problem in \n",
              "reasonable times in most cases. Similarly, algorithms can solve the NP-complete knapsack problem over a wide range \n",
              "of sizes in less than quadratic time and SAT solvers routinely handle large instances of the NP-complete Boolean \n",
              "satisfiability problem.']\n",
              "</pre>\n"
            ],
            "text/plain": [
              "  - retrieval context: ['If a problem X is in C and hard for C, then X is said to be complete for C. This means \n",
              "that X is the hardest problem in C. (Since many problems could be equally hard, one might say that X is one of the \n",
              "hardest problems in C.) Thus the class of NP-complete problems contains the most difficult problems in NP, in the \n",
              "sense that they are the ones most likely not to be in P. Because the problem P = NP is not solved, being able to \n",
              "reduce a known NP-complete problem, Π2, to another problem, Π1, would indicate that there is no known \n",
              "polynomial-time solution for Π1. This is because a polynomial-time solution to Π1 would yield a polynomial-time \n",
              "solution to Π2. Similarly, because all NP problems can be reduced to the set, finding an NP-complete problem that \n",
              "can be solved in polynomial time would mean that P = NP.', 'The question of whether P equals NP is one of the most \n",
              "important open questions in theoretical computer science because of the wide implications of a solution. If the \n",
              "answer is yes, many important problems can be shown to have more efficient solutions. These include various types \n",
              "of integer programming problems in operations research, many problems in logistics, protein structure prediction in\n",
              "biology, and the ability to find formal proofs of pure mathematics theorems. The P versus NP problem is one of the \n",
              "Millennium Prize Problems proposed by the Clay Mathematics Institute. There is a US$1,000,000 prize for resolving \n",
              "the problem.', 'What intractability means in practice is open to debate. Saying that a problem is not in P does not\n",
              "imply that all large cases of the problem are hard or even that most of them are. For example, the decision problem\n",
              "in Presburger arithmetic has been shown not to be in P, yet algorithms have been written that solve the problem in \n",
              "reasonable times in most cases. Similarly, algorithms can solve the NP-complete knapsack problem over a wide range \n",
              "of sizes in less than quadratic time and SAT solvers routinely handle large instances of the NP-complete Boolean \n",
              "satisfiability problem.']\n"
            ]
          },
          "metadata": {},
          "output_type": "display_data"
        },
        {
          "data": {
            "text/html": [
              "<pre style=\"white-space:pre;overflow-x:auto;line-height:normal;font-family:Menlo,'DejaVu Sans Mono',consolas,'Courier New',monospace\">\n",
              "</pre>\n"
            ],
            "text/plain": [
              "\n"
            ]
          },
          "metadata": {},
          "output_type": "display_data"
        },
        {
          "data": {
            "text/html": [
              "<pre style=\"white-space:pre;overflow-x:auto;line-height:normal;font-family:Menlo,'DejaVu Sans Mono',consolas,'Courier New',monospace\">======================================================================\n",
              "</pre>\n"
            ],
            "text/plain": [
              "======================================================================\n"
            ]
          },
          "metadata": {},
          "output_type": "display_data"
        },
        {
          "data": {
            "text/html": [
              "<pre style=\"white-space:pre;overflow-x:auto;line-height:normal;font-family:Menlo,'DejaVu Sans Mono',consolas,'Courier New',monospace\">\n",
              "</pre>\n"
            ],
            "text/plain": [
              "\n"
            ]
          },
          "metadata": {},
          "output_type": "display_data"
        },
        {
          "data": {
            "text/html": [
              "<pre style=\"white-space:pre;overflow-x:auto;line-height:normal;font-family:Menlo,'DejaVu Sans Mono',consolas,'Courier New',monospace\">Metrics Summary\n",
              "</pre>\n"
            ],
            "text/plain": [
              "Metrics Summary\n"
            ]
          },
          "metadata": {},
          "output_type": "display_data"
        },
        {
          "data": {
            "text/html": [
              "<pre style=\"white-space:pre;overflow-x:auto;line-height:normal;font-family:Menlo,'DejaVu Sans Mono',consolas,'Courier New',monospace\">\n",
              "</pre>\n"
            ],
            "text/plain": [
              "\n"
            ]
          },
          "metadata": {},
          "output_type": "display_data"
        },
        {
          "data": {
            "text/html": [
              "<pre style=\"white-space:pre;overflow-x:auto;line-height:normal;font-family:Menlo,'DejaVu Sans Mono',consolas,'Courier New',monospace\">  - ✅ Faithfulness (score: 0.03571428571428571, threshold: 0.0, evaluation model: gpt-4, reason: The score is 0.04\n",
              "because the actual output is significantly unfaithful to the retrieval context. It completely ignores the series of\n",
              "discoveries made in the 1960s, tectonic plates, and their movement, seafloor spreading, components of the Earth's \n",
              "lithosphere, and other related concepts as stated in the first node. Additionally, it incorrectly references \n",
              "'Californio' and 'Strasbourg' which contradict the context of the Rhine knee and the geographical information \n",
              "provided in the second node. It also inaccurately mentions 'Californio' and 'Strasbourg' in the context of Rome and\n",
              "its historical and geographical facts from the third node.)\n",
              "</pre>\n"
            ],
            "text/plain": [
              "  - ✅ Faithfulness (score: 0.03571428571428571, threshold: 0.0, evaluation model: gpt-4, reason: The score is 0.04\n",
              "because the actual output is significantly unfaithful to the retrieval context. It completely ignores the series of\n",
              "discoveries made in the 1960s, tectonic plates, and their movement, seafloor spreading, components of the Earth's \n",
              "lithosphere, and other related concepts as stated in the first node. Additionally, it incorrectly references \n",
              "'Californio' and 'Strasbourg' which contradict the context of the Rhine knee and the geographical information \n",
              "provided in the second node. It also inaccurately mentions 'Californio' and 'Strasbourg' in the context of Rome and\n",
              "its historical and geographical facts from the third node.)\n"
            ]
          },
          "metadata": {},
          "output_type": "display_data"
        },
        {
          "data": {
            "text/html": [
              "<pre style=\"white-space:pre;overflow-x:auto;line-height:normal;font-family:Menlo,'DejaVu Sans Mono',consolas,'Courier New',monospace\">\n",
              "</pre>\n"
            ],
            "text/plain": [
              "\n"
            ]
          },
          "metadata": {},
          "output_type": "display_data"
        },
        {
          "data": {
            "text/html": [
              "<pre style=\"white-space:pre;overflow-x:auto;line-height:normal;font-family:Menlo,'DejaVu Sans Mono',consolas,'Courier New',monospace\">For test case:\n",
              "</pre>\n"
            ],
            "text/plain": [
              "For test case:\n"
            ]
          },
          "metadata": {},
          "output_type": "display_data"
        },
        {
          "data": {
            "text/html": [
              "<pre style=\"white-space:pre;overflow-x:auto;line-height:normal;font-family:Menlo,'DejaVu Sans Mono',consolas,'Courier New',monospace\">\n",
              "</pre>\n"
            ],
            "text/plain": [
              "\n"
            ]
          },
          "metadata": {},
          "output_type": "display_data"
        },
        {
          "data": {
            "text/html": [
              "<pre style=\"white-space:pre;overflow-x:auto;line-height:normal;font-family:Menlo,'DejaVu Sans Mono',consolas,'Courier New',monospace\">  - input: Which Californio is located in the upper part?\n",
              "</pre>\n"
            ],
            "text/plain": [
              "  - input: Which Californio is located in the upper part?\n"
            ]
          },
          "metadata": {},
          "output_type": "display_data"
        },
        {
          "data": {
            "text/html": [
              "<pre style=\"white-space:pre;overflow-x:auto;line-height:normal;font-family:Menlo,'DejaVu Sans Mono',consolas,'Courier New',monospace\">  - actual output: The Californio located in the upper part is the Ill below of Strasbourg.\n",
              "</pre>\n"
            ],
            "text/plain": [
              "  - actual output: The Californio located in the upper part is the Ill below of Strasbourg.\n"
            ]
          },
          "metadata": {},
          "output_type": "display_data"
        },
        {
          "data": {
            "text/html": [
              "<pre style=\"white-space:pre;overflow-x:auto;line-height:normal;font-family:Menlo,'DejaVu Sans Mono',consolas,'Courier New',monospace\">  - expected output: None\n",
              "</pre>\n"
            ],
            "text/plain": [
              "  - expected output: None\n"
            ]
          },
          "metadata": {},
          "output_type": "display_data"
        },
        {
          "data": {
            "text/html": [
              "<pre style=\"white-space:pre;overflow-x:auto;line-height:normal;font-family:Menlo,'DejaVu Sans Mono',consolas,'Courier New',monospace\">  - context: None\n",
              "</pre>\n"
            ],
            "text/plain": [
              "  - context: None\n"
            ]
          },
          "metadata": {},
          "output_type": "display_data"
        },
        {
          "data": {
            "text/html": [
              "<pre style=\"white-space:pre;overflow-x:auto;line-height:normal;font-family:Menlo,'DejaVu Sans Mono',consolas,'Courier New',monospace\">  - retrieval context: ['In the centre of Basel, the first major city in the course of the stream, is located the \n",
              "\"Rhine knee\"; this is a major bend, where the overall direction of the Rhine changes from West to North. Here the \n",
              "High Rhine ends. Legally, the Central Bridge is the boundary between High and Upper Rhine. The river now flows \n",
              "North as Upper Rhine through the Upper Rhine Plain, which is about 300 km long and up to 40 km wide. The most \n",
              "important tributaries in this area are the Ill below of Strasbourg, the Neckar in Mannheim and the Main across from\n",
              "Mainz. In Mainz, the Rhine leaves the Upper Rhine Valley and flows through the Mainz Basin.', 'From the death of \n",
              "Augustus in AD 14 until after AD 70, Rome accepted as her Germanic frontier the water-boundary of the Rhine and \n",
              "upper Danube. Beyond these rivers she held only the fertile plain of Frankfurt, opposite the Roman border fortress \n",
              "of Moguntiacum (Mainz), the southernmost slopes of the Black Forest and a few scattered bridge-heads. The northern \n",
              "section of this frontier, where the Rhine is deep and broad, remained the Roman boundary until the empire fell. The\n",
              "southern part was different. The upper Rhine and upper Danube are easily crossed. The frontier which they form is \n",
              "inconveniently long, enclosing an acute-angled wedge of foreign territory between the modern Baden and Württemberg.\n",
              "The Germanic populations of these lands seem in Roman times to have been scanty, and Roman subjects from the modern\n",
              "Alsace-Lorraine had drifted across the river eastwards.', \"In the 1960s, a series of discoveries, the most \n",
              "important of which was seafloor spreading, showed that the Earth's lithosphere, which includes the crust and rigid \n",
              "uppermost portion of the upper mantle, is separated into a number of tectonic plates that move across the \n",
              "plastically deforming, solid, upper mantle, which is called the asthenosphere. There is an intimate coupling \n",
              "between the movement of the plates on the surface and the convection of the mantle: oceanic plate motions and \n",
              "mantle convection currents always move in the same direction, because the oceanic lithosphere is the rigid upper \n",
              "thermal boundary layer of the convecting mantle. This coupling between rigid plates moving on the surface of the \n",
              "Earth and the convecting mantle is called plate tectonics.\"]\n",
              "</pre>\n"
            ],
            "text/plain": [
              "  - retrieval context: ['In the centre of Basel, the first major city in the course of the stream, is located the \n",
              "\"Rhine knee\"; this is a major bend, where the overall direction of the Rhine changes from West to North. Here the \n",
              "High Rhine ends. Legally, the Central Bridge is the boundary between High and Upper Rhine. The river now flows \n",
              "North as Upper Rhine through the Upper Rhine Plain, which is about 300 km long and up to 40 km wide. The most \n",
              "important tributaries in this area are the Ill below of Strasbourg, the Neckar in Mannheim and the Main across from\n",
              "Mainz. In Mainz, the Rhine leaves the Upper Rhine Valley and flows through the Mainz Basin.', 'From the death of \n",
              "Augustus in AD 14 until after AD 70, Rome accepted as her Germanic frontier the water-boundary of the Rhine and \n",
              "upper Danube. Beyond these rivers she held only the fertile plain of Frankfurt, opposite the Roman border fortress \n",
              "of Moguntiacum (Mainz), the southernmost slopes of the Black Forest and a few scattered bridge-heads. The northern \n",
              "section of this frontier, where the Rhine is deep and broad, remained the Roman boundary until the empire fell. The\n",
              "southern part was different. The upper Rhine and upper Danube are easily crossed. The frontier which they form is \n",
              "inconveniently long, enclosing an acute-angled wedge of foreign territory between the modern Baden and Württemberg.\n",
              "The Germanic populations of these lands seem in Roman times to have been scanty, and Roman subjects from the modern\n",
              "Alsace-Lorraine had drifted across the river eastwards.', \"In the 1960s, a series of discoveries, the most \n",
              "important of which was seafloor spreading, showed that the Earth's lithosphere, which includes the crust and rigid \n",
              "uppermost portion of the upper mantle, is separated into a number of tectonic plates that move across the \n",
              "plastically deforming, solid, upper mantle, which is called the asthenosphere. There is an intimate coupling \n",
              "between the movement of the plates on the surface and the convection of the mantle: oceanic plate motions and \n",
              "mantle convection currents always move in the same direction, because the oceanic lithosphere is the rigid upper \n",
              "thermal boundary layer of the convecting mantle. This coupling between rigid plates moving on the surface of the \n",
              "Earth and the convecting mantle is called plate tectonics.\"]\n"
            ]
          },
          "metadata": {},
          "output_type": "display_data"
        },
        {
          "data": {
            "text/html": [
              "<pre style=\"white-space:pre;overflow-x:auto;line-height:normal;font-family:Menlo,'DejaVu Sans Mono',consolas,'Courier New',monospace\">\n",
              "</pre>\n"
            ],
            "text/plain": [
              "\n"
            ]
          },
          "metadata": {},
          "output_type": "display_data"
        },
        {
          "data": {
            "text/html": [
              "<pre style=\"white-space:pre;overflow-x:auto;line-height:normal;font-family:Menlo,'DejaVu Sans Mono',consolas,'Courier New',monospace\">----------------------------------------------------------------------\n",
              "</pre>\n"
            ],
            "text/plain": [
              "----------------------------------------------------------------------\n"
            ]
          },
          "metadata": {},
          "output_type": "display_data"
        },
        {
          "data": {
            "text/html": [
              "<pre style=\"white-space:pre;overflow-x:auto;line-height:normal;font-family:Menlo,'DejaVu Sans Mono',consolas,'Courier New',monospace\">✅ Tests finished! Run <span style=\"color: #008000; text-decoration-color: #008000\">\"deepeval login\"</span> to view evaluation results on the web.\n",
              "</pre>\n"
            ],
            "text/plain": [
              "✅ Tests finished! Run \u001b[32m\"deepeval login\"\u001b[0m to view evaluation results on the web.\n"
            ]
          },
          "metadata": {},
          "output_type": "display_data"
        },
        {
          "data": {
            "text/html": [
              "<pre style=\"white-space:pre;overflow-x:auto;line-height:normal;font-family:Menlo,'DejaVu Sans Mono',consolas,'Courier New',monospace\"></pre>\n"
            ],
            "text/plain": []
          },
          "metadata": {},
          "output_type": "display_data"
        },
        {
          "data": {
            "text/html": [
              "<pre style=\"white-space:pre;overflow-x:auto;line-height:normal;font-family:Menlo,'DejaVu Sans Mono',consolas,'Courier New',monospace\">\n",
              "</pre>\n"
            ],
            "text/plain": [
              "\n"
            ]
          },
          "metadata": {},
          "output_type": "display_data"
        },
        {
          "name": "stdout",
          "output_type": "stream",
          "text": [
            "[[{'name': 'faithfulness', 'score': 0.2631578947368421, 'explanation': \"The score is 0.26 because the actual output persistently mentions the Tehachapi mountain range influencing the split of regions in California, which is not addressed in the context of the discussions on orogenic wedges, numerical models, and their role in mountain building in the second node of the retrieval context. Additionally, the output is also unrelated to the third node of the retrieval context, which discusses about Victoria's warmest regions, the Mallee, and upper Wimmera, and their weather patterns.\"}], [{'name': 'faithfulness', 'score': 1.0, 'explanation': 'The score is 1.00 because the actual output perfectly aligns with all the nodes in the retrieval context, without any contradictions.'}], [{'name': 'faithfulness', 'score': 0.03571428571428571, 'explanation': \"The score is 0.04 because the actual output is significantly unfaithful to the retrieval context. It completely ignores the series of discoveries made in the 1960s, tectonic plates, and their movement, seafloor spreading, components of the Earth's lithosphere, and other related concepts as stated in the first node. Additionally, it incorrectly references 'Californio' and 'Strasbourg' which contradict the context of the Rhine knee and the geographical information provided in the second node. It also inaccurately mentions 'Californio' and 'Strasbourg' in the context of Rome and its historical and geographical facts from the third node.\"}]]\n"
          ]
        }
      ],
      "source": [
        "evaluation_results = faithfulness_pipeline.run(\n",
        "    {\"evaluator\": {\"questions\": questions, \"contexts\": contexts, \"responses\": responses}}\n",
        ")\n",
        "print(evaluation_results[\"evaluator\"][\"results\"])"
      ]
    },
    {
      "cell_type": "markdown",
      "metadata": {
        "id": "GkHTvZ5lIGI7"
      },
      "source": [
        "**Our pipeline evaluation using DeepEval is now complete!**"
      ]
    },
    {
      "cell_type": "markdown",
      "metadata": {
        "id": "L0EnH7dbFT3i"
      },
      "source": [
        "**Haystack Useful Sources**\n",
        "\n",
        "* [Docs](https://docs.haystack.deepset.ai/docs/intro)\n",
        "* [Tutorials](https://haystack.deepset.ai/tutorials)\n",
        "* [Other Cookbooks](https://github.com/deepset-ai/haystack-cookbook)"
      ]
    }
  ],
  "metadata": {
    "colab": {
      "provenance": []
    },
    "kernelspec": {
      "display_name": "Python 3",
      "name": "python3"
    },
    "language_info": {
      "name": "python"
    },
    "widgets": {
      "application/vnd.jupyter.widget-state+json": {
        "0562644fed5f48e8ad9732ef1147ddd9": {
          "model_module": "@jupyter-widgets/controls",
          "model_module_version": "1.5.0",
          "model_name": "HTMLModel",
          "state": {
            "_dom_classes": [],
            "_model_module": "@jupyter-widgets/controls",
            "_model_module_version": "1.5.0",
            "_model_name": "HTMLModel",
            "_view_count": null,
            "_view_module": "@jupyter-widgets/controls",
            "_view_module_version": "1.5.0",
            "_view_name": "HTMLView",
            "description": "",
            "description_tooltip": null,
            "layout": "IPY_MODEL_b80967d207704c66ac86d4b7bfb8a8c6",
            "placeholder": "​",
            "style": "IPY_MODEL_32578965fe954d3e906a4e169a4ab018",
            "value": "Downloading data: 100%"
          }
        },
        "07902c894aec4233887a1a903b0f112b": {
          "model_module": "@jupyter-widgets/controls",
          "model_module_version": "1.5.0",
          "model_name": "HTMLModel",
          "state": {
            "_dom_classes": [],
            "_model_module": "@jupyter-widgets/controls",
            "_model_module_version": "1.5.0",
            "_model_name": "HTMLModel",
            "_view_count": null,
            "_view_module": "@jupyter-widgets/controls",
            "_view_module_version": "1.5.0",
            "_view_name": "HTMLView",
            "description": "",
            "description_tooltip": null,
            "layout": "IPY_MODEL_2599b9dffac047f3b8e4763ceb531f3a",
            "placeholder": "​",
            "style": "IPY_MODEL_15333af214134573a64906c3dc6c650f",
            "value": "Generating train split: 100%"
          }
        },
        "085f6a362bea4615a3018120e31e1056": {
          "model_module": "@jupyter-widgets/controls",
          "model_module_version": "1.5.0",
          "model_name": "ProgressStyleModel",
          "state": {
            "_model_module": "@jupyter-widgets/controls",
            "_model_module_version": "1.5.0",
            "_model_name": "ProgressStyleModel",
            "_view_count": null,
            "_view_module": "@jupyter-widgets/base",
            "_view_module_version": "1.2.0",
            "_view_name": "StyleView",
            "bar_color": null,
            "description_width": ""
          }
        },
        "0dd84bad8d224269828a0c1ec0a582fc": {
          "model_module": "@jupyter-widgets/controls",
          "model_module_version": "1.5.0",
          "model_name": "DescriptionStyleModel",
          "state": {
            "_model_module": "@jupyter-widgets/controls",
            "_model_module_version": "1.5.0",
            "_model_name": "DescriptionStyleModel",
            "_view_count": null,
            "_view_module": "@jupyter-widgets/base",
            "_view_module_version": "1.2.0",
            "_view_name": "StyleView",
            "description_width": ""
          }
        },
        "0e0ee9fb22d648b2b1c2acb4b6a09732": {
          "model_module": "@jupyter-widgets/base",
          "model_module_version": "1.2.0",
          "model_name": "LayoutModel",
          "state": {
            "_model_module": "@jupyter-widgets/base",
            "_model_module_version": "1.2.0",
            "_model_name": "LayoutModel",
            "_view_count": null,
            "_view_module": "@jupyter-widgets/base",
            "_view_module_version": "1.2.0",
            "_view_name": "LayoutView",
            "align_content": null,
            "align_items": null,
            "align_self": null,
            "border": null,
            "bottom": null,
            "display": null,
            "flex": null,
            "flex_flow": null,
            "grid_area": null,
            "grid_auto_columns": null,
            "grid_auto_flow": null,
            "grid_auto_rows": null,
            "grid_column": null,
            "grid_gap": null,
            "grid_row": null,
            "grid_template_areas": null,
            "grid_template_columns": null,
            "grid_template_rows": null,
            "height": null,
            "justify_content": null,
            "justify_items": null,
            "left": null,
            "margin": null,
            "max_height": null,
            "max_width": null,
            "min_height": null,
            "min_width": null,
            "object_fit": null,
            "object_position": null,
            "order": null,
            "overflow": null,
            "overflow_x": null,
            "overflow_y": null,
            "padding": null,
            "right": null,
            "top": null,
            "visibility": null,
            "width": null
          }
        },
        "0e4232d17e96462e8e1a5ee08392438b": {
          "model_module": "@jupyter-widgets/controls",
          "model_module_version": "1.5.0",
          "model_name": "HBoxModel",
          "state": {
            "_dom_classes": [],
            "_model_module": "@jupyter-widgets/controls",
            "_model_module_version": "1.5.0",
            "_model_name": "HBoxModel",
            "_view_count": null,
            "_view_module": "@jupyter-widgets/controls",
            "_view_module_version": "1.5.0",
            "_view_name": "HBoxView",
            "box_style": "",
            "children": [
              "IPY_MODEL_f483cfc37e3943bd9a0437226f62894a",
              "IPY_MODEL_d1ad1d5697214c1e83b11ec195896f0c",
              "IPY_MODEL_1b63a3c82db44c77a17403b1decc2f99"
            ],
            "layout": "IPY_MODEL_b65f056df8354207b251ab5ef6a707a2"
          }
        },
        "0e7eafde72c34a58a822af793b4bfeb9": {
          "model_module": "@jupyter-widgets/output",
          "model_module_version": "1.0.0",
          "model_name": "OutputModel",
          "state": {
            "_dom_classes": [],
            "_model_module": "@jupyter-widgets/output",
            "_model_module_version": "1.0.0",
            "_model_name": "OutputModel",
            "_view_count": null,
            "_view_module": "@jupyter-widgets/output",
            "_view_module_version": "1.0.0",
            "_view_name": "OutputView",
            "layout": "IPY_MODEL_60d1e49ed7564aa0a3ae5fb87287a118",
            "msg_id": "",
            "outputs": [
              {
                "data": {
                  "text/html": "<pre style=\"white-space:pre;overflow-x:auto;line-height:normal;font-family:Menlo,'DejaVu Sans Mono',consolas,'Courier New',monospace\"><span style=\"color: #008000; text-decoration-color: #008000\">⠇</span> Evaluating testcases...\n</pre>\n",
                  "text/plain": "\u001b[32m⠇\u001b[0m Evaluating testcases...\n"
                },
                "metadata": {},
                "output_type": "display_data"
              }
            ]
          }
        },
        "1244bf8ea208476cb2a1af7e9583cb51": {
          "model_module": "@jupyter-widgets/base",
          "model_module_version": "1.2.0",
          "model_name": "LayoutModel",
          "state": {
            "_model_module": "@jupyter-widgets/base",
            "_model_module_version": "1.2.0",
            "_model_name": "LayoutModel",
            "_view_count": null,
            "_view_module": "@jupyter-widgets/base",
            "_view_module_version": "1.2.0",
            "_view_name": "LayoutView",
            "align_content": null,
            "align_items": null,
            "align_self": null,
            "border": null,
            "bottom": null,
            "display": null,
            "flex": null,
            "flex_flow": null,
            "grid_area": null,
            "grid_auto_columns": null,
            "grid_auto_flow": null,
            "grid_auto_rows": null,
            "grid_column": null,
            "grid_gap": null,
            "grid_row": null,
            "grid_template_areas": null,
            "grid_template_columns": null,
            "grid_template_rows": null,
            "height": null,
            "justify_content": null,
            "justify_items": null,
            "left": null,
            "margin": null,
            "max_height": null,
            "max_width": null,
            "min_height": null,
            "min_width": null,
            "object_fit": null,
            "object_position": null,
            "order": null,
            "overflow": null,
            "overflow_x": null,
            "overflow_y": null,
            "padding": null,
            "right": null,
            "top": null,
            "visibility": null,
            "width": null
          }
        },
        "15333af214134573a64906c3dc6c650f": {
          "model_module": "@jupyter-widgets/controls",
          "model_module_version": "1.5.0",
          "model_name": "DescriptionStyleModel",
          "state": {
            "_model_module": "@jupyter-widgets/controls",
            "_model_module_version": "1.5.0",
            "_model_name": "DescriptionStyleModel",
            "_view_count": null,
            "_view_module": "@jupyter-widgets/base",
            "_view_module_version": "1.2.0",
            "_view_name": "StyleView",
            "description_width": ""
          }
        },
        "1559b47643e4481483256713396bf4da": {
          "model_module": "@jupyter-widgets/base",
          "model_module_version": "1.2.0",
          "model_name": "LayoutModel",
          "state": {
            "_model_module": "@jupyter-widgets/base",
            "_model_module_version": "1.2.0",
            "_model_name": "LayoutModel",
            "_view_count": null,
            "_view_module": "@jupyter-widgets/base",
            "_view_module_version": "1.2.0",
            "_view_name": "LayoutView",
            "align_content": null,
            "align_items": null,
            "align_self": null,
            "border": null,
            "bottom": null,
            "display": null,
            "flex": null,
            "flex_flow": null,
            "grid_area": null,
            "grid_auto_columns": null,
            "grid_auto_flow": null,
            "grid_auto_rows": null,
            "grid_column": null,
            "grid_gap": null,
            "grid_row": null,
            "grid_template_areas": null,
            "grid_template_columns": null,
            "grid_template_rows": null,
            "height": null,
            "justify_content": null,
            "justify_items": null,
            "left": null,
            "margin": null,
            "max_height": null,
            "max_width": null,
            "min_height": null,
            "min_width": null,
            "object_fit": null,
            "object_position": null,
            "order": null,
            "overflow": null,
            "overflow_x": null,
            "overflow_y": null,
            "padding": null,
            "right": null,
            "top": null,
            "visibility": null,
            "width": null
          }
        },
        "162d29297c5f4dad98baca0794bb93fc": {
          "model_module": "@jupyter-widgets/controls",
          "model_module_version": "1.5.0",
          "model_name": "HBoxModel",
          "state": {
            "_dom_classes": [],
            "_model_module": "@jupyter-widgets/controls",
            "_model_module_version": "1.5.0",
            "_model_name": "HBoxModel",
            "_view_count": null,
            "_view_module": "@jupyter-widgets/controls",
            "_view_module_version": "1.5.0",
            "_view_name": "HBoxView",
            "box_style": "",
            "children": [
              "IPY_MODEL_acaa9927fcde4bcdb606107ac0265c6b",
              "IPY_MODEL_d99d1dd68071439a966f63bd4e998db9",
              "IPY_MODEL_efd288e1422142bc9bfe87c5528342ad"
            ],
            "layout": "IPY_MODEL_c0764d64aa2f4e2484d8b2e2d228213c"
          }
        },
        "167d5d9446f04530babc624ca48befb1": {
          "model_module": "@jupyter-widgets/base",
          "model_module_version": "1.2.0",
          "model_name": "LayoutModel",
          "state": {
            "_model_module": "@jupyter-widgets/base",
            "_model_module_version": "1.2.0",
            "_model_name": "LayoutModel",
            "_view_count": null,
            "_view_module": "@jupyter-widgets/base",
            "_view_module_version": "1.2.0",
            "_view_name": "LayoutView",
            "align_content": null,
            "align_items": null,
            "align_self": null,
            "border": null,
            "bottom": null,
            "display": null,
            "flex": null,
            "flex_flow": null,
            "grid_area": null,
            "grid_auto_columns": null,
            "grid_auto_flow": null,
            "grid_auto_rows": null,
            "grid_column": null,
            "grid_gap": null,
            "grid_row": null,
            "grid_template_areas": null,
            "grid_template_columns": null,
            "grid_template_rows": null,
            "height": null,
            "justify_content": null,
            "justify_items": null,
            "left": null,
            "margin": null,
            "max_height": null,
            "max_width": null,
            "min_height": null,
            "min_width": null,
            "object_fit": null,
            "object_position": null,
            "order": null,
            "overflow": null,
            "overflow_x": null,
            "overflow_y": null,
            "padding": null,
            "right": null,
            "top": null,
            "visibility": null,
            "width": null
          }
        },
        "191ecf80edfd4653b01a69428d560032": {
          "model_module": "@jupyter-widgets/base",
          "model_module_version": "1.2.0",
          "model_name": "LayoutModel",
          "state": {
            "_model_module": "@jupyter-widgets/base",
            "_model_module_version": "1.2.0",
            "_model_name": "LayoutModel",
            "_view_count": null,
            "_view_module": "@jupyter-widgets/base",
            "_view_module_version": "1.2.0",
            "_view_name": "LayoutView",
            "align_content": null,
            "align_items": null,
            "align_self": null,
            "border": null,
            "bottom": null,
            "display": null,
            "flex": null,
            "flex_flow": null,
            "grid_area": null,
            "grid_auto_columns": null,
            "grid_auto_flow": null,
            "grid_auto_rows": null,
            "grid_column": null,
            "grid_gap": null,
            "grid_row": null,
            "grid_template_areas": null,
            "grid_template_columns": null,
            "grid_template_rows": null,
            "height": null,
            "justify_content": null,
            "justify_items": null,
            "left": null,
            "margin": null,
            "max_height": null,
            "max_width": null,
            "min_height": null,
            "min_width": null,
            "object_fit": null,
            "object_position": null,
            "order": null,
            "overflow": null,
            "overflow_x": null,
            "overflow_y": null,
            "padding": null,
            "right": null,
            "top": null,
            "visibility": null,
            "width": null
          }
        },
        "1b63a3c82db44c77a17403b1decc2f99": {
          "model_module": "@jupyter-widgets/controls",
          "model_module_version": "1.5.0",
          "model_name": "HTMLModel",
          "state": {
            "_dom_classes": [],
            "_model_module": "@jupyter-widgets/controls",
            "_model_module_version": "1.5.0",
            "_model_name": "HTMLModel",
            "_view_count": null,
            "_view_module": "@jupyter-widgets/controls",
            "_view_module_version": "1.5.0",
            "_view_name": "HTMLView",
            "description": "",
            "description_tooltip": null,
            "layout": "IPY_MODEL_a34410f9ce2a4050bb428c34e5312026",
            "placeholder": "​",
            "style": "IPY_MODEL_555f0847214548739a4e17dba3ec7c06",
            "value": " 1.35M/1.35M [00:00&lt;00:00, 2.84MB/s]"
          }
        },
        "1e21a8520b1a49d1a53e63404381711a": {
          "model_module": "@jupyter-widgets/controls",
          "model_module_version": "1.5.0",
          "model_name": "ProgressStyleModel",
          "state": {
            "_model_module": "@jupyter-widgets/controls",
            "_model_module_version": "1.5.0",
            "_model_name": "ProgressStyleModel",
            "_view_count": null,
            "_view_module": "@jupyter-widgets/base",
            "_view_module_version": "1.2.0",
            "_view_name": "StyleView",
            "bar_color": null,
            "description_width": ""
          }
        },
        "21a6ebf4d82645b5b4182ac62f6bb8a3": {
          "model_module": "@jupyter-widgets/base",
          "model_module_version": "1.2.0",
          "model_name": "LayoutModel",
          "state": {
            "_model_module": "@jupyter-widgets/base",
            "_model_module_version": "1.2.0",
            "_model_name": "LayoutModel",
            "_view_count": null,
            "_view_module": "@jupyter-widgets/base",
            "_view_module_version": "1.2.0",
            "_view_name": "LayoutView",
            "align_content": null,
            "align_items": null,
            "align_self": null,
            "border": null,
            "bottom": null,
            "display": null,
            "flex": null,
            "flex_flow": null,
            "grid_area": null,
            "grid_auto_columns": null,
            "grid_auto_flow": null,
            "grid_auto_rows": null,
            "grid_column": null,
            "grid_gap": null,
            "grid_row": null,
            "grid_template_areas": null,
            "grid_template_columns": null,
            "grid_template_rows": null,
            "height": null,
            "justify_content": null,
            "justify_items": null,
            "left": null,
            "margin": null,
            "max_height": null,
            "max_width": null,
            "min_height": null,
            "min_width": null,
            "object_fit": null,
            "object_position": null,
            "order": null,
            "overflow": null,
            "overflow_x": null,
            "overflow_y": null,
            "padding": null,
            "right": null,
            "top": null,
            "visibility": null,
            "width": null
          }
        },
        "2599b9dffac047f3b8e4763ceb531f3a": {
          "model_module": "@jupyter-widgets/base",
          "model_module_version": "1.2.0",
          "model_name": "LayoutModel",
          "state": {
            "_model_module": "@jupyter-widgets/base",
            "_model_module_version": "1.2.0",
            "_model_name": "LayoutModel",
            "_view_count": null,
            "_view_module": "@jupyter-widgets/base",
            "_view_module_version": "1.2.0",
            "_view_name": "LayoutView",
            "align_content": null,
            "align_items": null,
            "align_self": null,
            "border": null,
            "bottom": null,
            "display": null,
            "flex": null,
            "flex_flow": null,
            "grid_area": null,
            "grid_auto_columns": null,
            "grid_auto_flow": null,
            "grid_auto_rows": null,
            "grid_column": null,
            "grid_gap": null,
            "grid_row": null,
            "grid_template_areas": null,
            "grid_template_columns": null,
            "grid_template_rows": null,
            "height": null,
            "justify_content": null,
            "justify_items": null,
            "left": null,
            "margin": null,
            "max_height": null,
            "max_width": null,
            "min_height": null,
            "min_width": null,
            "object_fit": null,
            "object_position": null,
            "order": null,
            "overflow": null,
            "overflow_x": null,
            "overflow_y": null,
            "padding": null,
            "right": null,
            "top": null,
            "visibility": null,
            "width": null
          }
        },
        "25e0e8b60e394420b8cf05f16e4a6ca6": {
          "model_module": "@jupyter-widgets/controls",
          "model_module_version": "1.5.0",
          "model_name": "HBoxModel",
          "state": {
            "_dom_classes": [],
            "_model_module": "@jupyter-widgets/controls",
            "_model_module_version": "1.5.0",
            "_model_name": "HBoxModel",
            "_view_count": null,
            "_view_module": "@jupyter-widgets/controls",
            "_view_module_version": "1.5.0",
            "_view_name": "HBoxView",
            "box_style": "",
            "children": [
              "IPY_MODEL_b09fb1900d114728ad51fe27f93ae23b",
              "IPY_MODEL_9c536b1ace0e44ef8c16b0578fd6b3af",
              "IPY_MODEL_f0fa88ba58084418a8cfa3e8cd39ef5b"
            ],
            "layout": "IPY_MODEL_9525696cd0b848f7a0213d774d221081"
          }
        },
        "27cb89f01c0546a2a06c96af28535448": {
          "model_module": "@jupyter-widgets/controls",
          "model_module_version": "1.5.0",
          "model_name": "FloatProgressModel",
          "state": {
            "_dom_classes": [],
            "_model_module": "@jupyter-widgets/controls",
            "_model_module_version": "1.5.0",
            "_model_name": "FloatProgressModel",
            "_view_count": null,
            "_view_module": "@jupyter-widgets/controls",
            "_view_module_version": "1.5.0",
            "_view_name": "ProgressView",
            "bar_style": "success",
            "description": "",
            "description_tooltip": null,
            "layout": "IPY_MODEL_b1109dbbca474bd399c2c37b3bbed5d3",
            "max": 130319,
            "min": 0,
            "orientation": "horizontal",
            "style": "IPY_MODEL_085f6a362bea4615a3018120e31e1056",
            "value": 130319
          }
        },
        "27f25685cd504798b38ad8147b0bd6e0": {
          "model_module": "@jupyter-widgets/controls",
          "model_module_version": "1.5.0",
          "model_name": "DescriptionStyleModel",
          "state": {
            "_model_module": "@jupyter-widgets/controls",
            "_model_module_version": "1.5.0",
            "_model_name": "DescriptionStyleModel",
            "_view_count": null,
            "_view_module": "@jupyter-widgets/base",
            "_view_module_version": "1.2.0",
            "_view_name": "StyleView",
            "description_width": ""
          }
        },
        "27f6523d465644fcaf5304299a8c163e": {
          "model_module": "@jupyter-widgets/base",
          "model_module_version": "1.2.0",
          "model_name": "LayoutModel",
          "state": {
            "_model_module": "@jupyter-widgets/base",
            "_model_module_version": "1.2.0",
            "_model_name": "LayoutModel",
            "_view_count": null,
            "_view_module": "@jupyter-widgets/base",
            "_view_module_version": "1.2.0",
            "_view_name": "LayoutView",
            "align_content": null,
            "align_items": null,
            "align_self": null,
            "border": null,
            "bottom": null,
            "display": null,
            "flex": null,
            "flex_flow": null,
            "grid_area": null,
            "grid_auto_columns": null,
            "grid_auto_flow": null,
            "grid_auto_rows": null,
            "grid_column": null,
            "grid_gap": null,
            "grid_row": null,
            "grid_template_areas": null,
            "grid_template_columns": null,
            "grid_template_rows": null,
            "height": null,
            "justify_content": null,
            "justify_items": null,
            "left": null,
            "margin": null,
            "max_height": null,
            "max_width": null,
            "min_height": null,
            "min_width": null,
            "object_fit": null,
            "object_position": null,
            "order": null,
            "overflow": null,
            "overflow_x": null,
            "overflow_y": null,
            "padding": null,
            "right": null,
            "top": null,
            "visibility": null,
            "width": null
          }
        },
        "2809adab6c6a432fae163c8e8590021c": {
          "model_module": "@jupyter-widgets/controls",
          "model_module_version": "1.5.0",
          "model_name": "FloatProgressModel",
          "state": {
            "_dom_classes": [],
            "_model_module": "@jupyter-widgets/controls",
            "_model_module_version": "1.5.0",
            "_model_name": "FloatProgressModel",
            "_view_count": null,
            "_view_module": "@jupyter-widgets/controls",
            "_view_module_version": "1.5.0",
            "_view_name": "ProgressView",
            "bar_style": "success",
            "description": "",
            "description_tooltip": null,
            "layout": "IPY_MODEL_77c714ea90d94d668f76f6d6458af173",
            "max": 8916,
            "min": 0,
            "orientation": "horizontal",
            "style": "IPY_MODEL_556fb0c73f6342c6b40d532ad02d6002",
            "value": 8916
          }
        },
        "2e9a94bf99174fd08dc86a5e620b557a": {
          "model_module": "@jupyter-widgets/controls",
          "model_module_version": "1.5.0",
          "model_name": "DescriptionStyleModel",
          "state": {
            "_model_module": "@jupyter-widgets/controls",
            "_model_module_version": "1.5.0",
            "_model_name": "DescriptionStyleModel",
            "_view_count": null,
            "_view_module": "@jupyter-widgets/base",
            "_view_module_version": "1.2.0",
            "_view_name": "StyleView",
            "description_width": ""
          }
        },
        "3080f12af2814a1985146de24da50d99": {
          "model_module": "@jupyter-widgets/controls",
          "model_module_version": "1.5.0",
          "model_name": "ProgressStyleModel",
          "state": {
            "_model_module": "@jupyter-widgets/controls",
            "_model_module_version": "1.5.0",
            "_model_name": "ProgressStyleModel",
            "_view_count": null,
            "_view_module": "@jupyter-widgets/base",
            "_view_module_version": "1.2.0",
            "_view_name": "StyleView",
            "bar_color": null,
            "description_width": ""
          }
        },
        "32578965fe954d3e906a4e169a4ab018": {
          "model_module": "@jupyter-widgets/controls",
          "model_module_version": "1.5.0",
          "model_name": "DescriptionStyleModel",
          "state": {
            "_model_module": "@jupyter-widgets/controls",
            "_model_module_version": "1.5.0",
            "_model_name": "DescriptionStyleModel",
            "_view_count": null,
            "_view_module": "@jupyter-widgets/base",
            "_view_module_version": "1.2.0",
            "_view_name": "StyleView",
            "description_width": ""
          }
        },
        "3263d38faab14e13914c92e757882d6a": {
          "model_module": "@jupyter-widgets/controls",
          "model_module_version": "1.5.0",
          "model_name": "FloatProgressModel",
          "state": {
            "_dom_classes": [],
            "_model_module": "@jupyter-widgets/controls",
            "_model_module_version": "1.5.0",
            "_model_name": "FloatProgressModel",
            "_view_count": null,
            "_view_module": "@jupyter-widgets/controls",
            "_view_module_version": "1.5.0",
            "_view_name": "ProgressView",
            "bar_style": "success",
            "description": "",
            "description_tooltip": null,
            "layout": "IPY_MODEL_3ed06598cd5e46dc8252a3b066a348c4",
            "max": 11873,
            "min": 0,
            "orientation": "horizontal",
            "style": "IPY_MODEL_4f098711cab84ed9affd29e0ae89d020",
            "value": 11873
          }
        },
        "355fee969f7e4db5a5a4740321ec4b7f": {
          "model_module": "@jupyter-widgets/controls",
          "model_module_version": "1.5.0",
          "model_name": "HBoxModel",
          "state": {
            "_dom_classes": [],
            "_model_module": "@jupyter-widgets/controls",
            "_model_module_version": "1.5.0",
            "_model_name": "HBoxModel",
            "_view_count": null,
            "_view_module": "@jupyter-widgets/controls",
            "_view_module_version": "1.5.0",
            "_view_name": "HBoxView",
            "box_style": "",
            "children": [
              "IPY_MODEL_d8163e5759904ea68c8c2a341b2a7347",
              "IPY_MODEL_3263d38faab14e13914c92e757882d6a",
              "IPY_MODEL_db32838cce5741fabb9ad431fae28953"
            ],
            "layout": "IPY_MODEL_79c748fea30c46349a7b584a28a12385"
          }
        },
        "35da6c45d95540c883b87df1985a530d": {
          "model_module": "@jupyter-widgets/base",
          "model_module_version": "1.2.0",
          "model_name": "LayoutModel",
          "state": {
            "_model_module": "@jupyter-widgets/base",
            "_model_module_version": "1.2.0",
            "_model_name": "LayoutModel",
            "_view_count": null,
            "_view_module": "@jupyter-widgets/base",
            "_view_module_version": "1.2.0",
            "_view_name": "LayoutView",
            "align_content": null,
            "align_items": null,
            "align_self": null,
            "border": null,
            "bottom": null,
            "display": null,
            "flex": null,
            "flex_flow": null,
            "grid_area": null,
            "grid_auto_columns": null,
            "grid_auto_flow": null,
            "grid_auto_rows": null,
            "grid_column": null,
            "grid_gap": null,
            "grid_row": null,
            "grid_template_areas": null,
            "grid_template_columns": null,
            "grid_template_rows": null,
            "height": null,
            "justify_content": null,
            "justify_items": null,
            "left": null,
            "margin": null,
            "max_height": null,
            "max_width": null,
            "min_height": null,
            "min_width": null,
            "object_fit": null,
            "object_position": null,
            "order": null,
            "overflow": null,
            "overflow_x": null,
            "overflow_y": null,
            "padding": null,
            "right": null,
            "top": null,
            "visibility": null,
            "width": null
          }
        },
        "36010e88333341d69c6bffb22658a99f": {
          "model_module": "@jupyter-widgets/output",
          "model_module_version": "1.0.0",
          "model_name": "OutputModel",
          "state": {
            "_dom_classes": [],
            "_model_module": "@jupyter-widgets/output",
            "_model_module_version": "1.0.0",
            "_model_name": "OutputModel",
            "_view_count": null,
            "_view_module": "@jupyter-widgets/output",
            "_view_module_version": "1.0.0",
            "_view_name": "OutputView",
            "layout": "IPY_MODEL_391619c636794697ac60d3b7c9cc04a6",
            "msg_id": "",
            "outputs": [
              {
                "data": {
                  "text/html": "<pre style=\"white-space:pre;overflow-x:auto;line-height:normal;font-family:Menlo,'DejaVu Sans Mono',consolas,'Courier New',monospace\"><span style=\"color: #008000; text-decoration-color: #008000\">⠴</span> Evaluating testcases...\n</pre>\n",
                  "text/plain": "\u001b[32m⠴\u001b[0m Evaluating testcases...\n"
                },
                "metadata": {},
                "output_type": "display_data"
              }
            ]
          }
        },
        "365eae22a84f465c9e2640ddd1ddbf31": {
          "model_module": "@jupyter-widgets/controls",
          "model_module_version": "1.5.0",
          "model_name": "DescriptionStyleModel",
          "state": {
            "_model_module": "@jupyter-widgets/controls",
            "_model_module_version": "1.5.0",
            "_model_name": "DescriptionStyleModel",
            "_view_count": null,
            "_view_module": "@jupyter-widgets/base",
            "_view_module_version": "1.2.0",
            "_view_name": "StyleView",
            "description_width": ""
          }
        },
        "391619c636794697ac60d3b7c9cc04a6": {
          "model_module": "@jupyter-widgets/base",
          "model_module_version": "1.2.0",
          "model_name": "LayoutModel",
          "state": {
            "_model_module": "@jupyter-widgets/base",
            "_model_module_version": "1.2.0",
            "_model_name": "LayoutModel",
            "_view_count": null,
            "_view_module": "@jupyter-widgets/base",
            "_view_module_version": "1.2.0",
            "_view_name": "LayoutView",
            "align_content": null,
            "align_items": null,
            "align_self": null,
            "border": null,
            "bottom": null,
            "display": null,
            "flex": null,
            "flex_flow": null,
            "grid_area": null,
            "grid_auto_columns": null,
            "grid_auto_flow": null,
            "grid_auto_rows": null,
            "grid_column": null,
            "grid_gap": null,
            "grid_row": null,
            "grid_template_areas": null,
            "grid_template_columns": null,
            "grid_template_rows": null,
            "height": null,
            "justify_content": null,
            "justify_items": null,
            "left": null,
            "margin": null,
            "max_height": null,
            "max_width": null,
            "min_height": null,
            "min_width": null,
            "object_fit": null,
            "object_position": null,
            "order": null,
            "overflow": null,
            "overflow_x": null,
            "overflow_y": null,
            "padding": null,
            "right": null,
            "top": null,
            "visibility": null,
            "width": null
          }
        },
        "3bb9e44e17ec4f3986378ddb3c1255c4": {
          "model_module": "@jupyter-widgets/base",
          "model_module_version": "1.2.0",
          "model_name": "LayoutModel",
          "state": {
            "_model_module": "@jupyter-widgets/base",
            "_model_module_version": "1.2.0",
            "_model_name": "LayoutModel",
            "_view_count": null,
            "_view_module": "@jupyter-widgets/base",
            "_view_module_version": "1.2.0",
            "_view_name": "LayoutView",
            "align_content": null,
            "align_items": null,
            "align_self": null,
            "border": null,
            "bottom": null,
            "display": null,
            "flex": null,
            "flex_flow": null,
            "grid_area": null,
            "grid_auto_columns": null,
            "grid_auto_flow": null,
            "grid_auto_rows": null,
            "grid_column": null,
            "grid_gap": null,
            "grid_row": null,
            "grid_template_areas": null,
            "grid_template_columns": null,
            "grid_template_rows": null,
            "height": null,
            "justify_content": null,
            "justify_items": null,
            "left": null,
            "margin": null,
            "max_height": null,
            "max_width": null,
            "min_height": null,
            "min_width": null,
            "object_fit": null,
            "object_position": null,
            "order": null,
            "overflow": null,
            "overflow_x": null,
            "overflow_y": null,
            "padding": null,
            "right": null,
            "top": null,
            "visibility": null,
            "width": null
          }
        },
        "3da15c7e57fa461bad6ee4a41a7ee6be": {
          "model_module": "@jupyter-widgets/controls",
          "model_module_version": "1.5.0",
          "model_name": "FloatProgressModel",
          "state": {
            "_dom_classes": [],
            "_model_module": "@jupyter-widgets/controls",
            "_model_module_version": "1.5.0",
            "_model_name": "FloatProgressModel",
            "_view_count": null,
            "_view_module": "@jupyter-widgets/controls",
            "_view_module_version": "1.5.0",
            "_view_name": "ProgressView",
            "bar_style": "success",
            "description": "",
            "description_tooltip": null,
            "layout": "IPY_MODEL_fe57e53818254848bd2dbb062fed1eca",
            "max": 1204,
            "min": 0,
            "orientation": "horizontal",
            "style": "IPY_MODEL_8770ef290a2b4174845a8307197e0701",
            "value": 1204
          }
        },
        "3ed06598cd5e46dc8252a3b066a348c4": {
          "model_module": "@jupyter-widgets/base",
          "model_module_version": "1.2.0",
          "model_name": "LayoutModel",
          "state": {
            "_model_module": "@jupyter-widgets/base",
            "_model_module_version": "1.2.0",
            "_model_name": "LayoutModel",
            "_view_count": null,
            "_view_module": "@jupyter-widgets/base",
            "_view_module_version": "1.2.0",
            "_view_name": "LayoutView",
            "align_content": null,
            "align_items": null,
            "align_self": null,
            "border": null,
            "bottom": null,
            "display": null,
            "flex": null,
            "flex_flow": null,
            "grid_area": null,
            "grid_auto_columns": null,
            "grid_auto_flow": null,
            "grid_auto_rows": null,
            "grid_column": null,
            "grid_gap": null,
            "grid_row": null,
            "grid_template_areas": null,
            "grid_template_columns": null,
            "grid_template_rows": null,
            "height": null,
            "justify_content": null,
            "justify_items": null,
            "left": null,
            "margin": null,
            "max_height": null,
            "max_width": null,
            "min_height": null,
            "min_width": null,
            "object_fit": null,
            "object_position": null,
            "order": null,
            "overflow": null,
            "overflow_x": null,
            "overflow_y": null,
            "padding": null,
            "right": null,
            "top": null,
            "visibility": null,
            "width": null
          }
        },
        "420fb1c93d2b4b5daffb4bd40261172e": {
          "model_module": "@jupyter-widgets/base",
          "model_module_version": "1.2.0",
          "model_name": "LayoutModel",
          "state": {
            "_model_module": "@jupyter-widgets/base",
            "_model_module_version": "1.2.0",
            "_model_name": "LayoutModel",
            "_view_count": null,
            "_view_module": "@jupyter-widgets/base",
            "_view_module_version": "1.2.0",
            "_view_name": "LayoutView",
            "align_content": null,
            "align_items": null,
            "align_self": null,
            "border": null,
            "bottom": null,
            "display": null,
            "flex": null,
            "flex_flow": null,
            "grid_area": null,
            "grid_auto_columns": null,
            "grid_auto_flow": null,
            "grid_auto_rows": null,
            "grid_column": null,
            "grid_gap": null,
            "grid_row": null,
            "grid_template_areas": null,
            "grid_template_columns": null,
            "grid_template_rows": null,
            "height": null,
            "justify_content": null,
            "justify_items": null,
            "left": null,
            "margin": null,
            "max_height": null,
            "max_width": null,
            "min_height": null,
            "min_width": null,
            "object_fit": null,
            "object_position": null,
            "order": null,
            "overflow": null,
            "overflow_x": null,
            "overflow_y": null,
            "padding": null,
            "right": null,
            "top": null,
            "visibility": null,
            "width": null
          }
        },
        "44caede104434cd5a75a3189d134cd01": {
          "model_module": "@jupyter-widgets/base",
          "model_module_version": "1.2.0",
          "model_name": "LayoutModel",
          "state": {
            "_model_module": "@jupyter-widgets/base",
            "_model_module_version": "1.2.0",
            "_model_name": "LayoutModel",
            "_view_count": null,
            "_view_module": "@jupyter-widgets/base",
            "_view_module_version": "1.2.0",
            "_view_name": "LayoutView",
            "align_content": null,
            "align_items": null,
            "align_self": null,
            "border": null,
            "bottom": null,
            "display": null,
            "flex": null,
            "flex_flow": null,
            "grid_area": null,
            "grid_auto_columns": null,
            "grid_auto_flow": null,
            "grid_auto_rows": null,
            "grid_column": null,
            "grid_gap": null,
            "grid_row": null,
            "grid_template_areas": null,
            "grid_template_columns": null,
            "grid_template_rows": null,
            "height": null,
            "justify_content": null,
            "justify_items": null,
            "left": null,
            "margin": null,
            "max_height": null,
            "max_width": null,
            "min_height": null,
            "min_width": null,
            "object_fit": null,
            "object_position": null,
            "order": null,
            "overflow": null,
            "overflow_x": null,
            "overflow_y": null,
            "padding": null,
            "right": null,
            "top": null,
            "visibility": null,
            "width": null
          }
        },
        "476b58f1c20c4f3fa75f7db2d8959f22": {
          "model_module": "@jupyter-widgets/controls",
          "model_module_version": "1.5.0",
          "model_name": "DescriptionStyleModel",
          "state": {
            "_model_module": "@jupyter-widgets/controls",
            "_model_module_version": "1.5.0",
            "_model_name": "DescriptionStyleModel",
            "_view_count": null,
            "_view_module": "@jupyter-widgets/base",
            "_view_module_version": "1.2.0",
            "_view_name": "StyleView",
            "description_width": ""
          }
        },
        "4a4ab3a911e747209b7520d72bbf9bfa": {
          "model_module": "@jupyter-widgets/controls",
          "model_module_version": "1.5.0",
          "model_name": "DescriptionStyleModel",
          "state": {
            "_model_module": "@jupyter-widgets/controls",
            "_model_module_version": "1.5.0",
            "_model_name": "DescriptionStyleModel",
            "_view_count": null,
            "_view_module": "@jupyter-widgets/base",
            "_view_module_version": "1.2.0",
            "_view_name": "StyleView",
            "description_width": ""
          }
        },
        "4b56ff9a99e84d3980c6b941a7015dcb": {
          "model_module": "@jupyter-widgets/controls",
          "model_module_version": "1.5.0",
          "model_name": "HTMLModel",
          "state": {
            "_dom_classes": [],
            "_model_module": "@jupyter-widgets/controls",
            "_model_module_version": "1.5.0",
            "_model_name": "HTMLModel",
            "_view_count": null,
            "_view_module": "@jupyter-widgets/controls",
            "_view_module_version": "1.5.0",
            "_view_name": "HTMLView",
            "description": "",
            "description_tooltip": null,
            "layout": "IPY_MODEL_4d89770dfd6440359c5503a7c67b948e",
            "placeholder": "​",
            "style": "IPY_MODEL_ef55f8e3f86545dd85ffff9f0ec0eec8",
            "value": " 16.4M/16.4M [00:01&lt;00:00, 14.5MB/s]"
          }
        },
        "4d89770dfd6440359c5503a7c67b948e": {
          "model_module": "@jupyter-widgets/base",
          "model_module_version": "1.2.0",
          "model_name": "LayoutModel",
          "state": {
            "_model_module": "@jupyter-widgets/base",
            "_model_module_version": "1.2.0",
            "_model_name": "LayoutModel",
            "_view_count": null,
            "_view_module": "@jupyter-widgets/base",
            "_view_module_version": "1.2.0",
            "_view_name": "LayoutView",
            "align_content": null,
            "align_items": null,
            "align_self": null,
            "border": null,
            "bottom": null,
            "display": null,
            "flex": null,
            "flex_flow": null,
            "grid_area": null,
            "grid_auto_columns": null,
            "grid_auto_flow": null,
            "grid_auto_rows": null,
            "grid_column": null,
            "grid_gap": null,
            "grid_row": null,
            "grid_template_areas": null,
            "grid_template_columns": null,
            "grid_template_rows": null,
            "height": null,
            "justify_content": null,
            "justify_items": null,
            "left": null,
            "margin": null,
            "max_height": null,
            "max_width": null,
            "min_height": null,
            "min_width": null,
            "object_fit": null,
            "object_position": null,
            "order": null,
            "overflow": null,
            "overflow_x": null,
            "overflow_y": null,
            "padding": null,
            "right": null,
            "top": null,
            "visibility": null,
            "width": null
          }
        },
        "4f098711cab84ed9affd29e0ae89d020": {
          "model_module": "@jupyter-widgets/controls",
          "model_module_version": "1.5.0",
          "model_name": "ProgressStyleModel",
          "state": {
            "_model_module": "@jupyter-widgets/controls",
            "_model_module_version": "1.5.0",
            "_model_name": "ProgressStyleModel",
            "_view_count": null,
            "_view_module": "@jupyter-widgets/base",
            "_view_module_version": "1.2.0",
            "_view_name": "StyleView",
            "bar_color": null,
            "description_width": ""
          }
        },
        "4fc7fe98ed9e43fa96c3e862f24518a5": {
          "model_module": "@jupyter-widgets/controls",
          "model_module_version": "1.5.0",
          "model_name": "HTMLModel",
          "state": {
            "_dom_classes": [],
            "_model_module": "@jupyter-widgets/controls",
            "_model_module_version": "1.5.0",
            "_model_name": "HTMLModel",
            "_view_count": null,
            "_view_module": "@jupyter-widgets/controls",
            "_view_module_version": "1.5.0",
            "_view_name": "HTMLView",
            "description": "",
            "description_tooltip": null,
            "layout": "IPY_MODEL_21a6ebf4d82645b5b4182ac62f6bb8a3",
            "placeholder": "​",
            "style": "IPY_MODEL_675904b673ca4c578ef16a777995b8d4",
            "value": " 1204/1204 [00:00&lt;00:00, 5281.46 docs/s]"
          }
        },
        "529e0a3f1bb94633b3a7ef3465025eb1": {
          "model_module": "@jupyter-widgets/output",
          "model_module_version": "1.0.0",
          "model_name": "OutputModel",
          "state": {
            "_dom_classes": [],
            "_model_module": "@jupyter-widgets/output",
            "_model_module_version": "1.0.0",
            "_model_name": "OutputModel",
            "_view_count": null,
            "_view_module": "@jupyter-widgets/output",
            "_view_module_version": "1.0.0",
            "_view_name": "OutputView",
            "layout": "IPY_MODEL_f037a8d0089a4628991a70ed217095b0",
            "msg_id": "",
            "outputs": [
              {
                "data": {
                  "text/html": "<pre style=\"white-space:pre;overflow-x:auto;line-height:normal;font-family:Menlo,'DejaVu Sans Mono',consolas,'Courier New',monospace\"><span style=\"color: #008000; text-decoration-color: #008000\">⠹</span> Evaluating testcases...\n</pre>\n",
                  "text/plain": "\u001b[32m⠹\u001b[0m Evaluating testcases...\n"
                },
                "metadata": {},
                "output_type": "display_data"
              }
            ]
          }
        },
        "5426fbb2f2fd457c98e943b59d214d2c": {
          "model_module": "@jupyter-widgets/base",
          "model_module_version": "1.2.0",
          "model_name": "LayoutModel",
          "state": {
            "_model_module": "@jupyter-widgets/base",
            "_model_module_version": "1.2.0",
            "_model_name": "LayoutModel",
            "_view_count": null,
            "_view_module": "@jupyter-widgets/base",
            "_view_module_version": "1.2.0",
            "_view_name": "LayoutView",
            "align_content": null,
            "align_items": null,
            "align_self": null,
            "border": null,
            "bottom": null,
            "display": null,
            "flex": null,
            "flex_flow": null,
            "grid_area": null,
            "grid_auto_columns": null,
            "grid_auto_flow": null,
            "grid_auto_rows": null,
            "grid_column": null,
            "grid_gap": null,
            "grid_row": null,
            "grid_template_areas": null,
            "grid_template_columns": null,
            "grid_template_rows": null,
            "height": null,
            "justify_content": null,
            "justify_items": null,
            "left": null,
            "margin": null,
            "max_height": null,
            "max_width": null,
            "min_height": null,
            "min_width": null,
            "object_fit": null,
            "object_position": null,
            "order": null,
            "overflow": null,
            "overflow_x": null,
            "overflow_y": null,
            "padding": null,
            "right": null,
            "top": null,
            "visibility": null,
            "width": null
          }
        },
        "54d27ef845b840c7bd632e7616077777": {
          "model_module": "@jupyter-widgets/base",
          "model_module_version": "1.2.0",
          "model_name": "LayoutModel",
          "state": {
            "_model_module": "@jupyter-widgets/base",
            "_model_module_version": "1.2.0",
            "_model_name": "LayoutModel",
            "_view_count": null,
            "_view_module": "@jupyter-widgets/base",
            "_view_module_version": "1.2.0",
            "_view_name": "LayoutView",
            "align_content": null,
            "align_items": null,
            "align_self": null,
            "border": null,
            "bottom": null,
            "display": null,
            "flex": null,
            "flex_flow": null,
            "grid_area": null,
            "grid_auto_columns": null,
            "grid_auto_flow": null,
            "grid_auto_rows": null,
            "grid_column": null,
            "grid_gap": null,
            "grid_row": null,
            "grid_template_areas": null,
            "grid_template_columns": null,
            "grid_template_rows": null,
            "height": null,
            "justify_content": null,
            "justify_items": null,
            "left": null,
            "margin": null,
            "max_height": null,
            "max_width": null,
            "min_height": null,
            "min_width": null,
            "object_fit": null,
            "object_position": null,
            "order": null,
            "overflow": null,
            "overflow_x": null,
            "overflow_y": null,
            "padding": null,
            "right": null,
            "top": null,
            "visibility": null,
            "width": null
          }
        },
        "555f0847214548739a4e17dba3ec7c06": {
          "model_module": "@jupyter-widgets/controls",
          "model_module_version": "1.5.0",
          "model_name": "DescriptionStyleModel",
          "state": {
            "_model_module": "@jupyter-widgets/controls",
            "_model_module_version": "1.5.0",
            "_model_name": "DescriptionStyleModel",
            "_view_count": null,
            "_view_module": "@jupyter-widgets/base",
            "_view_module_version": "1.2.0",
            "_view_name": "StyleView",
            "description_width": ""
          }
        },
        "556fb0c73f6342c6b40d532ad02d6002": {
          "model_module": "@jupyter-widgets/controls",
          "model_module_version": "1.5.0",
          "model_name": "ProgressStyleModel",
          "state": {
            "_model_module": "@jupyter-widgets/controls",
            "_model_module_version": "1.5.0",
            "_model_name": "ProgressStyleModel",
            "_view_count": null,
            "_view_module": "@jupyter-widgets/base",
            "_view_module_version": "1.2.0",
            "_view_name": "StyleView",
            "bar_color": null,
            "description_width": ""
          }
        },
        "55b84b06a9fc417a90ee08ad622e3e92": {
          "model_module": "@jupyter-widgets/controls",
          "model_module_version": "1.5.0",
          "model_name": "DescriptionStyleModel",
          "state": {
            "_model_module": "@jupyter-widgets/controls",
            "_model_module_version": "1.5.0",
            "_model_name": "DescriptionStyleModel",
            "_view_count": null,
            "_view_module": "@jupyter-widgets/base",
            "_view_module_version": "1.2.0",
            "_view_name": "StyleView",
            "description_width": ""
          }
        },
        "59b9c475c5cd44aa845a7dda92969997": {
          "model_module": "@jupyter-widgets/controls",
          "model_module_version": "1.5.0",
          "model_name": "FloatProgressModel",
          "state": {
            "_dom_classes": [],
            "_model_module": "@jupyter-widgets/controls",
            "_model_module_version": "1.5.0",
            "_model_name": "FloatProgressModel",
            "_view_count": null,
            "_view_module": "@jupyter-widgets/controls",
            "_view_module_version": "1.5.0",
            "_view_name": "ProgressView",
            "bar_style": "success",
            "description": "",
            "description_tooltip": null,
            "layout": "IPY_MODEL_fa08ed9dbc194258941821dd61025870",
            "max": 1204,
            "min": 0,
            "orientation": "horizontal",
            "style": "IPY_MODEL_1e21a8520b1a49d1a53e63404381711a",
            "value": 1204
          }
        },
        "5a4659cf76c1464bac21f7b47b4234d6": {
          "model_module": "@jupyter-widgets/base",
          "model_module_version": "1.2.0",
          "model_name": "LayoutModel",
          "state": {
            "_model_module": "@jupyter-widgets/base",
            "_model_module_version": "1.2.0",
            "_model_name": "LayoutModel",
            "_view_count": null,
            "_view_module": "@jupyter-widgets/base",
            "_view_module_version": "1.2.0",
            "_view_name": "LayoutView",
            "align_content": null,
            "align_items": null,
            "align_self": null,
            "border": null,
            "bottom": null,
            "display": null,
            "flex": null,
            "flex_flow": null,
            "grid_area": null,
            "grid_auto_columns": null,
            "grid_auto_flow": null,
            "grid_auto_rows": null,
            "grid_column": null,
            "grid_gap": null,
            "grid_row": null,
            "grid_template_areas": null,
            "grid_template_columns": null,
            "grid_template_rows": null,
            "height": null,
            "justify_content": null,
            "justify_items": null,
            "left": null,
            "margin": null,
            "max_height": null,
            "max_width": null,
            "min_height": null,
            "min_width": null,
            "object_fit": null,
            "object_position": null,
            "order": null,
            "overflow": null,
            "overflow_x": null,
            "overflow_y": null,
            "padding": null,
            "right": null,
            "top": null,
            "visibility": null,
            "width": null
          }
        },
        "5a6df8e408d143ff86952d6b3150632f": {
          "model_module": "@jupyter-widgets/controls",
          "model_module_version": "1.5.0",
          "model_name": "ProgressStyleModel",
          "state": {
            "_model_module": "@jupyter-widgets/controls",
            "_model_module_version": "1.5.0",
            "_model_name": "ProgressStyleModel",
            "_view_count": null,
            "_view_module": "@jupyter-widgets/base",
            "_view_module_version": "1.2.0",
            "_view_name": "StyleView",
            "bar_color": null,
            "description_width": ""
          }
        },
        "5ae473c91e084c339e339bba168d52cc": {
          "model_module": "@jupyter-widgets/base",
          "model_module_version": "1.2.0",
          "model_name": "LayoutModel",
          "state": {
            "_model_module": "@jupyter-widgets/base",
            "_model_module_version": "1.2.0",
            "_model_name": "LayoutModel",
            "_view_count": null,
            "_view_module": "@jupyter-widgets/base",
            "_view_module_version": "1.2.0",
            "_view_name": "LayoutView",
            "align_content": null,
            "align_items": null,
            "align_self": null,
            "border": null,
            "bottom": null,
            "display": null,
            "flex": null,
            "flex_flow": null,
            "grid_area": null,
            "grid_auto_columns": null,
            "grid_auto_flow": null,
            "grid_auto_rows": null,
            "grid_column": null,
            "grid_gap": null,
            "grid_row": null,
            "grid_template_areas": null,
            "grid_template_columns": null,
            "grid_template_rows": null,
            "height": null,
            "justify_content": null,
            "justify_items": null,
            "left": null,
            "margin": null,
            "max_height": null,
            "max_width": null,
            "min_height": null,
            "min_width": null,
            "object_fit": null,
            "object_position": null,
            "order": null,
            "overflow": null,
            "overflow_x": null,
            "overflow_y": null,
            "padding": null,
            "right": null,
            "top": null,
            "visibility": null,
            "width": null
          }
        },
        "5ae8eaa505ca48ad8eee06b8175c5a98": {
          "model_module": "@jupyter-widgets/output",
          "model_module_version": "1.0.0",
          "model_name": "OutputModel",
          "state": {
            "_dom_classes": [],
            "_model_module": "@jupyter-widgets/output",
            "_model_module_version": "1.0.0",
            "_model_name": "OutputModel",
            "_view_count": null,
            "_view_module": "@jupyter-widgets/output",
            "_view_module_version": "1.0.0",
            "_view_name": "OutputView",
            "layout": "IPY_MODEL_cc764ae9496f45b39a3a5b40029b9196",
            "msg_id": "",
            "outputs": [
              {
                "data": {
                  "text/html": "<pre style=\"white-space:pre;overflow-x:auto;line-height:normal;font-family:Menlo,'DejaVu Sans Mono',consolas,'Courier New',monospace\"><span style=\"color: #008000; text-decoration-color: #008000\">⠴</span> ✨ 🍰 ✨ You're using DeepEval's latest Faithfulness Metric (using gpt-4)! This may take a minute...\n</pre>\n",
                  "text/plain": "\u001b[32m⠴\u001b[0m ✨ 🍰 ✨ You're using DeepEval's latest Faithfulness Metric (using gpt-4)! This may take a minute...\n"
                },
                "metadata": {},
                "output_type": "display_data"
              }
            ]
          }
        },
        "5e5bdc4043184b08a949a573bb20c0ec": {
          "model_module": "@jupyter-widgets/controls",
          "model_module_version": "1.5.0",
          "model_name": "DescriptionStyleModel",
          "state": {
            "_model_module": "@jupyter-widgets/controls",
            "_model_module_version": "1.5.0",
            "_model_name": "DescriptionStyleModel",
            "_view_count": null,
            "_view_module": "@jupyter-widgets/base",
            "_view_module_version": "1.2.0",
            "_view_name": "StyleView",
            "description_width": ""
          }
        },
        "60d1e49ed7564aa0a3ae5fb87287a118": {
          "model_module": "@jupyter-widgets/base",
          "model_module_version": "1.2.0",
          "model_name": "LayoutModel",
          "state": {
            "_model_module": "@jupyter-widgets/base",
            "_model_module_version": "1.2.0",
            "_model_name": "LayoutModel",
            "_view_count": null,
            "_view_module": "@jupyter-widgets/base",
            "_view_module_version": "1.2.0",
            "_view_name": "LayoutView",
            "align_content": null,
            "align_items": null,
            "align_self": null,
            "border": null,
            "bottom": null,
            "display": null,
            "flex": null,
            "flex_flow": null,
            "grid_area": null,
            "grid_auto_columns": null,
            "grid_auto_flow": null,
            "grid_auto_rows": null,
            "grid_column": null,
            "grid_gap": null,
            "grid_row": null,
            "grid_template_areas": null,
            "grid_template_columns": null,
            "grid_template_rows": null,
            "height": null,
            "justify_content": null,
            "justify_items": null,
            "left": null,
            "margin": null,
            "max_height": null,
            "max_width": null,
            "min_height": null,
            "min_width": null,
            "object_fit": null,
            "object_position": null,
            "order": null,
            "overflow": null,
            "overflow_x": null,
            "overflow_y": null,
            "padding": null,
            "right": null,
            "top": null,
            "visibility": null,
            "width": null
          }
        },
        "62107ac42cd64349859a040cf54e960a": {
          "model_module": "@jupyter-widgets/base",
          "model_module_version": "1.2.0",
          "model_name": "LayoutModel",
          "state": {
            "_model_module": "@jupyter-widgets/base",
            "_model_module_version": "1.2.0",
            "_model_name": "LayoutModel",
            "_view_count": null,
            "_view_module": "@jupyter-widgets/base",
            "_view_module_version": "1.2.0",
            "_view_name": "LayoutView",
            "align_content": null,
            "align_items": null,
            "align_self": null,
            "border": null,
            "bottom": null,
            "display": null,
            "flex": null,
            "flex_flow": null,
            "grid_area": null,
            "grid_auto_columns": null,
            "grid_auto_flow": null,
            "grid_auto_rows": null,
            "grid_column": null,
            "grid_gap": null,
            "grid_row": null,
            "grid_template_areas": null,
            "grid_template_columns": null,
            "grid_template_rows": null,
            "height": null,
            "justify_content": null,
            "justify_items": null,
            "left": null,
            "margin": null,
            "max_height": null,
            "max_width": null,
            "min_height": null,
            "min_width": null,
            "object_fit": null,
            "object_position": null,
            "order": null,
            "overflow": null,
            "overflow_x": null,
            "overflow_y": null,
            "padding": null,
            "right": null,
            "top": null,
            "visibility": null,
            "width": null
          }
        },
        "621e6dac0fa6454887265fdf7f8c14d3": {
          "model_module": "@jupyter-widgets/base",
          "model_module_version": "1.2.0",
          "model_name": "LayoutModel",
          "state": {
            "_model_module": "@jupyter-widgets/base",
            "_model_module_version": "1.2.0",
            "_model_name": "LayoutModel",
            "_view_count": null,
            "_view_module": "@jupyter-widgets/base",
            "_view_module_version": "1.2.0",
            "_view_name": "LayoutView",
            "align_content": null,
            "align_items": null,
            "align_self": null,
            "border": null,
            "bottom": null,
            "display": null,
            "flex": null,
            "flex_flow": null,
            "grid_area": null,
            "grid_auto_columns": null,
            "grid_auto_flow": null,
            "grid_auto_rows": null,
            "grid_column": null,
            "grid_gap": null,
            "grid_row": null,
            "grid_template_areas": null,
            "grid_template_columns": null,
            "grid_template_rows": null,
            "height": null,
            "justify_content": null,
            "justify_items": null,
            "left": null,
            "margin": null,
            "max_height": null,
            "max_width": null,
            "min_height": null,
            "min_width": null,
            "object_fit": null,
            "object_position": null,
            "order": null,
            "overflow": null,
            "overflow_x": null,
            "overflow_y": null,
            "padding": null,
            "right": null,
            "top": null,
            "visibility": null,
            "width": null
          }
        },
        "675904b673ca4c578ef16a777995b8d4": {
          "model_module": "@jupyter-widgets/controls",
          "model_module_version": "1.5.0",
          "model_name": "DescriptionStyleModel",
          "state": {
            "_model_module": "@jupyter-widgets/controls",
            "_model_module_version": "1.5.0",
            "_model_name": "DescriptionStyleModel",
            "_view_count": null,
            "_view_module": "@jupyter-widgets/base",
            "_view_module_version": "1.2.0",
            "_view_name": "StyleView",
            "description_width": ""
          }
        },
        "67dc3c5b24fc433e9c34ab8faa5e58e0": {
          "model_module": "@jupyter-widgets/base",
          "model_module_version": "1.2.0",
          "model_name": "LayoutModel",
          "state": {
            "_model_module": "@jupyter-widgets/base",
            "_model_module_version": "1.2.0",
            "_model_name": "LayoutModel",
            "_view_count": null,
            "_view_module": "@jupyter-widgets/base",
            "_view_module_version": "1.2.0",
            "_view_name": "LayoutView",
            "align_content": null,
            "align_items": null,
            "align_self": null,
            "border": null,
            "bottom": null,
            "display": null,
            "flex": null,
            "flex_flow": null,
            "grid_area": null,
            "grid_auto_columns": null,
            "grid_auto_flow": null,
            "grid_auto_rows": null,
            "grid_column": null,
            "grid_gap": null,
            "grid_row": null,
            "grid_template_areas": null,
            "grid_template_columns": null,
            "grid_template_rows": null,
            "height": null,
            "justify_content": null,
            "justify_items": null,
            "left": null,
            "margin": null,
            "max_height": null,
            "max_width": null,
            "min_height": null,
            "min_width": null,
            "object_fit": null,
            "object_position": null,
            "order": null,
            "overflow": null,
            "overflow_x": null,
            "overflow_y": null,
            "padding": null,
            "right": null,
            "top": null,
            "visibility": null,
            "width": null
          }
        },
        "6cbfaa160fef4aeeb4f273d14ea896dd": {
          "model_module": "@jupyter-widgets/base",
          "model_module_version": "1.2.0",
          "model_name": "LayoutModel",
          "state": {
            "_model_module": "@jupyter-widgets/base",
            "_model_module_version": "1.2.0",
            "_model_name": "LayoutModel",
            "_view_count": null,
            "_view_module": "@jupyter-widgets/base",
            "_view_module_version": "1.2.0",
            "_view_name": "LayoutView",
            "align_content": null,
            "align_items": null,
            "align_self": null,
            "border": null,
            "bottom": null,
            "display": null,
            "flex": null,
            "flex_flow": null,
            "grid_area": null,
            "grid_auto_columns": null,
            "grid_auto_flow": null,
            "grid_auto_rows": null,
            "grid_column": null,
            "grid_gap": null,
            "grid_row": null,
            "grid_template_areas": null,
            "grid_template_columns": null,
            "grid_template_rows": null,
            "height": null,
            "justify_content": null,
            "justify_items": null,
            "left": null,
            "margin": null,
            "max_height": null,
            "max_width": null,
            "min_height": null,
            "min_width": null,
            "object_fit": null,
            "object_position": null,
            "order": null,
            "overflow": null,
            "overflow_x": null,
            "overflow_y": null,
            "padding": null,
            "right": null,
            "top": null,
            "visibility": null,
            "width": null
          }
        },
        "6d812678e25b4ec8abfde1a16d5cad4e": {
          "model_module": "@jupyter-widgets/controls",
          "model_module_version": "1.5.0",
          "model_name": "ProgressStyleModel",
          "state": {
            "_model_module": "@jupyter-widgets/controls",
            "_model_module_version": "1.5.0",
            "_model_name": "ProgressStyleModel",
            "_view_count": null,
            "_view_module": "@jupyter-widgets/base",
            "_view_module_version": "1.2.0",
            "_view_name": "StyleView",
            "bar_color": null,
            "description_width": ""
          }
        },
        "6dcc415dd1e5430dbfdba67a94f81aac": {
          "model_module": "@jupyter-widgets/output",
          "model_module_version": "1.0.0",
          "model_name": "OutputModel",
          "state": {
            "_dom_classes": [],
            "_model_module": "@jupyter-widgets/output",
            "_model_module_version": "1.0.0",
            "_model_name": "OutputModel",
            "_view_count": null,
            "_view_module": "@jupyter-widgets/output",
            "_view_module_version": "1.0.0",
            "_view_name": "OutputView",
            "layout": "IPY_MODEL_e2c57c3decf744afa591e6021ec9b1c0",
            "msg_id": "",
            "outputs": [
              {
                "data": {
                  "text/html": "<pre style=\"white-space:pre;overflow-x:auto;line-height:normal;font-family:Menlo,'DejaVu Sans Mono',consolas,'Courier New',monospace\"><span style=\"color: #008000; text-decoration-color: #008000\">⠴</span> ✨ 🍰 ✨ You're using DeepEval's latest Contextual Precision Metric (using gpt-4)! This may take a minute...\n</pre>\n",
                  "text/plain": "\u001b[32m⠴\u001b[0m ✨ 🍰 ✨ You're using DeepEval's latest Contextual Precision Metric (using gpt-4)! This may take a minute...\n"
                },
                "metadata": {},
                "output_type": "display_data"
              }
            ]
          }
        },
        "6dccecdd0a82418a987914dddc64dc92": {
          "model_module": "@jupyter-widgets/output",
          "model_module_version": "1.0.0",
          "model_name": "OutputModel",
          "state": {
            "_dom_classes": [],
            "_model_module": "@jupyter-widgets/output",
            "_model_module_version": "1.0.0",
            "_model_name": "OutputModel",
            "_view_count": null,
            "_view_module": "@jupyter-widgets/output",
            "_view_module_version": "1.0.0",
            "_view_name": "OutputView",
            "layout": "IPY_MODEL_0e0ee9fb22d648b2b1c2acb4b6a09732",
            "msg_id": "",
            "outputs": [
              {
                "data": {
                  "text/html": "<pre style=\"white-space:pre;overflow-x:auto;line-height:normal;font-family:Menlo,'DejaVu Sans Mono',consolas,'Courier New',monospace\"><span style=\"color: #008000; text-decoration-color: #008000\">⠹</span> ✨ 🍰 ✨ You're using DeepEval's latest Contextual Precision Metric (using gpt-4)! This may take a minute...\n</pre>\n",
                  "text/plain": "\u001b[32m⠹\u001b[0m ✨ 🍰 ✨ You're using DeepEval's latest Contextual Precision Metric (using gpt-4)! This may take a minute...\n"
                },
                "metadata": {},
                "output_type": "display_data"
              }
            ]
          }
        },
        "6dea007209214945b93b6bb9754a3185": {
          "model_module": "@jupyter-widgets/controls",
          "model_module_version": "1.5.0",
          "model_name": "HTMLModel",
          "state": {
            "_dom_classes": [],
            "_model_module": "@jupyter-widgets/controls",
            "_model_module_version": "1.5.0",
            "_model_name": "HTMLModel",
            "_view_count": null,
            "_view_module": "@jupyter-widgets/controls",
            "_view_module_version": "1.5.0",
            "_view_name": "HTMLView",
            "description": "",
            "description_tooltip": null,
            "layout": "IPY_MODEL_9cd5c8b2e8674dfb8cd82363bbab30fc",
            "placeholder": "​",
            "style": "IPY_MODEL_476b58f1c20c4f3fa75f7db2d8959f22",
            "value": " 130319/130319 [00:00&lt;00:00, 251683.43 examples/s]"
          }
        },
        "6e0b90efbdbe4f06bb4e4606374e24a0": {
          "model_module": "@jupyter-widgets/controls",
          "model_module_version": "1.5.0",
          "model_name": "HBoxModel",
          "state": {
            "_dom_classes": [],
            "_model_module": "@jupyter-widgets/controls",
            "_model_module_version": "1.5.0",
            "_model_name": "HBoxModel",
            "_view_count": null,
            "_view_module": "@jupyter-widgets/controls",
            "_view_module_version": "1.5.0",
            "_view_name": "HBoxView",
            "box_style": "",
            "children": [
              "IPY_MODEL_0562644fed5f48e8ad9732ef1147ddd9",
              "IPY_MODEL_a90a1ef04530404fb837328d17a4842f",
              "IPY_MODEL_4b56ff9a99e84d3980c6b941a7015dcb"
            ],
            "layout": "IPY_MODEL_44caede104434cd5a75a3189d134cd01"
          }
        },
        "713f9175346140a6a8b5a60915ec3eb2": {
          "model_module": "@jupyter-widgets/output",
          "model_module_version": "1.0.0",
          "model_name": "OutputModel",
          "state": {
            "_dom_classes": [],
            "_model_module": "@jupyter-widgets/output",
            "_model_module_version": "1.0.0",
            "_model_name": "OutputModel",
            "_view_count": null,
            "_view_module": "@jupyter-widgets/output",
            "_view_module_version": "1.0.0",
            "_view_name": "OutputView",
            "layout": "IPY_MODEL_35da6c45d95540c883b87df1985a530d",
            "msg_id": "",
            "outputs": [
              {
                "data": {
                  "text/html": "<pre style=\"white-space:pre;overflow-x:auto;line-height:normal;font-family:Menlo,'DejaVu Sans Mono',consolas,'Courier New',monospace\"><span style=\"color: #008000; text-decoration-color: #008000\">⠇</span> ✨ 🍰 ✨ You're using DeepEval's latest Contextual Relevancy Metric (using gpt-4)! This may take a minute...\n</pre>\n",
                  "text/plain": "\u001b[32m⠇\u001b[0m ✨ 🍰 ✨ You're using DeepEval's latest Contextual Relevancy Metric (using gpt-4)! This may take a minute...\n"
                },
                "metadata": {},
                "output_type": "display_data"
              }
            ]
          }
        },
        "72fa3d3d04f54f91be7dd6429721c6e5": {
          "model_module": "@jupyter-widgets/output",
          "model_module_version": "1.0.0",
          "model_name": "OutputModel",
          "state": {
            "_dom_classes": [],
            "_model_module": "@jupyter-widgets/output",
            "_model_module_version": "1.0.0",
            "_model_name": "OutputModel",
            "_view_count": null,
            "_view_module": "@jupyter-widgets/output",
            "_view_module_version": "1.0.0",
            "_view_name": "OutputView",
            "layout": "IPY_MODEL_191ecf80edfd4653b01a69428d560032",
            "msg_id": "",
            "outputs": [
              {
                "data": {
                  "text/html": "<pre style=\"white-space:pre;overflow-x:auto;line-height:normal;font-family:Menlo,'DejaVu Sans Mono',consolas,'Courier New',monospace\"><span style=\"color: #008000; text-decoration-color: #008000\">⠹</span> ✨ 🍰 ✨ You're using DeepEval's latest Contextual Relevancy Metric (using gpt-4)! This may take a minute...\n</pre>\n",
                  "text/plain": "\u001b[32m⠹\u001b[0m ✨ 🍰 ✨ You're using DeepEval's latest Contextual Relevancy Metric (using gpt-4)! This may take a minute...\n"
                },
                "metadata": {},
                "output_type": "display_data"
              }
            ]
          }
        },
        "74f15702bb124e90b8881bc416c5d2e2": {
          "model_module": "@jupyter-widgets/base",
          "model_module_version": "1.2.0",
          "model_name": "LayoutModel",
          "state": {
            "_model_module": "@jupyter-widgets/base",
            "_model_module_version": "1.2.0",
            "_model_name": "LayoutModel",
            "_view_count": null,
            "_view_module": "@jupyter-widgets/base",
            "_view_module_version": "1.2.0",
            "_view_name": "LayoutView",
            "align_content": null,
            "align_items": null,
            "align_self": null,
            "border": null,
            "bottom": null,
            "display": null,
            "flex": null,
            "flex_flow": null,
            "grid_area": null,
            "grid_auto_columns": null,
            "grid_auto_flow": null,
            "grid_auto_rows": null,
            "grid_column": null,
            "grid_gap": null,
            "grid_row": null,
            "grid_template_areas": null,
            "grid_template_columns": null,
            "grid_template_rows": null,
            "height": null,
            "justify_content": null,
            "justify_items": null,
            "left": null,
            "margin": null,
            "max_height": null,
            "max_width": null,
            "min_height": null,
            "min_width": null,
            "object_fit": null,
            "object_position": null,
            "order": null,
            "overflow": null,
            "overflow_x": null,
            "overflow_y": null,
            "padding": null,
            "right": null,
            "top": null,
            "visibility": null,
            "width": null
          }
        },
        "77c714ea90d94d668f76f6d6458af173": {
          "model_module": "@jupyter-widgets/base",
          "model_module_version": "1.2.0",
          "model_name": "LayoutModel",
          "state": {
            "_model_module": "@jupyter-widgets/base",
            "_model_module_version": "1.2.0",
            "_model_name": "LayoutModel",
            "_view_count": null,
            "_view_module": "@jupyter-widgets/base",
            "_view_module_version": "1.2.0",
            "_view_name": "LayoutView",
            "align_content": null,
            "align_items": null,
            "align_self": null,
            "border": null,
            "bottom": null,
            "display": null,
            "flex": null,
            "flex_flow": null,
            "grid_area": null,
            "grid_auto_columns": null,
            "grid_auto_flow": null,
            "grid_auto_rows": null,
            "grid_column": null,
            "grid_gap": null,
            "grid_row": null,
            "grid_template_areas": null,
            "grid_template_columns": null,
            "grid_template_rows": null,
            "height": null,
            "justify_content": null,
            "justify_items": null,
            "left": null,
            "margin": null,
            "max_height": null,
            "max_width": null,
            "min_height": null,
            "min_width": null,
            "object_fit": null,
            "object_position": null,
            "order": null,
            "overflow": null,
            "overflow_x": null,
            "overflow_y": null,
            "padding": null,
            "right": null,
            "top": null,
            "visibility": null,
            "width": null
          }
        },
        "79c748fea30c46349a7b584a28a12385": {
          "model_module": "@jupyter-widgets/base",
          "model_module_version": "1.2.0",
          "model_name": "LayoutModel",
          "state": {
            "_model_module": "@jupyter-widgets/base",
            "_model_module_version": "1.2.0",
            "_model_name": "LayoutModel",
            "_view_count": null,
            "_view_module": "@jupyter-widgets/base",
            "_view_module_version": "1.2.0",
            "_view_name": "LayoutView",
            "align_content": null,
            "align_items": null,
            "align_self": null,
            "border": null,
            "bottom": null,
            "display": null,
            "flex": null,
            "flex_flow": null,
            "grid_area": null,
            "grid_auto_columns": null,
            "grid_auto_flow": null,
            "grid_auto_rows": null,
            "grid_column": null,
            "grid_gap": null,
            "grid_row": null,
            "grid_template_areas": null,
            "grid_template_columns": null,
            "grid_template_rows": null,
            "height": null,
            "justify_content": null,
            "justify_items": null,
            "left": null,
            "margin": null,
            "max_height": null,
            "max_width": null,
            "min_height": null,
            "min_width": null,
            "object_fit": null,
            "object_position": null,
            "order": null,
            "overflow": null,
            "overflow_x": null,
            "overflow_y": null,
            "padding": null,
            "right": null,
            "top": null,
            "visibility": null,
            "width": null
          }
        },
        "7ac2fa06b6af43ce8c93d45bd09410cc": {
          "model_module": "@jupyter-widgets/controls",
          "model_module_version": "1.5.0",
          "model_name": "DescriptionStyleModel",
          "state": {
            "_model_module": "@jupyter-widgets/controls",
            "_model_module_version": "1.5.0",
            "_model_name": "DescriptionStyleModel",
            "_view_count": null,
            "_view_module": "@jupyter-widgets/base",
            "_view_module_version": "1.2.0",
            "_view_name": "StyleView",
            "description_width": ""
          }
        },
        "82350be333ab4ec49f0f3f26162e02be": {
          "model_module": "@jupyter-widgets/controls",
          "model_module_version": "1.5.0",
          "model_name": "HBoxModel",
          "state": {
            "_dom_classes": [],
            "_model_module": "@jupyter-widgets/controls",
            "_model_module_version": "1.5.0",
            "_model_name": "HBoxModel",
            "_view_count": null,
            "_view_module": "@jupyter-widgets/controls",
            "_view_module_version": "1.5.0",
            "_view_name": "HBoxView",
            "box_style": "",
            "children": [
              "IPY_MODEL_b210ca088d55443389cc03fcda3cc166",
              "IPY_MODEL_3da15c7e57fa461bad6ee4a41a7ee6be",
              "IPY_MODEL_4fc7fe98ed9e43fa96c3e862f24518a5"
            ],
            "layout": "IPY_MODEL_420fb1c93d2b4b5daffb4bd40261172e"
          }
        },
        "8770ef290a2b4174845a8307197e0701": {
          "model_module": "@jupyter-widgets/controls",
          "model_module_version": "1.5.0",
          "model_name": "ProgressStyleModel",
          "state": {
            "_model_module": "@jupyter-widgets/controls",
            "_model_module_version": "1.5.0",
            "_model_name": "ProgressStyleModel",
            "_view_count": null,
            "_view_module": "@jupyter-widgets/base",
            "_view_module_version": "1.2.0",
            "_view_name": "StyleView",
            "bar_color": null,
            "description_width": ""
          }
        },
        "8949db0390d942a0a13269e6aba5bc9d": {
          "model_module": "@jupyter-widgets/controls",
          "model_module_version": "1.5.0",
          "model_name": "DescriptionStyleModel",
          "state": {
            "_model_module": "@jupyter-widgets/controls",
            "_model_module_version": "1.5.0",
            "_model_name": "DescriptionStyleModel",
            "_view_count": null,
            "_view_module": "@jupyter-widgets/base",
            "_view_module_version": "1.2.0",
            "_view_name": "StyleView",
            "description_width": ""
          }
        },
        "8b9384106cf34271ade70d362baad763": {
          "model_module": "@jupyter-widgets/controls",
          "model_module_version": "1.5.0",
          "model_name": "ProgressStyleModel",
          "state": {
            "_model_module": "@jupyter-widgets/controls",
            "_model_module_version": "1.5.0",
            "_model_name": "ProgressStyleModel",
            "_view_count": null,
            "_view_module": "@jupyter-widgets/base",
            "_view_module_version": "1.2.0",
            "_view_name": "StyleView",
            "bar_color": null,
            "description_width": ""
          }
        },
        "9037f3bdb47947f18ac3a324148a25ba": {
          "model_module": "@jupyter-widgets/controls",
          "model_module_version": "1.5.0",
          "model_name": "DescriptionStyleModel",
          "state": {
            "_model_module": "@jupyter-widgets/controls",
            "_model_module_version": "1.5.0",
            "_model_name": "DescriptionStyleModel",
            "_view_count": null,
            "_view_module": "@jupyter-widgets/base",
            "_view_module_version": "1.2.0",
            "_view_name": "StyleView",
            "description_width": ""
          }
        },
        "90df55f944a34dd19c5ef581dd10e8c7": {
          "model_module": "@jupyter-widgets/base",
          "model_module_version": "1.2.0",
          "model_name": "LayoutModel",
          "state": {
            "_model_module": "@jupyter-widgets/base",
            "_model_module_version": "1.2.0",
            "_model_name": "LayoutModel",
            "_view_count": null,
            "_view_module": "@jupyter-widgets/base",
            "_view_module_version": "1.2.0",
            "_view_name": "LayoutView",
            "align_content": null,
            "align_items": null,
            "align_self": null,
            "border": null,
            "bottom": null,
            "display": null,
            "flex": null,
            "flex_flow": null,
            "grid_area": null,
            "grid_auto_columns": null,
            "grid_auto_flow": null,
            "grid_auto_rows": null,
            "grid_column": null,
            "grid_gap": null,
            "grid_row": null,
            "grid_template_areas": null,
            "grid_template_columns": null,
            "grid_template_rows": null,
            "height": null,
            "justify_content": null,
            "justify_items": null,
            "left": null,
            "margin": null,
            "max_height": null,
            "max_width": null,
            "min_height": null,
            "min_width": null,
            "object_fit": null,
            "object_position": null,
            "order": null,
            "overflow": null,
            "overflow_x": null,
            "overflow_y": null,
            "padding": null,
            "right": null,
            "top": null,
            "visibility": null,
            "width": null
          }
        },
        "942b6e576097465bac964355006473b1": {
          "model_module": "@jupyter-widgets/base",
          "model_module_version": "1.2.0",
          "model_name": "LayoutModel",
          "state": {
            "_model_module": "@jupyter-widgets/base",
            "_model_module_version": "1.2.0",
            "_model_name": "LayoutModel",
            "_view_count": null,
            "_view_module": "@jupyter-widgets/base",
            "_view_module_version": "1.2.0",
            "_view_name": "LayoutView",
            "align_content": null,
            "align_items": null,
            "align_self": null,
            "border": null,
            "bottom": null,
            "display": null,
            "flex": null,
            "flex_flow": null,
            "grid_area": null,
            "grid_auto_columns": null,
            "grid_auto_flow": null,
            "grid_auto_rows": null,
            "grid_column": null,
            "grid_gap": null,
            "grid_row": null,
            "grid_template_areas": null,
            "grid_template_columns": null,
            "grid_template_rows": null,
            "height": null,
            "justify_content": null,
            "justify_items": null,
            "left": null,
            "margin": null,
            "max_height": null,
            "max_width": null,
            "min_height": null,
            "min_width": null,
            "object_fit": null,
            "object_position": null,
            "order": null,
            "overflow": null,
            "overflow_x": null,
            "overflow_y": null,
            "padding": null,
            "right": null,
            "top": null,
            "visibility": null,
            "width": null
          }
        },
        "9525696cd0b848f7a0213d774d221081": {
          "model_module": "@jupyter-widgets/base",
          "model_module_version": "1.2.0",
          "model_name": "LayoutModel",
          "state": {
            "_model_module": "@jupyter-widgets/base",
            "_model_module_version": "1.2.0",
            "_model_name": "LayoutModel",
            "_view_count": null,
            "_view_module": "@jupyter-widgets/base",
            "_view_module_version": "1.2.0",
            "_view_name": "LayoutView",
            "align_content": null,
            "align_items": null,
            "align_self": null,
            "border": null,
            "bottom": null,
            "display": null,
            "flex": null,
            "flex_flow": null,
            "grid_area": null,
            "grid_auto_columns": null,
            "grid_auto_flow": null,
            "grid_auto_rows": null,
            "grid_column": null,
            "grid_gap": null,
            "grid_row": null,
            "grid_template_areas": null,
            "grid_template_columns": null,
            "grid_template_rows": null,
            "height": null,
            "justify_content": null,
            "justify_items": null,
            "left": null,
            "margin": null,
            "max_height": null,
            "max_width": null,
            "min_height": null,
            "min_width": null,
            "object_fit": null,
            "object_position": null,
            "order": null,
            "overflow": null,
            "overflow_x": null,
            "overflow_y": null,
            "padding": null,
            "right": null,
            "top": null,
            "visibility": null,
            "width": null
          }
        },
        "975275dbb3d2479e8d317ae14cac0054": {
          "model_module": "@jupyter-widgets/controls",
          "model_module_version": "1.5.0",
          "model_name": "DescriptionStyleModel",
          "state": {
            "_model_module": "@jupyter-widgets/controls",
            "_model_module_version": "1.5.0",
            "_model_name": "DescriptionStyleModel",
            "_view_count": null,
            "_view_module": "@jupyter-widgets/base",
            "_view_module_version": "1.2.0",
            "_view_name": "StyleView",
            "description_width": ""
          }
        },
        "98c3859bfe82482e87d5798eddd51f61": {
          "model_module": "@jupyter-widgets/base",
          "model_module_version": "1.2.0",
          "model_name": "LayoutModel",
          "state": {
            "_model_module": "@jupyter-widgets/base",
            "_model_module_version": "1.2.0",
            "_model_name": "LayoutModel",
            "_view_count": null,
            "_view_module": "@jupyter-widgets/base",
            "_view_module_version": "1.2.0",
            "_view_name": "LayoutView",
            "align_content": null,
            "align_items": null,
            "align_self": null,
            "border": null,
            "bottom": null,
            "display": null,
            "flex": null,
            "flex_flow": null,
            "grid_area": null,
            "grid_auto_columns": null,
            "grid_auto_flow": null,
            "grid_auto_rows": null,
            "grid_column": null,
            "grid_gap": null,
            "grid_row": null,
            "grid_template_areas": null,
            "grid_template_columns": null,
            "grid_template_rows": null,
            "height": null,
            "justify_content": null,
            "justify_items": null,
            "left": null,
            "margin": null,
            "max_height": null,
            "max_width": null,
            "min_height": null,
            "min_width": null,
            "object_fit": null,
            "object_position": null,
            "order": null,
            "overflow": null,
            "overflow_x": null,
            "overflow_y": null,
            "padding": null,
            "right": null,
            "top": null,
            "visibility": null,
            "width": null
          }
        },
        "98d6d1ff6fe94c2889503aa6f03d2019": {
          "model_module": "@jupyter-widgets/base",
          "model_module_version": "1.2.0",
          "model_name": "LayoutModel",
          "state": {
            "_model_module": "@jupyter-widgets/base",
            "_model_module_version": "1.2.0",
            "_model_name": "LayoutModel",
            "_view_count": null,
            "_view_module": "@jupyter-widgets/base",
            "_view_module_version": "1.2.0",
            "_view_name": "LayoutView",
            "align_content": null,
            "align_items": null,
            "align_self": null,
            "border": null,
            "bottom": null,
            "display": null,
            "flex": null,
            "flex_flow": null,
            "grid_area": null,
            "grid_auto_columns": null,
            "grid_auto_flow": null,
            "grid_auto_rows": null,
            "grid_column": null,
            "grid_gap": null,
            "grid_row": null,
            "grid_template_areas": null,
            "grid_template_columns": null,
            "grid_template_rows": null,
            "height": null,
            "justify_content": null,
            "justify_items": null,
            "left": null,
            "margin": null,
            "max_height": null,
            "max_width": null,
            "min_height": null,
            "min_width": null,
            "object_fit": null,
            "object_position": null,
            "order": null,
            "overflow": null,
            "overflow_x": null,
            "overflow_y": null,
            "padding": null,
            "right": null,
            "top": null,
            "visibility": null,
            "width": null
          }
        },
        "99d9b2c90ca541249deca02e8878abac": {
          "model_module": "@jupyter-widgets/output",
          "model_module_version": "1.0.0",
          "model_name": "OutputModel",
          "state": {
            "_dom_classes": [],
            "_model_module": "@jupyter-widgets/output",
            "_model_module_version": "1.0.0",
            "_model_name": "OutputModel",
            "_view_count": null,
            "_view_module": "@jupyter-widgets/output",
            "_view_module_version": "1.0.0",
            "_view_name": "OutputView",
            "layout": "IPY_MODEL_9a8c1fa4fda74964b3cd1a00f97df713",
            "msg_id": "",
            "outputs": [
              {
                "data": {
                  "text/html": "<pre style=\"white-space:pre;overflow-x:auto;line-height:normal;font-family:Menlo,'DejaVu Sans Mono',consolas,'Courier New',monospace\"><span style=\"color: #008000; text-decoration-color: #008000\">⠋</span> ✨ 🍰 ✨ You're using DeepEval's latest Contextual Recall Metric (using gpt-4)! This may take a minute...\n</pre>\n",
                  "text/plain": "\u001b[32m⠋\u001b[0m ✨ 🍰 ✨ You're using DeepEval's latest Contextual Recall Metric (using gpt-4)! This may take a minute...\n"
                },
                "metadata": {},
                "output_type": "display_data"
              }
            ]
          }
        },
        "9a8c1fa4fda74964b3cd1a00f97df713": {
          "model_module": "@jupyter-widgets/base",
          "model_module_version": "1.2.0",
          "model_name": "LayoutModel",
          "state": {
            "_model_module": "@jupyter-widgets/base",
            "_model_module_version": "1.2.0",
            "_model_name": "LayoutModel",
            "_view_count": null,
            "_view_module": "@jupyter-widgets/base",
            "_view_module_version": "1.2.0",
            "_view_name": "LayoutView",
            "align_content": null,
            "align_items": null,
            "align_self": null,
            "border": null,
            "bottom": null,
            "display": null,
            "flex": null,
            "flex_flow": null,
            "grid_area": null,
            "grid_auto_columns": null,
            "grid_auto_flow": null,
            "grid_auto_rows": null,
            "grid_column": null,
            "grid_gap": null,
            "grid_row": null,
            "grid_template_areas": null,
            "grid_template_columns": null,
            "grid_template_rows": null,
            "height": null,
            "justify_content": null,
            "justify_items": null,
            "left": null,
            "margin": null,
            "max_height": null,
            "max_width": null,
            "min_height": null,
            "min_width": null,
            "object_fit": null,
            "object_position": null,
            "order": null,
            "overflow": null,
            "overflow_x": null,
            "overflow_y": null,
            "padding": null,
            "right": null,
            "top": null,
            "visibility": null,
            "width": null
          }
        },
        "9b235a93badf4901ad3f5b8c9c5d1cb4": {
          "model_module": "@jupyter-widgets/base",
          "model_module_version": "1.2.0",
          "model_name": "LayoutModel",
          "state": {
            "_model_module": "@jupyter-widgets/base",
            "_model_module_version": "1.2.0",
            "_model_name": "LayoutModel",
            "_view_count": null,
            "_view_module": "@jupyter-widgets/base",
            "_view_module_version": "1.2.0",
            "_view_name": "LayoutView",
            "align_content": null,
            "align_items": null,
            "align_self": null,
            "border": null,
            "bottom": null,
            "display": null,
            "flex": null,
            "flex_flow": null,
            "grid_area": null,
            "grid_auto_columns": null,
            "grid_auto_flow": null,
            "grid_auto_rows": null,
            "grid_column": null,
            "grid_gap": null,
            "grid_row": null,
            "grid_template_areas": null,
            "grid_template_columns": null,
            "grid_template_rows": null,
            "height": null,
            "justify_content": null,
            "justify_items": null,
            "left": null,
            "margin": null,
            "max_height": null,
            "max_width": null,
            "min_height": null,
            "min_width": null,
            "object_fit": null,
            "object_position": null,
            "order": null,
            "overflow": null,
            "overflow_x": null,
            "overflow_y": null,
            "padding": null,
            "right": null,
            "top": null,
            "visibility": null,
            "width": null
          }
        },
        "9c536b1ace0e44ef8c16b0578fd6b3af": {
          "model_module": "@jupyter-widgets/controls",
          "model_module_version": "1.5.0",
          "model_name": "FloatProgressModel",
          "state": {
            "_dom_classes": [],
            "_model_module": "@jupyter-widgets/controls",
            "_model_module_version": "1.5.0",
            "_model_name": "FloatProgressModel",
            "_view_count": null,
            "_view_module": "@jupyter-widgets/controls",
            "_view_module_version": "1.5.0",
            "_view_name": "ProgressView",
            "bar_style": "success",
            "description": "",
            "description_tooltip": null,
            "layout": "IPY_MODEL_e40d267e3ef44557a4b0eab36e0ce339",
            "max": 1204,
            "min": 0,
            "orientation": "horizontal",
            "style": "IPY_MODEL_5a6df8e408d143ff86952d6b3150632f",
            "value": 1204
          }
        },
        "9cd5c8b2e8674dfb8cd82363bbab30fc": {
          "model_module": "@jupyter-widgets/base",
          "model_module_version": "1.2.0",
          "model_name": "LayoutModel",
          "state": {
            "_model_module": "@jupyter-widgets/base",
            "_model_module_version": "1.2.0",
            "_model_name": "LayoutModel",
            "_view_count": null,
            "_view_module": "@jupyter-widgets/base",
            "_view_module_version": "1.2.0",
            "_view_name": "LayoutView",
            "align_content": null,
            "align_items": null,
            "align_self": null,
            "border": null,
            "bottom": null,
            "display": null,
            "flex": null,
            "flex_flow": null,
            "grid_area": null,
            "grid_auto_columns": null,
            "grid_auto_flow": null,
            "grid_auto_rows": null,
            "grid_column": null,
            "grid_gap": null,
            "grid_row": null,
            "grid_template_areas": null,
            "grid_template_columns": null,
            "grid_template_rows": null,
            "height": null,
            "justify_content": null,
            "justify_items": null,
            "left": null,
            "margin": null,
            "max_height": null,
            "max_width": null,
            "min_height": null,
            "min_width": null,
            "object_fit": null,
            "object_position": null,
            "order": null,
            "overflow": null,
            "overflow_x": null,
            "overflow_y": null,
            "padding": null,
            "right": null,
            "top": null,
            "visibility": null,
            "width": null
          }
        },
        "9de852d380924ba4a8ffd526b18babf5": {
          "model_module": "@jupyter-widgets/base",
          "model_module_version": "1.2.0",
          "model_name": "LayoutModel",
          "state": {
            "_model_module": "@jupyter-widgets/base",
            "_model_module_version": "1.2.0",
            "_model_name": "LayoutModel",
            "_view_count": null,
            "_view_module": "@jupyter-widgets/base",
            "_view_module_version": "1.2.0",
            "_view_name": "LayoutView",
            "align_content": null,
            "align_items": null,
            "align_self": null,
            "border": null,
            "bottom": null,
            "display": null,
            "flex": null,
            "flex_flow": null,
            "grid_area": null,
            "grid_auto_columns": null,
            "grid_auto_flow": null,
            "grid_auto_rows": null,
            "grid_column": null,
            "grid_gap": null,
            "grid_row": null,
            "grid_template_areas": null,
            "grid_template_columns": null,
            "grid_template_rows": null,
            "height": null,
            "justify_content": null,
            "justify_items": null,
            "left": null,
            "margin": null,
            "max_height": null,
            "max_width": null,
            "min_height": null,
            "min_width": null,
            "object_fit": null,
            "object_position": null,
            "order": null,
            "overflow": null,
            "overflow_x": null,
            "overflow_y": null,
            "padding": null,
            "right": null,
            "top": null,
            "visibility": null,
            "width": null
          }
        },
        "a2fff18ac8104547afd5d8d5369db7b7": {
          "model_module": "@jupyter-widgets/base",
          "model_module_version": "1.2.0",
          "model_name": "LayoutModel",
          "state": {
            "_model_module": "@jupyter-widgets/base",
            "_model_module_version": "1.2.0",
            "_model_name": "LayoutModel",
            "_view_count": null,
            "_view_module": "@jupyter-widgets/base",
            "_view_module_version": "1.2.0",
            "_view_name": "LayoutView",
            "align_content": null,
            "align_items": null,
            "align_self": null,
            "border": null,
            "bottom": null,
            "display": null,
            "flex": null,
            "flex_flow": null,
            "grid_area": null,
            "grid_auto_columns": null,
            "grid_auto_flow": null,
            "grid_auto_rows": null,
            "grid_column": null,
            "grid_gap": null,
            "grid_row": null,
            "grid_template_areas": null,
            "grid_template_columns": null,
            "grid_template_rows": null,
            "height": null,
            "justify_content": null,
            "justify_items": null,
            "left": null,
            "margin": null,
            "max_height": null,
            "max_width": null,
            "min_height": null,
            "min_width": null,
            "object_fit": null,
            "object_position": null,
            "order": null,
            "overflow": null,
            "overflow_x": null,
            "overflow_y": null,
            "padding": null,
            "right": null,
            "top": null,
            "visibility": null,
            "width": null
          }
        },
        "a34410f9ce2a4050bb428c34e5312026": {
          "model_module": "@jupyter-widgets/base",
          "model_module_version": "1.2.0",
          "model_name": "LayoutModel",
          "state": {
            "_model_module": "@jupyter-widgets/base",
            "_model_module_version": "1.2.0",
            "_model_name": "LayoutModel",
            "_view_count": null,
            "_view_module": "@jupyter-widgets/base",
            "_view_module_version": "1.2.0",
            "_view_name": "LayoutView",
            "align_content": null,
            "align_items": null,
            "align_self": null,
            "border": null,
            "bottom": null,
            "display": null,
            "flex": null,
            "flex_flow": null,
            "grid_area": null,
            "grid_auto_columns": null,
            "grid_auto_flow": null,
            "grid_auto_rows": null,
            "grid_column": null,
            "grid_gap": null,
            "grid_row": null,
            "grid_template_areas": null,
            "grid_template_columns": null,
            "grid_template_rows": null,
            "height": null,
            "justify_content": null,
            "justify_items": null,
            "left": null,
            "margin": null,
            "max_height": null,
            "max_width": null,
            "min_height": null,
            "min_width": null,
            "object_fit": null,
            "object_position": null,
            "order": null,
            "overflow": null,
            "overflow_x": null,
            "overflow_y": null,
            "padding": null,
            "right": null,
            "top": null,
            "visibility": null,
            "width": null
          }
        },
        "a3b496d277f74df69464a5e9dda63c23": {
          "model_module": "@jupyter-widgets/output",
          "model_module_version": "1.0.0",
          "model_name": "OutputModel",
          "state": {
            "_dom_classes": [],
            "_model_module": "@jupyter-widgets/output",
            "_model_module_version": "1.0.0",
            "_model_name": "OutputModel",
            "_view_count": null,
            "_view_module": "@jupyter-widgets/output",
            "_view_module_version": "1.0.0",
            "_view_name": "OutputView",
            "layout": "IPY_MODEL_98c3859bfe82482e87d5798eddd51f61",
            "msg_id": "",
            "outputs": [
              {
                "data": {
                  "text/html": "<pre style=\"white-space:pre;overflow-x:auto;line-height:normal;font-family:Menlo,'DejaVu Sans Mono',consolas,'Courier New',monospace\"><span style=\"color: #008000; text-decoration-color: #008000\">⠋</span> ✨ 🍰 ✨ You're using DeepEval's latest Faithfulness Metric (using gpt-4)! This may take a minute...\n</pre>\n",
                  "text/plain": "\u001b[32m⠋\u001b[0m ✨ 🍰 ✨ You're using DeepEval's latest Faithfulness Metric (using gpt-4)! This may take a minute...\n"
                },
                "metadata": {},
                "output_type": "display_data"
              }
            ]
          }
        },
        "a8470fba6ab4420fb592c820906a7579": {
          "model_module": "@jupyter-widgets/controls",
          "model_module_version": "1.5.0",
          "model_name": "HBoxModel",
          "state": {
            "_dom_classes": [],
            "_model_module": "@jupyter-widgets/controls",
            "_model_module_version": "1.5.0",
            "_model_name": "HBoxModel",
            "_view_count": null,
            "_view_module": "@jupyter-widgets/controls",
            "_view_module_version": "1.5.0",
            "_view_name": "HBoxView",
            "box_style": "",
            "children": [
              "IPY_MODEL_07902c894aec4233887a1a903b0f112b",
              "IPY_MODEL_27cb89f01c0546a2a06c96af28535448",
              "IPY_MODEL_6dea007209214945b93b6bb9754a3185"
            ],
            "layout": "IPY_MODEL_54d27ef845b840c7bd632e7616077777"
          }
        },
        "a90a1ef04530404fb837328d17a4842f": {
          "model_module": "@jupyter-widgets/controls",
          "model_module_version": "1.5.0",
          "model_name": "FloatProgressModel",
          "state": {
            "_dom_classes": [],
            "_model_module": "@jupyter-widgets/controls",
            "_model_module_version": "1.5.0",
            "_model_name": "FloatProgressModel",
            "_view_count": null,
            "_view_module": "@jupyter-widgets/controls",
            "_view_module_version": "1.5.0",
            "_view_name": "ProgressView",
            "bar_style": "success",
            "description": "",
            "description_tooltip": null,
            "layout": "IPY_MODEL_90df55f944a34dd19c5ef581dd10e8c7",
            "max": 16369982,
            "min": 0,
            "orientation": "horizontal",
            "style": "IPY_MODEL_8b9384106cf34271ade70d362baad763",
            "value": 16369982
          }
        },
        "aa3bbecfe5944da284019aff8baf44ea": {
          "model_module": "@jupyter-widgets/controls",
          "model_module_version": "1.5.0",
          "model_name": "HTMLModel",
          "state": {
            "_dom_classes": [],
            "_model_module": "@jupyter-widgets/controls",
            "_model_module_version": "1.5.0",
            "_model_name": "HTMLModel",
            "_view_count": null,
            "_view_module": "@jupyter-widgets/controls",
            "_view_module_version": "1.5.0",
            "_view_name": "HTMLView",
            "description": "",
            "description_tooltip": null,
            "layout": "IPY_MODEL_942b6e576097465bac964355006473b1",
            "placeholder": "​",
            "style": "IPY_MODEL_2e9a94bf99174fd08dc86a5e620b557a",
            "value": "Downloading readme: 100%"
          }
        },
        "acaa9927fcde4bcdb606107ac0265c6b": {
          "model_module": "@jupyter-widgets/controls",
          "model_module_version": "1.5.0",
          "model_name": "HTMLModel",
          "state": {
            "_dom_classes": [],
            "_model_module": "@jupyter-widgets/controls",
            "_model_module_version": "1.5.0",
            "_model_name": "HTMLModel",
            "_view_count": null,
            "_view_module": "@jupyter-widgets/controls",
            "_view_module_version": "1.5.0",
            "_view_name": "HTMLView",
            "description": "",
            "description_tooltip": null,
            "layout": "IPY_MODEL_a2fff18ac8104547afd5d8d5369db7b7",
            "placeholder": "​",
            "style": "IPY_MODEL_55b84b06a9fc417a90ee08ad622e3e92",
            "value": "Ranking by BM25...: 100%"
          }
        },
        "afed416a13094ef69b4cdebb0bb056bc": {
          "model_module": "@jupyter-widgets/output",
          "model_module_version": "1.0.0",
          "model_name": "OutputModel",
          "state": {
            "_dom_classes": [],
            "_model_module": "@jupyter-widgets/output",
            "_model_module_version": "1.0.0",
            "_model_name": "OutputModel",
            "_view_count": null,
            "_view_module": "@jupyter-widgets/output",
            "_view_module_version": "1.0.0",
            "_view_name": "OutputView",
            "layout": "IPY_MODEL_9de852d380924ba4a8ffd526b18babf5",
            "msg_id": "",
            "outputs": [
              {
                "data": {
                  "text/html": "<pre style=\"white-space:pre;overflow-x:auto;line-height:normal;font-family:Menlo,'DejaVu Sans Mono',consolas,'Courier New',monospace\"><span style=\"color: #008000; text-decoration-color: #008000\">⠇</span> ✨ 🍰 ✨ You're using DeepEval's latest Contextual Relevancy Metric (using gpt-4)! This may take a minute...\n</pre>\n",
                  "text/plain": "\u001b[32m⠇\u001b[0m ✨ 🍰 ✨ You're using DeepEval's latest Contextual Relevancy Metric (using gpt-4)! This may take a minute...\n"
                },
                "metadata": {},
                "output_type": "display_data"
              }
            ]
          }
        },
        "b09fb1900d114728ad51fe27f93ae23b": {
          "model_module": "@jupyter-widgets/controls",
          "model_module_version": "1.5.0",
          "model_name": "HTMLModel",
          "state": {
            "_dom_classes": [],
            "_model_module": "@jupyter-widgets/controls",
            "_model_module_version": "1.5.0",
            "_model_name": "HTMLModel",
            "_view_count": null,
            "_view_module": "@jupyter-widgets/controls",
            "_view_module_version": "1.5.0",
            "_view_name": "HTMLView",
            "description": "",
            "description_tooltip": null,
            "layout": "IPY_MODEL_9b235a93badf4901ad3f5b8c9c5d1cb4",
            "placeholder": "​",
            "style": "IPY_MODEL_8949db0390d942a0a13269e6aba5bc9d",
            "value": "Ranking by BM25...: 100%"
          }
        },
        "b1109dbbca474bd399c2c37b3bbed5d3": {
          "model_module": "@jupyter-widgets/base",
          "model_module_version": "1.2.0",
          "model_name": "LayoutModel",
          "state": {
            "_model_module": "@jupyter-widgets/base",
            "_model_module_version": "1.2.0",
            "_model_name": "LayoutModel",
            "_view_count": null,
            "_view_module": "@jupyter-widgets/base",
            "_view_module_version": "1.2.0",
            "_view_name": "LayoutView",
            "align_content": null,
            "align_items": null,
            "align_self": null,
            "border": null,
            "bottom": null,
            "display": null,
            "flex": null,
            "flex_flow": null,
            "grid_area": null,
            "grid_auto_columns": null,
            "grid_auto_flow": null,
            "grid_auto_rows": null,
            "grid_column": null,
            "grid_gap": null,
            "grid_row": null,
            "grid_template_areas": null,
            "grid_template_columns": null,
            "grid_template_rows": null,
            "height": null,
            "justify_content": null,
            "justify_items": null,
            "left": null,
            "margin": null,
            "max_height": null,
            "max_width": null,
            "min_height": null,
            "min_width": null,
            "object_fit": null,
            "object_position": null,
            "order": null,
            "overflow": null,
            "overflow_x": null,
            "overflow_y": null,
            "padding": null,
            "right": null,
            "top": null,
            "visibility": null,
            "width": null
          }
        },
        "b210ca088d55443389cc03fcda3cc166": {
          "model_module": "@jupyter-widgets/controls",
          "model_module_version": "1.5.0",
          "model_name": "HTMLModel",
          "state": {
            "_dom_classes": [],
            "_model_module": "@jupyter-widgets/controls",
            "_model_module_version": "1.5.0",
            "_model_name": "HTMLModel",
            "_view_count": null,
            "_view_module": "@jupyter-widgets/controls",
            "_view_module_version": "1.5.0",
            "_view_name": "HTMLView",
            "description": "",
            "description_tooltip": null,
            "layout": "IPY_MODEL_d56fd76a836c4f8f82b5a7c808db0a53",
            "placeholder": "​",
            "style": "IPY_MODEL_27f25685cd504798b38ad8147b0bd6e0",
            "value": "Ranking by BM25...: 100%"
          }
        },
        "b49dd1d055e246e8ab0bef9264a43e60": {
          "model_module": "@jupyter-widgets/base",
          "model_module_version": "1.2.0",
          "model_name": "LayoutModel",
          "state": {
            "_model_module": "@jupyter-widgets/base",
            "_model_module_version": "1.2.0",
            "_model_name": "LayoutModel",
            "_view_count": null,
            "_view_module": "@jupyter-widgets/base",
            "_view_module_version": "1.2.0",
            "_view_name": "LayoutView",
            "align_content": null,
            "align_items": null,
            "align_self": null,
            "border": null,
            "bottom": null,
            "display": null,
            "flex": null,
            "flex_flow": null,
            "grid_area": null,
            "grid_auto_columns": null,
            "grid_auto_flow": null,
            "grid_auto_rows": null,
            "grid_column": null,
            "grid_gap": null,
            "grid_row": null,
            "grid_template_areas": null,
            "grid_template_columns": null,
            "grid_template_rows": null,
            "height": null,
            "justify_content": null,
            "justify_items": null,
            "left": null,
            "margin": null,
            "max_height": null,
            "max_width": null,
            "min_height": null,
            "min_width": null,
            "object_fit": null,
            "object_position": null,
            "order": null,
            "overflow": null,
            "overflow_x": null,
            "overflow_y": null,
            "padding": null,
            "right": null,
            "top": null,
            "visibility": null,
            "width": null
          }
        },
        "b65f056df8354207b251ab5ef6a707a2": {
          "model_module": "@jupyter-widgets/base",
          "model_module_version": "1.2.0",
          "model_name": "LayoutModel",
          "state": {
            "_model_module": "@jupyter-widgets/base",
            "_model_module_version": "1.2.0",
            "_model_name": "LayoutModel",
            "_view_count": null,
            "_view_module": "@jupyter-widgets/base",
            "_view_module_version": "1.2.0",
            "_view_name": "LayoutView",
            "align_content": null,
            "align_items": null,
            "align_self": null,
            "border": null,
            "bottom": null,
            "display": null,
            "flex": null,
            "flex_flow": null,
            "grid_area": null,
            "grid_auto_columns": null,
            "grid_auto_flow": null,
            "grid_auto_rows": null,
            "grid_column": null,
            "grid_gap": null,
            "grid_row": null,
            "grid_template_areas": null,
            "grid_template_columns": null,
            "grid_template_rows": null,
            "height": null,
            "justify_content": null,
            "justify_items": null,
            "left": null,
            "margin": null,
            "max_height": null,
            "max_width": null,
            "min_height": null,
            "min_width": null,
            "object_fit": null,
            "object_position": null,
            "order": null,
            "overflow": null,
            "overflow_x": null,
            "overflow_y": null,
            "padding": null,
            "right": null,
            "top": null,
            "visibility": null,
            "width": null
          }
        },
        "b80967d207704c66ac86d4b7bfb8a8c6": {
          "model_module": "@jupyter-widgets/base",
          "model_module_version": "1.2.0",
          "model_name": "LayoutModel",
          "state": {
            "_model_module": "@jupyter-widgets/base",
            "_model_module_version": "1.2.0",
            "_model_name": "LayoutModel",
            "_view_count": null,
            "_view_module": "@jupyter-widgets/base",
            "_view_module_version": "1.2.0",
            "_view_name": "LayoutView",
            "align_content": null,
            "align_items": null,
            "align_self": null,
            "border": null,
            "bottom": null,
            "display": null,
            "flex": null,
            "flex_flow": null,
            "grid_area": null,
            "grid_auto_columns": null,
            "grid_auto_flow": null,
            "grid_auto_rows": null,
            "grid_column": null,
            "grid_gap": null,
            "grid_row": null,
            "grid_template_areas": null,
            "grid_template_columns": null,
            "grid_template_rows": null,
            "height": null,
            "justify_content": null,
            "justify_items": null,
            "left": null,
            "margin": null,
            "max_height": null,
            "max_width": null,
            "min_height": null,
            "min_width": null,
            "object_fit": null,
            "object_position": null,
            "order": null,
            "overflow": null,
            "overflow_x": null,
            "overflow_y": null,
            "padding": null,
            "right": null,
            "top": null,
            "visibility": null,
            "width": null
          }
        },
        "b8ca49ea0ee3418581c3e0d56e630c85": {
          "model_module": "@jupyter-widgets/controls",
          "model_module_version": "1.5.0",
          "model_name": "HTMLModel",
          "state": {
            "_dom_classes": [],
            "_model_module": "@jupyter-widgets/controls",
            "_model_module_version": "1.5.0",
            "_model_name": "HTMLModel",
            "_view_count": null,
            "_view_module": "@jupyter-widgets/controls",
            "_view_module_version": "1.5.0",
            "_view_name": "HTMLView",
            "description": "",
            "description_tooltip": null,
            "layout": "IPY_MODEL_be7d0bc998854467897804c94410c087",
            "placeholder": "​",
            "style": "IPY_MODEL_975275dbb3d2479e8d317ae14cac0054",
            "value": " 8.92k/8.92k [00:00&lt;00:00, 116kB/s]"
          }
        },
        "bb98efd743c84bdab5cb275e3ac8e6b9": {
          "model_module": "@jupyter-widgets/output",
          "model_module_version": "1.0.0",
          "model_name": "OutputModel",
          "state": {
            "_dom_classes": [],
            "_model_module": "@jupyter-widgets/output",
            "_model_module_version": "1.0.0",
            "_model_name": "OutputModel",
            "_view_count": null,
            "_view_module": "@jupyter-widgets/output",
            "_view_module_version": "1.0.0",
            "_view_name": "OutputView",
            "layout": "IPY_MODEL_167d5d9446f04530babc624ca48befb1",
            "msg_id": "",
            "outputs": [
              {
                "data": {
                  "text/html": "<pre style=\"white-space:pre;overflow-x:auto;line-height:normal;font-family:Menlo,'DejaVu Sans Mono',consolas,'Courier New',monospace\"><span style=\"color: #008000; text-decoration-color: #008000\">⠇</span> ✨ 🍰 ✨ You're using DeepEval's latest Faithfulness Metric (using gpt-4)! This may take a minute...\n</pre>\n",
                  "text/plain": "\u001b[32m⠇\u001b[0m ✨ 🍰 ✨ You're using DeepEval's latest Faithfulness Metric (using gpt-4)! This may take a minute...\n"
                },
                "metadata": {},
                "output_type": "display_data"
              }
            ]
          }
        },
        "bba0ef9673ed46b79c051b0befa1139b": {
          "model_module": "@jupyter-widgets/base",
          "model_module_version": "1.2.0",
          "model_name": "LayoutModel",
          "state": {
            "_model_module": "@jupyter-widgets/base",
            "_model_module_version": "1.2.0",
            "_model_name": "LayoutModel",
            "_view_count": null,
            "_view_module": "@jupyter-widgets/base",
            "_view_module_version": "1.2.0",
            "_view_name": "LayoutView",
            "align_content": null,
            "align_items": null,
            "align_self": null,
            "border": null,
            "bottom": null,
            "display": null,
            "flex": null,
            "flex_flow": null,
            "grid_area": null,
            "grid_auto_columns": null,
            "grid_auto_flow": null,
            "grid_auto_rows": null,
            "grid_column": null,
            "grid_gap": null,
            "grid_row": null,
            "grid_template_areas": null,
            "grid_template_columns": null,
            "grid_template_rows": null,
            "height": null,
            "justify_content": null,
            "justify_items": null,
            "left": null,
            "margin": null,
            "max_height": null,
            "max_width": null,
            "min_height": null,
            "min_width": null,
            "object_fit": null,
            "object_position": null,
            "order": null,
            "overflow": null,
            "overflow_x": null,
            "overflow_y": null,
            "padding": null,
            "right": null,
            "top": null,
            "visibility": null,
            "width": null
          }
        },
        "bc0a96ed84f24f91ac9ec7877459c5ee": {
          "model_module": "@jupyter-widgets/output",
          "model_module_version": "1.0.0",
          "model_name": "OutputModel",
          "state": {
            "_dom_classes": [],
            "_model_module": "@jupyter-widgets/output",
            "_model_module_version": "1.0.0",
            "_model_name": "OutputModel",
            "_view_count": null,
            "_view_module": "@jupyter-widgets/output",
            "_view_module_version": "1.0.0",
            "_view_name": "OutputView",
            "layout": "IPY_MODEL_62107ac42cd64349859a040cf54e960a",
            "msg_id": "",
            "outputs": [
              {
                "data": {
                  "text/html": "<pre style=\"white-space:pre;overflow-x:auto;line-height:normal;font-family:Menlo,'DejaVu Sans Mono',consolas,'Courier New',monospace\"><span style=\"color: #008000; text-decoration-color: #008000\">⠙</span> ✨ 🍰 ✨ You're using DeepEval's latest Contextual Recall Metric (using gpt-4)! This may take a minute...\n</pre>\n",
                  "text/plain": "\u001b[32m⠙\u001b[0m ✨ 🍰 ✨ You're using DeepEval's latest Contextual Recall Metric (using gpt-4)! This may take a minute...\n"
                },
                "metadata": {},
                "output_type": "display_data"
              }
            ]
          }
        },
        "be7d0bc998854467897804c94410c087": {
          "model_module": "@jupyter-widgets/base",
          "model_module_version": "1.2.0",
          "model_name": "LayoutModel",
          "state": {
            "_model_module": "@jupyter-widgets/base",
            "_model_module_version": "1.2.0",
            "_model_name": "LayoutModel",
            "_view_count": null,
            "_view_module": "@jupyter-widgets/base",
            "_view_module_version": "1.2.0",
            "_view_name": "LayoutView",
            "align_content": null,
            "align_items": null,
            "align_self": null,
            "border": null,
            "bottom": null,
            "display": null,
            "flex": null,
            "flex_flow": null,
            "grid_area": null,
            "grid_auto_columns": null,
            "grid_auto_flow": null,
            "grid_auto_rows": null,
            "grid_column": null,
            "grid_gap": null,
            "grid_row": null,
            "grid_template_areas": null,
            "grid_template_columns": null,
            "grid_template_rows": null,
            "height": null,
            "justify_content": null,
            "justify_items": null,
            "left": null,
            "margin": null,
            "max_height": null,
            "max_width": null,
            "min_height": null,
            "min_width": null,
            "object_fit": null,
            "object_position": null,
            "order": null,
            "overflow": null,
            "overflow_x": null,
            "overflow_y": null,
            "padding": null,
            "right": null,
            "top": null,
            "visibility": null,
            "width": null
          }
        },
        "c0358b409098420da7bfe302f9f48c5c": {
          "model_module": "@jupyter-widgets/output",
          "model_module_version": "1.0.0",
          "model_name": "OutputModel",
          "state": {
            "_dom_classes": [],
            "_model_module": "@jupyter-widgets/output",
            "_model_module_version": "1.0.0",
            "_model_name": "OutputModel",
            "_view_count": null,
            "_view_module": "@jupyter-widgets/output",
            "_view_module_version": "1.0.0",
            "_view_name": "OutputView",
            "layout": "IPY_MODEL_ebf2e2e45d53410e9126677c1cf61267",
            "msg_id": "",
            "outputs": [
              {
                "data": {
                  "text/html": "<pre style=\"white-space:pre;overflow-x:auto;line-height:normal;font-family:Menlo,'DejaVu Sans Mono',consolas,'Courier New',monospace\">  - ✅ Faithfulness (score: 1.0, threshold: 0.0, evaluation model: gpt-4, reason: The score is 1.00 because the \nactual output perfectly aligns with all the nodes in the retrieval context, without any contradictions.)\n</pre>\n",
                  "text/plain": "  - ✅ Faithfulness (score: 1.0, threshold: 0.0, evaluation model: gpt-4, reason: The score is 1.00 because the \nactual output perfectly aligns with all the nodes in the retrieval context, without any contradictions.)\n"
                },
                "metadata": {},
                "output_type": "display_data"
              },
              {
                "data": {
                  "text/html": "<pre style=\"white-space:pre;overflow-x:auto;line-height:normal;font-family:Menlo,'DejaVu Sans Mono',consolas,'Courier New',monospace\">\n</pre>\n",
                  "text/plain": "\n"
                },
                "metadata": {},
                "output_type": "display_data"
              },
              {
                "data": {
                  "text/html": "<pre style=\"white-space:pre;overflow-x:auto;line-height:normal;font-family:Menlo,'DejaVu Sans Mono',consolas,'Courier New',monospace\">For test case:\n</pre>\n",
                  "text/plain": "For test case:\n"
                },
                "metadata": {},
                "output_type": "display_data"
              },
              {
                "data": {
                  "text/html": "<pre style=\"white-space:pre;overflow-x:auto;line-height:normal;font-family:Menlo,'DejaVu Sans Mono',consolas,'Courier New',monospace\">\n</pre>\n",
                  "text/plain": "\n"
                },
                "metadata": {},
                "output_type": "display_data"
              },
              {
                "data": {
                  "text/html": "<pre style=\"white-space:pre;overflow-x:auto;line-height:normal;font-family:Menlo,'DejaVu Sans Mono',consolas,'Courier New',monospace\">  - input: What is the prize offered for finding a solution to P=NP?\n</pre>\n",
                  "text/plain": "  - input: What is the prize offered for finding a solution to P=NP?\n"
                },
                "metadata": {},
                "output_type": "display_data"
              },
              {
                "data": {
                  "text/html": "<pre style=\"white-space:pre;overflow-x:auto;line-height:normal;font-family:Menlo,'DejaVu Sans Mono',consolas,'Courier New',monospace\">  - actual output: The prize offered for finding a solution to P=NP is US$1,000,000.\n</pre>\n",
                  "text/plain": "  - actual output: The prize offered for finding a solution to P=NP is US$1,000,000.\n"
                },
                "metadata": {},
                "output_type": "display_data"
              },
              {
                "data": {
                  "text/html": "<pre style=\"white-space:pre;overflow-x:auto;line-height:normal;font-family:Menlo,'DejaVu Sans Mono',consolas,'Courier New',monospace\">  - expected output: None\n</pre>\n",
                  "text/plain": "  - expected output: None\n"
                },
                "metadata": {},
                "output_type": "display_data"
              },
              {
                "data": {
                  "text/html": "<pre style=\"white-space:pre;overflow-x:auto;line-height:normal;font-family:Menlo,'DejaVu Sans Mono',consolas,'Courier New',monospace\">  - context: None\n</pre>\n",
                  "text/plain": "  - context: None\n"
                },
                "metadata": {},
                "output_type": "display_data"
              },
              {
                "data": {
                  "text/html": "<pre style=\"white-space:pre;overflow-x:auto;line-height:normal;font-family:Menlo,'DejaVu Sans Mono',consolas,'Courier New',monospace\"><span style=\"color: #008000; text-decoration-color: #008000\">⠏</span> Evaluating testcases...\n</pre>\n",
                  "text/plain": "\u001b[32m⠏\u001b[0m Evaluating testcases...\n"
                },
                "metadata": {},
                "output_type": "display_data"
              }
            ]
          }
        },
        "c0764d64aa2f4e2484d8b2e2d228213c": {
          "model_module": "@jupyter-widgets/base",
          "model_module_version": "1.2.0",
          "model_name": "LayoutModel",
          "state": {
            "_model_module": "@jupyter-widgets/base",
            "_model_module_version": "1.2.0",
            "_model_name": "LayoutModel",
            "_view_count": null,
            "_view_module": "@jupyter-widgets/base",
            "_view_module_version": "1.2.0",
            "_view_name": "LayoutView",
            "align_content": null,
            "align_items": null,
            "align_self": null,
            "border": null,
            "bottom": null,
            "display": null,
            "flex": null,
            "flex_flow": null,
            "grid_area": null,
            "grid_auto_columns": null,
            "grid_auto_flow": null,
            "grid_auto_rows": null,
            "grid_column": null,
            "grid_gap": null,
            "grid_row": null,
            "grid_template_areas": null,
            "grid_template_columns": null,
            "grid_template_rows": null,
            "height": null,
            "justify_content": null,
            "justify_items": null,
            "left": null,
            "margin": null,
            "max_height": null,
            "max_width": null,
            "min_height": null,
            "min_width": null,
            "object_fit": null,
            "object_position": null,
            "order": null,
            "overflow": null,
            "overflow_x": null,
            "overflow_y": null,
            "padding": null,
            "right": null,
            "top": null,
            "visibility": null,
            "width": null
          }
        },
        "ca67b112541f4c0ebc104572d3a2492b": {
          "model_module": "@jupyter-widgets/base",
          "model_module_version": "1.2.0",
          "model_name": "LayoutModel",
          "state": {
            "_model_module": "@jupyter-widgets/base",
            "_model_module_version": "1.2.0",
            "_model_name": "LayoutModel",
            "_view_count": null,
            "_view_module": "@jupyter-widgets/base",
            "_view_module_version": "1.2.0",
            "_view_name": "LayoutView",
            "align_content": null,
            "align_items": null,
            "align_self": null,
            "border": null,
            "bottom": null,
            "display": null,
            "flex": null,
            "flex_flow": null,
            "grid_area": null,
            "grid_auto_columns": null,
            "grid_auto_flow": null,
            "grid_auto_rows": null,
            "grid_column": null,
            "grid_gap": null,
            "grid_row": null,
            "grid_template_areas": null,
            "grid_template_columns": null,
            "grid_template_rows": null,
            "height": null,
            "justify_content": null,
            "justify_items": null,
            "left": null,
            "margin": null,
            "max_height": null,
            "max_width": null,
            "min_height": null,
            "min_width": null,
            "object_fit": null,
            "object_position": null,
            "order": null,
            "overflow": null,
            "overflow_x": null,
            "overflow_y": null,
            "padding": null,
            "right": null,
            "top": null,
            "visibility": null,
            "width": null
          }
        },
        "cc764ae9496f45b39a3a5b40029b9196": {
          "model_module": "@jupyter-widgets/base",
          "model_module_version": "1.2.0",
          "model_name": "LayoutModel",
          "state": {
            "_model_module": "@jupyter-widgets/base",
            "_model_module_version": "1.2.0",
            "_model_name": "LayoutModel",
            "_view_count": null,
            "_view_module": "@jupyter-widgets/base",
            "_view_module_version": "1.2.0",
            "_view_name": "LayoutView",
            "align_content": null,
            "align_items": null,
            "align_self": null,
            "border": null,
            "bottom": null,
            "display": null,
            "flex": null,
            "flex_flow": null,
            "grid_area": null,
            "grid_auto_columns": null,
            "grid_auto_flow": null,
            "grid_auto_rows": null,
            "grid_column": null,
            "grid_gap": null,
            "grid_row": null,
            "grid_template_areas": null,
            "grid_template_columns": null,
            "grid_template_rows": null,
            "height": null,
            "justify_content": null,
            "justify_items": null,
            "left": null,
            "margin": null,
            "max_height": null,
            "max_width": null,
            "min_height": null,
            "min_width": null,
            "object_fit": null,
            "object_position": null,
            "order": null,
            "overflow": null,
            "overflow_x": null,
            "overflow_y": null,
            "padding": null,
            "right": null,
            "top": null,
            "visibility": null,
            "width": null
          }
        },
        "d1ad1d5697214c1e83b11ec195896f0c": {
          "model_module": "@jupyter-widgets/controls",
          "model_module_version": "1.5.0",
          "model_name": "FloatProgressModel",
          "state": {
            "_dom_classes": [],
            "_model_module": "@jupyter-widgets/controls",
            "_model_module_version": "1.5.0",
            "_model_name": "FloatProgressModel",
            "_view_count": null,
            "_view_module": "@jupyter-widgets/controls",
            "_view_module_version": "1.5.0",
            "_view_name": "ProgressView",
            "bar_style": "success",
            "description": "",
            "description_tooltip": null,
            "layout": "IPY_MODEL_1244bf8ea208476cb2a1af7e9583cb51",
            "max": 1350511,
            "min": 0,
            "orientation": "horizontal",
            "style": "IPY_MODEL_6d812678e25b4ec8abfde1a16d5cad4e",
            "value": 1350511
          }
        },
        "d56c6ef249884e22a5bc580cc2f26576": {
          "model_module": "@jupyter-widgets/output",
          "model_module_version": "1.0.0",
          "model_name": "OutputModel",
          "state": {
            "_dom_classes": [],
            "_model_module": "@jupyter-widgets/output",
            "_model_module_version": "1.0.0",
            "_model_name": "OutputModel",
            "_view_count": null,
            "_view_module": "@jupyter-widgets/output",
            "_view_module_version": "1.0.0",
            "_view_name": "OutputView",
            "layout": "IPY_MODEL_dc28afbdea4a4c94b24bbada0f693096",
            "msg_id": "",
            "outputs": [
              {
                "data": {
                  "text/html": "<pre style=\"white-space:pre;overflow-x:auto;line-height:normal;font-family:Menlo,'DejaVu Sans Mono',consolas,'Courier New',monospace\"><span style=\"color: #008000; text-decoration-color: #008000\">⠏</span> ✨ 🍰 ✨ You're using DeepEval's latest Contextual Recall Metric (using gpt-4)! This may take a minute...\n</pre>\n",
                  "text/plain": "\u001b[32m⠏\u001b[0m ✨ 🍰 ✨ You're using DeepEval's latest Contextual Recall Metric (using gpt-4)! This may take a minute...\n"
                },
                "metadata": {},
                "output_type": "display_data"
              }
            ]
          }
        },
        "d56fd76a836c4f8f82b5a7c808db0a53": {
          "model_module": "@jupyter-widgets/base",
          "model_module_version": "1.2.0",
          "model_name": "LayoutModel",
          "state": {
            "_model_module": "@jupyter-widgets/base",
            "_model_module_version": "1.2.0",
            "_model_name": "LayoutModel",
            "_view_count": null,
            "_view_module": "@jupyter-widgets/base",
            "_view_module_version": "1.2.0",
            "_view_name": "LayoutView",
            "align_content": null,
            "align_items": null,
            "align_self": null,
            "border": null,
            "bottom": null,
            "display": null,
            "flex": null,
            "flex_flow": null,
            "grid_area": null,
            "grid_auto_columns": null,
            "grid_auto_flow": null,
            "grid_auto_rows": null,
            "grid_column": null,
            "grid_gap": null,
            "grid_row": null,
            "grid_template_areas": null,
            "grid_template_columns": null,
            "grid_template_rows": null,
            "height": null,
            "justify_content": null,
            "justify_items": null,
            "left": null,
            "margin": null,
            "max_height": null,
            "max_width": null,
            "min_height": null,
            "min_width": null,
            "object_fit": null,
            "object_position": null,
            "order": null,
            "overflow": null,
            "overflow_x": null,
            "overflow_y": null,
            "padding": null,
            "right": null,
            "top": null,
            "visibility": null,
            "width": null
          }
        },
        "d8163e5759904ea68c8c2a341b2a7347": {
          "model_module": "@jupyter-widgets/controls",
          "model_module_version": "1.5.0",
          "model_name": "HTMLModel",
          "state": {
            "_dom_classes": [],
            "_model_module": "@jupyter-widgets/controls",
            "_model_module_version": "1.5.0",
            "_model_name": "HTMLModel",
            "_view_count": null,
            "_view_module": "@jupyter-widgets/controls",
            "_view_module_version": "1.5.0",
            "_view_name": "HTMLView",
            "description": "",
            "description_tooltip": null,
            "layout": "IPY_MODEL_df29c5b8cd18449d9f04a6e0ae7bccc1",
            "placeholder": "​",
            "style": "IPY_MODEL_5e5bdc4043184b08a949a573bb20c0ec",
            "value": "Generating validation split: 100%"
          }
        },
        "d87df86ef2804f83b0c11fca2a37fd49": {
          "model_module": "@jupyter-widgets/output",
          "model_module_version": "1.0.0",
          "model_name": "OutputModel",
          "state": {
            "_dom_classes": [],
            "_model_module": "@jupyter-widgets/output",
            "_model_module_version": "1.0.0",
            "_model_name": "OutputModel",
            "_view_count": null,
            "_view_module": "@jupyter-widgets/output",
            "_view_module_version": "1.0.0",
            "_view_name": "OutputView",
            "layout": "IPY_MODEL_5ae473c91e084c339e339bba168d52cc",
            "msg_id": "",
            "outputs": [
              {
                "data": {
                  "text/html": "<pre style=\"white-space:pre;overflow-x:auto;line-height:normal;font-family:Menlo,'DejaVu Sans Mono',consolas,'Courier New',monospace\"><span style=\"color: #008000; text-decoration-color: #008000\">⠦</span> ✨ 🍰 ✨ You're using DeepEval's latest Answer Relevancy Metric (using gpt-4)! This may take a minute...\n</pre>\n",
                  "text/plain": "\u001b[32m⠦\u001b[0m ✨ 🍰 ✨ You're using DeepEval's latest Answer Relevancy Metric (using gpt-4)! This may take a minute...\n"
                },
                "metadata": {},
                "output_type": "display_data"
              }
            ]
          }
        },
        "d99d1dd68071439a966f63bd4e998db9": {
          "model_module": "@jupyter-widgets/controls",
          "model_module_version": "1.5.0",
          "model_name": "FloatProgressModel",
          "state": {
            "_dom_classes": [],
            "_model_module": "@jupyter-widgets/controls",
            "_model_module_version": "1.5.0",
            "_model_name": "FloatProgressModel",
            "_view_count": null,
            "_view_module": "@jupyter-widgets/controls",
            "_view_module_version": "1.5.0",
            "_view_name": "ProgressView",
            "bar_style": "success",
            "description": "",
            "description_tooltip": null,
            "layout": "IPY_MODEL_98d6d1ff6fe94c2889503aa6f03d2019",
            "max": 1204,
            "min": 0,
            "orientation": "horizontal",
            "style": "IPY_MODEL_3080f12af2814a1985146de24da50d99",
            "value": 1204
          }
        },
        "d9dd9e05c1b94bf280a0b3bf1b6e526c": {
          "model_module": "@jupyter-widgets/controls",
          "model_module_version": "1.5.0",
          "model_name": "HTMLModel",
          "state": {
            "_dom_classes": [],
            "_model_module": "@jupyter-widgets/controls",
            "_model_module_version": "1.5.0",
            "_model_name": "HTMLModel",
            "_view_count": null,
            "_view_module": "@jupyter-widgets/controls",
            "_view_module_version": "1.5.0",
            "_view_name": "HTMLView",
            "description": "",
            "description_tooltip": null,
            "layout": "IPY_MODEL_27f6523d465644fcaf5304299a8c163e",
            "placeholder": "​",
            "style": "IPY_MODEL_0dd84bad8d224269828a0c1ec0a582fc",
            "value": " 1204/1204 [00:00&lt;00:00, 5538.53 docs/s]"
          }
        },
        "da36b58414074e409c049c73f4e07d94": {
          "model_module": "@jupyter-widgets/output",
          "model_module_version": "1.0.0",
          "model_name": "OutputModel",
          "state": {
            "_dom_classes": [],
            "_model_module": "@jupyter-widgets/output",
            "_model_module_version": "1.0.0",
            "_model_name": "OutputModel",
            "_view_count": null,
            "_view_module": "@jupyter-widgets/output",
            "_view_module_version": "1.0.0",
            "_view_name": "OutputView",
            "layout": "IPY_MODEL_ca67b112541f4c0ebc104572d3a2492b",
            "msg_id": "",
            "outputs": [
              {
                "data": {
                  "text/html": "<pre style=\"white-space:pre;overflow-x:auto;line-height:normal;font-family:Menlo,'DejaVu Sans Mono',consolas,'Courier New',monospace\"><span style=\"color: #008000; text-decoration-color: #008000\">⠋</span> ✨ 🍰 ✨ You're using DeepEval's latest Answer Relevancy Metric (using gpt-4)! This may take a minute...\n</pre>\n",
                  "text/plain": "\u001b[32m⠋\u001b[0m ✨ 🍰 ✨ You're using DeepEval's latest Answer Relevancy Metric (using gpt-4)! This may take a minute...\n"
                },
                "metadata": {},
                "output_type": "display_data"
              }
            ]
          }
        },
        "db32838cce5741fabb9ad431fae28953": {
          "model_module": "@jupyter-widgets/controls",
          "model_module_version": "1.5.0",
          "model_name": "HTMLModel",
          "state": {
            "_dom_classes": [],
            "_model_module": "@jupyter-widgets/controls",
            "_model_module_version": "1.5.0",
            "_model_name": "HTMLModel",
            "_view_count": null,
            "_view_module": "@jupyter-widgets/controls",
            "_view_module_version": "1.5.0",
            "_view_name": "HTMLView",
            "description": "",
            "description_tooltip": null,
            "layout": "IPY_MODEL_5a4659cf76c1464bac21f7b47b4234d6",
            "placeholder": "​",
            "style": "IPY_MODEL_fc8f2d9d5e544036bcb41e9bf3ad4327",
            "value": " 11873/11873 [00:00&lt;00:00, 91282.14 examples/s]"
          }
        },
        "dc28afbdea4a4c94b24bbada0f693096": {
          "model_module": "@jupyter-widgets/base",
          "model_module_version": "1.2.0",
          "model_name": "LayoutModel",
          "state": {
            "_model_module": "@jupyter-widgets/base",
            "_model_module_version": "1.2.0",
            "_model_name": "LayoutModel",
            "_view_count": null,
            "_view_module": "@jupyter-widgets/base",
            "_view_module_version": "1.2.0",
            "_view_name": "LayoutView",
            "align_content": null,
            "align_items": null,
            "align_self": null,
            "border": null,
            "bottom": null,
            "display": null,
            "flex": null,
            "flex_flow": null,
            "grid_area": null,
            "grid_auto_columns": null,
            "grid_auto_flow": null,
            "grid_auto_rows": null,
            "grid_column": null,
            "grid_gap": null,
            "grid_row": null,
            "grid_template_areas": null,
            "grid_template_columns": null,
            "grid_template_rows": null,
            "height": null,
            "justify_content": null,
            "justify_items": null,
            "left": null,
            "margin": null,
            "max_height": null,
            "max_width": null,
            "min_height": null,
            "min_width": null,
            "object_fit": null,
            "object_position": null,
            "order": null,
            "overflow": null,
            "overflow_x": null,
            "overflow_y": null,
            "padding": null,
            "right": null,
            "top": null,
            "visibility": null,
            "width": null
          }
        },
        "df29c5b8cd18449d9f04a6e0ae7bccc1": {
          "model_module": "@jupyter-widgets/base",
          "model_module_version": "1.2.0",
          "model_name": "LayoutModel",
          "state": {
            "_model_module": "@jupyter-widgets/base",
            "_model_module_version": "1.2.0",
            "_model_name": "LayoutModel",
            "_view_count": null,
            "_view_module": "@jupyter-widgets/base",
            "_view_module_version": "1.2.0",
            "_view_name": "LayoutView",
            "align_content": null,
            "align_items": null,
            "align_self": null,
            "border": null,
            "bottom": null,
            "display": null,
            "flex": null,
            "flex_flow": null,
            "grid_area": null,
            "grid_auto_columns": null,
            "grid_auto_flow": null,
            "grid_auto_rows": null,
            "grid_column": null,
            "grid_gap": null,
            "grid_row": null,
            "grid_template_areas": null,
            "grid_template_columns": null,
            "grid_template_rows": null,
            "height": null,
            "justify_content": null,
            "justify_items": null,
            "left": null,
            "margin": null,
            "max_height": null,
            "max_width": null,
            "min_height": null,
            "min_width": null,
            "object_fit": null,
            "object_position": null,
            "order": null,
            "overflow": null,
            "overflow_x": null,
            "overflow_y": null,
            "padding": null,
            "right": null,
            "top": null,
            "visibility": null,
            "width": null
          }
        },
        "e2c57c3decf744afa591e6021ec9b1c0": {
          "model_module": "@jupyter-widgets/base",
          "model_module_version": "1.2.0",
          "model_name": "LayoutModel",
          "state": {
            "_model_module": "@jupyter-widgets/base",
            "_model_module_version": "1.2.0",
            "_model_name": "LayoutModel",
            "_view_count": null,
            "_view_module": "@jupyter-widgets/base",
            "_view_module_version": "1.2.0",
            "_view_name": "LayoutView",
            "align_content": null,
            "align_items": null,
            "align_self": null,
            "border": null,
            "bottom": null,
            "display": null,
            "flex": null,
            "flex_flow": null,
            "grid_area": null,
            "grid_auto_columns": null,
            "grid_auto_flow": null,
            "grid_auto_rows": null,
            "grid_column": null,
            "grid_gap": null,
            "grid_row": null,
            "grid_template_areas": null,
            "grid_template_columns": null,
            "grid_template_rows": null,
            "height": null,
            "justify_content": null,
            "justify_items": null,
            "left": null,
            "margin": null,
            "max_height": null,
            "max_width": null,
            "min_height": null,
            "min_width": null,
            "object_fit": null,
            "object_position": null,
            "order": null,
            "overflow": null,
            "overflow_x": null,
            "overflow_y": null,
            "padding": null,
            "right": null,
            "top": null,
            "visibility": null,
            "width": null
          }
        },
        "e36f222e6b3946e6a1ed1e4c71ea31be": {
          "model_module": "@jupyter-widgets/output",
          "model_module_version": "1.0.0",
          "model_name": "OutputModel",
          "state": {
            "_dom_classes": [],
            "_model_module": "@jupyter-widgets/output",
            "_model_module_version": "1.0.0",
            "_model_name": "OutputModel",
            "_view_count": null,
            "_view_module": "@jupyter-widgets/output",
            "_view_module_version": "1.0.0",
            "_view_name": "OutputView",
            "layout": "IPY_MODEL_1559b47643e4481483256713396bf4da",
            "msg_id": "",
            "outputs": [
              {
                "data": {
                  "text/html": "<pre style=\"white-space:pre;overflow-x:auto;line-height:normal;font-family:Menlo,'DejaVu Sans Mono',consolas,'Courier New',monospace\"><span style=\"color: #008000; text-decoration-color: #008000\">⠏</span> ✨ 🍰 ✨ You're using DeepEval's latest Answer Relevancy Metric (using gpt-4)! This may take a minute...\n</pre>\n",
                  "text/plain": "\u001b[32m⠏\u001b[0m ✨ 🍰 ✨ You're using DeepEval's latest Answer Relevancy Metric (using gpt-4)! This may take a minute...\n"
                },
                "metadata": {},
                "output_type": "display_data"
              }
            ]
          }
        },
        "e40d267e3ef44557a4b0eab36e0ce339": {
          "model_module": "@jupyter-widgets/base",
          "model_module_version": "1.2.0",
          "model_name": "LayoutModel",
          "state": {
            "_model_module": "@jupyter-widgets/base",
            "_model_module_version": "1.2.0",
            "_model_name": "LayoutModel",
            "_view_count": null,
            "_view_module": "@jupyter-widgets/base",
            "_view_module_version": "1.2.0",
            "_view_name": "LayoutView",
            "align_content": null,
            "align_items": null,
            "align_self": null,
            "border": null,
            "bottom": null,
            "display": null,
            "flex": null,
            "flex_flow": null,
            "grid_area": null,
            "grid_auto_columns": null,
            "grid_auto_flow": null,
            "grid_auto_rows": null,
            "grid_column": null,
            "grid_gap": null,
            "grid_row": null,
            "grid_template_areas": null,
            "grid_template_columns": null,
            "grid_template_rows": null,
            "height": null,
            "justify_content": null,
            "justify_items": null,
            "left": null,
            "margin": null,
            "max_height": null,
            "max_width": null,
            "min_height": null,
            "min_width": null,
            "object_fit": null,
            "object_position": null,
            "order": null,
            "overflow": null,
            "overflow_x": null,
            "overflow_y": null,
            "padding": null,
            "right": null,
            "top": null,
            "visibility": null,
            "width": null
          }
        },
        "ebf2e2e45d53410e9126677c1cf61267": {
          "model_module": "@jupyter-widgets/base",
          "model_module_version": "1.2.0",
          "model_name": "LayoutModel",
          "state": {
            "_model_module": "@jupyter-widgets/base",
            "_model_module_version": "1.2.0",
            "_model_name": "LayoutModel",
            "_view_count": null,
            "_view_module": "@jupyter-widgets/base",
            "_view_module_version": "1.2.0",
            "_view_name": "LayoutView",
            "align_content": null,
            "align_items": null,
            "align_self": null,
            "border": null,
            "bottom": null,
            "display": null,
            "flex": null,
            "flex_flow": null,
            "grid_area": null,
            "grid_auto_columns": null,
            "grid_auto_flow": null,
            "grid_auto_rows": null,
            "grid_column": null,
            "grid_gap": null,
            "grid_row": null,
            "grid_template_areas": null,
            "grid_template_columns": null,
            "grid_template_rows": null,
            "height": null,
            "justify_content": null,
            "justify_items": null,
            "left": null,
            "margin": null,
            "max_height": null,
            "max_width": null,
            "min_height": null,
            "min_width": null,
            "object_fit": null,
            "object_position": null,
            "order": null,
            "overflow": null,
            "overflow_x": null,
            "overflow_y": null,
            "padding": null,
            "right": null,
            "top": null,
            "visibility": null,
            "width": null
          }
        },
        "ecdd3039fab546b98285080b0154fd0b": {
          "model_module": "@jupyter-widgets/controls",
          "model_module_version": "1.5.0",
          "model_name": "HBoxModel",
          "state": {
            "_dom_classes": [],
            "_model_module": "@jupyter-widgets/controls",
            "_model_module_version": "1.5.0",
            "_model_name": "HBoxModel",
            "_view_count": null,
            "_view_module": "@jupyter-widgets/controls",
            "_view_module_version": "1.5.0",
            "_view_name": "HBoxView",
            "box_style": "",
            "children": [
              "IPY_MODEL_aa3bbecfe5944da284019aff8baf44ea",
              "IPY_MODEL_2809adab6c6a432fae163c8e8590021c",
              "IPY_MODEL_b8ca49ea0ee3418581c3e0d56e630c85"
            ],
            "layout": "IPY_MODEL_b49dd1d055e246e8ab0bef9264a43e60"
          }
        },
        "ef55f8e3f86545dd85ffff9f0ec0eec8": {
          "model_module": "@jupyter-widgets/controls",
          "model_module_version": "1.5.0",
          "model_name": "DescriptionStyleModel",
          "state": {
            "_model_module": "@jupyter-widgets/controls",
            "_model_module_version": "1.5.0",
            "_model_name": "DescriptionStyleModel",
            "_view_count": null,
            "_view_module": "@jupyter-widgets/base",
            "_view_module_version": "1.2.0",
            "_view_name": "StyleView",
            "description_width": ""
          }
        },
        "efd288e1422142bc9bfe87c5528342ad": {
          "model_module": "@jupyter-widgets/controls",
          "model_module_version": "1.5.0",
          "model_name": "HTMLModel",
          "state": {
            "_dom_classes": [],
            "_model_module": "@jupyter-widgets/controls",
            "_model_module_version": "1.5.0",
            "_model_name": "HTMLModel",
            "_view_count": null,
            "_view_module": "@jupyter-widgets/controls",
            "_view_module_version": "1.5.0",
            "_view_name": "HTMLView",
            "description": "",
            "description_tooltip": null,
            "layout": "IPY_MODEL_6cbfaa160fef4aeeb4f273d14ea896dd",
            "placeholder": "​",
            "style": "IPY_MODEL_4a4ab3a911e747209b7520d72bbf9bfa",
            "value": " 1204/1204 [00:00&lt;00:00, 8864.45 docs/s]"
          }
        },
        "f037a8d0089a4628991a70ed217095b0": {
          "model_module": "@jupyter-widgets/base",
          "model_module_version": "1.2.0",
          "model_name": "LayoutModel",
          "state": {
            "_model_module": "@jupyter-widgets/base",
            "_model_module_version": "1.2.0",
            "_model_name": "LayoutModel",
            "_view_count": null,
            "_view_module": "@jupyter-widgets/base",
            "_view_module_version": "1.2.0",
            "_view_name": "LayoutView",
            "align_content": null,
            "align_items": null,
            "align_self": null,
            "border": null,
            "bottom": null,
            "display": null,
            "flex": null,
            "flex_flow": null,
            "grid_area": null,
            "grid_auto_columns": null,
            "grid_auto_flow": null,
            "grid_auto_rows": null,
            "grid_column": null,
            "grid_gap": null,
            "grid_row": null,
            "grid_template_areas": null,
            "grid_template_columns": null,
            "grid_template_rows": null,
            "height": null,
            "justify_content": null,
            "justify_items": null,
            "left": null,
            "margin": null,
            "max_height": null,
            "max_width": null,
            "min_height": null,
            "min_width": null,
            "object_fit": null,
            "object_position": null,
            "order": null,
            "overflow": null,
            "overflow_x": null,
            "overflow_y": null,
            "padding": null,
            "right": null,
            "top": null,
            "visibility": null,
            "width": null
          }
        },
        "f0c3a912ceaa4c1b8a7c52bea3828164": {
          "model_module": "@jupyter-widgets/controls",
          "model_module_version": "1.5.0",
          "model_name": "HBoxModel",
          "state": {
            "_dom_classes": [],
            "_model_module": "@jupyter-widgets/controls",
            "_model_module_version": "1.5.0",
            "_model_name": "HBoxModel",
            "_view_count": null,
            "_view_module": "@jupyter-widgets/controls",
            "_view_module_version": "1.5.0",
            "_view_name": "HBoxView",
            "box_style": "",
            "children": [
              "IPY_MODEL_fa3931c092f34303af88c945b8140e04",
              "IPY_MODEL_59b9c475c5cd44aa845a7dda92969997",
              "IPY_MODEL_d9dd9e05c1b94bf280a0b3bf1b6e526c"
            ],
            "layout": "IPY_MODEL_5426fbb2f2fd457c98e943b59d214d2c"
          }
        },
        "f0fa88ba58084418a8cfa3e8cd39ef5b": {
          "model_module": "@jupyter-widgets/controls",
          "model_module_version": "1.5.0",
          "model_name": "HTMLModel",
          "state": {
            "_dom_classes": [],
            "_model_module": "@jupyter-widgets/controls",
            "_model_module_version": "1.5.0",
            "_model_name": "HTMLModel",
            "_view_count": null,
            "_view_module": "@jupyter-widgets/controls",
            "_view_module_version": "1.5.0",
            "_view_name": "HTMLView",
            "description": "",
            "description_tooltip": null,
            "layout": "IPY_MODEL_bba0ef9673ed46b79c051b0befa1139b",
            "placeholder": "​",
            "style": "IPY_MODEL_7ac2fa06b6af43ce8c93d45bd09410cc",
            "value": " 1204/1204 [00:00&lt;00:00, 10884.51 docs/s]"
          }
        },
        "f1639c9c99a846d7a17aee870ff80d98": {
          "model_module": "@jupyter-widgets/output",
          "model_module_version": "1.0.0",
          "model_name": "OutputModel",
          "state": {
            "_dom_classes": [],
            "_model_module": "@jupyter-widgets/output",
            "_model_module_version": "1.0.0",
            "_model_name": "OutputModel",
            "_view_count": null,
            "_view_module": "@jupyter-widgets/output",
            "_view_module_version": "1.0.0",
            "_view_name": "OutputView",
            "layout": "IPY_MODEL_3bb9e44e17ec4f3986378ddb3c1255c4",
            "msg_id": "",
            "outputs": [
              {
                "data": {
                  "text/html": "<pre style=\"white-space:pre;overflow-x:auto;line-height:normal;font-family:Menlo,'DejaVu Sans Mono',consolas,'Courier New',monospace\"><span style=\"color: #008000; text-decoration-color: #008000\">⠏</span> Evaluating testcases...\n</pre>\n",
                  "text/plain": "\u001b[32m⠏\u001b[0m Evaluating testcases...\n"
                },
                "metadata": {},
                "output_type": "display_data"
              }
            ]
          }
        },
        "f353551fe7894653b2c1a7d9c6a449a7": {
          "model_module": "@jupyter-widgets/output",
          "model_module_version": "1.0.0",
          "model_name": "OutputModel",
          "state": {
            "_dom_classes": [],
            "_model_module": "@jupyter-widgets/output",
            "_model_module_version": "1.0.0",
            "_model_name": "OutputModel",
            "_view_count": null,
            "_view_module": "@jupyter-widgets/output",
            "_view_module_version": "1.0.0",
            "_view_name": "OutputView",
            "layout": "IPY_MODEL_67dc3c5b24fc433e9c34ab8faa5e58e0",
            "msg_id": "",
            "outputs": [
              {
                "data": {
                  "text/html": "<pre style=\"white-space:pre;overflow-x:auto;line-height:normal;font-family:Menlo,'DejaVu Sans Mono',consolas,'Courier New',monospace\"><span style=\"color: #008000; text-decoration-color: #008000\">⠦</span> ✨ 🍰 ✨ You're using DeepEval's latest Contextual Precision Metric (using gpt-4)! This may take a minute...\n</pre>\n",
                  "text/plain": "\u001b[32m⠦\u001b[0m ✨ 🍰 ✨ You're using DeepEval's latest Contextual Precision Metric (using gpt-4)! This may take a minute...\n"
                },
                "metadata": {},
                "output_type": "display_data"
              }
            ]
          }
        },
        "f483cfc37e3943bd9a0437226f62894a": {
          "model_module": "@jupyter-widgets/controls",
          "model_module_version": "1.5.0",
          "model_name": "HTMLModel",
          "state": {
            "_dom_classes": [],
            "_model_module": "@jupyter-widgets/controls",
            "_model_module_version": "1.5.0",
            "_model_name": "HTMLModel",
            "_view_count": null,
            "_view_module": "@jupyter-widgets/controls",
            "_view_module_version": "1.5.0",
            "_view_name": "HTMLView",
            "description": "",
            "description_tooltip": null,
            "layout": "IPY_MODEL_621e6dac0fa6454887265fdf7f8c14d3",
            "placeholder": "​",
            "style": "IPY_MODEL_365eae22a84f465c9e2640ddd1ddbf31",
            "value": "Downloading data: 100%"
          }
        },
        "fa08ed9dbc194258941821dd61025870": {
          "model_module": "@jupyter-widgets/base",
          "model_module_version": "1.2.0",
          "model_name": "LayoutModel",
          "state": {
            "_model_module": "@jupyter-widgets/base",
            "_model_module_version": "1.2.0",
            "_model_name": "LayoutModel",
            "_view_count": null,
            "_view_module": "@jupyter-widgets/base",
            "_view_module_version": "1.2.0",
            "_view_name": "LayoutView",
            "align_content": null,
            "align_items": null,
            "align_self": null,
            "border": null,
            "bottom": null,
            "display": null,
            "flex": null,
            "flex_flow": null,
            "grid_area": null,
            "grid_auto_columns": null,
            "grid_auto_flow": null,
            "grid_auto_rows": null,
            "grid_column": null,
            "grid_gap": null,
            "grid_row": null,
            "grid_template_areas": null,
            "grid_template_columns": null,
            "grid_template_rows": null,
            "height": null,
            "justify_content": null,
            "justify_items": null,
            "left": null,
            "margin": null,
            "max_height": null,
            "max_width": null,
            "min_height": null,
            "min_width": null,
            "object_fit": null,
            "object_position": null,
            "order": null,
            "overflow": null,
            "overflow_x": null,
            "overflow_y": null,
            "padding": null,
            "right": null,
            "top": null,
            "visibility": null,
            "width": null
          }
        },
        "fa3931c092f34303af88c945b8140e04": {
          "model_module": "@jupyter-widgets/controls",
          "model_module_version": "1.5.0",
          "model_name": "HTMLModel",
          "state": {
            "_dom_classes": [],
            "_model_module": "@jupyter-widgets/controls",
            "_model_module_version": "1.5.0",
            "_model_name": "HTMLModel",
            "_view_count": null,
            "_view_module": "@jupyter-widgets/controls",
            "_view_module_version": "1.5.0",
            "_view_name": "HTMLView",
            "description": "",
            "description_tooltip": null,
            "layout": "IPY_MODEL_74f15702bb124e90b8881bc416c5d2e2",
            "placeholder": "​",
            "style": "IPY_MODEL_9037f3bdb47947f18ac3a324148a25ba",
            "value": "Ranking by BM25...: 100%"
          }
        },
        "fc8f2d9d5e544036bcb41e9bf3ad4327": {
          "model_module": "@jupyter-widgets/controls",
          "model_module_version": "1.5.0",
          "model_name": "DescriptionStyleModel",
          "state": {
            "_model_module": "@jupyter-widgets/controls",
            "_model_module_version": "1.5.0",
            "_model_name": "DescriptionStyleModel",
            "_view_count": null,
            "_view_module": "@jupyter-widgets/base",
            "_view_module_version": "1.2.0",
            "_view_name": "StyleView",
            "description_width": ""
          }
        },
        "fe57e53818254848bd2dbb062fed1eca": {
          "model_module": "@jupyter-widgets/base",
          "model_module_version": "1.2.0",
          "model_name": "LayoutModel",
          "state": {
            "_model_module": "@jupyter-widgets/base",
            "_model_module_version": "1.2.0",
            "_model_name": "LayoutModel",
            "_view_count": null,
            "_view_module": "@jupyter-widgets/base",
            "_view_module_version": "1.2.0",
            "_view_name": "LayoutView",
            "align_content": null,
            "align_items": null,
            "align_self": null,
            "border": null,
            "bottom": null,
            "display": null,
            "flex": null,
            "flex_flow": null,
            "grid_area": null,
            "grid_auto_columns": null,
            "grid_auto_flow": null,
            "grid_auto_rows": null,
            "grid_column": null,
            "grid_gap": null,
            "grid_row": null,
            "grid_template_areas": null,
            "grid_template_columns": null,
            "grid_template_rows": null,
            "height": null,
            "justify_content": null,
            "justify_items": null,
            "left": null,
            "margin": null,
            "max_height": null,
            "max_width": null,
            "min_height": null,
            "min_width": null,
            "object_fit": null,
            "object_position": null,
            "order": null,
            "overflow": null,
            "overflow_x": null,
            "overflow_y": null,
            "padding": null,
            "right": null,
            "top": null,
            "visibility": null,
            "width": null
          }
        }
      }
    }
  },
  "nbformat": 4,
  "nbformat_minor": 0
}
