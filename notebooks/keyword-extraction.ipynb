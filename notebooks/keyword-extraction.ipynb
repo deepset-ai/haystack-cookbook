{
 "cells": [
  {
   "cell_type": "markdown",
   "metadata": {},
   "source": [
    "# Keyword Extraction with LLM Chat Generator\n",
    "This notebook demonstrates how to extract keywords and key phrases from text using Haystack’s `ChatPromptBuilder` together with an LLM via `OpenAIChatGenerator`. We will:\n",
    "\n",
    "- Define a prompt that instructs the model to identify single- and multi-word keywords.\n",
    "\n",
    "- Capture each keyword’s character offsets.\n",
    "\n",
    "- Assign a relevance score (0–1).\n",
    "\n",
    "- Parse and display the results as JSON.\n",
    "\n"
   ]
  },
  {
   "cell_type": "markdown",
   "metadata": {},
   "source": [
    "### Install packages and setup OpenAI API key"
   ]
  },
  {
   "cell_type": "code",
   "execution_count": null,
   "metadata": {},
   "outputs": [],
   "source": [
    "!pip install haystack-ai"
   ]
  },
  {
   "cell_type": "code",
   "execution_count": null,
   "metadata": {},
   "outputs": [],
   "source": [
    "import os\n",
    "from getpass import getpass\n",
    "\n",
    "if \"OPENAI_API_KEY\" not in os.environ:\n",
    "    os.environ[\"OPENAI_API_KEY\"] = getpass(\"Enter OpenAI API key:\")"
   ]
  },
  {
   "cell_type": "markdown",
   "metadata": {},
   "source": [
    "### Import Required Libraries\n",
    "\n"
   ]
  },
  {
   "cell_type": "code",
   "execution_count": null,
   "metadata": {},
   "outputs": [],
   "source": [
    "import json\n",
    "\n",
    "from haystack import Document\n",
    "from haystack.dataclasses import ChatMessage\n",
    "from haystack.components.builders import ChatPromptBuilder\n",
    "from haystack.components.generators.chat import OpenAIChatGenerator\n"
   ]
  },
  {
   "cell_type": "markdown",
   "metadata": {},
   "source": [
    "### Prepare Documents\n",
    "Create a list of Document objects containing the texts you want to analyze."
   ]
  },
  {
   "cell_type": "code",
   "execution_count": null,
   "metadata": {},
   "outputs": [],
   "source": [
    "documents = [\n",
    "    Document(content=\"I'm Merlin, the happy pig!\"),\n",
    "    Document(content=\"My name is Clara and I live in Berkeley, California.\"),\n",
    "]\n"
   ]
  },
  {
   "cell_type": "markdown",
   "metadata": {},
   "source": [
    "### Build the Prompt\n",
    "We construct a single-message template that instructs the model to extract keywords, their positions and scores and return the output as JSON object.\n"
   ]
  },
  {
   "cell_type": "code",
   "execution_count": null,
   "metadata": {},
   "outputs": [],
   "source": [
    "messages = [\n",
    "    ChatMessage.from_user(\n",
    "        '''\n",
    "You are a keyword extractor. Extract the most relevant keywords and phrases from the following text. For each keyword:\n",
    "1. Find single and multi-word keywords that capture important concepts\n",
    "2. Include the starting position (index) where each keyword appears in the text\n",
    "3. Assign a relevance score between 0 and 1 for each keyword\n",
    "4. Focus on nouns, noun phrases, and important terms\n",
    "\n",
    "Text to analyze: {{text}}\n",
    "\n",
    "Return the results as a JSON array in this exact format:\n",
    "{\n",
    "  \"keywords\": [\n",
    "    {\n",
    "      \"keyword\": \"example term\",\n",
    "      \"positions\": [5],\n",
    "      \"score\": 0.95\n",
    "    },\n",
    "    {\n",
    "      \"keyword\": \"another keyword\",\n",
    "      \"positions\": [20],\n",
    "      \"score\": 0.85\n",
    "    }\n",
    "  ]\n",
    "}\n",
    "\n",
    "Important:\n",
    "- Each keyword must have its EXACT character position in the text (counting from 0)\n",
    "- Scores should reflect the relevance (0–1)\n",
    "- Include both single words and meaningful phrases\n",
    "- List results from highest to lowest score\n",
    "'''\n",
    "    )\n",
    "]\n",
    "\n",
    "builder = ChatPromptBuilder(template=messages)\n",
    "prompt = builder.run(text=\"I'm Merlin, the happy pig!\")\n"
   ]
  },
  {
   "cell_type": "markdown",
   "metadata": {},
   "source": [
    "### Initialize the Generator and Extract Keywords\n",
    "We use OpenAIChatGenerator (e.g., gpt-4o-mini) to send our prompt and request a JSON-formatted response."
   ]
  },
  {
   "cell_type": "code",
   "execution_count": null,
   "metadata": {},
   "outputs": [],
   "source": [
    "# Initialize the chat-based generator\n",
    "extractor = OpenAIChatGenerator(model=\"gpt-4o-mini\")\n",
    "\n",
    "# Run the generator with our formatted prompt\n",
    "results = extractor.run(\n",
    "    messages=prompt[\"prompt\"],\n",
    "    generation_kwargs={\"response_format\": {\"type\": \"json_object\"}}\n",
    ")\n",
    "\n",
    "# Extract the raw text reply\n",
    "output_str = results[\"replies\"][0].text\n",
    "print(output_str)\n"
   ]
  },
  {
   "cell_type": "markdown",
   "metadata": {},
   "source": [
    "### Parse and Display Results\n",
    "Finally, convert the returned JSON string into a Python object and iterate over the extracted keywords."
   ]
  },
  {
   "cell_type": "code",
   "execution_count": null,
   "metadata": {},
   "outputs": [],
   "source": [
    "try:\n",
    "    data = json.loads(output_str)\n",
    "    for kw in data[\"keywords\"]:\n",
    "        print(f'Keyword: {kw[\"keyword\"]}')\n",
    "        print(f' Positions: {kw[\"positions\"]}')\n",
    "        print(f' Score: {kw[\"score\"]}\\n')\n",
    "except json.JSONDecodeError:\n",
    "    print(\"Failed to parse the output as JSON. Raw output:\", output_str)\n"
   ]
  }
 ],
 "metadata": {
  "kernelspec": {
   "display_name": ".venv",
   "language": "python",
   "name": "python3"
  },
  "language_info": {
   "name": "python",
   "version": "3.12.4"
  }
 },
 "nbformat": 4,
 "nbformat_minor": 2
}
