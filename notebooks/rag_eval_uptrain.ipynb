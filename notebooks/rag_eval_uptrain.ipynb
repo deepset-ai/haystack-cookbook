{
  "cells": [
    {
      "cell_type": "markdown",
      "metadata": {
        "id": "pH0jW0jcBoPd"
      },
      "source": [
        "# **RAG pipeline evaluation using UpTrain**\n",
        "\n",
        "[UpTrain](https://uptrain.ai/) is an evaluation framework that provides a number of LLM-based evaluation metrics and can be used to evaluate [Retrieval Augmented Generation](https://www.deepset.ai/blog/llms-retrieval-augmentation) (RAG) pipelines.\n",
        "It supports metrics like context relevance, factual accuracy, guideline adherence and more.\n",
        "\n",
        "For more information about evaluators, supported metrics and usage, check out:\n",
        "\n",
        "* [UpTrainEvaluator](https://docs.haystack.deepset.ai/docs/uptrainevaluator)\n",
        "* [Model based evaluation](https://docs.haystack.deepset.ai/docs/model-based-evaluation)\n",
        "\n",
        "This notebook shows how to use the [UpTrain-Haystack](https://haystack.deepset.ai/integrations/uptrain) integration to evaluate a RAG pipeline against various metrics."
      ]
    },
    {
      "cell_type": "markdown",
      "metadata": {
        "id": "1SUozlKpCK-T"
      },
      "source": [
        "Notebook by [*Anushree Bannadabhavi*](https://github.com/AnushreeBannadabhavi)"
      ]
    },
    {
      "cell_type": "markdown",
      "metadata": {
        "id": "AHEldwBDCNOt"
      },
      "source": [
        "## Prerequisites:\n",
        "\n",
        "- API key\n",
        "    - We need an API key to run evaluations with **UpTrain**. To see a list of the LLMs supported by UpTrain refer to this [page](https://docs.uptrain.ai/llms/openai).\n",
        "    - This notebook uses OpenAI for the evaluation pipeline."
      ]
    },
    {
      "cell_type": "markdown",
      "metadata": {
        "id": "KWWx0oU4Cs9U"
      },
      "source": [
        "## Install dependencies"
      ]
    },
    {
      "cell_type": "code",
      "execution_count": null,
      "metadata": {
        "id": "NXLbpHx_A7Us"
      },
      "outputs": [],
      "source": [
        "%%bash\n",
        "\n",
        "pip install \"pydantic<1.10.10\"\n",
        "pip install haystack-ai\n",
        "pip install \"datasets>=2.6.1\"\n",
        "pip install uptrain-haystack"
      ]
    },
    {
      "cell_type": "markdown",
      "metadata": {
        "id": "Ls9OiisrC6l0"
      },
      "source": [
        "## Create a RAG pipeline\n",
        "\n",
        "We'll first need to create a RAG pipeline. Refer to this [link](https://haystack.deepset.ai/tutorials/27_first_rag_pipeline) for a detailed tutorial on how to create RAG pipelines.\n",
        "\n",
        "In this notebook, we're using the [SQUAD V2](https://huggingface.co/datasets/rajpurkar/squad_v2) dataset for getting the context, questions and ground truth answers.\n",
        "\n",
        "\n",
        "\n"
      ]
    },
    {
      "cell_type": "markdown",
      "metadata": {
        "id": "q_AjPvc3C-Kj"
      },
      "source": [
        "**Initialize the document store**"
      ]
    },
    {
      "cell_type": "code",
      "execution_count": 98,
      "metadata": {
        "colab": {
          "base_uri": "https://localhost:8080/"
        },
        "id": "IR39gHK2C55Q",
        "outputId": "163d5c12-b10d-462e-8849-abf038bf3077"
      },
      "outputs": [
        {
          "data": {
            "text/plain": [
              "1204"
            ]
          },
          "execution_count": 98,
          "metadata": {},
          "output_type": "execute_result"
        }
      ],
      "source": [
        "from datasets import load_dataset\n",
        "from haystack import Document\n",
        "from haystack.document_stores.in_memory import InMemoryDocumentStore\n",
        "\n",
        "document_store = InMemoryDocumentStore()\n",
        "\n",
        "dataset = load_dataset(\"rajpurkar/squad_v2\", split=\"validation\")\n",
        "documents = list(set(dataset[\"context\"]))\n",
        "docs = [Document(content=doc) for doc in documents]\n",
        "document_store.write_documents(docs)"
      ]
    },
    {
      "cell_type": "code",
      "execution_count": 99,
      "metadata": {
        "colab": {
          "base_uri": "https://localhost:8080/"
        },
        "id": "as-xNjHYEcHb",
        "outputId": "c4c6f2fb-e973-41bb-8430-eb3d7d55c1ff"
      },
      "outputs": [
        {
          "name": "stdout",
          "output_type": "stream",
          "text": [
            "Enter OpenAI API key:··········\n"
          ]
        }
      ],
      "source": [
        "import os\n",
        "from getpass import getpass\n",
        "from haystack.components.builders import PromptBuilder\n",
        "from haystack.components.generators import OpenAIGenerator\n",
        "from haystack.components.retrievers.in_memory import InMemoryBM25Retriever\n",
        "\n",
        "retriever = InMemoryBM25Retriever(document_store, top_k=3)\n",
        "\n",
        "template = \"\"\"\n",
        "Given the following information, answer the question.\n",
        "\n",
        "Context:\n",
        "{% for document in documents %}\n",
        "    {{ document.content }}\n",
        "{% endfor %}\n",
        "\n",
        "Question: {{question}}\n",
        "Answer:\n",
        "\"\"\"\n",
        "\n",
        "prompt_builder = PromptBuilder(template=template)\n",
        "\n",
        "\n",
        "os.environ[\"OPENAI_API_KEY\"] = getpass(\"Enter OpenAI API key:\")\n",
        "generator = OpenAIGenerator(model=\"gpt-4o-mini-2024-07-18\")"
      ]
    },
    {
      "cell_type": "markdown",
      "metadata": {
        "id": "gHpFKD0nEfbo"
      },
      "source": [
        "**Build the RAG pipeline**"
      ]
    },
    {
      "cell_type": "code",
      "execution_count": 100,
      "metadata": {
        "colab": {
          "base_uri": "https://localhost:8080/",
          "height": 1000
        },
        "id": "qAX_n_uPEgOc",
        "outputId": "96cdb7d3-3858-4f80-f50f-18fb7fcc2263"
      },
      "outputs": [
        {
          "data": {
            "image/png": "[encoded data removed]",
            "text/plain": [
              "<IPython.core.display.Image object>"
            ]
          },
          "metadata": {},
          "output_type": "display_data"
        },
        {
          "data": {
            "text/plain": []
          },
          "execution_count": 100,
          "metadata": {},
          "output_type": "execute_result"
        }
      ],
      "source": [
        "from haystack import Pipeline\n",
        "from haystack.components.builders.answer_builder import AnswerBuilder\n",
        "\n",
        "rag_pipeline = Pipeline()\n",
        "# Add components to your pipeline\n",
        "rag_pipeline.add_component(\"retriever\", retriever)\n",
        "rag_pipeline.add_component(\"prompt_builder\", prompt_builder)\n",
        "rag_pipeline.add_component(\"llm\", generator)\n",
        "rag_pipeline.add_component(instance=AnswerBuilder(), name=\"answer_builder\")\n",
        "\n",
        "# Now, connect the components to each other\n",
        "rag_pipeline.connect(\"retriever\", \"prompt_builder.documents\")\n",
        "rag_pipeline.connect(\"prompt_builder\", \"llm\")\n",
        "rag_pipeline.connect(\"llm.replies\", \"answer_builder.replies\")\n",
        "rag_pipeline.connect(\"llm.meta\", \"answer_builder.meta\")\n",
        "rag_pipeline.connect(\"retriever\", \"answer_builder.documents\")\n"
      ]
    },
    {
      "cell_type": "markdown",
      "metadata": {
        "id": "NxPca8ErEpqA"
      },
      "source": [
        "**Running the pipeline**"
      ]
    },
    {
      "cell_type": "code",
      "execution_count": 101,
      "metadata": {
        "colab": {
          "base_uri": "https://localhost:8080/",
          "height": 49,
          "referenced_widgets": [
            "2591fa84e59843eb858ceb1b5cbd8ee7",
            "e519342751fe48648416b9ace1ce07d7",
            "9b2c72ee0e8443f6b3e4b04e080daf26",
            "61dce654eb9b42e7bf05071b33219aeb",
            "71fa49d08d72468bb027200adc8f6d8d",
            "26bc9846a0c1403081739c767c18a5bf",
            "7007ce08b9c3414e87ea33302b6fe2ee",
            "c550e75c05eb4d8382a7ca7c78b0bcd4",
            "fe66c8d7e2f8451286517dba2036bfd1",
            "c7b500612e1f4710bec6e2d18d628f2d",
            "6862586b70514e388e880b25f6722868"
          ]
        },
        "id": "Y8xEpH_3Erk2",
        "outputId": "eba37cc1-e8c7-429f-f2b3-bde8de251619"
      },
      "outputs": [
        {
          "data": {
            "application/vnd.jupyter.widget-view+json": {
              "model_id": "2591fa84e59843eb858ceb1b5cbd8ee7",
              "version_major": 2,
              "version_minor": 0
            },
            "text/plain": [
              "Ranking by BM25...:   0%|          | 0/1204 [00:00<?, ? docs/s]"
            ]
          },
          "metadata": {},
          "output_type": "display_data"
        }
      ],
      "source": [
        "question = \"In what country is Normandy located?\"\n",
        "\n",
        "response = rag_pipeline.run(\n",
        "    {\"retriever\": {\"query\": question}, \"prompt_builder\": {\"question\": question}, \"answer_builder\": {\"query\": question}}\n",
        ")\n"
      ]
    },
    {
      "cell_type": "code",
      "execution_count": 102,
      "metadata": {
        "colab": {
          "base_uri": "https://localhost:8080/"
        },
        "id": "pRwpfaKJEtiV",
        "outputId": "4a738031-3403-4ab4-97cb-46845141ae61"
      },
      "outputs": [
        {
          "name": "stdout",
          "output_type": "stream",
          "text": [
            "Normandy is located in France.\n"
          ]
        }
      ],
      "source": [
        "print(response[\"answer_builder\"][\"answers\"][0].data)"
      ]
    },
    {
      "cell_type": "markdown",
      "metadata": {
        "id": "fiB_-RezEvku"
      },
      "source": [
        "We're done building our RAG pipeline. Let's evaluate it now!"
      ]
    },
    {
      "cell_type": "markdown",
      "metadata": {
        "id": "n8NOt4SPExrq"
      },
      "source": [
        "## Get questions, contexts, responses and ground truths for evaluation\n",
        "\n",
        "For computing most metrics, we will need to provide the following to the evaluator:\n",
        "1. Questions\n",
        "2. Generated responses\n",
        "3. Retrieved contexts\n",
        "4. Ground truth\n",
        "\n",
        "Below is a helper function to get `contexts` and `responses`."
      ]
    },
    {
      "cell_type": "markdown",
      "metadata": {
        "id": "5bxXySOuE0Im"
      },
      "source": [
        "### Helper function to get context and responses\n"
      ]
    },
    {
      "cell_type": "code",
      "execution_count": 103,
      "metadata": {
        "id": "nr9SwwGDE1sg"
      },
      "outputs": [],
      "source": [
        "def get_contexts_and_responses(questions, pipeline):\n",
        "    contexts = []\n",
        "    responses = []\n",
        "    for question in questions:\n",
        "        response = pipeline.run(\n",
        "            {\n",
        "                \"retriever\": {\"query\": question},\n",
        "                \"prompt_builder\": {\"question\": question},\n",
        "                \"answer_builder\": {\"query\": question},\n",
        "            }\n",
        "        )\n",
        "\n",
        "        contexts.append([d.content for d in response[\"answer_builder\"][\"answers\"][0].documents])\n",
        "        responses.append(response[\"answer_builder\"][\"answers\"][0].data)\n",
        "    return contexts, responses\n"
      ]
    },
    {
      "cell_type": "code",
      "execution_count": null,
      "metadata": {
        "id": "H8Gz3EVgE3yv"
      },
      "outputs": [],
      "source": [
        "question_map = {\n",
        "    \"Which mountain range influenced the split of the regions?\": 0,\n",
        "    \"What is the prize offered for finding a solution to P=NP?\": 1,\n",
        "    \"Which Californio is located in the upper part?\": 2\n",
        "}\n",
        "questions = list(question_map.keys())\n",
        "contexts, responses = get_contexts_and_responses(questions, rag_pipeline)"
      ]
    },
    {
      "cell_type": "markdown",
      "metadata": {
        "id": "EH3ZpEpGE6DX"
      },
      "source": [
        "### Get ground truths\n",
        "\n",
        "Since we're using the SQUAD dataset, ground truth answers are also available."
      ]
    },
    {
      "cell_type": "code",
      "execution_count": 105,
      "metadata": {
        "id": "KudqPPW2E85J"
      },
      "outputs": [],
      "source": [
        "ground_truths = [\"\"] * len(question_map)\n",
        "\n",
        "for question, index in question_map.items():\n",
        "    idx = dataset[\"question\"].index(question)\n",
        "    ground_truths[index] = dataset[\"answers\"][idx][\"text\"][0]"
      ]
    },
    {
      "cell_type": "code",
      "execution_count": 106,
      "metadata": {
        "colab": {
          "base_uri": "https://localhost:8080/"
        },
        "id": "auMvn6M-E-y6",
        "outputId": "ab45df92-04fd-4d67-91f2-6ed5349433c8"
      },
      "outputs": [
        {
          "name": "stdout",
          "output_type": "stream",
          "text": [
            "Questions\n",
            "\n",
            "Which mountain range influenced the split of the regions?\n",
            "What is the prize offered for finding a solution to P=NP?\n",
            "Which Californio is located in the upper part?\n"
          ]
        }
      ],
      "source": [
        "print(\"Questions\\n\")\n",
        "print(\"\\n\".join(questions))"
      ]
    },
    {
      "cell_type": "code",
      "execution_count": 107,
      "metadata": {
        "colab": {
          "base_uri": "https://localhost:8080/"
        },
        "id": "-b_VzWvpFAis",
        "outputId": "7984323b-5ba6-4f64-de26-6b0d68628005"
      },
      "outputs": [
        {
          "name": "stdout",
          "output_type": "stream",
          "text": [
            "Responses\n",
            "\n",
            "The Tehachapi mountains influenced the split of the regions as mentioned in the passage.\n",
            "The prize offered for finding a solution to P=NP is US$1,000,000.\n",
            "The Californio located in the upper part is the Upper Rhine.\n"
          ]
        }
      ],
      "source": [
        "print(\"Responses\\n\")\n",
        "print(\"\\n\".join(responses))"
      ]
    },
    {
      "cell_type": "code",
      "execution_count": 108,
      "metadata": {
        "colab": {
          "base_uri": "https://localhost:8080/"
        },
        "id": "5rgNo02JFDkd",
        "outputId": "1476656c-afc9-426f-f8c0-e395604c0e7e"
      },
      "outputs": [
        {
          "name": "stdout",
          "output_type": "stream",
          "text": [
            "Ground truths\n",
            "\n",
            "Tehachapis\n",
            "$1,000,000\n",
            "Monterey\n"
          ]
        }
      ],
      "source": [
        "print(\"Ground truths\\n\")\n",
        "print(\"\\n\".join(ground_truths))"
      ]
    },
    {
      "cell_type": "markdown",
      "metadata": {
        "id": "7YYNclHOFGK7"
      },
      "source": [
        "## Evaluate the RAG pipeline"
      ]
    },
    {
      "cell_type": "markdown",
      "metadata": {
        "id": "1C4SdfxfFJCm"
      },
      "source": [
        "Now that we have the `questions`, `generated answers`, `contexts` and the `ground truths`, we can begin our pipeline evaluation and compute all the supported metrics."
      ]
    },
    {
      "cell_type": "markdown",
      "metadata": {
        "id": "kSMcGxWzFLS8"
      },
      "source": [
        "## UpTrainEvaluator\n",
        "\n",
        "We can use the `UpTrainEvaluator` component to evaluate our Pipeline against one of the metrics provided by UpTrain.\n",
        "\n",
        "The evaluation pipeline follows a simple structure:\n",
        "1. Create the pipeline object.\n",
        "2. Instantiate the evaluator object with the following parameters:\n",
        "    - `metric`: The upTrain metric you want to compute\n",
        "    - `metric_params`: Any additional parameters that that is required for the metric computation\n",
        "    - `api`: The API you want to use with your evaluator\n",
        "    - `api_key`: By default, this component looks for an environment variable called `OPENAI_API_KEY`. To change this, pass `Secret.from_env_var(\"YOUR_ENV_VAR\")` to this parameter.\n",
        "3. Add the evaluator component to the pipeline.\n",
        "    - Note: We can add multiple evaluator components to the pipeline and compute multiple metrics. Example present [here](#scrollTo=K0GMm1blcOkZ).\n",
        "4. Run the evaluation pipeline with the necessary inputs.\n",
        "\n",
        "\n",
        "```\n",
        "# Create the pipeline object\n",
        "eval_pipeline = Pipeline()\n",
        "\n",
        "# Initialize the evaluator object\n",
        "evaluator = UpTrainEvaluator(metric=UpTrainMetric.{METRIC_NAME})\n",
        "\n",
        "# Add the evaluator component to the pipeline\n",
        "eval_pipeline.add_component(\"evaluator\", evaluator)\n",
        "\n",
        "# Run the evaluation pipeline with the necessary inputs\n",
        "evaluation_results = eval_pipeline.run(\n",
        "    {\"evaluator\": {\"contexts\": contexts, \"responses\": responses}}\n",
        ")\n",
        "```\n",
        "\n"
      ]
    },
    {
      "cell_type": "markdown",
      "metadata": {
        "id": "jzWKeSQxFNm8"
      },
      "source": [
        "## Metrics computation\n",
        "\n",
        "For a full list of available metrics and their expected inputs, check out the [UpTrainEvaluator Docs](https://docs.haystack.deepset.ai/docs/uptrainevaluator).\n",
        "Additionally, UpTrain offers score explanations which can be quite useful.\n",
        "\n",
        "[UpTrain Docs](https://docs.uptrain.ai/) also offers explanations of all metrics along with simple examples."
      ]
    },
    {
      "cell_type": "markdown",
      "metadata": {
        "id": "EDynExWXLXUP"
      },
      "source": [
        "### Helper function to print results\n",
        "\n",
        "Below is a helper function to print the results of our evaluation pipeline"
      ]
    },
    {
      "cell_type": "code",
      "execution_count": 109,
      "metadata": {
        "id": "RiVaM86ELWmx"
      },
      "outputs": [],
      "source": [
        "def print_results(questions: list, results: dict):\n",
        "  for index, question in enumerate(questions):\n",
        "    print(question)\n",
        "    result_dict = results['results'][index][0]\n",
        "    for key, value in result_dict.items():\n",
        "      print(f\"{key} : {value}\")\n",
        "    print(\"\\n\")"
      ]
    },
    {
      "cell_type": "markdown",
      "metadata": {
        "id": "ZMxi4L-9Fon_"
      },
      "source": [
        "### **Context relevance**\n",
        "\n",
        "Measures how relevant the context was to the question specified."
      ]
    },
    {
      "cell_type": "code",
      "execution_count": 110,
      "metadata": {
        "id": "jTDEgM4PFoIM"
      },
      "outputs": [],
      "source": [
        "import os\n",
        "from haystack import Pipeline\n",
        "from haystack_integrations.components.evaluators.uptrain import UpTrainEvaluator, UpTrainMetric\n",
        "\n",
        "evaluator = UpTrainEvaluator(\n",
        "    metric=UpTrainMetric.CONTEXT_RELEVANCE,\n",
        "    api=\"openai\",\n",
        ")\n",
        "\n",
        "evaluator_pipeline = Pipeline()\n",
        "evaluator_pipeline.add_component(\"evaluator\", evaluator)\n"
      ]
    },
    {
      "cell_type": "code",
      "execution_count": 111,
      "metadata": {
        "colab": {
          "base_uri": "https://localhost:8080/"
        },
        "id": "MJ18qlW2FyHB",
        "outputId": "4a868a3a-d364-4c6c-bb96-f42d56d43388"
      },
      "outputs": [
        {
          "name": "stderr",
          "output_type": "stream",
          "text": [
            "\u001b[32m2024-03-23 23:04:08.769\u001b[0m | \u001b[1mINFO    \u001b[0m | \u001b[36muptrain.framework.evalllm\u001b[0m:\u001b[36mevaluate\u001b[0m:\u001b[36m100\u001b[0m - \u001b[1mSending evaluation request for rows 0 to <50 to the Uptrain\u001b[0m\n",
            "\u001b[32m2024-03-23 23:04:21.216\u001b[0m | \u001b[1mINFO    \u001b[0m | \u001b[36muptrain.framework.evalllm\u001b[0m:\u001b[36mevaluate\u001b[0m:\u001b[36m100\u001b[0m - \u001b[1mSending evaluation request for rows 0 to <50 to the Uptrain\u001b[0m\n",
            "\u001b[32m2024-03-23 23:04:33.232\u001b[0m | \u001b[1mINFO    \u001b[0m | \u001b[36muptrain.framework.evalllm\u001b[0m:\u001b[36mevaluate\u001b[0m:\u001b[36m100\u001b[0m - \u001b[1mSending evaluation request for rows 0 to <50 to the Uptrain\u001b[0m\n"
          ]
        },
        {
          "name": "stdout",
          "output_type": "stream",
          "text": [
            "\n",
            "\n",
            "Which mountain range influenced the split of the regions?\n",
            "name : context_relevance\n",
            "score : 0.0\n",
            "explanation :  \"The extracted context primarily focuses on the geographical and climatic aspects of California, Victoria, and orogenic wedges, and does not provide any information related to the influence of mountain ranges on the split of regions. Therefore, the given user query cannot be answered at all with the extracted context.\"\n",
            "\n",
            "\n",
            "\n",
            "What is the prize offered for finding a solution to P=NP?\n",
            "name : context_relevance\n",
            "score : 1.0\n",
            "explanation : ['The extracted context can answer the given user query completely. It explicitly states that there is a US$1,000,000 prize for resolving the P versus NP problem, providing a clear and specific answer to the user query.']\n",
            "\n",
            "\n",
            "Which Californio is located in the upper part?\n",
            "name : context_relevance\n",
            "score : 0.0\n",
            "explanation : [\"The extracted context is focused on the geography of the Rhine river, the Roman frontier, and plate tectonics. There is no mention of any specific Californio or location within California. Therefore, the extracted context doesn't contain any information to answer the given user query.\"]\n",
            "\n",
            "\n"
          ]
        }
      ],
      "source": [
        "results = evaluator_pipeline.run({\"evaluator\": {\"questions\": questions, \"contexts\": contexts}})\n",
        "print(\"\\n\")\n",
        "print_results(questions, results[\"evaluator\"])"
      ]
    },
    {
      "cell_type": "markdown",
      "metadata": {
        "id": "ZfdJp3lGLuFn"
      },
      "source": [
        "### **Factual accurracy**\n",
        "\n",
        "Factual accuracy score measures the degree to which a claim made in the response is true according to the context provided."
      ]
    },
    {
      "cell_type": "code",
      "execution_count": 112,
      "metadata": {
        "id": "E2W2S1BZL4HC"
      },
      "outputs": [],
      "source": [
        "import os\n",
        "from haystack import Pipeline\n",
        "from haystack_integrations.components.evaluators.uptrain import UpTrainEvaluator, UpTrainMetric\n",
        "\n",
        "evaluator = UpTrainEvaluator(\n",
        "    metric=UpTrainMetric.FACTUAL_ACCURACY,\n",
        "    api=\"openai\",\n",
        ")\n",
        "\n",
        "evaluator_pipeline = Pipeline()\n",
        "evaluator_pipeline.add_component(\"evaluator\", evaluator)"
      ]
    },
    {
      "cell_type": "code",
      "execution_count": 113,
      "metadata": {
        "colab": {
          "base_uri": "https://localhost:8080/"
        },
        "id": "ZVkHt0rOMMMQ",
        "outputId": "536425a1-3ca0-4c5e-f839-422c8cb589a1"
      },
      "outputs": [
        {
          "name": "stderr",
          "output_type": "stream",
          "text": [
            "\u001b[32m2024-03-23 23:04:48.945\u001b[0m | \u001b[1mINFO    \u001b[0m | \u001b[36muptrain.framework.evalllm\u001b[0m:\u001b[36mevaluate\u001b[0m:\u001b[36m100\u001b[0m - \u001b[1mSending evaluation request for rows 0 to <50 to the Uptrain\u001b[0m\n",
            "\u001b[32m2024-03-23 23:04:57.366\u001b[0m | \u001b[1mINFO    \u001b[0m | \u001b[36muptrain.framework.evalllm\u001b[0m:\u001b[36mevaluate\u001b[0m:\u001b[36m100\u001b[0m - \u001b[1mSending evaluation request for rows 0 to <50 to the Uptrain\u001b[0m\n",
            "\u001b[32m2024-03-23 23:05:03.061\u001b[0m | \u001b[1mINFO    \u001b[0m | \u001b[36muptrain.framework.evalllm\u001b[0m:\u001b[36mevaluate\u001b[0m:\u001b[36m100\u001b[0m - \u001b[1mSending evaluation request for rows 0 to <50 to the Uptrain\u001b[0m\n"
          ]
        },
        {
          "name": "stdout",
          "output_type": "stream",
          "text": [
            "\n",
            "\n",
            "Which mountain range influenced the split of the regions?\n",
            "name : factual_accuracy\n",
            "score : 1.0\n",
            "explanation : The Tehachapi mountains influenced the split of the regions.\n",
            "Reasoning for yes: The context explicitly mentions the geographical phrase \"South of the Tehachapis, which would split the southern region off at the crest of that transverse range,\" indicating that the Tehachapi mountains influenced the split of the regions.\n",
            "Reasoning for no: No arguments.\n",
            "Judgement: yes. as the context explicitly supports the fact.\n",
            "\n",
            "\n",
            "What is the prize offered for finding a solution to P=NP?\n",
            "name : factual_accuracy\n",
            "score : 1.0\n",
            "explanation : The prize offered for finding a solution to P=NP is US$1,000,000.\n",
            "Reasoning for yes: The context explicitly states that there is a US$1,000,000 prize for resolving the P versus NP problem.\n",
            "Reasoning for no: No arguments.\n",
            "Judgement: yes. as the context explicitly supports the fact.\n",
            "\n",
            "\n",
            "Which Californio is located in the upper part?\n",
            "name : factual_accuracy\n",
            "score : 1.0\n",
            "explanation : The Californio located in the upper part is the Upper Rhine.\n",
            "Reasoning for yes: The context mentions the Upper Rhine multiple times and provides information about its location and characteristics.\n",
            "Reasoning for no: No arguments.\n",
            "Judgement: yes. as the context explicitly supports the fact.\n",
            "\n",
            "\n"
          ]
        }
      ],
      "source": [
        "results = evaluator_pipeline.run({\"evaluator\": {\"questions\": questions, \"contexts\": contexts, \"responses\": responses}})\n",
        "print(\"\\n\")\n",
        "print_results(questions, results[\"evaluator\"])"
      ]
    },
    {
      "cell_type": "markdown",
      "metadata": {
        "id": "FkTG-kSxNd_U"
      },
      "source": [
        "## **Response relevance**\n",
        "\n",
        "Response relevance is the measure of how relevant the generated response is to the question asked."
      ]
    },
    {
      "cell_type": "code",
      "execution_count": 114,
      "metadata": {
        "id": "1Rw3U0rGNmou"
      },
      "outputs": [],
      "source": [
        "import os\n",
        "from haystack import Pipeline\n",
        "from haystack_integrations.components.evaluators.uptrain import UpTrainEvaluator, UpTrainMetric\n",
        "\n",
        "evaluator = UpTrainEvaluator(\n",
        "    metric=UpTrainMetric.RESPONSE_RELEVANCE,\n",
        "    api=\"openai\",\n",
        ")\n",
        "\n",
        "evaluator_pipeline = Pipeline()\n",
        "evaluator_pipeline.add_component(\"evaluator\", evaluator)"
      ]
    },
    {
      "cell_type": "code",
      "execution_count": 115,
      "metadata": {
        "colab": {
          "base_uri": "https://localhost:8080/"
        },
        "id": "llRXbHwiNvqm",
        "outputId": "f3e261b7-dec6-48c2-b3a2-d68a75137347"
      },
      "outputs": [
        {
          "name": "stderr",
          "output_type": "stream",
          "text": [
            "\u001b[32m2024-03-23 23:05:11.662\u001b[0m | \u001b[1mINFO    \u001b[0m | \u001b[36muptrain.framework.evalllm\u001b[0m:\u001b[36mevaluate\u001b[0m:\u001b[36m100\u001b[0m - \u001b[1mSending evaluation request for rows 0 to <50 to the Uptrain\u001b[0m\n",
            "\u001b[32m2024-03-23 23:05:24.507\u001b[0m | \u001b[1mINFO    \u001b[0m | \u001b[36muptrain.framework.evalllm\u001b[0m:\u001b[36mevaluate\u001b[0m:\u001b[36m100\u001b[0m - \u001b[1mSending evaluation request for rows 0 to <50 to the Uptrain\u001b[0m\n",
            "\u001b[32m2024-03-23 23:05:39.232\u001b[0m | \u001b[1mINFO    \u001b[0m | \u001b[36muptrain.framework.evalllm\u001b[0m:\u001b[36mevaluate\u001b[0m:\u001b[36m100\u001b[0m - \u001b[1mSending evaluation request for rows 0 to <50 to the Uptrain\u001b[0m\n"
          ]
        },
        {
          "name": "stdout",
          "output_type": "stream",
          "text": [
            "\n",
            "\n",
            "Which mountain range influenced the split of the regions?\n",
            "name : response_relevance\n",
            "score : 0.33333333333333337\n",
            "explanation : The LLM response directly addresses the user query by providing the specific mountain range, Tehachapi mountains, which influenced the split of the regions. This information is critical as it directly answers the user query and provides the necessary detail to understand the geographical influence on the region split.\n",
            "The LLM response only provides the name of the mountain range (Tehachapi mountains) but does not explain how it influenced the split of the regions. Without the explanation, the response does not provide a complete answer to the user query.\n",
            "\n",
            "\n",
            "What is the prize offered for finding a solution to P=NP?\n",
            "name : response_relevance\n",
            "score : 0.9473684210526316\n",
            "explanation : The user query specifically asks for the prize offered for finding a solution to P=NP. The LLM response provides exactly that information, stating the prize amount as US$1,000,000. There is no irrelevant information in the response as it directly addresses the user query.\n",
            "{\n",
            "\"User query summary\": \"What is the prize offered for finding a solution to P=NP?\",\n",
            "\"Reasoning to determine clarity of the user query\": The user query is clear and straightforward.\n",
            "\"Is the user query clear\": Yes,\n",
            "\"Information required in an ideal response\": Prize amount for finding a solution to P=NP,\n",
            "\"Portions of Information in an ideal response which are covered in the response\": The LLM response covers the prize amount for finding a solution to P=NP.\n",
            "\"Portions of Information in an ideal response which are not covered in the response\": None,\n",
            "\"Analysis\": The LLM response provides the exact prize amount offered for finding a solution to P=NP, which is the specific information requested in the user query. Therefore, the response completely answers the user query.\n",
            "\"Final Argument\": SAME AS ANALYSIS\n",
            "}\n",
            "\n",
            "\n",
            "Which Californio is located in the upper part?\n",
            "name : response_relevance\n",
            "score : 0.6666666666666666\n",
            "explanation : The LLM response directly answers the user query by providing the specific Californio located in the upper part, which is the Upper Rhine. There is no irrelevant information present in the response as it directly addresses the user query with the necessary detail.\n",
            "The response partially answers the user query by providing the specific name of the Californio located in the upper part. However, it lacks additional information or description about the Upper Rhine and why it is located in the upper part.\n",
            "\n",
            "\n"
          ]
        }
      ],
      "source": [
        "results = evaluator_pipeline.run({\"evaluator\": {\"questions\": questions, \"responses\": responses}})\n",
        "print(\"\\n\")\n",
        "print_results(questions, results[\"evaluator\"])"
      ]
    },
    {
      "cell_type": "markdown",
      "metadata": {
        "id": "zN2cuplkN4Ph"
      },
      "source": [
        "### **Response completeness**\n",
        "\n",
        "Response completeness score measures if the generated response has adequately answered all aspects to the question being asked."
      ]
    },
    {
      "cell_type": "code",
      "execution_count": 116,
      "metadata": {
        "id": "WbbdO8IrN_V0"
      },
      "outputs": [],
      "source": [
        "import os\n",
        "from haystack import Pipeline\n",
        "from haystack_integrations.components.evaluators.uptrain import UpTrainEvaluator, UpTrainMetric\n",
        "\n",
        "evaluator = UpTrainEvaluator(\n",
        "    metric=UpTrainMetric.RESPONSE_COMPLETENESS,\n",
        "    api=\"openai\",\n",
        ")\n",
        "\n",
        "evaluator_pipeline = Pipeline()\n",
        "evaluator_pipeline.add_component(\"evaluator\", evaluator)"
      ]
    },
    {
      "cell_type": "code",
      "execution_count": 117,
      "metadata": {
        "colab": {
          "base_uri": "https://localhost:8080/"
        },
        "id": "FpZY_6pwOOK-",
        "outputId": "eb9627b7-bbd6-45a6-f4a3-16d55c7369d9"
      },
      "outputs": [
        {
          "name": "stderr",
          "output_type": "stream",
          "text": [
            "\u001b[32m2024-03-23 23:05:55.620\u001b[0m | \u001b[1mINFO    \u001b[0m | \u001b[36muptrain.framework.evalllm\u001b[0m:\u001b[36mevaluate\u001b[0m:\u001b[36m100\u001b[0m - \u001b[1mSending evaluation request for rows 0 to <50 to the Uptrain\u001b[0m\n",
            "\u001b[32m2024-03-23 23:06:08.180\u001b[0m | \u001b[1mINFO    \u001b[0m | \u001b[36muptrain.framework.evalllm\u001b[0m:\u001b[36mevaluate\u001b[0m:\u001b[36m100\u001b[0m - \u001b[1mSending evaluation request for rows 0 to <50 to the Uptrain\u001b[0m\n",
            "\u001b[32m2024-03-23 23:06:15.882\u001b[0m | \u001b[1mINFO    \u001b[0m | \u001b[36muptrain.framework.evalllm\u001b[0m:\u001b[36mevaluate\u001b[0m:\u001b[36m100\u001b[0m - \u001b[1mSending evaluation request for rows 0 to <50 to the Uptrain\u001b[0m\n"
          ]
        },
        {
          "name": "stdout",
          "output_type": "stream",
          "text": [
            "\n",
            "\n",
            "Which mountain range influenced the split of the regions?\n",
            "name : response_completeness\n",
            "score : 0.3\n",
            "explanation : The response partially answers the user query by providing the name of the mountain range that influenced the split of the regions. However, it does not provide the specific details of how the Tehachapi mountains influenced the split of the regions, which is necessary for a comprehensive answer.\n",
            "\n",
            "\n",
            "What is the prize offered for finding a solution to P=NP?\n",
            "name : response_completeness\n",
            "score : 0.9\n",
            "explanation : {\n",
            "\"User query summary\": \"What is the prize offered for finding a solution to P=NP?\",\n",
            "\"Reasoning to determine clarity of the user query\": The user query is clear and straightforward.\n",
            "\"Is the user query clear\": Yes,\n",
            "\"Information required in an ideal response\": Prize amount for finding a solution to P=NP,\n",
            "\"Portions of Information in an ideal response which are covered in the response\": The LLM response covers the prize amount for finding a solution to P=NP.\n",
            "\"Portions of Information in an ideal response which are not covered in the response\": None\n",
            "\"Analysis\": The LLM response provides the exact prize amount offered for finding a solution to P=NP, which completely answers the user query.\n",
            "\"Final Argument\": SAME AS ANALYSIS\n",
            "}\n",
            "\n",
            "\n",
            "Which Californio is located in the upper part?\n",
            "name : response_completeness\n",
            "score : 0.0\n",
            "explanation : The LLM response only provides the general location of the Upper Rhine, but it does not specify the specific Californio location in the upper part. The user query requires a specific Californio location, which is not provided in the response.\n",
            "\n",
            "\n"
          ]
        }
      ],
      "source": [
        "results = evaluator_pipeline.run({\"evaluator\": {\"questions\": questions, \"responses\": responses}})\n",
        "print(\"\\n\")\n",
        "print_results(questions, results[\"evaluator\"])"
      ]
    },
    {
      "cell_type": "markdown",
      "metadata": {
        "id": "ZXd02B4EOeug"
      },
      "source": [
        "### **Response completeness with respect to context**\n",
        "\n",
        "Measures how complete the generated response was for the question specified given the information provided in the context."
      ]
    },
    {
      "cell_type": "code",
      "execution_count": 118,
      "metadata": {
        "id": "KHyELOgYOns4"
      },
      "outputs": [],
      "source": [
        "import os\n",
        "from haystack import Pipeline\n",
        "from haystack_integrations.components.evaluators.uptrain import UpTrainEvaluator, UpTrainMetric\n",
        "\n",
        "evaluator = UpTrainEvaluator(\n",
        "    metric=UpTrainMetric.RESPONSE_COMPLETENESS_WRT_CONTEXT,\n",
        "    api=\"openai\",\n",
        ")\n",
        "\n",
        "evaluator_pipeline = Pipeline()\n",
        "evaluator_pipeline.add_component(\"evaluator\", evaluator)"
      ]
    },
    {
      "cell_type": "code",
      "execution_count": 119,
      "metadata": {
        "colab": {
          "base_uri": "https://localhost:8080/"
        },
        "id": "eysQcnDuOrDY",
        "outputId": "fae80771-3b8e-4f22-b27c-53ca1997322a"
      },
      "outputs": [
        {
          "name": "stderr",
          "output_type": "stream",
          "text": [
            "\u001b[32m2024-03-23 23:06:23.587\u001b[0m | \u001b[1mINFO    \u001b[0m | \u001b[36muptrain.framework.evalllm\u001b[0m:\u001b[36mevaluate\u001b[0m:\u001b[36m100\u001b[0m - \u001b[1mSending evaluation request for rows 0 to <50 to the Uptrain\u001b[0m\n",
            "\u001b[32m2024-03-23 23:06:27.682\u001b[0m | \u001b[1mINFO    \u001b[0m | \u001b[36muptrain.framework.evalllm\u001b[0m:\u001b[36mevaluate\u001b[0m:\u001b[36m100\u001b[0m - \u001b[1mSending evaluation request for rows 0 to <50 to the Uptrain\u001b[0m\n",
            "\u001b[32m2024-03-23 23:06:33.977\u001b[0m | \u001b[1mINFO    \u001b[0m | \u001b[36muptrain.framework.evalllm\u001b[0m:\u001b[36mevaluate\u001b[0m:\u001b[36m100\u001b[0m - \u001b[1mSending evaluation request for rows 0 to <50 to the Uptrain\u001b[0m\n"
          ]
        },
        {
          "name": "stdout",
          "output_type": "stream",
          "text": [
            "\n",
            "\n",
            "Which mountain range influenced the split of the regions?\n",
            "name : response_completeness_wrt_context\n",
            "score : 1.0\n",
            "explanation : Key points present in the context relevant to the given question:\n",
            "1. The geographical phrase \"South of the Tehachapis\" influenced the split of the southern region.\n",
            "2. The desert portions of north Los Angeles County and eastern Kern and San Bernardino Counties would be included in the southern California region due to their remoteness from the central valley and interior desert landscape.\n",
            "\n",
            "Key points present in the response relevant to the given question:\n",
            "1. The Tehachapi mountains influenced the split of the regions.\n",
            "\n",
            "Reasoning:\n",
            "The context clearly mentions the influence of the geographical phrase \"South of the Tehachapis\" in splitting the southern region, along with the inclusion of desert portions in the southern California region. The response accurately identifies the Tehachapi mountains as the influence for the split of the regions.\n",
            "\n",
            "[Choice]: (A) The generated response incorporates all the relevant information present in the context.\n",
            "\n",
            "\n",
            "What is the prize offered for finding a solution to P=NP?\n",
            "name : response_completeness_wrt_context\n",
            "score : 1.0\n",
            "explanation : Key points present in the context relevant to the given question:\n",
            "1. The P versus NP problem is one of the Millennium Prize Problems proposed by the Clay Mathematics Institute.\n",
            "2. There is a US$1,000,000 prize for resolving the problem.\n",
            "3. The P versus NP problem is one of the most important open questions in theoretical computer science.\n",
            "\n",
            "Key points present in the response relevant to the given question:\n",
            "1. The prize offered for finding a solution to P=NP is US$1,000,000.\n",
            "\n",
            "Reasoning:\n",
            "The context provides information about the significance of the P versus NP problem, the prize amount for resolving the problem, and the importance of the question in theoretical computer science. The response accurately captures the prize amount offered for finding a solution to P=NP as US$1,000,000.\n",
            "\n",
            "[Choice]: (A) The generated response incorporates all the relevant information present in the context.\n",
            "\n",
            "\n",
            "Which Californio is located in the upper part?\n",
            "name : response_completeness_wrt_context\n",
            "score : 1.0\n",
            "explanation : Key points in the context relevant to the given question:\n",
            "1. The Rhine river changes direction from West to North at the \"Rhine knee\".\n",
            "2. The High Rhine ends at the \"Rhine knee\".\n",
            "3. The river flows North as Upper Rhine through the Upper Rhine Plain.\n",
            "4. Mainz is where the Rhine leaves the Upper Rhine Valley.\n",
            "\n",
            "Key points in the response relevant to the given question:\n",
            "1. The Californio located in the upper part is the Upper Rhine.\n",
            "\n",
            "Reasoning:\n",
            "The context provides information about the geographical location and direction of the Rhine river, including the Upper Rhine. The response correctly identifies the Upper Rhine as the Californio located in the upper part.\n",
            "\n",
            "[Choice]: (A) The generated response incorporates all the relevant information present in the context.\n",
            "\n",
            "\n"
          ]
        }
      ],
      "source": [
        "results = evaluator_pipeline.run({\"evaluator\": {\"questions\": questions, \"contexts\": contexts, \"responses\": responses}})\n",
        "print(\"\\n\")\n",
        "print_results(questions, results[\"evaluator\"])"
      ]
    },
    {
      "cell_type": "markdown",
      "metadata": {
        "id": "_OzBigjHPEbO"
      },
      "source": [
        "### **Response consistency**\n",
        "\n",
        "Response Consistency is the measure of how well the generated response aligns with both the question asked and the context provided."
      ]
    },
    {
      "cell_type": "code",
      "execution_count": 120,
      "metadata": {
        "id": "6TFeRvkvPSSk"
      },
      "outputs": [],
      "source": [
        "import os\n",
        "from haystack import Pipeline\n",
        "from haystack_integrations.components.evaluators.uptrain import UpTrainEvaluator, UpTrainMetric\n",
        "\n",
        "evaluator = UpTrainEvaluator(\n",
        "    metric=UpTrainMetric.RESPONSE_CONSISTENCY,\n",
        "    api=\"openai\",\n",
        ")\n",
        "\n",
        "evaluator_pipeline = Pipeline()\n",
        "evaluator_pipeline.add_component(\"evaluator\", evaluator)"
      ]
    },
    {
      "cell_type": "code",
      "execution_count": 121,
      "metadata": {
        "colab": {
          "base_uri": "https://localhost:8080/"
        },
        "id": "k7WX068_PT5M",
        "outputId": "b26d20e5-6f42-4f40-b66a-f20ba927baf1"
      },
      "outputs": [
        {
          "name": "stderr",
          "output_type": "stream",
          "text": [
            "\u001b[32m2024-03-23 23:06:38.957\u001b[0m | \u001b[1mINFO    \u001b[0m | \u001b[36muptrain.framework.evalllm\u001b[0m:\u001b[36mevaluate\u001b[0m:\u001b[36m100\u001b[0m - \u001b[1mSending evaluation request for rows 0 to <50 to the Uptrain\u001b[0m\n",
            "\u001b[32m2024-03-23 23:06:49.394\u001b[0m | \u001b[1mINFO    \u001b[0m | \u001b[36muptrain.framework.evalllm\u001b[0m:\u001b[36mevaluate\u001b[0m:\u001b[36m100\u001b[0m - \u001b[1mSending evaluation request for rows 0 to <50 to the Uptrain\u001b[0m\n",
            "\u001b[32m2024-03-23 23:07:02.111\u001b[0m | \u001b[1mINFO    \u001b[0m | \u001b[36muptrain.framework.evalllm\u001b[0m:\u001b[36mevaluate\u001b[0m:\u001b[36m100\u001b[0m - \u001b[1mSending evaluation request for rows 0 to <50 to the Uptrain\u001b[0m\n"
          ]
        },
        {
          "name": "stdout",
          "output_type": "stream",
          "text": [
            "\n",
            "\n",
            "Which mountain range influenced the split of the regions?\n",
            "name : response_consistency\n",
            "score : 0.9\n",
            "explanation : The argument is logical and well-supported by the information in the context. The response directly addresses the specific mountain range mentioned in the context as influencing the split of the regions.\n",
            "\n",
            "\n",
            "What is the prize offered for finding a solution to P=NP?\n",
            "name : response_consistency\n",
            "score : 1.0\n",
            "explanation : The argument is logical and well-supported by the information in the context. The response directly provides the prize amount mentioned in the context, leaving no room for ambiguity or misinterpretation.\n",
            "\n",
            "\n",
            "Which Californio is located in the upper part?\n",
            "name : response_consistency\n",
            "score : 0.9\n",
            "explanation : The argument is logical and well-supported by the information in the context. The response directly addresses the question and aligns with the information provided in the context regarding the Upper Rhine.\n",
            "\n",
            "\n"
          ]
        }
      ],
      "source": [
        "results = evaluator_pipeline.run({\"evaluator\": {\"questions\": questions, \"contexts\": contexts, \"responses\": responses}})\n",
        "print(\"\\n\")\n",
        "print_results(questions, results[\"evaluator\"])"
      ]
    },
    {
      "cell_type": "markdown",
      "metadata": {
        "id": "b7upw5HhPXsM"
      },
      "source": [
        "### **Response conciseness**\n",
        "\n",
        "Response conciseness score measures whether the generated response contains any additional information irrelevant to the question asked."
      ]
    },
    {
      "cell_type": "code",
      "execution_count": 122,
      "metadata": {
        "id": "4X-dnH42PbEw"
      },
      "outputs": [],
      "source": [
        "import os\n",
        "from haystack import Pipeline\n",
        "from haystack_integrations.components.evaluators.uptrain import UpTrainEvaluator, UpTrainMetric\n",
        "\n",
        "evaluator = UpTrainEvaluator(\n",
        "    metric=UpTrainMetric.RESPONSE_CONCISENESS,\n",
        "    api=\"openai\",\n",
        ")\n",
        "\n",
        "evaluator_pipeline = Pipeline()\n",
        "evaluator_pipeline.add_component(\"evaluator\", evaluator)"
      ]
    },
    {
      "cell_type": "code",
      "execution_count": 123,
      "metadata": {
        "colab": {
          "base_uri": "https://localhost:8080/"
        },
        "id": "Cgh8fbt-PfRB",
        "outputId": "6d349cdb-bf87-4b7e-e18b-722c2a146af8"
      },
      "outputs": [
        {
          "name": "stderr",
          "output_type": "stream",
          "text": [
            "\u001b[32m2024-03-23 23:07:12.613\u001b[0m | \u001b[1mINFO    \u001b[0m | \u001b[36muptrain.framework.evalllm\u001b[0m:\u001b[36mevaluate\u001b[0m:\u001b[36m100\u001b[0m - \u001b[1mSending evaluation request for rows 0 to <50 to the Uptrain\u001b[0m\n",
            "\u001b[32m2024-03-23 23:07:20.135\u001b[0m | \u001b[1mINFO    \u001b[0m | \u001b[36muptrain.framework.evalllm\u001b[0m:\u001b[36mevaluate\u001b[0m:\u001b[36m100\u001b[0m - \u001b[1mSending evaluation request for rows 0 to <50 to the Uptrain\u001b[0m\n",
            "\u001b[32m2024-03-23 23:07:29.139\u001b[0m | \u001b[1mINFO    \u001b[0m | \u001b[36muptrain.framework.evalllm\u001b[0m:\u001b[36mevaluate\u001b[0m:\u001b[36m100\u001b[0m - \u001b[1mSending evaluation request for rows 0 to <50 to the Uptrain\u001b[0m\n"
          ]
        },
        {
          "name": "stdout",
          "output_type": "stream",
          "text": [
            "\n",
            "\n",
            "Which mountain range influenced the split of the regions?\n",
            "name : response_conciseness\n",
            "score : 1.0\n",
            "explanation : The LLM response directly addresses the user query by providing the specific mountain range, Tehachapi mountains, which influenced the split of the regions. This information is crucial as it directly answers the user query and provides the necessary detail to understand the geographical influence on the region split.\n",
            "\n",
            "\n",
            "What is the prize offered for finding a solution to P=NP?\n",
            "name : response_conciseness\n",
            "score : 1.0\n",
            "explanation : The LLM response directly addresses the user query by providing the specific prize amount offered for finding a solution to P=NP. There is no irrelevant information present in the response, as the prize amount is the key information sought by the user.\n",
            "\n",
            "\n",
            "Which Californio is located in the upper part?\n",
            "name : response_conciseness\n",
            "score : 0.8\n",
            "explanation : The LLM response directly addresses the user query by providing the specific Californio located in the upper part, which is the Upper Rhine. There is no irrelevant information present in the response, as it directly answers the user query without any unnecessary details.\n",
            "\n",
            "\n"
          ]
        }
      ],
      "source": [
        "results = evaluator_pipeline.run({\"evaluator\": {\"questions\": questions, \"responses\": responses}})\n",
        "print(\"\\n\")\n",
        "print_results(questions, results[\"evaluator\"])"
      ]
    },
    {
      "cell_type": "markdown",
      "metadata": {
        "id": "IrusFez1Pixh"
      },
      "source": [
        "### **Critique language**\n",
        "\n",
        "Evaluates the response on multiple aspects - fluency, politeness, grammar, and coherence. It provides a score for each of the aspects on a scale of 0 to 1, along with an explanation for the score."
      ]
    },
    {
      "cell_type": "code",
      "execution_count": 124,
      "metadata": {
        "id": "6qMH4zCKPlhU"
      },
      "outputs": [],
      "source": [
        "import os\n",
        "from haystack import Pipeline\n",
        "from haystack_integrations.components.evaluators.uptrain import UpTrainEvaluator, UpTrainMetric\n",
        "\n",
        "evaluator = UpTrainEvaluator(\n",
        "    metric=UpTrainMetric.CRITIQUE_LANGUAGE,\n",
        "    api=\"openai\",\n",
        ")\n",
        "\n",
        "evaluator_pipeline = Pipeline()\n",
        "evaluator_pipeline.add_component(\"evaluator\", evaluator)"
      ]
    },
    {
      "cell_type": "code",
      "execution_count": 125,
      "metadata": {
        "colab": {
          "base_uri": "https://localhost:8080/"
        },
        "id": "OUheBTVKPqbK",
        "outputId": "ea42ab8e-0ca5-4c10-e95d-4dbf484c6694"
      },
      "outputs": [
        {
          "name": "stderr",
          "output_type": "stream",
          "text": [
            "\u001b[32m2024-03-23 23:07:35.724\u001b[0m | \u001b[1mINFO    \u001b[0m | \u001b[36muptrain.framework.evalllm\u001b[0m:\u001b[36mevaluate\u001b[0m:\u001b[36m100\u001b[0m - \u001b[1mSending evaluation request for rows 0 to <50 to the Uptrain\u001b[0m\n",
            "\u001b[32m2024-03-23 23:07:37.319\u001b[0m | \u001b[1mINFO    \u001b[0m | \u001b[36muptrain.framework.evalllm\u001b[0m:\u001b[36mevaluate\u001b[0m:\u001b[36m100\u001b[0m - \u001b[1mSending evaluation request for rows 0 to <50 to the Uptrain\u001b[0m\n",
            "\u001b[32m2024-03-23 23:07:38.993\u001b[0m | \u001b[1mINFO    \u001b[0m | \u001b[36muptrain.framework.evalllm\u001b[0m:\u001b[36mevaluate\u001b[0m:\u001b[36m100\u001b[0m - \u001b[1mSending evaluation request for rows 0 to <50 to the Uptrain\u001b[0m\n"
          ]
        },
        {
          "name": "stdout",
          "output_type": "stream",
          "text": [
            "\n",
            "\n",
            "Which mountain range influenced the split of the regions?\n",
            "name : fluency\n",
            "score : 1.0\n",
            "explanation : The text is fluent and natural sounding.\n",
            "\n",
            "\n",
            "What is the prize offered for finding a solution to P=NP?\n",
            "name : fluency\n",
            "score : 1.0\n",
            "explanation : The text is very fluent and natural sounding, with no awkward phrasing.\n",
            "\n",
            "\n",
            "Which Californio is located in the upper part?\n",
            "name : fluency\n",
            "score : 0.2\n",
            "explanation : The text is not fluent at all and has awkward phrasing.\n",
            "\n",
            "\n"
          ]
        }
      ],
      "source": [
        "results = evaluator_pipeline.run({\"evaluator\": {\"responses\": responses}})\n",
        "print(\"\\n\")\n",
        "print_results(questions, results[\"evaluator\"])"
      ]
    },
    {
      "cell_type": "markdown",
      "metadata": {
        "id": "VTBRrKDtPr85"
      },
      "source": [
        "### **Critique tone**\n",
        "\n",
        "Evaluates the tone of machine generated responses. Provide your required tone as an additional paramter. Example: `metric_params={\"llm_persona\": \"informative\"}`"
      ]
    },
    {
      "cell_type": "code",
      "execution_count": 126,
      "metadata": {
        "id": "EYh9yhjoPwBi"
      },
      "outputs": [],
      "source": [
        "import os\n",
        "from haystack import Pipeline\n",
        "from haystack_integrations.components.evaluators.uptrain import UpTrainEvaluator, UpTrainMetric\n",
        "\n",
        "evaluator = UpTrainEvaluator(\n",
        "    metric=UpTrainMetric.CRITIQUE_TONE,\n",
        "    api=\"openai\",\n",
        "    metric_params={\"llm_persona\": \"informative\"}\n",
        ")\n",
        "\n",
        "evaluator_pipeline = Pipeline()\n",
        "evaluator_pipeline.add_component(\"evaluator\", evaluator)"
      ]
    },
    {
      "cell_type": "code",
      "execution_count": 127,
      "metadata": {
        "colab": {
          "base_uri": "https://localhost:8080/"
        },
        "id": "mqtUKNk5PyMA",
        "outputId": "edf5b664-96ed-496f-f634-90a20c29e441"
      },
      "outputs": [
        {
          "name": "stderr",
          "output_type": "stream",
          "text": [
            "\u001b[32m2024-03-23 23:07:42.266\u001b[0m | \u001b[1mINFO    \u001b[0m | \u001b[36muptrain.framework.evalllm\u001b[0m:\u001b[36mevaluate\u001b[0m:\u001b[36m100\u001b[0m - \u001b[1mSending evaluation request for rows 0 to <50 to the Uptrain\u001b[0m\n",
            "\u001b[32m2024-03-23 23:07:43.868\u001b[0m | \u001b[1mINFO    \u001b[0m | \u001b[36muptrain.framework.evalllm\u001b[0m:\u001b[36mevaluate\u001b[0m:\u001b[36m100\u001b[0m - \u001b[1mSending evaluation request for rows 0 to <50 to the Uptrain\u001b[0m\n",
            "\u001b[32m2024-03-23 23:07:46.946\u001b[0m | \u001b[1mINFO    \u001b[0m | \u001b[36muptrain.framework.evalllm\u001b[0m:\u001b[36mevaluate\u001b[0m:\u001b[36m100\u001b[0m - \u001b[1mSending evaluation request for rows 0 to <50 to the Uptrain\u001b[0m\n"
          ]
        },
        {
          "name": "stdout",
          "output_type": "stream",
          "text": [
            "\n",
            "\n",
            "Which mountain range influenced the split of the regions?\n",
            "name : tone\n",
            "score : 1.0\n",
            "explanation : The response is informative and directly addresses the topic at hand. It aligns well with the specified persona of being informative. \n",
            "[Score]: 5\n",
            "\n",
            "\n",
            "What is the prize offered for finding a solution to P=NP?\n",
            "name : tone\n",
            "score : 1.0\n",
            "explanation : [Persona]: informative\n",
            "[Response]: The prize offered for finding a solution to P=NP is US$1,000,000.\n",
            "[Reasoning]: The response is straightforward and provides factual information, which aligns with the informative persona. It effectively delivers the information without any unnecessary details or opinions.\n",
            "[Score]: 5\n",
            "\n",
            "\n",
            "Which Californio is located in the upper part?\n",
            "name : tone\n",
            "score : 1.0\n",
            "explanation : The response is informative and provides a clear statement. It matches the specified persona of being informative. \n",
            "[Score]: 5\n",
            "\n",
            "\n"
          ]
        }
      ],
      "source": [
        "results = evaluator_pipeline.run({\"evaluator\": {\"responses\": responses}})\n",
        "print(\"\\n\")\n",
        "print_results(questions, results[\"evaluator\"])"
      ]
    },
    {
      "cell_type": "markdown",
      "metadata": {
        "id": "kEQ589E2QZC9"
      },
      "source": [
        "### **Guideline adherence**\n",
        "\n",
        "Evaluates how well the LLM adheres to a provided guideline when giving a response."
      ]
    },
    {
      "cell_type": "code",
      "execution_count": 128,
      "metadata": {
        "id": "-3sa8RmUQq07"
      },
      "outputs": [],
      "source": [
        "import os\n",
        "from haystack import Pipeline\n",
        "from haystack_integrations.components.evaluators.uptrain import UpTrainEvaluator, UpTrainMetric\n",
        "\n",
        "evaluator = UpTrainEvaluator(\n",
        "    metric=UpTrainMetric.GUIDELINE_ADHERENCE,\n",
        "    api=\"openai\",\n",
        "    metric_params={\"guideline\": \"Response shouldn't contain any personal information.\",\n",
        "                   \"guideline_name\": \"personal info check\"}\n",
        ")\n",
        "\n",
        "evaluator_pipeline = Pipeline()\n",
        "evaluator_pipeline.add_component(\"evaluator\", evaluator)"
      ]
    },
    {
      "cell_type": "code",
      "execution_count": 129,
      "metadata": {
        "colab": {
          "base_uri": "https://localhost:8080/"
        },
        "id": "iz2LftPXQvVN",
        "outputId": "dcfaa6be-ea93-4994-af54-8bfbec873df7"
      },
      "outputs": [
        {
          "name": "stderr",
          "output_type": "stream",
          "text": [
            "\u001b[32m2024-03-23 23:07:49.209\u001b[0m | \u001b[1mINFO    \u001b[0m | \u001b[36muptrain.framework.evalllm\u001b[0m:\u001b[36mevaluate\u001b[0m:\u001b[36m100\u001b[0m - \u001b[1mSending evaluation request for rows 0 to <50 to the Uptrain\u001b[0m\n",
            "\u001b[32m2024-03-23 23:07:57.936\u001b[0m | \u001b[1mINFO    \u001b[0m | \u001b[36muptrain.framework.evalllm\u001b[0m:\u001b[36mevaluate\u001b[0m:\u001b[36m100\u001b[0m - \u001b[1mSending evaluation request for rows 0 to <50 to the Uptrain\u001b[0m\n",
            "\u001b[32m2024-03-23 23:08:04.632\u001b[0m | \u001b[1mINFO    \u001b[0m | \u001b[36muptrain.framework.evalllm\u001b[0m:\u001b[36mevaluate\u001b[0m:\u001b[36m100\u001b[0m - \u001b[1mSending evaluation request for rows 0 to <50 to the Uptrain\u001b[0m\n"
          ]
        },
        {
          "name": "stdout",
          "output_type": "stream",
          "text": [
            "\n",
            "\n",
            "Which mountain range influenced the split of the regions?\n",
            "name : personal info check_adherence\n",
            "score : 1.0\n",
            "explanation : The given LLM response strictly adheres to the guideline because it does not contain any personal information. The response only focuses on the influence of the Tehachapi mountains on the split of the regions, without including any personal details. Therefore, it aligns with the guideline of not including personal information.\n",
            "\n",
            "\n",
            "What is the prize offered for finding a solution to P=NP?\n",
            "name : personal info check_adherence\n",
            "score : 1.0\n",
            "explanation :  \"The given LLM response strictly adheres to the guideline as it does not contain any personal information. The response only provides information about the prize offered for finding a solution to P=NP, which is a general and non-personal piece of information. Therefore, the LLM response strictly adheres to the guideline by not including any personal information.\"\n",
            "\n",
            "\n",
            "\n",
            "Which Californio is located in the upper part?\n",
            "name : personal info check_adherence\n",
            "score : 1.0\n",
            "explanation : The given LLM response strictly adheres to the guideline because it does not contain any personal information. The response only mentions the location of the Californio in the Upper Rhine, without providing any personal details. Therefore, it follows the guideline of not including personal information.\n",
            "\n",
            "\n"
          ]
        }
      ],
      "source": [
        "results = evaluator_pipeline.run({\"evaluator\": {\"questions\": questions, \"responses\": responses}})\n",
        "print(\"\\n\")\n",
        "print_results(questions, results[\"evaluator\"])"
      ]
    },
    {
      "cell_type": "markdown",
      "metadata": {
        "id": "K0GMm1blcOkZ"
      },
      "source": [
        "## **Add multiple evaluator components in a single pipeline**\n",
        "\n",
        "In the code above, we created separate `pipeline` objects for every `metric`. Instead, we can also create a single `pipeline` object and add all the evaluators as components.\n",
        "\n",
        "The final result will then include all the metrics."
      ]
    },
    {
      "cell_type": "code",
      "execution_count": 130,
      "metadata": {
        "id": "gfJDLP5BcEnF"
      },
      "outputs": [],
      "source": [
        "from haystack import Pipeline\n",
        "from haystack_integrations.components.evaluators.uptrain import UpTrainEvaluator, UpTrainMetric\n",
        "\n",
        "pipeline = Pipeline()\n",
        "evaluator_response_consistency = UpTrainEvaluator(\n",
        "    metric=UpTrainMetric.RESPONSE_CONSISTENCY,\n",
        ")\n",
        "evaluator_response_completeness = UpTrainEvaluator(\n",
        "    metric=UpTrainMetric.RESPONSE_COMPLETENESS,\n",
        ")\n",
        "pipeline.add_component(\"evaluator_response_consistency\", evaluator_response_consistency)\n",
        "pipeline.add_component(\"evaluator_response_completeness\", evaluator_response_completeness)\n"
      ]
    },
    {
      "cell_type": "code",
      "execution_count": 131,
      "metadata": {
        "colab": {
          "base_uri": "https://localhost:8080/"
        },
        "id": "2T_PSwDCcTLI",
        "outputId": "11b1310b-092c-446e-8996-cefc2b235f73"
      },
      "outputs": [
        {
          "name": "stderr",
          "output_type": "stream",
          "text": [
            "\u001b[32m2024-03-23 23:08:11.279\u001b[0m | \u001b[1mINFO    \u001b[0m | \u001b[36muptrain.framework.evalllm\u001b[0m:\u001b[36mevaluate\u001b[0m:\u001b[36m100\u001b[0m - \u001b[1mSending evaluation request for rows 0 to <50 to the Uptrain\u001b[0m\n",
            "\u001b[32m2024-03-23 23:08:22.700\u001b[0m | \u001b[1mINFO    \u001b[0m | \u001b[36muptrain.framework.evalllm\u001b[0m:\u001b[36mevaluate\u001b[0m:\u001b[36m100\u001b[0m - \u001b[1mSending evaluation request for rows 0 to <50 to the Uptrain\u001b[0m\n",
            "\u001b[32m2024-03-23 23:08:33.911\u001b[0m | \u001b[1mINFO    \u001b[0m | \u001b[36muptrain.framework.evalllm\u001b[0m:\u001b[36mevaluate\u001b[0m:\u001b[36m100\u001b[0m - \u001b[1mSending evaluation request for rows 0 to <50 to the Uptrain\u001b[0m\n",
            "\u001b[32m2024-03-23 23:08:45.029\u001b[0m | \u001b[1mINFO    \u001b[0m | \u001b[36muptrain.framework.evalllm\u001b[0m:\u001b[36mevaluate\u001b[0m:\u001b[36m100\u001b[0m - \u001b[1mSending evaluation request for rows 0 to <50 to the Uptrain\u001b[0m\n",
            "\u001b[32m2024-03-23 23:08:51.844\u001b[0m | \u001b[1mINFO    \u001b[0m | \u001b[36muptrain.framework.evalllm\u001b[0m:\u001b[36mevaluate\u001b[0m:\u001b[36m100\u001b[0m - \u001b[1mSending evaluation request for rows 0 to <50 to the Uptrain\u001b[0m\n",
            "\u001b[32m2024-03-23 23:08:59.642\u001b[0m | \u001b[1mINFO    \u001b[0m | \u001b[36muptrain.framework.evalllm\u001b[0m:\u001b[36mevaluate\u001b[0m:\u001b[36m100\u001b[0m - \u001b[1mSending evaluation request for rows 0 to <50 to the Uptrain\u001b[0m\n"
          ]
        }
      ],
      "source": [
        "results = pipeline.run({\n",
        "        \"evaluator_response_consistency\": {\"questions\": questions, \"contexts\": contexts, \"responses\": responses},\n",
        "        \"evaluator_response_completeness\": {\"questions\": questions, \"responses\": responses},\n",
        "})"
      ]
    },
    {
      "cell_type": "code",
      "execution_count": 132,
      "metadata": {
        "colab": {
          "base_uri": "https://localhost:8080/"
        },
        "id": "ocEfH8_XdoD5",
        "outputId": "7b6148e4-d28f-4e43-ff85-23dc9cf2c7c6"
      },
      "outputs": [
        {
          "name": "stdout",
          "output_type": "stream",
          "text": [
            "Which mountain range influenced the split of the regions?\n",
            "name : response_consistency\n",
            "score : 1.0\n",
            "explanation : The argument is logical and well-supported by the information in the context. The response directly addresses the question by providing the specific mountain range mentioned in the context.\n",
            "\n",
            "\n",
            "What is the prize offered for finding a solution to P=NP?\n",
            "name : response_consistency\n",
            "score : 1.0\n",
            "explanation : The argument is logical and well-supported by the information in the context. The response directly provides the specific prize amount offered for finding a solution to P=NP, which is consistent with the information provided in the context.\n",
            "\n",
            "\n",
            "Which Californio is located in the upper part?\n",
            "name : response_consistency\n",
            "score : 0.9\n",
            "explanation : The argument is logical and well-supported by the information in the context. The response directly addresses the question and aligns with the information provided in the context.\n",
            "\n",
            "\n"
          ]
        }
      ],
      "source": [
        "print_results(questions, results[\"evaluator_response_consistency\"])"
      ]
    },
    {
      "cell_type": "code",
      "execution_count": 133,
      "metadata": {
        "colab": {
          "base_uri": "https://localhost:8080/"
        },
        "id": "YuljeFpMdoeV",
        "outputId": "35d528e2-912d-4ded-de4a-4783a70e5df6"
      },
      "outputs": [
        {
          "name": "stdout",
          "output_type": "stream",
          "text": [
            "Which mountain range influenced the split of the regions?\n",
            "name : response_completeness\n",
            "score : 0.8\n",
            "explanation : {\n",
            "\"User query summary\": \"Which mountain range influenced the split of the regions?\",\n",
            "\"Reasoning to determine clarity of the user query\": The user query is clear and specific in asking about the mountain range that influenced the split of the regions.\n",
            "\"Is the user query clear\": Yes,\n",
            "\"Information required in an ideal response\": The ideal response should include the name of the mountain range and how it influenced the split of the regions.\n",
            "\"Portions of Information in an ideal response which are covered in the response\": The response covers the name of the mountain range that influenced the split of the regions.\n",
            "\"Portions of Information in an ideal response which are not covered in the response\": The response does not provide details on how the Tehachapi mountains influenced the split of the regions.\n",
            "\"Analysis\": The LLM response completely answers the user query by providing the specific mountain range, Tehachapi mountains, that influenced the split of the regions as mentioned in the passage.\n",
            "\"Final Argument\": SAME AS ANALYSIS\n",
            "}\n",
            "\n",
            "\n",
            "What is the prize offered for finding a solution to P=NP?\n",
            "name : response_completeness\n",
            "score : 1.0\n",
            "explanation : {\n",
            "\"User query summary\": \"What is the prize offered for finding a solution to P=NP?\",\n",
            "\"Reasoning to determine clarity of the user query\": The user query is clear and straightforward.\n",
            "\"Is the user query clear\": Yes,\n",
            "\"Information required in an ideal response\": The ideal response should include the specific prize amount offered for finding a solution to P=NP.\n",
            "\"Portions of Information in an ideal response which are covered in the response\": The LLM response covers the specific prize amount offered for finding a solution to P=NP, which is US$1,000,000.\n",
            "\"Portions of Information in an ideal response which are not covered in the response\": None. All necessary information is covered in the response.\n",
            "\"Analysis\": The LLM response provides the exact prize amount offered for finding a solution to P=NP, which completely answers the user query.\n",
            "\"Final Argument\": SAME AS ANALYSIS\n",
            "}\n",
            "\n",
            "\n",
            "Which Californio is located in the upper part?\n",
            "name : response_completeness\n",
            "score : 0.1\n",
            "explanation : The LLM response fails to provide the specific name or description of the Californio located in the upper part, which is essential to fully answer the user query.\n",
            "\n",
            "\n"
          ]
        }
      ],
      "source": [
        "print_results(questions, results[\"evaluator_response_completeness\"])"
      ]
    },
    {
      "cell_type": "markdown",
      "metadata": {
        "id": "kSvolMPedtua"
      },
      "source": [
        "**Our pipeline evaluation using UpTrain is now complete!**"
      ]
    },
    {
      "cell_type": "markdown",
      "metadata": {
        "id": "YBIN_WPTdvIC"
      },
      "source": [
        "**Haystack Useful Sources**\n",
        "\n",
        "* [Docs](https://docs.haystack.deepset.ai/docs/intro)\n",
        "* [Tutorials](https://haystack.deepset.ai/tutorials)\n",
        "* [Other Cookbooks](https://github.com/deepset-ai/haystack-cookbook)"
      ]
    }
  ],
  "metadata": {
    "colab": {
      "provenance": []
    },
    "kernelspec": {
      "display_name": "Python 3",
      "name": "python3"
    },
    "language_info": {
      "name": "python"
    },
    "widgets": {
      "application/vnd.jupyter.widget-state+json": {
        "2591fa84e59843eb858ceb1b5cbd8ee7": {
          "model_module": "@jupyter-widgets/controls",
          "model_module_version": "1.5.0",
          "model_name": "HBoxModel",
          "state": {
            "_dom_classes": [],
            "_model_module": "@jupyter-widgets/controls",
            "_model_module_version": "1.5.0",
            "_model_name": "HBoxModel",
            "_view_count": null,
            "_view_module": "@jupyter-widgets/controls",
            "_view_module_version": "1.5.0",
            "_view_name": "HBoxView",
            "box_style": "",
            "children": [
              "IPY_MODEL_e519342751fe48648416b9ace1ce07d7",
              "IPY_MODEL_9b2c72ee0e8443f6b3e4b04e080daf26",
              "IPY_MODEL_61dce654eb9b42e7bf05071b33219aeb"
            ],
            "layout": "IPY_MODEL_71fa49d08d72468bb027200adc8f6d8d"
          }
        },
        "26bc9846a0c1403081739c767c18a5bf": {
          "model_module": "@jupyter-widgets/base",
          "model_module_version": "1.2.0",
          "model_name": "LayoutModel",
          "state": {
            "_model_module": "@jupyter-widgets/base",
            "_model_module_version": "1.2.0",
            "_model_name": "LayoutModel",
            "_view_count": null,
            "_view_module": "@jupyter-widgets/base",
            "_view_module_version": "1.2.0",
            "_view_name": "LayoutView",
            "align_content": null,
            "align_items": null,
            "align_self": null,
            "border": null,
            "bottom": null,
            "display": null,
            "flex": null,
            "flex_flow": null,
            "grid_area": null,
            "grid_auto_columns": null,
            "grid_auto_flow": null,
            "grid_auto_rows": null,
            "grid_column": null,
            "grid_gap": null,
            "grid_row": null,
            "grid_template_areas": null,
            "grid_template_columns": null,
            "grid_template_rows": null,
            "height": null,
            "justify_content": null,
            "justify_items": null,
            "left": null,
            "margin": null,
            "max_height": null,
            "max_width": null,
            "min_height": null,
            "min_width": null,
            "object_fit": null,
            "object_position": null,
            "order": null,
            "overflow": null,
            "overflow_x": null,
            "overflow_y": null,
            "padding": null,
            "right": null,
            "top": null,
            "visibility": null,
            "width": null
          }
        },
        "61dce654eb9b42e7bf05071b33219aeb": {
          "model_module": "@jupyter-widgets/controls",
          "model_module_version": "1.5.0",
          "model_name": "HTMLModel",
          "state": {
            "_dom_classes": [],
            "_model_module": "@jupyter-widgets/controls",
            "_model_module_version": "1.5.0",
            "_model_name": "HTMLModel",
            "_view_count": null,
            "_view_module": "@jupyter-widgets/controls",
            "_view_module_version": "1.5.0",
            "_view_name": "HTMLView",
            "description": "",
            "description_tooltip": null,
            "layout": "IPY_MODEL_c7b500612e1f4710bec6e2d18d628f2d",
            "placeholder": "​",
            "style": "IPY_MODEL_6862586b70514e388e880b25f6722868",
            "value": " 1204/1204 [00:00&lt;00:00, 1939.24 docs/s]"
          }
        },
        "6862586b70514e388e880b25f6722868": {
          "model_module": "@jupyter-widgets/controls",
          "model_module_version": "1.5.0",
          "model_name": "DescriptionStyleModel",
          "state": {
            "_model_module": "@jupyter-widgets/controls",
            "_model_module_version": "1.5.0",
            "_model_name": "DescriptionStyleModel",
            "_view_count": null,
            "_view_module": "@jupyter-widgets/base",
            "_view_module_version": "1.2.0",
            "_view_name": "StyleView",
            "description_width": ""
          }
        },
        "7007ce08b9c3414e87ea33302b6fe2ee": {
          "model_module": "@jupyter-widgets/controls",
          "model_module_version": "1.5.0",
          "model_name": "DescriptionStyleModel",
          "state": {
            "_model_module": "@jupyter-widgets/controls",
            "_model_module_version": "1.5.0",
            "_model_name": "DescriptionStyleModel",
            "_view_count": null,
            "_view_module": "@jupyter-widgets/base",
            "_view_module_version": "1.2.0",
            "_view_name": "StyleView",
            "description_width": ""
          }
        },
        "71fa49d08d72468bb027200adc8f6d8d": {
          "model_module": "@jupyter-widgets/base",
          "model_module_version": "1.2.0",
          "model_name": "LayoutModel",
          "state": {
            "_model_module": "@jupyter-widgets/base",
            "_model_module_version": "1.2.0",
            "_model_name": "LayoutModel",
            "_view_count": null,
            "_view_module": "@jupyter-widgets/base",
            "_view_module_version": "1.2.0",
            "_view_name": "LayoutView",
            "align_content": null,
            "align_items": null,
            "align_self": null,
            "border": null,
            "bottom": null,
            "display": null,
            "flex": null,
            "flex_flow": null,
            "grid_area": null,
            "grid_auto_columns": null,
            "grid_auto_flow": null,
            "grid_auto_rows": null,
            "grid_column": null,
            "grid_gap": null,
            "grid_row": null,
            "grid_template_areas": null,
            "grid_template_columns": null,
            "grid_template_rows": null,
            "height": null,
            "justify_content": null,
            "justify_items": null,
            "left": null,
            "margin": null,
            "max_height": null,
            "max_width": null,
            "min_height": null,
            "min_width": null,
            "object_fit": null,
            "object_position": null,
            "order": null,
            "overflow": null,
            "overflow_x": null,
            "overflow_y": null,
            "padding": null,
            "right": null,
            "top": null,
            "visibility": null,
            "width": null
          }
        },
        "9b2c72ee0e8443f6b3e4b04e080daf26": {
          "model_module": "@jupyter-widgets/controls",
          "model_module_version": "1.5.0",
          "model_name": "FloatProgressModel",
          "state": {
            "_dom_classes": [],
            "_model_module": "@jupyter-widgets/controls",
            "_model_module_version": "1.5.0",
            "_model_name": "FloatProgressModel",
            "_view_count": null,
            "_view_module": "@jupyter-widgets/controls",
            "_view_module_version": "1.5.0",
            "_view_name": "ProgressView",
            "bar_style": "success",
            "description": "",
            "description_tooltip": null,
            "layout": "IPY_MODEL_c550e75c05eb4d8382a7ca7c78b0bcd4",
            "max": 1204,
            "min": 0,
            "orientation": "horizontal",
            "style": "IPY_MODEL_fe66c8d7e2f8451286517dba2036bfd1",
            "value": 1204
          }
        },
        "c550e75c05eb4d8382a7ca7c78b0bcd4": {
          "model_module": "@jupyter-widgets/base",
          "model_module_version": "1.2.0",
          "model_name": "LayoutModel",
          "state": {
            "_model_module": "@jupyter-widgets/base",
            "_model_module_version": "1.2.0",
            "_model_name": "LayoutModel",
            "_view_count": null,
            "_view_module": "@jupyter-widgets/base",
            "_view_module_version": "1.2.0",
            "_view_name": "LayoutView",
            "align_content": null,
            "align_items": null,
            "align_self": null,
            "border": null,
            "bottom": null,
            "display": null,
            "flex": null,
            "flex_flow": null,
            "grid_area": null,
            "grid_auto_columns": null,
            "grid_auto_flow": null,
            "grid_auto_rows": null,
            "grid_column": null,
            "grid_gap": null,
            "grid_row": null,
            "grid_template_areas": null,
            "grid_template_columns": null,
            "grid_template_rows": null,
            "height": null,
            "justify_content": null,
            "justify_items": null,
            "left": null,
            "margin": null,
            "max_height": null,
            "max_width": null,
            "min_height": null,
            "min_width": null,
            "object_fit": null,
            "object_position": null,
            "order": null,
            "overflow": null,
            "overflow_x": null,
            "overflow_y": null,
            "padding": null,
            "right": null,
            "top": null,
            "visibility": null,
            "width": null
          }
        },
        "c7b500612e1f4710bec6e2d18d628f2d": {
          "model_module": "@jupyter-widgets/base",
          "model_module_version": "1.2.0",
          "model_name": "LayoutModel",
          "state": {
            "_model_module": "@jupyter-widgets/base",
            "_model_module_version": "1.2.0",
            "_model_name": "LayoutModel",
            "_view_count": null,
            "_view_module": "@jupyter-widgets/base",
            "_view_module_version": "1.2.0",
            "_view_name": "LayoutView",
            "align_content": null,
            "align_items": null,
            "align_self": null,
            "border": null,
            "bottom": null,
            "display": null,
            "flex": null,
            "flex_flow": null,
            "grid_area": null,
            "grid_auto_columns": null,
            "grid_auto_flow": null,
            "grid_auto_rows": null,
            "grid_column": null,
            "grid_gap": null,
            "grid_row": null,
            "grid_template_areas": null,
            "grid_template_columns": null,
            "grid_template_rows": null,
            "height": null,
            "justify_content": null,
            "justify_items": null,
            "left": null,
            "margin": null,
            "max_height": null,
            "max_width": null,
            "min_height": null,
            "min_width": null,
            "object_fit": null,
            "object_position": null,
            "order": null,
            "overflow": null,
            "overflow_x": null,
            "overflow_y": null,
            "padding": null,
            "right": null,
            "top": null,
            "visibility": null,
            "width": null
          }
        },
        "e519342751fe48648416b9ace1ce07d7": {
          "model_module": "@jupyter-widgets/controls",
          "model_module_version": "1.5.0",
          "model_name": "HTMLModel",
          "state": {
            "_dom_classes": [],
            "_model_module": "@jupyter-widgets/controls",
            "_model_module_version": "1.5.0",
            "_model_name": "HTMLModel",
            "_view_count": null,
            "_view_module": "@jupyter-widgets/controls",
            "_view_module_version": "1.5.0",
            "_view_name": "HTMLView",
            "description": "",
            "description_tooltip": null,
            "layout": "IPY_MODEL_26bc9846a0c1403081739c767c18a5bf",
            "placeholder": "​",
            "style": "IPY_MODEL_7007ce08b9c3414e87ea33302b6fe2ee",
            "value": "Ranking by BM25...: 100%"
          }
        },
        "fe66c8d7e2f8451286517dba2036bfd1": {
          "model_module": "@jupyter-widgets/controls",
          "model_module_version": "1.5.0",
          "model_name": "ProgressStyleModel",
          "state": {
            "_model_module": "@jupyter-widgets/controls",
            "_model_module_version": "1.5.0",
            "_model_name": "ProgressStyleModel",
            "_view_count": null,
            "_view_module": "@jupyter-widgets/base",
            "_view_module_version": "1.2.0",
            "_view_name": "StyleView",
            "bar_color": null,
            "description_width": ""
          }
        }
      }
    }
  },
  "nbformat": 4,
  "nbformat_minor": 0
}
