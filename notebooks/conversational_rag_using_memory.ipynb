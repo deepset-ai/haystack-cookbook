{
  "cells": [
    {
      "cell_type": "markdown",
      "metadata": {
        "id": "UmuZmn1hN3NB"
      },
      "source": [
        "# 🗣️ Conversational RAG using Memory\n",
        "\n",
        "In this notebook, we'll explore how to incorporate memory into a RAG pipeline to enable conversations with our documents, using an `InMemoryChatMessageStore`, a `ChatMessageRetriever`, and a `ChatMessageWriter`.\n",
        "\n",
        "**Useful Sources**\n",
        "\n",
        "* [📖 Docs](https://docs.haystack.deepset.ai/docs/intro)\n",
        "* [📚 Tutorials](https://haystack.deepset.ai/tutorials)"
      ]
    },
    {
      "cell_type": "markdown",
      "metadata": {
        "id": "1LRwBMJdF_d1"
      },
      "source": [
        "## Installation\n",
        "\n",
        "Install Haystack, `haystack-experimental` and `datasets` with pip:"
      ]
    },
    {
      "cell_type": "code",
      "execution_count": null,
      "metadata": {
        "id": "UQbU8GUfO-qZ"
      },
      "outputs": [],
      "source": [
        "!pip install -U haystack-ai datasets"
      ]
    },
    {
      "cell_type": "markdown",
      "metadata": {
        "id": "lJokyTRiPifH"
      },
      "source": [
        "## Enter OpenAI API key"
      ]
    },
    {
      "cell_type": "code",
      "execution_count": 2,
      "metadata": {
        "colab": {
          "base_uri": "https://localhost:8080/"
        },
        "id": "xnaLI90LIhu2",
        "outputId": "8a0b2ab8-3521-43f1-f590-c6b910867ff1"
      },
      "outputs": [
        {
          "name": "stdout",
          "output_type": "stream",
          "text": [
            "Enter OpenAI API key:··········\n"
          ]
        }
      ],
      "source": [
        "import os\n",
        "from getpass import getpass\n",
        "\n",
        "if \"OPENAI_API_KEY\" not in os.environ:\n",
        "    os.environ[\"OPENAI_API_KEY\"] = getpass(\"Enter OpenAI API key:\")"
      ]
    },
    {
      "cell_type": "markdown",
      "metadata": {
        "id": "avfIcgYlP5BE"
      },
      "source": [
        "## Create DocumentStore and Index Documents\n",
        "\n",
        "Create an index with [seven-wonders](https://huggingface.co/datasets/bilgeyucel/seven-wonders) dataset:"
      ]
    },
    {
      "cell_type": "code",
      "execution_count": 3,
      "metadata": {
        "colab": {
          "base_uri": "https://localhost:8080/",
          "height": 235,
          "referenced_widgets": [
            "73a190ad645f424595ed510b0a065f6c",
            "a0595172cf69419da8906519b67044fc",
            "de6320ec52bd428481cc2c3d5a0cc990",
            "178c72eb13ea4713b61f78d6e23845ac",
            "ad90be66bdc04459aad56d18ae06053d",
            "dc62faede541456693b9f04b014f903e",
            "36ca73d9350e4a1c8074c0f774a54990",
            "322220538e2e468c8ec1d1a394b1e468",
            "4b3ae1c3a76a4fbda2515fc1dc2f7fab",
            "4584e2f8a56b4c8aba7bc3ac83fcf465",
            "e3731778144a4dbd994b4fb69964c8fc",
            "21362aa8df4442a29896367d6cf67e00",
            "437ab0f7e2504928a4b11eea3c294876",
            "882c76f6986d4e4fb91f67d82332ccf3",
            "e9dbe0e711c942feb0d4c317f501352a",
            "c929a3d83e9d4309b7c9485e11608a64",
            "6749eb3bb0e94942b7e9e096e62ec8cb",
            "1d541df644074f5fa44628daf3b5bb0f",
            "b294f69f8aa64e448cff87a12b473a40",
            "13777155bedb426196506e9f99a0e58b",
            "fb40fd788e234340a5ea5a67a1468633",
            "ce31567067f54dcdb7e76996a1f85711",
            "57c6e81875754b20b20ded8242b3416f",
            "5da9420916f24ac8b414f40bd2bf9278",
            "87e0f724cfd342a696a9a472e6cae440",
            "649c0abcb8ae4028b982c67b8c25d49b",
            "4eafb4852c0b465b98bc9aa714a65c55",
            "bf44c3ba864e4b06a6c7ce99175b6f76",
            "8f5ebd3d7c9a4937a80e4732a4421306",
            "edf1188e561b44089d1f33a4ab06da2d",
            "67c1e3a03d8a4cc3aa1f306aeacbf7d3",
            "5e1c026cacd146c5b865407e65fa3da4",
            "ca7fcb3a93154a0ab91ffd440a5eec07"
          ]
        },
        "id": "E1LKl2TmFuzs",
        "outputId": "0dbe2798-cf10-4768-994c-3c3fc61bd2c2"
      },
      "outputs": [
        {
          "name": "stderr",
          "output_type": "stream",
          "text": [
            "/usr/local/lib/python3.10/dist-packages/huggingface_hub/utils/_auth.py:94: UserWarning: \n",
            "The secret `HF_TOKEN` does not exist in your Colab secrets.\n",
            "To authenticate with the Hugging Face Hub, create a token in your settings tab (https://huggingface.co/settings/tokens), set it as secret in your Google Colab and restart your session.\n",
            "You will be able to reuse this secret in all of your notebooks.\n",
            "Please note that authentication is recommended but still optional to access public models or datasets.\n",
            "  warnings.warn(\n"
          ]
        },
        {
          "data": {
            "application/vnd.jupyter.widget-view+json": {
              "model_id": "73a190ad645f424595ed510b0a065f6c",
              "version_major": 2,
              "version_minor": 0
            },
            "text/plain": [
              "README.md:   0%|          | 0.00/46.0 [00:00<?, ?B/s]"
            ]
          },
          "metadata": {},
          "output_type": "display_data"
        },
        {
          "data": {
            "application/vnd.jupyter.widget-view+json": {
              "model_id": "21362aa8df4442a29896367d6cf67e00",
              "version_major": 2,
              "version_minor": 0
            },
            "text/plain": [
              "(…)-00000-of-00001-4077bd623d55100a.parquet:   0%|          | 0.00/119k [00:00<?, ?B/s]"
            ]
          },
          "metadata": {},
          "output_type": "display_data"
        },
        {
          "data": {
            "application/vnd.jupyter.widget-view+json": {
              "model_id": "57c6e81875754b20b20ded8242b3416f",
              "version_major": 2,
              "version_minor": 0
            },
            "text/plain": [
              "Generating train split:   0%|          | 0/151 [00:00<?, ? examples/s]"
            ]
          },
          "metadata": {},
          "output_type": "display_data"
        },
        {
          "data": {
            "text/plain": [
              "151"
            ]
          },
          "execution_count": 3,
          "metadata": {},
          "output_type": "execute_result"
        }
      ],
      "source": [
        "from haystack import Document\n",
        "from haystack.components.retrievers.in_memory import InMemoryBM25Retriever\n",
        "from haystack.document_stores.in_memory import InMemoryDocumentStore\n",
        "from datasets import load_dataset\n",
        "\n",
        "dataset = load_dataset(\"bilgeyucel/seven-wonders\", split=\"train\")\n",
        "docs = [Document(content=doc[\"content\"], meta=doc[\"meta\"]) for doc in dataset]\n",
        "\n",
        "document_store = InMemoryDocumentStore()\n",
        "document_store.write_documents(documents=docs)"
      ]
    },
    {
      "cell_type": "markdown",
      "metadata": {
        "id": "fYgmgJplan3h"
      },
      "source": [
        "## Create Memory\n",
        "\n",
        "Memory, so the conversation history, is saved as `ChatMessage` objects in a `InMemoryChatMessageStore`. When required, you can retrieve the conversation history from the chat message store using `ChatMessageRetriever`.\n",
        "\n",
        "To store memory, initialize an `InMemoryChatMessageStore`, a `ChatMessageRetriever` and a `ChatMessageWriter`. Import these components from the [`haystack-experimental`](https://github.com/deepset-ai/haystack-experimental) package:"
      ]
    },
    {
      "cell_type": "code",
      "execution_count": 4,
      "metadata": {
        "id": "M_RVnVCpaiKA"
      },
      "outputs": [],
      "source": [
        "from haystack_experimental.chat_message_stores.in_memory import InMemoryChatMessageStore\n",
        "from haystack_experimental.components.retrievers import ChatMessageRetriever\n",
        "from haystack_experimental.components.writers import ChatMessageWriter\n",
        "\n",
        "# Memory components\n",
        "memory_store = InMemoryChatMessageStore()\n",
        "memory_retriever = ChatMessageRetriever(memory_store)\n",
        "memory_writer = ChatMessageWriter(memory_store)"
      ]
    },
    {
      "cell_type": "markdown",
      "metadata": {
        "id": "lSOc2Ki1blUO"
      },
      "source": [
        "## Prompt Template for RAG with Memory\n",
        "\n",
        "Prepare a prompt template for RAG and additionally, add another section for memory. Memory info will be retrieved by `ChatMessageRetriever` from the `InMemoryChatMessageStore` and injected into the prompt through `memories` prompt variable."
      ]
    },
    {
      "cell_type": "code",
      "execution_count": 5,
      "metadata": {
        "id": "WLPMr6vDbksS"
      },
      "outputs": [],
      "source": [
        "from haystack.dataclasses import ChatMessage\n",
        "\n",
        "system_message = ChatMessage.from_system(\"You are a helpful AI assistant using provided supporting documents and conversation history to assist humans\")\n",
        "\n",
        "user_message_template =\"\"\"Given the conversation history and the provided supporting documents, give a brief answer to the question.\n",
        "Note that supporting documents are not part of the conversation. If question can't be answered from supporting documents, say so.\n",
        "\n",
        "    Conversation history:\n",
        "    {% for memory in memories %}\n",
        "        {{ memory.text }}\n",
        "    {% endfor %}\n",
        "\n",
        "    Supporting documents:\n",
        "    {% for doc in documents %}\n",
        "        {{ doc.content }}\n",
        "    {% endfor %}\n",
        "\n",
        "    \\nQuestion: {{query}}\n",
        "    \\nAnswer:\n",
        "\"\"\"\n",
        "user_message = ChatMessage.from_user(user_message_template)"
      ]
    },
    {
      "cell_type": "markdown",
      "metadata": {
        "id": "tCOdSoAAQBb6"
      },
      "source": [
        "## Build the Pipeline\n",
        "\n",
        "Add components for RAG and memory to build your pipeline. Incorporate the custom `ListJoiner` component into your pipeline to handle messages from both the user and the LLM, writing them to the memory store.\n",
        "\n",
        "> **Note**: The `ListJoiner` component will be available in Haystack starting from version 2.8.0!"
      ]
    },
    {
      "cell_type": "code",
      "execution_count": 6,
      "metadata": {
        "id": "BD5iUTofUGKG"
      },
      "outputs": [],
      "source": [
        "from itertools import chain\n",
        "from typing import Any\n",
        "\n",
        "from haystack import component\n",
        "from haystack.core.component.types import Variadic\n",
        "\n",
        "\n",
        "@component\n",
        "class ListJoiner:\n",
        "    def __init__(self, _type: Any):\n",
        "        component.set_output_types(self, values=_type)\n",
        "\n",
        "    def run(self, values: Variadic[Any]):\n",
        "        result = list(chain(*values))\n",
        "        return {\"values\": result}"
      ]
    },
    {
      "cell_type": "code",
      "execution_count": 7,
      "metadata": {
        "colab": {
          "base_uri": "https://localhost:8080/"
        },
        "id": "4SkN-lRUa4_i",
        "outputId": "dd6fcb9a-12ca-4a56-c909-4d679d1707e0"
      },
      "outputs": [
        {
          "data": {
            "text/plain": [
              "<haystack.core.pipeline.pipeline.Pipeline object at 0x7f9b2dfaceb0>\n",
              "🚅 Components\n",
              "  - retriever: InMemoryBM25Retriever\n",
              "  - prompt_builder: ChatPromptBuilder\n",
              "  - llm: OpenAIChatGenerator\n",
              "  - memory_retriever: ChatMessageRetriever\n",
              "  - memory_writer: ChatMessageWriter\n",
              "  - memory_joiner: ListJoiner\n",
              "🛤️ Connections\n",
              "  - retriever.documents -> prompt_builder.documents (List[Document])\n",
              "  - prompt_builder.prompt -> llm.messages (List[ChatMessage])\n",
              "  - llm.replies -> memory_joiner.values (List[ChatMessage])\n",
              "  - memory_retriever.messages -> prompt_builder.memories (List[ChatMessage])\n",
              "  - memory_joiner.values -> memory_writer.messages (List[ChatMessage])"
            ]
          },
          "execution_count": 7,
          "metadata": {},
          "output_type": "execute_result"
        }
      ],
      "source": [
        "from typing import List\n",
        "from haystack import Pipeline\n",
        "from haystack.components.builders import ChatPromptBuilder, PromptBuilder\n",
        "from haystack.components.generators.chat import OpenAIChatGenerator\n",
        "from haystack.components.generators import OpenAIGenerator\n",
        "from haystack.components.converters import OutputAdapter\n",
        "\n",
        "pipeline = Pipeline()\n",
        "\n",
        "# components for RAG\n",
        "pipeline.add_component(\"retriever\", InMemoryBM25Retriever(document_store=document_store, top_k=3))\n",
        "pipeline.add_component(\"prompt_builder\", ChatPromptBuilder(variables=[\"query\", \"documents\", \"memories\"], required_variables=[\"query\", \"documents\", \"memories\"]))\n",
        "pipeline.add_component(\"llm\", OpenAIChatGenerator())\n",
        "\n",
        "# components for memory\n",
        "pipeline.add_component(\"memory_retriever\", memory_retriever)\n",
        "pipeline.add_component(\"memory_writer\", memory_writer)\n",
        "pipeline.add_component(\"memory_joiner\", ListJoiner(List[ChatMessage]))\n",
        "\n",
        "# connections for RAG\n",
        "pipeline.connect(\"retriever.documents\", \"prompt_builder.documents\")\n",
        "pipeline.connect(\"prompt_builder.prompt\", \"llm.messages\")\n",
        "pipeline.connect(\"llm.replies\", \"memory_joiner\")\n",
        "\n",
        "# connections for memory\n",
        "pipeline.connect(\"memory_joiner\", \"memory_writer\")\n",
        "pipeline.connect(\"memory_retriever\", \"prompt_builder.memories\")"
      ]
    },
    {
      "cell_type": "markdown",
      "metadata": {
        "id": "ba0EFLSfpwFE"
      },
      "source": [
        "### Visualize the pipeline\n",
        "\n",
        "Visualize the pipeline with the [`show()`](https://docs.haystack.deepset.ai/docs/visualizing-pipelines) method to confirm the connections are correct."
      ]
    },
    {
      "cell_type": "code",
      "execution_count": 8,
      "metadata": {
        "colab": {
          "base_uri": "https://localhost:8080/",
          "height": 1000
        },
        "id": "W2CSVnkwKQLJ",
        "outputId": "3ab81430-a0e7-48bf-8e82-0b67f91812fd"
      },
      "outputs": [
        {
          "data": {
            "image/png": "[encoded data removed]",
            "text/plain": [
              "<IPython.core.display.Image object>"
            ]
          },
          "metadata": {},
          "output_type": "display_data"
        }
      ],
      "source": [
        "pipeline.show()"
      ]
    },
    {
      "cell_type": "markdown",
      "metadata": {
        "id": "VWBPo5VbcOck"
      },
      "source": [
        "## Run the Pipeline\n",
        "\n",
        "Test the pipeline with some queries. Ensure that every user query is also sent to the `memory_joiner` so that both the user queries and the LLM responses are stored together in the memory store.\n",
        "\n",
        "Here are example queries you can try:\n",
        "\n",
        "* *What does Rhodes Statue look like?*\n",
        "* *Who built it?*"
      ]
    },
    {
      "cell_type": "code",
      "execution_count": 10,
      "metadata": {
        "colab": {
          "base_uri": "https://localhost:8080/"
        },
        "id": "8tZI94Ocbgcz",
        "outputId": "2f2f498f-2653-427e-be76-d7c52484a01f"
      },
      "outputs": [
        {
          "name": "stdout",
          "output_type": "stream",
          "text": [
            "Enter your question or Q to exit.\n",
            "🧑 What does Rhodes Statue look like?\n",
            "🤖 The Rhodes statue, known as the Colossus of Rhodes, would have featured a head with curly hair and spikes of bronze or silver flame radiating from it, similar to the depictions found on contemporary Rhodian coins. However, the exact appearance of the statue is not known, as there are no surviving images of it.\n",
            "Enter your question or Q to exit.\n",
            "🧑 Who built it?\n",
            "🤖 The Hanging Gardens of Babylon are said to have been built by the Neo-Babylonian King Nebuchadnezzar II for his Median wife, Queen Amytis.\n",
            "Enter your question or Q to exit.\n",
            "🧑 Q\n"
          ]
        }
      ],
      "source": [
        "while True:\n",
        "    messages = [system_message, user_message]\n",
        "    question = input(\"Enter your question or Q to exit.\\n🧑 \")\n",
        "    if question==\"Q\":\n",
        "        break\n",
        "\n",
        "    res = pipeline.run(data={\"retriever\": {\"query\": question},\n",
        "                             \"prompt_builder\": {\"template\": messages, \"query\": question},\n",
        "                             \"memory_joiner\": {\"values\": [ChatMessage.from_user(question)]}},\n",
        "                            include_outputs_from=[\"llm\"])\n",
        "    assistant_resp = res['llm']['replies'][0]\n",
        "    print(f\"🤖 {assistant_resp.content}\")"
      ]
    },
    {
      "cell_type": "markdown",
      "metadata": {
        "id": "felG4tdtcSpP"
      },
      "source": [
        "⚠️ If you followed the example queries, you'll notice that the second question was answered incorrectly. This happened because the retrieved documents weren't relevant to the user's query. The retrieval was based on the query \"*Who built it?*\", which doesn't have enough context to retrieve documents. Let's fix it with **rephrasing the query for search**."
      ]
    },
    {
      "cell_type": "markdown",
      "metadata": {
        "id": "AoNwSoFIsdGf"
      },
      "source": [
        "## Prompt Template for Rephrasing User Query\n",
        "\n",
        "In conversational systems, simply injecting memory into the prompt is not enough to perform RAG effectively. There needs to be a mechanism to rephrase the user's query based on the conversation history to ensure relevant documents are retrieved. For instance, if the first user query is \"*What's the first name of Einstein?*\" and the second query is \"*Where was he born?*\", the system should understand that \"he\" refers to Einstein. The rephrasing mechanism should then modify the second query to \"*Where was Einstein born?*\" to retrieve the correct documents.\n",
        "\n",
        "We can use an LLM to rephrase the user's query. Let's create a prompt that instructs the LLM to rephrase the query, incorporating the conversation history, to make it suitable for retrieving relevant documents."
      ]
    },
    {
      "cell_type": "code",
      "execution_count": 11,
      "metadata": {
        "id": "ElRIAJ_smRFb"
      },
      "outputs": [],
      "source": [
        "query_rephrase_template = \"\"\"\n",
        "        Rewrite the question for search while keeping its meaning and key terms intact.\n",
        "        If the conversation history is empty, DO NOT change the query.\n",
        "        Use conversation history only if necessary, and avoid extending the query with your own knowledge.\n",
        "        If no changes are needed, output the current question as is.\n",
        "\n",
        "        Conversation history:\n",
        "        {% for memory in memories %}\n",
        "            {{ memory.text }}\n",
        "        {% endfor %}\n",
        "\n",
        "        User Query: {{query}}\n",
        "        Rewritten Query:\n",
        "\"\"\""
      ]
    },
    {
      "cell_type": "markdown",
      "metadata": {
        "id": "lTUkl594ejnK"
      },
      "source": [
        "## Build the Conversational RAG Pipeline\n",
        "\n",
        "Now, let's incorporate query rephrasing into our pipeline by adding a new [PromptBuilder](https://docs.haystack.deepset.ai/docs/promptbuilder) with the prompt above, [OpenAIGenerator](https://docs.haystack.deepset.ai/docs/openaigenerator), and an [OutputAdapter](https://docs.haystack.deepset.ai/docs/outputadapter). The `OpenAIGenerator` will rephrase the user's query for search, and the `OutputAdapter` will convert the output from the `OpenAIGenerator` into the input for the `InMemoryBM25Retriever`. The rest of the pipeline will be the same."
      ]
    },
    {
      "cell_type": "code",
      "execution_count": 12,
      "metadata": {
        "colab": {
          "base_uri": "https://localhost:8080/"
        },
        "id": "Y3q0vLO1GLNL",
        "outputId": "e64d3b4d-bbeb-46f4-945d-0e516c1639fa"
      },
      "outputs": [
        {
          "data": {
            "text/plain": [
              "<haystack.core.pipeline.pipeline.Pipeline object at 0x7f9b2deeee60>\n",
              "🚅 Components\n",
              "  - query_rephrase_prompt_builder: PromptBuilder\n",
              "  - query_rephrase_llm: OpenAIGenerator\n",
              "  - list_to_str_adapter: OutputAdapter\n",
              "  - retriever: InMemoryBM25Retriever\n",
              "  - prompt_builder: ChatPromptBuilder\n",
              "  - llm: OpenAIChatGenerator\n",
              "  - memory_retriever: ChatMessageRetriever\n",
              "  - memory_writer: ChatMessageWriter\n",
              "  - memory_joiner: ListJoiner\n",
              "🛤️ Connections\n",
              "  - query_rephrase_prompt_builder.prompt -> query_rephrase_llm.prompt (str)\n",
              "  - query_rephrase_llm.replies -> list_to_str_adapter.replies (List[str])\n",
              "  - list_to_str_adapter.output -> retriever.query (str)\n",
              "  - retriever.documents -> prompt_builder.documents (List[Document])\n",
              "  - prompt_builder.prompt -> llm.messages (List[ChatMessage])\n",
              "  - llm.replies -> memory_joiner.values (List[ChatMessage])\n",
              "  - memory_retriever.messages -> query_rephrase_prompt_builder.memories (List[ChatMessage])\n",
              "  - memory_retriever.messages -> prompt_builder.memories (List[ChatMessage])\n",
              "  - memory_joiner.values -> memory_writer.messages (List[ChatMessage])"
            ]
          },
          "execution_count": 12,
          "metadata": {},
          "output_type": "execute_result"
        }
      ],
      "source": [
        "from typing import List\n",
        "from haystack import Pipeline\n",
        "from haystack.components.builders import ChatPromptBuilder, PromptBuilder\n",
        "from haystack.components.generators.chat import OpenAIChatGenerator\n",
        "from haystack.components.generators import OpenAIGenerator\n",
        "from haystack.components.converters import OutputAdapter\n",
        "\n",
        "conversational_rag = Pipeline()\n",
        "\n",
        "# components for query rephrasing\n",
        "conversational_rag.add_component(\"query_rephrase_prompt_builder\", PromptBuilder(query_rephrase_template))\n",
        "conversational_rag.add_component(\"query_rephrase_llm\", OpenAIGenerator())\n",
        "conversational_rag.add_component(\"list_to_str_adapter\", OutputAdapter(template=\"{{ replies[0] }}\", output_type=str))\n",
        "\n",
        "# components for RAG\n",
        "conversational_rag.add_component(\"retriever\", InMemoryBM25Retriever(document_store=document_store, top_k=3))\n",
        "conversational_rag.add_component(\"prompt_builder\", ChatPromptBuilder(variables=[\"query\", \"documents\", \"memories\"], required_variables=[\"query\", \"documents\", \"memories\"]))\n",
        "conversational_rag.add_component(\"llm\", OpenAIChatGenerator())\n",
        "\n",
        "# components for memory\n",
        "conversational_rag.add_component(\"memory_retriever\", ChatMessageRetriever(memory_store))\n",
        "conversational_rag.add_component(\"memory_writer\", ChatMessageWriter(memory_store))\n",
        "conversational_rag.add_component(\"memory_joiner\", ListJoiner(List[ChatMessage]))\n",
        "\n",
        "# connections for query rephrasing\n",
        "conversational_rag.connect(\"memory_retriever\", \"query_rephrase_prompt_builder.memories\")\n",
        "conversational_rag.connect(\"query_rephrase_prompt_builder.prompt\", \"query_rephrase_llm\")\n",
        "conversational_rag.connect(\"query_rephrase_llm.replies\", \"list_to_str_adapter\")\n",
        "conversational_rag.connect(\"list_to_str_adapter\", \"retriever.query\")\n",
        "\n",
        "# connections for RAG\n",
        "conversational_rag.connect(\"retriever.documents\", \"prompt_builder.documents\")\n",
        "conversational_rag.connect(\"prompt_builder.prompt\", \"llm.messages\")\n",
        "conversational_rag.connect(\"llm.replies\", \"memory_joiner\")\n",
        "\n",
        "# connections for memory\n",
        "conversational_rag.connect(\"memory_joiner\", \"memory_writer\")\n",
        "conversational_rag.connect(\"memory_retriever\", \"prompt_builder.memories\")"
      ]
    },
    {
      "cell_type": "markdown",
      "metadata": {
        "id": "BmtRP897RgOc"
      },
      "source": [
        "## Let's have a conversation 😀\n",
        "\n",
        "Now, run the pipeline with the relevant inputs. Instead of sending the query directly to the `retriever`, this time, pass it to the `query_rephrase_prompt_builder` to rephrase it.\n",
        "\n",
        "Here are some example queries and follow ups you can try:\n",
        "\n",
        "* *What does Rhodes Statue look like?* - *Who built it?* - *Did he destroy it?*\n",
        "* *Where is Gardens of Babylon?* - *When was it built?*"
      ]
    },
    {
      "cell_type": "code",
      "execution_count": 14,
      "metadata": {
        "colab": {
          "base_uri": "https://localhost:8080/"
        },
        "id": "scx_J3jr3f7q",
        "outputId": "bd81d796-3763-47bc-97a4-3769f2960a5f"
      },
      "outputs": [
        {
          "name": "stdout",
          "output_type": "stream",
          "text": [
            "Enter your question or Q to exit.\n",
            "🧑 Where is Gardens of Babylon? \n",
            "   🔎 Search Query: Where are the Hanging Gardens of Babylon located?\n",
            "🤖 The Hanging Gardens of Babylon were said to be located in the ancient city of Babylon, near present-day Hillah, Babil province, in Iraq.\n",
            "Enter your question or Q to exit.\n",
            "🧑 When was it built?\n",
            "   🔎 Search Query: When was the Hanging Gardens of Babylon built?\n",
            "🤖 The Hanging Gardens of Babylon are said to have been built during the reign of King Nebuchadnezzar II, who ruled between 605 and 562 BC.\n",
            "Enter your question or Q to exit.\n",
            "🧑 Q\n"
          ]
        }
      ],
      "source": [
        "while True:\n",
        "    messages = [system_message, user_message]\n",
        "    question = input(\"Enter your question or Q to exit.\\n🧑 \")\n",
        "    if question==\"Q\":\n",
        "        break\n",
        "\n",
        "    res = conversational_rag.run(data={\"query_rephrase_prompt_builder\": {\"query\": question},\n",
        "                             \"prompt_builder\": {\"template\": messages, \"query\": question},\n",
        "                             \"memory_joiner\": {\"values\": [ChatMessage.from_user(question)]}},\n",
        "                            include_outputs_from=[\"llm\",\"query_rephrase_llm\"])\n",
        "    search_query = res['query_rephrase_llm']['replies'][0]\n",
        "    print(f\"   🔎 Search Query: {search_query}\")\n",
        "    assistant_resp = res['llm']['replies'][0]\n",
        "    print(f\"🤖 {assistant_resp.text}\")"
      ]
    },
    {
      "cell_type": "markdown",
      "metadata": {
        "id": "crZGcWUfizPp"
      },
      "source": [
        "✅ Notice that this time, with the help of query rephrasing, we've built a conversational RAG pipeline that can handle follow-up queries and retrieve the relevant documents."
      ]
    }
  ],
  "metadata": {
    "colab": {
      "provenance": []
    },
    "kernelspec": {
      "display_name": "Python 3",
      "name": "python3"
    },
    "language_info": {
      "name": "python",
      "version": "3.9.6"
    },
    "vscode": {
      "interpreter": {
        "hash": "31f2aee4e71d21fbe5cf8b01ff0e069b9275f58929596ceb00d14d90e3e16cd6"
      }
    },
    "widgets": {
      "application/vnd.jupyter.widget-state+json": {
        "13777155bedb426196506e9f99a0e58b": {
          "model_module": "@jupyter-widgets/controls",
          "model_module_version": "1.5.0",
          "model_name": "ProgressStyleModel",
          "state": {
            "_model_module": "@jupyter-widgets/controls",
            "_model_module_version": "1.5.0",
            "_model_name": "ProgressStyleModel",
            "_view_count": null,
            "_view_module": "@jupyter-widgets/base",
            "_view_module_version": "1.2.0",
            "_view_name": "StyleView",
            "bar_color": null,
            "description_width": ""
          }
        },
        "178c72eb13ea4713b61f78d6e23845ac": {
          "model_module": "@jupyter-widgets/controls",
          "model_module_version": "1.5.0",
          "model_name": "HTMLModel",
          "state": {
            "_dom_classes": [],
            "_model_module": "@jupyter-widgets/controls",
            "_model_module_version": "1.5.0",
            "_model_name": "HTMLModel",
            "_view_count": null,
            "_view_module": "@jupyter-widgets/controls",
            "_view_module_version": "1.5.0",
            "_view_name": "HTMLView",
            "description": "",
            "description_tooltip": null,
            "layout": "IPY_MODEL_4584e2f8a56b4c8aba7bc3ac83fcf465",
            "placeholder": "​",
            "style": "IPY_MODEL_e3731778144a4dbd994b4fb69964c8fc",
            "value": " 46.0/46.0 [00:00&lt;00:00, 2.23kB/s]"
          }
        },
        "1d541df644074f5fa44628daf3b5bb0f": {
          "model_module": "@jupyter-widgets/controls",
          "model_module_version": "1.5.0",
          "model_name": "DescriptionStyleModel",
          "state": {
            "_model_module": "@jupyter-widgets/controls",
            "_model_module_version": "1.5.0",
            "_model_name": "DescriptionStyleModel",
            "_view_count": null,
            "_view_module": "@jupyter-widgets/base",
            "_view_module_version": "1.2.0",
            "_view_name": "StyleView",
            "description_width": ""
          }
        },
        "21362aa8df4442a29896367d6cf67e00": {
          "model_module": "@jupyter-widgets/controls",
          "model_module_version": "1.5.0",
          "model_name": "HBoxModel",
          "state": {
            "_dom_classes": [],
            "_model_module": "@jupyter-widgets/controls",
            "_model_module_version": "1.5.0",
            "_model_name": "HBoxModel",
            "_view_count": null,
            "_view_module": "@jupyter-widgets/controls",
            "_view_module_version": "1.5.0",
            "_view_name": "HBoxView",
            "box_style": "",
            "children": [
              "IPY_MODEL_437ab0f7e2504928a4b11eea3c294876",
              "IPY_MODEL_882c76f6986d4e4fb91f67d82332ccf3",
              "IPY_MODEL_e9dbe0e711c942feb0d4c317f501352a"
            ],
            "layout": "IPY_MODEL_c929a3d83e9d4309b7c9485e11608a64"
          }
        },
        "322220538e2e468c8ec1d1a394b1e468": {
          "model_module": "@jupyter-widgets/base",
          "model_module_version": "1.2.0",
          "model_name": "LayoutModel",
          "state": {
            "_model_module": "@jupyter-widgets/base",
            "_model_module_version": "1.2.0",
            "_model_name": "LayoutModel",
            "_view_count": null,
            "_view_module": "@jupyter-widgets/base",
            "_view_module_version": "1.2.0",
            "_view_name": "LayoutView",
            "align_content": null,
            "align_items": null,
            "align_self": null,
            "border": null,
            "bottom": null,
            "display": null,
            "flex": null,
            "flex_flow": null,
            "grid_area": null,
            "grid_auto_columns": null,
            "grid_auto_flow": null,
            "grid_auto_rows": null,
            "grid_column": null,
            "grid_gap": null,
            "grid_row": null,
            "grid_template_areas": null,
            "grid_template_columns": null,
            "grid_template_rows": null,
            "height": null,
            "justify_content": null,
            "justify_items": null,
            "left": null,
            "margin": null,
            "max_height": null,
            "max_width": null,
            "min_height": null,
            "min_width": null,
            "object_fit": null,
            "object_position": null,
            "order": null,
            "overflow": null,
            "overflow_x": null,
            "overflow_y": null,
            "padding": null,
            "right": null,
            "top": null,
            "visibility": null,
            "width": null
          }
        },
        "36ca73d9350e4a1c8074c0f774a54990": {
          "model_module": "@jupyter-widgets/controls",
          "model_module_version": "1.5.0",
          "model_name": "DescriptionStyleModel",
          "state": {
            "_model_module": "@jupyter-widgets/controls",
            "_model_module_version": "1.5.0",
            "_model_name": "DescriptionStyleModel",
            "_view_count": null,
            "_view_module": "@jupyter-widgets/base",
            "_view_module_version": "1.2.0",
            "_view_name": "StyleView",
            "description_width": ""
          }
        },
        "437ab0f7e2504928a4b11eea3c294876": {
          "model_module": "@jupyter-widgets/controls",
          "model_module_version": "1.5.0",
          "model_name": "HTMLModel",
          "state": {
            "_dom_classes": [],
            "_model_module": "@jupyter-widgets/controls",
            "_model_module_version": "1.5.0",
            "_model_name": "HTMLModel",
            "_view_count": null,
            "_view_module": "@jupyter-widgets/controls",
            "_view_module_version": "1.5.0",
            "_view_name": "HTMLView",
            "description": "",
            "description_tooltip": null,
            "layout": "IPY_MODEL_6749eb3bb0e94942b7e9e096e62ec8cb",
            "placeholder": "​",
            "style": "IPY_MODEL_1d541df644074f5fa44628daf3b5bb0f",
            "value": "(…)-00000-of-00001-4077bd623d55100a.parquet: 100%"
          }
        },
        "4584e2f8a56b4c8aba7bc3ac83fcf465": {
          "model_module": "@jupyter-widgets/base",
          "model_module_version": "1.2.0",
          "model_name": "LayoutModel",
          "state": {
            "_model_module": "@jupyter-widgets/base",
            "_model_module_version": "1.2.0",
            "_model_name": "LayoutModel",
            "_view_count": null,
            "_view_module": "@jupyter-widgets/base",
            "_view_module_version": "1.2.0",
            "_view_name": "LayoutView",
            "align_content": null,
            "align_items": null,
            "align_self": null,
            "border": null,
            "bottom": null,
            "display": null,
            "flex": null,
            "flex_flow": null,
            "grid_area": null,
            "grid_auto_columns": null,
            "grid_auto_flow": null,
            "grid_auto_rows": null,
            "grid_column": null,
            "grid_gap": null,
            "grid_row": null,
            "grid_template_areas": null,
            "grid_template_columns": null,
            "grid_template_rows": null,
            "height": null,
            "justify_content": null,
            "justify_items": null,
            "left": null,
            "margin": null,
            "max_height": null,
            "max_width": null,
            "min_height": null,
            "min_width": null,
            "object_fit": null,
            "object_position": null,
            "order": null,
            "overflow": null,
            "overflow_x": null,
            "overflow_y": null,
            "padding": null,
            "right": null,
            "top": null,
            "visibility": null,
            "width": null
          }
        },
        "4b3ae1c3a76a4fbda2515fc1dc2f7fab": {
          "model_module": "@jupyter-widgets/controls",
          "model_module_version": "1.5.0",
          "model_name": "ProgressStyleModel",
          "state": {
            "_model_module": "@jupyter-widgets/controls",
            "_model_module_version": "1.5.0",
            "_model_name": "ProgressStyleModel",
            "_view_count": null,
            "_view_module": "@jupyter-widgets/base",
            "_view_module_version": "1.2.0",
            "_view_name": "StyleView",
            "bar_color": null,
            "description_width": ""
          }
        },
        "4eafb4852c0b465b98bc9aa714a65c55": {
          "model_module": "@jupyter-widgets/base",
          "model_module_version": "1.2.0",
          "model_name": "LayoutModel",
          "state": {
            "_model_module": "@jupyter-widgets/base",
            "_model_module_version": "1.2.0",
            "_model_name": "LayoutModel",
            "_view_count": null,
            "_view_module": "@jupyter-widgets/base",
            "_view_module_version": "1.2.0",
            "_view_name": "LayoutView",
            "align_content": null,
            "align_items": null,
            "align_self": null,
            "border": null,
            "bottom": null,
            "display": null,
            "flex": null,
            "flex_flow": null,
            "grid_area": null,
            "grid_auto_columns": null,
            "grid_auto_flow": null,
            "grid_auto_rows": null,
            "grid_column": null,
            "grid_gap": null,
            "grid_row": null,
            "grid_template_areas": null,
            "grid_template_columns": null,
            "grid_template_rows": null,
            "height": null,
            "justify_content": null,
            "justify_items": null,
            "left": null,
            "margin": null,
            "max_height": null,
            "max_width": null,
            "min_height": null,
            "min_width": null,
            "object_fit": null,
            "object_position": null,
            "order": null,
            "overflow": null,
            "overflow_x": null,
            "overflow_y": null,
            "padding": null,
            "right": null,
            "top": null,
            "visibility": null,
            "width": null
          }
        },
        "57c6e81875754b20b20ded8242b3416f": {
          "model_module": "@jupyter-widgets/controls",
          "model_module_version": "1.5.0",
          "model_name": "HBoxModel",
          "state": {
            "_dom_classes": [],
            "_model_module": "@jupyter-widgets/controls",
            "_model_module_version": "1.5.0",
            "_model_name": "HBoxModel",
            "_view_count": null,
            "_view_module": "@jupyter-widgets/controls",
            "_view_module_version": "1.5.0",
            "_view_name": "HBoxView",
            "box_style": "",
            "children": [
              "IPY_MODEL_5da9420916f24ac8b414f40bd2bf9278",
              "IPY_MODEL_87e0f724cfd342a696a9a472e6cae440",
              "IPY_MODEL_649c0abcb8ae4028b982c67b8c25d49b"
            ],
            "layout": "IPY_MODEL_4eafb4852c0b465b98bc9aa714a65c55"
          }
        },
        "5da9420916f24ac8b414f40bd2bf9278": {
          "model_module": "@jupyter-widgets/controls",
          "model_module_version": "1.5.0",
          "model_name": "HTMLModel",
          "state": {
            "_dom_classes": [],
            "_model_module": "@jupyter-widgets/controls",
            "_model_module_version": "1.5.0",
            "_model_name": "HTMLModel",
            "_view_count": null,
            "_view_module": "@jupyter-widgets/controls",
            "_view_module_version": "1.5.0",
            "_view_name": "HTMLView",
            "description": "",
            "description_tooltip": null,
            "layout": "IPY_MODEL_bf44c3ba864e4b06a6c7ce99175b6f76",
            "placeholder": "​",
            "style": "IPY_MODEL_8f5ebd3d7c9a4937a80e4732a4421306",
            "value": "Generating train split: 100%"
          }
        },
        "5e1c026cacd146c5b865407e65fa3da4": {
          "model_module": "@jupyter-widgets/base",
          "model_module_version": "1.2.0",
          "model_name": "LayoutModel",
          "state": {
            "_model_module": "@jupyter-widgets/base",
            "_model_module_version": "1.2.0",
            "_model_name": "LayoutModel",
            "_view_count": null,
            "_view_module": "@jupyter-widgets/base",
            "_view_module_version": "1.2.0",
            "_view_name": "LayoutView",
            "align_content": null,
            "align_items": null,
            "align_self": null,
            "border": null,
            "bottom": null,
            "display": null,
            "flex": null,
            "flex_flow": null,
            "grid_area": null,
            "grid_auto_columns": null,
            "grid_auto_flow": null,
            "grid_auto_rows": null,
            "grid_column": null,
            "grid_gap": null,
            "grid_row": null,
            "grid_template_areas": null,
            "grid_template_columns": null,
            "grid_template_rows": null,
            "height": null,
            "justify_content": null,
            "justify_items": null,
            "left": null,
            "margin": null,
            "max_height": null,
            "max_width": null,
            "min_height": null,
            "min_width": null,
            "object_fit": null,
            "object_position": null,
            "order": null,
            "overflow": null,
            "overflow_x": null,
            "overflow_y": null,
            "padding": null,
            "right": null,
            "top": null,
            "visibility": null,
            "width": null
          }
        },
        "649c0abcb8ae4028b982c67b8c25d49b": {
          "model_module": "@jupyter-widgets/controls",
          "model_module_version": "1.5.0",
          "model_name": "HTMLModel",
          "state": {
            "_dom_classes": [],
            "_model_module": "@jupyter-widgets/controls",
            "_model_module_version": "1.5.0",
            "_model_name": "HTMLModel",
            "_view_count": null,
            "_view_module": "@jupyter-widgets/controls",
            "_view_module_version": "1.5.0",
            "_view_name": "HTMLView",
            "description": "",
            "description_tooltip": null,
            "layout": "IPY_MODEL_5e1c026cacd146c5b865407e65fa3da4",
            "placeholder": "​",
            "style": "IPY_MODEL_ca7fcb3a93154a0ab91ffd440a5eec07",
            "value": " 151/151 [00:00&lt;00:00, 1979.58 examples/s]"
          }
        },
        "6749eb3bb0e94942b7e9e096e62ec8cb": {
          "model_module": "@jupyter-widgets/base",
          "model_module_version": "1.2.0",
          "model_name": "LayoutModel",
          "state": {
            "_model_module": "@jupyter-widgets/base",
            "_model_module_version": "1.2.0",
            "_model_name": "LayoutModel",
            "_view_count": null,
            "_view_module": "@jupyter-widgets/base",
            "_view_module_version": "1.2.0",
            "_view_name": "LayoutView",
            "align_content": null,
            "align_items": null,
            "align_self": null,
            "border": null,
            "bottom": null,
            "display": null,
            "flex": null,
            "flex_flow": null,
            "grid_area": null,
            "grid_auto_columns": null,
            "grid_auto_flow": null,
            "grid_auto_rows": null,
            "grid_column": null,
            "grid_gap": null,
            "grid_row": null,
            "grid_template_areas": null,
            "grid_template_columns": null,
            "grid_template_rows": null,
            "height": null,
            "justify_content": null,
            "justify_items": null,
            "left": null,
            "margin": null,
            "max_height": null,
            "max_width": null,
            "min_height": null,
            "min_width": null,
            "object_fit": null,
            "object_position": null,
            "order": null,
            "overflow": null,
            "overflow_x": null,
            "overflow_y": null,
            "padding": null,
            "right": null,
            "top": null,
            "visibility": null,
            "width": null
          }
        },
        "67c1e3a03d8a4cc3aa1f306aeacbf7d3": {
          "model_module": "@jupyter-widgets/controls",
          "model_module_version": "1.5.0",
          "model_name": "ProgressStyleModel",
          "state": {
            "_model_module": "@jupyter-widgets/controls",
            "_model_module_version": "1.5.0",
            "_model_name": "ProgressStyleModel",
            "_view_count": null,
            "_view_module": "@jupyter-widgets/base",
            "_view_module_version": "1.2.0",
            "_view_name": "StyleView",
            "bar_color": null,
            "description_width": ""
          }
        },
        "73a190ad645f424595ed510b0a065f6c": {
          "model_module": "@jupyter-widgets/controls",
          "model_module_version": "1.5.0",
          "model_name": "HBoxModel",
          "state": {
            "_dom_classes": [],
            "_model_module": "@jupyter-widgets/controls",
            "_model_module_version": "1.5.0",
            "_model_name": "HBoxModel",
            "_view_count": null,
            "_view_module": "@jupyter-widgets/controls",
            "_view_module_version": "1.5.0",
            "_view_name": "HBoxView",
            "box_style": "",
            "children": [
              "IPY_MODEL_a0595172cf69419da8906519b67044fc",
              "IPY_MODEL_de6320ec52bd428481cc2c3d5a0cc990",
              "IPY_MODEL_178c72eb13ea4713b61f78d6e23845ac"
            ],
            "layout": "IPY_MODEL_ad90be66bdc04459aad56d18ae06053d"
          }
        },
        "87e0f724cfd342a696a9a472e6cae440": {
          "model_module": "@jupyter-widgets/controls",
          "model_module_version": "1.5.0",
          "model_name": "FloatProgressModel",
          "state": {
            "_dom_classes": [],
            "_model_module": "@jupyter-widgets/controls",
            "_model_module_version": "1.5.0",
            "_model_name": "FloatProgressModel",
            "_view_count": null,
            "_view_module": "@jupyter-widgets/controls",
            "_view_module_version": "1.5.0",
            "_view_name": "ProgressView",
            "bar_style": "success",
            "description": "",
            "description_tooltip": null,
            "layout": "IPY_MODEL_edf1188e561b44089d1f33a4ab06da2d",
            "max": 151,
            "min": 0,
            "orientation": "horizontal",
            "style": "IPY_MODEL_67c1e3a03d8a4cc3aa1f306aeacbf7d3",
            "value": 151
          }
        },
        "882c76f6986d4e4fb91f67d82332ccf3": {
          "model_module": "@jupyter-widgets/controls",
          "model_module_version": "1.5.0",
          "model_name": "FloatProgressModel",
          "state": {
            "_dom_classes": [],
            "_model_module": "@jupyter-widgets/controls",
            "_model_module_version": "1.5.0",
            "_model_name": "FloatProgressModel",
            "_view_count": null,
            "_view_module": "@jupyter-widgets/controls",
            "_view_module_version": "1.5.0",
            "_view_name": "ProgressView",
            "bar_style": "success",
            "description": "",
            "description_tooltip": null,
            "layout": "IPY_MODEL_b294f69f8aa64e448cff87a12b473a40",
            "max": 118915,
            "min": 0,
            "orientation": "horizontal",
            "style": "IPY_MODEL_13777155bedb426196506e9f99a0e58b",
            "value": 118915
          }
        },
        "8f5ebd3d7c9a4937a80e4732a4421306": {
          "model_module": "@jupyter-widgets/controls",
          "model_module_version": "1.5.0",
          "model_name": "DescriptionStyleModel",
          "state": {
            "_model_module": "@jupyter-widgets/controls",
            "_model_module_version": "1.5.0",
            "_model_name": "DescriptionStyleModel",
            "_view_count": null,
            "_view_module": "@jupyter-widgets/base",
            "_view_module_version": "1.2.0",
            "_view_name": "StyleView",
            "description_width": ""
          }
        },
        "a0595172cf69419da8906519b67044fc": {
          "model_module": "@jupyter-widgets/controls",
          "model_module_version": "1.5.0",
          "model_name": "HTMLModel",
          "state": {
            "_dom_classes": [],
            "_model_module": "@jupyter-widgets/controls",
            "_model_module_version": "1.5.0",
            "_model_name": "HTMLModel",
            "_view_count": null,
            "_view_module": "@jupyter-widgets/controls",
            "_view_module_version": "1.5.0",
            "_view_name": "HTMLView",
            "description": "",
            "description_tooltip": null,
            "layout": "IPY_MODEL_dc62faede541456693b9f04b014f903e",
            "placeholder": "​",
            "style": "IPY_MODEL_36ca73d9350e4a1c8074c0f774a54990",
            "value": "README.md: 100%"
          }
        },
        "ad90be66bdc04459aad56d18ae06053d": {
          "model_module": "@jupyter-widgets/base",
          "model_module_version": "1.2.0",
          "model_name": "LayoutModel",
          "state": {
            "_model_module": "@jupyter-widgets/base",
            "_model_module_version": "1.2.0",
            "_model_name": "LayoutModel",
            "_view_count": null,
            "_view_module": "@jupyter-widgets/base",
            "_view_module_version": "1.2.0",
            "_view_name": "LayoutView",
            "align_content": null,
            "align_items": null,
            "align_self": null,
            "border": null,
            "bottom": null,
            "display": null,
            "flex": null,
            "flex_flow": null,
            "grid_area": null,
            "grid_auto_columns": null,
            "grid_auto_flow": null,
            "grid_auto_rows": null,
            "grid_column": null,
            "grid_gap": null,
            "grid_row": null,
            "grid_template_areas": null,
            "grid_template_columns": null,
            "grid_template_rows": null,
            "height": null,
            "justify_content": null,
            "justify_items": null,
            "left": null,
            "margin": null,
            "max_height": null,
            "max_width": null,
            "min_height": null,
            "min_width": null,
            "object_fit": null,
            "object_position": null,
            "order": null,
            "overflow": null,
            "overflow_x": null,
            "overflow_y": null,
            "padding": null,
            "right": null,
            "top": null,
            "visibility": null,
            "width": null
          }
        },
        "b294f69f8aa64e448cff87a12b473a40": {
          "model_module": "@jupyter-widgets/base",
          "model_module_version": "1.2.0",
          "model_name": "LayoutModel",
          "state": {
            "_model_module": "@jupyter-widgets/base",
            "_model_module_version": "1.2.0",
            "_model_name": "LayoutModel",
            "_view_count": null,
            "_view_module": "@jupyter-widgets/base",
            "_view_module_version": "1.2.0",
            "_view_name": "LayoutView",
            "align_content": null,
            "align_items": null,
            "align_self": null,
            "border": null,
            "bottom": null,
            "display": null,
            "flex": null,
            "flex_flow": null,
            "grid_area": null,
            "grid_auto_columns": null,
            "grid_auto_flow": null,
            "grid_auto_rows": null,
            "grid_column": null,
            "grid_gap": null,
            "grid_row": null,
            "grid_template_areas": null,
            "grid_template_columns": null,
            "grid_template_rows": null,
            "height": null,
            "justify_content": null,
            "justify_items": null,
            "left": null,
            "margin": null,
            "max_height": null,
            "max_width": null,
            "min_height": null,
            "min_width": null,
            "object_fit": null,
            "object_position": null,
            "order": null,
            "overflow": null,
            "overflow_x": null,
            "overflow_y": null,
            "padding": null,
            "right": null,
            "top": null,
            "visibility": null,
            "width": null
          }
        },
        "bf44c3ba864e4b06a6c7ce99175b6f76": {
          "model_module": "@jupyter-widgets/base",
          "model_module_version": "1.2.0",
          "model_name": "LayoutModel",
          "state": {
            "_model_module": "@jupyter-widgets/base",
            "_model_module_version": "1.2.0",
            "_model_name": "LayoutModel",
            "_view_count": null,
            "_view_module": "@jupyter-widgets/base",
            "_view_module_version": "1.2.0",
            "_view_name": "LayoutView",
            "align_content": null,
            "align_items": null,
            "align_self": null,
            "border": null,
            "bottom": null,
            "display": null,
            "flex": null,
            "flex_flow": null,
            "grid_area": null,
            "grid_auto_columns": null,
            "grid_auto_flow": null,
            "grid_auto_rows": null,
            "grid_column": null,
            "grid_gap": null,
            "grid_row": null,
            "grid_template_areas": null,
            "grid_template_columns": null,
            "grid_template_rows": null,
            "height": null,
            "justify_content": null,
            "justify_items": null,
            "left": null,
            "margin": null,
            "max_height": null,
            "max_width": null,
            "min_height": null,
            "min_width": null,
            "object_fit": null,
            "object_position": null,
            "order": null,
            "overflow": null,
            "overflow_x": null,
            "overflow_y": null,
            "padding": null,
            "right": null,
            "top": null,
            "visibility": null,
            "width": null
          }
        },
        "c929a3d83e9d4309b7c9485e11608a64": {
          "model_module": "@jupyter-widgets/base",
          "model_module_version": "1.2.0",
          "model_name": "LayoutModel",
          "state": {
            "_model_module": "@jupyter-widgets/base",
            "_model_module_version": "1.2.0",
            "_model_name": "LayoutModel",
            "_view_count": null,
            "_view_module": "@jupyter-widgets/base",
            "_view_module_version": "1.2.0",
            "_view_name": "LayoutView",
            "align_content": null,
            "align_items": null,
            "align_self": null,
            "border": null,
            "bottom": null,
            "display": null,
            "flex": null,
            "flex_flow": null,
            "grid_area": null,
            "grid_auto_columns": null,
            "grid_auto_flow": null,
            "grid_auto_rows": null,
            "grid_column": null,
            "grid_gap": null,
            "grid_row": null,
            "grid_template_areas": null,
            "grid_template_columns": null,
            "grid_template_rows": null,
            "height": null,
            "justify_content": null,
            "justify_items": null,
            "left": null,
            "margin": null,
            "max_height": null,
            "max_width": null,
            "min_height": null,
            "min_width": null,
            "object_fit": null,
            "object_position": null,
            "order": null,
            "overflow": null,
            "overflow_x": null,
            "overflow_y": null,
            "padding": null,
            "right": null,
            "top": null,
            "visibility": null,
            "width": null
          }
        },
        "ca7fcb3a93154a0ab91ffd440a5eec07": {
          "model_module": "@jupyter-widgets/controls",
          "model_module_version": "1.5.0",
          "model_name": "DescriptionStyleModel",
          "state": {
            "_model_module": "@jupyter-widgets/controls",
            "_model_module_version": "1.5.0",
            "_model_name": "DescriptionStyleModel",
            "_view_count": null,
            "_view_module": "@jupyter-widgets/base",
            "_view_module_version": "1.2.0",
            "_view_name": "StyleView",
            "description_width": ""
          }
        },
        "ce31567067f54dcdb7e76996a1f85711": {
          "model_module": "@jupyter-widgets/controls",
          "model_module_version": "1.5.0",
          "model_name": "DescriptionStyleModel",
          "state": {
            "_model_module": "@jupyter-widgets/controls",
            "_model_module_version": "1.5.0",
            "_model_name": "DescriptionStyleModel",
            "_view_count": null,
            "_view_module": "@jupyter-widgets/base",
            "_view_module_version": "1.2.0",
            "_view_name": "StyleView",
            "description_width": ""
          }
        },
        "dc62faede541456693b9f04b014f903e": {
          "model_module": "@jupyter-widgets/base",
          "model_module_version": "1.2.0",
          "model_name": "LayoutModel",
          "state": {
            "_model_module": "@jupyter-widgets/base",
            "_model_module_version": "1.2.0",
            "_model_name": "LayoutModel",
            "_view_count": null,
            "_view_module": "@jupyter-widgets/base",
            "_view_module_version": "1.2.0",
            "_view_name": "LayoutView",
            "align_content": null,
            "align_items": null,
            "align_self": null,
            "border": null,
            "bottom": null,
            "display": null,
            "flex": null,
            "flex_flow": null,
            "grid_area": null,
            "grid_auto_columns": null,
            "grid_auto_flow": null,
            "grid_auto_rows": null,
            "grid_column": null,
            "grid_gap": null,
            "grid_row": null,
            "grid_template_areas": null,
            "grid_template_columns": null,
            "grid_template_rows": null,
            "height": null,
            "justify_content": null,
            "justify_items": null,
            "left": null,
            "margin": null,
            "max_height": null,
            "max_width": null,
            "min_height": null,
            "min_width": null,
            "object_fit": null,
            "object_position": null,
            "order": null,
            "overflow": null,
            "overflow_x": null,
            "overflow_y": null,
            "padding": null,
            "right": null,
            "top": null,
            "visibility": null,
            "width": null
          }
        },
        "de6320ec52bd428481cc2c3d5a0cc990": {
          "model_module": "@jupyter-widgets/controls",
          "model_module_version": "1.5.0",
          "model_name": "FloatProgressModel",
          "state": {
            "_dom_classes": [],
            "_model_module": "@jupyter-widgets/controls",
            "_model_module_version": "1.5.0",
            "_model_name": "FloatProgressModel",
            "_view_count": null,
            "_view_module": "@jupyter-widgets/controls",
            "_view_module_version": "1.5.0",
            "_view_name": "ProgressView",
            "bar_style": "success",
            "description": "",
            "description_tooltip": null,
            "layout": "IPY_MODEL_322220538e2e468c8ec1d1a394b1e468",
            "max": 46,
            "min": 0,
            "orientation": "horizontal",
            "style": "IPY_MODEL_4b3ae1c3a76a4fbda2515fc1dc2f7fab",
            "value": 46
          }
        },
        "e3731778144a4dbd994b4fb69964c8fc": {
          "model_module": "@jupyter-widgets/controls",
          "model_module_version": "1.5.0",
          "model_name": "DescriptionStyleModel",
          "state": {
            "_model_module": "@jupyter-widgets/controls",
            "_model_module_version": "1.5.0",
            "_model_name": "DescriptionStyleModel",
            "_view_count": null,
            "_view_module": "@jupyter-widgets/base",
            "_view_module_version": "1.2.0",
            "_view_name": "StyleView",
            "description_width": ""
          }
        },
        "e9dbe0e711c942feb0d4c317f501352a": {
          "model_module": "@jupyter-widgets/controls",
          "model_module_version": "1.5.0",
          "model_name": "HTMLModel",
          "state": {
            "_dom_classes": [],
            "_model_module": "@jupyter-widgets/controls",
            "_model_module_version": "1.5.0",
            "_model_name": "HTMLModel",
            "_view_count": null,
            "_view_module": "@jupyter-widgets/controls",
            "_view_module_version": "1.5.0",
            "_view_name": "HTMLView",
            "description": "",
            "description_tooltip": null,
            "layout": "IPY_MODEL_fb40fd788e234340a5ea5a67a1468633",
            "placeholder": "​",
            "style": "IPY_MODEL_ce31567067f54dcdb7e76996a1f85711",
            "value": " 119k/119k [00:00&lt;00:00, 2.54MB/s]"
          }
        },
        "edf1188e561b44089d1f33a4ab06da2d": {
          "model_module": "@jupyter-widgets/base",
          "model_module_version": "1.2.0",
          "model_name": "LayoutModel",
          "state": {
            "_model_module": "@jupyter-widgets/base",
            "_model_module_version": "1.2.0",
            "_model_name": "LayoutModel",
            "_view_count": null,
            "_view_module": "@jupyter-widgets/base",
            "_view_module_version": "1.2.0",
            "_view_name": "LayoutView",
            "align_content": null,
            "align_items": null,
            "align_self": null,
            "border": null,
            "bottom": null,
            "display": null,
            "flex": null,
            "flex_flow": null,
            "grid_area": null,
            "grid_auto_columns": null,
            "grid_auto_flow": null,
            "grid_auto_rows": null,
            "grid_column": null,
            "grid_gap": null,
            "grid_row": null,
            "grid_template_areas": null,
            "grid_template_columns": null,
            "grid_template_rows": null,
            "height": null,
            "justify_content": null,
            "justify_items": null,
            "left": null,
            "margin": null,
            "max_height": null,
            "max_width": null,
            "min_height": null,
            "min_width": null,
            "object_fit": null,
            "object_position": null,
            "order": null,
            "overflow": null,
            "overflow_x": null,
            "overflow_y": null,
            "padding": null,
            "right": null,
            "top": null,
            "visibility": null,
            "width": null
          }
        },
        "fb40fd788e234340a5ea5a67a1468633": {
          "model_module": "@jupyter-widgets/base",
          "model_module_version": "1.2.0",
          "model_name": "LayoutModel",
          "state": {
            "_model_module": "@jupyter-widgets/base",
            "_model_module_version": "1.2.0",
            "_model_name": "LayoutModel",
            "_view_count": null,
            "_view_module": "@jupyter-widgets/base",
            "_view_module_version": "1.2.0",
            "_view_name": "LayoutView",
            "align_content": null,
            "align_items": null,
            "align_self": null,
            "border": null,
            "bottom": null,
            "display": null,
            "flex": null,
            "flex_flow": null,
            "grid_area": null,
            "grid_auto_columns": null,
            "grid_auto_flow": null,
            "grid_auto_rows": null,
            "grid_column": null,
            "grid_gap": null,
            "grid_row": null,
            "grid_template_areas": null,
            "grid_template_columns": null,
            "grid_template_rows": null,
            "height": null,
            "justify_content": null,
            "justify_items": null,
            "left": null,
            "margin": null,
            "max_height": null,
            "max_width": null,
            "min_height": null,
            "min_width": null,
            "object_fit": null,
            "object_position": null,
            "order": null,
            "overflow": null,
            "overflow_x": null,
            "overflow_y": null,
            "padding": null,
            "right": null,
            "top": null,
            "visibility": null,
            "width": null
          }
        }
      }
    }
  },
  "nbformat": 4,
  "nbformat_minor": 0
}
