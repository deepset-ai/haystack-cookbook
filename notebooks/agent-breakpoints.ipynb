{
 "cells": [
  {
   "cell_type": "markdown",
   "metadata": {},
   "source": [
    "# Breakpoints for Agents\n",
    "\n",
    "This notebook demonstrates how to set up breakpoints within an Agent component in a Haystack pipeline. Breakpoints can be placed either on the chat_generator or on the tools used by the Agent. This guide showcases both approaches.\n",
    "\n",
    "The pipeline features an Agent acting as a database assistant, responsible for extracting relevant information and writing it to the database.\n",
    "\n",
    "> NOTE: this feature is a part of [`haystack-experimental`](https://github.com/deepset-ai/haystack-experimental)"
   ]
  },
  {
   "cell_type": "markdown",
   "metadata": {},
   "source": [
    "## Install packages"
   ]
  },
  {
   "cell_type": "code",
   "execution_count": null,
   "metadata": {},
   "outputs": [],
   "source": [
    "!pip install \"haystack-experimental==0.12.0\" #Agent breakpoints was added in 0.12.0\n",
    "!pip install \"transformers[torch,sentencepiece]\"\n",
    "!pip install \"sentence-transformers>=3.0.0\""
   ]
  },
  {
   "cell_type": "markdown",
   "metadata": {},
   "source": [
    "Setup OpenAI API key for the `chat_generator`"
   ]
  },
  {
   "cell_type": "code",
   "execution_count": 2,
   "metadata": {},
   "outputs": [],
   "source": [
    "import os\n",
    "from getpass import getpass\n",
    "\n",
    "if \"OPENAI_API_KEY\" not in os.environ:\n",
    "    os.environ[\"OPENAI_API_KEY\"] = getpass(\"Enter OpenAI API key:\")"
   ]
  },
  {
   "cell_type": "markdown",
   "metadata": {},
   "source": [
    "## Initializations\n",
    "\n",
    "Now we initialize the components required to build an Agentic pipeline. We will set up:\n",
    "\n",
    "- A `chat_generator` for the Agent\n",
    "- A custom `tool` that writes structured information to an `InMemoryDocumentStore`\n",
    "- An `Agent` that uses the these components to extract and store entities from user-supplied context"
   ]
  },
  {
   "cell_type": "code",
   "execution_count": null,
   "metadata": {},
   "outputs": [],
   "source": [
    "from haystack.document_stores.in_memory import InMemoryDocumentStore\n",
    "from haystack_experimental.components.agents.agent import Agent\n",
    "from haystack.components.generators.chat import OpenAIChatGenerator\n",
    "\n",
    "\n",
    "from haystack.dataclasses import Document\n",
    "from haystack.tools import tool\n",
    "from typing import Optional\n",
    "\n",
    "# Initialize a document store and a chat_generator\n",
    "document_store = InMemoryDocumentStore()\n",
    "chat_generator = OpenAIChatGenerator(\n",
    "    model=\"gpt-4o-mini\",\n",
    ")\n",
    "\n",
    "# Initialize a tool\n",
    "@tool\n",
    "def add_database_tool(name: str, surname: str, job_title: Optional[str], other: Optional[str]):\n",
    "    document_store.write_documents(\n",
    "        [Document(content=name + \" \" + surname + \" \" + (job_title or \"\"), meta={\"other\":other})]\n",
    "    )\n",
    "\n",
    "# Create the Agent\n",
    "database_assistant = Agent(\n",
    "        chat_generator=chat_generator,\n",
    "        tools=[add_database_tool],\n",
    "        system_prompt=\"\"\"\n",
    "        You are a database assistant.\n",
    "        Your task is to extract the names of people mentioned in the given context and add them to a knowledge base, \n",
    "        along with additional relevant information about them that can be extracted from the context.\n",
    "        Do not use your own knowledge, stay grounded to the given context.\n",
    "        Do not ask the user for confirmation. Instead, automatically update the knowledge base and return a brief \n",
    "        summary of the people added, including the information stored for each.\n",
    "        \"\"\",\n",
    "        exit_conditions=[\"text\"],\n",
    "        max_agent_steps=100,\n",
    "        raise_on_tool_invocation_failure=False\n",
    "    )"
   ]
  },
  {
   "cell_type": "markdown",
   "metadata": {},
   "source": [
    "## Initialize the Pipeline\n",
    "In this step, we construct a Haystack pipeline that performs the following tasks:\n",
    "\n",
    "- Fetches HTML content from a specified URL.\n",
    "- Converts the HTML into Haystack Document objects.\n",
    "- Builds a `prompt` from the extracted content.\n",
    "- Passes the prompt to the previously defined Agent, which processes the context and writes relevant information to a document store."
   ]
  },
  {
   "cell_type": "code",
   "execution_count": null,
   "metadata": {},
   "outputs": [
    {
     "data": {
      "text/plain": [
       "<haystack_experimental.core.pipeline.pipeline.Pipeline object at 0x116f2d400>\n",
       "🚅 Components\n",
       "  - fetcher: LinkContentFetcher\n",
       "  - converter: HTMLToDocument\n",
       "  - builder: ChatPromptBuilder\n",
       "  - database_agent: Agent\n",
       "🛤️ Connections\n",
       "  - fetcher.streams -> converter.sources (List[ByteStream])\n",
       "  - converter.documents -> builder.docs (List[Document])\n",
       "  - builder.prompt -> database_agent.messages (List[ChatMessage])"
      ]
     },
     "execution_count": 6,
     "metadata": {},
     "output_type": "execute_result"
    }
   ],
   "source": [
    "from haystack_experimental.core.pipeline import Pipeline    # Note we are using the Pipeline from experimental package\n",
    "from haystack.components.converters import HTMLToDocument\n",
    "from haystack.components.fetchers import LinkContentFetcher\n",
    "from haystack.components.builders import ChatPromptBuilder\n",
    "from haystack.dataclasses import ChatMessage\n",
    "\n",
    "\n",
    "pipeline_with_agent = Pipeline()\n",
    "pipeline_with_agent.add_component(\"fetcher\", LinkContentFetcher())\n",
    "pipeline_with_agent.add_component(\"converter\", HTMLToDocument())\n",
    "pipeline_with_agent.add_component(\"builder\", ChatPromptBuilder(\n",
    "    template=[ChatMessage.from_user(\"\"\"\n",
    "    {% for doc in docs %}\n",
    "    {{ doc.content|default|truncate(25000) }}\n",
    "    {% endfor %}\n",
    "    \"\"\")],\n",
    "    required_variables=[\"docs\"]\n",
    "))\n",
    "pipeline_with_agent.add_component(\"database_agent\", database_assistant)\n",
    "\n",
    "pipeline_with_agent.connect(\"fetcher.streams\", \"converter.sources\")\n",
    "pipeline_with_agent.connect(\"converter.documents\", \"builder.docs\")\n",
    "pipeline_with_agent.connect(\"builder\", \"database_agent\")\n",
    "\n"
   ]
  },
  {
   "cell_type": "markdown",
   "metadata": {},
   "source": [
    "## Set up Breakpoints\n",
    "With our pipeline in place, we can now configure a breakpoint on the Agent. This allows us to pause the pipeline execution at a specific step—in this case, during the Agent's operation—and save the intermediate pipeline snapshot to an external file for inspection or debugging.\n",
    "\n",
    "We’ll first create a `Breakpoint` for the `chat_generator` and then wrap it using `AgentBreakpoint`, which explicitly targets the `Agent` component in the pipeline.\n",
    "\n",
    "Note: Update the debug_path to set where you want to save the file.\n"
   ]
  },
  {
   "cell_type": "code",
   "execution_count": null,
   "metadata": {},
   "outputs": [
    {
     "ename": "PipelineRuntimeError",
     "evalue": "The following component failed to run:\nComponent name: 'database_agent'\nComponent type: 'Agent'\nError: Breaking at chat_generator visit count 0",
     "output_type": "error",
     "traceback": [
      "\u001b[31m---------------------------------------------------------------------------\u001b[39m",
      "\u001b[31mBreakpointException\u001b[39m                       Traceback (most recent call last)",
      "\u001b[36mFile \u001b[39m\u001b[32m~/haystack-cookbook/.venv/lib/python3.13/site-packages/haystack/core/pipeline/pipeline.py:60\u001b[39m, in \u001b[36mPipeline._run_component\u001b[39m\u001b[34m(component_name, component, inputs, component_visits, parent_span)\u001b[39m\n\u001b[32m     59\u001b[39m \u001b[38;5;28;01mtry\u001b[39;00m:\n\u001b[32m---> \u001b[39m\u001b[32m60\u001b[39m     component_output = \u001b[43minstance\u001b[49m\u001b[43m.\u001b[49m\u001b[43mrun\u001b[49m\u001b[43m(\u001b[49m\u001b[43m*\u001b[49m\u001b[43m*\u001b[49m\u001b[43minputs\u001b[49m\u001b[43m)\u001b[49m\n\u001b[32m     61\u001b[39m \u001b[38;5;28;01mexcept\u001b[39;00m \u001b[38;5;167;01mException\u001b[39;00m \u001b[38;5;28;01mas\u001b[39;00m error:\n",
      "\u001b[36mFile \u001b[39m\u001b[32m~/haystack-cookbook/.venv/lib/python3.13/site-packages/haystack_experimental/components/agents/agent.py:458\u001b[39m, in \u001b[36mAgent.run\u001b[39m\u001b[34m(self, messages, streaming_callback, break_point, resume_state, debug_path, **kwargs)\u001b[39m\n\u001b[32m    456\u001b[39m \u001b[38;5;28;01mwhile\u001b[39;00m counter < \u001b[38;5;28mself\u001b[39m.max_agent_steps:\n\u001b[32m    457\u001b[39m     \u001b[38;5;66;03m# check for breakpoint before ChatGenerator\u001b[39;00m\n\u001b[32m--> \u001b[39m\u001b[32m458\u001b[39m     \u001b[38;5;28;43mself\u001b[39;49m\u001b[43m.\u001b[49m\u001b[43m_check_chat_generator_breakpoint\u001b[49m\u001b[43m(\u001b[49m\n\u001b[32m    459\u001b[39m \u001b[43m        \u001b[49m\u001b[43mbreak_point\u001b[49m\u001b[43m,\u001b[49m\n\u001b[32m    460\u001b[39m \u001b[43m        \u001b[49m\u001b[43mcomponent_visits\u001b[49m\u001b[43m,\u001b[49m\n\u001b[32m    461\u001b[39m \u001b[43m        \u001b[49m\u001b[43mmessages\u001b[49m\u001b[43m,\u001b[49m\n\u001b[32m    462\u001b[39m \u001b[43m        \u001b[49m\u001b[43mgenerator_inputs\u001b[49m\u001b[43m,\u001b[49m\n\u001b[32m    463\u001b[39m \u001b[43m        \u001b[49m\u001b[43mdebug_path\u001b[49m\u001b[43m,\u001b[49m\n\u001b[32m    464\u001b[39m \u001b[43m        \u001b[49m\u001b[43mkwargs\u001b[49m\u001b[43m,\u001b[49m\n\u001b[32m    465\u001b[39m \u001b[43m        \u001b[49m\u001b[43mstate\u001b[49m\u001b[43m,\u001b[49m\n\u001b[32m    466\u001b[39m \u001b[43m    \u001b[49m\u001b[43m)\u001b[49m\n\u001b[32m    468\u001b[39m     \u001b[38;5;66;03m# 1. Call the ChatGenerator\u001b[39;00m\n",
      "\u001b[36mFile \u001b[39m\u001b[32m~/haystack-cookbook/.venv/lib/python3.13/site-packages/haystack_experimental/components/agents/agent.py:287\u001b[39m, in \u001b[36mAgent._check_chat_generator_breakpoint\u001b[39m\u001b[34m(self, agent_breakpoint, component_visits, messages, generator_inputs, debug_path, kwargs, state)\u001b[39m\n\u001b[32m    286\u001b[39m logger.info(msg)\n\u001b[32m--> \u001b[39m\u001b[32m287\u001b[39m \u001b[38;5;28;01mraise\u001b[39;00m BreakpointException(\n\u001b[32m    288\u001b[39m     message=msg,\n\u001b[32m    289\u001b[39m     component=break_point.component_name,\n\u001b[32m    290\u001b[39m     state=state_inputs,\n\u001b[32m    291\u001b[39m     results=state.data,\n\u001b[32m    292\u001b[39m )\n",
      "\u001b[31mBreakpointException\u001b[39m: Breaking at chat_generator visit count 0",
      "\nThe above exception was the direct cause of the following exception:\n",
      "\u001b[31mPipelineRuntimeError\u001b[39m                      Traceback (most recent call last)",
      "\u001b[36mCell\u001b[39m\u001b[36m \u001b[39m\u001b[32mIn[7]\u001b[39m\u001b[32m, line 4\u001b[39m\n\u001b[32m      2\u001b[39m agent_breakpoint = AgentBreakpoint(break_point=agent_generator_breakpoint, agent_name=\u001b[33m'\u001b[39m\u001b[33mdatabase_agent\u001b[39m\u001b[33m'\u001b[39m)\n\u001b[32m      3\u001b[39m debug_path = \u001b[33m\"\u001b[39m\u001b[33msaving_snapshots\u001b[39m\u001b[33m\"\u001b[39m\n\u001b[32m----> \u001b[39m\u001b[32m4\u001b[39m \u001b[43mpipeline_with_agent\u001b[49m\u001b[43m.\u001b[49m\u001b[43mrun\u001b[49m\u001b[43m(\u001b[49m\n\u001b[32m      5\u001b[39m \u001b[43m    \u001b[49m\u001b[43mdata\u001b[49m\u001b[43m=\u001b[49m\u001b[43m{\u001b[49m\u001b[33;43m\"\u001b[39;49m\u001b[33;43mfetcher\u001b[39;49m\u001b[33;43m\"\u001b[39;49m\u001b[43m:\u001b[49m\u001b[43m \u001b[49m\u001b[43m{\u001b[49m\u001b[33;43m\"\u001b[39;49m\u001b[33;43murls\u001b[39;49m\u001b[33;43m\"\u001b[39;49m\u001b[43m:\u001b[49m\u001b[43m \u001b[49m\u001b[43m[\u001b[49m\u001b[33;43m\"\u001b[39;49m\u001b[33;43mhttps://en.wikipedia.org/wiki/Deepset\u001b[39;49m\u001b[33;43m\"\u001b[39;49m\u001b[43m]\u001b[49m\u001b[43m}\u001b[49m\u001b[43m}\u001b[49m\u001b[43m,\u001b[49m\n\u001b[32m      6\u001b[39m \u001b[43m    \u001b[49m\u001b[43mbreak_point\u001b[49m\u001b[43m=\u001b[49m\u001b[43magent_breakpoint\u001b[49m\u001b[43m,\u001b[49m\n\u001b[32m      7\u001b[39m \u001b[43m    \u001b[49m\u001b[43mdebug_path\u001b[49m\u001b[43m=\u001b[49m\u001b[43mdebug_path\u001b[49m\u001b[43m,\u001b[49m\n\u001b[32m      8\u001b[39m \u001b[43m)\u001b[49m\n",
      "\u001b[36mFile \u001b[39m\u001b[32m~/haystack-cookbook/.venv/lib/python3.13/site-packages/haystack_experimental/core/pipeline/pipeline.py:339\u001b[39m, in \u001b[36mPipeline.run\u001b[39m\u001b[34m(self, data, include_outputs_from, break_point, resume_state, debug_path)\u001b[39m\n\u001b[32m    336\u001b[39m     component_inputs[\u001b[33m\"\u001b[39m\u001b[33mresume_state\u001b[39m\u001b[33m\"\u001b[39m] = resume_state\n\u001b[32m    337\u001b[39m     component_inputs[\u001b[33m\"\u001b[39m\u001b[33mbreak_point\u001b[39m\u001b[33m\"\u001b[39m] = \u001b[38;5;28;01mNone\u001b[39;00m\n\u001b[32m--> \u001b[39m\u001b[32m339\u001b[39m component_outputs = \u001b[38;5;28;43mself\u001b[39;49m\u001b[43m.\u001b[49m\u001b[43m_run_component\u001b[49m\u001b[43m(\u001b[49m\n\u001b[32m    340\u001b[39m \u001b[43m    \u001b[49m\u001b[43mcomponent_name\u001b[49m\u001b[43m=\u001b[49m\u001b[43mcomponent_name\u001b[49m\u001b[43m,\u001b[49m\n\u001b[32m    341\u001b[39m \u001b[43m    \u001b[49m\u001b[43mcomponent\u001b[49m\u001b[43m=\u001b[49m\u001b[43mcomponent\u001b[49m\u001b[43m,\u001b[49m\n\u001b[32m    342\u001b[39m \u001b[43m    \u001b[49m\u001b[43minputs\u001b[49m\u001b[43m=\u001b[49m\u001b[43mcomponent_inputs\u001b[49m\u001b[43m,\u001b[49m\u001b[43m  \u001b[49m\u001b[38;5;66;43;03m# the inputs to the current component\u001b[39;49;00m\n\u001b[32m    343\u001b[39m \u001b[43m    \u001b[49m\u001b[43mcomponent_visits\u001b[49m\u001b[43m=\u001b[49m\u001b[43mcomponent_visits\u001b[49m\u001b[43m,\u001b[49m\n\u001b[32m    344\u001b[39m \u001b[43m    \u001b[49m\u001b[43mparent_span\u001b[49m\u001b[43m=\u001b[49m\u001b[43mspan\u001b[49m\u001b[43m,\u001b[49m\n\u001b[32m    345\u001b[39m \u001b[43m\u001b[49m\u001b[43m)\u001b[49m\n\u001b[32m    347\u001b[39m \u001b[38;5;66;03m# Updates global input state with component outputs and returns outputs that should go to\u001b[39;00m\n\u001b[32m    348\u001b[39m \u001b[38;5;66;03m# pipeline outputs.\u001b[39;00m\n\u001b[32m    349\u001b[39m component_pipeline_outputs = \u001b[38;5;28mself\u001b[39m._write_component_outputs(\n\u001b[32m    350\u001b[39m     component_name=component_name,\n\u001b[32m    351\u001b[39m     component_outputs=component_outputs,\n\u001b[32m   (...)\u001b[39m\u001b[32m    354\u001b[39m     include_outputs_from=include_outputs_from,\n\u001b[32m    355\u001b[39m )\n",
      "\u001b[36mFile \u001b[39m\u001b[32m~/haystack-cookbook/.venv/lib/python3.13/site-packages/haystack/core/pipeline/pipeline.py:62\u001b[39m, in \u001b[36mPipeline._run_component\u001b[39m\u001b[34m(component_name, component, inputs, component_visits, parent_span)\u001b[39m\n\u001b[32m     60\u001b[39m     component_output = instance.run(**inputs)\n\u001b[32m     61\u001b[39m \u001b[38;5;28;01mexcept\u001b[39;00m \u001b[38;5;167;01mException\u001b[39;00m \u001b[38;5;28;01mas\u001b[39;00m error:\n\u001b[32m---> \u001b[39m\u001b[32m62\u001b[39m     \u001b[38;5;28;01mraise\u001b[39;00m PipelineRuntimeError.from_exception(component_name, instance.\u001b[34m__class__\u001b[39m, error) \u001b[38;5;28;01mfrom\u001b[39;00m\u001b[38;5;250m \u001b[39m\u001b[34;01merror\u001b[39;00m\n\u001b[32m     63\u001b[39m component_visits[component_name] += \u001b[32m1\u001b[39m\n\u001b[32m     65\u001b[39m \u001b[38;5;28;01mif\u001b[39;00m \u001b[38;5;129;01mnot\u001b[39;00m \u001b[38;5;28misinstance\u001b[39m(component_output, Mapping):\n",
      "\u001b[31mPipelineRuntimeError\u001b[39m: The following component failed to run:\nComponent name: 'database_agent'\nComponent type: 'Agent'\nError: Breaking at chat_generator visit count 0"
     ]
    }
   ],
   "source": [
    "from haystack_experimental.dataclasses.breakpoints import AgentBreakpoint, Breakpoint, ToolBreakpoint\n",
    "\n",
    "agent_generator_breakpoint = Breakpoint(\"chat_generator\", 0)\n",
    "agent_breakpoint = AgentBreakpoint(break_point=agent_generator_breakpoint, agent_name='database_agent')\n",
    "debug_path = \"Your debug path\"\n",
    "pipeline_with_agent.run(\n",
    "    data={\"fetcher\": {\"urls\": [\"https://en.wikipedia.org/wiki/Deepset\"]}},\n",
    "    break_point=agent_breakpoint,\n",
    "    debug_path=debug_path,\n",
    ")\n"
   ]
  },
  {
   "cell_type": "markdown",
   "metadata": {},
   "source": [
    "We can also place a breakpoint on the `tool` used by the `Agent`. This allows us to interrupt the pipeline execution at the point where the `tool` is invoked by the `tool_invoker`.\n",
    "\n",
    "To achieve this, we initialize a `ToolBreakpoint` with the name of the target tool, wrap it with an `AgentBreakpoint`, and then run the pipeline with the configured breakpoint."
   ]
  },
  {
   "cell_type": "code",
   "execution_count": null,
   "metadata": {},
   "outputs": [
    {
     "ename": "PipelineRuntimeError",
     "evalue": "The following component failed to run:\nComponent name: 'database_agent'\nComponent type: 'Agent'\nError: Breaking at tool_invoker visit count 0",
     "output_type": "error",
     "traceback": [
      "\u001b[31m---------------------------------------------------------------------------\u001b[39m",
      "\u001b[31mBreakpointException\u001b[39m                       Traceback (most recent call last)",
      "\u001b[36mFile \u001b[39m\u001b[32m~/haystack-cookbook/.venv/lib/python3.13/site-packages/haystack/core/pipeline/pipeline.py:60\u001b[39m, in \u001b[36mPipeline._run_component\u001b[39m\u001b[34m(component_name, component, inputs, component_visits, parent_span)\u001b[39m\n\u001b[32m     59\u001b[39m \u001b[38;5;28;01mtry\u001b[39;00m:\n\u001b[32m---> \u001b[39m\u001b[32m60\u001b[39m     component_output = \u001b[43minstance\u001b[49m\u001b[43m.\u001b[49m\u001b[43mrun\u001b[49m\u001b[43m(\u001b[49m\u001b[43m*\u001b[49m\u001b[43m*\u001b[49m\u001b[43minputs\u001b[49m\u001b[43m)\u001b[49m\n\u001b[32m     61\u001b[39m \u001b[38;5;28;01mexcept\u001b[39;00m \u001b[38;5;167;01mException\u001b[39;00m \u001b[38;5;28;01mas\u001b[39;00m error:\n",
      "\u001b[36mFile \u001b[39m\u001b[32m~/haystack-cookbook/.venv/lib/python3.13/site-packages/haystack_experimental/components/agents/agent.py:458\u001b[39m, in \u001b[36mAgent.run\u001b[39m\u001b[34m(self, messages, streaming_callback, break_point, resume_state, debug_path, **kwargs)\u001b[39m\n\u001b[32m    456\u001b[39m \u001b[38;5;28;01mwhile\u001b[39;00m counter < \u001b[38;5;28mself\u001b[39m.max_agent_steps:\n\u001b[32m    457\u001b[39m     \u001b[38;5;66;03m# check for breakpoint before ChatGenerator\u001b[39;00m\n\u001b[32m--> \u001b[39m\u001b[32m458\u001b[39m     \u001b[38;5;28;43mself\u001b[39;49m\u001b[43m.\u001b[49m\u001b[43m_check_chat_generator_breakpoint\u001b[49m\u001b[43m(\u001b[49m\n\u001b[32m    459\u001b[39m \u001b[43m        \u001b[49m\u001b[43mbreak_point\u001b[49m\u001b[43m,\u001b[49m\n\u001b[32m    460\u001b[39m \u001b[43m        \u001b[49m\u001b[43mcomponent_visits\u001b[49m\u001b[43m,\u001b[49m\n\u001b[32m    461\u001b[39m \u001b[43m        \u001b[49m\u001b[43mmessages\u001b[49m\u001b[43m,\u001b[49m\n\u001b[32m    462\u001b[39m \u001b[43m        \u001b[49m\u001b[43mgenerator_inputs\u001b[49m\u001b[43m,\u001b[49m\n\u001b[32m    463\u001b[39m \u001b[43m        \u001b[49m\u001b[43mdebug_path\u001b[49m\u001b[43m,\u001b[49m\n\u001b[32m    464\u001b[39m \u001b[43m        \u001b[49m\u001b[43mkwargs\u001b[49m\u001b[43m,\u001b[49m\n\u001b[32m    465\u001b[39m \u001b[43m        \u001b[49m\u001b[43mstate\u001b[49m\u001b[43m,\u001b[49m\n\u001b[32m    466\u001b[39m \u001b[43m    \u001b[49m\u001b[43m)\u001b[49m\n\u001b[32m    468\u001b[39m     \u001b[38;5;66;03m# 1. Call the ChatGenerator\u001b[39;00m\n",
      "\u001b[36mFile \u001b[39m\u001b[32m~/haystack-cookbook/.venv/lib/python3.13/site-packages/haystack_experimental/components/agents/agent.py:287\u001b[39m, in \u001b[36mAgent._check_chat_generator_breakpoint\u001b[39m\u001b[34m(self, agent_breakpoint, component_visits, messages, generator_inputs, debug_path, kwargs, state)\u001b[39m\n\u001b[32m    286\u001b[39m logger.info(msg)\n\u001b[32m--> \u001b[39m\u001b[32m287\u001b[39m \u001b[38;5;28;01mraise\u001b[39;00m BreakpointException(\n\u001b[32m    288\u001b[39m     message=msg,\n\u001b[32m    289\u001b[39m     component=break_point.component_name,\n\u001b[32m    290\u001b[39m     state=state_inputs,\n\u001b[32m    291\u001b[39m     results=state.data,\n\u001b[32m    292\u001b[39m )\n",
      "\u001b[31mBreakpointException\u001b[39m: Breaking at tool_invoker visit count 0",
      "\nThe above exception was the direct cause of the following exception:\n",
      "\u001b[31mPipelineRuntimeError\u001b[39m                      Traceback (most recent call last)",
      "\u001b[36mCell\u001b[39m\u001b[36m \u001b[39m\u001b[32mIn[11]\u001b[39m\u001b[32m, line 5\u001b[39m\n\u001b[32m      2\u001b[39m agent_breakpoint = AgentBreakpoint(break_point=agent_tool_breakpoint, agent_name = \u001b[33m'\u001b[39m\u001b[33mdatabase_agent\u001b[39m\u001b[33m'\u001b[39m)\n\u001b[32m      4\u001b[39m debug_path = \u001b[33m\"\u001b[39m\u001b[33msaving_snapshots\u001b[39m\u001b[33m\"\u001b[39m\n\u001b[32m----> \u001b[39m\u001b[32m5\u001b[39m \u001b[43mpipeline_with_agent\u001b[49m\u001b[43m.\u001b[49m\u001b[43mrun\u001b[49m\u001b[43m(\u001b[49m\n\u001b[32m      6\u001b[39m \u001b[43m    \u001b[49m\u001b[43mdata\u001b[49m\u001b[43m=\u001b[49m\u001b[43m{\u001b[49m\u001b[33;43m\"\u001b[39;49m\u001b[33;43mfetcher\u001b[39;49m\u001b[33;43m\"\u001b[39;49m\u001b[43m:\u001b[49m\u001b[43m \u001b[49m\u001b[43m{\u001b[49m\u001b[33;43m\"\u001b[39;49m\u001b[33;43murls\u001b[39;49m\u001b[33;43m\"\u001b[39;49m\u001b[43m:\u001b[49m\u001b[43m \u001b[49m\u001b[43m[\u001b[49m\u001b[33;43m\"\u001b[39;49m\u001b[33;43mhttps://en.wikipedia.org/wiki/Deepset\u001b[39;49m\u001b[33;43m\"\u001b[39;49m\u001b[43m]\u001b[49m\u001b[43m}\u001b[49m\u001b[43m}\u001b[49m\u001b[43m,\u001b[49m\n\u001b[32m      7\u001b[39m \u001b[43m    \u001b[49m\u001b[43mbreak_point\u001b[49m\u001b[43m=\u001b[49m\u001b[43magent_breakpoint\u001b[49m\u001b[43m,\u001b[49m\n\u001b[32m      8\u001b[39m \u001b[43m    \u001b[49m\u001b[43mdebug_path\u001b[49m\u001b[43m=\u001b[49m\u001b[43mdebug_path\u001b[49m\u001b[43m,\u001b[49m\n\u001b[32m      9\u001b[39m \u001b[43m)\u001b[49m\n",
      "\u001b[36mFile \u001b[39m\u001b[32m~/haystack-cookbook/.venv/lib/python3.13/site-packages/haystack_experimental/core/pipeline/pipeline.py:339\u001b[39m, in \u001b[36mPipeline.run\u001b[39m\u001b[34m(self, data, include_outputs_from, break_point, resume_state, debug_path)\u001b[39m\n\u001b[32m    336\u001b[39m     component_inputs[\u001b[33m\"\u001b[39m\u001b[33mresume_state\u001b[39m\u001b[33m\"\u001b[39m] = resume_state\n\u001b[32m    337\u001b[39m     component_inputs[\u001b[33m\"\u001b[39m\u001b[33mbreak_point\u001b[39m\u001b[33m\"\u001b[39m] = \u001b[38;5;28;01mNone\u001b[39;00m\n\u001b[32m--> \u001b[39m\u001b[32m339\u001b[39m component_outputs = \u001b[38;5;28;43mself\u001b[39;49m\u001b[43m.\u001b[49m\u001b[43m_run_component\u001b[49m\u001b[43m(\u001b[49m\n\u001b[32m    340\u001b[39m \u001b[43m    \u001b[49m\u001b[43mcomponent_name\u001b[49m\u001b[43m=\u001b[49m\u001b[43mcomponent_name\u001b[49m\u001b[43m,\u001b[49m\n\u001b[32m    341\u001b[39m \u001b[43m    \u001b[49m\u001b[43mcomponent\u001b[49m\u001b[43m=\u001b[49m\u001b[43mcomponent\u001b[49m\u001b[43m,\u001b[49m\n\u001b[32m    342\u001b[39m \u001b[43m    \u001b[49m\u001b[43minputs\u001b[49m\u001b[43m=\u001b[49m\u001b[43mcomponent_inputs\u001b[49m\u001b[43m,\u001b[49m\u001b[43m  \u001b[49m\u001b[38;5;66;43;03m# the inputs to the current component\u001b[39;49;00m\n\u001b[32m    343\u001b[39m \u001b[43m    \u001b[49m\u001b[43mcomponent_visits\u001b[49m\u001b[43m=\u001b[49m\u001b[43mcomponent_visits\u001b[49m\u001b[43m,\u001b[49m\n\u001b[32m    344\u001b[39m \u001b[43m    \u001b[49m\u001b[43mparent_span\u001b[49m\u001b[43m=\u001b[49m\u001b[43mspan\u001b[49m\u001b[43m,\u001b[49m\n\u001b[32m    345\u001b[39m \u001b[43m\u001b[49m\u001b[43m)\u001b[49m\n\u001b[32m    347\u001b[39m \u001b[38;5;66;03m# Updates global input state with component outputs and returns outputs that should go to\u001b[39;00m\n\u001b[32m    348\u001b[39m \u001b[38;5;66;03m# pipeline outputs.\u001b[39;00m\n\u001b[32m    349\u001b[39m component_pipeline_outputs = \u001b[38;5;28mself\u001b[39m._write_component_outputs(\n\u001b[32m    350\u001b[39m     component_name=component_name,\n\u001b[32m    351\u001b[39m     component_outputs=component_outputs,\n\u001b[32m   (...)\u001b[39m\u001b[32m    354\u001b[39m     include_outputs_from=include_outputs_from,\n\u001b[32m    355\u001b[39m )\n",
      "\u001b[36mFile \u001b[39m\u001b[32m~/haystack-cookbook/.venv/lib/python3.13/site-packages/haystack/core/pipeline/pipeline.py:62\u001b[39m, in \u001b[36mPipeline._run_component\u001b[39m\u001b[34m(component_name, component, inputs, component_visits, parent_span)\u001b[39m\n\u001b[32m     60\u001b[39m     component_output = instance.run(**inputs)\n\u001b[32m     61\u001b[39m \u001b[38;5;28;01mexcept\u001b[39;00m \u001b[38;5;167;01mException\u001b[39;00m \u001b[38;5;28;01mas\u001b[39;00m error:\n\u001b[32m---> \u001b[39m\u001b[32m62\u001b[39m     \u001b[38;5;28;01mraise\u001b[39;00m PipelineRuntimeError.from_exception(component_name, instance.\u001b[34m__class__\u001b[39m, error) \u001b[38;5;28;01mfrom\u001b[39;00m\u001b[38;5;250m \u001b[39m\u001b[34;01merror\u001b[39;00m\n\u001b[32m     63\u001b[39m component_visits[component_name] += \u001b[32m1\u001b[39m\n\u001b[32m     65\u001b[39m \u001b[38;5;28;01mif\u001b[39;00m \u001b[38;5;129;01mnot\u001b[39;00m \u001b[38;5;28misinstance\u001b[39m(component_output, Mapping):\n",
      "\u001b[31mPipelineRuntimeError\u001b[39m: The following component failed to run:\nComponent name: 'database_agent'\nComponent type: 'Agent'\nError: Breaking at tool_invoker visit count 0"
     ]
    }
   ],
   "source": [
    "agent_tool_breakpoint = ToolBreakpoint(\"tool_invoker\", 0, \"add_database_tool\")\n",
    "agent_breakpoint = AgentBreakpoint(break_point=agent_tool_breakpoint, agent_name = 'database_agent')\n",
    "\n",
    "debug_path = \"Your debug path\"\n",
    "pipeline_with_agent.run(\n",
    "    data={\"fetcher\": {\"urls\": [\"https://en.wikipedia.org/wiki/Deepset\"]}},\n",
    "    break_point=agent_breakpoint,\n",
    "    debug_path=debug_path,\n",
    ")"
   ]
  },
  {
   "cell_type": "markdown",
   "metadata": {},
   "source": [
    "## Resuming from a break point\n",
    "\n",
    "Once a pipeline execution has been interrupted, we can resume the `pipeline_with_agent` from that saved state.\n",
    "\n",
    "To do this:\n",
    "- Use `load_state()` to load the saved pipeline state from disk. This function converts the stored JSON file back into a Python dictionary representing the intermediate state.\n",
    "- Pass this state as an argument to the `Pipeline.run()` method.\n",
    "\n",
    "The pipeline will resume execution from where it left off and continue until completion."
   ]
  },
  {
   "cell_type": "code",
   "execution_count": 8,
   "metadata": {},
   "outputs": [],
   "source": [
    "from haystack_experimental.core.pipeline.breakpoint import load_state\n",
    "\n",
    "# resume the pipeline from the saved state\n",
    "resume_state = load_state(\"saving_snapshots/database_agent_chat_generator_2025_07_15_14_34_37.json\")\n",
    "\n",
    "result = pipeline_with_agent.run(\n",
    "    data={},\n",
    "    resume_state=resume_state\n",
    ")"
   ]
  },
  {
   "cell_type": "code",
   "execution_count": null,
   "metadata": {},
   "outputs": [],
   "source": [
    "print (result[\"database_agent\"][\"messages\"])"
   ]
  }
 ],
 "metadata": {
  "kernelspec": {
   "display_name": ".venv",
   "language": "python",
   "name": "python3"
  },
  "language_info": {
   "codemirror_mode": {
    "name": "ipython",
    "version": 3
   },
   "file_extension": ".py",
   "mimetype": "text/x-python",
   "name": "python",
   "nbconvert_exporter": "python",
   "pygments_lexer": "ipython3",
   "version": "3.13.5"
  }
 },
 "nbformat": 4,
 "nbformat_minor": 4
}
