{
  "cells": [
    {
      "cell_type": "markdown",
      "metadata": {
        "id": "PwkLlhmsoqnB"
      },
      "source": [
        "# Advanced RAG: Query Expansion\n",
        "_by Tuana Celik ([LI](https://www.linkedin.com/in/tuanacelik/),  [Twitter/X](https://x.com/tuanacelik))_\n",
        "\n",
        "> This is part one of the **Advanced Use Cases** series:\n",
        ">\n",
        "> 1️⃣ Extract Metadata from Queries to Improve Retrieval [cookbook](/cookbook/extracting_metadata_filters_from_a_user_query) & [full article](/blog/extracting-metadata-filter)\n",
        ">\n",
        "> 2️⃣ **Query Expansion & the [full article](/blog/query-expansion)**\n",
        ">\n",
        "> 3️⃣ Query Decomposition [cookbook](/cookbook/query_decomposition) & [full article](/blog/query-decomposition)\n",
        ">\n",
        "> 4️⃣ [Automated Metadata Enrichment](/cookbook/metadata_enrichment)\n",
        "\n",
        "In this cookbook, you'll learn how to implement query expansion for RAG. Query expansion consists of asking an LLM to produce a number of similar queries to a user query. We are then able to use each of these queries in the retrieval process, increasing the number and relevance of retrieved documents.\n",
        "\n",
        "📚 [Read the full article](https://haystack.deepset.ai/blog/query-expansion)"
      ]
    },
    {
      "cell_type": "code",
      "execution_count": null,
      "metadata": {
        "colab": {
          "base_uri": "https://localhost:8080/"
        },
        "id": "JOJ-QAgRTf98",
        "outputId": "240f2beb-3121-41e4-b3f4-ad8c226e71b0"
      },
      "outputs": [],
      "source": [
        "!pip install haystack-ai wikipedia"
      ]
    },
    {
      "cell_type": "code",
      "execution_count": 4,
      "metadata": {
        "id": "yrVx-gYoYf6Q"
      },
      "outputs": [],
      "source": [
        "import wikipedia\n",
        "import json\n",
        "\n",
        "from typing import List, Optional\n",
        "from haystack import Pipeline, component\n",
        "\n",
        "from haystack.components.builders import PromptBuilder\n",
        "from haystack.components.generators import OpenAIGenerator\n",
        "from haystack.components.preprocessors import DocumentCleaner, DocumentSplitter\n",
        "from haystack.components.retrievers import InMemoryBM25Retriever\n",
        "from haystack.components.writers import DocumentWriter\n",
        "\n",
        "from haystack.dataclasses import Document\n",
        "\n",
        "from haystack.document_stores.in_memory import InMemoryDocumentStore\n",
        "from haystack.document_stores.types import DuplicatePolicy"
      ]
    },
    {
      "cell_type": "code",
      "execution_count": 3,
      "metadata": {
        "colab": {
          "base_uri": "https://localhost:8080/"
        },
        "id": "_SUCwtYcXDgA",
        "outputId": "eeebb0f7-5754-4d54-95bb-255971bf1e15"
      },
      "outputs": [],
      "source": [
        "import os\n",
        "from getpass import getpass\n",
        "\n",
        "if \"OPENAI_API_KEY\" not in os.environ:\n",
        "  os.environ['OPENAI_API_KEY'] = getpass(\"Your OpenAI API Key: \")"
      ]
    },
    {
      "cell_type": "markdown",
      "metadata": {
        "id": "j4gDkMDCsbpQ"
      },
      "source": [
        "## The Process of Query Expansion\n",
        "\n",
        "First, let's create a `QueryExpander`. This component is going to be able to create a `number` (defaults to 5) of additional queries, similar to the original user query. It returns `queries` that has the original query + `number` of similar queries."
      ]
    },
    {
      "cell_type": "code",
      "execution_count": 5,
      "metadata": {
        "id": "qM5tZEnATjeN"
      },
      "outputs": [],
      "source": [
        "@component\n",
        "class QueryExpander:\n",
        "\n",
        "    def __init__(self, prompt: Optional[str] = None, model: str = \"gpt-4o-mini\"):\n",
        "\n",
        "        self.query_expansion_prompt = prompt\n",
        "        self.model = model\n",
        "        if prompt == None:\n",
        "          self.query_expansion_prompt = \"\"\"\n",
        "          You are part of an information system that processes users queries.\n",
        "          You expand a given query into {{ number }} queries that are similar in meaning.\n",
        "          \n",
        "          Structure:\n",
        "          Follow the structure shown below in examples to generate expanded queries.\n",
        "          Examples:\n",
        "          1. Example Query 1: \"climate change effects\"\n",
        "          Example Expanded Queries: [\"impact of climate change\", \"consequences of global warming\", \"effects of environmental changes\"]\n",
        "          \n",
        "          2. Example Query 2: \"\"machine learning algorithms\"\"\n",
        "          Example Expanded Queries: [\"neural networks\", \"clustering\", \"supervised learning\", \"deep learning\"]\n",
        "          \n",
        "          Your Task:\n",
        "          Query: \"{{query}}\"\n",
        "          Example Expanded Queries:\n",
        "          \"\"\"\n",
        "        builder = PromptBuilder(self.query_expansion_prompt)\n",
        "        llm = OpenAIGenerator(model = self.model)\n",
        "        self.pipeline = Pipeline()\n",
        "        self.pipeline.add_component(name=\"builder\", instance=builder)\n",
        "        self.pipeline.add_component(name=\"llm\", instance=llm)\n",
        "        self.pipeline.connect(\"builder\", \"llm\")\n",
        "\n",
        "    @component.output_types(queries=List[str])\n",
        "    def run(self, query: str, number: int = 5):\n",
        "        result = self.pipeline.run({'builder': {'query': query, 'number': number}})\n",
        "        expanded_query = json.loads(result['llm']['replies'][0]) + [query]\n",
        "        return {\"queries\": list(expanded_query)}"
      ]
    },
    {
      "cell_type": "code",
      "execution_count": 6,
      "metadata": {
        "colab": {
          "base_uri": "https://localhost:8080/"
        },
        "id": "hHrfU-UeTmEw",
        "outputId": "6f71c534-5e73-48f4-eb54-5facf2a4afcd"
      },
      "outputs": [
        {
          "data": {
            "text/plain": [
              "{'queries': ['natural language processing tools',\n",
              "  'free nlp libraries',\n",
              "  'open-source language processing software',\n",
              "  'nlp frameworks with open licensing',\n",
              "  'open source nlp frameworks']}"
            ]
          },
          "execution_count": 6,
          "metadata": {},
          "output_type": "execute_result"
        }
      ],
      "source": [
        "expander = QueryExpander()\n",
        "expander.run(query=\"open source nlp frameworks\", number=4)"
      ]
    },
    {
      "cell_type": "markdown",
      "metadata": {
        "id": "gsADarYUvurh"
      },
      "source": [
        "## Retrieval Without Query Expansion"
      ]
    },
    {
      "cell_type": "code",
      "execution_count": 5,
      "metadata": {
        "id": "slZF_6sgTp2U"
      },
      "outputs": [],
      "source": [
        "documents = [\n",
        "    Document(content=\"The effects of climate are many including loss of biodiversity\"),\n",
        "    Document(content=\"The impact of climate change is evident in the melting of the polar ice caps.\"),\n",
        "    Document(content=\"Consequences of global warming include the rise in sea levels.\"),\n",
        "    Document(content=\"One of the effects of environmental changes is the change in weather patterns.\"),\n",
        "    Document(content=\"There is a global call to reduce the amount of air travel people take.\"),\n",
        "    Document(content=\"Air travel is one of the core contributors to climate change.\"),\n",
        "    Document(content=\"Expect warm climates in Turkey during the summer period.\"),\n",
        "]\n",
        "\n",
        "doc_store = InMemoryDocumentStore(embedding_similarity_function=\"cosine\")\n",
        "doc_store.write_documents(documents)\n",
        "\n",
        "retriever = InMemoryBM25Retriever(document_store=doc_store, top_k=3)\n",
        "\n",
        "retrieval_pipeline = Pipeline()\n",
        "retrieval_pipeline.add_component(\"keyword_retriever\", retriever)"
      ]
    },
    {
      "cell_type": "code",
      "execution_count": 10,
      "metadata": {
        "colab": {
          "base_uri": "https://localhost:8080/"
        },
        "id": "8j6a-BL9oI8E",
        "outputId": "3626d26f-a640-470a-d964-b083051c97ad"
      },
      "outputs": [
        {
          "data": {
            "text/plain": [
              "{'keyword_retriever': {'documents': [Document(id=8b306c8303c59508a53e5139b4e688c3817fa0211b095bcc77ab3823defa0b32, content: 'Air travel is one of the core contributors to climate change.', score: 2.023895027544814),\n",
              "   Document(id=aa996058ca5b30d8b469d33e992e094058e707bfb0cf057ee1d5b55ac4320234, content: 'The impact of climate change is evident in the melting of the polar ice caps.', score: 1.8661960327485192),\n",
              "   Document(id=4d5f7ef8df12c93cb5728cc0247bf95282a14017ce9d0b35486091f8972347a5, content: 'The effects of climate are many including loss of biodiversity', score: 1.5532314806726806)]}}"
            ]
          },
          "execution_count": 10,
          "metadata": {},
          "output_type": "execute_result"
        }
      ],
      "source": [
        "query = \"climate change\"\n",
        "retrieval_pipeline.run({\"keyword_retriever\":{ \"query\": query, \"top_k\": 3}})"
      ]
    },
    {
      "cell_type": "markdown",
      "metadata": {
        "id": "ZpJ0juxX0J-B"
      },
      "source": [
        "## Retrieval With Query Expansion\n",
        "\n",
        "Now let's have a look at what documents we are able to retrieve if we are to inluce query expansion in the process. For this step, let's create a `MultiQueryInMemoryBM25Retriever` that is able to use BM25 retrieval for each (expansded) query in turn.\n",
        "\n",
        "This component also handles the same document being retrieved for multiple queries and will not return duplicates."
      ]
    },
    {
      "cell_type": "code",
      "execution_count": 5,
      "metadata": {
        "id": "6zZrkocErf3N"
      },
      "outputs": [],
      "source": [
        "@component\n",
        "class MultiQueryInMemoryBM25Retriever:\n",
        "\n",
        "    def __init__(self, retriever: InMemoryBM25Retriever, top_k: int = 3):\n",
        "\n",
        "        self.retriever = retriever\n",
        "        self.results = []\n",
        "        self.ids = set()\n",
        "        self.top_k = top_k\n",
        "\n",
        "    def add_document(self, document: Document):\n",
        "        if document.id not in self.ids:\n",
        "            self.results.append(document)\n",
        "            self.ids.add(document.id)\n",
        "\n",
        "    @component.output_types(documents=List[Document])\n",
        "    def run(self, queries: List[str], top_k: int = None):\n",
        "        if top_k != None:\n",
        "          self.top_k = top_k\n",
        "        for query in queries:\n",
        "          result = self.retriever.run(query = query, top_k = self.top_k)\n",
        "          for doc in result['documents']:\n",
        "            self.add_document(doc)\n",
        "        self.results.sort(key=lambda x: x.score, reverse=True)\n",
        "        return {\"documents\": self.results}"
      ]
    },
    {
      "cell_type": "code",
      "execution_count": 13,
      "metadata": {
        "colab": {
          "base_uri": "https://localhost:8080/"
        },
        "id": "EhL3bQTFoWDK",
        "outputId": "f6f51241-db88-4467-b534-ce9c7e40a0d7"
      },
      "outputs": [
        {
          "data": {
            "text/plain": [
              "<haystack.core.pipeline.pipeline.Pipeline object at 0x7cc65044f010>\n",
              "🚅 Components\n",
              "  - expander: QueryExpander\n",
              "  - keyword_retriever: MultiQueryInMemoryBM25Retriever\n",
              "🛤️ Connections\n",
              "  - expander.queries -> keyword_retriever.queries (List[str])"
            ]
          },
          "execution_count": 13,
          "metadata": {},
          "output_type": "execute_result"
        }
      ],
      "source": [
        "query_expander = QueryExpander()\n",
        "retriever = MultiQueryInMemoryBM25Retriever(InMemoryBM25Retriever(document_store=doc_store))\n",
        "\n",
        "expanded_retrieval_pipeline = Pipeline()\n",
        "expanded_retrieval_pipeline.add_component(\"expander\", query_expander)\n",
        "expanded_retrieval_pipeline.add_component(\"keyword_retriever\", retriever)\n",
        "\n",
        "expanded_retrieval_pipeline.connect(\"expander.queries\", \"keyword_retriever.queries\")"
      ]
    },
    {
      "cell_type": "code",
      "execution_count": 15,
      "metadata": {
        "colab": {
          "base_uri": "https://localhost:8080/"
        },
        "id": "FJXF9nHYsym0",
        "outputId": "f6f2fc33-d6ec-4bca-f2ae-07fdc20f6d31"
      },
      "outputs": [
        {
          "data": {
            "text/plain": [
              "{'keyword_retriever': {'documents': [Document(id=0901b034998c7263f74ac60cad5d9d520df524e59b045f3afab8e6cf1710791d, content: 'Consequences of global warming include the rise in sea levels.', score: 4.284392003065215),\n",
              "   Document(id=aa996058ca5b30d8b469d33e992e094058e707bfb0cf057ee1d5b55ac4320234, content: 'The impact of climate change is evident in the melting of the polar ice caps.', score: 3.9819402104550026),\n",
              "   Document(id=40fcd5a4a3670b7e105db664783c076167bb699cade9aa7fd6d409fac2efb49e, content: 'There is a global call to reduce the amount of air travel people take.', score: 3.4560290926489516),\n",
              "   Document(id=4d5f7ef8df12c93cb5728cc0247bf95282a14017ce9d0b35486091f8972347a5, content: 'The effects of climate are many including loss of biodiversity', score: 3.2316583763625335),\n",
              "   Document(id=395d2da61fff546098eec2838da741033d71fef84dfa7a91fc40b1d275631933, content: 'One of the effects of environmental changes is the change in weather patterns.', score: 3.136763077795208),\n",
              "   Document(id=8b306c8303c59508a53e5139b4e688c3817fa0211b095bcc77ab3823defa0b32, content: 'Air travel is one of the core contributors to climate change.', score: 2.0581827847547016)]},\n",
              " 'expander': {'queries': ['global warming consequences',\n",
              "   'environmental impact of climate change',\n",
              "   'effects of climate variability',\n",
              "   'implications of climate crisis',\n",
              "   'consequences of greenhouse gas emissions',\n",
              "   'climate change']}}"
            ]
          },
          "execution_count": 15,
          "metadata": {},
          "output_type": "execute_result"
        }
      ],
      "source": [
        "expanded_retrieval_pipeline.run({\"expander\": {\"query\": query}}, include_outputs_from=[\"expander\"])"
      ]
    },
    {
      "cell_type": "markdown",
      "metadata": {
        "id": "TYwbeS1-zIt5"
      },
      "source": [
        "## Query Expansion for RAG\n",
        "\n",
        "Let's start off by populating a document store with chunks of context from various Wikipedia pages."
      ]
    },
    {
      "cell_type": "code",
      "execution_count": 7,
      "metadata": {
        "id": "zSxqDIoKvUih"
      },
      "outputs": [],
      "source": [
        "def get_doc_store():\n",
        "    raw_docs = []\n",
        "    wikipedia_page_titles = [\"Electric_vehicle\", \"Dam\", \"Electric_battery\", \"Tree\", \"Solar_panel\", \"Nuclear_power\",\n",
        "                             \"Wind_power\", \"Hydroelectricity\", \"Coal\", \"Natural_gas\", \"Greenhouse_gas\", \"Renewable_energy\",\n",
        "                             \"Fossil_fuel\"]\n",
        "    for title in wikipedia_page_titles:\n",
        "        page = wikipedia.page(title=title, auto_suggest=False)\n",
        "        doc = Document(content=page.content, meta={\"title\": page.title, \"url\": page.url})\n",
        "        raw_docs.append(doc)\n",
        "\n",
        "    doc_store = InMemoryDocumentStore(embedding_similarity_function=\"cosine\")\n",
        "\n",
        "    indexing_pipeline = Pipeline()\n",
        "    indexing_pipeline.add_component(\"cleaner\", DocumentCleaner())\n",
        "    indexing_pipeline.add_component(\"splitter\", DocumentSplitter(split_by=\"passage\", split_length=1))\n",
        "    indexing_pipeline.add_component(\"writer\", DocumentWriter(document_store=doc_store, policy=DuplicatePolicy.SKIP))\n",
        "    indexing_pipeline.connect(\"cleaner\", \"splitter\")\n",
        "    indexing_pipeline.connect(\"splitter\", \"writer\")\n",
        "\n",
        "    indexing_pipeline.run({\"cleaner\": {\"documents\": raw_docs}})\n",
        "\n",
        "    return doc_store"
      ]
    },
    {
      "cell_type": "code",
      "execution_count": 8,
      "metadata": {
        "id": "Ab7JL71ejhO5"
      },
      "outputs": [],
      "source": [
        "doc_store = get_doc_store()"
      ]
    },
    {
      "cell_type": "markdown",
      "metadata": {
        "id": "oR-lZeyrzY3M"
      },
      "source": [
        "### RAG without Query Expansion"
      ]
    },
    {
      "cell_type": "code",
      "execution_count": 20,
      "metadata": {
        "colab": {
          "base_uri": "https://localhost:8080/"
        },
        "id": "erV3yIS5n9GE",
        "outputId": "788c89b6-b603-4000-fb7c-b2bd4573e01f"
      },
      "outputs": [
        {
          "data": {
            "text/plain": [
              "<haystack.core.pipeline.pipeline.Pipeline object at 0x7cc64fa0ffd0>\n",
              "🚅 Components\n",
              "  - keyword_retriever: InMemoryBM25Retriever\n",
              "  - prompt: PromptBuilder\n",
              "  - llm: OpenAIGenerator\n",
              "🛤️ Connections\n",
              "  - keyword_retriever.documents -> prompt.documents (List[Document])\n",
              "  - prompt.prompt -> llm.prompt (str)"
            ]
          },
          "execution_count": 20,
          "metadata": {},
          "output_type": "execute_result"
        }
      ],
      "source": [
        "template = \"\"\"\n",
        "You are part of an information system that summarises related documents.\n",
        "You answer a query using the textual content from the documents retrieved for the\n",
        "following query.\n",
        "You build the summary answer based only on quoting information from the documents.\n",
        "You should reference the documents you used to support your answer.\n",
        "###\n",
        "Original Query: \"{{query}}\"\n",
        "Retrieved Documents: {{documents}}\n",
        "Summary Answer:\n",
        "\"\"\"\n",
        "retriever = InMemoryBM25Retriever(document_store=doc_store)\n",
        "prompt_builder = PromptBuilder(template = template)\n",
        "llm = OpenAIGenerator()\n",
        "\n",
        "keyword_rag_pipeline = Pipeline()\n",
        "keyword_rag_pipeline.add_component(\"keyword_retriever\", retriever)\n",
        "keyword_rag_pipeline.add_component(\"prompt\", prompt_builder)\n",
        "keyword_rag_pipeline.add_component(\"llm\", llm)\n",
        "\n",
        "keyword_rag_pipeline.connect(\"keyword_retriever.documents\", \"prompt.documents\")\n",
        "keyword_rag_pipeline.connect(\"prompt\", \"llm\")"
      ]
    },
    {
      "cell_type": "code",
      "execution_count": 21,
      "metadata": {
        "colab": {
          "base_uri": "https://localhost:8080/"
        },
        "id": "UD03G6MQoDhV",
        "outputId": "10dc9b16-4d13-455b-f5a6-e09b97c9d835"
      },
      "outputs": [
        {
          "data": {
            "text/plain": [
              "{'llm': {'replies': ['Green energy sources refer to energy derived from renewable natural resources that are replenished over time. Wind power, specifically, is a type of green energy that harnesses wind energy to generate useful work. These sources contrast with fossil fuels like coal, oil, and natural gas, which are not considered green energy due to their carbon content. (Sources: Renewable energy - Wikipedia, Wind power - Wikipedia)'],\n",
              "  'meta': [{'model': 'gpt-4o-mini-2024-07-18',\n",
              "    'index': 0,\n",
              "    'finish_reason': 'stop',\n",
              "    'usage': {'completion_tokens': 79,\n",
              "     'prompt_tokens': 587,\n",
              "     'total_tokens': 666}}]},\n",
              " 'keyword_retriever': {'documents': [Document(id=d32ea84eda93bcbfc7ad39ad411f598a4a27a96a14ff6dc6a5415b6b86cb6f1e, content: 'Renewable energy (or green energy) is energy from renewable natural resources that are replenished o...', meta: {'title': 'Renewable energy', 'url': 'https://en.wikipedia.org/wiki/Renewable_energy', 'source_id': 'a1b15f8e8f7483541939c347ea2a5987e0fb24d5f22598b46b917e930d9b4e32', 'page_number': 1, 'split_id': 0, 'split_idx_start': 0}, score: 2.4320211252370143),\n",
              "   Document(id=fa56b088d6458214d3e47b7ce653a2efc46554a62dd5adf9270ad8d636c40116, content: 'Wind power is the use of wind energy to generate useful work. Historically, wind power was used by s...', meta: {'title': 'Wind power', 'url': 'https://en.wikipedia.org/wiki/Wind_power', 'source_id': 'e656ab6e00c8b8e89f135043d6e36349ba5c669b017758324fd667ff1552de47', 'page_number': 1, 'split_id': 0, 'split_idx_start': 0}, score: 1.9820911485988726),\n",
              "   Document(id=024d5d472cf6d0adba328fbdea175c7d7ac457198ddb8156fce5d9f7b8080df7, content: 'A fossil fuel is a carbon compound- or hydrocarbon-containing material such as coal, oil, and natura...', meta: {'title': 'Fossil fuel', 'url': 'https://en.wikipedia.org/wiki/Fossil_fuel', 'source_id': '3153cc056bcf6a1d0ebc45a4ba532665ccd8cfdac8c839566739cdda081a7362', 'page_number': 1, 'split_id': 0, 'split_idx_start': 0}, score: 1.7816206380197208)]}}"
            ]
          },
          "execution_count": 21,
          "metadata": {},
          "output_type": "execute_result"
        }
      ],
      "source": [
        "keyword_rag_pipeline.run({\"query\": \"green energy sources\", \"top_k\": 3}, include_outputs_from=[\"keyword_retriever\"])"
      ]
    },
    {
      "cell_type": "markdown",
      "metadata": {
        "id": "MRx9_9pzzcxo"
      },
      "source": [
        "### RAG with Query Expansion"
      ]
    },
    {
      "cell_type": "code",
      "execution_count": 9,
      "metadata": {
        "colab": {
          "base_uri": "https://localhost:8080/"
        },
        "id": "gA6-RvHdn8pT",
        "outputId": "7ba03184-cba0-4882-cae3-4909eeea6a6a"
      },
      "outputs": [
        {
          "data": {
            "text/plain": [
              "<haystack.core.pipeline.pipeline.Pipeline object at 0x7b0554538b20>\n",
              "🚅 Components\n",
              "  - expander: QueryExpander\n",
              "  - keyword_retriever: MultiQueryInMemoryBM25Retriever\n",
              "  - prompt: PromptBuilder\n",
              "  - llm: OpenAIGenerator\n",
              "🛤️ Connections\n",
              "  - expander.queries -> keyword_retriever.queries (List[str])\n",
              "  - keyword_retriever.documents -> prompt.documents (List[Document])\n",
              "  - prompt.prompt -> llm.prompt (str)"
            ]
          },
          "execution_count": 9,
          "metadata": {},
          "output_type": "execute_result"
        }
      ],
      "source": [
        "template = \"\"\"\n",
        "You are part of an information system that summarises related documents.\n",
        "You answer a query using the textual content from the documents retrieved for the\n",
        "following query.\n",
        "You build the summary answer based only on quoting information from the documents.\n",
        "You should reference the documents you used to support your answer.\n",
        "###\n",
        "Original Query: \"{{query}}\"\n",
        "Retrieved Documents: {{documents}}\n",
        "Summary Answer:\n",
        "\"\"\"\n",
        "query_expander = QueryExpander()\n",
        "retriever = MultiQueryInMemoryBM25Retriever(InMemoryBM25Retriever(document_store=doc_store))\n",
        "prompt_builder = PromptBuilder(template = template)\n",
        "llm = OpenAIGenerator()\n",
        "\n",
        "query_expanded_rag_pipeline = Pipeline()\n",
        "query_expanded_rag_pipeline.add_component(\"expander\", query_expander)\n",
        "query_expanded_rag_pipeline.add_component(\"keyword_retriever\", retriever)\n",
        "query_expanded_rag_pipeline.add_component(\"prompt\", prompt_builder)\n",
        "query_expanded_rag_pipeline.add_component(\"llm\", llm)\n",
        "\n",
        "query_expanded_rag_pipeline.connect(\"expander.queries\", \"keyword_retriever.queries\")\n",
        "query_expanded_rag_pipeline.connect(\"keyword_retriever.documents\", \"prompt.documents\")\n",
        "query_expanded_rag_pipeline.connect(\"prompt\", \"llm\")"
      ]
    },
    {
      "cell_type": "code",
      "execution_count": 10,
      "metadata": {
        "colab": {
          "base_uri": "https://localhost:8080/",
          "height": 1000
        },
        "id": "OPgfePQw6SGn",
        "outputId": "d7231d48-ef64-4a8e-ab45-bcfc2ff15936"
      },
      "outputs": [
        {
          "data": {
            "image/png": "[encoded data removed]",
            "text/plain": [
              "<IPython.core.display.Image object>"
            ]
          },
          "metadata": {},
          "output_type": "display_data"
        }
      ],
      "source": [
        "query_expanded_rag_pipeline.show()"
      ]
    },
    {
      "cell_type": "code",
      "execution_count": 23,
      "metadata": {
        "colab": {
          "base_uri": "https://localhost:8080/"
        },
        "id": "qfdrTpZijsnv",
        "outputId": "e22e6e34-1f06-4c7f-8bd7-473dc3654542"
      },
      "outputs": [
        {
          "data": {
            "text/plain": [
              "{'llm': {'replies': ['Green energy sources refer to renewable energy from natural resources like wind power and electric vehicles that use electric motors for propulsion. This type of energy is sustainable and replenished over time, unlike fossil fuels or nuclear power. [Source: Wikipedia]'],\n",
              "  'meta': [{'model': 'gpt-4o-mini-2024-07-18',\n",
              "    'index': 0,\n",
              "    'finish_reason': 'stop',\n",
              "    'usage': {'completion_tokens': 47,\n",
              "     'prompt_tokens': 1242,\n",
              "     'total_tokens': 1289}}]},\n",
              " 'expander': {'queries': ['renewable energy sources',\n",
              "   'sustainable energy options',\n",
              "   'alternative energy sources',\n",
              "   'environmentally friendly energy sources',\n",
              "   'clean energy alternatives',\n",
              "   'green energy sources']},\n",
              " 'keyword_retriever': {'documents': [Document(id=03a55d98ad5f0fa8f849dd179913f9ffc25c9aad8aa11722a79df915356b1113, content: 'An electric battery is a source of electric power consisting of one or more electrochemical cells wi...', meta: {'title': 'Electric battery', 'url': 'https://en.wikipedia.org/wiki/Electric_battery', 'source_id': 'd058caa4734c0f209ef75a4ae80beaccf8b8af224653671e149046d33557dc8d', 'page_number': 1, 'split_id': 0, 'split_idx_start': 0}, score: 4.17160191620904),\n",
              "   Document(id=eaabd6f76c2e1dcc5ed58190d013cb6caae822209887439caaa8eb09296f5465, content: 'In botany, a tree is a perennial plant with an elongated stem, or trunk, usually supporting branches...', meta: {'title': 'Tree', 'url': 'https://en.wikipedia.org/wiki/Tree', 'source_id': 'cb44cab78581ac1a8cf651798a81b41a487780ceaa23f8dc20fca6ea43f19697', 'page_number': 1, 'split_id': 0, 'split_idx_start': 0}, score: 3.5984352705206115),\n",
              "   Document(id=cbccad53b2e1b30e5fb0a003a53c7840b42f76d614f4f4ff34f7f465da80e9b9, content: 'An electric vehicle (EV) is a vehicle that uses one or more electric motors for propulsion. The vehi...', meta: {'title': 'Electric vehicle', 'url': 'https://en.wikipedia.org/wiki/Electric_vehicle', 'source_id': 'b3eadb5ade5938674d6be49a4e5642e39f21af64361981a486f9749a9547a7c7', 'page_number': 1, 'split_id': 0, 'split_idx_start': 0}, score: 3.354975161275126),\n",
              "   Document(id=fa56b088d6458214d3e47b7ce653a2efc46554a62dd5adf9270ad8d636c40116, content: 'Wind power is the use of wind energy to generate useful work. Historically, wind power was used by s...', meta: {'title': 'Wind power', 'url': 'https://en.wikipedia.org/wiki/Wind_power', 'source_id': 'e656ab6e00c8b8e89f135043d6e36349ba5c669b017758324fd667ff1552de47', 'page_number': 1, 'split_id': 0, 'split_idx_start': 0}, score: 1.9820911485988726),\n",
              "   Document(id=d32ea84eda93bcbfc7ad39ad411f598a4a27a96a14ff6dc6a5415b6b86cb6f1e, content: 'Renewable energy (or green energy) is energy from renewable natural resources that are replenished o...', meta: {'title': 'Renewable energy', 'url': 'https://en.wikipedia.org/wiki/Renewable_energy', 'source_id': 'a1b15f8e8f7483541939c347ea2a5987e0fb24d5f22598b46b917e930d9b4e32', 'page_number': 1, 'split_id': 0, 'split_idx_start': 0}, score: 0.8379617658448525),\n",
              "   Document(id=024d5d472cf6d0adba328fbdea175c7d7ac457198ddb8156fce5d9f7b8080df7, content: 'A fossil fuel is a carbon compound- or hydrocarbon-containing material such as coal, oil, and natura...', meta: {'title': 'Fossil fuel', 'url': 'https://en.wikipedia.org/wiki/Fossil_fuel', 'source_id': '3153cc056bcf6a1d0ebc45a4ba532665ccd8cfdac8c839566739cdda081a7362', 'page_number': 1, 'split_id': 0, 'split_idx_start': 0}, score: 0.7498081480639106),\n",
              "   Document(id=7099fafc118346207fb04dc74149f6de8e13cd36d0b5407e22d7067f25e3f2b0, content: 'Nuclear power is the use of nuclear reactions to produce electricity. Nuclear power can be obtained ...', meta: {'title': 'Nuclear power', 'url': 'https://en.wikipedia.org/wiki/Nuclear_power', 'source_id': '19675f5020f2a9604d99a79c71221c7f305707a421412a4df6e5d4895b75c696', 'page_number': 1, 'split_id': 0, 'split_idx_start': 0}, score: 0.7407747243530132)]}}"
            ]
          },
          "execution_count": 23,
          "metadata": {},
          "output_type": "execute_result"
        }
      ],
      "source": [
        "query_expanded_rag_pipeline.run({\"query\": \"green energy sources\", \"top_k\": 3}, include_outputs_from=[\"keyword_retriever\", \"expander\"])"
      ]
    }
  ],
  "metadata": {
    "colab": {
      "provenance": []
    },
    "kernelspec": {
      "display_name": "deeplearning",
      "language": "python",
      "name": "python3"
    },
    "language_info": {
      "codemirror_mode": {
        "name": "ipython",
        "version": 3
      },
      "file_extension": ".py",
      "mimetype": "text/x-python",
      "name": "python",
      "nbconvert_exporter": "python",
      "pygments_lexer": "ipython3",
      "version": "3.12.3"
    }
  },
  "nbformat": 4,
  "nbformat_minor": 0
}
