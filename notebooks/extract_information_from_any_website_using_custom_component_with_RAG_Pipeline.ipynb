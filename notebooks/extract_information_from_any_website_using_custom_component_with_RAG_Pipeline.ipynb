{
 "cells": [
  {
   "cell_type": "markdown",
   "metadata": {},
   "source": [
    "# Extract information from any website using custom component with RAG Pipeline\n",
    "*Notebook by [Bhavik Jikadara](https://www.linkedin.com/in/bhavikjikadara/)*\n",
    "\n",
    "I'm going to build a nice Retrieval Augmented Generation pipeline for extract data from sitemap of company."
   ]
  },
  {
   "cell_type": "markdown",
   "metadata": {},
   "source": [
    "### Install dependencies"
   ]
  },
  {
   "cell_type": "code",
   "execution_count": null,
   "metadata": {},
   "outputs": [],
   "source": [
    "!pip install -q haystack-ai transformers accelerate sentence_transformers"
   ]
  },
  {
   "cell_type": "code",
   "execution_count": null,
   "metadata": {},
   "outputs": [],
   "source": [
    "from typing import List\n",
    "from haystack import component, Pipeline, Document\n",
    "from langchain_community.document_loaders.sitemap import SitemapLoader\n",
    "from IPython.display import Image\n",
    "\n",
    "# fixes a bug with asyncio and jupyter\n",
    "import nest_asyncio\n",
    "nest_asyncio.apply()\n",
    "\n",
    "# Creating Indexing Pipeline\n",
    "from typing import List\n",
    "from haystack import Pipeline\n",
    "from haystack.components.embedders import SentenceTransformersDocumentEmbedder\n",
    "from haystack.components.writers import DocumentWriter\n",
    "from haystack.document_stores.in_memory import InMemoryDocumentStore\n",
    "from haystack.document_stores.types import DuplicatePolicy\n",
    "\n",
    "# Creating RAG Pipeline\n",
    "import os\n",
    "from haystack.components.builders import AnswerBuilder, PromptBuilder\n",
    "from haystack.components.embedders import SentenceTransformersTextEmbedder\n",
    "from haystack_integrations.components.generators.ollama import OllamaGenerator\n",
    "from haystack.components.retrievers.in_memory import InMemoryEmbeddingRetriever\n",
    "\n",
    "import warnings\n",
    "warnings.filterwarnings(\"ignore\", category=UserWarning)\n",
    "warnings.filterwarnings(\"ignore\", category=DeprecationWarning)"
   ]
  },
  {
   "cell_type": "markdown",
   "metadata": {},
   "source": [
    "## Creating Custom Components\n",
    "- `FetchDataFromWebsite`: A component extracting information from the any website.\n",
    "- `PageContent`: Return generating text from the sitemap"
   ]
  },
  {
   "cell_type": "code",
   "execution_count": null,
   "metadata": {},
   "outputs": [],
   "source": [
    "@component\n",
    "class FetchDataFromWebsite:\n",
    "    \"\"\"\n",
    "    A component extracting information from the any website.\n",
    "    \"\"\"\n",
    "    @component.output_types(sitemap_document=List[Document])\n",
    "    def run(self, sitemap:str):\n",
    "        sitemap_loader = SitemapLoader(web_path=sitemap)\n",
    "        documents = sitemap_loader.load()\n",
    "\n",
    "        return {\"sitemap_document\": documents} \n",
    "    \n",
    "@component\n",
    "class PageContent:\n",
    "    \"\"\"\n",
    "    Return generating text from the sitemap\n",
    "    \"\"\"\n",
    "    @component.output_types(text=List[str])\n",
    "    def run(self, documents:List[Document]):\n",
    "        data = []\n",
    "        for d in range(len(documents)):\n",
    "            data.append(documents[d].page_content)\n",
    "        return {\"text\": data} "
   ]
  },
  {
   "cell_type": "markdown",
   "metadata": {},
   "source": [
    "## Dataset"
   ]
  },
  {
   "cell_type": "code",
   "execution_count": null,
   "metadata": {},
   "outputs": [],
   "source": [
    "# Create a pipeline instance\n",
    "text_pipeline = Pipeline()\n",
    "\n",
    "# Add components to the pipeline\n",
    "text_pipeline.add_component(name=\"sitemap_fetch_data\", instance= FetchDataFromWebsite())\n",
    "text_pipeline.add_component(name=\"page_content\", instance= PageContent())\n",
    "\n",
    "# Connect the components\n",
    "text_pipeline.connect(sender=\"sitemap_fetch_data\", receiver=\"page_content\")"
   ]
  },
  {
   "cell_type": "code",
   "execution_count": null,
   "metadata": {},
   "outputs": [],
   "source": [
    "result = text_pipeline.run({\n",
    "    \"sitemap_fetch_data\":{\n",
    "        \"sitemap\": \"https://www.enactsoft.com/sitemap_index.xml\"\n",
    "    }\n",
    "})"
   ]
  },
  {
   "cell_type": "code",
   "execution_count": null,
   "metadata": {},
   "outputs": [],
   "source": [
    "enactsoft_data = result['page_content']['text']"
   ]
  },
  {
   "cell_type": "code",
   "execution_count": null,
   "metadata": {},
   "outputs": [],
   "source": [
    "all_documents = [Document(content=doc) for doc in enactsoft_data]"
   ]
  },
  {
   "cell_type": "markdown",
   "metadata": {},
   "source": [
    "## Creating Indexing Pipeline"
   ]
  },
  {
   "cell_type": "code",
   "execution_count": null,
   "metadata": {},
   "outputs": [],
   "source": [
    "document_store = InMemoryDocumentStore()\n",
    "\n",
    "document_embedder = SentenceTransformersDocumentEmbedder(\"sentence-transformers/all-MiniLM-L6-v2\")\n",
    "document_writer = DocumentWriter(document_store=document_store, policy=DuplicatePolicy.SKIP)"
   ]
  },
  {
   "cell_type": "code",
   "execution_count": null,
   "metadata": {},
   "outputs": [],
   "source": [
    "indexing = Pipeline()\n",
    "\n",
    "indexing.add_component(instance=document_embedder, name=\"document_embedder\")\n",
    "indexing.add_component(instance=document_writer, name=\"document_writer\")\n",
    "\n",
    "indexing.connect(\"document_embedder.documents\", \"document_writer.documents\")"
   ]
  },
  {
   "cell_type": "code",
   "execution_count": null,
   "metadata": {},
   "outputs": [],
   "source": [
    "indexing.run({\n",
    "    \"document_embedder\": {\n",
    "        \"documents\": all_documents\n",
    "    }\n",
    "})"
   ]
  },
  {
   "cell_type": "code",
   "execution_count": null,
   "metadata": {},
   "outputs": [],
   "source": [
    "# Creating Indexing pipeline graph\n",
    "indexing.draw(\"indexing.png\")\n",
    "Image(\"indexing.png\")"
   ]
  },
  {
   "cell_type": "markdown",
   "metadata": {},
   "source": [
    "## Creating RAG Pipeline"
   ]
  },
  {
   "cell_type": "code",
   "execution_count": null,
   "metadata": {},
   "outputs": [],
   "source": [
    "template = \"\"\"\n",
    "You have to answer the following question based on the given context information only.\n",
    "\n",
    "Context:\n",
    "{% for document in documents %}\n",
    "    {{ document.content }}\n",
    "{% endfor %}\n",
    "\n",
    "Question: {{question}}\n",
    "Answer:\n",
    "\"\"\""
   ]
  },
  {
   "cell_type": "code",
   "execution_count": null,
   "metadata": {},
   "outputs": [],
   "source": [
    "rag_pipeline = Pipeline()\n",
    "\n",
    "rag_pipeline.add_component(\"query_embedder\", SentenceTransformersTextEmbedder(model=\"sentence-transformers/all-MiniLM-L6-v2\"))\n",
    "rag_pipeline.add_component(\"retriever\", InMemoryEmbeddingRetriever(document_store, top_k=3))\n",
    "rag_pipeline.add_component(\"prompt_builder\", PromptBuilder(template=template))\n",
    "rag_pipeline.add_component(\"generator\", OllamaGenerator(model=\"llama3\", url=\"http://localhost:11434/api/generate\", timeout=600))\n",
    "rag_pipeline.add_component(\"answer_builder\", AnswerBuilder())"
   ]
  },
  {
   "cell_type": "code",
   "execution_count": null,
   "metadata": {},
   "outputs": [],
   "source": [
    "rag_pipeline.connect(\"query_embedder\", \"retriever.query_embedding\")\n",
    "rag_pipeline.connect(\"retriever\", \"prompt_builder.documents\")\n",
    "rag_pipeline.connect(\"prompt_builder\", \"generator\")\n",
    "rag_pipeline.connect(\"generator.replies\", \"answer_builder.replies\")\n",
    "rag_pipeline.connect(\"generator.meta\", \"answer_builder.meta\")\n",
    "rag_pipeline.connect(\"retriever\", \"answer_builder.documents\")"
   ]
  },
  {
   "cell_type": "code",
   "execution_count": null,
   "metadata": {},
   "outputs": [],
   "source": [
    "# Creating RAG pipeline graph\n",
    "rag_pipeline.draw(\"RAG.png\")\n",
    "Image(\"RAG.png\")"
   ]
  },
  {
   "cell_type": "markdown",
   "metadata": {},
   "source": [
    "## Ask a Question"
   ]
  },
  {
   "cell_type": "code",
   "execution_count": 16,
   "metadata": {},
   "outputs": [],
   "source": [
    "question = \"What is EnactSoft?\"\n",
    "\n",
    "response = rag_pipeline.run({\n",
    "    \"query_embedder\": {\n",
    "        \"text\": question \n",
    "    },\n",
    "    \"prompt_builder\":{\n",
    "        \"question\": question\n",
    "    },\n",
    "    \"answer_builder\": {\n",
    "        \"query\": question\n",
    "    }\n",
    "})"
   ]
  },
  {
   "cell_type": "code",
   "execution_count": null,
   "metadata": {},
   "outputs": [],
   "source": [
    "response[\"answer_builder\"][\"answers\"]"
   ]
  }
 ],
 "metadata": {
  "kernelspec": {
   "display_name": "base",
   "language": "python",
   "name": "python3"
  },
  "language_info": {
   "codemirror_mode": {
    "name": "ipython",
    "version": 3
   },
   "file_extension": ".py",
   "mimetype": "text/x-python",
   "name": "python",
   "nbconvert_exporter": "python",
   "pygments_lexer": "ipython3",
   "version": "3.11.9"
  }
 },
 "nbformat": 4,
 "nbformat_minor": 2
}
