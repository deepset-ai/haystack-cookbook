{
  "cells": [
    {
      "cell_type": "markdown",
      "metadata": {
        "id": "3UWNbRdbFX3w"
      },
      "source": [
        "# Should I Stay at This Hotel?\n",
        "\n",
        "*Notebook by [Bilge Yucel](https://www.linkedin.com/in/bilge-yucel/)*\n",
        "\n",
        "Multilingual Generative QA Using Cohere and Haystack\n",
        "\n",
        "In this notebook, we'll delve into the details of multilingual retrieval and multilingual generation, and demonstrate how to build a **Retrieval Augmented Generation (RAG)** pipeline to generate answers from multilingual hotel reviews using [Cohere](https://cohere.com/) models and [Haystack](https://github.com/deepset-ai/haystack). 🏡\n",
        "\n",
        "**Haystack Useful Sources**\n",
        "\n",
        "* [Docs](https://docs.haystack.deepset.ai/docs/intro)\n",
        "* [Tutorials](https://haystack.deepset.ai/tutorials)\n",
        "* [Cookbooks](https://github.com/deepset-ai/haystack-cookbook)\n",
        "\n",
        "> For Haystack 1.x version, check out [Article: Multilingual Generative Question Answering with Haystack and Cohere](https://haystack.deepset.ai/blog/multilingual-qa-with-cohere)"
      ]
    },
    {
      "cell_type": "markdown",
      "metadata": {
        "id": "ix5sbAqemwmh"
      },
      "source": [
        "## Installation\n",
        "\n",
        "Let's start by installing [Haystack's Cohere integration](https://haystack.deepset.ai/integrations/cohere):"
      ]
    },
    {
      "cell_type": "code",
      "execution_count": null,
      "metadata": {
        "id": "NkgvIsLi2CGA"
      },
      "outputs": [],
      "source": [
        "!pip install cohere-haystack"
      ]
    },
    {
      "cell_type": "markdown",
      "metadata": {
        "id": "0pbEAwNvm9PX"
      },
      "source": [
        "## Storing Multilingual Embeddings\n",
        "\n",
        "To create a question answering system for hotel reviews, the first thing we need is a document store. We’ll use an [`InMemoryDocumentStore`](https://docs.haystack.deepset.ai/v2.0/docs/inmemorydocumentstore) to save the hotel reviews along with their embeddings."
      ]
    },
    {
      "cell_type": "code",
      "execution_count": 3,
      "metadata": {
        "id": "OELCFReonEbL"
      },
      "outputs": [],
      "source": [
        "from haystack.document_stores.in_memory import InMemoryDocumentStore\n",
        "\n",
        "document_store = InMemoryDocumentStore()"
      ]
    },
    {
      "cell_type": "markdown",
      "metadata": {
        "id": "zHUwrrMf91zQ"
      },
      "source": [
        "## Getting Cohere API Key\n",
        "\n",
        "After signing up, you can [get a Cohere API key](https://dashboard.cohere.com/api-keys) for free to start using Cohere models."
      ]
    },
    {
      "cell_type": "code",
      "execution_count": 4,
      "metadata": {
        "colab": {
          "base_uri": "https://localhost:8080/"
        },
        "id": "HB5mOhUw2q6f",
        "outputId": "94502442-8465-474d-b055-ef3930181a18"
      },
      "outputs": [
        {
          "name": "stdout",
          "output_type": "stream",
          "text": [
            "Enter Cohere API key:··········\n"
          ]
        }
      ],
      "source": [
        "from getpass import getpass\n",
        "\n",
        "COHERE_API_KEY = getpass(\"Enter Cohere API key:\")"
      ]
    },
    {
      "cell_type": "markdown",
      "metadata": {
        "id": "dHkeH9IAyTPW"
      },
      "source": [
        "## Creating an Indexing Pipeline\n",
        "\n",
        "Let's create an indexing pipeline to write the hotel reviews from different languages to our document store. For this, we'll split the long reviews with [`DocumentSplitter`](https://docs.haystack.deepset.ai/v2.0/docs/documentsplitter) and create multilingual embeddings for each document using `embed-multilingual-v3.0` model with [`CohereDocumentEmbedder`](https://docs.haystack.deepset.ai/v2.0/docs/coheredocumentembedder)."
      ]
    },
    {
      "cell_type": "code",
      "execution_count": 7,
      "metadata": {
        "colab": {
          "base_uri": "https://localhost:8080/"
        },
        "id": "p18_m_RJCINu",
        "outputId": "7f66098d-e723-4b3a-a4f7-f85df5488cd1"
      },
      "outputs": [
        {
          "name": "stderr",
          "output_type": "stream",
          "text": [
            "Calculating embeddings: 100%|██████████| 1/1 [00:00<00:00,  3.29it/s]\n"
          ]
        },
        {
          "data": {
            "text/plain": [
              "{'embedder': {'meta': {'api_version': {'version': '1'},\n",
              "   'billed_units': {'input_tokens': 1137}}},\n",
              " 'writer': {'documents_written': 16}}"
            ]
          },
          "execution_count": 7,
          "metadata": {},
          "output_type": "execute_result"
        }
      ],
      "source": [
        "from haystack import Document, Pipeline\n",
        "from haystack.document_stores.in_memory import InMemoryDocumentStore\n",
        "from haystack.components.writers import DocumentWriter\n",
        "from haystack.components.preprocessors import DocumentSplitter\n",
        "from haystack_integrations.components.embedders.cohere import CohereDocumentEmbedder\n",
        "from haystack.utils import Secret\n",
        "\n",
        "documents = [Document(content=\"O ar condicionado de um dos quartos deu problema, mas levaram um ventilador para ser utilizado. Também por ser em uma área bem movimentada, o barulho da rua pode ser ouvido. Porém, eles deixam protetores auriculares para o uso. Também senti falta de um espelho de corpo inteiro no apartamento. Só havia o do banheiro que mostra apenas a parte superior do corpo.\"),\n",
        "             Document(content=\"Durchgängig Lärm, weil direkt an der Partymeile; schmutziges Geschirr; unvollständige Küchenausstattung; Abzugshaube über Herd ging für zwei Stunden automatisch an und lies sich nicht abstellen; Reaktionen auf Anfragen entweder gar nicht oder unfreundlich\"),\n",
        "             Document(content=\"Das Personal ist sehr zuvorkommend! Über WhatsApp war man im guten Kontakt und konnte alles erfragen. Auch das Angebot des Shuttleservices war super und würde ich empfehlen - sehr unkompliziert! Unser Flug hatte Verspätung und der Shuttle hat auf uns gewartet. Die Lage zur Innenstadt ist sehr gut,jedoch ist die Fensterfront direkt zur Club-Straße deshalb war es nachts bis drei/vier Uhr immer recht laut. Die Kaffeemaschine oder auch die Couch hätten sauberer sein können. Ansonsten war das Appartement aber völlig ok.\"),\n",
        "             Document(content=\"Super appartement. Juste au dessus de plusieurs bars qui ferment très tard. A savoir à l'avance. (Bouchons d'oreilles fournis !)\"),\n",
        "             Document(content=\"Zapach moczu przy wejściu do budynku, może warto zainstalować tam mocne światło na czujnik ruchu, dla gości to korzystne a dla kogoś kto chciałby zrobić tam coś innego niekorzystne :-). Świetne lokalizacje w centrum niestety są na to narażane.\"),\n",
        "             Document(content=\"El apartamento estaba genial y muy céntrico, todo a mano. Al lado de la librería Lello y De la Torre de los clérigos. Está situado en una zona de marcha, así que si vais en fin de semana , habrá ruido, aunque a nosotros no nos molestaba para dormir\"),\n",
        "             Document(content=\"The keypad with a code is convenient and the location is convenient. Basically everything else, very noisy, wi-fi didn't work, check-in person didn't explain anything about facilities, shower head was broken, there's no cleaning and everything else one may need is charged.\"),\n",
        "             Document(content=\"It is very central and appartement has a nice appearance (even though a lot IKEA stuff), *W A R N I N G** the appartement presents itself as a elegant and as a place to relax, very wrong place to relax - you cannot sleep in this appartement, even the beds are vibrating from the bass of the clubs in the same building - you get ear plugs from the hotel -> now I understand why -> I missed a trip as it was so loud and I could not hear the alarm next day due to the ear plugs.- there is a green light indicating 'emergency exit' just above the bed, which shines very bright at night - during the arrival process, you felt the urge of the agent to leave as soon as possible. - try to go to 'RVA clerigos appartements' -> same price, super quiet, beautiful, city center and very nice staff (not an agency)- you are basically sleeping next to the fridge, which makes a lot of noise, when the compressor is running -> had to switch it off - but then had no cool food and drinks. - the bed was somehow broken down - the wooden part behind the bed was almost falling appart and some hooks were broken before- when the neighbour room is cooking you hear the fan very loud. I initially thought that I somehow activated the kitchen fan\"),\n",
        "             Document(content=\"Un peu salé surtout le sol. Manque de service et de souplesse\"),\n",
        "             Document(content=\"De comfort zo centraal voor die prijs.\"),\n",
        "             Document(content=\"Die Lage war sehr Zentral und man konnte alles sehenswertes zu Fuß erreichen. Wer am Wochenende nachts schlafen möchte, sollte diese Unterkunft auf keinen Fall nehmen. Party direkt vor der Tür so das man denkt, man schläft mitten drin. Sehr Sehr laut also und das bis früh 5 Uhr. Ab 7 kommt dann die Straßenreinigung die keineswegs leiser ist.\"),\n",
        "             Document(content=\"Ótima escolha! Apartamento confortável e limpo! O RoofTop é otimo para beber um vinho! O apartamento é localizado entre duas ruas de movimento noturno. Porem as janelas, blindam 90% do barulho. Não nos incomodou\"),\n",
        "             Document(content=\"Nous avons passé un séjour formidable. Merci aux personnes , le bonjours à Ricardo notre taxi man, très sympathique. Je pense refaire un séjour parmi vous, après le confinement, tout était parfait, surtout leur gentillesse, aucune chaude négative. Je n'ai rien à redire de négative, Ils étaient a notre écoute, un gentil message tout les matins, pour nous demander si nous avions besoins de renseignement et savoir si tout allait bien pendant notre séjour.\"),\n",
        "             Document(content=\"Boa localização. Bom pequeno almoço. A tv não se encontrava funcional.\"),\n",
        "             Document(content=\"Céntrico. Muy cómodo para moverse y ver Oporto. Edificio con terraza propia en la última planta. Todo reformado y nuevo. Te traen un estupendo desayuno todas las mañanas al apartamento. Solo que se puede escuchar algo de ruido de la calle a primeras horas de la noche. Es un zona de ocio nocturno. Pero respetan los horarios.\")\n",
        "]\n",
        "\n",
        "indexing_pipeline = Pipeline()\n",
        "indexing_pipeline.add_component(\"splitter\", DocumentSplitter(split_by=\"word\", split_length=200))\n",
        "indexing_pipeline.add_component(\"embedder\", CohereDocumentEmbedder(api_key=Secret.from_token(COHERE_API_KEY), model=\"embed-multilingual-v3.0\"))\n",
        "indexing_pipeline.add_component(\"writer\", DocumentWriter(document_store=document_store))\n",
        "indexing_pipeline.connect(\"splitter\", \"embedder\")\n",
        "indexing_pipeline.connect(\"embedder\", \"writer\")\n",
        "\n",
        "indexing_pipeline.run({\"splitter\": {\"documents\": documents}})"
      ]
    },
    {
      "cell_type": "markdown",
      "metadata": {
        "id": "Uyzxi9Br4-7C"
      },
      "source": [
        "## Building a RAG Pipeline\n",
        "\n",
        "Now that we have multilingual embeddings indexed in our document store, we'll create a pipeline where users interact the most: Retrieval-Augmented Generation (RAG) Pipeline.\n",
        "\n",
        "A RAG pipeline consists of two parts: document retrieval and answer generation.\n",
        "\n",
        "### Multilingual Document Retrieval\n",
        "\n",
        "In the document retrieval step of a RAG pipeline, [`CohereTextEmbedder`](https://docs.haystack.deepset.ai/v2.0/docs/coheretextembedder) creates an embedding for the query in the multilingual vector space and [`InMemoryEmbeddingRetriever`](https://docs.haystack.deepset.ai/v2.0/docs/inmemoryembeddingretriever) retrieves the most similar *top_k* documents to the query from the document store. In our case, the retrieved documents will be hotel reviews.\n",
        "\n",
        "### Multilingual Answer Generation\n",
        "In the generation step of the RAG pipeline, we'll use `command` model of Cohere with [`CohereGenerator`](https://docs.haystack.deepset.ai/v2.0/docs/coheregenerator) to generate an answer based on the retrieved documents.\n",
        "\n",
        "Let’s create a prompt template to use for hotel reviews. In this template, we’ll have two prompt variables: `{{documents}}` and `{{question}}`. These variables will later be filled with the user question and the retrieved hotel reviews outputted from the retriever."
      ]
    },
    {
      "cell_type": "code",
      "execution_count": 9,
      "metadata": {
        "id": "TFirjmYi78j2"
      },
      "outputs": [],
      "source": [
        "from haystack import Pipeline\n",
        "from haystack.components.retrievers.in_memory import InMemoryEmbeddingRetriever\n",
        "from haystack.components.builders.prompt_builder import PromptBuilder\n",
        "from haystack_integrations.components.embedders.cohere import CohereTextEmbedder\n",
        "from haystack_integrations.components.generators.cohere import CohereGenerator\n",
        "\n",
        "template = \"\"\"\n",
        "You will be provided with reviews in multiple languages for an accommodation.\n",
        "Create a concise and informative answer for a given question based solely on the given reviews.\n",
        "\n",
        "\\nReviews:\n",
        "{% for document in documents %}\n",
        "    {{ document.content }}\n",
        "{% endfor %}\n",
        "\n",
        "\\nQuestion: {{question}};\n",
        "\\nAnswer:\n",
        "\"\"\"\n",
        "rag_pipe = Pipeline()\n",
        "rag_pipe.add_component(\"embedder\", CohereTextEmbedder(api_key=Secret.from_token(COHERE_API_KEY), model=\"embed-multilingual-v3.0\"))\n",
        "rag_pipe.add_component(\"retriever\", InMemoryEmbeddingRetriever(document_store=document_store, top_k=3))\n",
        "rag_pipe.add_component(\"prompt_builder\", PromptBuilder(template=template))\n",
        "rag_pipe.add_component(\"llm\", CohereGenerator(api_key=Secret.from_token(COHERE_API_KEY), model=\"command\"))\n",
        "rag_pipe.connect(\"embedder.embedding\", \"retriever.query_embedding\")\n",
        "rag_pipe.connect(\"retriever\", \"prompt_builder.documents\")\n",
        "rag_pipe.connect(\"prompt_builder\", \"llm\")"
      ]
    },
    {
      "cell_type": "markdown",
      "metadata": {
        "id": "9cKTmhyX9V17"
      },
      "source": [
        "## Asking a Question\n",
        "\n",
        "Learn if this hotel is a suitable place this stay with your questions!"
      ]
    },
    {
      "cell_type": "code",
      "execution_count": 10,
      "metadata": {
        "colab": {
          "base_uri": "https://localhost:8080/"
        },
        "id": "Y01oAFCTjlgc",
        "outputId": "deaefbf1-817f-49e9-ed07-e04f5ffb67bc"
      },
      "outputs": [
        {
          "name": "stdout",
          "output_type": "stream",
          "text": [
            " The general consensus from the reviews is that this accommodation is very loud and not ideal for sleeping. The first review warns of loud club music which vibrates the beds, while the second review describes loud nightlife noise and loud cleaning practices in the early morning. \n",
            "\n",
            "Based on this evidence, it is fair to conclude that this accommodation is too noisy for guests to get adequate rest. \n"
          ]
        }
      ],
      "source": [
        "question = \"Is this place too noisy to sleep?\"\n",
        "result = rag_pipe.run({\n",
        "    \"embedder\": {\"text\": question},\n",
        "    \"prompt_builder\": {\"question\": question}\n",
        "})\n",
        "\n",
        "print(result[\"llm\"][\"replies\"][0])"
      ]
    },
    {
      "cell_type": "markdown",
      "metadata": {
        "id": "zfqgOxb_9vbe"
      },
      "source": [
        "### Other questions you can try 👇"
      ]
    },
    {
      "cell_type": "code",
      "execution_count": 11,
      "metadata": {
        "colab": {
          "base_uri": "https://localhost:8080/"
        },
        "id": "TdLGT0_EshKz",
        "outputId": "e90d826f-4db6-4b1b-b53a-cd2126d308e7"
      },
      "outputs": [
        {
          "name": "stdout",
          "output_type": "stream",
          "text": [
            " Some of the main issues with this accommodation include loud vibrations and poor sound insulation, likely due to the proximity of clubs in the same building. Also, the WiFi did not work and the equipment in the apartment, including the shower head and bed, was broken and aged. Finally, the staff who checked them in offered no guidance or support and charged additionally for any needed amenities. \n"
          ]
        }
      ],
      "source": [
        "question = \"What are the problems about this place?\"\n",
        "result = rag_pipe.run({\n",
        "    \"embedder\": {\"text\": question},\n",
        "    \"prompt_builder\": {\"question\": question}\n",
        "})\n",
        "\n",
        "print(result[\"llm\"][\"replies\"][0])"
      ]
    },
    {
      "cell_type": "code",
      "execution_count": null,
      "metadata": {
        "colab": {
          "base_uri": "https://localhost:8080/"
        },
        "id": "tzCG8vGithxd",
        "outputId": "fcd0afaa-c7f4-4fed-9922-f25427a79420"
      },
      "outputs": [
        {
          "name": "stdout",
          "output_type": "stream",
          "text": [
            " The reviews highlight the following positive aspects of the accommodation: \n",
            "\n",
            "- Great location \n",
            "- Good breakfast \n",
            "- Friendly staff and taxi driver (Ricardo)\n",
            "- Gentleness and care of the staff, with a kind message each morning to ensure all was well. \n",
            "\n",
            "It seems like the guests greatly appreciated the staff and service of the accommodation, and recommend it, wishing to return again in the future. \n"
          ]
        }
      ],
      "source": [
        "question = \"What is good about this place?\"\n",
        "result = rag_pipe.run({\n",
        "    \"embedder\": {\"text\": question},\n",
        "    \"prompt_builder\": {\"question\": question}\n",
        "})\n",
        "\n",
        "print(result[\"llm\"][\"replies\"][0])"
      ]
    },
    {
      "cell_type": "code",
      "execution_count": null,
      "metadata": {
        "colab": {
          "base_uri": "https://localhost:8080/"
        },
        "id": "lvefFY6ms9rI",
        "outputId": "dce3eaae-5c38-47cb-fda1-b854224d0cfd"
      },
      "outputs": [
        {
          "name": "stdout",
          "output_type": "stream",
          "text": [
            " The reviews for this hotel are mixed. Some guests had an enjoyable experience at this hotel, highlighting the convenient location, breakfast, and friendly staff. However, it's important to note that there are also more critical reviews that point out some lacking amenities and an unclean atmosphere. \n",
            "\n",
            "If you are looking for a hotel with a more consistent reputation, it might be worth considering other options in the area. Ultimately, it is up to you to decide whether this hotel's potential strengths match your preferences and whether the reported issues are deal-breakers for your stay. \n"
          ]
        }
      ],
      "source": [
        "question = \"Should I stay at this hotel?\"\n",
        "result = rag_pipe.run({\n",
        "    \"embedder\": {\"text\": question},\n",
        "    \"prompt_builder\": {\"question\": question}\n",
        "})\n",
        "\n",
        "print(result[\"llm\"][\"replies\"][0])"
      ]
    },
    {
      "cell_type": "code",
      "execution_count": null,
      "metadata": {
        "colab": {
          "base_uri": "https://localhost:8080/"
        },
        "id": "L2GmEg4xG00e",
        "outputId": "4facd72c-e89e-4052-d86a-48e94b954405"
      },
      "outputs": [
        {
          "name": "stdout",
          "output_type": "stream",
          "text": [
            " Based on the reviews provided, the wifi is functional but may not work sometimes. There also seems to be an issue with the television set and the cleanliness of the room. \n"
          ]
        }
      ],
      "source": [
        "question = \"How is the wifi?\"\n",
        "result = rag_pipe.run({\n",
        "    \"embedder\": {\"text\": question},\n",
        "    \"prompt_builder\": {\"question\": question}\n",
        "})\n",
        "\n",
        "print(result[\"llm\"][\"replies\"][0])"
      ]
    },
    {
      "cell_type": "code",
      "execution_count": null,
      "metadata": {
        "colab": {
          "base_uri": "https://localhost:8080/"
        },
        "id": "JFJENrTu-Qei",
        "outputId": "bf8acebf-71f0-4421-f127-eba0ebdb60be"
      },
      "outputs": [
        {
          "name": "stdout",
          "output_type": "stream",
          "text": [
            " Yes, the apartment is located above multiple bars. However the noise levels at night are mentioned as \"ferment(ing) très tard\", so you will want to consider ahead of time whether this might be an issue for you. \n"
          ]
        }
      ],
      "source": [
        "question = \"Are there pubs near by?\"\n",
        "result = rag_pipe.run({\n",
        "    \"embedder\": {\"text\": question},\n",
        "    \"prompt_builder\": {\"question\": question}\n",
        "})\n",
        "\n",
        "print(result[\"llm\"][\"replies\"][0])"
      ]
    }
  ],
  "metadata": {
    "accelerator": "GPU",
    "colab": {
      "gpuType": "T4",
      "provenance": []
    },
    "kernelspec": {
      "display_name": "Python 3",
      "name": "python3"
    },
    "language_info": {
      "name": "python",
      "version": "3.10.13"
    }
  },
  "nbformat": 4,
  "nbformat_minor": 0
}
