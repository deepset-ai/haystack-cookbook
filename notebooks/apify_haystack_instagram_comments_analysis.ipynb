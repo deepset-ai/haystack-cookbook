{
  "cells": [
    {
      "cell_type": "markdown",
      "metadata": {
        "id": "t1BeKtSo7KzI"
      },
      "source": [
        "# Analyze Your Instagram Comments’ Vibe with Apify and Haystack\n",
        "\n",
        "Author: Jiri Spilka ([Apify](https://apify.com/jiri.spilka))  \n",
        "Idea: Bilge Yücel ([deepset.ai](https://github.com/bilgeyucel))\n",
        "\n",
        "Ever wondered if your Instagram posts are truly vibrating among your audience?\n",
        "In this cookbook, we'll show you how to use the [Instagram Comment Scraper](https://apify.com/apify/instagram-comment-scraper) Actor to download comments from your instagram post and analyze them using a large language model. All performed within the Haystack ecosystem using the [apify-haystack](https://github.com/apify/apify-haystack/tree/main) integration.\n",
        "\n",
        "We'll start by using the Actor to download the comments, clean the data with the [DocumentCleaner](https://docs.haystack.deepset.ai/docs/documentcleaner) and then use the [OpenAIGenerator](https://docs.haystack.deepset.ai/docs/openaigenerator) to discover the vibe of the Instagram posts."
      ]
    },
    {
      "cell_type": "markdown",
      "metadata": {
        "id": "-7zY6NIsCj_5"
      },
      "source": [
        "# Install dependencies"
      ]
    },
    {
      "cell_type": "code",
      "execution_count": null,
      "metadata": {
        "colab": {
          "base_uri": "https://localhost:8080/"
        },
        "collapsed": true,
        "id": "r5AJeMOE1Cou",
        "outputId": "63663073-ccc5-4306-ae18-e2720d937407"
      },
      "outputs": [],
      "source": [
        "!pip install apify-haystack==0.1.4 haystack-ai"
      ]
    },
    {
      "cell_type": "markdown",
      "metadata": {
        "id": "h6MmIG9K1HkK"
      },
      "source": [
        "## Set up the API keys\n",
        "\n",
        "You need to have an Apify account and obtain [APIFY_API_TOKEN](https://docs.apify.com/platform/integrations/api).\n",
        "\n",
        "You also need an OpenAI account and [OPENAI_API_KEY](https://platform.openai.com/docs/quickstart)\n"
      ]
    },
    {
      "cell_type": "code",
      "execution_count": 2,
      "metadata": {
        "colab": {
          "base_uri": "https://localhost:8080/"
        },
        "id": "yiUTwYzP36Yr",
        "outputId": "d79acadc-bd18-44d3-c812-9b40c51d5124"
      },
      "outputs": [
        {
          "name": "stdout",
          "output_type": "stream",
          "text": [
            "Enter YOUR APIFY_API_TOKEN··········\n",
            "Enter YOUR OPENAI_API_KEY··········\n"
          ]
        }
      ],
      "source": [
        "import os\n",
        "from getpass import getpass\n",
        "\n",
        "os.environ[\"APIFY_API_TOKEN\"] = getpass(\"Enter YOUR APIFY_API_TOKEN\")\n",
        "os.environ[\"OPENAI_API_KEY\"] = getpass(\"Enter YOUR OPENAI_API_KEY\")"
      ]
    },
    {
      "cell_type": "markdown",
      "metadata": {
        "id": "HQzAujMc505k"
      },
      "source": [
        "## Use the Haystack Pipeline to Orchestrate Instagram Comments Scraper, Comments Cleanup, and Analysis Using LLM\n",
        "\n",
        "Now, let's decide which post to analyze. We can start with these two posts that might reveal some interesting insights:\n",
        "\n",
        "- `@tiffintech` on [How to easily keep up with tech?](https://www.instagram.com/p/C_a9jcRuJZZ/)\n",
        "- `@kamaharishis` on [Affordable Care Act](https://www.instagram.com/p/C_RgBzogufK)\n",
        "\n",
        "We'll download the comments using the Instagram Scraper Actor. But first, we need to understand the output format of the Actor.\n",
        "\n",
        "The output is in the following format:\n",
        "```json\n",
        "[\n",
        "  {\n",
        "    \"text\": \"You've just uncovered the goldmine for me 😍 but I still love your news and updates!\",\n",
        "    \"timestamp\": \"2024-09-02T16:27:09.000Z\",\n",
        "    \"ownerUsername\": \"codingmermaid.ai\",\n",
        "    \"ownerProfilePicUrl\": \"....\",\n",
        "    \"postUrl\": \"https://www.instagram.com/p/C_a9jcRuJZZ/\"\n",
        "  },\n",
        "  {\n",
        "    \"text\": \"Will check it out🙌\",\n",
        "    \"timestamp\": \"2024-09-02T16:29:28.000Z\",\n",
        "    \"ownerUsername\": \"author.parijat\",\n",
        "    \"postUrl\": \"https://www.instagram.com/p/C_a9jcRuJZZ/\"\n",
        "  }\n",
        "]\n",
        "```\n",
        "We will convert this JSON to a Haystack Document using the `dataset_mapping_function` as follows"
      ]
    },
    {
      "cell_type": "code",
      "execution_count": 3,
      "metadata": {
        "id": "OZ0PAVHI_mhn"
      },
      "outputs": [],
      "source": [
        "from haystack import Document\n",
        "\n",
        "def dataset_mapping_function(dataset_item: dict) -> Document:\n",
        "    return Document(content=dataset_item.get(\"text\"), meta={\"ownerUsername\": dataset_item.get(\"ownerUsername\")})"
      ]
    },
    {
      "cell_type": "markdown",
      "metadata": {
        "id": "xtFquWflA5kf"
      },
      "source": [
        "Once we understand the Actor output format and have the `dataset_mapping_function`, we can setup the Haystack component to enable interaction between the Haystack and Apify.\n",
        "\n",
        "First, we need to provide `actor_id`, `dataset_mapping_function` along with input parameters `run_input`.\n",
        "\n",
        "We can define the `run_input` in three ways:  \n",
        "- i) when creating the `ApifyDatasetFromActorCall` class  \n",
        "- ii) as arguments in a pipeline.  \n",
        "- iii) as argumennts to the `run()` function when we calling `ApifyDatasetFromActorCall.run()`   \n",
        "- iv) as a combination of `i)` and `ii)` as shown in this cookbook.\n",
        "\n",
        "For a detailed description of the input parameters, visit the [Instagram Comments Scraper page](https://apify.com/apify/instagram-comment-scraper).\n",
        "\n",
        "Let's setup the `ApifyDatasetFromActorCall`"
      ]
    },
    {
      "cell_type": "code",
      "execution_count": 4,
      "metadata": {
        "id": "SUWXxT4y55lH"
      },
      "outputs": [],
      "source": [
        "from apify_haystack import ApifyDatasetFromActorCall\n",
        "\n",
        "document_loader = ApifyDatasetFromActorCall(\n",
        "    actor_id=\"apify/instagram-comment-scraper\",\n",
        "    run_input={\"resultsLimit\": 50},\n",
        "    dataset_mapping_function=dataset_mapping_function,\n",
        ")"
      ]
    },
    {
      "cell_type": "markdown",
      "metadata": {
        "id": "BxHbPUipjrvS"
      },
      "source": [
        "\n",
        "Next, we'll define a `prompt` for the LLM and connect all the components in the [Pipeline](https://docs.haystack.deepset.ai/docs/pipelines)."
      ]
    },
    {
      "cell_type": "code",
      "execution_count": 5,
      "metadata": {
        "colab": {
          "base_uri": "https://localhost:8080/"
        },
        "id": "gdN7baGrA_lR",
        "outputId": "b73b1217-3082-4da7-c824-b8671eeef78d"
      },
      "outputs": [
        {
          "data": {
            "text/plain": [
              "<haystack.core.pipeline.pipeline.Pipeline object at 0x7b45ef117be0>\n",
              "🚅 Components\n",
              "  - loader: ApifyDatasetFromActorCall\n",
              "  - cleaner: DocumentCleaner\n",
              "  - prompt_builder: PromptBuilder\n",
              "  - llm: OpenAIGenerator\n",
              "🛤️ Connections\n",
              "  - loader.documents -> cleaner.documents (list[Document])\n",
              "  - cleaner.documents -> prompt_builder.documents (List[Document])\n",
              "  - prompt_builder.prompt -> llm.prompt (str)"
            ]
          },
          "execution_count": 5,
          "metadata": {},
          "output_type": "execute_result"
        }
      ],
      "source": [
        "from haystack import Pipeline\n",
        "from haystack.components.builders import PromptBuilder\n",
        "from haystack.components.generators import OpenAIGenerator\n",
        "from haystack.components.preprocessors import DocumentCleaner\n",
        "\n",
        "prompt = \"\"\"\n",
        "Analyze these Instagram comments to determine if the post is generating positive energy, excitement,\n",
        "or high engagement. Focus on sentiment, emotional tone, and engagement patterns to conclude if\n",
        "the post is 'vibrating' with high energy. Be concise.\"\n",
        "\n",
        "Context:\n",
        "{% for document in documents %}\n",
        "    {{ document.content }}\n",
        "{% endfor %}\n",
        "\n",
        "Analysis:\n",
        "\"\"\"\n",
        "\n",
        "cleaner = DocumentCleaner(remove_empty_lines=True, remove_extra_whitespaces=True, remove_repeated_substrings=True)\n",
        "prompt_builder = PromptBuilder(template=prompt)\n",
        "generator = OpenAIGenerator(model=\"gpt-4o-mini\")\n",
        "\n",
        "\n",
        "pipe = Pipeline()\n",
        "pipe.add_component(\"loader\", document_loader)\n",
        "pipe.add_component(\"cleaner\", cleaner)\n",
        "pipe.add_component(\"prompt_builder\", prompt_builder)\n",
        "pipe.add_component(\"llm\", generator)\n",
        "pipe.connect(\"loader\", \"cleaner\")\n",
        "pipe.connect(\"cleaner\", \"prompt_builder\")\n",
        "pipe.connect(\"prompt_builder\", \"llm\")"
      ]
    },
    {
      "cell_type": "markdown",
      "metadata": {
        "id": "GxDNZ7LqAsWV"
      },
      "source": [
        "After that, we can run the pipeline. The execution and analysis will take approximately 30-60 seconds."
      ]
    },
    {
      "cell_type": "code",
      "execution_count": 6,
      "metadata": {
        "colab": {
          "base_uri": "https://localhost:8080/",
          "height": 72
        },
        "id": "qfaWI6BaAko9",
        "outputId": "25e33c1b-f8b9-4b6d-a3d9-0eb54365b820"
      },
      "outputs": [
        {
          "data": {
            "application/vnd.google.colaboratory.intrinsic+json": {
              "type": "string"
            },
            "text/plain": [
              "'Overall, the Instagram comments on the post reflect positive energy, excitement, and high engagement. The use of emojis such as 😂, 😍, 🙌, ❤️, and 🔥 indicate enthusiasm and excitement. Many comments express gratitude, appreciation, and eagerness to explore the resources mentioned in the post. There are also interactions between users tagging each other and discussing their interest in the topic, further increasing engagement. Overall, the post seems to be generating high energy and positive vibes from the audience.'"
            ]
          },
          "execution_count": 6,
          "metadata": {},
          "output_type": "execute_result"
        }
      ],
      "source": [
        "# \\@tiffintech on How to easily keep up with tech?\n",
        "url = \"https://www.instagram.com/p/C_a9jcRuJZZ/\"\n",
        "\n",
        "res = pipe.run({\"loader\": {\"run_input\": {\"directUrls\": [url]}}})\n",
        "res.get(\"llm\", {}).get(\"replies\", [\"No response\"])[0]\n",
        "\n"
      ]
    },
    {
      "cell_type": "markdown",
      "metadata": {
        "id": "jPfgD939E2TW"
      },
      "source": [
        "Now, let's us run the same analysis. This time with the @kamalaharris post"
      ]
    },
    {
      "cell_type": "code",
      "execution_count": 7,
      "metadata": {
        "colab": {
          "base_uri": "https://localhost:8080/",
          "height": 72
        },
        "id": "mCFb8KZOEkpW",
        "outputId": "f6b61f27-59f6-4898-b202-1838f8fd00f2"
      },
      "outputs": [
        {
          "data": {
            "application/vnd.google.colaboratory.intrinsic+json": {
              "type": "string"
            },
            "text/plain": [
              "'The comments on this post are highly polarized, with strong opinions expressed on both sides of the political spectrum. There is a mix of negative and positive sentiment, with some users expressing excitement and support for the current administration (e.g., emojis like 💙💙💙💙, Kamala 👏👏) while others criticize past policies and individuals associated with them (e.g., Trump 2024, lack of education). Overall, the engagement on this post is high, with users actively debating and defending their viewpoints. Despite the divisive nature of the comments, the post is generating a high level of energy and engagement.'"
            ]
          },
          "execution_count": 7,
          "metadata": {},
          "output_type": "execute_result"
        }
      ],
      "source": [
        "# \\@kamalaharris on Affordable Care Act\n",
        "url = \"https://www.instagram.com/p/C_RgBzogufK/\"\n",
        "\n",
        "res = pipe.run({\"loader\": {\"run_input\": {\"directUrls\": [url]}}})\n",
        "res.get(\"llm\", {}).get(\"replies\", [\"No response\"])[0]"
      ]
    },
    {
      "cell_type": "markdown",
      "metadata": {
        "id": "45YxSr6v__fI"
      },
      "source": [
        "The analysis shows that the first post about [How to easily keep up with tech?](https://www.instagram.com/p/C_a9jcRuJZZ/) is vibrating with high energy:\n",
        "\n",
        "*The Instagram comments reveal a strong level of engagement and positive energy. Emojis like 😍, 😂, ❤️, 🙌, and 🔥 are frequently used, indicating excitement and enthusiasm. Commenters express gratitude, excitement, and appreciation for the content. The tone is overwhelmingly positive, supportive, and encouraging, with many users tagging others to share the content. Overall, this post is generating a vibrant and highly engaged response.*\n",
        "\n",
        "However, the post by `@kamalaharris` on the [Affordable Care Act](https://www.instagram.com/p/C_RgBzogufK) is (not surprisingly) sparking a lot of controversy with negative comments.\n",
        "\n",
        "*The comments on this post are generating negative energy but with high engagement. There's a strong focus on political opinions, particularly concerning insurance companies, the Affordable Care Act, Trump, and Biden. Many comments express frustration, criticism, and disagreement, with some users discussing party affiliations or support for specific politicians. There are also mentions of misinformation and conspiracy theories. Engagement is high, with numerous comment threads delving into various political issues. Overall, this post is vibrating with intense energy, driven by political opinions, disagreements, and active discussions.*\n",
        "\n",
        "💡 You might receive slightly different results, as the comments may have changed since the last run"
      ]
    }
  ],
  "metadata": {
    "colab": {
      "provenance": []
    },
    "kernelspec": {
      "display_name": "Python 3",
      "name": "python3"
    },
    "language_info": {
      "name": "python"
    }
  },
  "nbformat": 4,
  "nbformat_minor": 0
}
