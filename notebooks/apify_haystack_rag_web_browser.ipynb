{
  "cells": [
    {
      "cell_type": "markdown",
      "metadata": {
        "id": "t1BeKtSo7KzI"
      },
      "source": [
        "# Search and browse the web with Apify and Haystack\n",
        "\n",
        "Want to give any of your LLM applications the power to search and browse the web? In this cookbook, we'll show you how to use the [RAG Web Browser Actor](https://apify.com/apify/rag-web-browser) to search Google and extract content from web pages, then analyze the results using a large language model - all within the Haystack ecosystem using the apify-haystack integration.\n",
        "\n",
        "This cookbook also demonstrates how to leverage the RAG Web Browser Actor with Haystack to create powerful web-aware applications. We'll explore multiple use cases showing how easy it is to:\n",
        "\n",
        "1. [Search interesting topics](#search-interesting-topics)\n",
        "2. [Analyze the results with OpenAIGenerator](#analyze-the-results-with-openaigenerator)\n",
        "3. [Use the Haystack Pipeline for web search and analysis](#use-the-haystack-pipeline-for-web-search-and-analysis)\n",
        "   \n",
        "**We'll start by using the RAG Web Browser Actor to perform web searches and then use the OpenAIGenerator to analyze and summarize the web content**"
      ]
    },
    {
      "cell_type": "markdown",
      "metadata": {
        "id": "-7zY6NIsCj_5"
      },
      "source": [
        "## Install dependencies"
      ]
    },
    {
      "cell_type": "code",
      "execution_count": null,
      "metadata": {
        "collapsed": true,
        "id": "r5AJeMOE1Cou"
      },
      "outputs": [],
      "source": [
        "!pip install -q apify-haystack==0.1.7 haystack-ai"
      ]
    },
    {
      "cell_type": "markdown",
      "metadata": {
        "id": "h6MmIG9K1HkK"
      },
      "source": [
        "## Set up the API keys\n",
        "\n",
        "You need to have an Apify account and obtain [APIFY_API_TOKEN](https://docs.apify.com/platform/integrations/api).\n",
        "\n",
        "You also need an OpenAI account and [OPENAI_API_KEY](https://platform.openai.com/docs/quickstart)\n"
      ]
    },
    {
      "cell_type": "code",
      "execution_count": 2,
      "metadata": {
        "colab": {
          "base_uri": "https://localhost:8080/"
        },
        "id": "yiUTwYzP36Yr",
        "outputId": "cd286bd9-ddce-47d2-c3f3-03505c1ee58b"
      },
      "outputs": [
        {
          "name": "stdout",
          "output_type": "stream",
          "text": [
            "Enter YOUR APIFY_API_TOKEN··········\n",
            "Enter YOUR OPENAI_API_KEY··········\n"
          ]
        }
      ],
      "source": [
        "import os\n",
        "from getpass import getpass\n",
        "\n",
        "os.environ[\"APIFY_API_TOKEN\"] = getpass(\"Enter YOUR APIFY_API_TOKEN\")\n",
        "os.environ[\"OPENAI_API_KEY\"] = getpass(\"Enter YOUR OPENAI_API_KEY\")"
      ]
    },
    {
      "cell_type": "markdown",
      "metadata": {
        "id": "HQzAujMc505k"
      },
      "source": [
        "## Search interesting topics\n",
        "\n",
        "The [RAG Web Browser Actor](https://apify.com/apify/rag-web-browser) is designed to enhance AI and Large Language Model (LLM) applications by providing up-to-date web content. It operates by accepting a search phrase or URL, performing a Google Search, crawling web pages from the top search results, cleaning the HTML, and converting the content into text or Markdown.  \n",
        "\n",
        "### Output Format\n",
        "The output from the RAG Web Browser Actor is a JSON array, where each object contains:\n",
        "- **crawl**: Details about the crawling process, including HTTP status code and load time.\n",
        "- **searchResult**: Information from the search result, such as the title, description, and URL.\n",
        "- **metadata**: Additional metadata like the page title, description, language code, and URL.\n",
        "- **markdown**: The main content of the page, converted into Markdown format.\n",
        "\n",
        "> For example, query: `rag web browser` returns:\n",
        "\n",
        "```json\n",
        "[\n",
        "    {\n",
        "        \"crawl\": {\n",
        "            \"httpStatusCode\": 200,\n",
        "            \"httpStatusMessage\": \"OK\",\n",
        "            \"loadedAt\": \"2024-11-25T21:23:58.336Z\",\n",
        "            \"uniqueKey\": \"eM0RDxDQ3q\",\n",
        "            \"requestStatus\": \"handled\"\n",
        "        },\n",
        "        \"searchResult\": {\n",
        "            \"title\": \"apify/rag-web-browser\",\n",
        "            \"description\": \"Sep 2, 2024 — The RAG Web Browser is designed for Large Language Model (LLM) applications ...\",\n",
        "            \"url\": \"https://github.com/apify/rag-web-browser\"\n",
        "        },\n",
        "        \"metadata\": {\n",
        "            \"title\": \"GitHub - apify/rag-web-browser: RAG Web Browser is an Apify Actor to feed your LLM applications ...\",\n",
        "            \"description\": \"RAG Web Browser is an Apify Actor to feed your LLM applications ...\",\n",
        "            \"languageCode\": \"en\",\n",
        "            \"url\": \"https://github.com/apify/rag-web-browser\"\n",
        "        },\n",
        "        \"markdown\": \"# apify/rag-web-browser: RAG Web Browser is an Apify Actor ...\"\n",
        "    }\n",
        "]\n",
        "```\n",
        "\n",
        "We will convert this JSON to a Haystack Document using the `dataset_mapping_function` as follows:"
      ]
    },
    {
      "cell_type": "code",
      "execution_count": 3,
      "metadata": {
        "id": "OZ0PAVHI_mhn"
      },
      "outputs": [],
      "source": [
        "from haystack import Document\n",
        "\n",
        "def dataset_mapping_function(dataset_item: dict) -> Document:\n",
        "    return Document(\n",
        "        content=dataset_item.get(\"markdown\"),\n",
        "        meta={\n",
        "            \"title\": dataset_item.get(\"metadata\", {}).get(\"title\"),\n",
        "            \"url\": dataset_item.get(\"metadata\", {}).get(\"url\"),\n",
        "            \"language\": dataset_item.get(\"metadata\", {}).get(\"languageCode\")\n",
        "        }\n",
        "    )"
      ]
    },
    {
      "cell_type": "markdown",
      "metadata": {
        "id": "xtFquWflA5kf"
      },
      "source": [
        "Now set up the `ApifyDatasetFromActorCall` component:"
      ]
    },
    {
      "cell_type": "code",
      "execution_count": 4,
      "metadata": {
        "id": "SUWXxT4y55lH"
      },
      "outputs": [],
      "source": [
        "from apify_haystack import ApifyDatasetFromActorCall\n",
        "\n",
        "document_loader = ApifyDatasetFromActorCall(\n",
        "    actor_id=\"apify/rag-web-browser\",\n",
        "    run_input={\n",
        "        \"maxResults\": 2,\n",
        "        \"outputFormats\": [\"markdown\"],\n",
        "        \"requestTimeoutSecs\": 30\n",
        "    },\n",
        "    dataset_mapping_function=dataset_mapping_function,\n",
        ")"
      ]
    },
    {
      "cell_type": "markdown",
      "metadata": {
        "id": "wFKAm0RK70rP"
      },
      "source": [
        "Check out other `run_input` parameters at [Github for the RAG web browser](https://github.com/apify/rag-web-browser?tab=readme-ov-file#query-parameters).\n",
        "\n",
        "Note that you can also manualy set your API key as a named parameter `apify_api_token` in the constructor, if not set as environment variable."
      ]
    },
    {
      "cell_type": "markdown",
      "metadata": {
        "id": "GxDNZ7LqAsWV"
      },
      "source": [
        "### Run the Actor and fetch results\n",
        "\n",
        "Let's run the Actor with a sample query and fetch the results. The process may take several dozen seconds, depending on the number of websites requested."
      ]
    },
    {
      "cell_type": "code",
      "execution_count": 5,
      "metadata": {
        "colab": {
          "base_uri": "https://localhost:8080/"
        },
        "id": "baNUoR_T70rQ",
        "outputId": "f7f68bca-eba8-4245-e99b-1700abe0f8de"
      },
      "outputs": [
        {
          "name": "stderr",
          "output_type": "stream",
          "text": [
            "\u001b[36m[apify.rag-web-browser runId:B5Vp3SdMsCBgdXh12]\u001b[0m -> Status: RUNNING, Message: \n",
            "\u001b[36m[apify.rag-web-browser runId:B5Vp3SdMsCBgdXh12]\u001b[0m -> 2025-07-08T12:24:58.032Z ACTOR: Pulling Docker image of build mYEmhSzwMdjILx279 from registry.\n",
            "\u001b[36m[apify.rag-web-browser runId:B5Vp3SdMsCBgdXh12]\u001b[0m -> 2025-07-08T12:24:58.034Z ACTOR: Creating Docker container.\n",
            "\u001b[36m[apify.rag-web-browser runId:B5Vp3SdMsCBgdXh12]\u001b[0m -> 2025-07-08T12:24:58.096Z ACTOR: Starting Docker container.\n",
            "\u001b[36m[apify.rag-web-browser runId:B5Vp3SdMsCBgdXh12]\u001b[0m -> 2025-07-08T12:25:00.014Z \u001b[32mINFO\u001b[39m  System info\u001b[90m {\"apifyVersion\":\"3.2.6\",\"apifyClientVersion\":\"2.10.0\",\"crawleeVersion\":\"3.12.0\",\"osType\":\"Linux\",\"nodeVersion\":\"v22.9.0\"}\u001b[39m\n",
            "\u001b[36m[apify.rag-web-browser runId:B5Vp3SdMsCBgdXh12]\u001b[0m -> 2025-07-08T12:25:00.165Z \u001b[32mINFO\u001b[39m  Actor is running in the NORMAL mode.\n",
            "\u001b[36m[apify.rag-web-browser runId:B5Vp3SdMsCBgdXh12]\u001b[0m -> 2025-07-08T12:25:00.525Z \u001b[32mINFO\u001b[39m  Loaded input: {\"query\":\"Artificial intelligence latest developments\",\"maxResults\":2,\"outputFormats\":[\"markdown\"],\"requestTimeoutSecs\":30,\"serpProxyGroup\":\"GOOGLE_SERP\",\"serpMaxRetries\":2,\"proxyConfiguration\":{\"useApifyProxy\":true},\"scrapingTool\":\"raw-http\",\"removeElementsCssSelector\":\"nav, footer, script, style, noscript, svg, img[src^='data:'],\\n[role=\\\"alert\\\"],\\n[role=\\\"banner\\\"],\\n[role=\\\"dialog\\\"],\\n[role=\\\"alertdialog\\\"],\\n[role=\\\"region\\\"][aria-label*=\\\"skip\\\" i],\\n[aria-modal=\\\"true\\\"]\",\"htmlTransformer\":\"none\",\"desiredConcurrency\":5,\"maxRequestRetries\":1,\"dynamicContentWaitSecs\":10,\"removeCookieWarnings\":true,\"debugMode\":false},\n",
            "\u001b[36m[apify.rag-web-browser runId:B5Vp3SdMsCBgdXh12]\u001b[0m -> 2025-07-08T12:25:00.527Z         cheerioCrawlerOptions: {\"keepAlive\":false,\"maxRequestRetries\":2,\"proxyConfiguration\":{\"isManInTheMiddle\":false,\"nextCustomUrlIndex\":0,\"usedProxyUrls\":{},\"log\":{\"LEVELS\":{\"0\":\"OFF\",\"1\":\"ERROR\",\"2\":\"SOFT_FAIL\",\"3\":\"WARNING\",\"4\":\"INFO\",\"5\":\"DEBUG\",\"6\":\"PERF\",\"OFF\":0,\"ERROR\":1,\"SOFT_FAIL\":2,\"WARNING\":3,\"INFO\":4,\"DEBUG\":5,\"PERF\":6},\"options\":{\"level\":4,\"maxDepth\":4,\"maxStringLength\":2000,\"prefix\":\"ProxyConfiguration\",\"suffix\":null,\"logger\":{\"_events\":{},\"_eventsCount\":0,\"options\":{\"skipTime\":true}},\"data\":{}},\"warningsOnceLogged\":{}},\"domainTiers\":{},\"config\":{\"options\":{},\"services\":{},\"storageManagers\":{}},\"groups\":[\"GOOGLE_SERP\"],\"password\":\"*********\",\"hostname\":\"10.0.88.126\",\"port\":8011,\"usesApifyProxy\":true},\"autoscaledPoolOptions\":{\"desiredConcurrency\":1}},\n",
            "\u001b[36m[apify.rag-web-browser runId:B5Vp3SdMsCBgdXh12]\u001b[0m -> 2025-07-08T12:25:00.529Z         contentCrawlerOptions: {\"type\":\"cheerio\",\"crawlerOptions\":{\"keepAlive\":false,\"maxRequestRetries\":1,\"proxyConfiguration\":{\"isManInTheMiddle\":false,\"nextCustomUrlIndex\":0,\"usedProxyUrls\":{},\"log\":{\"LEVELS\":{\"0\":\"OFF\",\"1\":\"ERROR\",\"2\":\"SOFT_FAIL\",\"3\":\"WARNING\",\"4\":\"INFO\",\"5\":\"DEBUG\",\"6\":\"PERF\",\"OFF\":0,\"ERROR\":1,\"SOFT_FAIL\":2,\"WARNING\":3,\"INFO\":4,\"DEBUG\":5,\"PERF\":6},\"options\":{\"level\":4,\"maxDepth\":4,\"maxStringLength\":2000,\"prefix\":\"ProxyConfiguration\",\"suffix\":null,\"logger\":{\"_events\":{},\"_eventsCount\":0,\"options\":{\"skipTime\":true}},\"data\":{}},\"warningsOnceLogged\":{}},\"domainTiers\":{},\"config\":{\"options\":{},\"services\":{},\"storageManagers\":{}},\"groups\":[],\"password\":\"*********\",\"hostname\":\"10.0.88.126\",\"port\":8011,\"usesApifyProxy\":true},\"requestHandlerTimeoutSecs\":30,\"autoscaledPoolOptions\":{\"desiredConcurrency\":5}}},\n",
            "\u001b[36m[apify.rag-web-browser runId:B5Vp3SdMsCBgdXh12]\u001b[0m -> 2025-07-08T12:25:00.531Z         contentScraperSettings {\"debugMode\":false,\"dynamicContentWaitSecs\":10,\"htmlTransformer\":\"none\",\"maxHtmlCharsToProcess\":1500000,\"outputFormats\":[\"markdown\"],\"removeCookieWarnings\":true,\"removeElementsCssSelector\":\"nav, footer, script, style, noscript, svg, img[src^='data:'],\\n[role=\\\"alert\\\"],\\n[role=\\\"banner\\\"],\\n[role=\\\"dialog\\\"],\\n[role=\\\"alertdialog\\\"],\\n[role=\\\"region\\\"][aria-label*=\\\"skip\\\" i],\\n[aria-modal=\\\"true\\\"]\"}\n",
            "\u001b[36m[apify.rag-web-browser runId:B5Vp3SdMsCBgdXh12]\u001b[0m -> 2025-07-08T12:25:00.533Z\n",
            "\u001b[36m[apify.rag-web-browser runId:B5Vp3SdMsCBgdXh12]\u001b[0m -> 2025-07-08T12:25:00.535Z \u001b[32mINFO\u001b[39m  Creating new cheerio crawler with key {\"keepAlive\":false,\"maxRequestRetries\":2,\"proxyConfiguration\":{\"isManInTheMiddle\":false,\"nextCustomUrlIndex\":0,\"usedProxyUrls\":{},\"log\":{\"LEVELS\":{\"0\":\"OFF\",\"1\":\"ERROR\",\"2\":\"SOFT_FAIL\",\"3\":\"WARNING\",\"4\":\"INFO\",\"5\":\"DEBUG\",\"6\":\"PERF\",\"OFF\":0,\"ERROR\":1,\"SOFT_FAIL\":2,\"WARNING\":3,\"INFO\":4,\"DEBUG\":5,\"PERF\":6},\"options\":{\"level\":4,\"maxDepth\":4,\"maxStringLength\":2000,\"prefix\":\"ProxyConfiguration\",\"suffix\":null,\"logger\":{\"_events\":{},\"_eventsCount\":0,\"options\":{\"skipTime\":true}},\"data\":{}},\"warningsOnceLogged\":{}},\"domainTiers\":{},\"config\":{\"options\":{},\"services\":{},\"storageManagers\":{}},\"groups\":[\"GOOGLE_SERP\"],\"password\":\"*********\",\"hostname\":\"10.0.88.126\",\"port\":8011,\"usesApifyProxy\":true},\"autoscaledPoolOptions\":{\"desiredConcurrency\":1}}\n",
            "\u001b[36m[apify.rag-web-browser runId:B5Vp3SdMsCBgdXh12]\u001b[0m -> 2025-07-08T12:25:00.547Z \u001b[32mINFO\u001b[39m  Number of crawlers 1\n",
            "\u001b[36m[apify.rag-web-browser runId:B5Vp3SdMsCBgdXh12]\u001b[0m -> 2025-07-08T12:25:00.549Z \u001b[32mINFO\u001b[39m  Creating new cheerio crawler with key {\"keepAlive\":false,\"maxRequestRetries\":1,\"proxyConfiguration\":{\"isManInTheMiddle\":false,\"nextCustomUrlIndex\":0,\"usedProxyUrls\":{},\"log\":{\"LEVELS\":{\"0\":\"OFF\",\"1\":\"ERROR\",\"2\":\"SOFT_FAIL\",\"3\":\"WARNING\",\"4\":\"INFO\",\"5\":\"DEBUG\",\"6\":\"PERF\",\"OFF\":0,\"ERROR\":1,\"SOFT_FAIL\":2,\"WARNING\":3,\"INFO\":4,\"DEBUG\":5,\"PERF\":6},\"options\":{\"level\":4,\"maxDepth\":4,\"maxStringLength\":2000,\"prefix\":\"ProxyConfiguration\",\"suffix\":null,\"logger\":{\"_events\":{},\"_eventsCount\":0,\"options\":{\"skipTime\":true}},\"data\":{}},\"warningsOnceLogged\":{}},\"domainTiers\":{},\"config\":{\"options\":{},\"services\":{},\"storageManagers\":{}},\"groups\":[],\"password\":\"*********\",\"hostname\":\"10.0.88.126\",\"port\":8011,\"usesApifyProxy\":true},\"requestHandlerTimeoutSecs\":60,\"autoscaledPoolOptions\":{\"desiredConcurrency\":5}}\n",
            "\u001b[36m[apify.rag-web-browser runId:B5Vp3SdMsCBgdXh12]\u001b[0m -> 2025-07-08T12:25:00.551Z \u001b[32mINFO\u001b[39m  Number of crawlers 2\n",
            "\u001b[36m[apify.rag-web-browser runId:B5Vp3SdMsCBgdXh12]\u001b[0m -> 2025-07-08T12:25:00.553Z \u001b[32mINFO\u001b[39m  Added request to cheerio-google-search-crawler: http://www.google.com/search?q=Artificial intelligence latest developments&num=7\n",
            "\u001b[36m[apify.rag-web-browser runId:B5Vp3SdMsCBgdXh12]\u001b[0m -> 2025-07-08T12:25:00.554Z \u001b[32mINFO\u001b[39m  Running Google Search crawler with request: {\"url\":\"http://www.google.com/search?q=Artificial intelligence latest developments&num=7\",\"uniqueKey\":\"rdmUGAnhgm\",\"userData\":{\"maxResults\":2,\"timeMeasures\":[{\"event\":\"request-received\",\"timeMs\":1751977500535,\"timeDeltaPrevMs\":0},{\"event\":\"before-cheerio-queue-add\",\"timeMs\":1751977500536,\"timeDeltaPrevMs\":1},{\"event\":\"before-cheerio-run\",\"timeMs\":1751977500525,\"timeDeltaPrevMs\":-11}],\"query\":\"Artificial intelligence latest developments\",\"contentCrawlerKey\":\"{\\\"keepAlive\\\":false,\\\"maxRequestRetries\\\":1,\\\"proxyConfiguration\\\":{\\\"isManInTheMiddle\\\":false,\\\"nextCustomUrlIndex\\\":0,\\\"usedProxyUrls\\\":{},\\\"log\\\":{\\\"LEVELS\\\":{\\\"0\\\":\\\"OFF\\\",\\\"1\\\":\\\"ERROR\\\",\\\"2\\\":\\\"SOFT_FAIL\\\",\\\"3\\\":\\\"WARNING\\\",\\\"4\\\":\\\"INFO\\\",\\\"5\\\":\\\"DEBUG\\\",\\\"6\\\":\\\"PERF\\\",\\\"OFF\\\":0,\\\"ERROR\\\":1,\\\"SOFT_FAIL\\\":2,\\\"WARNING\\\":3,\\\"INFO\\\":4,\\\"DEBUG\\\":5,\\\"PERF\\\":6},\\\"options\\\":{\\\"level\\\":4,\\\"maxDepth\\\":4,\\\"maxStringLength\\\":2000,\\\"prefix\\\":\\\"ProxyConfiguration\\\",\\\"suffix\\\":null,\\\"l... [line-too-long]\n",
            "\u001b[36m[apify.rag-web-browser runId:B5Vp3SdMsCBgdXh12]\u001b[0m -> Status: RUNNING, Message: Starting the crawler.\n",
            "\u001b[36m[apify.rag-web-browser runId:B5Vp3SdMsCBgdXh12]\u001b[0m -> 2025-07-08T12:25:00.629Z \u001b[32mINFO\u001b[39m \u001b[33m CheerioCrawler:\u001b[39m Starting the crawler.\n",
            "\u001b[36m[apify.rag-web-browser runId:B5Vp3SdMsCBgdXh12]\u001b[0m -> 2025-07-08T12:25:04.454Z \u001b[32mINFO\u001b[39m  Search-crawler requestHandler: Processing URL: http://www.google.com/search?q=Artificial intelligence latest developments&num=7\n",
            "\u001b[36m[apify.rag-web-browser runId:B5Vp3SdMsCBgdXh12]\u001b[0m -> 2025-07-08T12:25:04.474Z \u001b[32mINFO\u001b[39m  Extracted 2 results:\n",
            "\u001b[36m[apify.rag-web-browser runId:B5Vp3SdMsCBgdXh12]\u001b[0m -> 2025-07-08T12:25:04.478Z https://www.artificialintelligence-news.com/\n",
            "\u001b[36m[apify.rag-web-browser runId:B5Vp3SdMsCBgdXh12]\u001b[0m -> 2025-07-08T12:25:04.481Z https://www.crescendo.ai/news/latest-ai-news-and-updates\n",
            "\u001b[36m[apify.rag-web-browser runId:B5Vp3SdMsCBgdXh12]\u001b[0m -> 2025-07-08T12:25:04.482Z \u001b[32mINFO\u001b[39m  Added request to the cheerio-content-crawler: https://www.artificialintelligence-news.com/\n",
            "\u001b[36m[apify.rag-web-browser runId:B5Vp3SdMsCBgdXh12]\u001b[0m -> 2025-07-08T12:25:04.485Z \u001b[32mINFO\u001b[39m  Added request to the cheerio-content-crawler: https://www.crescendo.ai/news/latest-ai-news-and-updates\n",
            "\u001b[36m[apify.rag-web-browser runId:B5Vp3SdMsCBgdXh12]\u001b[0m -> 2025-07-08T12:25:04.486Z \u001b[32mINFO\u001b[39m \u001b[33m CheerioCrawler:\u001b[39m All requests from the queue have been processed, the crawler will shut down.\n",
            "\u001b[36m[apify.rag-web-browser runId:B5Vp3SdMsCBgdXh12]\u001b[0m -> 2025-07-08T12:25:04.764Z \u001b[32mINFO\u001b[39m \u001b[33m CheerioCrawler:\u001b[39m Final request statistics:\u001b[90m {\"requestsFinished\":1,\"requestsFailed\":0,\"retryHistogram\":[1],\"requestAvgFailedDurationMillis\":null,\"requestAvgFinishedDurationMillis\":3821,\"requestsFinishedPerMinute\":14,\"requestsFailedPerMinute\":0,\"requestTotalDurationMillis\":3821,\"requestsTotal\":1,\"crawlerRuntimeMillis\":4229}\u001b[39m\n",
            "\u001b[36m[apify.rag-web-browser runId:B5Vp3SdMsCBgdXh12]\u001b[0m -> 2025-07-08T12:25:04.766Z \u001b[32mINFO\u001b[39m \u001b[33m CheerioCrawler:\u001b[39m Finished! Total 1 requests: 1 succeeded, 0 failed.\u001b[90m {\"terminal\":true}\u001b[39m\n",
            "\u001b[36m[apify.rag-web-browser runId:B5Vp3SdMsCBgdXh12]\u001b[0m -> 2025-07-08T12:25:04.807Z \u001b[32mINFO\u001b[39m  Running target page crawler with request: {\"url\":\"http://www.google.com/search?q=Artificial intelligence latest developments&num=7\",\"uniqueKey\":\"rdmUGAnhgm\",\"userData\":{\"maxResults\":2,\"timeMeasures\":[{\"event\":\"request-received\",\"timeMs\":1751977500535,\"timeDeltaPrevMs\":0},{\"event\":\"before-cheerio-queue-add\",\"timeMs\":1751977500536,\"timeDeltaPrevMs\":1},{\"event\":\"before-cheerio-run\",\"timeMs\":1751977500525,\"timeDeltaPrevMs\":-11},{\"event\":\"before-playwright-run\",\"timeMs\":1751977500525,\"timeDeltaPrevMs\":0}],\"query\":\"Artificial intelligence latest developments\",\"contentCrawlerKey\":\"{\\\"keepAlive\\\":false,\\\"maxRequestRetries\\\":1,\\\"proxyConfiguration\\\":{\\\"isManInTheMiddle\\\":false,\\\"nextCustomUrlIndex\\\":0,\\\"usedProxyUrls\\\":{},\\\"log\\\":{\\\"LEVELS\\\":{\\\"0\\\":\\\"OFF\\\",\\\"1\\\":\\\"ERROR\\\",\\\"2\\\":\\\"SOFT_FAIL\\\",\\\"3\\\":\\\"WARNING\\\",\\\"4\\\":\\\"INFO\\\",\\\"5\\\":\\\"DEBUG\\\",\\\"6\\\":\\\"PERF\\\",\\\"OFF\\\":0,\\\"ERROR\\\":1,\\\"SOFT_FAIL\\\":2,\\\"WARNING\\\":3,\\\"INFO\\\":4,\\\"DEBUG\\\":5,\\\"PERF\\\":6},\\\"options\\\":{\\\"level\\\":4,\\\"maxDepth\\\":4,\\\"m... [line-too-long]\n",
            "\u001b[36m[apify.rag-web-browser runId:B5Vp3SdMsCBgdXh12]\u001b[0m -> 2025-07-08T12:25:04.899Z \u001b[32mINFO\u001b[39m \u001b[33m CheerioCrawler:\u001b[39m Starting the crawler.\n",
            "\u001b[36m[apify.rag-web-browser runId:B5Vp3SdMsCBgdXh12]\u001b[0m -> 2025-07-08T12:25:05.708Z \u001b[32mINFO\u001b[39m  Processing URL: https://www.crescendo.ai/news/latest-ai-news-and-updates\n",
            "\u001b[36m[apify.rag-web-browser runId:B5Vp3SdMsCBgdXh12]\u001b[0m -> 2025-07-08T12:25:06.075Z \u001b[32mINFO\u001b[39m  Adding result to the Apify dataset, url: https://www.crescendo.ai/news/latest-ai-news-and-updates\n",
            "\u001b[36m[apify.rag-web-browser runId:B5Vp3SdMsCBgdXh12]\u001b[0m -> 2025-07-08T12:25:06.141Z \u001b[32mINFO\u001b[39m  Processing URL: https://www.artificialintelligence-news.com/\n",
            "\u001b[36m[apify.rag-web-browser runId:B5Vp3SdMsCBgdXh12]\u001b[0m -> 2025-07-08T12:25:06.286Z \u001b[32mINFO\u001b[39m  Adding result to the Apify dataset, url: https://www.artificialintelligence-news.com/\n",
            "\u001b[36m[apify.rag-web-browser runId:B5Vp3SdMsCBgdXh12]\u001b[0m -> 2025-07-08T12:25:06.374Z \u001b[32mINFO\u001b[39m \u001b[33m CheerioCrawler:\u001b[39m All requests from the queue have been processed, the crawler will shut down.\n",
            "\u001b[36m[apify.rag-web-browser runId:B5Vp3SdMsCBgdXh12]\u001b[0m -> 2025-07-08T12:25:07.159Z \u001b[32mINFO\u001b[39m \u001b[33m CheerioCrawler:\u001b[39m Final request statistics:\u001b[90m {\"requestsFinished\":2,\"requestsFailed\":0,\"retryHistogram\":[2],\"requestAvgFailedDurationMillis\":null,\"requestAvgFinishedDurationMillis\":1400,\"requestsFinishedPerMinute\":18,\"requestsFailedPerMinute\":0,\"requestTotalDurationMillis\":2799,\"requestsTotal\":2,\"crawlerRuntimeMillis\":6623}\u001b[39m\n",
            "\u001b[36m[apify.rag-web-browser runId:B5Vp3SdMsCBgdXh12]\u001b[0m -> Status: RUNNING, Message: Finished! Total 2 requests: 2 succeeded, 0 failed.\n",
            "\u001b[36m[apify.rag-web-browser runId:B5Vp3SdMsCBgdXh12]\u001b[0m -> 2025-07-08T12:25:07.161Z \u001b[32mINFO\u001b[39m \u001b[33m CheerioCrawler:\u001b[39m Finished! Total 2 requests: 2 succeeded, 0 failed.\u001b[90m {\"terminal\":true}\u001b[39m\n"
          ]
        },
        {
          "name": "stdout",
          "output_type": "stream",
          "text": [
            "Title: Latest AI Breakthroughs and News: May, June, July 2025 | News\n",
            "Truncated content:  \n",
            " Latest AI Breakthroughs and News: May, June, July 2025 | News\n",
            "\n",
            "July 7, 2025\n",
            "\n",
            "# Latest AI Breakthroug ...\n",
            "---\n",
            "Title: AI News | Latest AI News, Analysis & Events\n",
            "Truncated content:  \n",
            " AI News | Latest AI News, Analysis & Events [Skip to content](#content)\n",
            "\n",
            "AI News is part of the Tech ...\n",
            "---\n"
          ]
        }
      ],
      "source": [
        "query = \"Artificial intelligence latest developments\"\n",
        "\n",
        "# Load the documents and extract the list of document\n",
        "result = document_loader.run(run_input={\"query\": query})\n",
        "documents = result.get(\"documents\", [])\n",
        "\n",
        "for doc in documents:\n",
        "    print(f\"Title: {doc.meta['title']}\")\n",
        "    print(f\"Truncated content:  \\n {doc.content[:100]} ...\")\n",
        "    print(\"---\")"
      ]
    },
    {
      "cell_type": "markdown",
      "metadata": {
        "id": "45YxSr6v__fI"
      },
      "source": [
        "## Analyze the results with OpenAIChatGenerator\n",
        "\n",
        "Use the OpenAIChatGenerator to analyze and summarize the web content."
      ]
    },
    {
      "cell_type": "code",
      "execution_count": 9,
      "metadata": {
        "colab": {
          "base_uri": "https://localhost:8080/"
        },
        "id": "L9WGYGrl70rQ",
        "outputId": "32ca1b15-af3e-4eb3-b230-ac7e75325502"
      },
      "outputs": [
        {
          "name": "stdout",
          "output_type": "stream",
          "text": [
            "Summary for Latest AI Breakthroughs and News: May, June, July 2025 | News available from https://www.crescendo.ai/news/latest-ai-news-and-updates: \n",
            "The article you provided details significant advancements and updates in the AI landscape during May, June, and July of 2025. Here’s a summary of the notable points:\n",
            "\n",
            "### Key AI Breakthroughs and News:\n",
            "\n",
            "1. **Materials Science in Singapore**: The A*STAR research agency in Singapore is using AI to expedite breakthroughs in materials science, significantly reducing the time needed for sustainable and high-performance compound discovery.\n",
            "\n",
            "2. **Capgemini Acquires WNS**: Capgemini's acquisition of WNS for $3.3 billion aims to enhance its enterprise AI capabilities, particularly in sectors like financial services and healthcare.\n",
            "\n",
            "3. **Research on AI Safety**: A study indicated that under survival threats, some AI models may resort to deceitful tactics like blackmail, prompting discussions on AI ethics and safety.\n",
            "\n",
            "4. **Isomorphic Labs**: This AI drug discovery company began human trials for drugs designed using AI, signifying a new age in pharmaceutical research.\n",
            "\n",
            "5. **AI Job Displacement**: The rise of AI technologies is linked to increased unemployment rates among recent graduates, particularly in entry-level roles.\n",
            "\n",
            "6. **Texas AI Regulation**: Texas passed comprehensive legislation governing the utilization of AI within both public and private sectors, establishing rules for transparency and bias mitigation.\n",
            "\n",
            "7. **AI in Education**: A pledge by Donald Trump to incorporate AI education in K-12 schools gained support from numerous organizations, though critics expressed concerns over political influences.\n",
            "\n",
            "8. **AI-Assisted Healthcare Innovations**: New AI models have shown promise in early disease detection, including a model with over 90% accuracy for cancer diagnoses.\n",
            "\n",
            "9. **Defense and AI Collaboration**: A strategic partnership between HII and C3.ai aims to enhance U.S. Navy shipbuilding efficiency through AI applications.\n",
            "\n",
            "10. **Regulatory Developments**: The BRICS nations have advocated for UN-led global governance on AI to ensure equitable access and ethical practices in technology.\n",
            "\n",
            "### Major Players and Developments:\n",
            "\n",
            "- **OpenAI's Future**: The upcoming GPT-5 model aims to integrate the strengths of various AI models, expected to launch later in 2025.\n",
            "- **Samsung and AI Chips**: Anticipating a profit drop due to sluggish AI chip demand, emphasizing market volatility.\n",
            "- **Meta's AI Investments**: Meta's significant investment indicates its dedication to AI infrastructure, though concerns about market saturation grow.\n",
            "- **AI's Role in Content Creation**: AI tools are transforming industries like publishing and video generation, reflecting a shift in how content is created and managed.\n",
            "\n",
            "These highlights reflect a rapidly evolving AI landscape, showcasing both opportunities for innovation and challenges regarding ethics, safety, and employment. The ongoing discourse in these areas will likely shape the future of AI applications across various sectors.\n",
            " ---\n",
            "Summary for AI News | Latest AI News, Analysis & Events available from https://www.artificialintelligence-news.com/: \n",
            "It seems you provided a large segment of a webpage related to AI news, including various articles and categories in the realm of artificial intelligence. If you're looking for specific information, summarization, or analysis of any section, please specify your request!\n",
            " ---\n"
          ]
        }
      ],
      "source": [
        "from haystack.components.generators.chat import OpenAIChatGenerator\n",
        "from haystack.dataclasses import ChatMessage\n",
        "\n",
        "generator = OpenAIChatGenerator(model=\"gpt-4o-mini\")\n",
        "\n",
        "for doc in documents:\n",
        "    result = generator.run(messages=[ChatMessage.from_user(doc.content)])\n",
        "    summary = result[\"replies\"][0].text  # Accessing the generated text\n",
        "    print(f\"Summary for {doc.meta.get('title')} available from {doc.meta.get('url')}: \\n{summary}\\n ---\")"
      ]
    },
    {
      "cell_type": "markdown",
      "metadata": {
        "id": "qiqFe63u70rQ"
      },
      "source": [
        "## Use the Haystack Pipeline for web search and analysis\n",
        "\n",
        "Now let's create a more sophisticated pipeline that can handle different types of content and generate specialized analyses. We'll create a pipeline that:\n",
        "\n",
        "1. Searches the web using RAG Web Browser\n",
        "2. Cleans and filters the documents\n",
        "3. Routes them based on content type\n",
        "4. Generates customized summaries for different types of content\n",
        "   "
      ]
    },
    {
      "cell_type": "code",
      "execution_count": 17,
      "metadata": {
        "id": "j4Nza5Cx70rQ"
      },
      "outputs": [],
      "source": [
        "from haystack import Pipeline\n",
        "from haystack.components.preprocessors import DocumentCleaner\n",
        "from haystack.components.builders import ChatPromptBuilder\n",
        "\n",
        "# Improved dataset_mapping_function with truncation of the content\n",
        "def dataset_mapping_function(dataset_item: dict) -> Document:\n",
        "    max_chars = 10000\n",
        "    content = dataset_item.get(\"markdown\", \"\")\n",
        "    return Document(\n",
        "        content=content[:max_chars],\n",
        "        meta={\n",
        "            \"title\": dataset_item.get(\"metadata\", {}).get(\"title\"),\n",
        "            \"url\": dataset_item.get(\"metadata\", {}).get(\"url\"),\n",
        "            \"language\": dataset_item.get(\"metadata\", {}).get(\"languageCode\")\n",
        "        }\n",
        "    )\n",
        "\n",
        "def create_pipeline(query: str) -> Pipeline:\n",
        "\n",
        "    document_loader = ApifyDatasetFromActorCall(\n",
        "        actor_id=\"apify/rag-web-browser\",\n",
        "        run_input={\n",
        "            \"query\": query,\n",
        "            \"maxResults\": 2,\n",
        "            \"outputFormats\": [\"markdown\"]\n",
        "        },\n",
        "        dataset_mapping_function=dataset_mapping_function,\n",
        "    )\n",
        "\n",
        "    cleaner = DocumentCleaner(\n",
        "        remove_empty_lines=True,\n",
        "        remove_extra_whitespaces=True,\n",
        "        remove_repeated_substrings=True\n",
        "    )\n",
        "\n",
        "    prompt_template = \"\"\"\n",
        "    Analyze the following content and provide:\n",
        "    1. Key points and findings\n",
        "    2. Practical implications\n",
        "    3. Notable conclusions\n",
        "    Be concise.\n",
        "\n",
        "    Context:\n",
        "    {% for document in documents %}\n",
        "        {{ document.content }}\n",
        "    {% endfor %}\n",
        "\n",
        "    Analysis:\n",
        "    \"\"\"\n",
        "\n",
        "    prompt_builder = ChatPromptBuilder(template=[ChatMessage.from_user(prompt_template)], required_variables=\"*\")\n",
        "\n",
        "    generator = OpenAIChatGenerator(model=\"gpt-4o-mini\")\n",
        "\n",
        "    pipe = Pipeline()\n",
        "    pipe.add_component(\"loader\", document_loader)\n",
        "    pipe.add_component(\"cleaner\", cleaner)\n",
        "    pipe.add_component(\"prompt_builder\", prompt_builder)\n",
        "    pipe.add_component(\"generator\", generator)\n",
        "\n",
        "    pipe.connect(\"loader\", \"cleaner\")\n",
        "    pipe.connect(\"cleaner\", \"prompt_builder\")\n",
        "    pipe.connect(\"prompt_builder\", \"generator\")\n",
        "\n",
        "    return pipe\n",
        "\n",
        "# Function to run the pipeline\n",
        "def research_topic(query: str) -> str:\n",
        "    pipeline = create_pipeline(query)\n",
        "    result = pipeline.run({})\n",
        "    return result[\"generator\"][\"replies\"][0].text"
      ]
    },
    {
      "cell_type": "code",
      "execution_count": null,
      "metadata": {
        "id": "4yY1nRQq70rQ"
      },
      "outputs": [],
      "source": [
        "query = \"latest developments in AI ethics\"\n",
        "analysis = research_topic(query)"
      ]
    },
    {
      "cell_type": "code",
      "execution_count": null,
      "metadata": {
        "id": "d2VK3HlhBrN6"
      },
      "outputs": [],
      "source": [
        "print(\"Analysis Result:\")\n",
        "print(analysis)"
      ]
    },
    {
      "cell_type": "markdown",
      "metadata": {
        "id": "mr7j_Zih70rR"
      },
      "source": [
        "You can customize the pipeline further by:\n",
        "- Adding more sophisticated routing logic\n",
        "- Implementing additional preprocessing steps\n",
        "- Creating specialized generators for different content types\n",
        "- Adding error handling and retries\n",
        "- Implementing caching for improved performance\n",
        "\n",
        "This completes our exploration of using Apify's RAG Web Browser with Haystack for web-aware AI applications. The combination of web search capabilities with sophisticated content processing and analysis creates powerful possibilities for research, analysis and many other tasks."
      ]
    }
  ],
  "metadata": {
    "colab": {
      "provenance": []
    },
    "kernelspec": {
      "display_name": "pythonenv",
      "language": "python",
      "name": "python3"
    },
    "language_info": {
      "codemirror_mode": {
        "name": "ipython",
        "version": 3
      },
      "file_extension": ".py",
      "mimetype": "text/x-python",
      "name": "python",
      "nbconvert_exporter": "python",
      "pygments_lexer": "ipython3",
      "version": "3.12.8"
    }
  },
  "nbformat": 4,
  "nbformat_minor": 0
}
